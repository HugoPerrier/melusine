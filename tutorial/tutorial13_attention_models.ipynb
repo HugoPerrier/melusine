{
 "cells": [
  {
   "cell_type": "markdown",
   "metadata": {},
   "source": [
    "# Comparison of the various model architectures tutorial"
   ]
  },
  {
   "cell_type": "markdown",
   "metadata": {},
   "source": [
    "In the NeuralModel class, we propose several standard neural architectures for text classification. In particular, we include the well known `bert` architecture that usually allows for a significant improvement in NLP tasks.\n",
    "\n",
    "* `RNN` are widely used for text processing.\n",
    "* `CNN` or Convolutional Neural Networks are usually used for image classification tasks but give excellent results, comparable to the `RNN`, in our case.\n",
    "* `Attentive` Neural Networks emerged recently for text processing and shows extremely promissing results. We therefore decided to include such models as part of Melusine and ease their used for email processing. We propose both an original attentive-based classifier as well as a wrap-up for a standard `Bert classifier`.\n",
    "\n",
    "All our architectures follow the same general pattern: the email and header texts are embedded using one of the encoder listed above. The text vector is concatenated with a vector built using the email meta data (hour, email domain, email attachement ...)\n",
    "\n",
    "In this tutorial we compare the different models' characteristics such as inference & training time, precision and architecture."
   ]
  },
  {
   "cell_type": "markdown",
   "metadata": {},
   "source": [
    "## Dataset preparation\n",
    "\n",
    "The dataset preparation is developped in **tutorial 07: models**."
   ]
  },
  {
   "cell_type": "code",
   "execution_count": 2,
   "metadata": {},
   "outputs": [],
   "source": [
    "import os\n",
    "os.environ[\"CUDA_DEVICE_ORDER\"]=\"PCI_BUS_ID\";\n",
    "\n",
    "# The GPU id to use, usually either \"0\" or \"1\", or \"\" to use CPU;\n",
    "os.environ[\"CUDA_VISIBLE_DEVICES\"]=\"\";"
   ]
  },
  {
   "cell_type": "code",
   "execution_count": 9,
   "metadata": {},
   "outputs": [],
   "source": [
    "# load inputs\n",
    "import numpy as np\n",
    "import pandas as pd\n",
    "from copy import deepcopy\n",
    "from sklearn.preprocessing import LabelEncoder\n",
    "\n",
    "from melusine import load_email_data\n",
    "\n",
    "# Text input \n",
    "df_emails_preprocessed = load_email_data(type=\"preprocessed\")\n",
    "df_emails_preprocessed['clean_text'] = df_emails_preprocessed['clean_header'] + \" \" + df_emails_preprocessed['clean_body']\n",
    "\n",
    "# Metadata input\n",
    "df_meta = pd.read_csv('/home/78169t/melusine/melusine/data/metadata.csv', encoding='utf-8', sep=';')\n",
    "\n",
    "# Dataset\n",
    "X = pd.concat([df_emails_preprocessed['clean_text'],df_meta],axis=1)\n",
    "y = df_emails_preprocessed['label']\n",
    "le = LabelEncoder()\n",
    "y = le.fit_transform(y)"
   ]
  },
  {
   "cell_type": "code",
   "execution_count": 10,
   "metadata": {},
   "outputs": [
    {
     "name": "stderr",
     "output_type": "stream",
     "text": [
      "/home/78169t/.local/lib/python3.7/site-packages/gensim/similarities/__init__.py:15: UserWarning: The gensim.similarities.levenshtein submodule is disabled, because the optional Levenshtein package <https://pypi.org/project/python-Levenshtein/> is unavailable. Install Levenhstein (e.g. `pip install python-Levenshtein`) to suppress this warning.\n",
      "  warnings.warn(msg)\n"
     ]
    }
   ],
   "source": [
    "from melusine.nlp_tools.embedding import Embedding\n",
    "\n",
    "pretrained_embedding = Embedding(\n",
    "    tokens_column='tokens',\n",
    "    workers=1,\n",
    "    min_count=5\n",
    ")\n",
    "\n",
    "pretrained_embedding.train(df_emails_preprocessed) "
   ]
  },
  {
   "cell_type": "markdown",
   "metadata": {},
   "source": [
    "## Models"
   ]
  },
  {
   "cell_type": "code",
   "execution_count": 11,
   "metadata": {},
   "outputs": [
    {
     "name": "stderr",
     "output_type": "stream",
     "text": [
      "2022-03-29 11:41:25.234125: W tensorflow/stream_executor/platform/default/dso_loader.cc:64] Could not load dynamic library 'libcudart.so.11.0'; dlerror: libcudart.so.11.0: cannot open shared object file: No such file or directory\n",
      "2022-03-29 11:41:25.234177: I tensorflow/stream_executor/cuda/cudart_stub.cc:29] Ignore above cudart dlerror if you do not have a GPU set up on your machine.\n"
     ]
    }
   ],
   "source": [
    "import tensorflow.keras.backend as K\n",
    "import time\n",
    "from melusine.models.train import NeuralModel\n",
    "from melusine.models.neural_architectures import cnn_model, rnn_model, transformers_model, bert_model\n",
    "\n",
    "from sklearn.metrics import accuracy_score, classification_report"
   ]
  },
  {
   "cell_type": "code",
   "execution_count": 13,
   "metadata": {},
   "outputs": [],
   "source": [
    "#!pip install psutil\n",
    "import psutil"
   ]
  },
  {
   "cell_type": "code",
   "execution_count": 14,
   "metadata": {},
   "outputs": [],
   "source": [
    "def get_available_memory():\n",
    "    return psutil.virtual_memory()._asdict()['available']"
   ]
  },
  {
   "cell_type": "markdown",
   "metadata": {},
   "source": [
    "### RNN\n",
    "\n",
    "`RNN` are traditionally used with textual data as they are specifically designed to handle sequentially structured data. Inputs are sequentially computed given a cell operation, generally a `LSTM` or `GRU` cell. At each step, the current input as well as the output from the previous step are used to compute the next hidden state. The proposed architecture includes a 2-layers bidirectional `GRU` network. The network last hidden state is used as the final sentence embedding.\n",
    "\n",
    "<img src=\"./images/rnn-model.png\" style=\"width:500px\">"
   ]
  },
  {
   "cell_type": "code",
   "execution_count": 15,
   "metadata": {},
   "outputs": [
    {
     "name": "stderr",
     "output_type": "stream",
     "text": [
      "2022-03-29 11:43:33.476843: E tensorflow/stream_executor/cuda/cuda_driver.cc:271] failed call to cuInit: CUDA_ERROR_NO_DEVICE: no CUDA-capable device is detected\n",
      "2022-03-29 11:43:33.476910: I tensorflow/stream_executor/cuda/cuda_diagnostics.cc:169] retrieving CUDA diagnostic information for host: slhdg002\n",
      "2022-03-29 11:43:33.477977: I tensorflow/stream_executor/cuda/cuda_diagnostics.cc:176] hostname: slhdg002\n",
      "2022-03-29 11:43:33.478081: I tensorflow/stream_executor/cuda/cuda_diagnostics.cc:200] libcuda reported version is: 418.87.1\n",
      "2022-03-29 11:43:33.478147: I tensorflow/stream_executor/cuda/cuda_diagnostics.cc:204] kernel reported version is: 418.87.1\n",
      "2022-03-29 11:43:33.478158: I tensorflow/stream_executor/cuda/cuda_diagnostics.cc:310] kernel version seems to match DSO: 418.87.1\n",
      "2022-03-29 11:43:33.478446: I tensorflow/core/platform/cpu_feature_guard.cc:151] This TensorFlow binary is optimized with oneAPI Deep Neural Network Library (oneDNN) to use the following CPU instructions in performance-critical operations:  AVX2 FMA\n",
      "To enable them in other operations, rebuild TensorFlow with the appropriate compiler flags.\n"
     ]
    },
    {
     "name": "stdout",
     "output_type": "stream",
     "text": [
      "1/1 [==============================] - 8s 8s/step - loss: 2.3979 - accuracy: 0.0250\n",
      "RNN is using 308.0 Mb memory (RAM).\n"
     ]
    }
   ],
   "source": [
    "memory_start = get_available_memory()\n",
    "RNN_model = NeuralModel(architecture_function=rnn_model,\n",
    "                        pretrained_embedding=pretrained_embedding,\n",
    "                        text_input_column=\"clean_text\",\n",
    "                        meta_input_list=['extension', 'dayofweek', 'hour', 'min','attachment_type'],\n",
    "                        n_epochs=1)\n",
    "training_start = time.time()\n",
    "RNN_model.fit(X, y)\n",
    "training_end = time.time()\n",
    "RNN_memory = memory_start - get_available_memory()\n",
    "RNN_memory = round(RNN_memory / 1e9 * 1024 , 1)\n",
    "print('RNN is using {} Mb memory (RAM).'.format(str(RNN_memory)))"
   ]
  },
  {
   "cell_type": "code",
   "execution_count": 16,
   "metadata": {},
   "outputs": [
    {
     "data": {
      "text/plain": [
       "(346851, 0, 8.93)"
      ]
     },
     "execution_count": 16,
     "metadata": {},
     "output_type": "execute_result"
    }
   ],
   "source": [
    "RNN_N_trainable_parameters = int(np.sum([K.count_params(p) for p in RNN_model.model.trainable_weights]))\n",
    "RNN_N_non_trainable_parameters = int(np.sum([K.count_params(p) for p in RNN_model.model.non_trainable_weights]))\n",
    "RNN_training_time = round(training_end - training_start, 2)\n",
    "RNN_N_trainable_parameters, RNN_N_non_trainable_parameters, RNN_training_time"
   ]
  },
  {
   "cell_type": "code",
   "execution_count": 17,
   "metadata": {},
   "outputs": [],
   "source": [
    "y_res = []\n",
    "inference_start = time.time()\n",
    "for i in range(X.shape[0]):\n",
    "    X_copy = deepcopy(X.loc[i:i, :])\n",
    "    y_res.append(RNN_model.predict(X_copy))\n",
    "y_res = le.inverse_transform(np.ravel(y_res))\n",
    "inference_end = time.time()\n",
    "RNN_inference_time = round((inference_end - inference_start)/len(y_res) * 1000, 2)\n",
    "RNN_accuracy = accuracy_score(y_res, le.inverse_transform(y))\n",
    "RNN_cls_report = classification_report(le.inverse_transform(y), y_res, output_dict=True, zero_division=0)"
   ]
  },
  {
   "cell_type": "markdown",
   "metadata": {},
   "source": [
    "### CNN\n",
    "\n",
    "`CNN` uses multiple filters to discriminate patterns in data. Such filters are assembled across the hidden layers to build more complex patterns and structures. The last layer should therefore capture a global and generic representation of the data. In our architecture, we use a two hidden layers `CNN` with respectively 200 filters for each hidden layer. The last hidden states are aggregated using a max pooling operation.\n",
    "\n",
    "<img src=\"./images/cnn-model.png\" style=\"width:500px\">"
   ]
  },
  {
   "cell_type": "code",
   "execution_count": 18,
   "metadata": {},
   "outputs": [
    {
     "name": "stdout",
     "output_type": "stream",
     "text": [
      "1/1 [==============================] - 1s 1s/step - loss: 2.3947 - accuracy: 0.1000\n",
      "CNN is using 66.9 Mb memory (RAM).\n"
     ]
    }
   ],
   "source": [
    "memory_start = get_available_memory()\n",
    "CNN_model = NeuralModel(architecture_function=cnn_model,\n",
    "                        pretrained_embedding=pretrained_embedding,\n",
    "                        text_input_column=\"clean_text\",\n",
    "                        meta_input_list=['extension', 'dayofweek', 'hour', 'min', 'attachment_type'],\n",
    "                        n_epochs=1)\n",
    "training_start = time.time()\n",
    "CNN_model.fit(X, y)\n",
    "training_end = time.time()\n",
    "CNN_memory = memory_start - get_available_memory()\n",
    "CNN_memory = round(CNN_memory / 1e9 * 1024 , 1)\n",
    "print('CNN is using {} Mb memory (RAM).'.format(str(CNN_memory)))"
   ]
  },
  {
   "cell_type": "code",
   "execution_count": 19,
   "metadata": {},
   "outputs": [
    {
     "data": {
      "text/plain": [
       "(378961, 400, 1.43)"
      ]
     },
     "execution_count": 19,
     "metadata": {},
     "output_type": "execute_result"
    }
   ],
   "source": [
    "CNN_N_trainable_parameters = int(np.sum([K.count_params(p) for p in CNN_model.model.trainable_weights]))\n",
    "CNN_N_non_trainable_parameters = int(np.sum([K.count_params(p) for p in CNN_model.model.non_trainable_weights]))\n",
    "CNN_training_time =  round(training_end - training_start, 2)\n",
    "CNN_N_trainable_parameters, CNN_N_non_trainable_parameters, CNN_training_time"
   ]
  },
  {
   "cell_type": "code",
   "execution_count": 20,
   "metadata": {},
   "outputs": [],
   "source": [
    "y_res = []\n",
    "inference_start = time.time()\n",
    "for i in range(X.shape[0]):\n",
    "    X_copy = deepcopy(X.loc[i:i, :])\n",
    "    y_res.append(CNN_model.predict(X_copy))\n",
    "y_res = le.inverse_transform(np.ravel(y_res))\n",
    "inference_end = time.time()\n",
    "CNN_inference_time = round((inference_end - inference_start)/len(y_res) * 1000, 2)\n",
    "CNN_accuracy = accuracy_score(y_res, le.inverse_transform(y))\n",
    "CNN_cls_report = classification_report(le.inverse_transform(y), y_res, output_dict=True, zero_division=0)"
   ]
  },
  {
   "cell_type": "markdown",
   "metadata": {},
   "source": [
    "### Transformer\n",
    "\n",
    "#### Multi-heads Attention Classifier\n",
    "\n",
    "Attentive-based neural networks are fairly new in the NLP community but results are extremely promising. They rely on the self-attention operation which computes hidden states as a weighted sum from the inputs. As the multiple filters in the `CNN` architecture, the multi-branch attention aggregate multiple attention operation to capture various properties from the input. Such operation is easily perform on GPU infrastructure. We propose an architecture inspired from previously introduced RNN and CNN architecture with a two layers multi-branch attention module follow by a max pooling operation.\n",
    "\n",
    "<img src=\"./images/transformer-model.png\" style=\"width:500px\">"
   ]
  },
  {
   "cell_type": "code",
   "execution_count": 21,
   "metadata": {},
   "outputs": [
    {
     "name": "stdout",
     "output_type": "stream",
     "text": [
      "1/1 [==============================] - 4s 4s/step - loss: 3.3700 - accuracy: 0.0750\n",
      "Transformer is using 227.0 Mb memory (RAM).\n"
     ]
    }
   ],
   "source": [
    "memory_start = get_available_memory()\n",
    "Transformer_model = NeuralModel(architecture_function=transformers_model,\n",
    "                                pretrained_embedding=pretrained_embedding,\n",
    "                                text_input_column=\"clean_text\",\n",
    "                                meta_input_list=['extension', 'dayofweek', 'hour', 'min', 'attachment_type'],\n",
    "                                n_epochs=1)\n",
    "training_start = time.time()\n",
    "Transformer_model.fit(X, y)\n",
    "training_end = time.time()\n",
    "Transformer_memory = memory_start - get_available_memory()\n",
    "Transformer_memory = round(Transformer_memory / 1e9 * 1024 , 1)\n",
    "print('Transformer is using {} Mb memory (RAM).'.format(str(Transformer_memory)))"
   ]
  },
  {
   "cell_type": "code",
   "execution_count": 22,
   "metadata": {},
   "outputs": [
    {
     "data": {
      "text/plain": [
       "(1182561, 6900, 4.58)"
      ]
     },
     "execution_count": 22,
     "metadata": {},
     "output_type": "execute_result"
    }
   ],
   "source": [
    "Transformer_N_trainable_parameters = int(np.sum([K.count_params(p) for p in Transformer_model.model.trainable_weights]))\n",
    "Transformer_N_non_trainable_parameters = int(np.sum([K.count_params(p) for p in Transformer_model.model.non_trainable_weights]))\n",
    "Transformer_training_time =  round(training_end - training_start, 2)\n",
    "Transformer_N_trainable_parameters, Transformer_N_non_trainable_parameters, Transformer_training_time"
   ]
  },
  {
   "cell_type": "code",
   "execution_count": 23,
   "metadata": {},
   "outputs": [],
   "source": [
    "y_res = []\n",
    "inference_start = time.time()\n",
    "for i in range(X.shape[0]):\n",
    "    X_copy = deepcopy(X.loc[i:i, :])\n",
    "    y_res.append(Transformer_model.predict(X_copy))\n",
    "y_res = le.inverse_transform(np.ravel(y_res))\n",
    "inference_end = time.time()\n",
    "Transformer_inference_time = round((inference_end - inference_start)/len(y_res) * 1000, 2)\n",
    "Transformer_accuracy = accuracy_score(y_res, le.inverse_transform(y))\n",
    "Transformer_cls_report = classification_report(le.inverse_transform(y), y_res, output_dict=True, zero_division=0)"
   ]
  },
  {
   "cell_type": "markdown",
   "metadata": {},
   "source": [
    "#### Bert Model\n",
    "\n",
    "We also propose a wrap-up for the popular pre-trained `bert` architecture. `bert` architecture encodes every sentence tokens with a contextualized embeddings: each words embeddings depends from all words in the sentence. However, we only use the first sentence embedding, usually called the **classification token** in our classifier model.\n",
    "\n",
    "<img src=\"./images/bert-model.png\" style=\"width:500px\">\n",
    "\n",
    "\n",
    "Bert tokenizers and models can be downloaded here: https://huggingface.co/transformers/pretrained_models.html\n",
    "\n",
    "Only Camembert and Flaubert are available now in Melusine."
   ]
  },
  {
   "cell_type": "markdown",
   "metadata": {},
   "source": [
    "### Camembert"
   ]
  },
  {
   "cell_type": "code",
   "execution_count": 25,
   "metadata": {},
   "outputs": [
    {
     "name": "stderr",
     "output_type": "stream",
     "text": [
      "Some layers from the model checkpoint at /home/public/NLP/bert_maif/huggingface/Camembert/tensorflow were not used when initializing TFCamembertModel: ['lm_head']\n",
      "- This IS expected if you are initializing TFCamembertModel from the checkpoint of a model trained on another task or with another architecture (e.g. initializing a BertForSequenceClassification model from a BertForPretraining model).\n",
      "- This IS NOT expected if you are initializing TFCamembertModel from the checkpoint of a model that you expect to be exactly identical (initializing a BertForSequenceClassification model from a BertForSequenceClassification model).\n",
      "All the layers of TFCamembertModel were initialized from the model checkpoint at /home/public/NLP/bert_maif/huggingface/Camembert/tensorflow.\n",
      "If your task is similar to the task the model of the checkpoint was trained on, you can already use TFCamembertModel for predictions without further training.\n"
     ]
    },
    {
     "name": "stdout",
     "output_type": "stream",
     "text": [
      "1/1 [==============================] - 22s 22s/step - loss: 2.3404 - accuracy: 0.3250\n",
      "CamemBert is using 3849.8 Mb memory (RAM).\n"
     ]
    }
   ],
   "source": [
    "memory_start = get_available_memory()\n",
    "CamemBert_model = NeuralModel(architecture_function=bert_model,\n",
    "                            pretrained_embedding=None,\n",
    "                                text_input_column=\"clean_text\",\n",
    "                                meta_input_list=['extension', 'dayofweek', 'hour', 'min', 'attachment_type'],\n",
    "                                n_epochs=1,\n",
    "                        bert_tokenizer='jplu/tf-camembert-base',\n",
    "                        bert_model='jplu/tf-camembert-base')\n",
    "training_start = time.time()\n",
    "CamemBert_model.fit(X, y)\n",
    "training_end = time.time()\n",
    "CamemBert_memory = memory_start - get_available_memory()\n",
    "CamemBert_memory = round(CamemBert_memory / 1e9 * 1024 , 1)\n",
    "print('CamemBert is using {} Mb memory (RAM).'.format(str(CamemBert_memory)))"
   ]
  },
  {
   "cell_type": "code",
   "execution_count": 26,
   "metadata": {},
   "outputs": [
    {
     "data": {
      "text/plain": [
       "(110796963, 0, 28.99)"
      ]
     },
     "execution_count": 26,
     "metadata": {},
     "output_type": "execute_result"
    }
   ],
   "source": [
    "CamemBert_N_trainable_parameters = int(np.sum([K.count_params(p) for p in CamemBert_model.model.trainable_weights]))\n",
    "CamemBert_N_non_trainable_parameters = int(np.sum([K.count_params(p) for p in CamemBert_model.model.non_trainable_weights]))\n",
    "CamemBert_training_time =  round(training_end - training_start, 2)\n",
    "CamemBert_N_trainable_parameters, CamemBert_N_non_trainable_parameters, CamemBert_training_time"
   ]
  },
  {
   "cell_type": "code",
   "execution_count": 27,
   "metadata": {},
   "outputs": [],
   "source": [
    "y_res = []\n",
    "inference_start = time.time()\n",
    "for i in range(X.shape[0]):\n",
    "    X_copy = deepcopy(X.loc[i:i, :])\n",
    "    y_res.append(CamemBert_model.predict(X_copy))\n",
    "y_res = le.inverse_transform(np.ravel(y_res))\n",
    "inference_end = time.time()\n",
    "CamemBert_inference_time = round((inference_end - inference_start)/len(y_res) * 1000, 2)\n",
    "CamemBert_accuracy = accuracy_score(y_res, le.inverse_transform(y))\n",
    "CamemBert_cls_report = classification_report(le.inverse_transform(y), y_res, output_dict=True, zero_division=0)"
   ]
  },
  {
   "cell_type": "markdown",
   "metadata": {},
   "source": [
    "### Flaubert"
   ]
  },
  {
   "cell_type": "code",
   "execution_count": 28,
   "metadata": {},
   "outputs": [
    {
     "name": "stderr",
     "output_type": "stream",
     "text": [
      "2022-03-29 11:48:25.473158: W tensorflow/python/util/util.cc:368] Sets are not currently considered sequences, but this may change in the future, so consider avoiding using them.\n",
      "Some layers from the model checkpoint at /home/public/NLP/bert_maif/huggingface/Flaubert/tensorflow were not used when initializing TFFlaubertModel: ['pred_layer_._proj']\n",
      "- This IS expected if you are initializing TFFlaubertModel from the checkpoint of a model trained on another task or with another architecture (e.g. initializing a BertForSequenceClassification model from a BertForPretraining model).\n",
      "- This IS NOT expected if you are initializing TFFlaubertModel from the checkpoint of a model that you expect to be exactly identical (initializing a BertForSequenceClassification model from a BertForSequenceClassification model).\n",
      "All the layers of TFFlaubertModel were initialized from the model checkpoint at /home/public/NLP/bert_maif/huggingface/Flaubert/tensorflow.\n",
      "If your task is similar to the task the model of the checkpoint was trained on, you can already use TFFlaubertModel for predictions without further training.\n"
     ]
    },
    {
     "name": "stdout",
     "output_type": "stream",
     "text": [
      "WARNING:tensorflow:5 out of the last 5 calls to <function Model.make_train_function.<locals>.train_function at 0x7f9dc7eb05f0> triggered tf.function retracing. Tracing is expensive and the excessive number of tracings could be due to (1) creating @tf.function repeatedly in a loop, (2) passing tensors with different shapes, (3) passing Python objects instead of tensors. For (1), please define your @tf.function outside of the loop. For (2), @tf.function has experimental_relax_shapes=True option that relaxes argument shapes that can avoid unnecessary retracing. For (3), please refer to https://www.tensorflow.org/guide/function#controlling_retracing and https://www.tensorflow.org/api_docs/python/tf/function for  more details.\n",
      "1/1 [==============================] - 40s 40s/step - loss: 3.0383 - accuracy: 0.1000\n",
      "FlauBert is using 3894.8 Mb memory (RAM).\n"
     ]
    }
   ],
   "source": [
    "memory_start = get_available_memory()\n",
    "FlauBert_model = NeuralModel(architecture_function=bert_model,\n",
    "                            pretrained_embedding=None,\n",
    "                                text_input_column=\"clean_text\",\n",
    "                                meta_input_list=['extension', 'dayofweek', 'hour', 'min', 'attachment_type'],\n",
    "                                n_epochs=1,\n",
    "                        bert_tokenizer='jplu/tf-flaubert-base-cased',\n",
    "                        bert_model='jplu/tf-flaubert-base-cased')\n",
    "training_start = time.time()\n",
    "FlauBert_model.fit(X, y)\n",
    "training_end = time.time()\n",
    "FlauBert_memory = memory_start - get_available_memory()\n",
    "FlauBert_memory = round(FlauBert_memory / 1e9 * 1024 , 1)\n",
    "print('FlauBert is using {} Mb memory (RAM).'.format(str(FlauBert_memory)))"
   ]
  },
  {
   "cell_type": "code",
   "execution_count": 29,
   "metadata": {},
   "outputs": [
    {
     "data": {
      "text/plain": [
       "(138408099, 0, 48.05)"
      ]
     },
     "execution_count": 29,
     "metadata": {},
     "output_type": "execute_result"
    }
   ],
   "source": [
    "FlauBert_N_trainable_parameters = int(np.sum([K.count_params(p) for p in FlauBert_model.model.trainable_weights]))\n",
    "FlauBert_N_non_trainable_parameters = int(np.sum([K.count_params(p) for p in FlauBert_model.model.non_trainable_weights]))\n",
    "FlauBert_training_time =  round(training_end - training_start, 2)\n",
    "FlauBert_N_trainable_parameters, FlauBert_N_non_trainable_parameters, FlauBert_training_time"
   ]
  },
  {
   "cell_type": "code",
   "execution_count": 30,
   "metadata": {},
   "outputs": [],
   "source": [
    "y_res = []\n",
    "inference_start = time.time()\n",
    "for i in range(X.shape[0]):\n",
    "    X_copy = deepcopy(X.loc[i:i, :])\n",
    "    y_res.append(FlauBert_model.predict(X_copy))\n",
    "y_res = le.inverse_transform(np.ravel(y_res))\n",
    "inference_end = time.time()\n",
    "FlauBert_inference_time = round((inference_end - inference_start)/len(y_res) * 1000, 2)\n",
    "FlauBert_accuracy = accuracy_score(y_res, le.inverse_transform(y))\n",
    "FlauBert_cls_report = classification_report(le.inverse_transform(y), y_res, output_dict=True, zero_division=0)"
   ]
  },
  {
   "cell_type": "markdown",
   "metadata": {},
   "source": [
    "# Comparison of the model characteristics"
   ]
  },
  {
   "cell_type": "code",
   "execution_count": 31,
   "metadata": {},
   "outputs": [],
   "source": [
    "parameters_list = [\"Number of Parameters\", \"Memory Usage (Mb)\", \"Training time (s./epoch)\",\n",
    "                   \"Inference time (ms./sample)\", \"Accuracy (%)\"]\n",
    "models_names = ['RNN', 'CNN', 'Transformers', 'CamemBert', 'FlauBert']\n",
    "\n",
    "N_trainable_parameters = [RNN_N_trainable_parameters, CNN_N_trainable_parameters,\n",
    "                          Transformer_N_trainable_parameters, CamemBert_N_trainable_parameters, FlauBert_N_trainable_parameters]\n",
    "\n",
    "memory_usage = [RNN_memory, CNN_memory,\n",
    "                Transformer_memory, CamemBert_memory, FlauBert_memory]\n",
    "\n",
    "training_time = [RNN_training_time, CNN_training_time,\n",
    "                 Transformer_training_time, CamemBert_training_time, FlauBert_training_time]\n",
    "\n",
    "inference_time = [RNN_inference_time, CNN_inference_time,\n",
    "                  Transformer_inference_time, CamemBert_inference_time, FlauBert_inference_time]\n",
    "\n",
    "accuracy = [RNN_accuracy, CNN_accuracy,\n",
    "            Transformer_accuracy, CamemBert_accuracy, FlauBert_accuracy]\n",
    "\n",
    "data = [N_trainable_parameters, memory_usage, training_time, inference_time, accuracy]"
   ]
  },
  {
   "cell_type": "code",
   "execution_count": 32,
   "metadata": {},
   "outputs": [],
   "source": [
    "def format_table(data, columns_header, row_header):\n",
    "    row_format = \"{:>15}|\" * (len(row_header))\n",
    "    row_format = \"{:>30}|\" + row_format\n",
    "    space = ['']*len(row_header)\n",
    "    space_format = \"{:->15}+\" * (len(row_header))\n",
    "    space_format = \"{:->30}+\" + space_format\n",
    "    print(row_format.format(\"\", *row_header))\n",
    "    for col, row in zip(columns_header, data):\n",
    "        print(space_format.format(\"\", *space))\n",
    "        print(row_format.format(col, *row))"
   ]
  },
  {
   "cell_type": "code",
   "execution_count": 33,
   "metadata": {},
   "outputs": [
    {
     "name": "stdout",
     "output_type": "stream",
     "text": [
      "                              |            RNN|            CNN|   Transformers|      CamemBert|       FlauBert|\n",
      "------------------------------+---------------+---------------+---------------+---------------+---------------+\n",
      "          Number of Parameters|         346851|         378961|        1182561|      110796963|      138408099|\n",
      "------------------------------+---------------+---------------+---------------+---------------+---------------+\n",
      "             Memory Usage (Mb)|          308.0|           66.9|          227.0|         3849.8|         3894.8|\n",
      "------------------------------+---------------+---------------+---------------+---------------+---------------+\n",
      "      Training time (s./epoch)|           8.93|           1.43|           4.58|          28.99|          48.05|\n",
      "------------------------------+---------------+---------------+---------------+---------------+---------------+\n",
      "   Inference time (ms./sample)|         107.22|          50.49|          76.64|          246.2|         244.06|\n",
      "------------------------------+---------------+---------------+---------------+---------------+---------------+\n",
      "                  Accuracy (%)|          0.325|          0.325|           0.15|          0.325|           0.25|\n"
     ]
    }
   ],
   "source": [
    "format_table(data, parameters_list, models_names)"
   ]
  },
  {
   "cell_type": "markdown",
   "metadata": {},
   "source": [
    "⚠️⚠️ **The metrics above are computed on a very small sample and may therefore be misleading. Please use your own dataset to compare extensively the models and their performances** ⚠️⚠️"
   ]
  },
  {
   "cell_type": "markdown",
   "metadata": {},
   "source": [
    "# Classification Report"
   ]
  },
  {
   "cell_type": "markdown",
   "metadata": {},
   "source": [
    "Please install plotly to plot the following graphs\n",
    "\n",
    "``!pip install --upgrade plotly``"
   ]
  },
  {
   "cell_type": "code",
   "execution_count": 34,
   "metadata": {},
   "outputs": [],
   "source": [
    "import plotly.graph_objs as go\n",
    "import plotly as plotly\n",
    "import plotly.express as px"
   ]
  },
  {
   "cell_type": "code",
   "execution_count": 35,
   "metadata": {},
   "outputs": [],
   "source": [
    "def cls_report_2_df(cls_report, model_name):\n",
    "    cls_report_df = pd.DataFrame.from_dict(cls_report)\n",
    "    cls_report_df.drop(['accuracy', 'macro avg', 'weighted avg'], axis=1, inplace=True)\n",
    "    cls_report_df = cls_report_df.T\n",
    "    cls_report_df['class'] = cls_report_df.index\n",
    "    cls_report_df['model'] = model_name\n",
    "    return cls_report_df"
   ]
  },
  {
   "cell_type": "code",
   "execution_count": 36,
   "metadata": {},
   "outputs": [],
   "source": [
    "models = ['RNN', 'CNN', 'Transformers', 'CamemBert', 'FlauBert']\n",
    "cls_reports = [RNN_cls_report, CNN_cls_report, Transformer_cls_report, FlauBert_cls_report, CamemBert_cls_report]\n",
    "ALL_cls_report_df = [cls_report_2_df(c, m) for (c, m) in zip(cls_reports, models)] \n",
    "ALL_cls_report_df = pd.concat(ALL_cls_report_df)"
   ]
  },
  {
   "cell_type": "code",
   "execution_count": 40,
   "metadata": {},
   "outputs": [
    {
     "ename": "ValueError",
     "evalue": "Mime type rendering requires nbformat>=4.2.0 but it is not installed",
     "output_type": "error",
     "traceback": [
      "\u001b[0;31m---------------------------------------------------------------------------\u001b[0m",
      "\u001b[0;31mValueError\u001b[0m                                Traceback (most recent call last)",
      "\u001b[0;32m/data_tech/users/users_envs/78169t/env_melusine37/lib/python3.7/site-packages/IPython/core/formatters.py\u001b[0m in \u001b[0;36m__call__\u001b[0;34m(self, obj)\u001b[0m\n\u001b[1;32m    916\u001b[0m             \u001b[0mmethod\u001b[0m \u001b[0;34m=\u001b[0m \u001b[0mget_real_method\u001b[0m\u001b[0;34m(\u001b[0m\u001b[0mobj\u001b[0m\u001b[0;34m,\u001b[0m \u001b[0mself\u001b[0m\u001b[0;34m.\u001b[0m\u001b[0mprint_method\u001b[0m\u001b[0;34m)\u001b[0m\u001b[0;34m\u001b[0m\u001b[0;34m\u001b[0m\u001b[0m\n\u001b[1;32m    917\u001b[0m             \u001b[0;32mif\u001b[0m \u001b[0mmethod\u001b[0m \u001b[0;32mis\u001b[0m \u001b[0;32mnot\u001b[0m \u001b[0;32mNone\u001b[0m\u001b[0;34m:\u001b[0m\u001b[0;34m\u001b[0m\u001b[0;34m\u001b[0m\u001b[0m\n\u001b[0;32m--> 918\u001b[0;31m                 \u001b[0mmethod\u001b[0m\u001b[0;34m(\u001b[0m\u001b[0;34m)\u001b[0m\u001b[0;34m\u001b[0m\u001b[0;34m\u001b[0m\u001b[0m\n\u001b[0m\u001b[1;32m    919\u001b[0m                 \u001b[0;32mreturn\u001b[0m \u001b[0;32mTrue\u001b[0m\u001b[0;34m\u001b[0m\u001b[0;34m\u001b[0m\u001b[0m\n\u001b[1;32m    920\u001b[0m \u001b[0;34m\u001b[0m\u001b[0m\n",
      "\u001b[0;32m/data_tech/users/users_envs/78169t/env_melusine37/lib/python3.7/site-packages/plotly/basedatatypes.py\u001b[0m in \u001b[0;36m_ipython_display_\u001b[0;34m(self)\u001b[0m\n\u001b[1;32m    842\u001b[0m \u001b[0;34m\u001b[0m\u001b[0m\n\u001b[1;32m    843\u001b[0m         \u001b[0;32mif\u001b[0m \u001b[0mpio\u001b[0m\u001b[0;34m.\u001b[0m\u001b[0mrenderers\u001b[0m\u001b[0;34m.\u001b[0m\u001b[0mrender_on_display\u001b[0m \u001b[0;32mand\u001b[0m \u001b[0mpio\u001b[0m\u001b[0;34m.\u001b[0m\u001b[0mrenderers\u001b[0m\u001b[0;34m.\u001b[0m\u001b[0mdefault\u001b[0m\u001b[0;34m:\u001b[0m\u001b[0;34m\u001b[0m\u001b[0;34m\u001b[0m\u001b[0m\n\u001b[0;32m--> 844\u001b[0;31m             \u001b[0mpio\u001b[0m\u001b[0;34m.\u001b[0m\u001b[0mshow\u001b[0m\u001b[0;34m(\u001b[0m\u001b[0mself\u001b[0m\u001b[0;34m)\u001b[0m\u001b[0;34m\u001b[0m\u001b[0;34m\u001b[0m\u001b[0m\n\u001b[0m\u001b[1;32m    845\u001b[0m         \u001b[0;32melse\u001b[0m\u001b[0;34m:\u001b[0m\u001b[0;34m\u001b[0m\u001b[0;34m\u001b[0m\u001b[0m\n\u001b[1;32m    846\u001b[0m             \u001b[0mprint\u001b[0m\u001b[0;34m(\u001b[0m\u001b[0mrepr\u001b[0m\u001b[0;34m(\u001b[0m\u001b[0mself\u001b[0m\u001b[0;34m)\u001b[0m\u001b[0;34m)\u001b[0m\u001b[0;34m\u001b[0m\u001b[0;34m\u001b[0m\u001b[0m\n",
      "\u001b[0;32m/data_tech/users/users_envs/78169t/env_melusine37/lib/python3.7/site-packages/plotly/io/_renderers.py\u001b[0m in \u001b[0;36mshow\u001b[0;34m(fig, renderer, validate, **kwargs)\u001b[0m\n\u001b[1;32m    396\u001b[0m         \u001b[0;32mif\u001b[0m \u001b[0;32mnot\u001b[0m \u001b[0mnbformat\u001b[0m \u001b[0;32mor\u001b[0m \u001b[0mLooseVersion\u001b[0m\u001b[0;34m(\u001b[0m\u001b[0mnbformat\u001b[0m\u001b[0;34m.\u001b[0m\u001b[0m__version__\u001b[0m\u001b[0;34m)\u001b[0m \u001b[0;34m<\u001b[0m \u001b[0mLooseVersion\u001b[0m\u001b[0;34m(\u001b[0m\u001b[0;34m\"4.2.0\"\u001b[0m\u001b[0;34m)\u001b[0m\u001b[0;34m:\u001b[0m\u001b[0;34m\u001b[0m\u001b[0;34m\u001b[0m\u001b[0m\n\u001b[1;32m    397\u001b[0m             raise ValueError(\n\u001b[0;32m--> 398\u001b[0;31m                 \u001b[0;34m\"Mime type rendering requires nbformat>=4.2.0 but it is not installed\"\u001b[0m\u001b[0;34m\u001b[0m\u001b[0;34m\u001b[0m\u001b[0m\n\u001b[0m\u001b[1;32m    399\u001b[0m             )\n\u001b[1;32m    400\u001b[0m \u001b[0;34m\u001b[0m\u001b[0m\n",
      "\u001b[0;31mValueError\u001b[0m: Mime type rendering requires nbformat>=4.2.0 but it is not installed"
     ]
    },
    {
     "data": {
      "application/vnd.plotly.v1+json": {
       "config": {
        "plotlyServerURL": "https://plot.ly"
       },
       "data": [
        {
         "customdata": [
          [
           "adhesion"
          ],
          [
           "autres"
          ],
          [
           "bilan"
          ],
          [
           "compte"
          ],
          [
           "habitation"
          ],
          [
           "modification"
          ],
          [
           "regularisation"
          ],
          [
           "resiliation"
          ],
          [
           "sinistres"
          ],
          [
           "succession"
          ],
          [
           "vehicule"
          ]
         ],
         "hovertemplate": "model=RNN<br>precision=%{x}<br>recall=%{y}<br>support=%{marker.size}<br>class=%{customdata[0]}<extra></extra>",
         "legendgroup": "RNN",
         "marker": {
          "color": "#636efa",
          "size": [
           3,
           1,
           1,
           3,
           8,
           2,
           1,
           6,
           1,
           1,
           13
          ],
          "sizemode": "area",
          "sizeref": 0.0325,
          "symbol": "circle"
         },
         "mode": "markers",
         "name": "RNN",
         "orientation": "v",
         "showlegend": true,
         "type": "scatter",
         "x": [
          0,
          0,
          0,
          0,
          0,
          0,
          0,
          0,
          0,
          0,
          0.325
         ],
         "xaxis": "x",
         "y": [
          0,
          0,
          0,
          0,
          0,
          0,
          0,
          0,
          0,
          0,
          1
         ],
         "yaxis": "y"
        },
        {
         "customdata": [
          [
           "adhesion"
          ],
          [
           "autres"
          ],
          [
           "bilan"
          ],
          [
           "compte"
          ],
          [
           "habitation"
          ],
          [
           "modification"
          ],
          [
           "regularisation"
          ],
          [
           "resiliation"
          ],
          [
           "sinistres"
          ],
          [
           "succession"
          ],
          [
           "vehicule"
          ]
         ],
         "hovertemplate": "model=CNN<br>precision=%{x}<br>recall=%{y}<br>support=%{marker.size}<br>class=%{customdata[0]}<extra></extra>",
         "legendgroup": "CNN",
         "marker": {
          "color": "#EF553B",
          "size": [
           3,
           1,
           1,
           3,
           8,
           2,
           1,
           6,
           1,
           1,
           13
          ],
          "sizemode": "area",
          "sizeref": 0.0325,
          "symbol": "circle"
         },
         "mode": "markers",
         "name": "CNN",
         "orientation": "v",
         "showlegend": true,
         "type": "scatter",
         "x": [
          0,
          0,
          0,
          0,
          0,
          0,
          0,
          0,
          0,
          0,
          0.325
         ],
         "xaxis": "x",
         "y": [
          0,
          0,
          0,
          0,
          0,
          0,
          0,
          0,
          0,
          0,
          1
         ],
         "yaxis": "y"
        },
        {
         "customdata": [
          [
           "adhesion"
          ],
          [
           "autres"
          ],
          [
           "bilan"
          ],
          [
           "compte"
          ],
          [
           "habitation"
          ],
          [
           "modification"
          ],
          [
           "regularisation"
          ],
          [
           "resiliation"
          ],
          [
           "sinistres"
          ],
          [
           "succession"
          ],
          [
           "vehicule"
          ]
         ],
         "hovertemplate": "model=Transformers<br>precision=%{x}<br>recall=%{y}<br>support=%{marker.size}<br>class=%{customdata[0]}<extra></extra>",
         "legendgroup": "Transformers",
         "marker": {
          "color": "#00cc96",
          "size": [
           3,
           1,
           1,
           3,
           8,
           2,
           1,
           6,
           1,
           1,
           13
          ],
          "sizemode": "area",
          "sizeref": 0.0325,
          "symbol": "circle"
         },
         "mode": "markers",
         "name": "Transformers",
         "orientation": "v",
         "showlegend": true,
         "type": "scatter",
         "x": [
          0,
          0,
          0,
          0,
          0,
          0,
          0,
          0.15,
          0,
          0,
          0
         ],
         "xaxis": "x",
         "y": [
          0,
          0,
          0,
          0,
          0,
          0,
          0,
          1,
          0,
          0,
          0
         ],
         "yaxis": "y"
        },
        {
         "customdata": [
          [
           "adhesion"
          ],
          [
           "autres"
          ],
          [
           "bilan"
          ],
          [
           "compte"
          ],
          [
           "habitation"
          ],
          [
           "modification"
          ],
          [
           "regularisation"
          ],
          [
           "resiliation"
          ],
          [
           "sinistres"
          ],
          [
           "succession"
          ],
          [
           "vehicule"
          ]
         ],
         "hovertemplate": "model=CamemBert<br>precision=%{x}<br>recall=%{y}<br>support=%{marker.size}<br>class=%{customdata[0]}<extra></extra>",
         "legendgroup": "CamemBert",
         "marker": {
          "color": "#ab63fa",
          "size": [
           3,
           1,
           1,
           3,
           8,
           2,
           1,
           6,
           1,
           1,
           13
          ],
          "sizemode": "area",
          "sizeref": 0.0325,
          "symbol": "circle"
         },
         "mode": "markers",
         "name": "CamemBert",
         "orientation": "v",
         "showlegend": true,
         "type": "scatter",
         "x": [
          0,
          0,
          0,
          0.2,
          0.3076923076923077,
          0,
          0,
          0.5,
          0,
          0,
          0.4444444444444444
         ],
         "xaxis": "x",
         "y": [
          0,
          0,
          0,
          0.3333333333333333,
          0.5,
          0,
          0,
          0.16666666666666666,
          0,
          0,
          0.3076923076923077
         ],
         "yaxis": "y"
        },
        {
         "customdata": [
          [
           "adhesion"
          ],
          [
           "autres"
          ],
          [
           "bilan"
          ],
          [
           "compte"
          ],
          [
           "habitation"
          ],
          [
           "modification"
          ],
          [
           "regularisation"
          ],
          [
           "resiliation"
          ],
          [
           "sinistres"
          ],
          [
           "succession"
          ],
          [
           "vehicule"
          ]
         ],
         "hovertemplate": "model=FlauBert<br>precision=%{x}<br>recall=%{y}<br>support=%{marker.size}<br>class=%{customdata[0]}<extra></extra>",
         "legendgroup": "FlauBert",
         "marker": {
          "color": "#FFA15A",
          "size": [
           3,
           1,
           1,
           3,
           8,
           2,
           1,
           6,
           1,
           1,
           13
          ],
          "sizemode": "area",
          "sizeref": 0.0325,
          "symbol": "circle"
         },
         "mode": "markers",
         "name": "FlauBert",
         "orientation": "v",
         "showlegend": true,
         "type": "scatter",
         "x": [
          0,
          0,
          0,
          0,
          0.25,
          0,
          0,
          0,
          0,
          0,
          0.3333333333333333
         ],
         "xaxis": "x",
         "y": [
          0,
          0,
          0,
          0,
          0.125,
          0,
          0,
          0,
          0,
          0,
          0.9230769230769231
         ],
         "yaxis": "y"
        }
       ],
       "layout": {
        "legend": {
         "itemsizing": "constant",
         "title": {
          "text": "model"
         },
         "tracegroupgap": 0
        },
        "template": {
         "data": {
          "bar": [
           {
            "error_x": {
             "color": "#2a3f5f"
            },
            "error_y": {
             "color": "#2a3f5f"
            },
            "marker": {
             "line": {
              "color": "#E5ECF6",
              "width": 0.5
             },
             "pattern": {
              "fillmode": "overlay",
              "size": 10,
              "solidity": 0.2
             }
            },
            "type": "bar"
           }
          ],
          "barpolar": [
           {
            "marker": {
             "line": {
              "color": "#E5ECF6",
              "width": 0.5
             },
             "pattern": {
              "fillmode": "overlay",
              "size": 10,
              "solidity": 0.2
             }
            },
            "type": "barpolar"
           }
          ],
          "carpet": [
           {
            "aaxis": {
             "endlinecolor": "#2a3f5f",
             "gridcolor": "white",
             "linecolor": "white",
             "minorgridcolor": "white",
             "startlinecolor": "#2a3f5f"
            },
            "baxis": {
             "endlinecolor": "#2a3f5f",
             "gridcolor": "white",
             "linecolor": "white",
             "minorgridcolor": "white",
             "startlinecolor": "#2a3f5f"
            },
            "type": "carpet"
           }
          ],
          "choropleth": [
           {
            "colorbar": {
             "outlinewidth": 0,
             "ticks": ""
            },
            "type": "choropleth"
           }
          ],
          "contour": [
           {
            "colorbar": {
             "outlinewidth": 0,
             "ticks": ""
            },
            "colorscale": [
             [
              0,
              "#0d0887"
             ],
             [
              0.1111111111111111,
              "#46039f"
             ],
             [
              0.2222222222222222,
              "#7201a8"
             ],
             [
              0.3333333333333333,
              "#9c179e"
             ],
             [
              0.4444444444444444,
              "#bd3786"
             ],
             [
              0.5555555555555556,
              "#d8576b"
             ],
             [
              0.6666666666666666,
              "#ed7953"
             ],
             [
              0.7777777777777778,
              "#fb9f3a"
             ],
             [
              0.8888888888888888,
              "#fdca26"
             ],
             [
              1,
              "#f0f921"
             ]
            ],
            "type": "contour"
           }
          ],
          "contourcarpet": [
           {
            "colorbar": {
             "outlinewidth": 0,
             "ticks": ""
            },
            "type": "contourcarpet"
           }
          ],
          "heatmap": [
           {
            "colorbar": {
             "outlinewidth": 0,
             "ticks": ""
            },
            "colorscale": [
             [
              0,
              "#0d0887"
             ],
             [
              0.1111111111111111,
              "#46039f"
             ],
             [
              0.2222222222222222,
              "#7201a8"
             ],
             [
              0.3333333333333333,
              "#9c179e"
             ],
             [
              0.4444444444444444,
              "#bd3786"
             ],
             [
              0.5555555555555556,
              "#d8576b"
             ],
             [
              0.6666666666666666,
              "#ed7953"
             ],
             [
              0.7777777777777778,
              "#fb9f3a"
             ],
             [
              0.8888888888888888,
              "#fdca26"
             ],
             [
              1,
              "#f0f921"
             ]
            ],
            "type": "heatmap"
           }
          ],
          "heatmapgl": [
           {
            "colorbar": {
             "outlinewidth": 0,
             "ticks": ""
            },
            "colorscale": [
             [
              0,
              "#0d0887"
             ],
             [
              0.1111111111111111,
              "#46039f"
             ],
             [
              0.2222222222222222,
              "#7201a8"
             ],
             [
              0.3333333333333333,
              "#9c179e"
             ],
             [
              0.4444444444444444,
              "#bd3786"
             ],
             [
              0.5555555555555556,
              "#d8576b"
             ],
             [
              0.6666666666666666,
              "#ed7953"
             ],
             [
              0.7777777777777778,
              "#fb9f3a"
             ],
             [
              0.8888888888888888,
              "#fdca26"
             ],
             [
              1,
              "#f0f921"
             ]
            ],
            "type": "heatmapgl"
           }
          ],
          "histogram": [
           {
            "marker": {
             "pattern": {
              "fillmode": "overlay",
              "size": 10,
              "solidity": 0.2
             }
            },
            "type": "histogram"
           }
          ],
          "histogram2d": [
           {
            "colorbar": {
             "outlinewidth": 0,
             "ticks": ""
            },
            "colorscale": [
             [
              0,
              "#0d0887"
             ],
             [
              0.1111111111111111,
              "#46039f"
             ],
             [
              0.2222222222222222,
              "#7201a8"
             ],
             [
              0.3333333333333333,
              "#9c179e"
             ],
             [
              0.4444444444444444,
              "#bd3786"
             ],
             [
              0.5555555555555556,
              "#d8576b"
             ],
             [
              0.6666666666666666,
              "#ed7953"
             ],
             [
              0.7777777777777778,
              "#fb9f3a"
             ],
             [
              0.8888888888888888,
              "#fdca26"
             ],
             [
              1,
              "#f0f921"
             ]
            ],
            "type": "histogram2d"
           }
          ],
          "histogram2dcontour": [
           {
            "colorbar": {
             "outlinewidth": 0,
             "ticks": ""
            },
            "colorscale": [
             [
              0,
              "#0d0887"
             ],
             [
              0.1111111111111111,
              "#46039f"
             ],
             [
              0.2222222222222222,
              "#7201a8"
             ],
             [
              0.3333333333333333,
              "#9c179e"
             ],
             [
              0.4444444444444444,
              "#bd3786"
             ],
             [
              0.5555555555555556,
              "#d8576b"
             ],
             [
              0.6666666666666666,
              "#ed7953"
             ],
             [
              0.7777777777777778,
              "#fb9f3a"
             ],
             [
              0.8888888888888888,
              "#fdca26"
             ],
             [
              1,
              "#f0f921"
             ]
            ],
            "type": "histogram2dcontour"
           }
          ],
          "mesh3d": [
           {
            "colorbar": {
             "outlinewidth": 0,
             "ticks": ""
            },
            "type": "mesh3d"
           }
          ],
          "parcoords": [
           {
            "line": {
             "colorbar": {
              "outlinewidth": 0,
              "ticks": ""
             }
            },
            "type": "parcoords"
           }
          ],
          "pie": [
           {
            "automargin": true,
            "type": "pie"
           }
          ],
          "scatter": [
           {
            "marker": {
             "colorbar": {
              "outlinewidth": 0,
              "ticks": ""
             }
            },
            "type": "scatter"
           }
          ],
          "scatter3d": [
           {
            "line": {
             "colorbar": {
              "outlinewidth": 0,
              "ticks": ""
             }
            },
            "marker": {
             "colorbar": {
              "outlinewidth": 0,
              "ticks": ""
             }
            },
            "type": "scatter3d"
           }
          ],
          "scattercarpet": [
           {
            "marker": {
             "colorbar": {
              "outlinewidth": 0,
              "ticks": ""
             }
            },
            "type": "scattercarpet"
           }
          ],
          "scattergeo": [
           {
            "marker": {
             "colorbar": {
              "outlinewidth": 0,
              "ticks": ""
             }
            },
            "type": "scattergeo"
           }
          ],
          "scattergl": [
           {
            "marker": {
             "colorbar": {
              "outlinewidth": 0,
              "ticks": ""
             }
            },
            "type": "scattergl"
           }
          ],
          "scattermapbox": [
           {
            "marker": {
             "colorbar": {
              "outlinewidth": 0,
              "ticks": ""
             }
            },
            "type": "scattermapbox"
           }
          ],
          "scatterpolar": [
           {
            "marker": {
             "colorbar": {
              "outlinewidth": 0,
              "ticks": ""
             }
            },
            "type": "scatterpolar"
           }
          ],
          "scatterpolargl": [
           {
            "marker": {
             "colorbar": {
              "outlinewidth": 0,
              "ticks": ""
             }
            },
            "type": "scatterpolargl"
           }
          ],
          "scatterternary": [
           {
            "marker": {
             "colorbar": {
              "outlinewidth": 0,
              "ticks": ""
             }
            },
            "type": "scatterternary"
           }
          ],
          "surface": [
           {
            "colorbar": {
             "outlinewidth": 0,
             "ticks": ""
            },
            "colorscale": [
             [
              0,
              "#0d0887"
             ],
             [
              0.1111111111111111,
              "#46039f"
             ],
             [
              0.2222222222222222,
              "#7201a8"
             ],
             [
              0.3333333333333333,
              "#9c179e"
             ],
             [
              0.4444444444444444,
              "#bd3786"
             ],
             [
              0.5555555555555556,
              "#d8576b"
             ],
             [
              0.6666666666666666,
              "#ed7953"
             ],
             [
              0.7777777777777778,
              "#fb9f3a"
             ],
             [
              0.8888888888888888,
              "#fdca26"
             ],
             [
              1,
              "#f0f921"
             ]
            ],
            "type": "surface"
           }
          ],
          "table": [
           {
            "cells": {
             "fill": {
              "color": "#EBF0F8"
             },
             "line": {
              "color": "white"
             }
            },
            "header": {
             "fill": {
              "color": "#C8D4E3"
             },
             "line": {
              "color": "white"
             }
            },
            "type": "table"
           }
          ]
         },
         "layout": {
          "annotationdefaults": {
           "arrowcolor": "#2a3f5f",
           "arrowhead": 0,
           "arrowwidth": 1
          },
          "autotypenumbers": "strict",
          "coloraxis": {
           "colorbar": {
            "outlinewidth": 0,
            "ticks": ""
           }
          },
          "colorscale": {
           "diverging": [
            [
             0,
             "#8e0152"
            ],
            [
             0.1,
             "#c51b7d"
            ],
            [
             0.2,
             "#de77ae"
            ],
            [
             0.3,
             "#f1b6da"
            ],
            [
             0.4,
             "#fde0ef"
            ],
            [
             0.5,
             "#f7f7f7"
            ],
            [
             0.6,
             "#e6f5d0"
            ],
            [
             0.7,
             "#b8e186"
            ],
            [
             0.8,
             "#7fbc41"
            ],
            [
             0.9,
             "#4d9221"
            ],
            [
             1,
             "#276419"
            ]
           ],
           "sequential": [
            [
             0,
             "#0d0887"
            ],
            [
             0.1111111111111111,
             "#46039f"
            ],
            [
             0.2222222222222222,
             "#7201a8"
            ],
            [
             0.3333333333333333,
             "#9c179e"
            ],
            [
             0.4444444444444444,
             "#bd3786"
            ],
            [
             0.5555555555555556,
             "#d8576b"
            ],
            [
             0.6666666666666666,
             "#ed7953"
            ],
            [
             0.7777777777777778,
             "#fb9f3a"
            ],
            [
             0.8888888888888888,
             "#fdca26"
            ],
            [
             1,
             "#f0f921"
            ]
           ],
           "sequentialminus": [
            [
             0,
             "#0d0887"
            ],
            [
             0.1111111111111111,
             "#46039f"
            ],
            [
             0.2222222222222222,
             "#7201a8"
            ],
            [
             0.3333333333333333,
             "#9c179e"
            ],
            [
             0.4444444444444444,
             "#bd3786"
            ],
            [
             0.5555555555555556,
             "#d8576b"
            ],
            [
             0.6666666666666666,
             "#ed7953"
            ],
            [
             0.7777777777777778,
             "#fb9f3a"
            ],
            [
             0.8888888888888888,
             "#fdca26"
            ],
            [
             1,
             "#f0f921"
            ]
           ]
          },
          "colorway": [
           "#636efa",
           "#EF553B",
           "#00cc96",
           "#ab63fa",
           "#FFA15A",
           "#19d3f3",
           "#FF6692",
           "#B6E880",
           "#FF97FF",
           "#FECB52"
          ],
          "font": {
           "color": "#2a3f5f"
          },
          "geo": {
           "bgcolor": "white",
           "lakecolor": "white",
           "landcolor": "#E5ECF6",
           "showlakes": true,
           "showland": true,
           "subunitcolor": "white"
          },
          "hoverlabel": {
           "align": "left"
          },
          "hovermode": "closest",
          "mapbox": {
           "style": "light"
          },
          "paper_bgcolor": "white",
          "plot_bgcolor": "#E5ECF6",
          "polar": {
           "angularaxis": {
            "gridcolor": "white",
            "linecolor": "white",
            "ticks": ""
           },
           "bgcolor": "#E5ECF6",
           "radialaxis": {
            "gridcolor": "white",
            "linecolor": "white",
            "ticks": ""
           }
          },
          "scene": {
           "xaxis": {
            "backgroundcolor": "#E5ECF6",
            "gridcolor": "white",
            "gridwidth": 2,
            "linecolor": "white",
            "showbackground": true,
            "ticks": "",
            "zerolinecolor": "white"
           },
           "yaxis": {
            "backgroundcolor": "#E5ECF6",
            "gridcolor": "white",
            "gridwidth": 2,
            "linecolor": "white",
            "showbackground": true,
            "ticks": "",
            "zerolinecolor": "white"
           },
           "zaxis": {
            "backgroundcolor": "#E5ECF6",
            "gridcolor": "white",
            "gridwidth": 2,
            "linecolor": "white",
            "showbackground": true,
            "ticks": "",
            "zerolinecolor": "white"
           }
          },
          "shapedefaults": {
           "line": {
            "color": "#2a3f5f"
           }
          },
          "ternary": {
           "aaxis": {
            "gridcolor": "white",
            "linecolor": "white",
            "ticks": ""
           },
           "baxis": {
            "gridcolor": "white",
            "linecolor": "white",
            "ticks": ""
           },
           "bgcolor": "#E5ECF6",
           "caxis": {
            "gridcolor": "white",
            "linecolor": "white",
            "ticks": ""
           }
          },
          "title": {
           "x": 0.05
          },
          "xaxis": {
           "automargin": true,
           "gridcolor": "white",
           "linecolor": "white",
           "ticks": "",
           "title": {
            "standoff": 15
           },
           "zerolinecolor": "white",
           "zerolinewidth": 2
          },
          "yaxis": {
           "automargin": true,
           "gridcolor": "white",
           "linecolor": "white",
           "ticks": "",
           "title": {
            "standoff": 15
           },
           "zerolinecolor": "white",
           "zerolinewidth": 2
          }
         }
        },
        "title": {
         "text": "Precision and Recall given classes and models"
        },
        "xaxis": {
         "anchor": "y",
         "domain": [
          0,
          1
         ],
         "title": {
          "text": "precision"
         }
        },
        "yaxis": {
         "anchor": "x",
         "domain": [
          0,
          1
         ],
         "title": {
          "text": "recall"
         }
        }
       }
      },
      "text/html": [
       "<div>                            <div id=\"b2cedacb-9628-4f1d-8943-155dbcf71ca6\" class=\"plotly-graph-div\" style=\"height:525px; width:100%;\"></div>            <script type=\"text/javascript\">                require([\"plotly\"], function(Plotly) {                    window.PLOTLYENV=window.PLOTLYENV || {};                                    if (document.getElementById(\"b2cedacb-9628-4f1d-8943-155dbcf71ca6\")) {                    Plotly.newPlot(                        \"b2cedacb-9628-4f1d-8943-155dbcf71ca6\",                        [{\"customdata\":[[\"adhesion\"],[\"autres\"],[\"bilan\"],[\"compte\"],[\"habitation\"],[\"modification\"],[\"regularisation\"],[\"resiliation\"],[\"sinistres\"],[\"succession\"],[\"vehicule\"]],\"hovertemplate\":\"model=RNN<br>precision=%{x}<br>recall=%{y}<br>support=%{marker.size}<br>class=%{customdata[0]}<extra></extra>\",\"legendgroup\":\"RNN\",\"marker\":{\"color\":\"#636efa\",\"size\":[3.0,1.0,1.0,3.0,8.0,2.0,1.0,6.0,1.0,1.0,13.0],\"sizemode\":\"area\",\"sizeref\":0.0325,\"symbol\":\"circle\"},\"mode\":\"markers\",\"name\":\"RNN\",\"orientation\":\"v\",\"showlegend\":true,\"x\":[0.0,0.0,0.0,0.0,0.0,0.0,0.0,0.0,0.0,0.0,0.325],\"xaxis\":\"x\",\"y\":[0.0,0.0,0.0,0.0,0.0,0.0,0.0,0.0,0.0,0.0,1.0],\"yaxis\":\"y\",\"type\":\"scatter\"},{\"customdata\":[[\"adhesion\"],[\"autres\"],[\"bilan\"],[\"compte\"],[\"habitation\"],[\"modification\"],[\"regularisation\"],[\"resiliation\"],[\"sinistres\"],[\"succession\"],[\"vehicule\"]],\"hovertemplate\":\"model=CNN<br>precision=%{x}<br>recall=%{y}<br>support=%{marker.size}<br>class=%{customdata[0]}<extra></extra>\",\"legendgroup\":\"CNN\",\"marker\":{\"color\":\"#EF553B\",\"size\":[3.0,1.0,1.0,3.0,8.0,2.0,1.0,6.0,1.0,1.0,13.0],\"sizemode\":\"area\",\"sizeref\":0.0325,\"symbol\":\"circle\"},\"mode\":\"markers\",\"name\":\"CNN\",\"orientation\":\"v\",\"showlegend\":true,\"x\":[0.0,0.0,0.0,0.0,0.0,0.0,0.0,0.0,0.0,0.0,0.325],\"xaxis\":\"x\",\"y\":[0.0,0.0,0.0,0.0,0.0,0.0,0.0,0.0,0.0,0.0,1.0],\"yaxis\":\"y\",\"type\":\"scatter\"},{\"customdata\":[[\"adhesion\"],[\"autres\"],[\"bilan\"],[\"compte\"],[\"habitation\"],[\"modification\"],[\"regularisation\"],[\"resiliation\"],[\"sinistres\"],[\"succession\"],[\"vehicule\"]],\"hovertemplate\":\"model=Transformers<br>precision=%{x}<br>recall=%{y}<br>support=%{marker.size}<br>class=%{customdata[0]}<extra></extra>\",\"legendgroup\":\"Transformers\",\"marker\":{\"color\":\"#00cc96\",\"size\":[3.0,1.0,1.0,3.0,8.0,2.0,1.0,6.0,1.0,1.0,13.0],\"sizemode\":\"area\",\"sizeref\":0.0325,\"symbol\":\"circle\"},\"mode\":\"markers\",\"name\":\"Transformers\",\"orientation\":\"v\",\"showlegend\":true,\"x\":[0.0,0.0,0.0,0.0,0.0,0.0,0.0,0.15,0.0,0.0,0.0],\"xaxis\":\"x\",\"y\":[0.0,0.0,0.0,0.0,0.0,0.0,0.0,1.0,0.0,0.0,0.0],\"yaxis\":\"y\",\"type\":\"scatter\"},{\"customdata\":[[\"adhesion\"],[\"autres\"],[\"bilan\"],[\"compte\"],[\"habitation\"],[\"modification\"],[\"regularisation\"],[\"resiliation\"],[\"sinistres\"],[\"succession\"],[\"vehicule\"]],\"hovertemplate\":\"model=CamemBert<br>precision=%{x}<br>recall=%{y}<br>support=%{marker.size}<br>class=%{customdata[0]}<extra></extra>\",\"legendgroup\":\"CamemBert\",\"marker\":{\"color\":\"#ab63fa\",\"size\":[3.0,1.0,1.0,3.0,8.0,2.0,1.0,6.0,1.0,1.0,13.0],\"sizemode\":\"area\",\"sizeref\":0.0325,\"symbol\":\"circle\"},\"mode\":\"markers\",\"name\":\"CamemBert\",\"orientation\":\"v\",\"showlegend\":true,\"x\":[0.0,0.0,0.0,0.2,0.3076923076923077,0.0,0.0,0.5,0.0,0.0,0.4444444444444444],\"xaxis\":\"x\",\"y\":[0.0,0.0,0.0,0.3333333333333333,0.5,0.0,0.0,0.16666666666666666,0.0,0.0,0.3076923076923077],\"yaxis\":\"y\",\"type\":\"scatter\"},{\"customdata\":[[\"adhesion\"],[\"autres\"],[\"bilan\"],[\"compte\"],[\"habitation\"],[\"modification\"],[\"regularisation\"],[\"resiliation\"],[\"sinistres\"],[\"succession\"],[\"vehicule\"]],\"hovertemplate\":\"model=FlauBert<br>precision=%{x}<br>recall=%{y}<br>support=%{marker.size}<br>class=%{customdata[0]}<extra></extra>\",\"legendgroup\":\"FlauBert\",\"marker\":{\"color\":\"#FFA15A\",\"size\":[3.0,1.0,1.0,3.0,8.0,2.0,1.0,6.0,1.0,1.0,13.0],\"sizemode\":\"area\",\"sizeref\":0.0325,\"symbol\":\"circle\"},\"mode\":\"markers\",\"name\":\"FlauBert\",\"orientation\":\"v\",\"showlegend\":true,\"x\":[0.0,0.0,0.0,0.0,0.25,0.0,0.0,0.0,0.0,0.0,0.3333333333333333],\"xaxis\":\"x\",\"y\":[0.0,0.0,0.0,0.0,0.125,0.0,0.0,0.0,0.0,0.0,0.9230769230769231],\"yaxis\":\"y\",\"type\":\"scatter\"}],                        {\"template\":{\"data\":{\"bar\":[{\"error_x\":{\"color\":\"#2a3f5f\"},\"error_y\":{\"color\":\"#2a3f5f\"},\"marker\":{\"line\":{\"color\":\"#E5ECF6\",\"width\":0.5},\"pattern\":{\"fillmode\":\"overlay\",\"size\":10,\"solidity\":0.2}},\"type\":\"bar\"}],\"barpolar\":[{\"marker\":{\"line\":{\"color\":\"#E5ECF6\",\"width\":0.5},\"pattern\":{\"fillmode\":\"overlay\",\"size\":10,\"solidity\":0.2}},\"type\":\"barpolar\"}],\"carpet\":[{\"aaxis\":{\"endlinecolor\":\"#2a3f5f\",\"gridcolor\":\"white\",\"linecolor\":\"white\",\"minorgridcolor\":\"white\",\"startlinecolor\":\"#2a3f5f\"},\"baxis\":{\"endlinecolor\":\"#2a3f5f\",\"gridcolor\":\"white\",\"linecolor\":\"white\",\"minorgridcolor\":\"white\",\"startlinecolor\":\"#2a3f5f\"},\"type\":\"carpet\"}],\"choropleth\":[{\"colorbar\":{\"outlinewidth\":0,\"ticks\":\"\"},\"type\":\"choropleth\"}],\"contour\":[{\"colorbar\":{\"outlinewidth\":0,\"ticks\":\"\"},\"colorscale\":[[0.0,\"#0d0887\"],[0.1111111111111111,\"#46039f\"],[0.2222222222222222,\"#7201a8\"],[0.3333333333333333,\"#9c179e\"],[0.4444444444444444,\"#bd3786\"],[0.5555555555555556,\"#d8576b\"],[0.6666666666666666,\"#ed7953\"],[0.7777777777777778,\"#fb9f3a\"],[0.8888888888888888,\"#fdca26\"],[1.0,\"#f0f921\"]],\"type\":\"contour\"}],\"contourcarpet\":[{\"colorbar\":{\"outlinewidth\":0,\"ticks\":\"\"},\"type\":\"contourcarpet\"}],\"heatmap\":[{\"colorbar\":{\"outlinewidth\":0,\"ticks\":\"\"},\"colorscale\":[[0.0,\"#0d0887\"],[0.1111111111111111,\"#46039f\"],[0.2222222222222222,\"#7201a8\"],[0.3333333333333333,\"#9c179e\"],[0.4444444444444444,\"#bd3786\"],[0.5555555555555556,\"#d8576b\"],[0.6666666666666666,\"#ed7953\"],[0.7777777777777778,\"#fb9f3a\"],[0.8888888888888888,\"#fdca26\"],[1.0,\"#f0f921\"]],\"type\":\"heatmap\"}],\"heatmapgl\":[{\"colorbar\":{\"outlinewidth\":0,\"ticks\":\"\"},\"colorscale\":[[0.0,\"#0d0887\"],[0.1111111111111111,\"#46039f\"],[0.2222222222222222,\"#7201a8\"],[0.3333333333333333,\"#9c179e\"],[0.4444444444444444,\"#bd3786\"],[0.5555555555555556,\"#d8576b\"],[0.6666666666666666,\"#ed7953\"],[0.7777777777777778,\"#fb9f3a\"],[0.8888888888888888,\"#fdca26\"],[1.0,\"#f0f921\"]],\"type\":\"heatmapgl\"}],\"histogram\":[{\"marker\":{\"pattern\":{\"fillmode\":\"overlay\",\"size\":10,\"solidity\":0.2}},\"type\":\"histogram\"}],\"histogram2d\":[{\"colorbar\":{\"outlinewidth\":0,\"ticks\":\"\"},\"colorscale\":[[0.0,\"#0d0887\"],[0.1111111111111111,\"#46039f\"],[0.2222222222222222,\"#7201a8\"],[0.3333333333333333,\"#9c179e\"],[0.4444444444444444,\"#bd3786\"],[0.5555555555555556,\"#d8576b\"],[0.6666666666666666,\"#ed7953\"],[0.7777777777777778,\"#fb9f3a\"],[0.8888888888888888,\"#fdca26\"],[1.0,\"#f0f921\"]],\"type\":\"histogram2d\"}],\"histogram2dcontour\":[{\"colorbar\":{\"outlinewidth\":0,\"ticks\":\"\"},\"colorscale\":[[0.0,\"#0d0887\"],[0.1111111111111111,\"#46039f\"],[0.2222222222222222,\"#7201a8\"],[0.3333333333333333,\"#9c179e\"],[0.4444444444444444,\"#bd3786\"],[0.5555555555555556,\"#d8576b\"],[0.6666666666666666,\"#ed7953\"],[0.7777777777777778,\"#fb9f3a\"],[0.8888888888888888,\"#fdca26\"],[1.0,\"#f0f921\"]],\"type\":\"histogram2dcontour\"}],\"mesh3d\":[{\"colorbar\":{\"outlinewidth\":0,\"ticks\":\"\"},\"type\":\"mesh3d\"}],\"parcoords\":[{\"line\":{\"colorbar\":{\"outlinewidth\":0,\"ticks\":\"\"}},\"type\":\"parcoords\"}],\"pie\":[{\"automargin\":true,\"type\":\"pie\"}],\"scatter\":[{\"marker\":{\"colorbar\":{\"outlinewidth\":0,\"ticks\":\"\"}},\"type\":\"scatter\"}],\"scatter3d\":[{\"line\":{\"colorbar\":{\"outlinewidth\":0,\"ticks\":\"\"}},\"marker\":{\"colorbar\":{\"outlinewidth\":0,\"ticks\":\"\"}},\"type\":\"scatter3d\"}],\"scattercarpet\":[{\"marker\":{\"colorbar\":{\"outlinewidth\":0,\"ticks\":\"\"}},\"type\":\"scattercarpet\"}],\"scattergeo\":[{\"marker\":{\"colorbar\":{\"outlinewidth\":0,\"ticks\":\"\"}},\"type\":\"scattergeo\"}],\"scattergl\":[{\"marker\":{\"colorbar\":{\"outlinewidth\":0,\"ticks\":\"\"}},\"type\":\"scattergl\"}],\"scattermapbox\":[{\"marker\":{\"colorbar\":{\"outlinewidth\":0,\"ticks\":\"\"}},\"type\":\"scattermapbox\"}],\"scatterpolar\":[{\"marker\":{\"colorbar\":{\"outlinewidth\":0,\"ticks\":\"\"}},\"type\":\"scatterpolar\"}],\"scatterpolargl\":[{\"marker\":{\"colorbar\":{\"outlinewidth\":0,\"ticks\":\"\"}},\"type\":\"scatterpolargl\"}],\"scatterternary\":[{\"marker\":{\"colorbar\":{\"outlinewidth\":0,\"ticks\":\"\"}},\"type\":\"scatterternary\"}],\"surface\":[{\"colorbar\":{\"outlinewidth\":0,\"ticks\":\"\"},\"colorscale\":[[0.0,\"#0d0887\"],[0.1111111111111111,\"#46039f\"],[0.2222222222222222,\"#7201a8\"],[0.3333333333333333,\"#9c179e\"],[0.4444444444444444,\"#bd3786\"],[0.5555555555555556,\"#d8576b\"],[0.6666666666666666,\"#ed7953\"],[0.7777777777777778,\"#fb9f3a\"],[0.8888888888888888,\"#fdca26\"],[1.0,\"#f0f921\"]],\"type\":\"surface\"}],\"table\":[{\"cells\":{\"fill\":{\"color\":\"#EBF0F8\"},\"line\":{\"color\":\"white\"}},\"header\":{\"fill\":{\"color\":\"#C8D4E3\"},\"line\":{\"color\":\"white\"}},\"type\":\"table\"}]},\"layout\":{\"annotationdefaults\":{\"arrowcolor\":\"#2a3f5f\",\"arrowhead\":0,\"arrowwidth\":1},\"autotypenumbers\":\"strict\",\"coloraxis\":{\"colorbar\":{\"outlinewidth\":0,\"ticks\":\"\"}},\"colorscale\":{\"diverging\":[[0,\"#8e0152\"],[0.1,\"#c51b7d\"],[0.2,\"#de77ae\"],[0.3,\"#f1b6da\"],[0.4,\"#fde0ef\"],[0.5,\"#f7f7f7\"],[0.6,\"#e6f5d0\"],[0.7,\"#b8e186\"],[0.8,\"#7fbc41\"],[0.9,\"#4d9221\"],[1,\"#276419\"]],\"sequential\":[[0.0,\"#0d0887\"],[0.1111111111111111,\"#46039f\"],[0.2222222222222222,\"#7201a8\"],[0.3333333333333333,\"#9c179e\"],[0.4444444444444444,\"#bd3786\"],[0.5555555555555556,\"#d8576b\"],[0.6666666666666666,\"#ed7953\"],[0.7777777777777778,\"#fb9f3a\"],[0.8888888888888888,\"#fdca26\"],[1.0,\"#f0f921\"]],\"sequentialminus\":[[0.0,\"#0d0887\"],[0.1111111111111111,\"#46039f\"],[0.2222222222222222,\"#7201a8\"],[0.3333333333333333,\"#9c179e\"],[0.4444444444444444,\"#bd3786\"],[0.5555555555555556,\"#d8576b\"],[0.6666666666666666,\"#ed7953\"],[0.7777777777777778,\"#fb9f3a\"],[0.8888888888888888,\"#fdca26\"],[1.0,\"#f0f921\"]]},\"colorway\":[\"#636efa\",\"#EF553B\",\"#00cc96\",\"#ab63fa\",\"#FFA15A\",\"#19d3f3\",\"#FF6692\",\"#B6E880\",\"#FF97FF\",\"#FECB52\"],\"font\":{\"color\":\"#2a3f5f\"},\"geo\":{\"bgcolor\":\"white\",\"lakecolor\":\"white\",\"landcolor\":\"#E5ECF6\",\"showlakes\":true,\"showland\":true,\"subunitcolor\":\"white\"},\"hoverlabel\":{\"align\":\"left\"},\"hovermode\":\"closest\",\"mapbox\":{\"style\":\"light\"},\"paper_bgcolor\":\"white\",\"plot_bgcolor\":\"#E5ECF6\",\"polar\":{\"angularaxis\":{\"gridcolor\":\"white\",\"linecolor\":\"white\",\"ticks\":\"\"},\"bgcolor\":\"#E5ECF6\",\"radialaxis\":{\"gridcolor\":\"white\",\"linecolor\":\"white\",\"ticks\":\"\"}},\"scene\":{\"xaxis\":{\"backgroundcolor\":\"#E5ECF6\",\"gridcolor\":\"white\",\"gridwidth\":2,\"linecolor\":\"white\",\"showbackground\":true,\"ticks\":\"\",\"zerolinecolor\":\"white\"},\"yaxis\":{\"backgroundcolor\":\"#E5ECF6\",\"gridcolor\":\"white\",\"gridwidth\":2,\"linecolor\":\"white\",\"showbackground\":true,\"ticks\":\"\",\"zerolinecolor\":\"white\"},\"zaxis\":{\"backgroundcolor\":\"#E5ECF6\",\"gridcolor\":\"white\",\"gridwidth\":2,\"linecolor\":\"white\",\"showbackground\":true,\"ticks\":\"\",\"zerolinecolor\":\"white\"}},\"shapedefaults\":{\"line\":{\"color\":\"#2a3f5f\"}},\"ternary\":{\"aaxis\":{\"gridcolor\":\"white\",\"linecolor\":\"white\",\"ticks\":\"\"},\"baxis\":{\"gridcolor\":\"white\",\"linecolor\":\"white\",\"ticks\":\"\"},\"bgcolor\":\"#E5ECF6\",\"caxis\":{\"gridcolor\":\"white\",\"linecolor\":\"white\",\"ticks\":\"\"}},\"title\":{\"x\":0.05},\"xaxis\":{\"automargin\":true,\"gridcolor\":\"white\",\"linecolor\":\"white\",\"ticks\":\"\",\"title\":{\"standoff\":15},\"zerolinecolor\":\"white\",\"zerolinewidth\":2},\"yaxis\":{\"automargin\":true,\"gridcolor\":\"white\",\"linecolor\":\"white\",\"ticks\":\"\",\"title\":{\"standoff\":15},\"zerolinecolor\":\"white\",\"zerolinewidth\":2}}},\"xaxis\":{\"anchor\":\"y\",\"domain\":[0.0,1.0],\"title\":{\"text\":\"precision\"}},\"yaxis\":{\"anchor\":\"x\",\"domain\":[0.0,1.0],\"title\":{\"text\":\"recall\"}},\"legend\":{\"title\":{\"text\":\"model\"},\"tracegroupgap\":0,\"itemsizing\":\"constant\"},\"title\":{\"text\":\"Precision and Recall given classes and models\"}},                        {\"responsive\": true}                    ).then(function(){\n",
       "                            \n",
       "var gd = document.getElementById('b2cedacb-9628-4f1d-8943-155dbcf71ca6');\n",
       "var x = new MutationObserver(function (mutations, observer) {{\n",
       "        var display = window.getComputedStyle(gd).display;\n",
       "        if (!display || display === 'none') {{\n",
       "            console.log([gd, 'removed!']);\n",
       "            Plotly.purge(gd);\n",
       "            observer.disconnect();\n",
       "        }}\n",
       "}});\n",
       "\n",
       "// Listen for the removal of the full notebook cells\n",
       "var notebookContainer = gd.closest('#notebook-container');\n",
       "if (notebookContainer) {{\n",
       "    x.observe(notebookContainer, {childList: true});\n",
       "}}\n",
       "\n",
       "// Listen for the clearing of the current output cell\n",
       "var outputEl = gd.closest('.output');\n",
       "if (outputEl) {{\n",
       "    x.observe(outputEl, {childList: true});\n",
       "}}\n",
       "\n",
       "                        })                };                });            </script>        </div>"
      ],
      "text/plain": [
       "Figure({\n",
       "    'data': [{'customdata': array([['adhesion'],\n",
       "                                   ['autres'],\n",
       "                                   ['bilan'],\n",
       "                                   ['compte'],\n",
       "                                   ['habitation'],\n",
       "                                   ['modification'],\n",
       "                                   ['regularisation'],\n",
       "                                   ['resiliation'],\n",
       "                                   ['sinistres'],\n",
       "                                   ['succession'],\n",
       "                                   ['vehicule']], dtype=object),\n",
       "              'hovertemplate': ('model=RNN<br>precision=%{x}<br' ... '{customdata[0]}<extra></extra>'),\n",
       "              'legendgroup': 'RNN',\n",
       "              'marker': {'color': '#636efa',\n",
       "                         'size': array([ 3.,  1.,  1.,  3.,  8.,  2.,  1.,  6.,  1.,  1., 13.]),\n",
       "                         'sizemode': 'area',\n",
       "                         'sizeref': 0.0325,\n",
       "                         'symbol': 'circle'},\n",
       "              'mode': 'markers',\n",
       "              'name': 'RNN',\n",
       "              'orientation': 'v',\n",
       "              'showlegend': True,\n",
       "              'type': 'scatter',\n",
       "              'x': array([0.   , 0.   , 0.   , 0.   , 0.   , 0.   , 0.   , 0.   , 0.   , 0.   ,\n",
       "                          0.325]),\n",
       "              'xaxis': 'x',\n",
       "              'y': array([0., 0., 0., 0., 0., 0., 0., 0., 0., 0., 1.]),\n",
       "              'yaxis': 'y'},\n",
       "             {'customdata': array([['adhesion'],\n",
       "                                   ['autres'],\n",
       "                                   ['bilan'],\n",
       "                                   ['compte'],\n",
       "                                   ['habitation'],\n",
       "                                   ['modification'],\n",
       "                                   ['regularisation'],\n",
       "                                   ['resiliation'],\n",
       "                                   ['sinistres'],\n",
       "                                   ['succession'],\n",
       "                                   ['vehicule']], dtype=object),\n",
       "              'hovertemplate': ('model=CNN<br>precision=%{x}<br' ... '{customdata[0]}<extra></extra>'),\n",
       "              'legendgroup': 'CNN',\n",
       "              'marker': {'color': '#EF553B',\n",
       "                         'size': array([ 3.,  1.,  1.,  3.,  8.,  2.,  1.,  6.,  1.,  1., 13.]),\n",
       "                         'sizemode': 'area',\n",
       "                         'sizeref': 0.0325,\n",
       "                         'symbol': 'circle'},\n",
       "              'mode': 'markers',\n",
       "              'name': 'CNN',\n",
       "              'orientation': 'v',\n",
       "              'showlegend': True,\n",
       "              'type': 'scatter',\n",
       "              'x': array([0.   , 0.   , 0.   , 0.   , 0.   , 0.   , 0.   , 0.   , 0.   , 0.   ,\n",
       "                          0.325]),\n",
       "              'xaxis': 'x',\n",
       "              'y': array([0., 0., 0., 0., 0., 0., 0., 0., 0., 0., 1.]),\n",
       "              'yaxis': 'y'},\n",
       "             {'customdata': array([['adhesion'],\n",
       "                                   ['autres'],\n",
       "                                   ['bilan'],\n",
       "                                   ['compte'],\n",
       "                                   ['habitation'],\n",
       "                                   ['modification'],\n",
       "                                   ['regularisation'],\n",
       "                                   ['resiliation'],\n",
       "                                   ['sinistres'],\n",
       "                                   ['succession'],\n",
       "                                   ['vehicule']], dtype=object),\n",
       "              'hovertemplate': ('model=Transformers<br>precisio' ... '{customdata[0]}<extra></extra>'),\n",
       "              'legendgroup': 'Transformers',\n",
       "              'marker': {'color': '#00cc96',\n",
       "                         'size': array([ 3.,  1.,  1.,  3.,  8.,  2.,  1.,  6.,  1.,  1., 13.]),\n",
       "                         'sizemode': 'area',\n",
       "                         'sizeref': 0.0325,\n",
       "                         'symbol': 'circle'},\n",
       "              'mode': 'markers',\n",
       "              'name': 'Transformers',\n",
       "              'orientation': 'v',\n",
       "              'showlegend': True,\n",
       "              'type': 'scatter',\n",
       "              'x': array([0.  , 0.  , 0.  , 0.  , 0.  , 0.  , 0.  , 0.15, 0.  , 0.  , 0.  ]),\n",
       "              'xaxis': 'x',\n",
       "              'y': array([0., 0., 0., 0., 0., 0., 0., 1., 0., 0., 0.]),\n",
       "              'yaxis': 'y'},\n",
       "             {'customdata': array([['adhesion'],\n",
       "                                   ['autres'],\n",
       "                                   ['bilan'],\n",
       "                                   ['compte'],\n",
       "                                   ['habitation'],\n",
       "                                   ['modification'],\n",
       "                                   ['regularisation'],\n",
       "                                   ['resiliation'],\n",
       "                                   ['sinistres'],\n",
       "                                   ['succession'],\n",
       "                                   ['vehicule']], dtype=object),\n",
       "              'hovertemplate': ('model=CamemBert<br>precision=%' ... '{customdata[0]}<extra></extra>'),\n",
       "              'legendgroup': 'CamemBert',\n",
       "              'marker': {'color': '#ab63fa',\n",
       "                         'size': array([ 3.,  1.,  1.,  3.,  8.,  2.,  1.,  6.,  1.,  1., 13.]),\n",
       "                         'sizemode': 'area',\n",
       "                         'sizeref': 0.0325,\n",
       "                         'symbol': 'circle'},\n",
       "              'mode': 'markers',\n",
       "              'name': 'CamemBert',\n",
       "              'orientation': 'v',\n",
       "              'showlegend': True,\n",
       "              'type': 'scatter',\n",
       "              'x': array([0.        , 0.        , 0.        , 0.2       , 0.30769231, 0.        ,\n",
       "                          0.        , 0.5       , 0.        , 0.        , 0.44444444]),\n",
       "              'xaxis': 'x',\n",
       "              'y': array([0.        , 0.        , 0.        , 0.33333333, 0.5       , 0.        ,\n",
       "                          0.        , 0.16666667, 0.        , 0.        , 0.30769231]),\n",
       "              'yaxis': 'y'},\n",
       "             {'customdata': array([['adhesion'],\n",
       "                                   ['autres'],\n",
       "                                   ['bilan'],\n",
       "                                   ['compte'],\n",
       "                                   ['habitation'],\n",
       "                                   ['modification'],\n",
       "                                   ['regularisation'],\n",
       "                                   ['resiliation'],\n",
       "                                   ['sinistres'],\n",
       "                                   ['succession'],\n",
       "                                   ['vehicule']], dtype=object),\n",
       "              'hovertemplate': ('model=FlauBert<br>precision=%{' ... '{customdata[0]}<extra></extra>'),\n",
       "              'legendgroup': 'FlauBert',\n",
       "              'marker': {'color': '#FFA15A',\n",
       "                         'size': array([ 3.,  1.,  1.,  3.,  8.,  2.,  1.,  6.,  1.,  1., 13.]),\n",
       "                         'sizemode': 'area',\n",
       "                         'sizeref': 0.0325,\n",
       "                         'symbol': 'circle'},\n",
       "              'mode': 'markers',\n",
       "              'name': 'FlauBert',\n",
       "              'orientation': 'v',\n",
       "              'showlegend': True,\n",
       "              'type': 'scatter',\n",
       "              'x': array([0.        , 0.        , 0.        , 0.        , 0.25      , 0.        ,\n",
       "                          0.        , 0.        , 0.        , 0.        , 0.33333333]),\n",
       "              'xaxis': 'x',\n",
       "              'y': array([0.        , 0.        , 0.        , 0.        , 0.125     , 0.        ,\n",
       "                          0.        , 0.        , 0.        , 0.        , 0.92307692]),\n",
       "              'yaxis': 'y'}],\n",
       "    'layout': {'legend': {'itemsizing': 'constant', 'title': {'text': 'model'}, 'tracegroupgap': 0},\n",
       "               'template': '...',\n",
       "               'title': {'text': 'Precision and Recall given classes and models'},\n",
       "               'xaxis': {'anchor': 'y', 'domain': [0.0, 1.0], 'title': {'text': 'precision'}},\n",
       "               'yaxis': {'anchor': 'x', 'domain': [0.0, 1.0], 'title': {'text': 'recall'}}}\n",
       "})"
      ]
     },
     "execution_count": 40,
     "metadata": {},
     "output_type": "execute_result"
    }
   ],
   "source": [
    "px.scatter(ALL_cls_report_df, \n",
    "             x=\"precision\", \n",
    "             y=\"recall\", \n",
    "             size='support', \n",
    "             color='model',\n",
    "             hover_data=['class'],\n",
    "             title=\"Precision and Recall given classes and models\")"
   ]
  },
  {
   "cell_type": "markdown",
   "metadata": {},
   "source": [
    "⚠️⚠️ **The metrics above are computed on a very small sample and may therefore be misleading. Please use your own dataset to compare extensively the models and their performances** ⚠️⚠️"
   ]
  }
 ],
 "metadata": {
  "kernelspec": {
   "display_name": "env_melusine37",
   "language": "python",
   "name": "env_melusine37"
  },
  "language_info": {
   "codemirror_mode": {
    "name": "ipython",
    "version": 3
   },
   "file_extension": ".py",
   "mimetype": "text/x-python",
   "name": "python",
   "nbconvert_exporter": "python",
   "pygments_lexer": "ipython3",
   "version": "3.7.12"
  },
  "pycharm": {
   "stem_cell": {
    "cell_type": "raw",
    "metadata": {
     "collapsed": false
    },
    "source": []
   }
  }
 },
 "nbformat": 4,
 "nbformat_minor": 4
}
