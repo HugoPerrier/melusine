{
 "cells": [
  {
   "cell_type": "markdown",
   "metadata": {},
   "source": [
    "# Prepare_email tutorial"
   ]
  },
  {
   "cell_type": "markdown",
   "metadata": {},
   "source": [
    "The Melusine **prepare_email subpackage** provides preprocessing subpackages all providing several preprocessing functions to be applied in a particular order.\n",
    "\n",
    "**The functions are all designed to be applied on rows of dataframes. They should be wrapped in a TransformerScheduler object before being integrated into an execution Pipeline.**"
   ]
  },
  {
   "cell_type": "code",
   "execution_count": 48,
   "metadata": {},
   "outputs": [],
   "source": [
    "from melusine.data.data_loader import load_email_data\n",
    "df_emails = load_email_data()"
   ]
  },
  {
   "cell_type": "code",
   "execution_count": 49,
   "metadata": {},
   "outputs": [
    {
     "data": {
      "text/plain": [
       "Index(['body', 'header', 'date', 'from', 'to', 'attachment', 'sexe', 'age',\n",
       "       'label'],\n",
       "      dtype='object')"
      ]
     },
     "execution_count": 49,
     "metadata": {},
     "output_type": "execute_result"
    }
   ],
   "source": [
    "df_emails.columns"
   ]
  },
  {
   "cell_type": "markdown",
   "metadata": {},
   "source": [
    "## Manage_transfer_reply subpackage"
   ]
  },
  {
   "cell_type": "markdown",
   "metadata": {},
   "source": [
    "The manage_transfer_reply subpackage provides several functions to preprocess the transfers and replies contained in the body of an email. All the functions are all designed to be applied on rows of dataframes."
   ]
  },
  {
   "cell_type": "markdown",
   "metadata": {},
   "source": [
    "### check_mail_begin_by_transfer function"
   ]
  },
  {
   "cell_type": "markdown",
   "metadata": {},
   "source": [
    "**check_mail_begin_by_transfer** returns True if the *body* starts with given regex 'begin_transfer', False if not."
   ]
  },
  {
   "cell_type": "code",
   "execution_count": 50,
   "metadata": {},
   "outputs": [],
   "source": [
    "from melusine.prepare_email.manage_transfer_reply import check_mail_begin_by_transfer"
   ]
  },
  {
   "cell_type": "code",
   "execution_count": 51,
   "metadata": {},
   "outputs": [
    {
     "name": "stdout",
     "output_type": "stream",
     "text": [
      " \n",
      "  \n",
      "  \n",
      "  \n",
      " ----- Transféré par Conseiller le 24/05/2018 11:49 ----- \n",
      "  \n",
      " De :\tDupont <monsieurdupont@extensiona.com> \n",
      " A :\tconseiller@Societeimaginaire.fr \n",
      " Cc :\tSociete@www.Societe.fr \n",
      " Date :\t24/05/2018 11:36 \n",
      " Objet :\tDevis habitation \n",
      "  \n",
      "  \n",
      "  \n",
      " Bonjour \n",
      " Je suis client chez vous \n",
      " Pouvez vous m établir un devis pour mon fils qui souhaite \n",
      " louer l’appartement suivant : \n",
      " 25 rue du rueimaginaire 77000 \n",
      " Merci \n",
      " Envoyé de mon iPhone\n",
      "\n",
      "\n",
      "True\n"
     ]
    }
   ],
   "source": [
    "row_with_direct_transfer = df_emails.loc[0,:]\n",
    "print(row_with_direct_transfer.body)\n",
    "print('\\n')\n",
    "print(check_mail_begin_by_transfer(row_with_direct_transfer))"
   ]
  },
  {
   "cell_type": "code",
   "execution_count": 52,
   "metadata": {},
   "outputs": [
    {
     "name": "stdout",
     "output_type": "stream",
     "text": [
      " Madame, Monsieur, \n",
      " \n",
      " Je vous avais contactés car j'avais pour \n",
      " projet d'agrandir ma maison. J'avais reçu un devis pour lequel je n'avais \n",
      " pas donné suite, les travaux n'étant pas encore réalisés. \n",
      "  \n",
      " Le projet a maintenant été porté à son terme et je voudrais donc revoir \n",
      " votre offre si possible. \n",
      "  \n",
      " Je désire garder le même type de contrat. \n",
      " Je suis à votre disposition pour tout renseignement complémentaires. \n",
      "  \n",
      " Sincères salutations \n",
      " Monsieur Dupont \n",
      "  \n",
      "\n",
      "\n",
      "False\n"
     ]
    }
   ],
   "source": [
    "row_without_direct_transfer = df_emails.loc[5,:]\n",
    "print(row_without_direct_transfer.body)\n",
    "print('\\n')\n",
    "print(check_mail_begin_by_transfer(row_without_direct_transfer))"
   ]
  },
  {
   "cell_type": "markdown",
   "metadata": {},
   "source": [
    "### update_info_for_transfer_mail function"
   ]
  },
  {
   "cell_type": "markdown",
   "metadata": {},
   "source": [
    "** update_info_for_transfer_mail** extracts and updates informations from emails if the value of the **is_begin_transfer** column returned by the **check_mail_begin_by_transfer** fuction is True.\n",
    "\n",
    "The informations are extracted from the **body** column to update the following columns : \n",
    "- **header**\n",
    "- **from**\n",
    "- **to**\n",
    "- **date**\n",
    "\n",
    "The **body** column will then be cleaned of the updated informations."
   ]
  },
  {
   "cell_type": "code",
   "execution_count": 53,
   "metadata": {},
   "outputs": [],
   "source": [
    "from melusine.prepare_email.manage_transfer_reply import update_info_for_transfer_mail"
   ]
  },
  {
   "cell_type": "code",
   "execution_count": 54,
   "metadata": {},
   "outputs": [
    {
     "name": "stdout",
     "output_type": "stream",
     "text": [
      " \n",
      "  \n",
      "  \n",
      "  \n",
      " ----- Transféré par Conseiller le 24/05/2018 11:49 ----- \n",
      "  \n",
      " De :\tDupont <monsieurdupont@extensiona.com> \n",
      " A :\tconseiller@Societeimaginaire.fr \n",
      " Cc :\tSociete@www.Societe.fr \n",
      " Date :\t24/05/2018 11:36 \n",
      " Objet :\tDevis habitation \n",
      "  \n",
      "  \n",
      "  \n",
      " Bonjour \n",
      " Je suis client chez vous \n",
      " Pouvez vous m établir un devis pour mon fils qui souhaite \n",
      " louer l’appartement suivant : \n",
      " 25 rue du rueimaginaire 77000 \n",
      " Merci \n",
      " Envoyé de mon iPhone\n",
      "\n",
      "\n",
      "Tr : Devis habitation\n",
      "jeudi 24 mai 2018 11 h 49 CEST\n",
      "conseiller1@societeimaginaire.fr\n",
      "demandes@societeimaginaire.fr\n"
     ]
    }
   ],
   "source": [
    "row_with_direct_transfer = df_emails.loc[0,:].copy()\n",
    "print(row_with_direct_transfer.body)\n",
    "print('\\n')\n",
    "print(row_with_direct_transfer.header)\n",
    "print(row_with_direct_transfer.date)\n",
    "print(row_with_direct_transfer['from'])\n",
    "print(row_with_direct_transfer.to)"
   ]
  },
  {
   "cell_type": "code",
   "execution_count": 55,
   "metadata": {},
   "outputs": [
    {
     "data": {
      "text/plain": [
       "True"
      ]
     },
     "execution_count": 55,
     "metadata": {},
     "output_type": "execute_result"
    }
   ],
   "source": [
    "row_with_direct_transfer['is_begin_by_transfer'] = check_mail_begin_by_transfer(row_with_direct_transfer)\n",
    "row_with_direct_transfer['is_begin_by_transfer']"
   ]
  },
  {
   "cell_type": "code",
   "execution_count": 56,
   "metadata": {},
   "outputs": [],
   "source": [
    "row_with_direct_transfer = update_info_for_transfer_mail(row_with_direct_transfer)"
   ]
  },
  {
   "cell_type": "code",
   "execution_count": 57,
   "metadata": {},
   "outputs": [
    {
     "name": "stdout",
     "output_type": "stream",
     "text": [
      " \n",
      "  \n",
      "  \n",
      "  \n",
      " Bonjour \n",
      " Je suis client chez vous \n",
      " Pouvez vous m établir un devis pour mon fils qui souhaite \n",
      " louer l’appartement suivant : \n",
      " 25 rue du rueimaginaire 77000 \n",
      " Merci \n",
      " Envoyé de mon iPhone\n",
      "\n",
      "\n",
      "Devis habitation\n",
      "24/05/2018 11:36\n",
      "Dupont <monsieurdupont@extensiona.com>\n",
      "conseiller@Societeimaginaire.fr\n"
     ]
    }
   ],
   "source": [
    "print(row_with_direct_transfer.body)\n",
    "print('\\n')\n",
    "print(row_with_direct_transfer.header)\n",
    "print(row_with_direct_transfer.date)\n",
    "print(row_with_direct_transfer['from'])\n",
    "print(row_with_direct_transfer.to)"
   ]
  },
  {
   "cell_type": "markdown",
   "metadata": {},
   "source": [
    "### add_boolean_answer function"
   ]
  },
  {
   "cell_type": "markdown",
   "metadata": {},
   "source": [
    "**add_boolean_answer function** returns True if the **header** column indicates that the email is a reply, False if not."
   ]
  },
  {
   "cell_type": "code",
   "execution_count": 58,
   "metadata": {},
   "outputs": [],
   "source": [
    "from melusine.prepare_email.manage_transfer_reply import add_boolean_answer"
   ]
  },
  {
   "cell_type": "code",
   "execution_count": 59,
   "metadata": {},
   "outputs": [
    {
     "data": {
      "text/plain": [
       "\"Re: Envoi d'un document de la Société Imaginaire\""
      ]
     },
     "execution_count": 59,
     "metadata": {},
     "output_type": "execute_result"
    }
   ],
   "source": [
    "row_with_answer = df_emails.loc[2,:]\n",
    "row_with_answer.header"
   ]
  },
  {
   "cell_type": "code",
   "execution_count": 60,
   "metadata": {},
   "outputs": [
    {
     "data": {
      "text/plain": [
       "True"
      ]
     },
     "execution_count": 60,
     "metadata": {},
     "output_type": "execute_result"
    }
   ],
   "source": [
    "add_boolean_answer(row_with_answer)"
   ]
  },
  {
   "cell_type": "code",
   "execution_count": 61,
   "metadata": {},
   "outputs": [
    {
     "data": {
      "text/html": [
       "<div>\n",
       "<style scoped>\n",
       "    .dataframe tbody tr th:only-of-type {\n",
       "        vertical-align: middle;\n",
       "    }\n",
       "\n",
       "    .dataframe tbody tr th {\n",
       "        vertical-align: top;\n",
       "    }\n",
       "\n",
       "    .dataframe thead th {\n",
       "        text-align: right;\n",
       "    }\n",
       "</style>\n",
       "<table border=\"1\" class=\"dataframe\">\n",
       "  <thead>\n",
       "    <tr style=\"text-align: right;\">\n",
       "      <th></th>\n",
       "      <th>is_answer</th>\n",
       "      <th>body</th>\n",
       "    </tr>\n",
       "  </thead>\n",
       "  <tbody>\n",
       "    <tr>\n",
       "      <th>0</th>\n",
       "      <td>False</td>\n",
       "      <td>\\n  \\n  \\n  \\n ----- Transféré par Conseiller...</td>\n",
       "    </tr>\n",
       "    <tr>\n",
       "      <th>1</th>\n",
       "      <td>False</td>\n",
       "      <td>\\n  \\n  \\n  \\n ----- Transféré par Conseiller...</td>\n",
       "    </tr>\n",
       "    <tr>\n",
       "      <th>2</th>\n",
       "      <td>True</td>\n",
       "      <td>\\n  \\n  \\n Bonjours, \\n  \\n Suite a notre con...</td>\n",
       "    </tr>\n",
       "    <tr>\n",
       "      <th>3</th>\n",
       "      <td>True</td>\n",
       "      <td>\\n  \\n  \\n  \\n  \\n Bonjour, \\n  \\n  \\n Je fai...</td>\n",
       "    </tr>\n",
       "    <tr>\n",
       "      <th>4</th>\n",
       "      <td>False</td>\n",
       "      <td>\\n  \\n  \\n Bonjour, \\n Voici ci joint mon bul...</td>\n",
       "    </tr>\n",
       "    <tr>\n",
       "      <th>5</th>\n",
       "      <td>False</td>\n",
       "      <td>Madame, Monsieur, \\n \\n Je vous avais contact...</td>\n",
       "    </tr>\n",
       "    <tr>\n",
       "      <th>6</th>\n",
       "      <td>False</td>\n",
       "      <td>\\n  \\n  \\n  \\n  \\n  \\n  \\n ----- Transféré pa...</td>\n",
       "    </tr>\n",
       "    <tr>\n",
       "      <th>7</th>\n",
       "      <td>False</td>\n",
       "      <td>\\n  \\n  \\n  \\n  \\n Bonjour, \\n  \\n  \\n  \\n Je...</td>\n",
       "    </tr>\n",
       "    <tr>\n",
       "      <th>8</th>\n",
       "      <td>True</td>\n",
       "      <td>\\n  \\n  \\n Bonjour, \\n  \\n Voici la copie du ...</td>\n",
       "    </tr>\n",
       "    <tr>\n",
       "      <th>9</th>\n",
       "      <td>False</td>\n",
       "      <td>\\n  \\n  \\n  \\n  \\n  \\n  \\n  \\n BONJOUR \\n  \\n...</td>\n",
       "    </tr>\n",
       "    <tr>\n",
       "      <th>10</th>\n",
       "      <td>False</td>\n",
       "      <td>\\n  \\n  \\n ----- Transféré par Conseiller le ...</td>\n",
       "    </tr>\n",
       "    <tr>\n",
       "      <th>11</th>\n",
       "      <td>False</td>\n",
       "      <td>\\n  \\n  \\n Bonjour, \\n  \\n Suite à notre entr...</td>\n",
       "    </tr>\n",
       "    <tr>\n",
       "      <th>12</th>\n",
       "      <td>False</td>\n",
       "      <td>\\n  \\n  \\n  \\n De :\\tDupont &lt;monsieurdupont@e...</td>\n",
       "    </tr>\n",
       "    <tr>\n",
       "      <th>13</th>\n",
       "      <td>False</td>\n",
       "      <td>\\n  \\n  \\n  \\n  \\n  \\n  \\n -- \\n Monsieur Dup...</td>\n",
       "    </tr>\n",
       "    <tr>\n",
       "      <th>14</th>\n",
       "      <td>False</td>\n",
       "      <td>\\n  \\n  \\n ----- Transféré par Conseiller le ...</td>\n",
       "    </tr>\n",
       "    <tr>\n",
       "      <th>15</th>\n",
       "      <td>False</td>\n",
       "      <td>\\n  \\n  \\n  \\n  \\n  \\n  \\n  \\n  \\n Bonjour Ma...</td>\n",
       "    </tr>\n",
       "    <tr>\n",
       "      <th>16</th>\n",
       "      <td>False</td>\n",
       "      <td>\\n  \\n  \\n  \\n Bonjour madame, \\n Suite à not...</td>\n",
       "    </tr>\n",
       "    <tr>\n",
       "      <th>17</th>\n",
       "      <td>False</td>\n",
       "      <td>\\n  \\n  \\n  \\n Bonjour, \\n Vous trouverez ci-...</td>\n",
       "    </tr>\n",
       "    <tr>\n",
       "      <th>18</th>\n",
       "      <td>False</td>\n",
       "      <td>\\n  \\n  \\n  \\n Vous trouverez en pièce jointe...</td>\n",
       "    </tr>\n",
       "    <tr>\n",
       "      <th>19</th>\n",
       "      <td>True</td>\n",
       "      <td>\\n  \\n  \\n  \\n  \\n  \\n  \\n Le lundi 4 juin 20...</td>\n",
       "    </tr>\n",
       "    <tr>\n",
       "      <th>20</th>\n",
       "      <td>False</td>\n",
       "      <td>\\n  \\n  \\n Bonjour, \\n  \\n Permettez-moi de v...</td>\n",
       "    </tr>\n",
       "    <tr>\n",
       "      <th>21</th>\n",
       "      <td>False</td>\n",
       "      <td>\\n  \\n  \\n  \\n  \\n  ----- Transféré par Conse...</td>\n",
       "    </tr>\n",
       "    <tr>\n",
       "      <th>22</th>\n",
       "      <td>False</td>\n",
       "      <td>\\n  \\n  \\n  \\n ----- Transféré par Conseiller...</td>\n",
       "    </tr>\n",
       "    <tr>\n",
       "      <th>23</th>\n",
       "      <td>False</td>\n",
       "      <td>\\n  \\n  \\n  \\n Bonjour , \\n  \\n Veuillez rece...</td>\n",
       "    </tr>\n",
       "    <tr>\n",
       "      <th>24</th>\n",
       "      <td>False</td>\n",
       "      <td>\\n  \\n  \\n  \\n  \\n  \\n  \\n -- \\n Monsieur Dup...</td>\n",
       "    </tr>\n",
       "    <tr>\n",
       "      <th>25</th>\n",
       "      <td>False</td>\n",
       "      <td>\\n  \\n  \\n Bonjour, je vous remercie de ce re...</td>\n",
       "    </tr>\n",
       "    <tr>\n",
       "      <th>26</th>\n",
       "      <td>False</td>\n",
       "      <td>\\n  \\n  \\n  \\n  \\n  \\n De :\\tmonsieurdupond &lt;...</td>\n",
       "    </tr>\n",
       "    <tr>\n",
       "      <th>27</th>\n",
       "      <td>True</td>\n",
       "      <td>\\n  \\n  \\n  \\n  \\n  \\n Bonjour, \\n  \\n Veuill...</td>\n",
       "    </tr>\n",
       "    <tr>\n",
       "      <th>28</th>\n",
       "      <td>False</td>\n",
       "      <td>\\n  \\n  \\n Bonjour \\n Suite à notre entretien...</td>\n",
       "    </tr>\n",
       "    <tr>\n",
       "      <th>29</th>\n",
       "      <td>False</td>\n",
       "      <td>\\n  \\n  \\n  \\n  \\n Bonjour, \\n  \\n Nous souha...</td>\n",
       "    </tr>\n",
       "    <tr>\n",
       "      <th>30</th>\n",
       "      <td>False</td>\n",
       "      <td>\\n  \\n  \\n  \\n Nous restons à votre dispositi...</td>\n",
       "    </tr>\n",
       "    <tr>\n",
       "      <th>31</th>\n",
       "      <td>False</td>\n",
       "      <td>\\n  \\n  \\n  \\n  \\n De :\\tMonsieur Dupont &lt;mon...</td>\n",
       "    </tr>\n",
       "    <tr>\n",
       "      <th>32</th>\n",
       "      <td>False</td>\n",
       "      <td>\\n  \\n  \\n De :\\tDupont &lt;monsieurdupont@exten...</td>\n",
       "    </tr>\n",
       "    <tr>\n",
       "      <th>33</th>\n",
       "      <td>False</td>\n",
       "      <td>\\n  \\n  \\n  \\n  \\n  \\n Madame, Monsieur, \\n  ...</td>\n",
       "    </tr>\n",
       "    <tr>\n",
       "      <th>34</th>\n",
       "      <td>False</td>\n",
       "      <td>\\n  \\n  \\n  \\n Madame, Monsieur, \\n  \\n Je vo...</td>\n",
       "    </tr>\n",
       "    <tr>\n",
       "      <th>35</th>\n",
       "      <td>False</td>\n",
       "      <td>\\n  \\n  \\n  \\n  \\n Envoyé de mon iPhone \\n  \\...</td>\n",
       "    </tr>\n",
       "    <tr>\n",
       "      <th>36</th>\n",
       "      <td>False</td>\n",
       "      <td>\\n  \\n  \\n Bonjour \\n  \\n Je m'aperçois ce jo...</td>\n",
       "    </tr>\n",
       "    <tr>\n",
       "      <th>37</th>\n",
       "      <td>False</td>\n",
       "      <td>\\n  \\n  \\n  \\n Bonjour , \\n Voici, ci-joins l...</td>\n",
       "    </tr>\n",
       "    <tr>\n",
       "      <th>38</th>\n",
       "      <td>False</td>\n",
       "      <td>\\n  \\n  \\n Centre Imaginaire \\n  \\n 00 Rue de...</td>\n",
       "    </tr>\n",
       "    <tr>\n",
       "      <th>39</th>\n",
       "      <td>False</td>\n",
       "      <td>\\n  \\n  \\n (Embedded image moved to file: pic...</td>\n",
       "    </tr>\n",
       "  </tbody>\n",
       "</table>\n",
       "</div>"
      ],
      "text/plain": [
       "    is_answer                                               body\n",
       "0       False   \\n  \\n  \\n  \\n ----- Transféré par Conseiller...\n",
       "1       False   \\n  \\n  \\n  \\n ----- Transféré par Conseiller...\n",
       "2        True   \\n  \\n  \\n Bonjours, \\n  \\n Suite a notre con...\n",
       "3        True   \\n  \\n  \\n  \\n  \\n Bonjour, \\n  \\n  \\n Je fai...\n",
       "4       False   \\n  \\n  \\n Bonjour, \\n Voici ci joint mon bul...\n",
       "5       False   Madame, Monsieur, \\n \\n Je vous avais contact...\n",
       "6       False   \\n  \\n  \\n  \\n  \\n  \\n  \\n ----- Transféré pa...\n",
       "7       False   \\n  \\n  \\n  \\n  \\n Bonjour, \\n  \\n  \\n  \\n Je...\n",
       "8        True   \\n  \\n  \\n Bonjour, \\n  \\n Voici la copie du ...\n",
       "9       False   \\n  \\n  \\n  \\n  \\n  \\n  \\n  \\n BONJOUR \\n  \\n...\n",
       "10      False   \\n  \\n  \\n ----- Transféré par Conseiller le ...\n",
       "11      False   \\n  \\n  \\n Bonjour, \\n  \\n Suite à notre entr...\n",
       "12      False   \\n  \\n  \\n  \\n De :\\tDupont <monsieurdupont@e...\n",
       "13      False   \\n  \\n  \\n  \\n  \\n  \\n  \\n -- \\n Monsieur Dup...\n",
       "14      False   \\n  \\n  \\n ----- Transféré par Conseiller le ...\n",
       "15      False   \\n  \\n  \\n  \\n  \\n  \\n  \\n  \\n  \\n Bonjour Ma...\n",
       "16      False   \\n  \\n  \\n  \\n Bonjour madame, \\n Suite à not...\n",
       "17      False   \\n  \\n  \\n  \\n Bonjour, \\n Vous trouverez ci-...\n",
       "18      False   \\n  \\n  \\n  \\n Vous trouverez en pièce jointe...\n",
       "19       True   \\n  \\n  \\n  \\n  \\n  \\n  \\n Le lundi 4 juin 20...\n",
       "20      False   \\n  \\n  \\n Bonjour, \\n  \\n Permettez-moi de v...\n",
       "21      False   \\n  \\n  \\n  \\n  \\n  ----- Transféré par Conse...\n",
       "22      False   \\n  \\n  \\n  \\n ----- Transféré par Conseiller...\n",
       "23      False   \\n  \\n  \\n  \\n Bonjour , \\n  \\n Veuillez rece...\n",
       "24      False   \\n  \\n  \\n  \\n  \\n  \\n  \\n -- \\n Monsieur Dup...\n",
       "25      False   \\n  \\n  \\n Bonjour, je vous remercie de ce re...\n",
       "26      False   \\n  \\n  \\n  \\n  \\n  \\n De :\\tmonsieurdupond <...\n",
       "27       True   \\n  \\n  \\n  \\n  \\n  \\n Bonjour, \\n  \\n Veuill...\n",
       "28      False   \\n  \\n  \\n Bonjour \\n Suite à notre entretien...\n",
       "29      False   \\n  \\n  \\n  \\n  \\n Bonjour, \\n  \\n Nous souha...\n",
       "30      False   \\n  \\n  \\n  \\n Nous restons à votre dispositi...\n",
       "31      False   \\n  \\n  \\n  \\n  \\n De :\\tMonsieur Dupont <mon...\n",
       "32      False   \\n  \\n  \\n De :\\tDupont <monsieurdupont@exten...\n",
       "33      False   \\n  \\n  \\n  \\n  \\n  \\n Madame, Monsieur, \\n  ...\n",
       "34      False   \\n  \\n  \\n  \\n Madame, Monsieur, \\n  \\n Je vo...\n",
       "35      False   \\n  \\n  \\n  \\n  \\n Envoyé de mon iPhone \\n  \\...\n",
       "36      False   \\n  \\n  \\n Bonjour \\n  \\n Je m'aperçois ce jo...\n",
       "37      False   \\n  \\n  \\n  \\n Bonjour , \\n Voici, ci-joins l...\n",
       "38      False   \\n  \\n  \\n Centre Imaginaire \\n  \\n 00 Rue de...\n",
       "39      False   \\n  \\n  \\n (Embedded image moved to file: pic..."
      ]
     },
     "execution_count": 61,
     "metadata": {},
     "output_type": "execute_result"
    }
   ],
   "source": [
    "df_emails['is_answer'] = df_emails.apply(add_boolean_answer, axis=1)\n",
    "df_emails[['is_answer','body']]"
   ]
  },
  {
   "cell_type": "markdown",
   "metadata": {},
   "source": [
    "### add_boolean_transfer function"
   ]
  },
  {
   "cell_type": "markdown",
   "metadata": {},
   "source": [
    "**add_boolean_transfer function** returns True if the **header** column indicates that the email is a transfer, False if not."
   ]
  },
  {
   "cell_type": "code",
   "execution_count": 62,
   "metadata": {},
   "outputs": [],
   "source": [
    "from melusine.prepare_email.manage_transfer_reply import add_boolean_transfer"
   ]
  },
  {
   "cell_type": "code",
   "execution_count": 63,
   "metadata": {},
   "outputs": [
    {
     "data": {
      "text/plain": [
       "\"Tr : Assurance d'un nouveau logement\""
      ]
     },
     "execution_count": 63,
     "metadata": {},
     "output_type": "execute_result"
    }
   ],
   "source": [
    "row_with_transfer = df_emails.loc[6,:]\n",
    "row_with_transfer.header"
   ]
  },
  {
   "cell_type": "code",
   "execution_count": 64,
   "metadata": {},
   "outputs": [
    {
     "data": {
      "text/plain": [
       "True"
      ]
     },
     "execution_count": 64,
     "metadata": {},
     "output_type": "execute_result"
    }
   ],
   "source": [
    "add_boolean_transfer(row_with_transfer)"
   ]
  },
  {
   "cell_type": "markdown",
   "metadata": {},
   "source": [
    "### manage_transfer_reply transformer"
   ]
  },
  {
   "cell_type": "markdown",
   "metadata": {},
   "source": [
    "The functions of the manage_transfer_reply subpackage can be wrapped in a TransformerScheduler object to be applied directly on a dataframe :"
   ]
  },
  {
   "cell_type": "code",
   "execution_count": 65,
   "metadata": {},
   "outputs": [],
   "source": [
    "from melusine.utils.transformer_scheduler import TransformerScheduler\n",
    "\n",
    "ManageTransferReplyTransformer = TransformerScheduler(\n",
    "    functions_scheduler=[\n",
    "        (check_mail_begin_by_transfer, None, ['is_begin_by_transfer']),\n",
    "        (update_info_for_transfer_mail, None, None),\n",
    "        (add_boolean_answer, None, ['is_answer']),\n",
    "        (add_boolean_transfer, None, ['is_transfer'])\n",
    "    ]\n",
    ")"
   ]
  },
  {
   "cell_type": "code",
   "execution_count": 66,
   "metadata": {},
   "outputs": [],
   "source": [
    "df_emails = load_email_data()"
   ]
  },
  {
   "cell_type": "code",
   "execution_count": 67,
   "metadata": {},
   "outputs": [
    {
     "data": {
      "text/plain": [
       "Index(['body', 'header', 'date', 'from', 'to', 'attachment', 'sexe', 'age',\n",
       "       'label'],\n",
       "      dtype='object')"
      ]
     },
     "execution_count": 67,
     "metadata": {},
     "output_type": "execute_result"
    }
   ],
   "source": [
    "df_emails.columns"
   ]
  },
  {
   "cell_type": "code",
   "execution_count": 68,
   "metadata": {},
   "outputs": [],
   "source": [
    "df_emails = ManageTransferReplyTransformer.fit_transform(df_emails)"
   ]
  },
  {
   "cell_type": "code",
   "execution_count": 69,
   "metadata": {},
   "outputs": [
    {
     "data": {
      "text/plain": [
       "Index(['body', 'header', 'date', 'from', 'to', 'attachment', 'sexe', 'age',\n",
       "       'label', 'is_begin_by_transfer', 'is_answer', 'is_transfer'],\n",
       "      dtype='object')"
      ]
     },
     "execution_count": 69,
     "metadata": {},
     "output_type": "execute_result"
    }
   ],
   "source": [
    "df_emails.columns"
   ]
  },
  {
   "cell_type": "markdown",
   "metadata": {},
   "source": [
    "## Build_historic and mail_segmenting subpackage"
   ]
  },
  {
   "cell_type": "markdown",
   "metadata": {},
   "source": [
    "### build_historic function"
   ]
  },
  {
   "cell_type": "markdown",
   "metadata": {},
   "source": [
    "The **build_historic subpackage** provides a **build_historic function** to segment the messages components of the **body column** of an email.\n",
    "\n",
    "It returns a list of dictionaries, one dictionary per message in inverse chronological order (the first dictionary corresponds to the last message while the last dictionary corresponds to the first message). Each dictionary has two keys:\n",
    "\n",
    "    {'text': raw text without metadata,\n",
    "     'meta': metadata\n",
    "     }.. \n",
    "\n",
    "**build_historic** is designed to be applied on rows of dataframes."
   ]
  },
  {
   "cell_type": "code",
   "execution_count": 70,
   "metadata": {},
   "outputs": [
    {
     "name": "stdout",
     "output_type": "stream",
     "text": [
      " \n",
      "  \n",
      "  \n",
      " Bonjours, \n",
      "  \n",
      " Suite a notre conversation téléphonique de Mardi , pourriez vous me dire la \n",
      " somme que je vous dois afin d'être en régularisation . \n",
      "  \n",
      " Merci bonne journée \n",
      "  \n",
      " Le mar. 22 mai 2018 à 10:20,  <conseiller@Societeimaginaire.fr> a écrit : \n",
      " Bonjour. \n",
      "  \n",
      " Merci de bien vouloir prendre connaissance du document ci-joint : \n",
      " 1 - Relevé d'identité postal (contrats) \n",
      "  \n",
      " Cordialement. \n",
      "  \n",
      " La Mututelle Imaginaire \n",
      "  \n",
      " La visualisation des fichiers PDF nécessite Adobe Reader. \n",
      "  \n"
     ]
    }
   ],
   "source": [
    "row = df_emails.loc[2,:].copy()\n",
    "print(row.body)"
   ]
  },
  {
   "cell_type": "code",
   "execution_count": 71,
   "metadata": {},
   "outputs": [],
   "source": [
    "from melusine.prepare_email.build_historic import build_historic\n",
    "\n",
    "row['structured_historic'] = build_historic(row)"
   ]
  },
  {
   "cell_type": "markdown",
   "metadata": {},
   "source": [
    "There is no metadata for the last message."
   ]
  },
  {
   "cell_type": "code",
   "execution_count": 72,
   "metadata": {},
   "outputs": [
    {
     "name": "stdout",
     "output_type": "stream",
     "text": [
      "Text of last message :\n",
      " \n",
      "  \n",
      "  \n",
      " Bonjours, \n",
      "  \n",
      " Suite a notre conversation téléphonique de Mardi , pourriez vous me dire la \n",
      " somme que je vous dois afin d'être en régularisation . \n",
      "  \n",
      " Merci bonne journée\n",
      "\n",
      "\n",
      "Metadata of last message :\n",
      "\n",
      "\n",
      "\n",
      "Text of first message :\n",
      " \n",
      " Bonjour. \n",
      "  \n",
      " Merci de bien vouloir prendre connaissance du document ci-joint : \n",
      " 1 - Relevé d'identité postal (contrats) \n",
      "  \n",
      " Cordialement. \n",
      "  \n",
      " La Mututelle Imaginaire \n",
      "  \n",
      " La visualisation des fichiers PDF nécessite Adobe Reader. \n",
      "  \n",
      "\n",
      "\n",
      "Metadata of first message :\n",
      " \n",
      "  \n",
      " Le mar. 22 mai 2018 à 10:20,  <conseiller@Societeimaginaire.fr> a écrit :\n"
     ]
    }
   ],
   "source": [
    "print('Text of last message :')\n",
    "print(row['structured_historic'][0]['text'])\n",
    "print('\\n')\n",
    "print('Metadata of last message :')\n",
    "print(row['structured_historic'][0]['meta'])\n",
    "print('\\n')\n",
    "print('Text of first message :')\n",
    "print(row['structured_historic'][1]['text'])\n",
    "print('\\n')\n",
    "print('Metadata of first message :')\n",
    "print(row['structured_historic'][1]['meta'])"
   ]
  },
  {
   "cell_type": "markdown",
   "metadata": {},
   "source": [
    "### structure_email function"
   ]
  },
  {
   "cell_type": "markdown",
   "metadata": {},
   "source": [
    "The **mail_segmenting subpackage** provides a **structure_email function** to further segment the messages components of the **structured_historic column** which should contain the result of the **build_historic function** previously applied:\n",
    "- meta : the date, from and to components of the metadata will be segmented.\n",
    "- text : the header will be segmented from the text. The different parts of the text will be segmented and tagged (hello, body, greetings, signature, footer..)\n",
    "\n",
    "It returns a list of dictionaries, one dictionary per message in inverse chronological order (the first dictionary corresponds to the last message while the last dictionary corresponds to the first message). Each dictionary has two keys:\n",
    "\n",
    "    {'structured_text': {'header': header of the message,\n",
    "                          'text': [{'part': first part of the message, \n",
    "                                   'tags': tag of the first part of the message\n",
    "                                   },\n",
    "                                   ...,\n",
    "                                   {'part': last part of the message, \n",
    "                                   'tags': tag of the last part of the message\n",
    "                                   }\n",
    "                                 ]\n",
    "             }\n",
    "     'meta': {'date': date of the message,\n",
    "              'from': email address of the author of the message,\n",
    "              'to': email address of the recipient of the message\n",
    "             }\n",
    "     } \n",
    "\n",
    "**structure_email** is designed to be applied on rows of dataframes."
   ]
  },
  {
   "cell_type": "code",
   "execution_count": 73,
   "metadata": {},
   "outputs": [],
   "source": [
    "from melusine.prepare_email.mail_segmenting import structure_email\n",
    "\n",
    "row['structured_body'] = structure_email(row)"
   ]
  },
  {
   "cell_type": "code",
   "execution_count": 74,
   "metadata": {},
   "outputs": [
    {
     "name": "stdout",
     "output_type": "stream",
     "text": [
      "Date of last message :\n",
      "None\n",
      "From of last message :\n",
      "None\n",
      "To of last message :\n",
      "None\n",
      "\n",
      "\n",
      "Header of last message :\n",
      "None\n",
      "\n",
      "\n",
      "Segmented text of last message :\n",
      "HELLO :\n",
      "Bonjours,\n",
      "BODY :\n",
      " Suite a notre conversation téléphonique de Mardi , pourriez vous me dire la somme que je vous dois afin d'être en régularisation .\n",
      "GREETINGS :\n",
      "Merci bonne journée\n",
      "\n",
      "\n",
      "----------------------------------------------------------------------\n",
      "\n",
      "\n",
      "Date of first message :\n",
      " mar. 22 mai 2018 à 10:20\n",
      "From of first message :\n",
      "  <conseiller@Societeimaginaire.fr> \n",
      "To of first message :\n",
      "None\n",
      "\n",
      "\n",
      "Header of first message :\n",
      "None\n",
      "\n",
      "\n",
      "Segmented text of first message :\n",
      "HELLO :\n",
      "Bonjour.\n",
      "BODY :\n",
      "Merci de bien vouloir prendre connaissance du document ci-joint : 1 - Relevé d'identité postal (contrats) \n",
      "GREETINGS :\n",
      "Cordialement.\n",
      "BODY :\n",
      "La Mututelle Imaginaire \n",
      "FOOTER :\n",
      "La visualisation des fichiers PDF nécessite Adobe Reader.\n"
     ]
    }
   ],
   "source": [
    "print('Date of last message :')\n",
    "print(row['structured_body'][0]['meta']['date'])\n",
    "print('From of last message :')\n",
    "print(row['structured_body'][0]['meta']['from'])\n",
    "print('To of last message :')\n",
    "print(row['structured_body'][0]['meta']['to'])\n",
    "print('\\n')\n",
    "print('Header of last message :')\n",
    "print(row['structured_body'][0]['structured_text']['header'])\n",
    "print('\\n')\n",
    "print('Segmented text of last message :')\n",
    "for parts in row['structured_body'][0]['structured_text']['text']:\n",
    "    print(parts['tags']+\" :\")\n",
    "    print(parts['part'])\n",
    "print('\\n')\n",
    "print('----------------------------------------------------------------------')\n",
    "print('\\n')\n",
    "print('Date of first message :')\n",
    "print(row['structured_body'][1]['meta']['date'])\n",
    "print('From of first message :')\n",
    "print(row['structured_body'][1]['meta']['from'])\n",
    "print('To of first message :')\n",
    "print(row['structured_body'][1]['meta']['to'])\n",
    "print('\\n')\n",
    "print('Header of first message :')\n",
    "print(row['structured_body'][1]['structured_text']['header'])\n",
    "print('\\n')\n",
    "print('Segmented text of first message :')\n",
    "for parts in row['structured_body'][1]['structured_text']['text']:\n",
    "    print(parts['tags']+\" :\")\n",
    "    print(parts['part'])"
   ]
  },
  {
   "cell_type": "markdown",
   "metadata": {},
   "source": [
    "### segmenting transformer"
   ]
  },
  {
   "cell_type": "markdown",
   "metadata": {},
   "source": [
    "The **build_historic** and **structure_email** functions can be wrapped in a TransformerScheduler object to be applied directly on a dataframe :"
   ]
  },
  {
   "cell_type": "code",
   "execution_count": 75,
   "metadata": {},
   "outputs": [],
   "source": [
    "SegmentingTransformer = TransformerScheduler(\n",
    "    functions_scheduler=[\n",
    "        (build_historic, None, ['structured_historic']),\n",
    "        (structure_email, None, ['structured_body'])\n",
    "    ]\n",
    ")"
   ]
  },
  {
   "cell_type": "code",
   "execution_count": 76,
   "metadata": {},
   "outputs": [
    {
     "data": {
      "text/plain": [
       "Index(['body', 'header', 'date', 'from', 'to', 'attachment', 'sexe', 'age',\n",
       "       'label', 'is_begin_by_transfer', 'is_answer', 'is_transfer'],\n",
       "      dtype='object')"
      ]
     },
     "execution_count": 76,
     "metadata": {},
     "output_type": "execute_result"
    }
   ],
   "source": [
    "df_emails.columns"
   ]
  },
  {
   "cell_type": "code",
   "execution_count": 77,
   "metadata": {},
   "outputs": [],
   "source": [
    "df_emails = SegmentingTransformer.fit_transform(df_emails)"
   ]
  },
  {
   "cell_type": "code",
   "execution_count": 78,
   "metadata": {},
   "outputs": [
    {
     "data": {
      "text/plain": [
       "Index(['body', 'header', 'date', 'from', 'to', 'attachment', 'sexe', 'age',\n",
       "       'label', 'is_begin_by_transfer', 'is_answer', 'is_transfer',\n",
       "       'structured_historic', 'structured_body'],\n",
       "      dtype='object')"
      ]
     },
     "execution_count": 78,
     "metadata": {},
     "output_type": "execute_result"
    }
   ],
   "source": [
    "df_emails.columns"
   ]
  },
  {
   "cell_type": "markdown",
   "metadata": {},
   "source": [
    "## Body_header_extraction and cleaning subpackages"
   ]
  },
  {
   "cell_type": "markdown",
   "metadata": {},
   "source": [
    "### extract_last_body function"
   ]
  },
  {
   "cell_type": "markdown",
   "metadata": {},
   "source": [
    "The **body_header_extraction subpackage** provides a **extract_last_body function** to extract from the **structured_body column** of a row the parts of the last message that have been tagged as *body*."
   ]
  },
  {
   "cell_type": "code",
   "execution_count": 79,
   "metadata": {},
   "outputs": [
    {
     "name": "stdout",
     "output_type": "stream",
     "text": [
      " \n",
      "  \n",
      "  \n",
      " Bonjours, \n",
      "  \n",
      " Suite a notre conversation téléphonique de Mardi , pourriez vous me dire la \n",
      " somme que je vous dois afin d'être en régularisation . \n",
      "  \n",
      " Merci bonne journée \n",
      "  \n",
      " Le mar. 22 mai 2018 à 10:20,  <conseiller@Societeimaginaire.fr> a écrit : \n",
      " Bonjour. \n",
      "  \n",
      " Merci de bien vouloir prendre connaissance du document ci-joint : \n",
      " 1 - Relevé d'identité postal (contrats) \n",
      "  \n",
      " Cordialement. \n",
      "  \n",
      " La Mututelle Imaginaire \n",
      "  \n",
      " La visualisation des fichiers PDF nécessite Adobe Reader. \n",
      "  \n"
     ]
    }
   ],
   "source": [
    "print(row.body)"
   ]
  },
  {
   "cell_type": "code",
   "execution_count": 80,
   "metadata": {},
   "outputs": [
    {
     "name": "stdout",
     "output_type": "stream",
     "text": [
      " Suite a notre conversation téléphonique de Mardi , pourriez vous me dire la somme que je vous dois afin d'être en régularisation .\n"
     ]
    }
   ],
   "source": [
    "for parts in row.structured_body[0]['structured_text']['text']:\n",
    "    if parts['tags']=='BODY':\n",
    "        print(parts['part'])"
   ]
  },
  {
   "cell_type": "code",
   "execution_count": 81,
   "metadata": {},
   "outputs": [],
   "source": [
    "from melusine.prepare_email.body_header_extraction import extract_last_body\n",
    "\n",
    "row['last_body'] = extract_last_body(row)"
   ]
  },
  {
   "cell_type": "code",
   "execution_count": 82,
   "metadata": {},
   "outputs": [
    {
     "name": "stdout",
     "output_type": "stream",
     "text": [
      " Suite a notre conversation téléphonique de Mardi , pourriez vous me dire la somme que je vous dois afin d'être en régularisation . \n"
     ]
    }
   ],
   "source": [
    "print(row['last_body'])"
   ]
  },
  {
   "cell_type": "markdown",
   "metadata": {},
   "source": [
    "### cleaning subpackage"
   ]
  },
  {
   "cell_type": "markdown",
   "metadata": {},
   "source": [
    "The **cleaning subpackage** provides two functions to be applied on rows of dataframes :\n",
    "- **clean_body :** to clean the *last_body* column.\n",
    "- **clean_header :** to clean the *header* column."
   ]
  },
  {
   "cell_type": "code",
   "execution_count": 83,
   "metadata": {},
   "outputs": [
    {
     "data": {
      "text/plain": [
       "\"suite a notre conversation telephonique de  flag_date_  , pourriez vous me dire la somme que je vous dois afin d'etre en regularisation .\""
      ]
     },
     "execution_count": 83,
     "metadata": {},
     "output_type": "execute_result"
    }
   ],
   "source": [
    "from melusine.prepare_email.cleaning import clean_body\n",
    "\n",
    "clean_body(row)"
   ]
  },
  {
   "cell_type": "code",
   "execution_count": 84,
   "metadata": {},
   "outputs": [
    {
     "data": {
      "text/plain": [
       "\"envoi d'un document de la societe imaginaire\""
      ]
     },
     "execution_count": 84,
     "metadata": {},
     "output_type": "execute_result"
    }
   ],
   "source": [
    "from melusine.prepare_email.cleaning import clean_header\n",
    "\n",
    "clean_header(row)"
   ]
  },
  {
   "cell_type": "markdown",
   "metadata": {},
   "source": [
    "### LastBodyHeaderCleaning transformer"
   ]
  },
  {
   "cell_type": "markdown",
   "metadata": {},
   "source": [
    "The **extract_last_body**, **clean_body**, **clean_header** functions can be wrapped in a TransformerScheduler object to be applied directly on a dataframe :"
   ]
  },
  {
   "cell_type": "code",
   "execution_count": 85,
   "metadata": {},
   "outputs": [],
   "source": [
    "LastBodyHeaderCleaning = TransformerScheduler(\n",
    "    functions_scheduler=[\n",
    "        (extract_last_body, None, ['last_body']),\n",
    "        (clean_body, None, ['clean_body']),\n",
    "        (clean_header, None, ['clean_header'])\n",
    "    ]\n",
    ")"
   ]
  },
  {
   "cell_type": "code",
   "execution_count": 86,
   "metadata": {},
   "outputs": [
    {
     "data": {
      "text/plain": [
       "Index(['body', 'header', 'date', 'from', 'to', 'attachment', 'sexe', 'age',\n",
       "       'label', 'is_begin_by_transfer', 'is_answer', 'is_transfer',\n",
       "       'structured_historic', 'structured_body'],\n",
       "      dtype='object')"
      ]
     },
     "execution_count": 86,
     "metadata": {},
     "output_type": "execute_result"
    }
   ],
   "source": [
    "df_emails.columns"
   ]
  },
  {
   "cell_type": "code",
   "execution_count": 87,
   "metadata": {},
   "outputs": [],
   "source": [
    "df_emails = LastBodyHeaderCleaning.fit_transform(df_emails)"
   ]
  },
  {
   "cell_type": "code",
   "execution_count": 88,
   "metadata": {},
   "outputs": [
    {
     "data": {
      "text/plain": [
       "Index(['body', 'header', 'date', 'from', 'to', 'attachment', 'sexe', 'age',\n",
       "       'label', 'is_begin_by_transfer', 'is_answer', 'is_transfer',\n",
       "       'structured_historic', 'structured_body', 'last_body', 'clean_body',\n",
       "       'clean_header'],\n",
       "      dtype='object')"
      ]
     },
     "execution_count": 88,
     "metadata": {},
     "output_type": "execute_result"
    }
   ],
   "source": [
    "df_emails.columns"
   ]
  },
  {
   "cell_type": "markdown",
   "metadata": {},
   "source": [
    "## Full prepare_email pipeline"
   ]
  },
  {
   "cell_type": "code",
   "execution_count": 89,
   "metadata": {},
   "outputs": [],
   "source": [
    "df_emails = load_email_data()"
   ]
  },
  {
   "cell_type": "code",
   "execution_count": 90,
   "metadata": {},
   "outputs": [
    {
     "data": {
      "text/plain": [
       "Index(['body', 'header', 'date', 'from', 'to', 'attachment', 'sexe', 'age',\n",
       "       'label'],\n",
       "      dtype='object')"
      ]
     },
     "execution_count": 90,
     "metadata": {},
     "output_type": "execute_result"
    }
   ],
   "source": [
    "df_emails.columns"
   ]
  },
  {
   "cell_type": "code",
   "execution_count": 91,
   "metadata": {},
   "outputs": [],
   "source": [
    "from sklearn.pipeline import Pipeline\n",
    "\n",
    "# Transformer object to manage transfers and replies\n",
    "ManageTransferReply = TransformerScheduler(\n",
    "    functions_scheduler=[\n",
    "        (check_mail_begin_by_transfer, None, ['is_begin_by_transfer']),\n",
    "        (update_info_for_transfer_mail, None, None),\n",
    "        (add_boolean_answer, None, ['is_answer']),\n",
    "        (add_boolean_transfer, None, ['is_transfer'])\n",
    "    ]\n",
    ")\n",
    "\n",
    "# Transformer object to segment the different messages in the email, parse their metadata and\n",
    "# tag the different part of the messages\n",
    "Segmenting = TransformerScheduler(\n",
    "    functions_scheduler=[\n",
    "        (build_historic, None, ['structured_historic']),\n",
    "        (structure_email, None, ['structured_body'])\n",
    "    ]\n",
    ")\n",
    "\n",
    "# Transformer object to extract the body of the last message of the email and clean it as \n",
    "# well as the header\n",
    "LastBodyHeaderCleaning = TransformerScheduler(\n",
    "    functions_scheduler=[\n",
    "        (extract_last_body, None, ['last_body']),\n",
    "        (clean_body, None, ['clean_body']),\n",
    "        (clean_header, None, ['clean_header'])\n",
    "    ]\n",
    ")\n",
    "\n",
    "# Full prepare_email pipeline\n",
    "PrepareEmailPipeline = Pipeline([\n",
    "    ('ManageTransferReply', ManageTransferReply),\n",
    "    ('Segmenting', Segmenting),\n",
    "    ('LastBodyHeaderCleaning', LastBodyHeaderCleaning)\n",
    "])"
   ]
  },
  {
   "cell_type": "code",
   "execution_count": 92,
   "metadata": {},
   "outputs": [],
   "source": [
    "df_emails = PrepareEmailPipeline.fit_transform(df_emails)"
   ]
  },
  {
   "cell_type": "code",
   "execution_count": 93,
   "metadata": {},
   "outputs": [
    {
     "data": {
      "text/html": [
       "<div>\n",
       "<style scoped>\n",
       "    .dataframe tbody tr th:only-of-type {\n",
       "        vertical-align: middle;\n",
       "    }\n",
       "\n",
       "    .dataframe tbody tr th {\n",
       "        vertical-align: top;\n",
       "    }\n",
       "\n",
       "    .dataframe thead th {\n",
       "        text-align: right;\n",
       "    }\n",
       "</style>\n",
       "<table border=\"1\" class=\"dataframe\">\n",
       "  <thead>\n",
       "    <tr style=\"text-align: right;\">\n",
       "      <th></th>\n",
       "      <th>body</th>\n",
       "      <th>header</th>\n",
       "      <th>date</th>\n",
       "      <th>from</th>\n",
       "      <th>to</th>\n",
       "      <th>attachment</th>\n",
       "      <th>sexe</th>\n",
       "      <th>age</th>\n",
       "      <th>label</th>\n",
       "      <th>is_begin_by_transfer</th>\n",
       "      <th>is_answer</th>\n",
       "      <th>is_transfer</th>\n",
       "      <th>structured_historic</th>\n",
       "      <th>structured_body</th>\n",
       "      <th>last_body</th>\n",
       "      <th>clean_body</th>\n",
       "      <th>clean_header</th>\n",
       "    </tr>\n",
       "  </thead>\n",
       "  <tbody>\n",
       "    <tr>\n",
       "      <th>0</th>\n",
       "      <td>\\n  \\n  \\n  \\n Bonjour \\n Je suis client chez...</td>\n",
       "      <td>Devis habitation</td>\n",
       "      <td>24/05/2018 11:36</td>\n",
       "      <td>Dupont &lt;monsieurdupont@extensiona.com&gt;</td>\n",
       "      <td>conseiller@Societeimaginaire.fr</td>\n",
       "      <td>[]</td>\n",
       "      <td>F</td>\n",
       "      <td>35</td>\n",
       "      <td>habitation</td>\n",
       "      <td>True</td>\n",
       "      <td>False</td>\n",
       "      <td>False</td>\n",
       "      <td>[{'text': ' \n",
       "  \n",
       "  \n",
       "  \n",
       " Bonjour \n",
       " Je suis clien...</td>\n",
       "      <td>[{'meta': {'date': None, 'from': None, 'to': N...</td>\n",
       "      <td>Je suis client chez vous Pouvez vous m établir...</td>\n",
       "      <td>je suis client chez vous pouvez vous m etablir...</td>\n",
       "      <td>devis habitation</td>\n",
       "    </tr>\n",
       "    <tr>\n",
       "      <th>1</th>\n",
       "      <td>\\n  \\n  \\n  \\n Bonsoir madame, \\n  \\n Je vous...</td>\n",
       "      <td>Immatriculation voiture</td>\n",
       "      <td>24/05/2018 19:37</td>\n",
       "      <td>Dupont &lt;monsieurdupont@extensiona.com&gt;</td>\n",
       "      <td>conseiller@Societeimaginaire.fr</td>\n",
       "      <td>[\"pj.pdf\"]</td>\n",
       "      <td>M</td>\n",
       "      <td>32</td>\n",
       "      <td>vehicule</td>\n",
       "      <td>True</td>\n",
       "      <td>False</td>\n",
       "      <td>False</td>\n",
       "      <td>[{'text': ' \n",
       "  \n",
       "  \n",
       "  \n",
       " Bonsoir madame, \n",
       "  \n",
       " Je...</td>\n",
       "      <td>[{'meta': {'date': None, 'from': None, 'to': N...</td>\n",
       "      <td>Je vous informe que la nouvelle immatriculati...</td>\n",
       "      <td>je vous informe que la nouvelle immatriculatio...</td>\n",
       "      <td>immatriculation voiture</td>\n",
       "    </tr>\n",
       "    <tr>\n",
       "      <th>2</th>\n",
       "      <td>\\n  \\n  \\n Bonjours, \\n  \\n Suite a notre con...</td>\n",
       "      <td>Re: Envoi d'un document de la Société Imaginaire</td>\n",
       "      <td>vendredi 25 mai 2018 06 h 45 CEST</td>\n",
       "      <td>Monsieur Dupont &lt;monsieurdupont@extensiona.com&gt;</td>\n",
       "      <td>demandes@societeimaginaire.fr</td>\n",
       "      <td>[]</td>\n",
       "      <td>M</td>\n",
       "      <td>66</td>\n",
       "      <td>compte</td>\n",
       "      <td>False</td>\n",
       "      <td>True</td>\n",
       "      <td>False</td>\n",
       "      <td>[{'text': ' \n",
       "  \n",
       "  \n",
       " Bonjours, \n",
       "  \n",
       " Suite a not...</td>\n",
       "      <td>[{'meta': {'date': None, 'from': None, 'to': N...</td>\n",
       "      <td>Suite a notre conversation téléphonique de Ma...</td>\n",
       "      <td>suite a notre conversation telephonique de  fl...</td>\n",
       "      <td>envoi d'un document de la societe imaginaire</td>\n",
       "    </tr>\n",
       "    <tr>\n",
       "      <th>3</th>\n",
       "      <td>\\n  \\n  \\n  \\n  \\n Bonjour, \\n  \\n  \\n Je fai...</td>\n",
       "      <td>Re: Votre adhésion à la Société Imaginaire</td>\n",
       "      <td>vendredi 25 mai 2018 10 h 15 CEST</td>\n",
       "      <td>Monsieur Dupont &lt;monsieurdupont@extensiond.com&gt;</td>\n",
       "      <td>demandes@societeimaginaire.fr</td>\n",
       "      <td>[\"fichedepaie.png\"]</td>\n",
       "      <td>M</td>\n",
       "      <td>50</td>\n",
       "      <td>adhesion</td>\n",
       "      <td>False</td>\n",
       "      <td>True</td>\n",
       "      <td>False</td>\n",
       "      <td>[{'text': ' \n",
       "  \n",
       "  \n",
       "  \n",
       "  \n",
       " Bonjour, \n",
       "  \n",
       "  \n",
       " Je ...</td>\n",
       "      <td>[{'meta': {'date': None, 'from': None, 'to': N...</td>\n",
       "      <td>Je fais suite à  votre mail. J'ai envoyé mon...</td>\n",
       "      <td>je fais suite a votre mail. j'ai envoye mon bu...</td>\n",
       "      <td>votre adhesion a la societe imaginaire</td>\n",
       "    </tr>\n",
       "    <tr>\n",
       "      <th>4</th>\n",
       "      <td>\\n  \\n  \\n Bonjour, \\n Voici ci joint mon bul...</td>\n",
       "      <td>Bulletin de salaire</td>\n",
       "      <td>vendredi 25 mai 2018 17 h 30 CEST</td>\n",
       "      <td>Monsieur Dupont &lt;monsieurdupont@extensiona.com&gt;</td>\n",
       "      <td>demandes@societeimaginaire.fr</td>\n",
       "      <td>[\"pj.pdf\"]</td>\n",
       "      <td>M</td>\n",
       "      <td>15</td>\n",
       "      <td>adhesion</td>\n",
       "      <td>False</td>\n",
       "      <td>False</td>\n",
       "      <td>False</td>\n",
       "      <td>[{'text': ' \n",
       "  \n",
       "  \n",
       " Bonjour, \n",
       " Voici ci joint ...</td>\n",
       "      <td>[{'meta': {'date': None, 'from': None, 'to': N...</td>\n",
       "      <td>Voici ci joint mon bulletin de salaire comme d...</td>\n",
       "      <td>voici ci joint mon bulletin de salaire comme d...</td>\n",
       "      <td>bulletin de salaire</td>\n",
       "    </tr>\n",
       "  </tbody>\n",
       "</table>\n",
       "</div>"
      ],
      "text/plain": [
       "                                                body  \\\n",
       "0   \\n  \\n  \\n  \\n Bonjour \\n Je suis client chez...   \n",
       "1   \\n  \\n  \\n  \\n Bonsoir madame, \\n  \\n Je vous...   \n",
       "2   \\n  \\n  \\n Bonjours, \\n  \\n Suite a notre con...   \n",
       "3   \\n  \\n  \\n  \\n  \\n Bonjour, \\n  \\n  \\n Je fai...   \n",
       "4   \\n  \\n  \\n Bonjour, \\n Voici ci joint mon bul...   \n",
       "\n",
       "                                             header  \\\n",
       "0                                  Devis habitation   \n",
       "1                           Immatriculation voiture   \n",
       "2  Re: Envoi d'un document de la Société Imaginaire   \n",
       "3        Re: Votre adhésion à la Société Imaginaire   \n",
       "4                               Bulletin de salaire   \n",
       "\n",
       "                                date  \\\n",
       "0                   24/05/2018 11:36   \n",
       "1                   24/05/2018 19:37   \n",
       "2  vendredi 25 mai 2018 06 h 45 CEST   \n",
       "3  vendredi 25 mai 2018 10 h 15 CEST   \n",
       "4  vendredi 25 mai 2018 17 h 30 CEST   \n",
       "\n",
       "                                              from  \\\n",
       "0           Dupont <monsieurdupont@extensiona.com>   \n",
       "1           Dupont <monsieurdupont@extensiona.com>   \n",
       "2  Monsieur Dupont <monsieurdupont@extensiona.com>   \n",
       "3  Monsieur Dupont <monsieurdupont@extensiond.com>   \n",
       "4  Monsieur Dupont <monsieurdupont@extensiona.com>   \n",
       "\n",
       "                                to           attachment sexe  age       label  \\\n",
       "0  conseiller@Societeimaginaire.fr                   []    F   35  habitation   \n",
       "1  conseiller@Societeimaginaire.fr           [\"pj.pdf\"]    M   32    vehicule   \n",
       "2    demandes@societeimaginaire.fr                   []    M   66      compte   \n",
       "3    demandes@societeimaginaire.fr  [\"fichedepaie.png\"]    M   50    adhesion   \n",
       "4    demandes@societeimaginaire.fr           [\"pj.pdf\"]    M   15    adhesion   \n",
       "\n",
       "   is_begin_by_transfer  is_answer  is_transfer  \\\n",
       "0                  True      False        False   \n",
       "1                  True      False        False   \n",
       "2                 False       True        False   \n",
       "3                 False       True        False   \n",
       "4                 False      False        False   \n",
       "\n",
       "                                 structured_historic  \\\n",
       "0  [{'text': ' \n",
       "  \n",
       "  \n",
       "  \n",
       " Bonjour \n",
       " Je suis clien...   \n",
       "1  [{'text': ' \n",
       "  \n",
       "  \n",
       "  \n",
       " Bonsoir madame, \n",
       "  \n",
       " Je...   \n",
       "2  [{'text': ' \n",
       "  \n",
       "  \n",
       " Bonjours, \n",
       "  \n",
       " Suite a not...   \n",
       "3  [{'text': ' \n",
       "  \n",
       "  \n",
       "  \n",
       "  \n",
       " Bonjour, \n",
       "  \n",
       "  \n",
       " Je ...   \n",
       "4  [{'text': ' \n",
       "  \n",
       "  \n",
       " Bonjour, \n",
       " Voici ci joint ...   \n",
       "\n",
       "                                     structured_body  \\\n",
       "0  [{'meta': {'date': None, 'from': None, 'to': N...   \n",
       "1  [{'meta': {'date': None, 'from': None, 'to': N...   \n",
       "2  [{'meta': {'date': None, 'from': None, 'to': N...   \n",
       "3  [{'meta': {'date': None, 'from': None, 'to': N...   \n",
       "4  [{'meta': {'date': None, 'from': None, 'to': N...   \n",
       "\n",
       "                                           last_body  \\\n",
       "0  Je suis client chez vous Pouvez vous m établir...   \n",
       "1   Je vous informe que la nouvelle immatriculati...   \n",
       "2   Suite a notre conversation téléphonique de Ma...   \n",
       "3    Je fais suite à  votre mail. J'ai envoyé mon...   \n",
       "4  Voici ci joint mon bulletin de salaire comme d...   \n",
       "\n",
       "                                          clean_body  \\\n",
       "0  je suis client chez vous pouvez vous m etablir...   \n",
       "1  je vous informe que la nouvelle immatriculatio...   \n",
       "2  suite a notre conversation telephonique de  fl...   \n",
       "3  je fais suite a votre mail. j'ai envoye mon bu...   \n",
       "4  voici ci joint mon bulletin de salaire comme d...   \n",
       "\n",
       "                                   clean_header  \n",
       "0                              devis habitation  \n",
       "1                       immatriculation voiture  \n",
       "2  envoi d'un document de la societe imaginaire  \n",
       "3        votre adhesion a la societe imaginaire  \n",
       "4                           bulletin de salaire  "
      ]
     },
     "execution_count": 93,
     "metadata": {},
     "output_type": "execute_result"
    }
   ],
   "source": [
    "df_emails.head()"
   ]
  },
  {
   "cell_type": "code",
   "execution_count": null,
   "metadata": {},
   "outputs": [],
   "source": []
  }
 ],
 "metadata": {
  "kernelspec": {
   "display_name": "melusine",
   "language": "python",
   "name": "melusine"
  },
  "language_info": {
   "codemirror_mode": {
    "name": "ipython",
    "version": 3
   },
   "file_extension": ".py",
   "mimetype": "text/x-python",
   "name": "python",
   "nbconvert_exporter": "python",
   "pygments_lexer": "ipython3",
   "version": "3.6.10"
  }
 },
 "nbformat": 4,
 "nbformat_minor": 2
}
