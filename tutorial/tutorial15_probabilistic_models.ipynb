{
 "cells": [
  {
   "cell_type": "code",
   "execution_count": 1,
   "id": "0ac05656",
   "metadata": {},
   "outputs": [],
   "source": [
    "import warnings\n",
    "warnings.simplefilter(action='ignore')\n",
    "import numpy as np\n",
    "import pandas as pd\n",
    "from copy import deepcopy\n",
    "from sklearn.preprocessing import LabelEncoder\n",
    "\n",
    "from melusine import load_email_data\n",
    "\n",
    "# Text input \n",
    "df_emails_preprocessed = load_email_data(type=\"full\")\n",
    "df_emails_preprocessed['clean_text'] = df_emails_preprocessed['clean_header'] + \" \" + df_emails_preprocessed['clean_body']"
   ]
  },
  {
   "cell_type": "code",
   "execution_count": 2,
   "id": "d9aef00c",
   "metadata": {},
   "outputs": [],
   "source": [
    "# Requirement : have a pretrained Embedding\n",
    "from melusine.nlp_tools.embedding import Embedding\n",
    "pretrained_embedding = Embedding(tokens_column=\"tokens\", workers=1, min_count=5)\n",
    "pretrained_embedding.train(df_emails_preprocessed)"
   ]
  },
  {
   "cell_type": "code",
   "execution_count": 3,
   "id": "94a54438",
   "metadata": {},
   "outputs": [],
   "source": [
    "# Metadata input\n",
    "df_meta = pd.read_csv('/home/jupyter/melusine/melusine/data/metadata.csv', encoding='utf-8', sep=';')\n",
    "\n",
    "# Dataset\n",
    "X = pd.concat([df_emails_preprocessed['clean_text'],df_meta],axis=1)\n",
    "y = df_emails_preprocessed['label']\n",
    "le = LabelEncoder()\n",
    "y = le.fit_transform(y)"
   ]
  },
  {
   "cell_type": "code",
   "execution_count": 4,
   "id": "b26693f3",
   "metadata": {},
   "outputs": [],
   "source": [
    "import ast\n",
    "import pandas as pd\n",
    "import numpy as np\n",
    "df_emails_preprocessed = pd.read_pickle('/home/jupyter/melusine/melusine/data/emails_preprocessed.pkl')\n",
    "\n",
    "df_emails_preprocessed['clean_header'] = df_emails_preprocessed['clean_header'].astype(str)\n",
    "df_emails_preprocessed['clean_body'] = df_emails_preprocessed['clean_body'].astype(str)\n",
    "df_emails_preprocessed['attachment'] = df_emails_preprocessed['attachment'].apply(ast.literal_eval)\n",
    "df_emails_preprocessed['clean_text'] = df_emails_preprocessed['clean_header'] + \" \" + df_emails_preprocessed['clean_body']"
   ]
  },
  {
   "cell_type": "code",
   "execution_count": 5,
   "id": "39d9b750",
   "metadata": {},
   "outputs": [],
   "source": [
    "X = pd.concat([df_emails_preprocessed['clean_text'],df_meta],axis=1)"
   ]
  },
  {
   "cell_type": "code",
   "execution_count": 6,
   "id": "fdb55e15",
   "metadata": {},
   "outputs": [],
   "source": [
    "from sklearn.preprocessing import LabelEncoder\n",
    "y = df_emails_preprocessed['label']\n",
    "le = LabelEncoder()\n",
    "y = le.fit_transform(y)"
   ]
  },
  {
   "cell_type": "code",
   "execution_count": 7,
   "id": "5c9eec6b",
   "metadata": {},
   "outputs": [],
   "source": [
    "from melusine.models.train import NeuralModel"
   ]
  },
  {
   "cell_type": "code",
   "execution_count": 8,
   "id": "c92cd5bb",
   "metadata": {},
   "outputs": [
    {
     "data": {
      "text/plain": [
       "11"
      ]
     },
     "execution_count": 8,
     "metadata": {},
     "output_type": "execute_result"
    }
   ],
   "source": [
    "len(np.unique(y))"
   ]
  },
  {
   "cell_type": "markdown",
   "id": "7898a5b3",
   "metadata": {},
   "source": [
    "# Deterministic model"
   ]
  },
  {
   "cell_type": "code",
   "execution_count": 9,
   "id": "4efc1e09",
   "metadata": {},
   "outputs": [],
   "source": [
    "from melusine.models.neural_architectures import cnn_model\n",
    "deterministic_nn_model = NeuralModel(architecture_function=cnn_model,\n",
    "                       pretrained_embedding=pretrained_embedding,\n",
    "                       text_input_column=\"clean_text\",\n",
    "                       batch_size=20,\n",
    "                       meta_input_list=['extension','attachment_type', 'dayofweek', 'hour', 'min'],\n",
    "                       n_epochs=40)"
   ]
  },
  {
   "cell_type": "code",
   "execution_count": 10,
   "id": "04b78e52",
   "metadata": {},
   "outputs": [
    {
     "name": "stdout",
     "output_type": "stream",
     "text": [
      "Epoch 1/40\n",
      "2/2 [==============================] - 3s 455ms/step - loss: 2.3691 - accuracy: 0.2750\n",
      "Epoch 2/40\n",
      "2/2 [==============================] - 0s 7ms/step - loss: 2.1568 - accuracy: 0.3500\n",
      "Epoch 3/40\n",
      "2/2 [==============================] - 0s 7ms/step - loss: 2.0608 - accuracy: 0.2750\n",
      "Epoch 4/40\n",
      "2/2 [==============================] - 0s 7ms/step - loss: 2.1393 - accuracy: 0.3750\n",
      "Epoch 5/40\n",
      "2/2 [==============================] - 0s 7ms/step - loss: 2.0121 - accuracy: 0.3750\n",
      "Epoch 6/40\n",
      "2/2 [==============================] - 0s 7ms/step - loss: 1.9010 - accuracy: 0.3250\n",
      "Epoch 7/40\n",
      "2/2 [==============================] - 0s 7ms/step - loss: 1.8830 - accuracy: 0.3500\n",
      "Epoch 8/40\n",
      "2/2 [==============================] - 0s 7ms/step - loss: 1.8855 - accuracy: 0.4000\n",
      "Epoch 9/40\n",
      "2/2 [==============================] - 0s 6ms/step - loss: 1.8635 - accuracy: 0.3000\n",
      "Epoch 10/40\n",
      "2/2 [==============================] - 0s 7ms/step - loss: 1.7668 - accuracy: 0.4500\n",
      "Epoch 11/40\n",
      "2/2 [==============================] - 0s 7ms/step - loss: 1.7408 - accuracy: 0.3750\n",
      "Epoch 12/40\n",
      "2/2 [==============================] - 0s 7ms/step - loss: 1.7061 - accuracy: 0.4750\n",
      "Epoch 13/40\n",
      "2/2 [==============================] - 0s 8ms/step - loss: 1.6615 - accuracy: 0.4000\n",
      "Epoch 14/40\n",
      "2/2 [==============================] - 0s 6ms/step - loss: 1.6035 - accuracy: 0.4750\n",
      "Epoch 15/40\n",
      "2/2 [==============================] - 0s 7ms/step - loss: 1.5050 - accuracy: 0.4750\n",
      "Epoch 16/40\n",
      "2/2 [==============================] - 0s 6ms/step - loss: 1.5418 - accuracy: 0.4500\n",
      "Epoch 17/40\n",
      "2/2 [==============================] - 0s 8ms/step - loss: 1.3499 - accuracy: 0.6000\n",
      "Epoch 18/40\n",
      "2/2 [==============================] - 0s 7ms/step - loss: 1.4403 - accuracy: 0.4500\n",
      "Epoch 19/40\n",
      "2/2 [==============================] - 0s 7ms/step - loss: 1.4043 - accuracy: 0.5500\n",
      "Epoch 20/40\n",
      "2/2 [==============================] - 0s 7ms/step - loss: 1.2824 - accuracy: 0.5500\n",
      "Epoch 21/40\n",
      "2/2 [==============================] - 0s 7ms/step - loss: 1.3668 - accuracy: 0.5500\n",
      "Epoch 22/40\n",
      "2/2 [==============================] - 0s 8ms/step - loss: 1.1979 - accuracy: 0.6000\n",
      "Epoch 23/40\n",
      "2/2 [==============================] - 0s 7ms/step - loss: 1.2524 - accuracy: 0.5750\n",
      "Epoch 24/40\n",
      "2/2 [==============================] - 0s 7ms/step - loss: 1.2159 - accuracy: 0.6250\n",
      "Epoch 25/40\n",
      "2/2 [==============================] - 0s 7ms/step - loss: 1.2971 - accuracy: 0.6000\n",
      "Epoch 26/40\n",
      "2/2 [==============================] - 0s 6ms/step - loss: 1.0647 - accuracy: 0.6000\n",
      "Epoch 27/40\n",
      "2/2 [==============================] - 0s 7ms/step - loss: 1.0887 - accuracy: 0.6000\n",
      "Epoch 28/40\n",
      "2/2 [==============================] - 0s 7ms/step - loss: 0.8641 - accuracy: 0.7000\n",
      "Epoch 29/40\n",
      "2/2 [==============================] - 0s 7ms/step - loss: 0.8412 - accuracy: 0.6750\n",
      "Epoch 30/40\n",
      "2/2 [==============================] - 0s 7ms/step - loss: 0.9376 - accuracy: 0.6750\n",
      "Epoch 31/40\n",
      "2/2 [==============================] - 0s 7ms/step - loss: 0.8618 - accuracy: 0.6750\n",
      "Epoch 32/40\n",
      "2/2 [==============================] - 0s 7ms/step - loss: 0.7431 - accuracy: 0.7250\n",
      "Epoch 33/40\n",
      "2/2 [==============================] - 0s 6ms/step - loss: 0.6616 - accuracy: 0.8750\n",
      "Epoch 34/40\n",
      "2/2 [==============================] - 0s 6ms/step - loss: 0.8594 - accuracy: 0.6750\n",
      "Epoch 35/40\n",
      "2/2 [==============================] - 0s 7ms/step - loss: 0.7144 - accuracy: 0.7250\n",
      "Epoch 36/40\n",
      "2/2 [==============================] - 0s 7ms/step - loss: 0.6570 - accuracy: 0.8500\n",
      "Epoch 37/40\n",
      "2/2 [==============================] - 0s 7ms/step - loss: 0.5858 - accuracy: 0.8500\n",
      "Epoch 38/40\n",
      "2/2 [==============================] - 0s 7ms/step - loss: 0.4472 - accuracy: 0.8750\n",
      "Epoch 39/40\n",
      "2/2 [==============================] - 0s 7ms/step - loss: 0.4667 - accuracy: 0.8500\n",
      "Epoch 40/40\n",
      "2/2 [==============================] - 0s 8ms/step - loss: 0.4814 - accuracy: 0.8250\n"
     ]
    }
   ],
   "source": [
    "deterministic_nn_model.fit(X,y,tensorboard_log_dir=\"tutorial/data\")\n",
    "accuracy_deterministic = deterministic_nn_model.score(X, y)"
   ]
  },
  {
   "cell_type": "markdown",
   "id": "0c3d51fc",
   "metadata": {},
   "source": [
    "### The deterministic model is able to give us point estimation of probabilities. But we can do better..."
   ]
  },
  {
   "cell_type": "code",
   "execution_count": 11,
   "id": "419800cd",
   "metadata": {},
   "outputs": [
    {
     "data": {
      "text/plain": [
       "array([[0.09657256, 0.05783992, 0.08451937, 0.11301206, 0.12195422,\n",
       "        0.06647223, 0.10292089, 0.06586028, 0.05944466, 0.07239201,\n",
       "        0.15901177],\n",
       "       [0.07023141, 0.04192798, 0.06689429, 0.11066637, 0.0640958 ,\n",
       "        0.07679685, 0.07481787, 0.08136567, 0.09248857, 0.08600787,\n",
       "        0.23470739]], dtype=float32)"
      ]
     },
     "execution_count": 11,
     "metadata": {},
     "output_type": "execute_result"
    }
   ],
   "source": [
    "deterministic_nn_model.predict_proba(X)[:2]"
   ]
  },
  {
   "cell_type": "markdown",
   "id": "9c52ee00",
   "metadata": {},
   "source": [
    "# The probabilitic model \n",
    "The probabilitic gives us not longer point estimation but distribution on predictions. It allows us to give prediction intervals."
   ]
  },
  {
   "cell_type": "code",
   "execution_count": 12,
   "id": "3d8006a3",
   "metadata": {},
   "outputs": [],
   "source": [
    "from melusine.models.probabilistic_neural_architectures import probabilistic_cnn_with_meta_model\n",
    "probabilistic_model = NeuralModel(architecture_function=probabilistic_cnn_with_meta_model,\n",
    "                       pretrained_embedding=pretrained_embedding,\n",
    "                       text_input_column=\"clean_text\",\n",
    "                       batch_size=20,\n",
    "                       meta_input_list=['extension','attachment_type', 'dayofweek', 'hour', 'min'],\n",
    "                       n_epochs=40)"
   ]
  },
  {
   "cell_type": "code",
   "execution_count": 13,
   "id": "0996c050",
   "metadata": {},
   "outputs": [
    {
     "name": "stdout",
     "output_type": "stream",
     "text": [
      "Epoch 1/40\n",
      "2/2 [==============================] - 2s 434ms/step - loss: 2.4063 - accuracy: 0.0500\n",
      "Epoch 2/40\n",
      "2/2 [==============================] - 0s 8ms/step - loss: 2.3629 - accuracy: 0.2500\n",
      "Epoch 3/40\n",
      "2/2 [==============================] - 0s 8ms/step - loss: 2.2631 - accuracy: 0.3250\n",
      "Epoch 4/40\n",
      "2/2 [==============================] - 0s 7ms/step - loss: 2.1327 - accuracy: 0.2750\n",
      "Epoch 5/40\n",
      "2/2 [==============================] - 0s 8ms/step - loss: 2.0042 - accuracy: 0.3750\n",
      "Epoch 6/40\n",
      "2/2 [==============================] - 0s 8ms/step - loss: 2.1587 - accuracy: 0.2250\n",
      "Epoch 7/40\n",
      "2/2 [==============================] - 0s 8ms/step - loss: 2.0609 - accuracy: 0.2750\n",
      "Epoch 8/40\n",
      "2/2 [==============================] - 0s 8ms/step - loss: 1.8560 - accuracy: 0.4500\n",
      "Epoch 9/40\n",
      "2/2 [==============================] - 0s 7ms/step - loss: 1.9451 - accuracy: 0.2750\n",
      "Epoch 10/40\n",
      "2/2 [==============================] - 0s 7ms/step - loss: 1.8938 - accuracy: 0.3250\n",
      "Epoch 11/40\n",
      "2/2 [==============================] - 0s 7ms/step - loss: 1.7267 - accuracy: 0.4000\n",
      "Epoch 12/40\n",
      "2/2 [==============================] - 0s 7ms/step - loss: 1.8802 - accuracy: 0.4000\n",
      "Epoch 13/40\n",
      "2/2 [==============================] - 0s 9ms/step - loss: 1.7729 - accuracy: 0.4000\n",
      "Epoch 14/40\n",
      "2/2 [==============================] - 0s 8ms/step - loss: 1.6857 - accuracy: 0.4750\n",
      "Epoch 15/40\n",
      "2/2 [==============================] - 0s 7ms/step - loss: 1.7606 - accuracy: 0.4000\n",
      "Epoch 16/40\n",
      "2/2 [==============================] - 0s 7ms/step - loss: 1.7041 - accuracy: 0.4000\n",
      "Epoch 17/40\n",
      "2/2 [==============================] - 0s 7ms/step - loss: 1.4562 - accuracy: 0.5250\n",
      "Epoch 18/40\n",
      "2/2 [==============================] - 0s 8ms/step - loss: 1.5860 - accuracy: 0.5250\n",
      "Epoch 19/40\n",
      "2/2 [==============================] - 0s 8ms/step - loss: 1.5031 - accuracy: 0.5000\n",
      "Epoch 20/40\n",
      "2/2 [==============================] - 0s 7ms/step - loss: 1.5823 - accuracy: 0.4750\n",
      "Epoch 21/40\n",
      "2/2 [==============================] - 0s 7ms/step - loss: 1.5396 - accuracy: 0.4750\n",
      "Epoch 22/40\n",
      "2/2 [==============================] - 0s 9ms/step - loss: 1.3679 - accuracy: 0.5250\n",
      "Epoch 23/40\n",
      "2/2 [==============================] - 0s 7ms/step - loss: 1.3679 - accuracy: 0.6000\n",
      "Epoch 24/40\n",
      "2/2 [==============================] - 0s 7ms/step - loss: 1.5561 - accuracy: 0.5500\n",
      "Epoch 25/40\n",
      "2/2 [==============================] - 0s 7ms/step - loss: 1.4227 - accuracy: 0.4500\n",
      "Epoch 26/40\n",
      "2/2 [==============================] - 0s 7ms/step - loss: 1.2042 - accuracy: 0.5500\n",
      "Epoch 27/40\n",
      "2/2 [==============================] - 0s 8ms/step - loss: 1.2247 - accuracy: 0.5500\n",
      "Epoch 28/40\n",
      "2/2 [==============================] - 0s 7ms/step - loss: 1.0169 - accuracy: 0.6750\n",
      "Epoch 29/40\n",
      "2/2 [==============================] - 0s 7ms/step - loss: 1.1033 - accuracy: 0.5750\n",
      "Epoch 30/40\n",
      "2/2 [==============================] - 0s 8ms/step - loss: 1.0014 - accuracy: 0.6750\n",
      "Epoch 31/40\n",
      "2/2 [==============================] - 0s 7ms/step - loss: 0.9308 - accuracy: 0.6000\n",
      "Epoch 32/40\n",
      "2/2 [==============================] - 0s 7ms/step - loss: 0.7827 - accuracy: 0.6750\n",
      "Epoch 33/40\n",
      "2/2 [==============================] - 0s 8ms/step - loss: 1.1442 - accuracy: 0.6000\n",
      "Epoch 34/40\n",
      "2/2 [==============================] - 0s 7ms/step - loss: 1.0157 - accuracy: 0.6000\n",
      "Epoch 35/40\n",
      "2/2 [==============================] - 0s 9ms/step - loss: 0.9429 - accuracy: 0.7500\n",
      "Epoch 36/40\n",
      "2/2 [==============================] - 0s 8ms/step - loss: 0.7582 - accuracy: 0.7250\n",
      "Epoch 37/40\n",
      "2/2 [==============================] - 0s 8ms/step - loss: 0.7525 - accuracy: 0.7000\n",
      "Epoch 38/40\n",
      "2/2 [==============================] - 0s 8ms/step - loss: 0.7767 - accuracy: 0.7750\n",
      "Epoch 39/40\n",
      "2/2 [==============================] - 0s 7ms/step - loss: 0.7171 - accuracy: 0.7750\n",
      "Epoch 40/40\n",
      "2/2 [==============================] - 0s 7ms/step - loss: 0.6723 - accuracy: 0.7250\n"
     ]
    }
   ],
   "source": [
    "probabilistic_model.fit(X,y,tensorboard_log_dir=\"tutorial/data\")\n",
    "accuracy_probabilistic = probabilistic_model.score(X, y)"
   ]
  },
  {
   "cell_type": "markdown",
   "id": "05711502",
   "metadata": {},
   "source": [
    "### The estimation of the probability is now the mean of the distribution of the prediction"
   ]
  },
  {
   "cell_type": "code",
   "execution_count": 14,
   "id": "e9d64431",
   "metadata": {},
   "outputs": [
    {
     "data": {
      "text/plain": [
       "<tfp.distributions.OneHotCategorical 'model_1_one_hot_categorical_OneHotCategorical_OneHotCategorical' batch_shape=[40] event_shape=[11] dtype=float32>"
      ]
     },
     "execution_count": 14,
     "metadata": {},
     "output_type": "execute_result"
    }
   ],
   "source": [
    "X_input = probabilistic_model.prepare_email_to_predict(X)\n",
    "probabilistic_model.model(X_input) # the output of the model is not a vector but a distribution we can sample/compute mean/compute std/..."
   ]
  },
  {
   "cell_type": "code",
   "execution_count": 15,
   "id": "3af4ac49",
   "metadata": {
    "scrolled": true
   },
   "outputs": [
    {
     "data": {
      "text/plain": [
       "array([[0.13180675, 0.08332632, 0.08112441, 0.0955226 , 0.12498055,\n",
       "        0.07727289, 0.09328442, 0.06784341, 0.07151632, 0.07721852,\n",
       "        0.09610381],\n",
       "       [0.09433173, 0.0584581 , 0.06975517, 0.1181087 , 0.07025241,\n",
       "        0.08347036, 0.09503197, 0.09014697, 0.09266179, 0.07113047,\n",
       "        0.1566524 ]], dtype=float32)"
      ]
     },
     "execution_count": 15,
     "metadata": {},
     "output_type": "execute_result"
    }
   ],
   "source": [
    "probabilistic_model.predict_proba(X)[:2]"
   ]
  },
  {
   "cell_type": "markdown",
   "id": "a885e982",
   "metadata": {},
   "source": [
    "### More important we now can have prediction intervals"
   ]
  },
  {
   "cell_type": "code",
   "execution_count": 16,
   "id": "f9e84ccc",
   "metadata": {},
   "outputs": [],
   "source": [
    "score, inf, sup = probabilistic_model.predict_proba(X, confidence_interval=0.95)"
   ]
  },
  {
   "cell_type": "code",
   "execution_count": 17,
   "id": "0da19a8e",
   "metadata": {},
   "outputs": [],
   "source": [
    "import matplotlib.pyplot as plt\n",
    "ntargets = 11\n",
    "\n",
    "\n",
    "def analyse_and_plot_model_predictions(data, true_labels, nn_model, text_num, ci=0.95):\n",
    "    \"\"\"\n",
    "    Make plots of the probabilities that the model estimates for a given text\n",
    "    \"\"\"\n",
    "    true_label = true_labels[text_num]\n",
    "    true_label_decoded = le.inverse_transform([true_label])[0]\n",
    "    print('True label: \\033[1m \\033[92m {} \\033[0m'.format(str(true_label_decoded)))\n",
    "    print('Clean text: ', data.loc[text_num, \"clean_text\"])\n",
    "    model_prediction, pct_low, pct_up = nn_model.predict_proba(data.loc[text_num:text_num], confidence_interval=ci)\n",
    "    model_prediction, pct_low, pct_up = model_prediction[0], pct_low[0], pct_up[0]\n",
    "    x_pos = np.arange(ntargets)\n",
    "    bar = plt.bar(x_pos, pct_up, color='red')\n",
    "    all_categories_decoded = le.inverse_transform(np.arange(ntargets))\n",
    "    plt.xticks(x_pos, all_categories_decoded, color='black', rotation=45, fontweight='bold', fontsize='10', horizontalalignment='right')\n",
    "    ax = plt.gca()\n",
    "    labels = ax.get_xticklabels()\n",
    "    ticks = ax.get_xticks()\n",
    "    for label, tick in zip(labels, ticks):\n",
    "        if tick == true_label:\n",
    "            label.set_color('green')\n",
    "    bar[true_label].set_color('green')\n",
    "    plt.bar(np.arange(ntargets), pct_low-0.02, color='white', linewidth=1, edgecolor='white')\n",
    "    plt.ylim([0, 1])\n",
    "    plt.ylabel('Probability')\n",
    "    plt.title('Model estimated probabilities') \n",
    "    plt.show()"
   ]
  },
  {
   "cell_type": "code",
   "execution_count": 18,
   "id": "7afc8d67",
   "metadata": {},
   "outputs": [
    {
     "name": "stdout",
     "output_type": "stream",
     "text": [
      "True label: \u001b[1m \u001b[92m vehicule \u001b[0m\n",
      "Clean text:  immatriculation voiture je vous informe que la nouvelle immatriculation est enfin faite. je vous prie de trouver donc la carte grise ainsi que la nouvelle immatriculation. je vous demanderai de faire les changements necessaires concernant lassurance.\n"
     ]
    },
    {
     "data": {
      "image/png": "[encoded data removed]",
      "text/plain": [
       "<Figure size 432x288 with 1 Axes>"
      ]
     },
     "metadata": {
      "needs_background": "light"
     },
     "output_type": "display_data"
    }
   ],
   "source": [
    "i = 1\n",
    "analyse_and_plot_model_predictions(X, y, probabilistic_model, text_num=i, ci=0.95)"
   ]
  },
  {
   "cell_type": "markdown",
   "id": "aa7896bf",
   "metadata": {},
   "source": [
    "### Disclaimer\n",
    "The dataset of this melusine tutorial is so small (40 emails) the model is always drawing large intervals. \n",
    "But if we apply this method on a large public datasets (like the movies dataset : 100 000 movies plots) we can see predictions with less uncertainty as on the following image.\n",
    "\n",
    "<img src=\"images/uncertainty-on-movies-dataset.png\" width=400 height=400 />\n",
    "\n",
    "To let us see small interval (as a sanity check) we also can choose a very small prediction interval (0.01 instead of 0.95, but obviously 0.05 is not a serious value for prediction intervals) as on the following."
   ]
  },
  {
   "cell_type": "code",
   "execution_count": 19,
   "id": "a0c22759",
   "metadata": {},
   "outputs": [
    {
     "name": "stdout",
     "output_type": "stream",
     "text": [
      "True label: \u001b[1m \u001b[92m vehicule \u001b[0m\n",
      "Clean text:  immatriculation voiture je vous informe que la nouvelle immatriculation est enfin faite. je vous prie de trouver donc la carte grise ainsi que la nouvelle immatriculation. je vous demanderai de faire les changements necessaires concernant lassurance.\n"
     ]
    },
    {
     "data": {
      "image/png": "[encoded data removed]",
      "text/plain": [
       "<Figure size 432x288 with 1 Axes>"
      ]
     },
     "metadata": {
      "needs_background": "light"
     },
     "output_type": "display_data"
    }
   ],
   "source": [
    "i = 1\n",
    "analyse_and_plot_model_predictions(X, y, probabilistic_model, text_num=i, ci=0.01)"
   ]
  },
  {
   "cell_type": "markdown",
   "id": "56f9a7d4",
   "metadata": {},
   "source": [
    "So instead of just having a ponctual score of being a `vehicle` verbatim (score=0.2) we can have uncertainty estimation around a ponctual estimation (the score of being `vehicle` verbatim is in the interval [0.1 ; 0.3] with a 95% prediction interval)."
   ]
  },
  {
   "cell_type": "markdown",
   "id": "d63af99d",
   "metadata": {},
   "source": [
    "# To go further : variational neural networks\n",
    "We have 2 types of variational neural networks : [`Reparametrization` and `Flipout`](https://www.tensorflow.org/probability/api_docs/python/tfp/layers/conv_variational)"
   ]
  },
  {
   "cell_type": "code",
   "execution_count": 20,
   "id": "a2eaebcf",
   "metadata": {},
   "outputs": [],
   "source": [
    "from melusine.models.probabilistic_neural_architectures import variational_cnn_model\n",
    "reparametrization_nn_model = NeuralModel(architecture_function=variational_cnn_model,\n",
    "                       pretrained_embedding=pretrained_embedding,\n",
    "                       text_input_column=\"clean_text\",\n",
    "                       batch_size=20,\n",
    "                       meta_input_list=[],\n",
    "                       n_epochs=40,\n",
    "                       training_data_size=len(X))"
   ]
  },
  {
   "cell_type": "code",
   "execution_count": 21,
   "id": "ebd77775",
   "metadata": {},
   "outputs": [
    {
     "name": "stdout",
     "output_type": "stream",
     "text": [
      "Epoch 1/40\n",
      "2/2 [==============================] - 2s 628ms/step - loss: 7386.0835 - accuracy: 0.0500\n",
      "Epoch 2/40\n",
      "2/2 [==============================] - 0s 5ms/step - loss: 7379.9038 - accuracy: 0.1750\n",
      "Epoch 3/40\n",
      "2/2 [==============================] - 0s 9ms/step - loss: 7373.7915 - accuracy: 0.0500\n",
      "Epoch 4/40\n",
      "2/2 [==============================] - 0s 5ms/step - loss: 7367.6069 - accuracy: 0.2250\n",
      "Epoch 5/40\n",
      "2/2 [==============================] - 0s 5ms/step - loss: 7361.5273 - accuracy: 0.0750\n",
      "Epoch 6/40\n",
      "2/2 [==============================] - 0s 6ms/step - loss: 7355.4609 - accuracy: 0.0750\n",
      "Epoch 7/40\n",
      "2/2 [==============================] - 0s 5ms/step - loss: 7349.3530 - accuracy: 0.1750\n",
      "Epoch 8/40\n",
      "2/2 [==============================] - 0s 5ms/step - loss: 7343.2842 - accuracy: 0.1250\n",
      "Epoch 9/40\n",
      "2/2 [==============================] - 0s 6ms/step - loss: 7337.2295 - accuracy: 0.1500\n",
      "Epoch 10/40\n",
      "2/2 [==============================] - 0s 5ms/step - loss: 7331.1924 - accuracy: 0.2000\n",
      "Epoch 11/40\n",
      "2/2 [==============================] - 0s 5ms/step - loss: 7325.1509 - accuracy: 0.1000\n",
      "Epoch 12/40\n",
      "2/2 [==============================] - 0s 5ms/step - loss: 7319.0977 - accuracy: 0.2000\n",
      "Epoch 13/40\n",
      "2/2 [==============================] - 0s 5ms/step - loss: 7313.0601 - accuracy: 0.1750\n",
      "Epoch 14/40\n",
      "2/2 [==============================] - 0s 5ms/step - loss: 7307.0830 - accuracy: 0.2000\n",
      "Epoch 15/40\n",
      "2/2 [==============================] - 0s 6ms/step - loss: 7301.0889 - accuracy: 0.2500\n",
      "Epoch 16/40\n",
      "2/2 [==============================] - 0s 5ms/step - loss: 7295.1055 - accuracy: 0.2000\n",
      "Epoch 17/40\n",
      "2/2 [==============================] - 0s 6ms/step - loss: 7289.1694 - accuracy: 0.1500\n",
      "Epoch 18/40\n",
      "2/2 [==============================] - 0s 5ms/step - loss: 7283.1812 - accuracy: 0.1750\n",
      "Epoch 19/40\n",
      "2/2 [==============================] - 0s 6ms/step - loss: 7277.2329 - accuracy: 0.1250\n",
      "Epoch 20/40\n",
      "2/2 [==============================] - 0s 5ms/step - loss: 7271.2969 - accuracy: 0.0500\n",
      "Epoch 21/40\n",
      "2/2 [==============================] - 0s 6ms/step - loss: 7265.3643 - accuracy: 0.1500\n",
      "Epoch 22/40\n",
      "2/2 [==============================] - 0s 5ms/step - loss: 7259.4658 - accuracy: 0.1500\n",
      "Epoch 23/40\n",
      "2/2 [==============================] - 0s 5ms/step - loss: 7253.5127 - accuracy: 0.3000\n",
      "Epoch 24/40\n",
      "2/2 [==============================] - 0s 5ms/step - loss: 7247.6343 - accuracy: 0.2000\n",
      "Epoch 25/40\n",
      "2/2 [==============================] - 0s 5ms/step - loss: 7241.7163 - accuracy: 0.2250\n",
      "Epoch 26/40\n",
      "2/2 [==============================] - 0s 6ms/step - loss: 7235.8506 - accuracy: 0.2000\n",
      "Epoch 27/40\n",
      "2/2 [==============================] - 0s 5ms/step - loss: 7229.9673 - accuracy: 0.2000\n",
      "Epoch 28/40\n",
      "2/2 [==============================] - 0s 6ms/step - loss: 7224.0908 - accuracy: 0.2500\n",
      "Epoch 29/40\n",
      "2/2 [==============================] - 0s 6ms/step - loss: 7218.2109 - accuracy: 0.2000\n",
      "Epoch 30/40\n",
      "2/2 [==============================] - 0s 6ms/step - loss: 7212.3701 - accuracy: 0.2000\n",
      "Epoch 31/40\n",
      "2/2 [==============================] - 0s 5ms/step - loss: 7206.4697 - accuracy: 0.3250\n",
      "Epoch 32/40\n",
      "2/2 [==============================] - 0s 5ms/step - loss: 7200.6421 - accuracy: 0.2000\n",
      "Epoch 33/40\n",
      "2/2 [==============================] - 0s 6ms/step - loss: 7194.8022 - accuracy: 0.2750\n",
      "Epoch 34/40\n",
      "2/2 [==============================] - 0s 5ms/step - loss: 7188.9814 - accuracy: 0.2000\n",
      "Epoch 35/40\n",
      "2/2 [==============================] - 0s 6ms/step - loss: 7183.1260 - accuracy: 0.3250\n",
      "Epoch 36/40\n",
      "2/2 [==============================] - 0s 6ms/step - loss: 7177.2905 - accuracy: 0.3500\n",
      "Epoch 37/40\n",
      "2/2 [==============================] - 0s 5ms/step - loss: 7171.4756 - accuracy: 0.3250\n",
      "Epoch 38/40\n",
      "2/2 [==============================] - 0s 5ms/step - loss: 7165.6377 - accuracy: 0.3250\n",
      "Epoch 39/40\n",
      "2/2 [==============================] - 0s 5ms/step - loss: 7159.8701 - accuracy: 0.3250\n",
      "Epoch 40/40\n",
      "2/2 [==============================] - 0s 6ms/step - loss: 7154.0732 - accuracy: 0.3250\n"
     ]
    }
   ],
   "source": [
    "reparametrization_nn_model.fit(X,y,tensorboard_log_dir=\"tutorial/data\")\n",
    "accuracy_reparametrization = reparametrization_nn_model.score(X, y)"
   ]
  },
  {
   "cell_type": "code",
   "execution_count": 22,
   "id": "34316d57",
   "metadata": {},
   "outputs": [
    {
     "name": "stdout",
     "output_type": "stream",
     "text": [
      "True label: \u001b[1m \u001b[92m vehicule \u001b[0m\n",
      "Clean text:  pret vehicule ci-joint pret vehicule\n"
     ]
    },
    {
     "data": {
      "image/png": "[encoded data removed]",
      "text/plain": [
       "<Figure size 432x288 with 1 Axes>"
      ]
     },
     "metadata": {
      "needs_background": "light"
     },
     "output_type": "display_data"
    }
   ],
   "source": [
    "i = 9\n",
    "analyse_and_plot_model_predictions(X, y, reparametrization_nn_model, i)"
   ]
  },
  {
   "cell_type": "code",
   "execution_count": 23,
   "id": "b9a2d7b9",
   "metadata": {},
   "outputs": [],
   "source": [
    "from melusine.models.probabilistic_neural_architectures import flipout_cnn_model\n",
    "flipout_nn_model = NeuralModel(architecture_function=flipout_cnn_model,\n",
    "                       pretrained_embedding=pretrained_embedding,\n",
    "                       text_input_column=\"clean_text\",\n",
    "                       batch_size=20,\n",
    "                       meta_input_list=[],\n",
    "                       n_epochs=40,\n",
    "                       training_data_size=len(X))"
   ]
  },
  {
   "cell_type": "code",
   "execution_count": 24,
   "id": "23bc510e",
   "metadata": {},
   "outputs": [
    {
     "name": "stdout",
     "output_type": "stream",
     "text": [
      "Epoch 1/40\n",
      "2/2 [==============================] - 2s 411ms/step - loss: 3690.0430 - accuracy: 0.0250\n",
      "Epoch 2/40\n",
      "2/2 [==============================] - 0s 6ms/step - loss: 3686.9766 - accuracy: 0.0250\n",
      "Epoch 3/40\n",
      "2/2 [==============================] - 0s 5ms/step - loss: 3683.9160 - accuracy: 0.0250\n",
      "Epoch 4/40\n",
      "2/2 [==============================] - 0s 5ms/step - loss: 3680.8633 - accuracy: 0.0250\n",
      "Epoch 5/40\n",
      "2/2 [==============================] - 0s 6ms/step - loss: 3677.8145 - accuracy: 0.0250\n",
      "Epoch 6/40\n",
      "2/2 [==============================] - 0s 5ms/step - loss: 3674.7727 - accuracy: 0.0250\n",
      "Epoch 7/40\n",
      "2/2 [==============================] - 0s 5ms/step - loss: 3671.7375 - accuracy: 0.0250\n",
      "Epoch 8/40\n",
      "2/2 [==============================] - 0s 5ms/step - loss: 3668.7085 - accuracy: 0.0250\n",
      "Epoch 9/40\n",
      "2/2 [==============================] - 0s 9ms/step - loss: 3665.6851 - accuracy: 0.0250\n",
      "Epoch 10/40\n",
      "2/2 [==============================] - 0s 8ms/step - loss: 3662.6680 - accuracy: 0.0250\n",
      "Epoch 11/40\n",
      "2/2 [==============================] - 0s 6ms/step - loss: 3659.6562 - accuracy: 0.0250\n",
      "Epoch 12/40\n",
      "2/2 [==============================] - 0s 5ms/step - loss: 3656.6511 - accuracy: 0.0500\n",
      "Epoch 13/40\n",
      "2/2 [==============================] - 0s 6ms/step - loss: 3653.6509 - accuracy: 0.0500\n",
      "Epoch 14/40\n",
      "2/2 [==============================] - 0s 6ms/step - loss: 3650.6567 - accuracy: 0.0250\n",
      "Epoch 15/40\n",
      "2/2 [==============================] - 0s 5ms/step - loss: 3647.6680 - accuracy: 0.0500\n",
      "Epoch 16/40\n",
      "2/2 [==============================] - 0s 5ms/step - loss: 3644.6851 - accuracy: 0.1250\n",
      "Epoch 17/40\n",
      "2/2 [==============================] - 0s 6ms/step - loss: 3641.7058 - accuracy: 0.1250\n",
      "Epoch 18/40\n",
      "2/2 [==============================] - 0s 6ms/step - loss: 3638.7336 - accuracy: 0.1000\n",
      "Epoch 19/40\n",
      "2/2 [==============================] - 0s 5ms/step - loss: 3635.7637 - accuracy: 0.2500\n",
      "Epoch 20/40\n",
      "2/2 [==============================] - 0s 5ms/step - loss: 3632.8008 - accuracy: 0.1500\n",
      "Epoch 21/40\n",
      "2/2 [==============================] - 0s 6ms/step - loss: 3629.8413 - accuracy: 0.2500\n",
      "Epoch 22/40\n",
      "2/2 [==============================] - 0s 5ms/step - loss: 3626.8875 - accuracy: 0.2250\n",
      "Epoch 23/40\n",
      "2/2 [==============================] - 0s 6ms/step - loss: 3623.9368 - accuracy: 0.2000\n",
      "Epoch 24/40\n",
      "2/2 [==============================] - 0s 6ms/step - loss: 3620.9890 - accuracy: 0.2500\n",
      "Epoch 25/40\n",
      "2/2 [==============================] - 0s 6ms/step - loss: 3618.0483 - accuracy: 0.2750\n",
      "Epoch 26/40\n",
      "2/2 [==============================] - 0s 6ms/step - loss: 3615.1086 - accuracy: 0.3250\n",
      "Epoch 27/40\n",
      "2/2 [==============================] - 0s 6ms/step - loss: 3612.1743 - accuracy: 0.3000\n",
      "Epoch 28/40\n",
      "2/2 [==============================] - 0s 6ms/step - loss: 3609.2422 - accuracy: 0.3250\n",
      "Epoch 29/40\n",
      "2/2 [==============================] - 0s 6ms/step - loss: 3606.3149 - accuracy: 0.3250\n",
      "Epoch 30/40\n",
      "2/2 [==============================] - 0s 6ms/step - loss: 3603.3906 - accuracy: 0.3250\n",
      "Epoch 31/40\n",
      "2/2 [==============================] - 0s 6ms/step - loss: 3600.4702 - accuracy: 0.3250\n",
      "Epoch 32/40\n",
      "2/2 [==============================] - 0s 6ms/step - loss: 3597.5522 - accuracy: 0.3250\n",
      "Epoch 33/40\n",
      "2/2 [==============================] - 0s 7ms/step - loss: 3594.6375 - accuracy: 0.3250\n",
      "Epoch 34/40\n",
      "2/2 [==============================] - 0s 6ms/step - loss: 3591.7251 - accuracy: 0.3250\n",
      "Epoch 35/40\n",
      "2/2 [==============================] - 0s 5ms/step - loss: 3588.8164 - accuracy: 0.3250\n",
      "Epoch 36/40\n",
      "2/2 [==============================] - 0s 11ms/step - loss: 3585.9109 - accuracy: 0.3250\n",
      "Epoch 37/40\n",
      "2/2 [==============================] - 0s 6ms/step - loss: 3583.0083 - accuracy: 0.3250\n",
      "Epoch 38/40\n",
      "2/2 [==============================] - 0s 6ms/step - loss: 3580.1079 - accuracy: 0.3250\n",
      "Epoch 39/40\n",
      "2/2 [==============================] - 0s 5ms/step - loss: 3577.2083 - accuracy: 0.3250\n",
      "Epoch 40/40\n",
      "2/2 [==============================] - 0s 6ms/step - loss: 3574.3130 - accuracy: 0.3250\n"
     ]
    }
   ],
   "source": [
    "flipout_nn_model.fit(X,y,tensorboard_log_dir=\"tutorial/data\")\n",
    "accuracy_flipout= flipout_nn_model.score(X, y)"
   ]
  },
  {
   "cell_type": "code",
   "execution_count": 25,
   "id": "379c5243",
   "metadata": {},
   "outputs": [
    {
     "name": "stdout",
     "output_type": "stream",
     "text": [
      "True label: \u001b[1m \u001b[92m vehicule \u001b[0m\n",
      "Clean text:  pret vehicule ci-joint pret vehicule\n"
     ]
    },
    {
     "data": {
      "image/png": "[encoded data removed]",
      "text/plain": [
       "<Figure size 432x288 with 1 Axes>"
      ]
     },
     "metadata": {
      "needs_background": "light"
     },
     "output_type": "display_data"
    }
   ],
   "source": [
    "i = 9\n",
    "analyse_and_plot_model_predictions(X, y, flipout_nn_model, i)"
   ]
  },
  {
   "cell_type": "markdown",
   "id": "d84520a9",
   "metadata": {},
   "source": [
    "### Quick summary\n",
    "We show 3 probabilistic models :\n",
    "- **basic probabilistic** model with just a [OneHotCategorical](https://www.tensorflow.org/probability/api_docs/python/tfp/layers/OneHotCategorical) as last (prediction) layer\n",
    "- **reparametrization** model with [Convolution1DReparameterization](https://www.tensorflow.org/probability/api_docs/python/tfp/layers/Convolution1DReparameterization) layers\n",
    "- **flipout** model with [Convolution1DFlipout](https://www.tensorflow.org/probability/api_docs/python/tfp/layers/Convolution1DFlipout) layers\n",
    "\n",
    "We simulation on a larger dataset (movies dataset), the basic probabilistic model is an effective lowcost solution to have uncertainty estimation of the prediction without any performance loss.\n",
    "\n",
    "On our case, we did not manage to design a variational (reparametrization/flipout) neural architecture to get this level of performance."
   ]
  },
  {
   "cell_type": "code",
   "execution_count": null,
   "id": "34e9aa53",
   "metadata": {},
   "outputs": [],
   "source": []
  }
 ],
 "metadata": {
  "environment": {
   "name": "tf2-gpu.2-5.m76",
   "type": "gcloud",
   "uri": "gcr.io/deeplearning-platform-release/tf2-gpu.2-5:m76"
  },
  "interpreter": {
   "hash": "31659fd95575785888a0925c53e16fda128af122d9bf30d053d8251d24200cc8"
  },
  "kernelspec": {
   "display_name": "Python 3",
   "language": "python",
   "name": "python3"
  },
  "language_info": {
   "codemirror_mode": {
    "name": "ipython",
    "version": 3
   },
   "file_extension": ".py",
   "mimetype": "text/x-python",
   "name": "python",
   "nbconvert_exporter": "python",
   "pygments_lexer": "ipython3",
   "version": "3.7.10"
  }
 },
 "nbformat": 4,
 "nbformat_minor": 5
}
