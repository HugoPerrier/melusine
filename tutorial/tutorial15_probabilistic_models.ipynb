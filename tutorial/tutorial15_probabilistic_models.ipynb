{
 "cells": [
  {
   "cell_type": "code",
   "execution_count": 1,
   "id": "e5e02fc6",
   "metadata": {},
   "outputs": [],
   "source": [
    "%load_ext autoreload\n",
    "%autoreload 2"
   ]
  },
  {
   "cell_type": "code",
   "execution_count": 2,
   "id": "94398707",
   "metadata": {},
   "outputs": [],
   "source": [
    "import warnings\n",
    "warnings.simplefilter(action='ignore')\n",
    "import numpy as np\n",
    "import pandas as pd\n",
    "from copy import deepcopy\n",
    "from sklearn.preprocessing import LabelEncoder\n",
    "\n",
    "from melusine import load_email_data\n",
    "\n",
    "# Text input \n",
    "df_emails_preprocessed = load_email_data(type=\"full\")\n",
    "df_emails_preprocessed['clean_text'] = df_emails_preprocessed['clean_header'] + \" \" + df_emails_preprocessed['clean_body']"
   ]
  },
  {
   "cell_type": "code",
   "execution_count": 3,
   "id": "8e31e66f",
   "metadata": {},
   "outputs": [],
   "source": [
    "# Requirement : have a pretrained Embedding\n",
    "from melusine.nlp_tools.embedding import Embedding\n",
    "pretrained_embedding = Embedding(tokens_column=\"tokens\", workers=1, min_count=5)\n",
    "pretrained_embedding.train(df_emails_preprocessed)"
   ]
  },
  {
   "cell_type": "code",
   "execution_count": 4,
   "id": "9204523a",
   "metadata": {},
   "outputs": [],
   "source": [
    "# Metadata input\n",
    "df_meta = pd.read_csv('/home/jupyter/melusine/melusine/data/metadata.csv', encoding='utf-8', sep=',')\n",
    "\n",
    "# Dataset\n",
    "X = pd.concat([df_emails_preprocessed['clean_text'],df_meta],axis=1)\n",
    "y = df_emails_preprocessed['label']\n",
    "le = LabelEncoder()\n",
    "y = le.fit_transform(y)"
   ]
  },
  {
   "cell_type": "code",
   "execution_count": 5,
   "id": "25976115",
   "metadata": {},
   "outputs": [],
   "source": [
    "import ast\n",
    "import pandas as pd\n",
    "import numpy as np\n",
    "df_emails_preprocessed = pd.read_pickle('/home/jupyter/melusine/melusine/data/emails_preprocessed.pkl')\n",
    "\n",
    "df_emails_preprocessed['clean_header'] = df_emails_preprocessed['clean_header'].astype(str)\n",
    "df_emails_preprocessed['clean_body'] = df_emails_preprocessed['clean_body'].astype(str)\n",
    "df_emails_preprocessed['attachment'] = df_emails_preprocessed['attachment'].apply(ast.literal_eval)\n",
    "df_emails_preprocessed['clean_text'] = df_emails_preprocessed['clean_header'] + \" \" + df_emails_preprocessed['clean_body']"
   ]
  },
  {
   "cell_type": "code",
   "execution_count": 6,
   "id": "67d1f648",
   "metadata": {},
   "outputs": [],
   "source": [
    "X = pd.concat([df_emails_preprocessed['clean_text'],df_meta],axis=1)"
   ]
  },
  {
   "cell_type": "code",
   "execution_count": 7,
   "id": "82051bc1",
   "metadata": {},
   "outputs": [],
   "source": [
    "from sklearn.preprocessing import LabelEncoder\n",
    "y = df_emails_preprocessed['label']\n",
    "le = LabelEncoder()\n",
    "y = le.fit_transform(y)"
   ]
  },
  {
   "cell_type": "code",
   "execution_count": 8,
   "id": "b1be04f7",
   "metadata": {},
   "outputs": [],
   "source": [
    "from melusine.models.train import NeuralModel"
   ]
  },
  {
   "cell_type": "code",
   "execution_count": 9,
   "id": "dfaebfbe",
   "metadata": {},
   "outputs": [
    {
     "data": {
      "text/plain": [
       "11"
      ]
     },
     "execution_count": 9,
     "metadata": {},
     "output_type": "execute_result"
    }
   ],
   "source": [
    "len(np.unique(y))"
   ]
  },
  {
   "cell_type": "markdown",
   "id": "80c2fa4d",
   "metadata": {},
   "source": [
    "# Deterministic model"
   ]
  },
  {
   "cell_type": "markdown",
   "id": "bdad4164",
   "metadata": {},
   "source": [
    "#### The deterministic model is able to give us **point estimation**. "
   ]
  },
  {
   "cell_type": "code",
   "execution_count": 10,
   "id": "9318b154",
   "metadata": {},
   "outputs": [],
   "source": [
    "from melusine.models.neural_architectures import cnn_model\n",
    "deterministic_nn_model = NeuralModel(architecture_function=cnn_model,\n",
    "                       pretrained_embedding=pretrained_embedding,\n",
    "                       text_input_column=\"clean_text\",\n",
    "                       batch_size=20,\n",
    "                       meta_input_list=['extension','attachment_type', 'dayofweek', 'hour', 'min'],\n",
    "                       n_epochs=40)"
   ]
  },
  {
   "cell_type": "code",
   "execution_count": 11,
   "id": "fc0ee1c7",
   "metadata": {},
   "outputs": [
    {
     "name": "stdout",
     "output_type": "stream",
     "text": [
      "Epoch 1/40\n",
      "2/2 [==============================] - 1s 37ms/step - loss: 2.3826 - accuracy: 0.0750\n",
      "Epoch 2/40\n",
      "2/2 [==============================] - 0s 35ms/step - loss: 2.2581 - accuracy: 0.3500\n",
      "Epoch 3/40\n",
      "2/2 [==============================] - 0s 33ms/step - loss: 2.0683 - accuracy: 0.3250\n",
      "Epoch 4/40\n",
      "2/2 [==============================] - 0s 33ms/step - loss: 2.0491 - accuracy: 0.4000\n",
      "Epoch 5/40\n",
      "2/2 [==============================] - 0s 32ms/step - loss: 2.0310 - accuracy: 0.3250\n",
      "Epoch 6/40\n",
      "2/2 [==============================] - 0s 32ms/step - loss: 1.9422 - accuracy: 0.2750\n",
      "Epoch 7/40\n",
      "2/2 [==============================] - 0s 35ms/step - loss: 1.8644 - accuracy: 0.3750\n",
      "Epoch 8/40\n",
      "2/2 [==============================] - 0s 35ms/step - loss: 1.7566 - accuracy: 0.4500\n",
      "Epoch 9/40\n",
      "2/2 [==============================] - 0s 30ms/step - loss: 1.7221 - accuracy: 0.4750\n",
      "Epoch 10/40\n",
      "2/2 [==============================] - 0s 29ms/step - loss: 1.5651 - accuracy: 0.5000\n",
      "Epoch 11/40\n",
      "2/2 [==============================] - 0s 29ms/step - loss: 1.6786 - accuracy: 0.4500\n",
      "Epoch 12/40\n",
      "2/2 [==============================] - 0s 29ms/step - loss: 1.6312 - accuracy: 0.4750\n",
      "Epoch 13/40\n",
      "2/2 [==============================] - 0s 32ms/step - loss: 1.5194 - accuracy: 0.4500\n",
      "Epoch 14/40\n",
      "2/2 [==============================] - 0s 32ms/step - loss: 1.4372 - accuracy: 0.5000\n",
      "Epoch 15/40\n",
      "2/2 [==============================] - 0s 35ms/step - loss: 1.5120 - accuracy: 0.4750\n",
      "Epoch 16/40\n",
      "2/2 [==============================] - 0s 32ms/step - loss: 1.4744 - accuracy: 0.4750\n",
      "Epoch 17/40\n",
      "2/2 [==============================] - 0s 31ms/step - loss: 1.3892 - accuracy: 0.5000\n",
      "Epoch 18/40\n",
      "2/2 [==============================] - 0s 33ms/step - loss: 1.2276 - accuracy: 0.5500\n",
      "Epoch 19/40\n",
      "2/2 [==============================] - 0s 36ms/step - loss: 1.2334 - accuracy: 0.5500\n",
      "Epoch 20/40\n",
      "2/2 [==============================] - 0s 31ms/step - loss: 1.2552 - accuracy: 0.5250\n",
      "Epoch 21/40\n",
      "2/2 [==============================] - 0s 33ms/step - loss: 1.0469 - accuracy: 0.6500\n",
      "Epoch 22/40\n",
      "2/2 [==============================] - 0s 33ms/step - loss: 1.1153 - accuracy: 0.6250\n",
      "Epoch 23/40\n",
      "2/2 [==============================] - 0s 32ms/step - loss: 0.9841 - accuracy: 0.6750\n",
      "Epoch 24/40\n",
      "2/2 [==============================] - 0s 32ms/step - loss: 0.9830 - accuracy: 0.5750\n",
      "Epoch 25/40\n",
      "2/2 [==============================] - 0s 33ms/step - loss: 0.8315 - accuracy: 0.7750\n",
      "Epoch 26/40\n",
      "2/2 [==============================] - 0s 32ms/step - loss: 0.8079 - accuracy: 0.7500\n",
      "Epoch 27/40\n",
      "2/2 [==============================] - 0s 33ms/step - loss: 0.7292 - accuracy: 0.6500\n",
      "Epoch 28/40\n",
      "2/2 [==============================] - 0s 32ms/step - loss: 0.8353 - accuracy: 0.6750\n",
      "Epoch 29/40\n",
      "2/2 [==============================] - 0s 32ms/step - loss: 0.5387 - accuracy: 0.8750\n",
      "Epoch 30/40\n",
      "2/2 [==============================] - 0s 38ms/step - loss: 0.5140 - accuracy: 0.9000\n",
      "Epoch 31/40\n",
      "2/2 [==============================] - 0s 32ms/step - loss: 0.4851 - accuracy: 0.8500\n",
      "Epoch 32/40\n",
      "2/2 [==============================] - 0s 35ms/step - loss: 0.5081 - accuracy: 0.8000\n",
      "Epoch 33/40\n",
      "2/2 [==============================] - 0s 34ms/step - loss: 0.4119 - accuracy: 0.8500\n",
      "Epoch 34/40\n",
      "2/2 [==============================] - 0s 32ms/step - loss: 0.4644 - accuracy: 0.8750\n",
      "Epoch 35/40\n",
      "2/2 [==============================] - 0s 33ms/step - loss: 0.3060 - accuracy: 0.8750\n",
      "Epoch 36/40\n",
      "2/2 [==============================] - 0s 35ms/step - loss: 0.2338 - accuracy: 0.9250\n",
      "Epoch 37/40\n",
      "2/2 [==============================] - 0s 32ms/step - loss: 0.2963 - accuracy: 0.9250\n",
      "Epoch 38/40\n",
      "2/2 [==============================] - 0s 35ms/step - loss: 0.1831 - accuracy: 0.9500\n",
      "Epoch 39/40\n",
      "2/2 [==============================] - 0s 31ms/step - loss: 0.1157 - accuracy: 0.9500\n",
      "Epoch 40/40\n",
      "2/2 [==============================] - 0s 33ms/step - loss: 0.1332 - accuracy: 0.9500\n",
      "2/2 [==============================] - 0s 6ms/step\n"
     ]
    }
   ],
   "source": [
    "deterministic_nn_model.fit(X,y,tensorboard_log_dir=\"tutorial/data\")\n",
    "accuracy_deterministic = deterministic_nn_model.score(X, y)"
   ]
  },
  {
   "cell_type": "code",
   "execution_count": 12,
   "id": "458ee58d",
   "metadata": {},
   "outputs": [
    {
     "name": "stdout",
     "output_type": "stream",
     "text": [
      "2/2 [==============================] - 0s 7ms/step\n"
     ]
    },
    {
     "data": {
      "text/plain": [
       "array([[0.00486218, 0.01235943, 0.2326481 , 0.06230092, 0.47882137,\n",
       "        0.07909279, 0.01379511, 0.00403807, 0.0033829 , 0.00460617,\n",
       "        0.10409292],\n",
       "       [0.02076069, 0.00132985, 0.00838755, 0.01458177, 0.00093627,\n",
       "        0.00117061, 0.00952328, 0.00844904, 0.00446042, 0.00548564,\n",
       "        0.92491496]], dtype=float32)"
      ]
     },
     "execution_count": 12,
     "metadata": {},
     "output_type": "execute_result"
    }
   ],
   "source": [
    "deterministic_nn_model.predict_proba(X)[:2]"
   ]
  },
  {
   "cell_type": "code",
   "execution_count": 13,
   "id": "8e5beb53",
   "metadata": {},
   "outputs": [
    {
     "name": "stdout",
     "output_type": "stream",
     "text": [
      "Model: \"model\"\n",
      "__________________________________________________________________________________________________\n",
      " Layer (type)                   Output Shape         Param #     Connected to                     \n",
      "==================================================================================================\n",
      " input_1 (InputLayer)           [(None, 100)]        0           []                               \n",
      "                                                                                                  \n",
      " embedding (Embedding)          (None, 100, 300)     5700        ['input_1[0][0]']                \n",
      "                                                                                                  \n",
      " conv1d (Conv1D)                (None, 100, 200)     120200      ['embedding[0][0]']              \n",
      "                                                                                                  \n",
      " spatial_dropout1d (SpatialDrop  (None, 100, 200)    0           ['conv1d[0][0]']                 \n",
      " out1D)                                                                                           \n",
      "                                                                                                  \n",
      " batch_normalization (BatchNorm  (None, 100, 200)    800         ['spatial_dropout1d[0][0]']      \n",
      " alization)                                                                                       \n",
      "                                                                                                  \n",
      " leaky_re_lu (LeakyReLU)        (None, 100, 200)     0           ['batch_normalization[0][0]']    \n",
      "                                                                                                  \n",
      " conv1d_1 (Conv1D)              (None, 100, 250)     100250      ['leaky_re_lu[0][0]']            \n",
      "                                                                                                  \n",
      " input_2 (InputLayer)           [(None, 66)]         0           []                               \n",
      "                                                                                                  \n",
      " spatial_dropout1d_1 (SpatialDr  (None, 100, 250)    0           ['conv1d_1[0][0]']               \n",
      " opout1D)                                                                                         \n",
      "                                                                                                  \n",
      " dense_2 (Dense)                (None, 150)          10050       ['input_2[0][0]']                \n",
      "                                                                                                  \n",
      " leaky_re_lu_1 (LeakyReLU)      (None, 100, 250)     0           ['spatial_dropout1d_1[0][0]']    \n",
      "                                                                                                  \n",
      " dropout_2 (Dropout)            (None, 150)          0           ['dense_2[0][0]']                \n",
      "                                                                                                  \n",
      " dropout (Dropout)              (None, 100, 250)     0           ['leaky_re_lu_1[0][0]']          \n",
      "                                                                                                  \n",
      " leaky_re_lu_4 (LeakyReLU)      (None, 150)          0           ['dropout_2[0][0]']              \n",
      "                                                                                                  \n",
      " global_max_pooling1d (GlobalMa  (None, 250)         0           ['dropout[0][0]']                \n",
      " xPooling1D)                                                                                      \n",
      "                                                                                                  \n",
      " dense_3 (Dense)                (None, 100)          15100       ['leaky_re_lu_4[0][0]']          \n",
      "                                                                                                  \n",
      " dense (Dense)                  (None, 250)          62750       ['global_max_pooling1d[0][0]']   \n",
      "                                                                                                  \n",
      " dropout_3 (Dropout)            (None, 100)          0           ['dense_3[0][0]']                \n",
      "                                                                                                  \n",
      " leaky_re_lu_2 (LeakyReLU)      (None, 250)          0           ['dense[0][0]']                  \n",
      "                                                                                                  \n",
      " leaky_re_lu_5 (LeakyReLU)      (None, 100)          0           ['dropout_3[0][0]']              \n",
      "                                                                                                  \n",
      " dense_1 (Dense)                (None, 150)          37650       ['leaky_re_lu_2[0][0]']          \n",
      "                                                                                                  \n",
      " dense_4 (Dense)                (None, 80)           8080        ['leaky_re_lu_5[0][0]']          \n",
      "                                                                                                  \n",
      " dropout_1 (Dropout)            (None, 150)          0           ['dense_1[0][0]']                \n",
      "                                                                                                  \n",
      " dropout_4 (Dropout)            (None, 80)           0           ['dense_4[0][0]']                \n",
      "                                                                                                  \n",
      " leaky_re_lu_3 (LeakyReLU)      (None, 150)          0           ['dropout_1[0][0]']              \n",
      "                                                                                                  \n",
      " leaky_re_lu_6 (LeakyReLU)      (None, 80)           0           ['dropout_4[0][0]']              \n",
      "                                                                                                  \n",
      " concatenate (Concatenate)      (None, 230)          0           ['leaky_re_lu_3[0][0]',          \n",
      "                                                                  'leaky_re_lu_6[0][0]']          \n",
      "                                                                                                  \n",
      " dense_5 (Dense)                (None, 200)          46200       ['concatenate[0][0]']            \n",
      "                                                                                                  \n",
      " dropout_5 (Dropout)            (None, 200)          0           ['dense_5[0][0]']                \n",
      "                                                                                                  \n",
      " leaky_re_lu_7 (LeakyReLU)      (None, 200)          0           ['dropout_5[0][0]']              \n",
      "                                                                                                  \n",
      " dense_6 (Dense)                (None, 100)          20100       ['leaky_re_lu_7[0][0]']          \n",
      "                                                                                                  \n",
      " dropout_6 (Dropout)            (None, 100)          0           ['dense_6[0][0]']                \n",
      "                                                                                                  \n",
      " leaky_re_lu_8 (LeakyReLU)      (None, 100)          0           ['dropout_6[0][0]']              \n",
      "                                                                                                  \n",
      " dense_7 (Dense)                (None, 11)           1111        ['leaky_re_lu_8[0][0]']          \n",
      "                                                                                                  \n",
      "==================================================================================================\n",
      "Total params: 427,991\n",
      "Trainable params: 427,591\n",
      "Non-trainable params: 400\n",
      "__________________________________________________________________________________________________\n"
     ]
    }
   ],
   "source": [
    "deterministic_nn_model.model.summary()"
   ]
  },
  {
   "cell_type": "markdown",
   "id": "df0f8db9",
   "metadata": {},
   "source": [
    "#### We can propose a way to have **uncertainty estimation**"
   ]
  },
  {
   "cell_type": "markdown",
   "id": "862aa73d",
   "metadata": {},
   "source": [
    "# The probabilitic model \n",
    "The probabilitic gives us not longer point estimation but distribution on predictions. It allows us to give prediction intervals."
   ]
  },
  {
   "cell_type": "code",
   "execution_count": 14,
   "id": "2d5a8a25",
   "metadata": {},
   "outputs": [],
   "source": [
    "from melusine.models.probabilistic_neural_architectures import probabilistic_cnn_with_meta_model\n",
    "probabilistic_model = NeuralModel(architecture_function=probabilistic_cnn_with_meta_model,\n",
    "                       pretrained_embedding=pretrained_embedding,\n",
    "                       text_input_column=\"clean_text\",\n",
    "                       batch_size=20,\n",
    "                       meta_input_list=['extension','attachment_type', 'dayofweek', 'hour', 'min'],\n",
    "                       n_epochs=40)"
   ]
  },
  {
   "cell_type": "code",
   "execution_count": 15,
   "id": "b9ad4fb8",
   "metadata": {},
   "outputs": [
    {
     "name": "stdout",
     "output_type": "stream",
     "text": [
      "Epoch 1/40\n",
      "2/2 [==============================] - 1s 34ms/step - loss: 2.4092 - accuracy: 0.0000e+00\n",
      "Epoch 2/40\n",
      "2/2 [==============================] - 0s 32ms/step - loss: 2.2595 - accuracy: 0.2750\n",
      "Epoch 3/40\n",
      "2/2 [==============================] - 0s 31ms/step - loss: 2.0865 - accuracy: 0.3000\n",
      "Epoch 4/40\n",
      "2/2 [==============================] - 0s 31ms/step - loss: 2.2204 - accuracy: 0.2750\n",
      "Epoch 5/40\n",
      "2/2 [==============================] - 0s 33ms/step - loss: 1.9126 - accuracy: 0.4000\n",
      "Epoch 6/40\n",
      "2/2 [==============================] - 0s 34ms/step - loss: 1.9137 - accuracy: 0.3750\n",
      "Epoch 7/40\n",
      "2/2 [==============================] - 0s 30ms/step - loss: 1.8841 - accuracy: 0.3250\n",
      "Epoch 8/40\n",
      "2/2 [==============================] - 0s 35ms/step - loss: 1.8220 - accuracy: 0.4000\n",
      "Epoch 9/40\n",
      "2/2 [==============================] - 0s 30ms/step - loss: 1.7071 - accuracy: 0.4750\n",
      "Epoch 10/40\n",
      "2/2 [==============================] - 0s 28ms/step - loss: 1.7186 - accuracy: 0.4250\n",
      "Epoch 11/40\n",
      "2/2 [==============================] - 0s 29ms/step - loss: 1.6795 - accuracy: 0.3750\n",
      "Epoch 12/40\n",
      "2/2 [==============================] - 0s 29ms/step - loss: 1.6686 - accuracy: 0.3500\n",
      "Epoch 13/40\n",
      "2/2 [==============================] - 0s 29ms/step - loss: 1.4954 - accuracy: 0.4250\n",
      "Epoch 14/40\n",
      "2/2 [==============================] - 0s 28ms/step - loss: 1.4072 - accuracy: 0.4750\n",
      "Epoch 15/40\n",
      "2/2 [==============================] - 0s 29ms/step - loss: 1.3952 - accuracy: 0.4750\n",
      "Epoch 16/40\n",
      "2/2 [==============================] - 0s 29ms/step - loss: 1.4374 - accuracy: 0.6000\n",
      "Epoch 17/40\n",
      "2/2 [==============================] - 0s 28ms/step - loss: 1.3020 - accuracy: 0.5750\n",
      "Epoch 18/40\n",
      "2/2 [==============================] - 0s 28ms/step - loss: 1.2494 - accuracy: 0.5250\n",
      "Epoch 19/40\n",
      "2/2 [==============================] - 0s 29ms/step - loss: 1.1520 - accuracy: 0.6500\n",
      "Epoch 20/40\n",
      "2/2 [==============================] - 0s 27ms/step - loss: 1.0214 - accuracy: 0.6750\n",
      "Epoch 21/40\n",
      "2/2 [==============================] - 0s 30ms/step - loss: 0.9894 - accuracy: 0.7250\n",
      "Epoch 22/40\n",
      "2/2 [==============================] - 0s 28ms/step - loss: 0.8988 - accuracy: 0.6500\n",
      "Epoch 23/40\n",
      "2/2 [==============================] - 0s 29ms/step - loss: 0.8824 - accuracy: 0.6750\n",
      "Epoch 24/40\n",
      "2/2 [==============================] - 0s 28ms/step - loss: 0.8580 - accuracy: 0.7500\n",
      "Epoch 25/40\n",
      "2/2 [==============================] - 0s 29ms/step - loss: 0.9347 - accuracy: 0.7250\n",
      "Epoch 26/40\n",
      "2/2 [==============================] - 0s 31ms/step - loss: 0.8219 - accuracy: 0.7250\n",
      "Epoch 27/40\n",
      "2/2 [==============================] - 0s 28ms/step - loss: 0.5916 - accuracy: 0.7500\n",
      "Epoch 28/40\n",
      "2/2 [==============================] - 0s 28ms/step - loss: 0.7834 - accuracy: 0.7500\n",
      "Epoch 29/40\n",
      "2/2 [==============================] - 0s 28ms/step - loss: 0.7009 - accuracy: 0.8000\n",
      "Epoch 30/40\n",
      "2/2 [==============================] - 0s 29ms/step - loss: 0.4597 - accuracy: 0.9000\n",
      "Epoch 31/40\n",
      "2/2 [==============================] - 0s 28ms/step - loss: 0.4909 - accuracy: 0.8500\n",
      "Epoch 32/40\n",
      "2/2 [==============================] - 0s 29ms/step - loss: 0.3944 - accuracy: 0.8500\n",
      "Epoch 33/40\n",
      "2/2 [==============================] - 0s 28ms/step - loss: 0.4016 - accuracy: 0.9000\n",
      "Epoch 34/40\n",
      "2/2 [==============================] - 0s 29ms/step - loss: 0.2914 - accuracy: 0.9250\n",
      "Epoch 35/40\n",
      "2/2 [==============================] - 0s 29ms/step - loss: 0.3087 - accuracy: 0.9500\n",
      "Epoch 36/40\n",
      "2/2 [==============================] - 0s 28ms/step - loss: 0.2077 - accuracy: 0.9750\n",
      "Epoch 37/40\n",
      "2/2 [==============================] - 0s 27ms/step - loss: 0.1705 - accuracy: 0.9750\n",
      "Epoch 38/40\n",
      "2/2 [==============================] - 0s 29ms/step - loss: 0.2410 - accuracy: 0.8750\n",
      "Epoch 39/40\n",
      "2/2 [==============================] - 0s 28ms/step - loss: 0.2468 - accuracy: 0.8750\n",
      "Epoch 40/40\n",
      "2/2 [==============================] - 0s 29ms/step - loss: 0.1611 - accuracy: 0.9750\n"
     ]
    }
   ],
   "source": [
    "probabilistic_model.fit(X,y,tensorboard_log_dir=\"tutorial/data\")\n",
    "accuracy_probabilistic = probabilistic_model.score(X, y)"
   ]
  },
  {
   "cell_type": "markdown",
   "id": "8ee6556e",
   "metadata": {},
   "source": [
    "### The estimation of the probability is now the mean of the distribution of the prediction"
   ]
  },
  {
   "cell_type": "markdown",
   "id": "d190ff3c",
   "metadata": {},
   "source": [
    "The output of the model is not a **vector** but a **distribution** we can :\n",
    "- sample\n",
    "- compute mean\n",
    "- compute std"
   ]
  },
  {
   "cell_type": "code",
   "execution_count": 16,
   "id": "6e5cdb86",
   "metadata": {},
   "outputs": [
    {
     "data": {
      "text/plain": [
       "<tfp.distributions.OneHotCategorical 'model_1_one_hot_categorical_OneHotCategorical_OneHotCategorical' batch_shape=[40] event_shape=[11] dtype=float32>"
      ]
     },
     "execution_count": 16,
     "metadata": {},
     "output_type": "execute_result"
    }
   ],
   "source": [
    "X_input = probabilistic_model.prepare_email_to_predict(X)\n",
    "output = probabilistic_model.model(X_input)\n",
    "output"
   ]
  },
  {
   "cell_type": "markdown",
   "id": "aa27c50e",
   "metadata": {},
   "source": [
    "#### We can have a **point estimation** using the **mode** or the **mean**"
   ]
  },
  {
   "cell_type": "code",
   "execution_count": 17,
   "id": "cf9beaf4",
   "metadata": {},
   "outputs": [
    {
     "data": {
      "text/plain": [
       "array([[0. , 0. , 0.1, 0.2, 0.2, 0. , 0. , 0. , 0. , 0. , 0.5],\n",
       "       [0. , 0. , 0.1, 0. , 0. , 0. , 0. , 0. , 0. , 0. , 0.8]],\n",
       "      dtype=float32)"
      ]
     },
     "execution_count": 17,
     "metadata": {},
     "output_type": "execute_result"
    }
   ],
   "source": [
    "output.mean().numpy().round(1)[:2]"
   ]
  },
  {
   "cell_type": "code",
   "execution_count": 18,
   "id": "71e4f2b6",
   "metadata": {},
   "outputs": [
    {
     "data": {
      "text/plain": [
       "<tf.Tensor: shape=(2, 11), dtype=float32, numpy=\n",
       "array([[0., 0., 0., 0., 0., 0., 0., 0., 0., 0., 1.],\n",
       "       [0., 0., 0., 0., 0., 0., 0., 0., 0., 0., 1.]], dtype=float32)>"
      ]
     },
     "execution_count": 18,
     "metadata": {},
     "output_type": "execute_result"
    }
   ],
   "source": [
    "output.mode()[:2]"
   ]
  },
  {
   "cell_type": "markdown",
   "id": "af948117",
   "metadata": {},
   "source": [
    "#### We can have the **standard deviation** of the distributions"
   ]
  },
  {
   "cell_type": "code",
   "execution_count": 19,
   "id": "dcdad97a",
   "metadata": {},
   "outputs": [
    {
     "data": {
      "text/plain": [
       "array([[0.1, 0.1, 0.2, 0.4, 0.4, 0.1, 0.1, 0. , 0. , 0.1, 0.5],\n",
       "       [0.1, 0.1, 0.2, 0.2, 0.1, 0.1, 0.1, 0.1, 0.1, 0.1, 0.4]],\n",
       "      dtype=float32)"
      ]
     },
     "execution_count": 19,
     "metadata": {},
     "output_type": "execute_result"
    }
   ],
   "source": [
    "output.stddev().numpy().round(1)[:2]"
   ]
  },
  {
   "cell_type": "markdown",
   "id": "fab03ac9",
   "metadata": {},
   "source": [
    "#### We can even **sample** the distributions"
   ]
  },
  {
   "cell_type": "code",
   "execution_count": 20,
   "id": "53d2cf4b",
   "metadata": {},
   "outputs": [
    {
     "data": {
      "text/plain": [
       "<tf.Tensor: shape=(2, 11), dtype=float32, numpy=\n",
       "array([[0., 0., 0., 1., 0., 0., 0., 0., 0., 0., 0.],\n",
       "       [1., 0., 0., 0., 0., 0., 0., 0., 0., 0., 0.]], dtype=float32)>"
      ]
     },
     "execution_count": 20,
     "metadata": {},
     "output_type": "execute_result"
    }
   ],
   "source": [
    "output.sample()[:2]"
   ]
  },
  {
   "cell_type": "markdown",
   "id": "58ec92b6",
   "metadata": {},
   "source": [
    "#### The mode is used for `predict`"
   ]
  },
  {
   "cell_type": "code",
   "execution_count": 21,
   "id": "2d0c3fce",
   "metadata": {},
   "outputs": [
    {
     "data": {
      "text/plain": [
       "array([10, 10])"
      ]
     },
     "execution_count": 21,
     "metadata": {},
     "output_type": "execute_result"
    }
   ],
   "source": [
    "probabilistic_model.predict(X)[:2]"
   ]
  },
  {
   "cell_type": "markdown",
   "id": "c7257179",
   "metadata": {},
   "source": [
    "#### The mean is used for `predict_proba`"
   ]
  },
  {
   "cell_type": "code",
   "execution_count": 22,
   "id": "938c9219",
   "metadata": {
    "scrolled": true
   },
   "outputs": [
    {
     "data": {
      "text/plain": [
       "array([[0. , 0. , 0.1, 0.2, 0.2, 0. , 0. , 0. , 0. , 0. , 0.5],\n",
       "       [0. , 0. , 0.1, 0. , 0. , 0. , 0. , 0. , 0. , 0. , 0.8]],\n",
       "      dtype=float32)"
      ]
     },
     "execution_count": 22,
     "metadata": {},
     "output_type": "execute_result"
    }
   ],
   "source": [
    "probabilistic_model.predict_proba(X).round(1)[:2]"
   ]
  },
  {
   "cell_type": "markdown",
   "id": "3d03c645",
   "metadata": {},
   "source": [
    "#### And prediction intervals are made by combining **mean** and **std** (gaussian hypothesis)\n",
    "We could also imagine to sample multiple times the distribution and use the samples to estimate uncertainty."
   ]
  },
  {
   "cell_type": "code",
   "execution_count": 23,
   "id": "f3f69cc7",
   "metadata": {},
   "outputs": [],
   "source": [
    "score, inf, sup = probabilistic_model.predict_proba(X, prediction_interval=0.95)"
   ]
  },
  {
   "cell_type": "code",
   "execution_count": 24,
   "id": "15af96f8",
   "metadata": {},
   "outputs": [
    {
     "data": {
      "text/plain": [
       "array([[0.1, 0.2, 0.4, 0.8, 0.8, 0.3, 0.2, 0.1, 0.1, 0.1, 1. ],\n",
       "       [0.1, 0.2, 0.4, 0.4, 0.3, 0.2, 0.2, 0.2, 0.1, 0.2, 0.8]],\n",
       "      dtype=float32)"
      ]
     },
     "execution_count": 24,
     "metadata": {},
     "output_type": "execute_result"
    }
   ],
   "source": [
    "lower_boundary = (score - inf).round(1)[:2]\n",
    "lower_boundary"
   ]
  },
  {
   "cell_type": "code",
   "execution_count": 25,
   "id": "26f1d0cb",
   "metadata": {},
   "outputs": [
    {
     "data": {
      "text/plain": [
       "array([[0.1, 0.3, 0.6, 1.2, 1.2, 0.3, 0.2, 0.1, 0.1, 0.1, 2. ],\n",
       "       [0.2, 0.2, 0.5, 0.5, 0.3, 0.2, 0.2, 0.2, 0.1, 0.2, 2.4]],\n",
       "      dtype=float32)"
      ]
     },
     "execution_count": 25,
     "metadata": {},
     "output_type": "execute_result"
    }
   ],
   "source": [
    "upper_boundary = (score + sup).round(1)[:2]\n",
    "upper_boundary"
   ]
  },
  {
   "cell_type": "code",
   "execution_count": 26,
   "id": "8f5df812",
   "metadata": {},
   "outputs": [],
   "source": [
    "import matplotlib.pyplot as plt\n",
    "ntargets = 11\n",
    "\n",
    "\n",
    "def analyse_and_plot_model_predictions(data, true_labels, nn_model, text_num, pi=0.95):\n",
    "    \"\"\"\n",
    "    Make plots of the probabilities that the model estimates for a given text\n",
    "    \"\"\"\n",
    "    true_label = true_labels[text_num]\n",
    "    true_label_decoded = le.inverse_transform([true_label])[0]\n",
    "    print('True label: \\033[1m \\033[92m {} \\033[0m'.format(str(true_label_decoded)))\n",
    "    print('Clean text: ', data.loc[text_num, \"clean_text\"])\n",
    "    model_prediction, pct_low, pct_up = nn_model.predict_proba(data.loc[text_num:text_num], prediction_interval=pi)\n",
    "    model_prediction, pct_low, pct_up = model_prediction[0], pct_low[0], pct_up[0]\n",
    "    x_pos = np.arange(ntargets)\n",
    "    bar = plt.bar(x_pos, pct_up, color='red')\n",
    "    all_categories_decoded = le.inverse_transform(np.arange(ntargets))\n",
    "    plt.xticks(x_pos, all_categories_decoded, color='black', rotation=45, fontweight='bold', fontsize='10', horizontalalignment='right')\n",
    "    ax = plt.gca()\n",
    "    labels = ax.get_xticklabels()\n",
    "    ticks = ax.get_xticks()\n",
    "    for label, tick in zip(labels, ticks):\n",
    "        if tick == true_label:\n",
    "            label.set_color('green')\n",
    "    bar[true_label].set_color('green')\n",
    "    plt.bar(np.arange(ntargets), pct_low-0.02, color='white', linewidth=1, edgecolor='white')\n",
    "    plt.ylim([0, 1])\n",
    "    plt.ylabel('Probability')\n",
    "    plt.title('Model estimated probabilities') \n",
    "    plt.show()"
   ]
  },
  {
   "cell_type": "code",
   "execution_count": 27,
   "id": "34211116",
   "metadata": {},
   "outputs": [
    {
     "name": "stdout",
     "output_type": "stream",
     "text": [
      "True label: \u001b[1m \u001b[92m vehicule \u001b[0m\n",
      "Clean text:  assurance vehicules je me permets de venir vers vous car depuis le debut de lannee, nous avons des difficultes pour assurer nos vehicules. ces derniers jours, vous nous avez fait parvenir le detail des denominations et des niveau dassurance de chaque vehicule. merci deffectuer ces changements dans lattente de votre retour\n"
     ]
    },
    {
     "data": {
      "image/png": "[encoded data removed]",
      "text/plain": [
       "<Figure size 432x288 with 1 Axes>"
      ]
     },
     "metadata": {
      "needs_background": "light"
     },
     "output_type": "display_data"
    }
   ],
   "source": [
    "i = 7\n",
    "analyse_and_plot_model_predictions(X, y, probabilistic_model, text_num=i, pi=0.95)"
   ]
  },
  {
   "cell_type": "markdown",
   "id": "565ffcdc",
   "metadata": {},
   "source": [
    "### Disclaimer\n",
    "The dataset of this melusine tutorial is so small (40 emails) the model is always drawing large intervals. On the previous example the prediction interval may be [0;1] (thank you captain obvious). We would rather consider small (more informative) intervals.\n",
    "\n",
    "\n",
    "But if we apply this method on a large public datasets (like the movies dataset : 100 000 movies plots) we can see predictions with less uncertainty as on the following image. With disjointed intervals.\n",
    "\n",
    "<img src=\"images/uncertainty-on-movies-dataset.png\" width=400 height=400 />\n",
    "\n",
    "To let us see small interval (as a sanity check) we also can choose a very small prediction interval (0.2 instead of 0.95, but obviously 0.2 is not a serious value for prediction intervals) as on the following."
   ]
  },
  {
   "cell_type": "code",
   "execution_count": 28,
   "id": "80ba1163",
   "metadata": {},
   "outputs": [
    {
     "name": "stdout",
     "output_type": "stream",
     "text": [
      "True label: \u001b[1m \u001b[92m vehicule \u001b[0m\n",
      "Clean text:  assurance vehicules je me permets de venir vers vous car depuis le debut de lannee, nous avons des difficultes pour assurer nos vehicules. ces derniers jours, vous nous avez fait parvenir le detail des denominations et des niveau dassurance de chaque vehicule. merci deffectuer ces changements dans lattente de votre retour\n"
     ]
    },
    {
     "data": {
      "image/png": "[encoded data removed]",
      "text/plain": [
       "<Figure size 432x288 with 1 Axes>"
      ]
     },
     "metadata": {
      "needs_background": "light"
     },
     "output_type": "display_data"
    }
   ],
   "source": [
    "i = 7\n",
    "analyse_and_plot_model_predictions(X, y, probabilistic_model, text_num=i, pi=0.2)"
   ]
  },
  {
   "cell_type": "markdown",
   "id": "efd052f1",
   "metadata": {},
   "source": [
    "So instead of just having a point estimation score of being a `vehicle` verbatim (score=0.2) we can have uncertainty estimation around a point estimation (the score of being `vehicle` verbatim is in the interval [0.1 ; 0.3] with a 95% prediction interval)."
   ]
  },
  {
   "cell_type": "markdown",
   "id": "39242b05",
   "metadata": {},
   "source": [
    "# To go further : variational neural networks\n",
    "We can try a variational neural networks : [`Flipout`](https://www.tensorflow.org/probability/api_docs/python/tfp/layers/conv_variational)"
   ]
  },
  {
   "cell_type": "code",
   "execution_count": 29,
   "id": "6b78cfa5",
   "metadata": {},
   "outputs": [],
   "source": [
    "from melusine.models.probabilistic_neural_architectures import flipout_cnn_model\n",
    "flipout_nn_model = NeuralModel(architecture_function=flipout_cnn_model,\n",
    "                       pretrained_embedding=pretrained_embedding,\n",
    "                       text_input_column=\"clean_text\",\n",
    "                       batch_size=20,\n",
    "                       meta_input_list=['extension','attachment_type', 'dayofweek', 'hour', 'min'],\n",
    "                       n_epochs=40)"
   ]
  },
  {
   "cell_type": "code",
   "execution_count": 30,
   "id": "871dd5c3",
   "metadata": {},
   "outputs": [
    {
     "name": "stdout",
     "output_type": "stream",
     "text": [
      "Epoch 1/40\n",
      "2/2 [==============================] - 2s 23ms/step - loss: 18789.6602 - accuracy: 0.0500\n",
      "Epoch 2/40\n",
      "2/2 [==============================] - 0s 23ms/step - loss: 18774.0352 - accuracy: 0.0500\n",
      "Epoch 3/40\n",
      "2/2 [==============================] - 0s 24ms/step - loss: 18758.4434 - accuracy: 0.0500\n",
      "Epoch 4/40\n",
      "2/2 [==============================] - 0s 22ms/step - loss: 18742.8867 - accuracy: 0.0500\n",
      "Epoch 5/40\n",
      "2/2 [==============================] - 0s 23ms/step - loss: 18727.3594 - accuracy: 0.0500\n",
      "Epoch 6/40\n",
      "2/2 [==============================] - 0s 23ms/step - loss: 18711.8652 - accuracy: 0.0500\n",
      "Epoch 7/40\n",
      "2/2 [==============================] - 0s 30ms/step - loss: 18696.4004 - accuracy: 0.0500\n",
      "Epoch 8/40\n",
      "2/2 [==============================] - 0s 22ms/step - loss: 18680.9648 - accuracy: 0.0500\n",
      "Epoch 9/40\n",
      "2/2 [==============================] - 0s 23ms/step - loss: 18665.5645 - accuracy: 0.0500\n",
      "Epoch 10/40\n",
      "2/2 [==============================] - 0s 23ms/step - loss: 18650.1914 - accuracy: 0.0500\n",
      "Epoch 11/40\n",
      "2/2 [==============================] - 0s 24ms/step - loss: 18634.8496 - accuracy: 0.0500\n",
      "Epoch 12/40\n",
      "2/2 [==============================] - 0s 23ms/step - loss: 18619.5371 - accuracy: 0.0500\n",
      "Epoch 13/40\n",
      "2/2 [==============================] - 0s 24ms/step - loss: 18604.2539 - accuracy: 0.0500\n",
      "Epoch 14/40\n",
      "2/2 [==============================] - 0s 23ms/step - loss: 18588.9961 - accuracy: 0.0500\n",
      "Epoch 15/40\n",
      "2/2 [==============================] - 0s 25ms/step - loss: 18573.7695 - accuracy: 0.0500\n",
      "Epoch 16/40\n",
      "2/2 [==============================] - 0s 24ms/step - loss: 18558.5684 - accuracy: 0.0500\n",
      "Epoch 17/40\n",
      "2/2 [==============================] - 0s 25ms/step - loss: 18543.3965 - accuracy: 0.0500\n",
      "Epoch 18/40\n",
      "2/2 [==============================] - 0s 26ms/step - loss: 18528.2461 - accuracy: 0.0500\n",
      "Epoch 19/40\n",
      "2/2 [==============================] - 0s 23ms/step - loss: 18513.1211 - accuracy: 0.0500\n",
      "Epoch 20/40\n",
      "2/2 [==============================] - 0s 20ms/step - loss: 18498.0254 - accuracy: 0.0500\n",
      "Epoch 21/40\n",
      "2/2 [==============================] - 0s 20ms/step - loss: 18482.9492 - accuracy: 0.0500\n",
      "Epoch 22/40\n",
      "2/2 [==============================] - 0s 23ms/step - loss: 18467.8906 - accuracy: 0.0500\n",
      "Epoch 23/40\n",
      "2/2 [==============================] - 0s 23ms/step - loss: 18452.8594 - accuracy: 0.0500\n",
      "Epoch 24/40\n",
      "2/2 [==============================] - 0s 23ms/step - loss: 18437.8457 - accuracy: 0.0500\n",
      "Epoch 25/40\n",
      "2/2 [==============================] - 0s 23ms/step - loss: 18422.8555 - accuracy: 0.0500\n",
      "Epoch 26/40\n",
      "2/2 [==============================] - 0s 24ms/step - loss: 18407.8848 - accuracy: 0.0500\n",
      "Epoch 27/40\n",
      "2/2 [==============================] - 0s 23ms/step - loss: 18392.9336 - accuracy: 0.0500\n",
      "Epoch 28/40\n",
      "2/2 [==============================] - 0s 22ms/step - loss: 18378.0000 - accuracy: 0.0500\n",
      "Epoch 29/40\n",
      "2/2 [==============================] - 0s 22ms/step - loss: 18363.0879 - accuracy: 0.0500\n",
      "Epoch 30/40\n",
      "2/2 [==============================] - 0s 23ms/step - loss: 18348.1875 - accuracy: 0.0500\n",
      "Epoch 31/40\n",
      "2/2 [==============================] - 0s 23ms/step - loss: 18333.3066 - accuracy: 0.0500\n",
      "Epoch 32/40\n",
      "2/2 [==============================] - 0s 26ms/step - loss: 18318.4414 - accuracy: 0.0500\n",
      "Epoch 33/40\n",
      "2/2 [==============================] - 0s 24ms/step - loss: 18303.5879 - accuracy: 0.0500\n",
      "Epoch 34/40\n",
      "2/2 [==============================] - 0s 23ms/step - loss: 18288.7539 - accuracy: 0.0500\n",
      "Epoch 35/40\n",
      "2/2 [==============================] - 0s 23ms/step - loss: 18273.9375 - accuracy: 0.0500\n",
      "Epoch 36/40\n",
      "2/2 [==============================] - 0s 23ms/step - loss: 18259.1289 - accuracy: 0.0500\n",
      "Epoch 37/40\n",
      "2/2 [==============================] - 0s 23ms/step - loss: 18244.3379 - accuracy: 0.0500\n",
      "Epoch 38/40\n",
      "2/2 [==============================] - 0s 24ms/step - loss: 18229.5586 - accuracy: 0.0500\n",
      "Epoch 39/40\n",
      "2/2 [==============================] - 0s 24ms/step - loss: 18214.7930 - accuracy: 0.0500\n",
      "Epoch 40/40\n",
      "2/2 [==============================] - 0s 24ms/step - loss: 18200.0410 - accuracy: 0.0500\n"
     ]
    }
   ],
   "source": [
    "flipout_nn_model.fit(X,y,tensorboard_log_dir=\"tutorial/data\")\n",
    "accuracy_flipout= flipout_nn_model.score(X, y)"
   ]
  },
  {
   "cell_type": "code",
   "execution_count": 31,
   "id": "730f6b21",
   "metadata": {},
   "outputs": [
    {
     "name": "stdout",
     "output_type": "stream",
     "text": [
      "Model: \"model_2\"\n",
      "__________________________________________________________________________________________________\n",
      " Layer (type)                   Output Shape         Param #     Connected to                     \n",
      "==================================================================================================\n",
      " input_5 (InputLayer)           [(None, 100)]        0           []                               \n",
      "                                                                                                  \n",
      " embedding_2 (Embedding)        (None, 100, 300)     6900        ['input_5[0][0]']                \n",
      "                                                                                                  \n",
      " conv1d_flipout (Conv1DFlipout)  (None, 100, 128)    230528      ['embedding_2[0][0]']            \n",
      "                                                                                                  \n",
      " input_6 (InputLayer)           [(None, 66)]         0           []                               \n",
      "                                                                                                  \n",
      " global_max_pooling1d_2 (Global  (None, 128)         0           ['conv1d_flipout[0][0]']         \n",
      " MaxPooling1D)                                                                                    \n",
      "                                                                                                  \n",
      " dense_flipout (DenseFlipout)   (None, 64)           8512        ['input_6[0][0]']                \n",
      "                                                                                                  \n",
      " concatenate_2 (Concatenate)    (None, 192)          0           ['global_max_pooling1d_2[0][0]', \n",
      "                                                                  'dense_flipout[0][0]']          \n",
      "                                                                                                  \n",
      " dense_flipout_1 (DenseFlipout)  (None, 64)          24640       ['concatenate_2[0][0]']          \n",
      "                                                                                                  \n",
      " dense_flipout_2 (DenseFlipout)  (None, 11)          1419        ['dense_flipout_1[0][0]']        \n",
      "                                                                                                  \n",
      " one_hot_categorical_1 (OneHotC  ((None, 11),        0           ['dense_flipout_2[0][0]']        \n",
      " ategorical)                     (None, 11))                                                      \n",
      "                                                                                                  \n",
      "==================================================================================================\n",
      "Total params: 271,999\n",
      "Trainable params: 265,099\n",
      "Non-trainable params: 6,900\n",
      "__________________________________________________________________________________________________\n"
     ]
    }
   ],
   "source": [
    "flipout_nn_model.model.summary()"
   ]
  },
  {
   "cell_type": "markdown",
   "id": "33fba62e",
   "metadata": {},
   "source": [
    "### Another disclaimer\n",
    "The tutorial dataset is too small for our flipout model."
   ]
  },
  {
   "cell_type": "code",
   "execution_count": 32,
   "id": "09338656",
   "metadata": {},
   "outputs": [
    {
     "name": "stdout",
     "output_type": "stream",
     "text": [
      "True label: \u001b[1m \u001b[92m vehicule \u001b[0m\n",
      "Clean text:  pret vehicule ci-joint pret vehicule\n"
     ]
    },
    {
     "data": {
      "image/png": "[encoded data removed]",
      "text/plain": [
       "<Figure size 432x288 with 1 Axes>"
      ]
     },
     "metadata": {
      "needs_background": "light"
     },
     "output_type": "display_data"
    }
   ],
   "source": [
    "i = 9\n",
    "analyse_and_plot_model_predictions(X, y, flipout_nn_model, i)"
   ]
  },
  {
   "cell_type": "markdown",
   "id": "a64961d3",
   "metadata": {},
   "source": [
    "### Quick summary\n",
    "We show 2 probabilistic models :\n",
    "- **basic probabilistic** model with just a [OneHotCategorical](https://www.tensorflow.org/probability/api_docs/python/tfp/layers/OneHotCategorical) as last (prediction) layer\n",
    "\n",
    "- **flipout** model with [Convolution1DFlipout](https://www.tensorflow.org/probability/api_docs/python/tfp/layers/Convolution1DFlipout) layers\n",
    "\n",
    "We made simulations on a larger dataset (the movies plots dataset) to see if the probabilistic models had a good enough performance.\n",
    "\n",
    "The basic probabilistic model is an effective lowcost solution to have uncertainty estimation of the prediction without any performance loss.\n",
    "\n",
    "On our case, we did not manage to design a variational (flipout) neural architecture to get this level of performance."
   ]
  }
 ],
 "metadata": {
  "environment": {
   "name": "tf2-gpu.2-5.m76",
   "type": "gcloud",
   "uri": "gcr.io/deeplearning-platform-release/tf2-gpu.2-5:m76"
  },
  "interpreter": {
   "hash": "31659fd95575785888a0925c53e16fda128af122d9bf30d053d8251d24200cc8"
  },
  "kernelspec": {
   "display_name": "Python 3",
   "language": "python",
   "name": "python3"
  },
  "language_info": {
   "codemirror_mode": {
    "name": "ipython",
    "version": 3
   },
   "file_extension": ".py",
   "mimetype": "text/x-python",
   "name": "python",
   "nbconvert_exporter": "python",
   "pygments_lexer": "ipython3",
   "version": "3.7.10"
  }
 },
 "nbformat": 4,
 "nbformat_minor": 5
}
