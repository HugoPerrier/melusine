{
 "cells": [
  {
   "cell_type": "code",
   "execution_count": 1,
   "id": "6a6fe32f",
   "metadata": {},
   "outputs": [],
   "source": [
    "import warnings\n",
    "warnings.simplefilter(action='ignore')\n",
    "import numpy as np\n",
    "import pandas as pd\n",
    "from copy import deepcopy\n",
    "from sklearn.preprocessing import LabelEncoder\n",
    "\n",
    "from melusine import load_email_data\n",
    "\n",
    "# Text input \n",
    "df_emails_preprocessed = load_email_data(type=\"full\")\n",
    "df_emails_preprocessed['clean_text'] = df_emails_preprocessed['clean_header'] + \" \" + df_emails_preprocessed['clean_body']"
   ]
  },
  {
   "cell_type": "code",
   "execution_count": 2,
   "id": "8675a522",
   "metadata": {},
   "outputs": [],
   "source": [
    "# Requirement : have a pretrained Embedding\n",
    "from melusine.nlp_tools.embedding import Embedding\n",
    "pretrained_embedding = Embedding(tokens_column=\"tokens\", workers=1, min_count=5)\n",
    "pretrained_embedding.train(df_emails_preprocessed)"
   ]
  },
  {
   "cell_type": "code",
   "execution_count": 3,
   "id": "5791ac45",
   "metadata": {},
   "outputs": [],
   "source": [
    "# Metadata input\n",
    "df_meta = pd.read_csv('/home/jupyter/melusine/melusine/data/metadata.csv', encoding='utf-8', sep=',')\n",
    "\n",
    "# Dataset\n",
    "X = pd.concat([df_emails_preprocessed['clean_text'],df_meta],axis=1)\n",
    "y = df_emails_preprocessed['label']\n",
    "le = LabelEncoder()\n",
    "y = le.fit_transform(y)"
   ]
  },
  {
   "cell_type": "code",
   "execution_count": 4,
   "id": "a9bc83c4",
   "metadata": {},
   "outputs": [],
   "source": [
    "import ast\n",
    "import pandas as pd\n",
    "import numpy as np\n",
    "df_emails_preprocessed = pd.read_pickle('/home/jupyter/melusine/melusine/data/emails_preprocessed.pkl')\n",
    "\n",
    "df_emails_preprocessed['clean_header'] = df_emails_preprocessed['clean_header'].astype(str)\n",
    "df_emails_preprocessed['clean_body'] = df_emails_preprocessed['clean_body'].astype(str)\n",
    "df_emails_preprocessed['attachment'] = df_emails_preprocessed['attachment'].apply(ast.literal_eval)\n",
    "df_emails_preprocessed['clean_text'] = df_emails_preprocessed['clean_header'] + \" \" + df_emails_preprocessed['clean_body']"
   ]
  },
  {
   "cell_type": "code",
   "execution_count": 5,
   "id": "a4bad295",
   "metadata": {},
   "outputs": [],
   "source": [
    "X = pd.concat([df_emails_preprocessed['clean_text'],df_meta],axis=1)"
   ]
  },
  {
   "cell_type": "code",
   "execution_count": 6,
   "id": "27e56fd4",
   "metadata": {},
   "outputs": [],
   "source": [
    "from sklearn.preprocessing import LabelEncoder\n",
    "y = df_emails_preprocessed['label']\n",
    "le = LabelEncoder()\n",
    "y = le.fit_transform(y)"
   ]
  },
  {
   "cell_type": "code",
   "execution_count": 7,
   "id": "ad2f599d",
   "metadata": {},
   "outputs": [],
   "source": [
    "from melusine.models.train import NeuralModel"
   ]
  },
  {
   "cell_type": "code",
   "execution_count": 8,
   "id": "2ef60796",
   "metadata": {},
   "outputs": [
    {
     "data": {
      "text/plain": [
       "11"
      ]
     },
     "execution_count": 8,
     "metadata": {},
     "output_type": "execute_result"
    }
   ],
   "source": [
    "len(np.unique(y))"
   ]
  },
  {
   "cell_type": "markdown",
   "id": "6b8cd62f",
   "metadata": {},
   "source": [
    "# Deterministic model"
   ]
  },
  {
   "cell_type": "markdown",
   "id": "358c4300",
   "metadata": {},
   "source": [
    "#### The deterministic model is able to give us **point estimation**. "
   ]
  },
  {
   "cell_type": "code",
   "execution_count": 9,
   "id": "40029db6",
   "metadata": {},
   "outputs": [],
   "source": [
    "from melusine.models.neural_architectures import cnn_model\n",
    "deterministic_nn_model = NeuralModel(architecture_function=cnn_model,\n",
    "                       pretrained_embedding=pretrained_embedding,\n",
    "                       text_input_column=\"clean_text\",\n",
    "                       batch_size=20,\n",
    "                       meta_input_list=['extension','attachment_type', 'dayofweek', 'hour', 'min'],\n",
    "                       n_epochs=40)"
   ]
  },
  {
   "cell_type": "code",
   "execution_count": 10,
   "id": "d8ec5b2c",
   "metadata": {},
   "outputs": [
    {
     "name": "stdout",
     "output_type": "stream",
     "text": [
      "Epoch 1/40\n",
      "2/2 [==============================] - 2s 67ms/step - loss: 2.4318 - accuracy: 0.0000e+00\n",
      "Epoch 2/40\n",
      "2/2 [==============================] - 0s 60ms/step - loss: 2.3268 - accuracy: 0.2250\n",
      "Epoch 3/40\n",
      "2/2 [==============================] - 0s 60ms/step - loss: 2.1965 - accuracy: 0.4000\n",
      "Epoch 4/40\n",
      "2/2 [==============================] - 0s 64ms/step - loss: 2.1438 - accuracy: 0.2750\n",
      "Epoch 5/40\n",
      "2/2 [==============================] - 0s 82ms/step - loss: 2.0206 - accuracy: 0.3500\n",
      "Epoch 6/40\n",
      "2/2 [==============================] - 0s 75ms/step - loss: 1.9991 - accuracy: 0.4000\n",
      "Epoch 7/40\n",
      "2/2 [==============================] - 0s 66ms/step - loss: 1.9556 - accuracy: 0.3000\n",
      "Epoch 8/40\n",
      "2/2 [==============================] - 0s 58ms/step - loss: 1.8355 - accuracy: 0.3750\n",
      "Epoch 9/40\n",
      "2/2 [==============================] - 0s 52ms/step - loss: 1.8379 - accuracy: 0.3500\n",
      "Epoch 10/40\n",
      "2/2 [==============================] - 0s 49ms/step - loss: 1.9410 - accuracy: 0.4000\n",
      "Epoch 11/40\n",
      "2/2 [==============================] - 0s 47ms/step - loss: 1.7006 - accuracy: 0.3750\n",
      "Epoch 12/40\n",
      "2/2 [==============================] - 0s 59ms/step - loss: 1.6159 - accuracy: 0.4500\n",
      "Epoch 13/40\n",
      "2/2 [==============================] - 0s 69ms/step - loss: 1.6440 - accuracy: 0.4750\n",
      "Epoch 14/40\n",
      "2/2 [==============================] - 0s 64ms/step - loss: 1.5601 - accuracy: 0.4500\n",
      "Epoch 15/40\n",
      "2/2 [==============================] - 0s 68ms/step - loss: 1.6746 - accuracy: 0.4250\n",
      "Epoch 16/40\n",
      "2/2 [==============================] - 0s 74ms/step - loss: 1.4571 - accuracy: 0.4750\n",
      "Epoch 17/40\n",
      "2/2 [==============================] - 0s 73ms/step - loss: 1.3530 - accuracy: 0.5500\n",
      "Epoch 18/40\n",
      "2/2 [==============================] - 0s 70ms/step - loss: 1.3496 - accuracy: 0.5000\n",
      "Epoch 19/40\n",
      "2/2 [==============================] - 0s 80ms/step - loss: 1.2564 - accuracy: 0.6000\n",
      "Epoch 20/40\n",
      "2/2 [==============================] - 0s 69ms/step - loss: 1.3072 - accuracy: 0.5500\n",
      "Epoch 21/40\n",
      "2/2 [==============================] - 0s 78ms/step - loss: 1.1848 - accuracy: 0.6250\n",
      "Epoch 22/40\n",
      "2/2 [==============================] - 0s 66ms/step - loss: 1.1051 - accuracy: 0.6000\n",
      "Epoch 23/40\n",
      "2/2 [==============================] - 0s 75ms/step - loss: 1.0460 - accuracy: 0.6250\n",
      "Epoch 24/40\n",
      "2/2 [==============================] - 0s 77ms/step - loss: 1.0186 - accuracy: 0.6250\n",
      "Epoch 25/40\n",
      "2/2 [==============================] - 0s 75ms/step - loss: 0.9217 - accuracy: 0.6750\n",
      "Epoch 26/40\n",
      "2/2 [==============================] - 0s 76ms/step - loss: 0.8826 - accuracy: 0.6750\n",
      "Epoch 27/40\n",
      "2/2 [==============================] - 0s 76ms/step - loss: 0.7725 - accuracy: 0.7250\n",
      "Epoch 28/40\n",
      "2/2 [==============================] - 0s 76ms/step - loss: 0.7601 - accuracy: 0.7500\n",
      "Epoch 29/40\n",
      "2/2 [==============================] - 0s 82ms/step - loss: 0.6615 - accuracy: 0.8000\n",
      "Epoch 30/40\n",
      "2/2 [==============================] - 0s 83ms/step - loss: 0.5891 - accuracy: 0.8250\n",
      "Epoch 31/40\n",
      "2/2 [==============================] - 0s 64ms/step - loss: 0.4753 - accuracy: 0.9000\n",
      "Epoch 32/40\n",
      "2/2 [==============================] - 0s 86ms/step - loss: 0.3948 - accuracy: 0.9000\n",
      "Epoch 33/40\n",
      "2/2 [==============================] - 0s 84ms/step - loss: 0.4437 - accuracy: 0.8750\n",
      "Epoch 34/40\n",
      "2/2 [==============================] - 0s 66ms/step - loss: 0.4215 - accuracy: 0.8750\n",
      "Epoch 35/40\n",
      "2/2 [==============================] - 0s 68ms/step - loss: 0.2452 - accuracy: 0.9500\n",
      "Epoch 36/40\n",
      "2/2 [==============================] - 0s 72ms/step - loss: 0.2824 - accuracy: 0.9250\n",
      "Epoch 37/40\n",
      "2/2 [==============================] - 0s 74ms/step - loss: 0.3015 - accuracy: 0.9000\n",
      "Epoch 38/40\n",
      "2/2 [==============================] - 0s 67ms/step - loss: 0.1944 - accuracy: 0.9500\n",
      "Epoch 39/40\n",
      "2/2 [==============================] - 0s 68ms/step - loss: 0.1218 - accuracy: 0.9500\n",
      "Epoch 40/40\n",
      "2/2 [==============================] - 0s 75ms/step - loss: 0.1275 - accuracy: 0.9750\n",
      "2/2 [==============================] - 0s 16ms/step\n"
     ]
    }
   ],
   "source": [
    "deterministic_nn_model.fit(X,y,tensorboard_log_dir=\"tutorial/data\")\n",
    "accuracy_deterministic = deterministic_nn_model.score(X, y)"
   ]
  },
  {
   "cell_type": "code",
   "execution_count": 11,
   "id": "992de013",
   "metadata": {},
   "outputs": [
    {
     "name": "stdout",
     "output_type": "stream",
     "text": [
      "2/2 [==============================] - 0s 14ms/step\n"
     ]
    },
    {
     "data": {
      "text/plain": [
       "array([[2.51207128e-03, 2.22208840e-03, 7.74547756e-02, 4.22023684e-01,\n",
       "        6.65615499e-02, 2.68345267e-01, 4.60276613e-03, 1.89156819e-03,\n",
       "        1.88673532e-03, 4.86811250e-03, 1.47631302e-01],\n",
       "       [1.75705703e-04, 3.18010862e-04, 4.39948449e-03, 4.67277020e-02,\n",
       "        9.23643180e-04, 1.52480155e-02, 2.75885314e-03, 4.40226955e-04,\n",
       "        4.93110681e-04, 1.46607263e-03, 9.27049160e-01]], dtype=float32)"
      ]
     },
     "execution_count": 11,
     "metadata": {},
     "output_type": "execute_result"
    }
   ],
   "source": [
    "deterministic_nn_model.predict_proba(X)[:2]"
   ]
  },
  {
   "cell_type": "code",
   "execution_count": 12,
   "id": "a2841045",
   "metadata": {},
   "outputs": [
    {
     "name": "stdout",
     "output_type": "stream",
     "text": [
      "Model: \"model\"\n",
      "__________________________________________________________________________________________________\n",
      " Layer (type)                   Output Shape         Param #     Connected to                     \n",
      "==================================================================================================\n",
      " input_1 (InputLayer)           [(None, 100)]        0           []                               \n",
      "                                                                                                  \n",
      " embedding (Embedding)          (None, 100, 300)     5700        ['input_1[0][0]']                \n",
      "                                                                                                  \n",
      " conv1d (Conv1D)                (None, 100, 200)     120200      ['embedding[0][0]']              \n",
      "                                                                                                  \n",
      " spatial_dropout1d (SpatialDrop  (None, 100, 200)    0           ['conv1d[0][0]']                 \n",
      " out1D)                                                                                           \n",
      "                                                                                                  \n",
      " batch_normalization (BatchNorm  (None, 100, 200)    800         ['spatial_dropout1d[0][0]']      \n",
      " alization)                                                                                       \n",
      "                                                                                                  \n",
      " leaky_re_lu (LeakyReLU)        (None, 100, 200)     0           ['batch_normalization[0][0]']    \n",
      "                                                                                                  \n",
      " conv1d_1 (Conv1D)              (None, 100, 250)     100250      ['leaky_re_lu[0][0]']            \n",
      "                                                                                                  \n",
      " input_2 (InputLayer)           [(None, 66)]         0           []                               \n",
      "                                                                                                  \n",
      " spatial_dropout1d_1 (SpatialDr  (None, 100, 250)    0           ['conv1d_1[0][0]']               \n",
      " opout1D)                                                                                         \n",
      "                                                                                                  \n",
      " dense_2 (Dense)                (None, 150)          10050       ['input_2[0][0]']                \n",
      "                                                                                                  \n",
      " leaky_re_lu_1 (LeakyReLU)      (None, 100, 250)     0           ['spatial_dropout1d_1[0][0]']    \n",
      "                                                                                                  \n",
      " dropout_2 (Dropout)            (None, 150)          0           ['dense_2[0][0]']                \n",
      "                                                                                                  \n",
      " dropout (Dropout)              (None, 100, 250)     0           ['leaky_re_lu_1[0][0]']          \n",
      "                                                                                                  \n",
      " leaky_re_lu_4 (LeakyReLU)      (None, 150)          0           ['dropout_2[0][0]']              \n",
      "                                                                                                  \n",
      " global_max_pooling1d (GlobalMa  (None, 250)         0           ['dropout[0][0]']                \n",
      " xPooling1D)                                                                                      \n",
      "                                                                                                  \n",
      " dense_3 (Dense)                (None, 100)          15100       ['leaky_re_lu_4[0][0]']          \n",
      "                                                                                                  \n",
      " dense (Dense)                  (None, 250)          62750       ['global_max_pooling1d[0][0]']   \n",
      "                                                                                                  \n",
      " dropout_3 (Dropout)            (None, 100)          0           ['dense_3[0][0]']                \n",
      "                                                                                                  \n",
      " leaky_re_lu_2 (LeakyReLU)      (None, 250)          0           ['dense[0][0]']                  \n",
      "                                                                                                  \n",
      " leaky_re_lu_5 (LeakyReLU)      (None, 100)          0           ['dropout_3[0][0]']              \n",
      "                                                                                                  \n",
      " dense_1 (Dense)                (None, 150)          37650       ['leaky_re_lu_2[0][0]']          \n",
      "                                                                                                  \n",
      " dense_4 (Dense)                (None, 80)           8080        ['leaky_re_lu_5[0][0]']          \n",
      "                                                                                                  \n",
      " dropout_1 (Dropout)            (None, 150)          0           ['dense_1[0][0]']                \n",
      "                                                                                                  \n",
      " dropout_4 (Dropout)            (None, 80)           0           ['dense_4[0][0]']                \n",
      "                                                                                                  \n",
      " leaky_re_lu_3 (LeakyReLU)      (None, 150)          0           ['dropout_1[0][0]']              \n",
      "                                                                                                  \n",
      " leaky_re_lu_6 (LeakyReLU)      (None, 80)           0           ['dropout_4[0][0]']              \n",
      "                                                                                                  \n",
      " concatenate (Concatenate)      (None, 230)          0           ['leaky_re_lu_3[0][0]',          \n",
      "                                                                  'leaky_re_lu_6[0][0]']          \n",
      "                                                                                                  \n",
      " dense_5 (Dense)                (None, 200)          46200       ['concatenate[0][0]']            \n",
      "                                                                                                  \n",
      " dropout_5 (Dropout)            (None, 200)          0           ['dense_5[0][0]']                \n",
      "                                                                                                  \n",
      " leaky_re_lu_7 (LeakyReLU)      (None, 200)          0           ['dropout_5[0][0]']              \n",
      "                                                                                                  \n",
      " dense_6 (Dense)                (None, 100)          20100       ['leaky_re_lu_7[0][0]']          \n",
      "                                                                                                  \n",
      " dropout_6 (Dropout)            (None, 100)          0           ['dense_6[0][0]']                \n",
      "                                                                                                  \n",
      " leaky_re_lu_8 (LeakyReLU)      (None, 100)          0           ['dropout_6[0][0]']              \n",
      "                                                                                                  \n",
      " dense_7 (Dense)                (None, 11)           1111        ['leaky_re_lu_8[0][0]']          \n",
      "                                                                                                  \n",
      "==================================================================================================\n",
      "Total params: 427,991\n",
      "Trainable params: 427,591\n",
      "Non-trainable params: 400\n",
      "__________________________________________________________________________________________________\n"
     ]
    }
   ],
   "source": [
    "deterministic_nn_model.model.summary()"
   ]
  },
  {
   "cell_type": "markdown",
   "id": "f920b375",
   "metadata": {},
   "source": [
    "#### We can propose a way to have **uncertainty estimation**"
   ]
  },
  {
   "cell_type": "markdown",
   "id": "c2ac21c0",
   "metadata": {},
   "source": [
    "# The probabilitic model \n",
    "The probabilitic gives us not longer point estimation but distribution on predictions. It allows us to give prediction intervals."
   ]
  },
  {
   "cell_type": "code",
   "execution_count": 13,
   "id": "f7306bbe",
   "metadata": {},
   "outputs": [],
   "source": [
    "from melusine.models.probabilistic_neural_architectures import probabilistic_cnn_with_meta_model\n",
    "probabilistic_model = NeuralModel(architecture_function=probabilistic_cnn_with_meta_model,\n",
    "                       pretrained_embedding=pretrained_embedding,\n",
    "                       text_input_column=\"clean_text\",\n",
    "                       batch_size=20,\n",
    "                       meta_input_list=['extension','attachment_type', 'dayofweek', 'hour', 'min'],\n",
    "                       n_epochs=40)"
   ]
  },
  {
   "cell_type": "code",
   "execution_count": 14,
   "id": "50b617b6",
   "metadata": {},
   "outputs": [
    {
     "name": "stdout",
     "output_type": "stream",
     "text": [
      "Epoch 1/40\n",
      "2/2 [==============================] - 2s 67ms/step - loss: 2.4043 - accuracy: 0.0750\n",
      "Epoch 2/40\n",
      "2/2 [==============================] - 0s 76ms/step - loss: 2.2931 - accuracy: 0.3500\n",
      "Epoch 3/40\n",
      "2/2 [==============================] - 0s 70ms/step - loss: 2.1141 - accuracy: 0.3500\n",
      "Epoch 4/40\n",
      "2/2 [==============================] - 0s 78ms/step - loss: 2.1090 - accuracy: 0.3500\n",
      "Epoch 5/40\n",
      "2/2 [==============================] - 0s 64ms/step - loss: 2.0421 - accuracy: 0.2500\n",
      "Epoch 6/40\n",
      "2/2 [==============================] - 0s 70ms/step - loss: 2.0575 - accuracy: 0.3000\n",
      "Epoch 7/40\n",
      "2/2 [==============================] - 0s 67ms/step - loss: 1.9250 - accuracy: 0.3000\n",
      "Epoch 8/40\n",
      "2/2 [==============================] - 0s 61ms/step - loss: 1.9311 - accuracy: 0.4000\n",
      "Epoch 9/40\n",
      "2/2 [==============================] - 0s 63ms/step - loss: 1.8554 - accuracy: 0.3250\n",
      "Epoch 10/40\n",
      "2/2 [==============================] - 0s 63ms/step - loss: 1.7939 - accuracy: 0.3750\n",
      "Epoch 11/40\n",
      "2/2 [==============================] - 0s 51ms/step - loss: 1.7189 - accuracy: 0.3250\n",
      "Epoch 12/40\n",
      "2/2 [==============================] - 0s 62ms/step - loss: 1.6040 - accuracy: 0.4250\n",
      "Epoch 13/40\n",
      "2/2 [==============================] - 0s 62ms/step - loss: 1.6380 - accuracy: 0.4500\n",
      "Epoch 14/40\n",
      "2/2 [==============================] - 0s 61ms/step - loss: 1.5102 - accuracy: 0.4750\n",
      "Epoch 15/40\n",
      "2/2 [==============================] - 0s 66ms/step - loss: 1.4824 - accuracy: 0.5000\n",
      "Epoch 16/40\n",
      "2/2 [==============================] - 0s 60ms/step - loss: 1.5725 - accuracy: 0.5000\n",
      "Epoch 17/40\n",
      "2/2 [==============================] - 0s 63ms/step - loss: 1.3473 - accuracy: 0.6000\n",
      "Epoch 18/40\n",
      "2/2 [==============================] - 0s 75ms/step - loss: 1.3423 - accuracy: 0.4750\n",
      "Epoch 19/40\n",
      "2/2 [==============================] - 0s 61ms/step - loss: 1.1987 - accuracy: 0.5250\n",
      "Epoch 20/40\n",
      "2/2 [==============================] - 0s 77ms/step - loss: 1.2637 - accuracy: 0.5000\n",
      "Epoch 21/40\n",
      "2/2 [==============================] - 0s 61ms/step - loss: 1.0457 - accuracy: 0.6500\n",
      "Epoch 22/40\n",
      "2/2 [==============================] - 0s 59ms/step - loss: 1.0851 - accuracy: 0.5500\n",
      "Epoch 23/40\n",
      "2/2 [==============================] - 0s 83ms/step - loss: 0.9671 - accuracy: 0.7000\n",
      "Epoch 24/40\n",
      "2/2 [==============================] - 0s 73ms/step - loss: 0.8439 - accuracy: 0.7750\n",
      "Epoch 25/40\n",
      "2/2 [==============================] - 0s 64ms/step - loss: 0.8493 - accuracy: 0.8000\n",
      "Epoch 26/40\n",
      "2/2 [==============================] - 0s 57ms/step - loss: 0.7914 - accuracy: 0.7250\n",
      "Epoch 27/40\n",
      "2/2 [==============================] - 0s 61ms/step - loss: 0.6495 - accuracy: 0.8000\n",
      "Epoch 28/40\n",
      "2/2 [==============================] - 0s 58ms/step - loss: 0.6608 - accuracy: 0.7500\n",
      "Epoch 29/40\n",
      "2/2 [==============================] - 0s 65ms/step - loss: 0.4961 - accuracy: 0.8500\n",
      "Epoch 30/40\n",
      "2/2 [==============================] - 0s 58ms/step - loss: 0.5037 - accuracy: 0.8250\n",
      "Epoch 31/40\n",
      "2/2 [==============================] - 0s 53ms/step - loss: 0.4594 - accuracy: 0.8750\n",
      "Epoch 32/40\n",
      "2/2 [==============================] - 0s 52ms/step - loss: 0.4671 - accuracy: 0.8750\n",
      "Epoch 33/40\n",
      "2/2 [==============================] - 0s 64ms/step - loss: 0.2843 - accuracy: 0.9500\n",
      "Epoch 34/40\n",
      "2/2 [==============================] - 0s 62ms/step - loss: 0.3955 - accuracy: 0.8500\n",
      "Epoch 35/40\n",
      "2/2 [==============================] - 0s 64ms/step - loss: 0.3041 - accuracy: 0.9000\n",
      "Epoch 36/40\n",
      "2/2 [==============================] - 0s 74ms/step - loss: 0.2841 - accuracy: 0.9000\n",
      "Epoch 37/40\n",
      "2/2 [==============================] - 0s 74ms/step - loss: 0.3173 - accuracy: 0.9000\n",
      "Epoch 38/40\n",
      "2/2 [==============================] - 0s 61ms/step - loss: 0.4759 - accuracy: 0.8750\n",
      "Epoch 39/40\n",
      "2/2 [==============================] - 0s 51ms/step - loss: 0.3163 - accuracy: 0.9000\n",
      "Epoch 40/40\n",
      "2/2 [==============================] - 0s 52ms/step - loss: 0.3198 - accuracy: 0.9000\n"
     ]
    }
   ],
   "source": [
    "probabilistic_model.fit(X,y,tensorboard_log_dir=\"tutorial/data\")\n",
    "accuracy_probabilistic = probabilistic_model.score(X, y)"
   ]
  },
  {
   "cell_type": "markdown",
   "id": "7d20f898",
   "metadata": {},
   "source": [
    "### The estimation of the probability is now the mean of the distribution of the prediction"
   ]
  },
  {
   "cell_type": "markdown",
   "id": "f0a808c4",
   "metadata": {},
   "source": [
    "The output of the model is not a **vector** but a **distribution** we can :\n",
    "- sample\n",
    "- compute mean\n",
    "- compute std"
   ]
  },
  {
   "cell_type": "code",
   "execution_count": 15,
   "id": "7bf5bca5",
   "metadata": {},
   "outputs": [
    {
     "name": "stdout",
     "output_type": "stream",
     "text": [
      "<class 'tensorflow_probability.python.util.deferred_tensor.OneHotCategorical'>\n"
     ]
    }
   ],
   "source": [
    "X_input = probabilistic_model.prepare_email_to_predict(X)\n",
    "output = probabilistic_model.model(X_input)\n",
    "print(type(output)) # this is not a numeric output ! the output is a distribution"
   ]
  },
  {
   "cell_type": "markdown",
   "id": "76dac511",
   "metadata": {},
   "source": [
    "#### We can have a **point estimation** using the **mode** or the **mean**"
   ]
  },
  {
   "cell_type": "code",
   "execution_count": 16,
   "id": "a4c74ae6",
   "metadata": {},
   "outputs": [
    {
     "data": {
      "text/plain": [
       "array([[0. , 0. , 0. , 0. , 0.6, 0.1, 0. , 0. , 0. , 0. , 0.2],\n",
       "       [0. , 0. , 0. , 0. , 0. , 0. , 0. , 0. , 0. , 0. , 1. ]],\n",
       "      dtype=float32)"
      ]
     },
     "execution_count": 16,
     "metadata": {},
     "output_type": "execute_result"
    }
   ],
   "source": [
    "output.mean().numpy().round(1)[:2]"
   ]
  },
  {
   "cell_type": "code",
   "execution_count": 17,
   "id": "7c73b1a0",
   "metadata": {},
   "outputs": [
    {
     "data": {
      "text/plain": [
       "<tf.Tensor: shape=(2, 11), dtype=float32, numpy=\n",
       "array([[0., 0., 0., 0., 1., 0., 0., 0., 0., 0., 0.],\n",
       "       [0., 0., 0., 0., 0., 0., 0., 0., 0., 0., 1.]], dtype=float32)>"
      ]
     },
     "execution_count": 17,
     "metadata": {},
     "output_type": "execute_result"
    }
   ],
   "source": [
    "output.mode()[:2]"
   ]
  },
  {
   "cell_type": "markdown",
   "id": "b041d76a",
   "metadata": {},
   "source": [
    "#### We can have the **standard deviation** of the distributions"
   ]
  },
  {
   "cell_type": "code",
   "execution_count": 18,
   "id": "b69f5728",
   "metadata": {},
   "outputs": [
    {
     "data": {
      "text/plain": [
       "array([[0.1, 0. , 0.1, 0.1, 0.5, 0.3, 0.1, 0.1, 0. , 0. , 0.4],\n",
       "       [0. , 0. , 0. , 0.1, 0. , 0. , 0.1, 0. , 0. , 0. , 0.1]],\n",
       "      dtype=float32)"
      ]
     },
     "execution_count": 18,
     "metadata": {},
     "output_type": "execute_result"
    }
   ],
   "source": [
    "output.stddev().numpy().round(1)[:2]"
   ]
  },
  {
   "cell_type": "markdown",
   "id": "8ea93f27",
   "metadata": {},
   "source": [
    "#### We can even **sample** the distributions\n",
    "**this sampling will have different results at each execution !**"
   ]
  },
  {
   "cell_type": "code",
   "execution_count": 19,
   "id": "d78eeda2",
   "metadata": {},
   "outputs": [
    {
     "data": {
      "text/plain": [
       "array(['habitation', 'vehicule', 'adhesion', 'adhesion', 'adhesion',\n",
       "       'vehicule', 'compte', 'vehicule', 'compte', 'compte'], dtype=object)"
      ]
     },
     "execution_count": 19,
     "metadata": {},
     "output_type": "execute_result"
    }
   ],
   "source": [
    "sampling_of_predictions = output.sample()[:10]\n",
    "sampled_labels = np.argmax(sampling_of_predictions, axis=1)\n",
    "le.inverse_transform(sampled_labels)"
   ]
  },
  {
   "cell_type": "markdown",
   "id": "3995f369",
   "metadata": {},
   "source": [
    "#### The mode can be used for `predict`"
   ]
  },
  {
   "cell_type": "code",
   "execution_count": 20,
   "id": "8db6412a",
   "metadata": {},
   "outputs": [
    {
     "data": {
      "text/plain": [
       "array(['habitation', 'vehicule'], dtype=object)"
      ]
     },
     "execution_count": 20,
     "metadata": {},
     "output_type": "execute_result"
    }
   ],
   "source": [
    "prediction = probabilistic_model.predict(X)[:2]\n",
    "le.inverse_transform(prediction)"
   ]
  },
  {
   "cell_type": "markdown",
   "id": "fab22519",
   "metadata": {},
   "source": [
    "#### The mean is used for `predict_proba`"
   ]
  },
  {
   "cell_type": "code",
   "execution_count": 21,
   "id": "7196ba07",
   "metadata": {
    "scrolled": true
   },
   "outputs": [
    {
     "data": {
      "text/plain": [
       "array([[0. , 0. , 0. , 0. , 0.6, 0.1, 0. , 0. , 0. , 0. , 0.2],\n",
       "       [0. , 0. , 0. , 0. , 0. , 0. , 0. , 0. , 0. , 0. , 1. ]],\n",
       "      dtype=float32)"
      ]
     },
     "execution_count": 21,
     "metadata": {},
     "output_type": "execute_result"
    }
   ],
   "source": [
    "probabilistic_model.predict_proba(X).round(1)[:2]"
   ]
  },
  {
   "cell_type": "markdown",
   "id": "c7f43aab",
   "metadata": {},
   "source": [
    "#### And prediction intervals are made by combining **mean** and **std** (gaussian hypothesis)\n",
    "We could also imagine to sample multiple times the distribution and use the samples to estimate uncertainty."
   ]
  },
  {
   "cell_type": "code",
   "execution_count": 22,
   "id": "53f36106",
   "metadata": {},
   "outputs": [],
   "source": [
    "score, inf, sup = probabilistic_model.predict_proba(X, prediction_interval=0.95)"
   ]
  },
  {
   "cell_type": "code",
   "execution_count": 23,
   "id": "7d790faa",
   "metadata": {},
   "outputs": [
    {
     "data": {
      "text/plain": [
       "array([[0. , 0. , 0. , 0. , 0.3, 0. , 0. , 0. , 0. , 0. , 0. ],\n",
       "       [0. , 0. , 0. , 0. , 0. , 0. , 0. , 0. , 0. , 0. , 0.9]],\n",
       "      dtype=float32)"
      ]
     },
     "execution_count": 23,
     "metadata": {},
     "output_type": "execute_result"
    }
   ],
   "source": [
    "inf.round(1)[-2:] # lower_boundary"
   ]
  },
  {
   "cell_type": "code",
   "execution_count": 24,
   "id": "8445158d",
   "metadata": {},
   "outputs": [
    {
     "data": {
      "text/plain": [
       "array([[0.1, 0.1, 0.1, 0.2, 1. , 0.5, 0.1, 0.1, 0. , 0. , 0.3],\n",
       "       [0. , 0. , 0. , 0. , 0. , 0. , 0. , 0. , 0. , 0. , 1. ]],\n",
       "      dtype=float32)"
      ]
     },
     "execution_count": 24,
     "metadata": {},
     "output_type": "execute_result"
    }
   ],
   "source": [
    "sup.round(1)[-2:] # upper_boundary"
   ]
  },
  {
   "cell_type": "code",
   "execution_count": 25,
   "id": "d9b3dd62",
   "metadata": {},
   "outputs": [],
   "source": [
    "import matplotlib.pyplot as plt\n",
    "ntargets = 11\n",
    "\n",
    "\n",
    "def analyse_and_plot_model_predictions(data, true_labels, nn_model, text_num, pi=0.95):\n",
    "    \"\"\"\n",
    "    Make plots of the probabilities that the model estimates for a given text\n",
    "    \"\"\"\n",
    "    true_label = true_labels[text_num]\n",
    "    true_label_decoded = le.inverse_transform([true_label])[0]\n",
    "    print('True label: \\033[1m \\033[92m {} \\033[0m'.format(str(true_label_decoded)))\n",
    "    print('Clean text: ', data.loc[text_num, \"clean_text\"])\n",
    "    model_prediction, pct_low, pct_up = nn_model.predict_proba(data.loc[text_num:text_num], prediction_interval=pi)\n",
    "    model_prediction, pct_low, pct_up = model_prediction[0], pct_low[0], pct_up[0]\n",
    "    x_pos = np.arange(ntargets)\n",
    "    bar = plt.bar(x_pos, pct_up, color='red')\n",
    "    all_categories_decoded = le.inverse_transform(np.arange(ntargets))\n",
    "    plt.xticks(x_pos, all_categories_decoded, color='black', rotation=45, fontweight='bold', fontsize='10', horizontalalignment='right')\n",
    "    ax = plt.gca()\n",
    "    labels = ax.get_xticklabels()\n",
    "    ticks = ax.get_xticks()\n",
    "    for label, tick in zip(labels, ticks):\n",
    "        if tick == true_label:\n",
    "            label.set_color('green')\n",
    "    bar[true_label].set_color('green')\n",
    "    plt.bar(np.arange(ntargets), pct_low, color='white', linewidth=1, edgecolor='white')\n",
    "    ax.plot(np.arange(ntargets), model_prediction, \"ob\")\n",
    "    plt.ylim([0, 1])\n",
    "    plt.ylabel('Probability')\n",
    "    plt.title('Model estimated probabilities') \n",
    "    plt.show()"
   ]
  },
  {
   "cell_type": "code",
   "execution_count": 26,
   "id": "a5d10ac5",
   "metadata": {},
   "outputs": [
    {
     "name": "stdout",
     "output_type": "stream",
     "text": [
      "True label: \u001b[1m \u001b[92m vehicule \u001b[0m\n",
      "Clean text:  immatriculation voiture je vous informe que la nouvelle immatriculation est enfin faite. je vous prie de trouver donc la carte grise ainsi que la nouvelle immatriculation. je vous demanderai de faire les changements necessaires concernant lassurance.\n"
     ]
    },
    {
     "data": {
      "image/png": "[encoded data removed]",
      "text/plain": [
       "<Figure size 432x288 with 1 Axes>"
      ]
     },
     "metadata": {
      "needs_background": "light"
     },
     "output_type": "display_data"
    }
   ],
   "source": [
    "i = 1\n",
    "analyse_and_plot_model_predictions(X, y, probabilistic_model, text_num=i, pi=0.95)"
   ]
  },
  {
   "cell_type": "markdown",
   "id": "bc9eacb8",
   "metadata": {},
   "source": [
    "So instead of just having a point estimation score of being a `vehicle` verbatim (score=0.8) we can have uncertainty estimation around a point estimation (the score of being `vehicle` verbatim is in the interval [0.5 ; 1] with a 95% prediction interval)."
   ]
  },
  {
   "cell_type": "markdown",
   "id": "5c4fad54",
   "metadata": {},
   "source": [
    "### Disclaimer\n",
    "The dataset of this melusine tutorial is so small (40 emails) the model is always drawing large intervals. On the previous example the prediction interval may be [0;1] (thank you captain obvious). We would rather consider small (more informative) intervals.\n",
    "\n",
    "\n",
    "But if we apply this method on a large public datasets (like the movies dataset : 100 000 movies plots) we can see predictions with less uncertainty as on the following image. With disjointed intervals.\n",
    "\n",
    "<img src=\"images/uncertainty-on-movies-dataset.png\" width=400 height=400 />\n",
    "\n",
    "To let us see small interval (as a sanity check) we also can choose a very small prediction interval (0.2 instead of 0.95, but obviously 0.2 is not a serious value for prediction intervals) as on the following."
   ]
  },
  {
   "cell_type": "code",
   "execution_count": 27,
   "id": "d304492a",
   "metadata": {},
   "outputs": [
    {
     "name": "stdout",
     "output_type": "stream",
     "text": [
      "True label: \u001b[1m \u001b[92m vehicule \u001b[0m\n",
      "Clean text:  assurance vehicules je me permets de venir vers vous car depuis le debut de lannee, nous avons des difficultes pour assurer nos vehicules. ces derniers jours, vous nous avez fait parvenir le detail des denominations et des niveau dassurance de chaque vehicule. merci deffectuer ces changements dans lattente de votre retour\n"
     ]
    },
    {
     "data": {
      "image/png": "[encoded data removed]",
      "text/plain": [
       "<Figure size 432x288 with 1 Axes>"
      ]
     },
     "metadata": {
      "needs_background": "light"
     },
     "output_type": "display_data"
    }
   ],
   "source": [
    "i = 7\n",
    "analyse_and_plot_model_predictions(X, y, probabilistic_model, text_num=i, pi=0.2) # warn : this prediction interval is too small !!!"
   ]
  },
  {
   "cell_type": "markdown",
   "id": "709cc1f2",
   "metadata": {},
   "source": [
    "# To go further : variational neural networks\n",
    "We can try a variational neural networks : [`Flipout`](https://www.tensorflow.org/probability/api_docs/python/tfp/layers/conv_variational)"
   ]
  },
  {
   "cell_type": "code",
   "execution_count": 28,
   "id": "8fb10b8e",
   "metadata": {},
   "outputs": [],
   "source": [
    "from melusine.models.probabilistic_neural_architectures import flipout_cnn_model\n",
    "flipout_nn_model = NeuralModel(architecture_function=flipout_cnn_model,\n",
    "                       pretrained_embedding=pretrained_embedding,\n",
    "                       text_input_column=\"clean_text\",\n",
    "                       batch_size=20,\n",
    "                       meta_input_list=['extension','attachment_type', 'dayofweek', 'hour', 'min'],\n",
    "                       n_epochs=40)"
   ]
  },
  {
   "cell_type": "code",
   "execution_count": 29,
   "id": "f1a0f5bd",
   "metadata": {},
   "outputs": [
    {
     "name": "stdout",
     "output_type": "stream",
     "text": [
      "Epoch 1/40\n",
      "2/2 [==============================] - 3s 35ms/step - loss: 18801.0664 - accuracy: 0.2750\n",
      "Epoch 2/40\n",
      "2/2 [==============================] - 0s 38ms/step - loss: 18785.4316 - accuracy: 0.3500\n",
      "Epoch 3/40\n",
      "2/2 [==============================] - 0s 35ms/step - loss: 18769.8242 - accuracy: 0.3250\n",
      "Epoch 4/40\n",
      "2/2 [==============================] - 0s 37ms/step - loss: 18754.2539 - accuracy: 0.3250\n",
      "Epoch 5/40\n",
      "2/2 [==============================] - 0s 35ms/step - loss: 18738.7129 - accuracy: 0.3250\n",
      "Epoch 6/40\n",
      "2/2 [==============================] - 0s 38ms/step - loss: 18723.2031 - accuracy: 0.3250\n",
      "Epoch 7/40\n",
      "2/2 [==============================] - 0s 36ms/step - loss: 18707.7266 - accuracy: 0.3250\n",
      "Epoch 8/40\n",
      "2/2 [==============================] - 0s 36ms/step - loss: 18692.2793 - accuracy: 0.3250\n",
      "Epoch 9/40\n",
      "2/2 [==============================] - 0s 41ms/step - loss: 18676.8652 - accuracy: 0.3250\n",
      "Epoch 10/40\n",
      "2/2 [==============================] - 0s 38ms/step - loss: 18661.4785 - accuracy: 0.3250\n",
      "Epoch 11/40\n",
      "2/2 [==============================] - 0s 35ms/step - loss: 18646.1250 - accuracy: 0.3250\n",
      "Epoch 12/40\n",
      "2/2 [==============================] - 0s 33ms/step - loss: 18630.8008 - accuracy: 0.3250\n",
      "Epoch 13/40\n",
      "2/2 [==============================] - 0s 31ms/step - loss: 18615.5039 - accuracy: 0.3250\n",
      "Epoch 14/40\n",
      "2/2 [==============================] - 0s 32ms/step - loss: 18600.2344 - accuracy: 0.3250\n",
      "Epoch 15/40\n",
      "2/2 [==============================] - 0s 37ms/step - loss: 18584.9961 - accuracy: 0.3250\n",
      "Epoch 16/40\n",
      "2/2 [==============================] - 0s 39ms/step - loss: 18569.7852 - accuracy: 0.3250\n",
      "Epoch 17/40\n",
      "2/2 [==============================] - 0s 37ms/step - loss: 18554.5996 - accuracy: 0.3250\n",
      "Epoch 18/40\n",
      "2/2 [==============================] - 0s 35ms/step - loss: 18539.4414 - accuracy: 0.3250\n",
      "Epoch 19/40\n",
      "2/2 [==============================] - 0s 34ms/step - loss: 18524.3027 - accuracy: 0.3250\n",
      "Epoch 20/40\n",
      "2/2 [==============================] - 0s 31ms/step - loss: 18509.1914 - accuracy: 0.3250\n",
      "Epoch 21/40\n",
      "2/2 [==============================] - 0s 33ms/step - loss: 18494.1055 - accuracy: 0.3250\n",
      "Epoch 22/40\n",
      "2/2 [==============================] - 0s 34ms/step - loss: 18479.0430 - accuracy: 0.3250\n",
      "Epoch 23/40\n",
      "2/2 [==============================] - 0s 37ms/step - loss: 18463.9961 - accuracy: 0.3250\n",
      "Epoch 24/40\n",
      "2/2 [==============================] - 0s 35ms/step - loss: 18448.9746 - accuracy: 0.3250\n",
      "Epoch 25/40\n",
      "2/2 [==============================] - 0s 38ms/step - loss: 18433.9746 - accuracy: 0.3250\n",
      "Epoch 26/40\n",
      "2/2 [==============================] - 0s 37ms/step - loss: 18418.9941 - accuracy: 0.3250\n",
      "Epoch 27/40\n",
      "2/2 [==============================] - 0s 31ms/step - loss: 18404.0352 - accuracy: 0.3250\n",
      "Epoch 28/40\n",
      "2/2 [==============================] - 0s 37ms/step - loss: 18389.0918 - accuracy: 0.3250\n",
      "Epoch 29/40\n",
      "2/2 [==============================] - 0s 32ms/step - loss: 18374.1660 - accuracy: 0.3250\n",
      "Epoch 30/40\n",
      "2/2 [==============================] - 0s 32ms/step - loss: 18359.2578 - accuracy: 0.3250\n",
      "Epoch 31/40\n",
      "2/2 [==============================] - 0s 35ms/step - loss: 18344.3691 - accuracy: 0.3250\n",
      "Epoch 32/40\n",
      "2/2 [==============================] - 0s 30ms/step - loss: 18329.4961 - accuracy: 0.3250\n",
      "Epoch 33/40\n",
      "2/2 [==============================] - 0s 30ms/step - loss: 18314.6367 - accuracy: 0.3250\n",
      "Epoch 34/40\n",
      "2/2 [==============================] - 0s 37ms/step - loss: 18299.7930 - accuracy: 0.3250\n",
      "Epoch 35/40\n",
      "2/2 [==============================] - 0s 38ms/step - loss: 18284.9668 - accuracy: 0.3250\n",
      "Epoch 36/40\n",
      "2/2 [==============================] - 0s 35ms/step - loss: 18270.1543 - accuracy: 0.3250\n",
      "Epoch 37/40\n",
      "2/2 [==============================] - 0s 36ms/step - loss: 18255.3555 - accuracy: 0.3250\n",
      "Epoch 38/40\n",
      "2/2 [==============================] - 0s 36ms/step - loss: 18240.5703 - accuracy: 0.3250\n",
      "Epoch 39/40\n",
      "2/2 [==============================] - 0s 44ms/step - loss: 18225.7988 - accuracy: 0.3250\n",
      "Epoch 40/40\n",
      "2/2 [==============================] - 0s 52ms/step - loss: 18211.0371 - accuracy: 0.3250\n"
     ]
    }
   ],
   "source": [
    "flipout_nn_model.fit(X,y,tensorboard_log_dir=\"tutorial/data\")\n",
    "accuracy_flipout= flipout_nn_model.score(X, y)"
   ]
  },
  {
   "cell_type": "code",
   "execution_count": 30,
   "id": "98a7b83f",
   "metadata": {},
   "outputs": [
    {
     "name": "stdout",
     "output_type": "stream",
     "text": [
      "Model: \"model_2\"\n",
      "__________________________________________________________________________________________________\n",
      " Layer (type)                   Output Shape         Param #     Connected to                     \n",
      "==================================================================================================\n",
      " input_5 (InputLayer)           [(None, 100)]        0           []                               \n",
      "                                                                                                  \n",
      " embedding_2 (Embedding)        (None, 100, 300)     6900        ['input_5[0][0]']                \n",
      "                                                                                                  \n",
      " conv1d_flipout (Conv1DFlipout)  (None, 100, 128)    230528      ['embedding_2[0][0]']            \n",
      "                                                                                                  \n",
      " input_6 (InputLayer)           [(None, 66)]         0           []                               \n",
      "                                                                                                  \n",
      " global_max_pooling1d_2 (Global  (None, 128)         0           ['conv1d_flipout[0][0]']         \n",
      " MaxPooling1D)                                                                                    \n",
      "                                                                                                  \n",
      " dense_flipout (DenseFlipout)   (None, 64)           8512        ['input_6[0][0]']                \n",
      "                                                                                                  \n",
      " concatenate_2 (Concatenate)    (None, 192)          0           ['global_max_pooling1d_2[0][0]', \n",
      "                                                                  'dense_flipout[0][0]']          \n",
      "                                                                                                  \n",
      " dense_flipout_1 (DenseFlipout)  (None, 64)          24640       ['concatenate_2[0][0]']          \n",
      "                                                                                                  \n",
      " dense_flipout_2 (DenseFlipout)  (None, 11)          1419        ['dense_flipout_1[0][0]']        \n",
      "                                                                                                  \n",
      " one_hot_categorical_1 (OneHotC  ((None, 11),        0           ['dense_flipout_2[0][0]']        \n",
      " ategorical)                     (None, 11))                                                      \n",
      "                                                                                                  \n",
      "==================================================================================================\n",
      "Total params: 271,999\n",
      "Trainable params: 265,099\n",
      "Non-trainable params: 6,900\n",
      "__________________________________________________________________________________________________\n"
     ]
    }
   ],
   "source": [
    "flipout_nn_model.model.summary()"
   ]
  },
  {
   "cell_type": "markdown",
   "id": "b3ee6145",
   "metadata": {},
   "source": [
    "### Another disclaimer\n",
    "The tutorial dataset is too small (40 emails) for the flipout model.\n",
    "\n",
    "This kind of model needs a lot of data and is difficult to configure."
   ]
  },
  {
   "cell_type": "code",
   "execution_count": 31,
   "id": "3d9f73f0",
   "metadata": {},
   "outputs": [
    {
     "name": "stdout",
     "output_type": "stream",
     "text": [
      "True label: \u001b[1m \u001b[92m vehicule \u001b[0m\n",
      "Clean text:  immatriculation voiture je vous informe que la nouvelle immatriculation est enfin faite. je vous prie de trouver donc la carte grise ainsi que la nouvelle immatriculation. je vous demanderai de faire les changements necessaires concernant lassurance.\n"
     ]
    },
    {
     "data": {
      "image/png": "[encoded data removed]",
      "text/plain": [
       "<Figure size 432x288 with 1 Axes>"
      ]
     },
     "metadata": {
      "needs_background": "light"
     },
     "output_type": "display_data"
    }
   ],
   "source": [
    "i = 1\n",
    "analyse_and_plot_model_predictions(X, y, flipout_nn_model, i)"
   ]
  },
  {
   "cell_type": "markdown",
   "id": "62710025",
   "metadata": {},
   "source": [
    "### Quick summary\n",
    "We show 2 probabilistic models :\n",
    "- **basic probabilistic** model with just a [OneHotCategorical](https://www.tensorflow.org/probability/api_docs/python/tfp/layers/OneHotCategorical) as last (prediction) layer\n",
    "\n",
    "- **flipout** model with [Convolution1DFlipout](https://www.tensorflow.org/probability/api_docs/python/tfp/layers/Convolution1DFlipout) layers\n",
    "\n",
    "We made simulations on a larger dataset (the movies plots dataset) to see if the probabilistic models had a good enough performance.\n",
    "\n",
    "The basic probabilistic model is an effective lowcost solution to have uncertainty estimation of the prediction without any performance loss.\n",
    "\n",
    "On our case, we did not manage to design a variational (flipout) neural architecture to get this level of performance."
   ]
  },
  {
   "cell_type": "markdown",
   "id": "a17ade8a",
   "metadata": {},
   "source": [
    "## Practical - *What is it for ?*\n",
    "\n",
    "If you are using Melusine in an automated task, you may need to estimate the **uncertainty** of your decisions. Especially if an error can have consequences for your end-users.\n",
    "\n",
    "Maybe have you planned to use a *threshold on the point estimation* to automate your decision :\n",
    "\n",
    "\n",
    "````python\n",
    "    if score>0.8:\n",
    "        we automate the decision\n",
    "    else:\n",
    "        the decision will be validated manually\n",
    "````\n",
    "\n",
    "\n",
    "\n",
    "**This is a good start. But is it enough ?**\n",
    "\n",
    "Indeed imagine your *point estimation* tells you this email has a `score=0.85 of beeing an adhesion email` but what is the **uncertainty around this point estimation** ? Maybe the uncertainty around this point estimation is so large that your estimation is in fact in the interval `[0.75;0.95]`, in this case are sure you can automate this decision ? \n",
    "\n",
    "Instead of using threshold on a **point estimation**, you could rely on a threshold on the **lower bound of the prediction interval** and better managing your **risk of error**. So you will automise the email your model categorize with a high **point estimation** AND a **low uncertainty**."
   ]
  },
  {
   "cell_type": "code",
   "execution_count": 32,
   "id": "f0f1913b",
   "metadata": {},
   "outputs": [
    {
     "name": "stdout",
     "output_type": "stream",
     "text": [
      "1/1 [==============================] - 0s 40ms/step\n"
     ]
    },
    {
     "data": {
      "text/plain": [
       "array([[0.  , 0.  , 0.  , 0.05, 0.  , 0.02, 0.  , 0.  , 0.  , 0.  , 0.93]],\n",
       "      dtype=float32)"
      ]
     },
     "execution_count": 32,
     "metadata": {},
     "output_type": "execute_result"
    }
   ],
   "source": [
    "email_to_predict = X.loc[1:1]\n",
    "deterministic_nn_model.predict_proba(email_to_predict).round(2)"
   ]
  },
  {
   "cell_type": "markdown",
   "id": "6804f7cf",
   "metadata": {},
   "source": [
    "The **point estimation** of the deterministic model is around `0.9` for beeing a `vehicle email`"
   ]
  },
  {
   "cell_type": "code",
   "execution_count": 33,
   "id": "b5b3313e",
   "metadata": {},
   "outputs": [],
   "source": [
    "point_estimation, lower_bound, upper_bound = probabilistic_model.predict_proba(email_to_predict, prediction_interval=0.95)"
   ]
  },
  {
   "cell_type": "code",
   "execution_count": 34,
   "id": "55805bfd",
   "metadata": {},
   "outputs": [
    {
     "data": {
      "text/plain": [
       "array([[0.  , 0.  , 0.  , 0.  , 0.  , 0.  , 0.  , 0.  , 0.  , 0.  , 0.99]],\n",
       "      dtype=float32)"
      ]
     },
     "execution_count": 34,
     "metadata": {},
     "output_type": "execute_result"
    }
   ],
   "source": [
    "point_estimation.round(2)"
   ]
  },
  {
   "cell_type": "markdown",
   "id": "6fa43c5f",
   "metadata": {},
   "source": [
    "The probabilistic model also gives a **point estimation** near 0.9."
   ]
  },
  {
   "cell_type": "code",
   "execution_count": 35,
   "id": "df87385f",
   "metadata": {},
   "outputs": [
    {
     "data": {
      "text/plain": [
       "array([[0.  , 0.  , 0.  , 0.  , 0.  , 0.  , 0.  , 0.  , 0.  , 0.  , 0.78]],\n",
       "      dtype=float32)"
      ]
     },
     "execution_count": 35,
     "metadata": {},
     "output_type": "execute_result"
    }
   ],
   "source": [
    "lower_bound.round(2)"
   ]
  },
  {
   "cell_type": "markdown",
   "id": "8ee6132c",
   "metadata": {},
   "source": [
    "But it also gives us a **lower bound** ! (and also **upper bound** but in this particular case we don't use it)\n",
    "\n",
    "Even if the point estimation is also high we could decide the lower bound is too low and so the uncertainty is too high to automate the decision. \n",
    "\n",
    "If we choose to apply a threshold of **0.8** on the **lower bound** of this prediction, we could conclude our model is **not confident enough to automate this decision**"
   ]
  }
 ],
 "metadata": {
  "environment": {
   "name": "tf2-gpu.2-5.m76",
   "type": "gcloud",
   "uri": "gcr.io/deeplearning-platform-release/tf2-gpu.2-5:m76"
  },
  "interpreter": {
   "hash": "31659fd95575785888a0925c53e16fda128af122d9bf30d053d8251d24200cc8"
  },
  "kernelspec": {
   "display_name": "Python 3",
   "language": "python",
   "name": "python3"
  },
  "language_info": {
   "codemirror_mode": {
    "name": "ipython",
    "version": 3
   },
   "file_extension": ".py",
   "mimetype": "text/x-python",
   "name": "python",
   "nbconvert_exporter": "python",
   "pygments_lexer": "ipython3",
   "version": "3.7.10"
  }
 },
 "nbformat": 4,
 "nbformat_minor": 5
}
