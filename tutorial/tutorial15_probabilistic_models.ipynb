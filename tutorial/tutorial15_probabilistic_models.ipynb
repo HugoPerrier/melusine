{
 "cells": [
  {
   "cell_type": "code",
   "execution_count": 3,
   "id": "3e196a20",
   "metadata": {},
   "outputs": [],
   "source": [
    "import warnings\n",
    "warnings.simplefilter(action='ignore')\n",
    "import numpy as np\n",
    "import pandas as pd\n",
    "from copy import deepcopy\n",
    "from sklearn.preprocessing import LabelEncoder\n",
    "\n",
    "from melusine import load_email_data\n",
    "\n",
    "# Text input \n",
    "df_emails_preprocessed = load_email_data(type=\"full\")\n",
    "df_emails_preprocessed['clean_text'] = df_emails_preprocessed['clean_header'] + \" \" + df_emails_preprocessed['clean_body']"
   ]
  },
  {
   "cell_type": "code",
   "execution_count": 4,
   "id": "437b3b41",
   "metadata": {},
   "outputs": [],
   "source": [
    "# Requirement : have a pretrained Embedding\n",
    "from melusine.nlp_tools.embedding import Embedding\n",
    "pretrained_embedding = Embedding(tokens_column=\"tokens\", workers=1, min_count=5)\n",
    "pretrained_embedding.train(df_emails_preprocessed)"
   ]
  },
  {
   "cell_type": "code",
   "execution_count": 5,
   "id": "0fc28336",
   "metadata": {},
   "outputs": [],
   "source": [
    "# Metadata input\n",
    "df_meta = pd.read_csv('/home/jupyter/melusine/melusine/data/metadata.csv', encoding='utf-8', sep=';')\n",
    "\n",
    "# Dataset\n",
    "X = pd.concat([df_emails_preprocessed['clean_text'],df_meta],axis=1)\n",
    "y = df_emails_preprocessed['label']\n",
    "le = LabelEncoder()\n",
    "y = le.fit_transform(y)"
   ]
  },
  {
   "cell_type": "code",
   "execution_count": 6,
   "id": "cccd3190",
   "metadata": {},
   "outputs": [],
   "source": [
    "import ast\n",
    "import pandas as pd\n",
    "import numpy as np\n",
    "df_emails_preprocessed = pd.read_pickle('/home/jupyter/melusine/melusine/data/emails_preprocessed.pkl')\n",
    "\n",
    "df_emails_preprocessed['clean_header'] = df_emails_preprocessed['clean_header'].astype(str)\n",
    "df_emails_preprocessed['clean_body'] = df_emails_preprocessed['clean_body'].astype(str)\n",
    "df_emails_preprocessed['attachment'] = df_emails_preprocessed['attachment'].apply(ast.literal_eval)\n",
    "df_emails_preprocessed['clean_text'] = df_emails_preprocessed['clean_header'] + \" \" + df_emails_preprocessed['clean_body']"
   ]
  },
  {
   "cell_type": "code",
   "execution_count": 7,
   "id": "1a6cb1f3",
   "metadata": {},
   "outputs": [],
   "source": [
    "X = pd.concat([df_emails_preprocessed['clean_text'],df_meta],axis=1)"
   ]
  },
  {
   "cell_type": "code",
   "execution_count": 8,
   "id": "f0828629",
   "metadata": {},
   "outputs": [],
   "source": [
    "from sklearn.preprocessing import LabelEncoder\n",
    "y = df_emails_preprocessed['label']\n",
    "le = LabelEncoder()\n",
    "y = le.fit_transform(y)"
   ]
  },
  {
   "cell_type": "code",
   "execution_count": 9,
   "id": "619723ef",
   "metadata": {},
   "outputs": [],
   "source": [
    "from melusine.models.train import NeuralModel"
   ]
  },
  {
   "cell_type": "code",
   "execution_count": 10,
   "id": "8bfa1b46",
   "metadata": {},
   "outputs": [
    {
     "data": {
      "text/plain": [
       "11"
      ]
     },
     "execution_count": 10,
     "metadata": {},
     "output_type": "execute_result"
    }
   ],
   "source": [
    "len(np.unique(y))"
   ]
  },
  {
   "cell_type": "markdown",
   "id": "ed9059b4",
   "metadata": {},
   "source": [
    "# Deterministic model"
   ]
  },
  {
   "cell_type": "code",
   "execution_count": 11,
   "id": "f7b81f5e",
   "metadata": {},
   "outputs": [],
   "source": [
    "from melusine.models.neural_architectures import cnn_model\n",
    "deterministic_nn_model = NeuralModel(architecture_function=cnn_model,\n",
    "                       pretrained_embedding=pretrained_embedding,\n",
    "                       text_input_column=\"clean_text\",\n",
    "                       batch_size=20,\n",
    "                       meta_input_list=['extension','attachment_type', 'dayofweek', 'hour', 'min'],\n",
    "                       n_epochs=40)"
   ]
  },
  {
   "cell_type": "code",
   "execution_count": 12,
   "id": "b0801381",
   "metadata": {},
   "outputs": [
    {
     "name": "stdout",
     "output_type": "stream",
     "text": [
      "Epoch 1/40\n",
      "2/2 [==============================] - 2s 448ms/step - loss: 2.3878 - accuracy: 0.1000\n",
      "Epoch 2/40\n",
      "2/2 [==============================] - 0s 7ms/step - loss: 2.2107 - accuracy: 0.4000\n",
      "Epoch 3/40\n",
      "2/2 [==============================] - 0s 7ms/step - loss: 2.1974 - accuracy: 0.2250\n",
      "Epoch 4/40\n",
      "2/2 [==============================] - 0s 7ms/step - loss: 2.1564 - accuracy: 0.2250\n",
      "Epoch 5/40\n",
      "2/2 [==============================] - 0s 10ms/step - loss: 2.0712 - accuracy: 0.2750\n",
      "Epoch 6/40\n",
      "2/2 [==============================] - 0s 9ms/step - loss: 1.9997 - accuracy: 0.3500\n",
      "Epoch 7/40\n",
      "2/2 [==============================] - 0s 7ms/step - loss: 1.9355 - accuracy: 0.3500\n",
      "Epoch 8/40\n",
      "2/2 [==============================] - 0s 10ms/step - loss: 1.8898 - accuracy: 0.3250\n",
      "Epoch 9/40\n",
      "2/2 [==============================] - 0s 9ms/step - loss: 1.7204 - accuracy: 0.4250\n",
      "Epoch 10/40\n",
      "2/2 [==============================] - 0s 8ms/step - loss: 1.8048 - accuracy: 0.4250\n",
      "Epoch 11/40\n",
      "2/2 [==============================] - 0s 7ms/step - loss: 1.7526 - accuracy: 0.3750\n",
      "Epoch 12/40\n",
      "2/2 [==============================] - 0s 7ms/step - loss: 1.6784 - accuracy: 0.4500\n",
      "Epoch 13/40\n",
      "2/2 [==============================] - 0s 7ms/step - loss: 1.7174 - accuracy: 0.4500\n",
      "Epoch 14/40\n",
      "2/2 [==============================] - 0s 7ms/step - loss: 1.5940 - accuracy: 0.4750\n",
      "Epoch 15/40\n",
      "2/2 [==============================] - 0s 8ms/step - loss: 1.4224 - accuracy: 0.5500\n",
      "Epoch 16/40\n",
      "2/2 [==============================] - 0s 8ms/step - loss: 1.4966 - accuracy: 0.5500\n",
      "Epoch 17/40\n",
      "2/2 [==============================] - 0s 9ms/step - loss: 1.4267 - accuracy: 0.5750\n",
      "Epoch 18/40\n",
      "2/2 [==============================] - 0s 8ms/step - loss: 1.2895 - accuracy: 0.5500\n",
      "Epoch 19/40\n",
      "2/2 [==============================] - 0s 8ms/step - loss: 1.3800 - accuracy: 0.5000\n",
      "Epoch 20/40\n",
      "2/2 [==============================] - 0s 8ms/step - loss: 1.2378 - accuracy: 0.6000\n",
      "Epoch 21/40\n",
      "2/2 [==============================] - 0s 7ms/step - loss: 1.1033 - accuracy: 0.7000\n",
      "Epoch 22/40\n",
      "2/2 [==============================] - 0s 7ms/step - loss: 1.1763 - accuracy: 0.6000\n",
      "Epoch 23/40\n",
      "2/2 [==============================] - 0s 7ms/step - loss: 0.9691 - accuracy: 0.6000\n",
      "Epoch 24/40\n",
      "2/2 [==============================] - 0s 7ms/step - loss: 1.0711 - accuracy: 0.6250\n",
      "Epoch 25/40\n",
      "2/2 [==============================] - 0s 6ms/step - loss: 1.0471 - accuracy: 0.6250\n",
      "Epoch 26/40\n",
      "2/2 [==============================] - 0s 6ms/step - loss: 1.1931 - accuracy: 0.6500\n",
      "Epoch 27/40\n",
      "2/2 [==============================] - 0s 6ms/step - loss: 0.9792 - accuracy: 0.6500\n",
      "Epoch 28/40\n",
      "2/2 [==============================] - 0s 6ms/step - loss: 0.8606 - accuracy: 0.6750\n",
      "Epoch 29/40\n",
      "2/2 [==============================] - 0s 7ms/step - loss: 1.0060 - accuracy: 0.6500\n",
      "Epoch 30/40\n",
      "2/2 [==============================] - 0s 7ms/step - loss: 0.8500 - accuracy: 0.6250\n",
      "Epoch 31/40\n",
      "2/2 [==============================] - 0s 8ms/step - loss: 0.7744 - accuracy: 0.6750\n",
      "Epoch 32/40\n",
      "2/2 [==============================] - 0s 6ms/step - loss: 0.7924 - accuracy: 0.7500\n",
      "Epoch 33/40\n",
      "2/2 [==============================] - 0s 6ms/step - loss: 0.6653 - accuracy: 0.7500\n",
      "Epoch 34/40\n",
      "2/2 [==============================] - 0s 7ms/step - loss: 0.6672 - accuracy: 0.7750\n",
      "Epoch 35/40\n",
      "2/2 [==============================] - 0s 6ms/step - loss: 0.5413 - accuracy: 0.8000\n",
      "Epoch 36/40\n",
      "2/2 [==============================] - 0s 7ms/step - loss: 0.5132 - accuracy: 0.8500\n",
      "Epoch 37/40\n",
      "2/2 [==============================] - 0s 6ms/step - loss: 0.4568 - accuracy: 0.8000\n",
      "Epoch 38/40\n",
      "2/2 [==============================] - 0s 6ms/step - loss: 0.3993 - accuracy: 0.9000\n",
      "Epoch 39/40\n",
      "2/2 [==============================] - 0s 6ms/step - loss: 0.4565 - accuracy: 0.8500\n",
      "Epoch 40/40\n",
      "2/2 [==============================] - 0s 6ms/step - loss: 0.4642 - accuracy: 0.9000\n"
     ]
    }
   ],
   "source": [
    "deterministic_nn_model.fit(X,y,tensorboard_log_dir=\"tutorial/data\")\n",
    "accuracy_deterministic = deterministic_nn_model.score(X, y)"
   ]
  },
  {
   "cell_type": "markdown",
   "id": "365f66da",
   "metadata": {},
   "source": [
    "### The deterministic model is able to give us point estimation of probabilities. But we can do better..."
   ]
  },
  {
   "cell_type": "code",
   "execution_count": 13,
   "id": "60fbef1a",
   "metadata": {},
   "outputs": [
    {
     "data": {
      "text/plain": [
       "array([[0.13546187, 0.08608879, 0.07862601, 0.08605198, 0.15096498,\n",
       "        0.07331783, 0.09060791, 0.0731394 , 0.07013293, 0.0731362 ,\n",
       "        0.08247205],\n",
       "       [0.06576163, 0.05541243, 0.09382806, 0.08826976, 0.06840876,\n",
       "        0.05418941, 0.09639449, 0.08213931, 0.09436362, 0.08306732,\n",
       "        0.21816526]], dtype=float32)"
      ]
     },
     "execution_count": 13,
     "metadata": {},
     "output_type": "execute_result"
    }
   ],
   "source": [
    "deterministic_nn_model.predict_proba(X)[:2]"
   ]
  },
  {
   "cell_type": "markdown",
   "id": "333aff1b",
   "metadata": {},
   "source": [
    "# The probabilitic model \n",
    "The probabilitic gives us not longer point estimation but distribution on predictions. It allows us to give prediction intervals."
   ]
  },
  {
   "cell_type": "code",
   "execution_count": 14,
   "id": "a2b1165c",
   "metadata": {},
   "outputs": [],
   "source": [
    "from melusine.models.probabilistic_neural_architectures import probabilistic_cnn_with_meta_model\n",
    "probabilistic_model = NeuralModel(architecture_function=probabilistic_cnn_with_meta_model,\n",
    "                       pretrained_embedding=pretrained_embedding,\n",
    "                       text_input_column=\"clean_text\",\n",
    "                       batch_size=20,\n",
    "                       meta_input_list=['extension','attachment_type', 'dayofweek', 'hour', 'min'],\n",
    "                       n_epochs=40)"
   ]
  },
  {
   "cell_type": "code",
   "execution_count": 15,
   "id": "5ac032fe",
   "metadata": {},
   "outputs": [
    {
     "name": "stdout",
     "output_type": "stream",
     "text": [
      "Epoch 1/40\n",
      "2/2 [==============================] - 1s 426ms/step - loss: 2.3900 - accuracy: 0.1500\n",
      "Epoch 2/40\n",
      "2/2 [==============================] - 0s 7ms/step - loss: 2.2798 - accuracy: 0.1750\n",
      "Epoch 3/40\n",
      "2/2 [==============================] - 0s 7ms/step - loss: 2.1116 - accuracy: 0.3000\n",
      "Epoch 4/40\n",
      "2/2 [==============================] - 0s 7ms/step - loss: 2.0224 - accuracy: 0.2750\n",
      "Epoch 5/40\n",
      "2/2 [==============================] - 0s 7ms/step - loss: 1.9910 - accuracy: 0.3000\n",
      "Epoch 6/40\n",
      "2/2 [==============================] - 0s 8ms/step - loss: 1.9681 - accuracy: 0.2500\n",
      "Epoch 7/40\n",
      "2/2 [==============================] - 0s 7ms/step - loss: 1.9436 - accuracy: 0.3750\n",
      "Epoch 8/40\n",
      "2/2 [==============================] - 0s 8ms/step - loss: 1.8815 - accuracy: 0.3500\n",
      "Epoch 9/40\n",
      "2/2 [==============================] - 0s 7ms/step - loss: 1.7977 - accuracy: 0.4250\n",
      "Epoch 10/40\n",
      "2/2 [==============================] - 0s 7ms/step - loss: 1.9024 - accuracy: 0.3500\n",
      "Epoch 11/40\n",
      "2/2 [==============================] - 0s 7ms/step - loss: 1.6391 - accuracy: 0.5000\n",
      "Epoch 12/40\n",
      "2/2 [==============================] - 0s 7ms/step - loss: 1.6727 - accuracy: 0.3750\n",
      "Epoch 13/40\n",
      "2/2 [==============================] - 0s 7ms/step - loss: 1.6471 - accuracy: 0.4250\n",
      "Epoch 14/40\n",
      "2/2 [==============================] - 0s 7ms/step - loss: 1.5179 - accuracy: 0.4250\n",
      "Epoch 15/40\n",
      "2/2 [==============================] - 0s 7ms/step - loss: 1.4704 - accuracy: 0.4500\n",
      "Epoch 16/40\n",
      "2/2 [==============================] - 0s 7ms/step - loss: 1.4615 - accuracy: 0.5250\n",
      "Epoch 17/40\n",
      "2/2 [==============================] - 0s 7ms/step - loss: 1.4085 - accuracy: 0.5000\n",
      "Epoch 18/40\n",
      "2/2 [==============================] - 0s 8ms/step - loss: 1.3519 - accuracy: 0.4750\n",
      "Epoch 19/40\n",
      "2/2 [==============================] - 0s 7ms/step - loss: 1.2530 - accuracy: 0.6250\n",
      "Epoch 20/40\n",
      "2/2 [==============================] - 0s 7ms/step - loss: 1.2933 - accuracy: 0.5500\n",
      "Epoch 21/40\n",
      "2/2 [==============================] - 0s 7ms/step - loss: 1.1310 - accuracy: 0.6000\n",
      "Epoch 22/40\n",
      "2/2 [==============================] - 0s 8ms/step - loss: 1.1117 - accuracy: 0.6250\n",
      "Epoch 23/40\n",
      "2/2 [==============================] - 0s 7ms/step - loss: 1.1230 - accuracy: 0.6500\n",
      "Epoch 24/40\n",
      "2/2 [==============================] - 0s 8ms/step - loss: 1.0328 - accuracy: 0.6750\n",
      "Epoch 25/40\n",
      "2/2 [==============================] - 0s 7ms/step - loss: 1.0908 - accuracy: 0.6500\n",
      "Epoch 26/40\n",
      "2/2 [==============================] - 0s 7ms/step - loss: 1.0291 - accuracy: 0.6500\n",
      "Epoch 27/40\n",
      "2/2 [==============================] - 0s 7ms/step - loss: 0.8538 - accuracy: 0.8000\n",
      "Epoch 28/40\n",
      "2/2 [==============================] - 0s 6ms/step - loss: 0.8585 - accuracy: 0.7250\n",
      "Epoch 29/40\n",
      "2/2 [==============================] - 0s 8ms/step - loss: 0.9142 - accuracy: 0.6750\n",
      "Epoch 30/40\n",
      "2/2 [==============================] - 0s 7ms/step - loss: 0.8326 - accuracy: 0.7000\n",
      "Epoch 31/40\n",
      "2/2 [==============================] - 0s 7ms/step - loss: 0.6477 - accuracy: 0.8000\n",
      "Epoch 32/40\n",
      "2/2 [==============================] - 0s 7ms/step - loss: 0.7113 - accuracy: 0.7750\n",
      "Epoch 33/40\n",
      "2/2 [==============================] - 0s 6ms/step - loss: 0.6215 - accuracy: 0.8000\n",
      "Epoch 34/40\n",
      "2/2 [==============================] - 0s 7ms/step - loss: 0.6277 - accuracy: 0.7500\n",
      "Epoch 35/40\n",
      "2/2 [==============================] - 0s 7ms/step - loss: 0.6678 - accuracy: 0.7250\n",
      "Epoch 36/40\n",
      "2/2 [==============================] - 0s 7ms/step - loss: 0.5997 - accuracy: 0.8250\n",
      "Epoch 37/40\n",
      "2/2 [==============================] - 0s 9ms/step - loss: 0.4541 - accuracy: 0.8500\n",
      "Epoch 38/40\n",
      "2/2 [==============================] - 0s 7ms/step - loss: 0.3581 - accuracy: 0.8250\n",
      "Epoch 39/40\n",
      "2/2 [==============================] - 0s 7ms/step - loss: 0.5761 - accuracy: 0.8000\n",
      "Epoch 40/40\n",
      "2/2 [==============================] - 0s 7ms/step - loss: 0.4348 - accuracy: 0.8750\n"
     ]
    }
   ],
   "source": [
    "probabilistic_model.fit(X,y,tensorboard_log_dir=\"tutorial/data\")\n",
    "accuracy_probabilistic = probabilistic_model.score(X, y)"
   ]
  },
  {
   "cell_type": "markdown",
   "id": "3cdfbad2",
   "metadata": {},
   "source": [
    "### The estimation of the probability is now the mean of the distribution of the prediction"
   ]
  },
  {
   "cell_type": "code",
   "execution_count": 16,
   "id": "c8ca8639",
   "metadata": {},
   "outputs": [
    {
     "data": {
      "text/plain": [
       "<tfp.distributions.OneHotCategorical 'model_1_one_hot_categorical_OneHotCategorical_OneHotCategorical' batch_shape=[40] event_shape=[11] dtype=float32>"
      ]
     },
     "execution_count": 16,
     "metadata": {},
     "output_type": "execute_result"
    }
   ],
   "source": [
    "X_input = probabilistic_model.prepare_email_to_predict(X)\n",
    "probabilistic_model.model(X_input) # the output of the model is not a vector but a distribution we can sample/compute mean/compute std/..."
   ]
  },
  {
   "cell_type": "code",
   "execution_count": 17,
   "id": "46c845c3",
   "metadata": {
    "scrolled": true
   },
   "outputs": [
    {
     "data": {
      "text/plain": [
       "array([[0.09251989, 0.06034808, 0.10122008, 0.12556857, 0.12800366,\n",
       "        0.06595054, 0.1071038 , 0.06766497, 0.06315801, 0.06156524,\n",
       "        0.12689714],\n",
       "       [0.06471244, 0.04261582, 0.08491294, 0.11436494, 0.07694393,\n",
       "        0.06066042, 0.07491909, 0.09476373, 0.10651657, 0.07405771,\n",
       "        0.20553243]], dtype=float32)"
      ]
     },
     "execution_count": 17,
     "metadata": {},
     "output_type": "execute_result"
    }
   ],
   "source": [
    "probabilistic_model.predict_proba(X)[:2]"
   ]
  },
  {
   "cell_type": "markdown",
   "id": "fc4dec38",
   "metadata": {},
   "source": [
    "### More important we now can have prediction intervals"
   ]
  },
  {
   "cell_type": "code",
   "execution_count": 18,
   "id": "2a04d6e6",
   "metadata": {},
   "outputs": [],
   "source": [
    "score, inf, sup = probabilistic_model.predict_proba(X, prediction_interval=0.95)"
   ]
  },
  {
   "cell_type": "code",
   "execution_count": 19,
   "id": "00c3a4bc",
   "metadata": {},
   "outputs": [],
   "source": [
    "import matplotlib.pyplot as plt\n",
    "ntargets = 11\n",
    "\n",
    "\n",
    "def analyse_and_plot_model_predictions(data, true_labels, nn_model, text_num, pi=0.95):\n",
    "    \"\"\"\n",
    "    Make plots of the probabilities that the model estimates for a given text\n",
    "    \"\"\"\n",
    "    true_label = true_labels[text_num]\n",
    "    true_label_decoded = le.inverse_transform([true_label])[0]\n",
    "    print('True label: \\033[1m \\033[92m {} \\033[0m'.format(str(true_label_decoded)))\n",
    "    print('Clean text: ', data.loc[text_num, \"clean_text\"])\n",
    "    model_prediction, pct_low, pct_up = nn_model.predict_proba(data.loc[text_num:text_num], prediction_interval=pi)\n",
    "    model_prediction, pct_low, pct_up = model_prediction[0], pct_low[0], pct_up[0]\n",
    "    x_pos = np.arange(ntargets)\n",
    "    bar = plt.bar(x_pos, pct_up, color='red')\n",
    "    all_categories_decoded = le.inverse_transform(np.arange(ntargets))\n",
    "    plt.xticks(x_pos, all_categories_decoded, color='black', rotation=45, fontweight='bold', fontsize='10', horizontalalignment='right')\n",
    "    ax = plt.gca()\n",
    "    labels = ax.get_xticklabels()\n",
    "    ticks = ax.get_xticks()\n",
    "    for label, tick in zip(labels, ticks):\n",
    "        if tick == true_label:\n",
    "            label.set_color('green')\n",
    "    bar[true_label].set_color('green')\n",
    "    plt.bar(np.arange(ntargets), pct_low-0.02, color='white', linewidth=1, edgecolor='white')\n",
    "    plt.ylim([0, 1])\n",
    "    plt.ylabel('Probability')\n",
    "    plt.title('Model estimated probabilities') \n",
    "    plt.show()"
   ]
  },
  {
   "cell_type": "code",
   "execution_count": 20,
   "id": "7b11017f",
   "metadata": {},
   "outputs": [
    {
     "name": "stdout",
     "output_type": "stream",
     "text": [
      "True label: \u001b[1m \u001b[92m vehicule \u001b[0m\n",
      "Clean text:  immatriculation voiture je vous informe que la nouvelle immatriculation est enfin faite. je vous prie de trouver donc la carte grise ainsi que la nouvelle immatriculation. je vous demanderai de faire les changements necessaires concernant lassurance.\n"
     ]
    },
    {
     "data": {
      "image/png": "[encoded data removed]",
      "text/plain": [
       "<Figure size 432x288 with 1 Axes>"
      ]
     },
     "metadata": {
      "needs_background": "light"
     },
     "output_type": "display_data"
    }
   ],
   "source": [
    "i = 1\n",
    "analyse_and_plot_model_predictions(X, y, probabilistic_model, text_num=i, pi=0.95)"
   ]
  },
  {
   "cell_type": "markdown",
   "id": "1f95124e",
   "metadata": {},
   "source": [
    "### Disclaimer\n",
    "The dataset of this melusine tutorial is so small (40 emails) the model is always drawing large intervals. \n",
    "But if we apply this method on a large public datasets (like the movies dataset : 100 000 movies plots) we can see predictions with less uncertainty as on the following image.\n",
    "\n",
    "<img src=\"images/uncertainty-on-movies-dataset.png\" width=400 height=400 />\n",
    "\n",
    "To let us see small interval (as a sanity check) we also can choose a very small prediction interval (0.01 instead of 0.95, but obviously 0.05 is not a serious value for prediction intervals) as on the following."
   ]
  },
  {
   "cell_type": "code",
   "execution_count": 21,
   "id": "cf4b3e0b",
   "metadata": {},
   "outputs": [
    {
     "name": "stdout",
     "output_type": "stream",
     "text": [
      "True label: \u001b[1m \u001b[92m vehicule \u001b[0m\n",
      "Clean text:  immatriculation voiture je vous informe que la nouvelle immatriculation est enfin faite. je vous prie de trouver donc la carte grise ainsi que la nouvelle immatriculation. je vous demanderai de faire les changements necessaires concernant lassurance.\n"
     ]
    },
    {
     "data": {
      "image/png": "[encoded data removed]",
      "text/plain": [
       "<Figure size 432x288 with 1 Axes>"
      ]
     },
     "metadata": {
      "needs_background": "light"
     },
     "output_type": "display_data"
    }
   ],
   "source": [
    "i = 1\n",
    "analyse_and_plot_model_predictions(X, y, probabilistic_model, text_num=i, pi=0.01)"
   ]
  },
  {
   "cell_type": "markdown",
   "id": "a54aad8d",
   "metadata": {},
   "source": [
    "So instead of just having a point estimation score of being a `vehicle` verbatim (score=0.2) we can have uncertainty estimation around a point estimation (the score of being `vehicle` verbatim is in the interval [0.1 ; 0.3] with a 95% prediction interval)."
   ]
  },
  {
   "cell_type": "markdown",
   "id": "74572671",
   "metadata": {},
   "source": [
    "# To go further : variational neural networks\n",
    "We have 2 types of variational neural networks : [`Reparametrization` and `Flipout`](https://www.tensorflow.org/probability/api_docs/python/tfp/layers/conv_variational)"
   ]
  },
  {
   "cell_type": "code",
   "execution_count": 22,
   "id": "b3614856",
   "metadata": {},
   "outputs": [],
   "source": [
    "from melusine.models.probabilistic_neural_architectures import variational_cnn_model\n",
    "reparametrization_nn_model = NeuralModel(architecture_function=variational_cnn_model,\n",
    "                       pretrained_embedding=pretrained_embedding,\n",
    "                       text_input_column=\"clean_text\",\n",
    "                       batch_size=20,\n",
    "                       meta_input_list=[],\n",
    "                       n_epochs=40,\n",
    "                       training_data_size=len(X))"
   ]
  },
  {
   "cell_type": "code",
   "execution_count": 23,
   "id": "659dc090",
   "metadata": {},
   "outputs": [
    {
     "name": "stdout",
     "output_type": "stream",
     "text": [
      "Epoch 1/40\n",
      "2/2 [==============================] - 2s 597ms/step - loss: 7387.7891 - accuracy: 0.0250\n",
      "Epoch 2/40\n",
      "2/2 [==============================] - 0s 6ms/step - loss: 7381.6548 - accuracy: 0.0250\n",
      "Epoch 3/40\n",
      "2/2 [==============================] - 0s 5ms/step - loss: 7375.5264 - accuracy: 0.0250\n",
      "Epoch 4/40\n",
      "2/2 [==============================] - 0s 9ms/step - loss: 7369.3892 - accuracy: 0.0250\n",
      "Epoch 5/40\n",
      "2/2 [==============================] - 0s 6ms/step - loss: 7363.2578 - accuracy: 0.0250\n",
      "Epoch 6/40\n",
      "2/2 [==============================] - 0s 5ms/step - loss: 7357.1514 - accuracy: 0.1500\n",
      "Epoch 7/40\n",
      "2/2 [==============================] - 0s 5ms/step - loss: 7351.1045 - accuracy: 0.0250\n",
      "Epoch 8/40\n",
      "2/2 [==============================] - 0s 6ms/step - loss: 7345.0171 - accuracy: 0.0250\n",
      "Epoch 9/40\n",
      "2/2 [==============================] - 0s 5ms/step - loss: 7338.9868 - accuracy: 0.0250\n",
      "Epoch 10/40\n",
      "2/2 [==============================] - 0s 5ms/step - loss: 7332.8853 - accuracy: 0.2000\n",
      "Epoch 11/40\n",
      "2/2 [==============================] - 0s 5ms/step - loss: 7326.8774 - accuracy: 0.1000\n",
      "Epoch 12/40\n",
      "2/2 [==============================] - 0s 6ms/step - loss: 7320.8359 - accuracy: 0.2250\n",
      "Epoch 13/40\n",
      "2/2 [==============================] - 0s 5ms/step - loss: 7314.8203 - accuracy: 0.2250\n",
      "Epoch 14/40\n",
      "2/2 [==============================] - 0s 5ms/step - loss: 7308.8110 - accuracy: 0.1500\n",
      "Epoch 15/40\n",
      "2/2 [==============================] - 0s 5ms/step - loss: 7302.7959 - accuracy: 0.2000\n",
      "Epoch 16/40\n",
      "2/2 [==============================] - 0s 6ms/step - loss: 7296.8296 - accuracy: 0.2250\n",
      "Epoch 17/40\n",
      "2/2 [==============================] - 0s 5ms/step - loss: 7290.8506 - accuracy: 0.3250\n",
      "Epoch 18/40\n",
      "2/2 [==============================] - 0s 4ms/step - loss: 7284.8931 - accuracy: 0.2750\n",
      "Epoch 19/40\n",
      "2/2 [==============================] - 0s 5ms/step - loss: 7278.9424 - accuracy: 0.2000\n",
      "Epoch 20/40\n",
      "2/2 [==============================] - 0s 5ms/step - loss: 7272.9893 - accuracy: 0.2250\n",
      "Epoch 21/40\n",
      "2/2 [==============================] - 0s 5ms/step - loss: 7267.0986 - accuracy: 0.3250\n",
      "Epoch 22/40\n",
      "2/2 [==============================] - 0s 6ms/step - loss: 7261.1157 - accuracy: 0.3000\n",
      "Epoch 23/40\n",
      "2/2 [==============================] - 0s 6ms/step - loss: 7255.2202 - accuracy: 0.2000\n",
      "Epoch 24/40\n",
      "2/2 [==============================] - 0s 5ms/step - loss: 7249.3203 - accuracy: 0.2000\n",
      "Epoch 25/40\n",
      "2/2 [==============================] - 0s 4ms/step - loss: 7243.4219 - accuracy: 0.3250\n",
      "Epoch 26/40\n",
      "2/2 [==============================] - 0s 9ms/step - loss: 7237.5547 - accuracy: 0.3250\n",
      "Epoch 27/40\n",
      "2/2 [==============================] - 0s 5ms/step - loss: 7231.6416 - accuracy: 0.3250\n",
      "Epoch 28/40\n",
      "2/2 [==============================] - 0s 6ms/step - loss: 7225.7554 - accuracy: 0.3250\n",
      "Epoch 29/40\n",
      "2/2 [==============================] - 0s 5ms/step - loss: 7219.8877 - accuracy: 0.3250\n",
      "Epoch 30/40\n",
      "2/2 [==============================] - 0s 6ms/step - loss: 7214.0234 - accuracy: 0.3250\n",
      "Epoch 31/40\n",
      "2/2 [==============================] - 0s 5ms/step - loss: 7208.1733 - accuracy: 0.3250\n",
      "Epoch 32/40\n",
      "2/2 [==============================] - 0s 5ms/step - loss: 7202.3579 - accuracy: 0.2500\n",
      "Epoch 33/40\n",
      "2/2 [==============================] - 0s 5ms/step - loss: 7196.4780 - accuracy: 0.4000\n",
      "Epoch 34/40\n",
      "2/2 [==============================] - 0s 6ms/step - loss: 7190.6299 - accuracy: 0.3250\n",
      "Epoch 35/40\n",
      "2/2 [==============================] - 0s 5ms/step - loss: 7184.8188 - accuracy: 0.3500\n",
      "Epoch 36/40\n",
      "2/2 [==============================] - 0s 4ms/step - loss: 7178.9985 - accuracy: 0.3250\n",
      "Epoch 37/40\n",
      "2/2 [==============================] - 0s 5ms/step - loss: 7173.1797 - accuracy: 0.3250\n",
      "Epoch 38/40\n",
      "2/2 [==============================] - 0s 6ms/step - loss: 7167.3804 - accuracy: 0.3250\n",
      "Epoch 39/40\n",
      "2/2 [==============================] - 0s 5ms/step - loss: 7161.5562 - accuracy: 0.3250\n",
      "Epoch 40/40\n",
      "2/2 [==============================] - 0s 5ms/step - loss: 7155.7329 - accuracy: 0.3250\n"
     ]
    }
   ],
   "source": [
    "reparametrization_nn_model.fit(X,y,tensorboard_log_dir=\"tutorial/data\")\n",
    "accuracy_reparametrization = reparametrization_nn_model.score(X, y)"
   ]
  },
  {
   "cell_type": "code",
   "execution_count": 24,
   "id": "ec399c1c",
   "metadata": {},
   "outputs": [
    {
     "name": "stdout",
     "output_type": "stream",
     "text": [
      "True label: \u001b[1m \u001b[92m vehicule \u001b[0m\n",
      "Clean text:  pret vehicule ci-joint pret vehicule\n"
     ]
    },
    {
     "data": {
      "image/png": "[encoded data removed]",
      "text/plain": [
       "<Figure size 432x288 with 1 Axes>"
      ]
     },
     "metadata": {
      "needs_background": "light"
     },
     "output_type": "display_data"
    }
   ],
   "source": [
    "i = 9\n",
    "analyse_and_plot_model_predictions(X, y, reparametrization_nn_model, i)"
   ]
  },
  {
   "cell_type": "code",
   "execution_count": 25,
   "id": "79512a4e",
   "metadata": {},
   "outputs": [],
   "source": [
    "from melusine.models.probabilistic_neural_architectures import flipout_cnn_model\n",
    "flipout_nn_model = NeuralModel(architecture_function=flipout_cnn_model,\n",
    "                       pretrained_embedding=pretrained_embedding,\n",
    "                       text_input_column=\"clean_text\",\n",
    "                       batch_size=20,\n",
    "                       meta_input_list=[],\n",
    "                       n_epochs=40,\n",
    "                       training_data_size=len(X))"
   ]
  },
  {
   "cell_type": "code",
   "execution_count": 26,
   "id": "ea31fe6f",
   "metadata": {},
   "outputs": [
    {
     "name": "stdout",
     "output_type": "stream",
     "text": [
      "Epoch 1/40\n",
      "2/2 [==============================] - 2s 404ms/step - loss: 3690.5554 - accuracy: 0.2500\n",
      "Epoch 2/40\n",
      "2/2 [==============================] - 0s 5ms/step - loss: 3687.4902 - accuracy: 0.2750\n",
      "Epoch 3/40\n",
      "2/2 [==============================] - 0s 6ms/step - loss: 3684.4304 - accuracy: 0.3000\n",
      "Epoch 4/40\n",
      "2/2 [==============================] - 0s 6ms/step - loss: 3681.3774 - accuracy: 0.2750\n",
      "Epoch 5/40\n",
      "2/2 [==============================] - 0s 6ms/step - loss: 3678.3301 - accuracy: 0.2750\n",
      "Epoch 6/40\n",
      "2/2 [==============================] - 0s 6ms/step - loss: 3675.2886 - accuracy: 0.3250\n",
      "Epoch 7/40\n",
      "2/2 [==============================] - 0s 5ms/step - loss: 3672.2539 - accuracy: 0.3000\n",
      "Epoch 8/40\n",
      "2/2 [==============================] - 0s 5ms/step - loss: 3669.2251 - accuracy: 0.3250\n",
      "Epoch 9/40\n",
      "2/2 [==============================] - 0s 7ms/step - loss: 3666.2017 - accuracy: 0.3250\n",
      "Epoch 10/40\n",
      "2/2 [==============================] - 0s 7ms/step - loss: 3663.1855 - accuracy: 0.3250\n",
      "Epoch 11/40\n",
      "2/2 [==============================] - 0s 6ms/step - loss: 3660.1743 - accuracy: 0.3250\n",
      "Epoch 12/40\n",
      "2/2 [==============================] - 0s 6ms/step - loss: 3657.1687 - accuracy: 0.3250\n",
      "Epoch 13/40\n",
      "2/2 [==============================] - 0s 6ms/step - loss: 3654.1694 - accuracy: 0.3250\n",
      "Epoch 14/40\n",
      "2/2 [==============================] - 0s 6ms/step - loss: 3651.1758 - accuracy: 0.3250\n",
      "Epoch 15/40\n",
      "2/2 [==============================] - 0s 5ms/step - loss: 3648.1875 - accuracy: 0.3250\n",
      "Epoch 16/40\n",
      "2/2 [==============================] - 0s 6ms/step - loss: 3645.2039 - accuracy: 0.3250\n",
      "Epoch 17/40\n",
      "2/2 [==============================] - 0s 5ms/step - loss: 3642.2266 - accuracy: 0.3250\n",
      "Epoch 18/40\n",
      "2/2 [==============================] - 0s 6ms/step - loss: 3639.2534 - accuracy: 0.3250\n",
      "Epoch 19/40\n",
      "2/2 [==============================] - 0s 6ms/step - loss: 3636.2852 - accuracy: 0.3250\n",
      "Epoch 20/40\n",
      "2/2 [==============================] - 0s 6ms/step - loss: 3633.3223 - accuracy: 0.3250\n",
      "Epoch 21/40\n",
      "2/2 [==============================] - 0s 5ms/step - loss: 3630.3628 - accuracy: 0.3250\n",
      "Epoch 22/40\n",
      "2/2 [==============================] - 0s 5ms/step - loss: 3627.4082 - accuracy: 0.3250\n",
      "Epoch 23/40\n",
      "2/2 [==============================] - 0s 5ms/step - loss: 3624.4570 - accuracy: 0.3250\n",
      "Epoch 24/40\n",
      "2/2 [==============================] - 0s 5ms/step - loss: 3621.5112 - accuracy: 0.3250\n",
      "Epoch 25/40\n",
      "2/2 [==============================] - 0s 5ms/step - loss: 3618.5696 - accuracy: 0.3250\n",
      "Epoch 26/40\n",
      "2/2 [==============================] - 0s 6ms/step - loss: 3615.6304 - accuracy: 0.3250\n",
      "Epoch 27/40\n",
      "2/2 [==============================] - 0s 5ms/step - loss: 3612.6965 - accuracy: 0.3250\n",
      "Epoch 28/40\n",
      "2/2 [==============================] - 0s 5ms/step - loss: 3609.7656 - accuracy: 0.3250\n",
      "Epoch 29/40\n",
      "2/2 [==============================] - 0s 6ms/step - loss: 3606.8384 - accuracy: 0.3250\n",
      "Epoch 30/40\n",
      "2/2 [==============================] - 0s 6ms/step - loss: 3603.9141 - accuracy: 0.3250\n",
      "Epoch 31/40\n",
      "2/2 [==============================] - 0s 5ms/step - loss: 3600.9922 - accuracy: 0.3250\n",
      "Epoch 32/40\n",
      "2/2 [==============================] - 0s 5ms/step - loss: 3598.0757 - accuracy: 0.3250\n",
      "Epoch 33/40\n",
      "2/2 [==============================] - 0s 11ms/step - loss: 3595.1609 - accuracy: 0.3250\n",
      "Epoch 34/40\n",
      "2/2 [==============================] - 0s 6ms/step - loss: 3592.2505 - accuracy: 0.3250\n",
      "Epoch 35/40\n",
      "2/2 [==============================] - 0s 5ms/step - loss: 3589.3413 - accuracy: 0.3250\n",
      "Epoch 36/40\n",
      "2/2 [==============================] - 0s 6ms/step - loss: 3586.4348 - accuracy: 0.3250\n",
      "Epoch 37/40\n",
      "2/2 [==============================] - 0s 6ms/step - loss: 3583.5320 - accuracy: 0.3250\n",
      "Epoch 38/40\n",
      "2/2 [==============================] - 0s 6ms/step - loss: 3580.6304 - accuracy: 0.3250\n",
      "Epoch 39/40\n",
      "2/2 [==============================] - 0s 6ms/step - loss: 3577.7336 - accuracy: 0.3250\n",
      "Epoch 40/40\n",
      "2/2 [==============================] - 0s 6ms/step - loss: 3574.8374 - accuracy: 0.3250\n"
     ]
    }
   ],
   "source": [
    "flipout_nn_model.fit(X,y,tensorboard_log_dir=\"tutorial/data\")\n",
    "accuracy_flipout= flipout_nn_model.score(X, y)"
   ]
  },
  {
   "cell_type": "code",
   "execution_count": 27,
   "id": "20e91954",
   "metadata": {},
   "outputs": [
    {
     "name": "stdout",
     "output_type": "stream",
     "text": [
      "True label: \u001b[1m \u001b[92m vehicule \u001b[0m\n",
      "Clean text:  pret vehicule ci-joint pret vehicule\n"
     ]
    },
    {
     "data": {
      "image/png": "[encoded data removed]",
      "text/plain": [
       "<Figure size 432x288 with 1 Axes>"
      ]
     },
     "metadata": {
      "needs_background": "light"
     },
     "output_type": "display_data"
    }
   ],
   "source": [
    "i = 9\n",
    "analyse_and_plot_model_predictions(X, y, flipout_nn_model, i)"
   ]
  },
  {
   "cell_type": "markdown",
   "id": "80fcc0a8",
   "metadata": {},
   "source": [
    "### Quick summary\n",
    "We show 3 probabilistic models :\n",
    "- **basic probabilistic** model with just a [OneHotCategorical](https://www.tensorflow.org/probability/api_docs/python/tfp/layers/OneHotCategorical) as last (prediction) layer\n",
    "- **reparametrization** model with [Convolution1DReparameterization](https://www.tensorflow.org/probability/api_docs/python/tfp/layers/Convolution1DReparameterization) layers\n",
    "- **flipout** model with [Convolution1DFlipout](https://www.tensorflow.org/probability/api_docs/python/tfp/layers/Convolution1DFlipout) layers\n",
    "\n",
    "We simulation on a larger dataset (movies dataset), the basic probabilistic model is an effective lowcost solution to have uncertainty estimation of the prediction without any performance loss.\n",
    "\n",
    "On our case, we did not manage to design a variational (reparametrization/flipout) neural architecture to get this level of performance."
   ]
  }
 ],
 "metadata": {
  "environment": {
   "name": "tf2-gpu.2-5.m76",
   "type": "gcloud",
   "uri": "gcr.io/deeplearning-platform-release/tf2-gpu.2-5:m76"
  },
  "interpreter": {
   "hash": "31659fd95575785888a0925c53e16fda128af122d9bf30d053d8251d24200cc8"
  },
  "kernelspec": {
   "display_name": "Python 3",
   "language": "python",
   "name": "python3"
  },
  "language_info": {
   "codemirror_mode": {
    "name": "ipython",
    "version": 3
   },
   "file_extension": ".py",
   "mimetype": "text/x-python",
   "name": "python",
   "nbconvert_exporter": "python",
   "pygments_lexer": "ipython3",
   "version": "3.7.10"
  }
 },
 "nbformat": 4,
 "nbformat_minor": 5
}
