{
 "cells": [
  {
   "cell_type": "code",
   "execution_count": 1,
   "id": "417cbcca",
   "metadata": {},
   "outputs": [],
   "source": [
    "import warnings\n",
    "warnings.simplefilter(action='ignore')\n",
    "import numpy as np\n",
    "import pandas as pd\n",
    "from copy import deepcopy\n",
    "from sklearn.preprocessing import LabelEncoder\n",
    "\n",
    "from melusine import load_email_data\n",
    "\n",
    "# Text input \n",
    "df_emails_preprocessed = load_email_data(type=\"full\")\n",
    "df_emails_preprocessed['clean_text'] = df_emails_preprocessed['clean_header'] + \" \" + df_emails_preprocessed['clean_body']"
   ]
  },
  {
   "cell_type": "code",
   "execution_count": 2,
   "id": "59465a69",
   "metadata": {},
   "outputs": [],
   "source": [
    "# Requirement : have a pretrained Embedding\n",
    "from melusine.nlp_tools.embedding import Embedding\n",
    "pretrained_embedding = Embedding(tokens_column=\"tokens\", workers=1, min_count=5)\n",
    "pretrained_embedding.train(df_emails_preprocessed)"
   ]
  },
  {
   "cell_type": "code",
   "execution_count": 3,
   "id": "b61d233c",
   "metadata": {},
   "outputs": [],
   "source": [
    "# Metadata input\n",
    "df_meta = pd.read_csv('/home/jupyter/melusine/melusine/data/metadata.csv', encoding='utf-8', sep=',')\n",
    "\n",
    "# Dataset\n",
    "X = pd.concat([df_emails_preprocessed['clean_text'],df_meta],axis=1)\n",
    "y = df_emails_preprocessed['label']\n",
    "le = LabelEncoder()\n",
    "y = le.fit_transform(y)"
   ]
  },
  {
   "cell_type": "code",
   "execution_count": 4,
   "id": "8e8d33b4",
   "metadata": {},
   "outputs": [],
   "source": [
    "import ast\n",
    "import pandas as pd\n",
    "import numpy as np\n",
    "df_emails_preprocessed = pd.read_pickle('/home/jupyter/melusine/melusine/data/emails_preprocessed.pkl')\n",
    "\n",
    "df_emails_preprocessed['clean_header'] = df_emails_preprocessed['clean_header'].astype(str)\n",
    "df_emails_preprocessed['clean_body'] = df_emails_preprocessed['clean_body'].astype(str)\n",
    "df_emails_preprocessed['attachment'] = df_emails_preprocessed['attachment'].apply(ast.literal_eval)\n",
    "df_emails_preprocessed['clean_text'] = df_emails_preprocessed['clean_header'] + \" \" + df_emails_preprocessed['clean_body']"
   ]
  },
  {
   "cell_type": "code",
   "execution_count": 5,
   "id": "81386d23",
   "metadata": {},
   "outputs": [],
   "source": [
    "X = pd.concat([df_emails_preprocessed['clean_text'],df_meta],axis=1)"
   ]
  },
  {
   "cell_type": "code",
   "execution_count": 6,
   "id": "2b2a6c02",
   "metadata": {},
   "outputs": [],
   "source": [
    "from sklearn.preprocessing import LabelEncoder\n",
    "y = df_emails_preprocessed['label']\n",
    "le = LabelEncoder()\n",
    "y = le.fit_transform(y)"
   ]
  },
  {
   "cell_type": "code",
   "execution_count": 7,
   "id": "9f16377e",
   "metadata": {},
   "outputs": [],
   "source": [
    "from melusine.models.train import NeuralModel"
   ]
  },
  {
   "cell_type": "code",
   "execution_count": 8,
   "id": "b3e66e7f",
   "metadata": {},
   "outputs": [
    {
     "data": {
      "text/plain": [
       "11"
      ]
     },
     "execution_count": 8,
     "metadata": {},
     "output_type": "execute_result"
    }
   ],
   "source": [
    "len(np.unique(y))"
   ]
  },
  {
   "cell_type": "markdown",
   "id": "1c46b957",
   "metadata": {},
   "source": [
    "# Deterministic model"
   ]
  },
  {
   "cell_type": "markdown",
   "id": "a6cf64b6",
   "metadata": {},
   "source": [
    "#### The deterministic model is able to give us **point estimation**. "
   ]
  },
  {
   "cell_type": "code",
   "execution_count": 9,
   "id": "cc653a6a",
   "metadata": {},
   "outputs": [],
   "source": [
    "from melusine.models.neural_architectures import cnn_model\n",
    "deterministic_nn_model = NeuralModel(architecture_function=cnn_model,\n",
    "                       pretrained_embedding=pretrained_embedding,\n",
    "                       text_input_column=\"clean_text\",\n",
    "                       batch_size=20,\n",
    "                       meta_input_list=['extension','attachment_type', 'dayofweek', 'hour', 'min'],\n",
    "                       n_epochs=40)"
   ]
  },
  {
   "cell_type": "code",
   "execution_count": 10,
   "id": "796363dd",
   "metadata": {},
   "outputs": [
    {
     "name": "stdout",
     "output_type": "stream",
     "text": [
      "Epoch 1/40\n",
      "2/2 [==============================] - 1s 35ms/step - loss: 2.4136 - accuracy: 0.0750\n",
      "Epoch 2/40\n",
      "2/2 [==============================] - 0s 28ms/step - loss: 2.3279 - accuracy: 0.2250\n",
      "Epoch 3/40\n",
      "2/2 [==============================] - 0s 30ms/step - loss: 2.1867 - accuracy: 0.3000\n",
      "Epoch 4/40\n",
      "2/2 [==============================] - 0s 33ms/step - loss: 2.0484 - accuracy: 0.3750\n",
      "Epoch 5/40\n",
      "2/2 [==============================] - 0s 31ms/step - loss: 2.0785 - accuracy: 0.4000\n",
      "Epoch 6/40\n",
      "2/2 [==============================] - 0s 31ms/step - loss: 2.0198 - accuracy: 0.3750\n",
      "Epoch 7/40\n",
      "2/2 [==============================] - 0s 29ms/step - loss: 1.9353 - accuracy: 0.4500\n",
      "Epoch 8/40\n",
      "2/2 [==============================] - 0s 40ms/step - loss: 1.8421 - accuracy: 0.3750\n",
      "Epoch 9/40\n",
      "2/2 [==============================] - 0s 30ms/step - loss: 1.7397 - accuracy: 0.4750\n",
      "Epoch 10/40\n",
      "2/2 [==============================] - 0s 33ms/step - loss: 1.8223 - accuracy: 0.4000\n",
      "Epoch 11/40\n",
      "2/2 [==============================] - 0s 32ms/step - loss: 1.6846 - accuracy: 0.5250\n",
      "Epoch 12/40\n",
      "2/2 [==============================] - 0s 28ms/step - loss: 1.6304 - accuracy: 0.4500\n",
      "Epoch 13/40\n",
      "2/2 [==============================] - 0s 29ms/step - loss: 1.5186 - accuracy: 0.4750\n",
      "Epoch 14/40\n",
      "2/2 [==============================] - 0s 32ms/step - loss: 1.5351 - accuracy: 0.4500\n",
      "Epoch 15/40\n",
      "2/2 [==============================] - 0s 32ms/step - loss: 1.3466 - accuracy: 0.5250\n",
      "Epoch 16/40\n",
      "2/2 [==============================] - 0s 31ms/step - loss: 1.3871 - accuracy: 0.5000\n",
      "Epoch 17/40\n",
      "2/2 [==============================] - 0s 30ms/step - loss: 1.3604 - accuracy: 0.5000\n",
      "Epoch 18/40\n",
      "2/2 [==============================] - 0s 31ms/step - loss: 1.1585 - accuracy: 0.6000\n",
      "Epoch 19/40\n",
      "2/2 [==============================] - 0s 29ms/step - loss: 1.2843 - accuracy: 0.6000\n",
      "Epoch 20/40\n",
      "2/2 [==============================] - 0s 29ms/step - loss: 1.2624 - accuracy: 0.5750\n",
      "Epoch 21/40\n",
      "2/2 [==============================] - 0s 30ms/step - loss: 1.0855 - accuracy: 0.5500\n",
      "Epoch 22/40\n",
      "2/2 [==============================] - 0s 31ms/step - loss: 0.9982 - accuracy: 0.7250\n",
      "Epoch 23/40\n",
      "2/2 [==============================] - 0s 31ms/step - loss: 0.9849 - accuracy: 0.6500\n",
      "Epoch 24/40\n",
      "2/2 [==============================] - 0s 29ms/step - loss: 0.8127 - accuracy: 0.7500\n",
      "Epoch 25/40\n",
      "2/2 [==============================] - 0s 29ms/step - loss: 0.8772 - accuracy: 0.6750\n",
      "Epoch 26/40\n",
      "2/2 [==============================] - 0s 28ms/step - loss: 0.6447 - accuracy: 0.8250\n",
      "Epoch 27/40\n",
      "2/2 [==============================] - 0s 30ms/step - loss: 0.6210 - accuracy: 0.8000\n",
      "Epoch 28/40\n",
      "2/2 [==============================] - 0s 30ms/step - loss: 0.6085 - accuracy: 0.8250\n",
      "Epoch 29/40\n",
      "2/2 [==============================] - 0s 31ms/step - loss: 0.5220 - accuracy: 0.8750\n",
      "Epoch 30/40\n",
      "2/2 [==============================] - 0s 29ms/step - loss: 0.5087 - accuracy: 0.8500\n",
      "Epoch 31/40\n",
      "2/2 [==============================] - 0s 30ms/step - loss: 0.5625 - accuracy: 0.8500\n",
      "Epoch 32/40\n",
      "2/2 [==============================] - 0s 29ms/step - loss: 0.3603 - accuracy: 0.9000\n",
      "Epoch 33/40\n",
      "2/2 [==============================] - 0s 29ms/step - loss: 0.2883 - accuracy: 0.9500\n",
      "Epoch 34/40\n",
      "2/2 [==============================] - 0s 29ms/step - loss: 0.3312 - accuracy: 0.9000\n",
      "Epoch 35/40\n",
      "2/2 [==============================] - 0s 29ms/step - loss: 0.3173 - accuracy: 0.8750\n",
      "Epoch 36/40\n",
      "2/2 [==============================] - 0s 30ms/step - loss: 0.2088 - accuracy: 0.9750\n",
      "Epoch 37/40\n",
      "2/2 [==============================] - 0s 32ms/step - loss: 0.2161 - accuracy: 0.9500\n",
      "Epoch 38/40\n",
      "2/2 [==============================] - 0s 29ms/step - loss: 0.1813 - accuracy: 0.9500\n",
      "Epoch 39/40\n",
      "2/2 [==============================] - 0s 33ms/step - loss: 0.1446 - accuracy: 0.9500\n",
      "Epoch 40/40\n",
      "2/2 [==============================] - 0s 31ms/step - loss: 0.1879 - accuracy: 0.9500\n",
      "2/2 [==============================] - 0s 7ms/step\n"
     ]
    }
   ],
   "source": [
    "deterministic_nn_model.fit(X,y,tensorboard_log_dir=\"tutorial/data\")\n",
    "accuracy_deterministic = deterministic_nn_model.score(X, y)"
   ]
  },
  {
   "cell_type": "code",
   "execution_count": 11,
   "id": "582a43b6",
   "metadata": {},
   "outputs": [
    {
     "name": "stdout",
     "output_type": "stream",
     "text": [
      "2/2 [==============================] - 0s 7ms/step\n"
     ]
    },
    {
     "data": {
      "text/plain": [
       "array([[5.6655005e-02, 5.5355169e-02, 1.8327227e-01, 1.0647596e-01,\n",
       "        3.7770648e-02, 1.6988359e-01, 1.1907833e-01, 9.5931878e-03,\n",
       "        1.9749451e-02, 2.6223579e-02, 2.1594270e-01],\n",
       "       [8.7984987e-03, 8.5252716e-04, 3.9019249e-02, 1.9534465e-03,\n",
       "        4.7312398e-04, 2.0395404e-02, 1.7000666e-02, 1.4475605e-04,\n",
       "        3.5475282e-04, 8.5563044e-04, 9.1015190e-01]], dtype=float32)"
      ]
     },
     "execution_count": 11,
     "metadata": {},
     "output_type": "execute_result"
    }
   ],
   "source": [
    "deterministic_nn_model.predict_proba(X)[:2]"
   ]
  },
  {
   "cell_type": "code",
   "execution_count": 12,
   "id": "229b4fbf",
   "metadata": {},
   "outputs": [
    {
     "name": "stdout",
     "output_type": "stream",
     "text": [
      "Model: \"model\"\n",
      "__________________________________________________________________________________________________\n",
      " Layer (type)                   Output Shape         Param #     Connected to                     \n",
      "==================================================================================================\n",
      " input_1 (InputLayer)           [(None, 100)]        0           []                               \n",
      "                                                                                                  \n",
      " embedding (Embedding)          (None, 100, 300)     5700        ['input_1[0][0]']                \n",
      "                                                                                                  \n",
      " conv1d (Conv1D)                (None, 100, 200)     120200      ['embedding[0][0]']              \n",
      "                                                                                                  \n",
      " spatial_dropout1d (SpatialDrop  (None, 100, 200)    0           ['conv1d[0][0]']                 \n",
      " out1D)                                                                                           \n",
      "                                                                                                  \n",
      " batch_normalization (BatchNorm  (None, 100, 200)    800         ['spatial_dropout1d[0][0]']      \n",
      " alization)                                                                                       \n",
      "                                                                                                  \n",
      " leaky_re_lu (LeakyReLU)        (None, 100, 200)     0           ['batch_normalization[0][0]']    \n",
      "                                                                                                  \n",
      " conv1d_1 (Conv1D)              (None, 100, 250)     100250      ['leaky_re_lu[0][0]']            \n",
      "                                                                                                  \n",
      " input_2 (InputLayer)           [(None, 66)]         0           []                               \n",
      "                                                                                                  \n",
      " spatial_dropout1d_1 (SpatialDr  (None, 100, 250)    0           ['conv1d_1[0][0]']               \n",
      " opout1D)                                                                                         \n",
      "                                                                                                  \n",
      " dense_2 (Dense)                (None, 150)          10050       ['input_2[0][0]']                \n",
      "                                                                                                  \n",
      " leaky_re_lu_1 (LeakyReLU)      (None, 100, 250)     0           ['spatial_dropout1d_1[0][0]']    \n",
      "                                                                                                  \n",
      " dropout_2 (Dropout)            (None, 150)          0           ['dense_2[0][0]']                \n",
      "                                                                                                  \n",
      " dropout (Dropout)              (None, 100, 250)     0           ['leaky_re_lu_1[0][0]']          \n",
      "                                                                                                  \n",
      " leaky_re_lu_4 (LeakyReLU)      (None, 150)          0           ['dropout_2[0][0]']              \n",
      "                                                                                                  \n",
      " global_max_pooling1d (GlobalMa  (None, 250)         0           ['dropout[0][0]']                \n",
      " xPooling1D)                                                                                      \n",
      "                                                                                                  \n",
      " dense_3 (Dense)                (None, 100)          15100       ['leaky_re_lu_4[0][0]']          \n",
      "                                                                                                  \n",
      " dense (Dense)                  (None, 250)          62750       ['global_max_pooling1d[0][0]']   \n",
      "                                                                                                  \n",
      " dropout_3 (Dropout)            (None, 100)          0           ['dense_3[0][0]']                \n",
      "                                                                                                  \n",
      " leaky_re_lu_2 (LeakyReLU)      (None, 250)          0           ['dense[0][0]']                  \n",
      "                                                                                                  \n",
      " leaky_re_lu_5 (LeakyReLU)      (None, 100)          0           ['dropout_3[0][0]']              \n",
      "                                                                                                  \n",
      " dense_1 (Dense)                (None, 150)          37650       ['leaky_re_lu_2[0][0]']          \n",
      "                                                                                                  \n",
      " dense_4 (Dense)                (None, 80)           8080        ['leaky_re_lu_5[0][0]']          \n",
      "                                                                                                  \n",
      " dropout_1 (Dropout)            (None, 150)          0           ['dense_1[0][0]']                \n",
      "                                                                                                  \n",
      " dropout_4 (Dropout)            (None, 80)           0           ['dense_4[0][0]']                \n",
      "                                                                                                  \n",
      " leaky_re_lu_3 (LeakyReLU)      (None, 150)          0           ['dropout_1[0][0]']              \n",
      "                                                                                                  \n",
      " leaky_re_lu_6 (LeakyReLU)      (None, 80)           0           ['dropout_4[0][0]']              \n",
      "                                                                                                  \n",
      " concatenate (Concatenate)      (None, 230)          0           ['leaky_re_lu_3[0][0]',          \n",
      "                                                                  'leaky_re_lu_6[0][0]']          \n",
      "                                                                                                  \n",
      " dense_5 (Dense)                (None, 200)          46200       ['concatenate[0][0]']            \n",
      "                                                                                                  \n",
      " dropout_5 (Dropout)            (None, 200)          0           ['dense_5[0][0]']                \n",
      "                                                                                                  \n",
      " leaky_re_lu_7 (LeakyReLU)      (None, 200)          0           ['dropout_5[0][0]']              \n",
      "                                                                                                  \n",
      " dense_6 (Dense)                (None, 100)          20100       ['leaky_re_lu_7[0][0]']          \n",
      "                                                                                                  \n",
      " dropout_6 (Dropout)            (None, 100)          0           ['dense_6[0][0]']                \n",
      "                                                                                                  \n",
      " leaky_re_lu_8 (LeakyReLU)      (None, 100)          0           ['dropout_6[0][0]']              \n",
      "                                                                                                  \n",
      " dense_7 (Dense)                (None, 11)           1111        ['leaky_re_lu_8[0][0]']          \n",
      "                                                                                                  \n",
      "==================================================================================================\n",
      "Total params: 427,991\n",
      "Trainable params: 427,591\n",
      "Non-trainable params: 400\n",
      "__________________________________________________________________________________________________\n"
     ]
    }
   ],
   "source": [
    "deterministic_nn_model.model.summary()"
   ]
  },
  {
   "cell_type": "markdown",
   "id": "cb25399c",
   "metadata": {},
   "source": [
    "#### We can propose a way to have **uncertainty estimation**"
   ]
  },
  {
   "cell_type": "markdown",
   "id": "cdddb7ae",
   "metadata": {},
   "source": [
    "# The probabilitic model \n",
    "The probabilitic gives us not longer point estimation but distribution on predictions. It allows us to give prediction intervals."
   ]
  },
  {
   "cell_type": "code",
   "execution_count": 13,
   "id": "8072f109",
   "metadata": {},
   "outputs": [],
   "source": [
    "from melusine.models.probabilistic_neural_architectures import probabilistic_cnn_with_meta_model\n",
    "probabilistic_model = NeuralModel(architecture_function=probabilistic_cnn_with_meta_model,\n",
    "                       pretrained_embedding=pretrained_embedding,\n",
    "                       text_input_column=\"clean_text\",\n",
    "                       batch_size=20,\n",
    "                       meta_input_list=['extension','attachment_type', 'dayofweek', 'hour', 'min'],\n",
    "                       n_epochs=40)"
   ]
  },
  {
   "cell_type": "code",
   "execution_count": 14,
   "id": "1e52c698",
   "metadata": {},
   "outputs": [
    {
     "name": "stdout",
     "output_type": "stream",
     "text": [
      "Epoch 1/40\n",
      "2/2 [==============================] - 1s 31ms/step - loss: 2.3950 - accuracy: 0.0500\n",
      "Epoch 2/40\n",
      "2/2 [==============================] - 0s 30ms/step - loss: 2.2316 - accuracy: 0.3250\n",
      "Epoch 3/40\n",
      "2/2 [==============================] - 0s 30ms/step - loss: 2.0361 - accuracy: 0.3250\n",
      "Epoch 4/40\n",
      "2/2 [==============================] - 0s 32ms/step - loss: 2.1237 - accuracy: 0.3250\n",
      "Epoch 5/40\n",
      "2/2 [==============================] - 0s 30ms/step - loss: 2.0263 - accuracy: 0.2750\n",
      "Epoch 6/40\n",
      "2/2 [==============================] - 0s 31ms/step - loss: 1.8814 - accuracy: 0.3750\n",
      "Epoch 7/40\n",
      "2/2 [==============================] - 0s 33ms/step - loss: 1.9440 - accuracy: 0.3750\n",
      "Epoch 8/40\n",
      "2/2 [==============================] - 0s 32ms/step - loss: 1.8115 - accuracy: 0.3500\n",
      "Epoch 9/40\n",
      "2/2 [==============================] - 0s 31ms/step - loss: 1.7690 - accuracy: 0.3750\n",
      "Epoch 10/40\n",
      "2/2 [==============================] - 0s 30ms/step - loss: 1.6901 - accuracy: 0.4000\n",
      "Epoch 11/40\n",
      "2/2 [==============================] - 0s 35ms/step - loss: 1.6025 - accuracy: 0.4000\n",
      "Epoch 12/40\n",
      "2/2 [==============================] - 0s 30ms/step - loss: 1.5465 - accuracy: 0.5000\n",
      "Epoch 13/40\n",
      "2/2 [==============================] - 0s 31ms/step - loss: 1.4908 - accuracy: 0.4500\n",
      "Epoch 14/40\n",
      "2/2 [==============================] - 0s 29ms/step - loss: 1.4710 - accuracy: 0.5000\n",
      "Epoch 15/40\n",
      "2/2 [==============================] - 0s 30ms/step - loss: 1.1960 - accuracy: 0.5250\n",
      "Epoch 16/40\n",
      "2/2 [==============================] - 0s 33ms/step - loss: 1.3888 - accuracy: 0.5000\n",
      "Epoch 17/40\n",
      "2/2 [==============================] - 0s 30ms/step - loss: 1.2241 - accuracy: 0.5500\n",
      "Epoch 18/40\n",
      "2/2 [==============================] - 0s 30ms/step - loss: 1.3254 - accuracy: 0.4750\n",
      "Epoch 19/40\n",
      "2/2 [==============================] - 0s 31ms/step - loss: 1.1212 - accuracy: 0.6500\n",
      "Epoch 20/40\n",
      "2/2 [==============================] - 0s 30ms/step - loss: 1.0528 - accuracy: 0.6000\n",
      "Epoch 21/40\n",
      "2/2 [==============================] - 0s 31ms/step - loss: 0.9343 - accuracy: 0.6250\n",
      "Epoch 22/40\n",
      "2/2 [==============================] - 0s 36ms/step - loss: 0.8296 - accuracy: 0.7750\n",
      "Epoch 23/40\n",
      "2/2 [==============================] - 0s 37ms/step - loss: 0.7192 - accuracy: 0.7500\n",
      "Epoch 24/40\n",
      "2/2 [==============================] - 0s 33ms/step - loss: 0.7567 - accuracy: 0.7500\n",
      "Epoch 25/40\n",
      "2/2 [==============================] - 0s 29ms/step - loss: 0.6590 - accuracy: 0.7750\n",
      "Epoch 26/40\n",
      "2/2 [==============================] - 0s 31ms/step - loss: 0.7055 - accuracy: 0.8000\n",
      "Epoch 27/40\n",
      "2/2 [==============================] - 0s 30ms/step - loss: 0.6325 - accuracy: 0.8500\n",
      "Epoch 28/40\n",
      "2/2 [==============================] - 0s 31ms/step - loss: 0.5519 - accuracy: 0.8250\n",
      "Epoch 29/40\n",
      "2/2 [==============================] - 0s 31ms/step - loss: 0.4496 - accuracy: 0.8500\n",
      "Epoch 30/40\n",
      "2/2 [==============================] - 0s 30ms/step - loss: 0.5366 - accuracy: 0.8250\n",
      "Epoch 31/40\n",
      "2/2 [==============================] - 0s 28ms/step - loss: 0.2883 - accuracy: 0.9250\n",
      "Epoch 32/40\n",
      "2/2 [==============================] - 0s 29ms/step - loss: 0.3426 - accuracy: 0.9250\n",
      "Epoch 33/40\n",
      "2/2 [==============================] - 0s 31ms/step - loss: 0.3593 - accuracy: 0.9000\n",
      "Epoch 34/40\n",
      "2/2 [==============================] - 0s 30ms/step - loss: 0.3432 - accuracy: 0.8750\n",
      "Epoch 35/40\n",
      "2/2 [==============================] - 0s 30ms/step - loss: 0.4153 - accuracy: 0.8750\n",
      "Epoch 36/40\n",
      "2/2 [==============================] - 0s 32ms/step - loss: 0.2938 - accuracy: 0.8500\n",
      "Epoch 37/40\n",
      "2/2 [==============================] - 0s 30ms/step - loss: 0.3097 - accuracy: 0.9000\n",
      "Epoch 38/40\n",
      "2/2 [==============================] - 0s 30ms/step - loss: 0.2039 - accuracy: 0.9000\n",
      "Epoch 39/40\n",
      "2/2 [==============================] - 0s 31ms/step - loss: 0.3487 - accuracy: 0.8500\n",
      "Epoch 40/40\n",
      "2/2 [==============================] - 0s 31ms/step - loss: 0.1945 - accuracy: 0.9000\n"
     ]
    }
   ],
   "source": [
    "probabilistic_model.fit(X,y,tensorboard_log_dir=\"tutorial/data\")\n",
    "accuracy_probabilistic = probabilistic_model.score(X, y)"
   ]
  },
  {
   "cell_type": "markdown",
   "id": "a76263a6",
   "metadata": {},
   "source": [
    "### The estimation of the probability is now the mean of the distribution of the prediction"
   ]
  },
  {
   "cell_type": "markdown",
   "id": "f4b66a4c",
   "metadata": {},
   "source": [
    "The output of the model is not a **vector** but a **distribution** we can :\n",
    "- sample\n",
    "- compute mean\n",
    "- compute std"
   ]
  },
  {
   "cell_type": "code",
   "execution_count": 15,
   "id": "b9ca2fe4",
   "metadata": {},
   "outputs": [
    {
     "name": "stdout",
     "output_type": "stream",
     "text": [
      "<class 'tensorflow_probability.python.util.deferred_tensor.OneHotCategorical'>\n"
     ]
    }
   ],
   "source": [
    "X_input = probabilistic_model.prepare_email_to_predict(X)\n",
    "output = probabilistic_model.model(X_input)\n",
    "print(type(output)) # this is not a numeric output ! the output is a distribution"
   ]
  },
  {
   "cell_type": "markdown",
   "id": "ca0ea943",
   "metadata": {},
   "source": [
    "#### We can have a **point estimation** using the **mode** or the **mean**"
   ]
  },
  {
   "cell_type": "code",
   "execution_count": 16,
   "id": "5e58f2ba",
   "metadata": {},
   "outputs": [
    {
     "data": {
      "text/plain": [
       "array([[0. , 0. , 0. , 0. , 0.1, 0. , 0. , 0. , 0. , 0. , 0.9],\n",
       "       [0. , 0. , 0. , 0. , 0. , 0. , 0. , 0. , 0. , 0. , 0.9]],\n",
       "      dtype=float32)"
      ]
     },
     "execution_count": 16,
     "metadata": {},
     "output_type": "execute_result"
    }
   ],
   "source": [
    "output.mean().numpy().round(1)[:2]"
   ]
  },
  {
   "cell_type": "code",
   "execution_count": 17,
   "id": "43d7d32b",
   "metadata": {},
   "outputs": [
    {
     "data": {
      "text/plain": [
       "<tf.Tensor: shape=(2, 11), dtype=float32, numpy=\n",
       "array([[0., 0., 0., 0., 0., 0., 0., 0., 0., 0., 1.],\n",
       "       [0., 0., 0., 0., 0., 0., 0., 0., 0., 0., 1.]], dtype=float32)>"
      ]
     },
     "execution_count": 17,
     "metadata": {},
     "output_type": "execute_result"
    }
   ],
   "source": [
    "output.mode()[:2]"
   ]
  },
  {
   "cell_type": "markdown",
   "id": "bf623db7",
   "metadata": {},
   "source": [
    "#### We can have the **standard deviation** of the distributions"
   ]
  },
  {
   "cell_type": "code",
   "execution_count": 18,
   "id": "20ae0d64",
   "metadata": {},
   "outputs": [
    {
     "data": {
      "text/plain": [
       "array([[0. , 0. , 0. , 0.1, 0.2, 0. , 0.1, 0. , 0. , 0. , 0.2],\n",
       "       [0.1, 0. , 0.1, 0.2, 0.1, 0. , 0.1, 0. , 0.1, 0.1, 0.2]],\n",
       "      dtype=float32)"
      ]
     },
     "execution_count": 18,
     "metadata": {},
     "output_type": "execute_result"
    }
   ],
   "source": [
    "output.stddev().numpy().round(1)[:2]"
   ]
  },
  {
   "cell_type": "markdown",
   "id": "38210b41",
   "metadata": {},
   "source": [
    "#### We can even **sample** the distributions\n",
    "**this sampling will have different results at each execution !**"
   ]
  },
  {
   "cell_type": "code",
   "execution_count": 19,
   "id": "c6098c55",
   "metadata": {},
   "outputs": [
    {
     "data": {
      "text/plain": [
       "array(['vehicule', 'vehicule', 'bilan', 'vehicule', 'vehicule',\n",
       "       'vehicule', 'regularisation', 'vehicule', 'succession', 'vehicule'],\n",
       "      dtype=object)"
      ]
     },
     "execution_count": 19,
     "metadata": {},
     "output_type": "execute_result"
    }
   ],
   "source": [
    "sampling_of_predictions = output.sample()[:10]\n",
    "sampled_labels = np.argmax(sampling_of_predictions, axis=1)\n",
    "le.inverse_transform(sampled_labels)"
   ]
  },
  {
   "cell_type": "markdown",
   "id": "7cc167ff",
   "metadata": {},
   "source": [
    "#### The mode can be used for `predict`"
   ]
  },
  {
   "cell_type": "code",
   "execution_count": 20,
   "id": "64106838",
   "metadata": {},
   "outputs": [
    {
     "data": {
      "text/plain": [
       "array(['vehicule', 'vehicule'], dtype=object)"
      ]
     },
     "execution_count": 20,
     "metadata": {},
     "output_type": "execute_result"
    }
   ],
   "source": [
    "prediction = probabilistic_model.predict(X)[:2]\n",
    "le.inverse_transform(prediction)"
   ]
  },
  {
   "cell_type": "markdown",
   "id": "1622863e",
   "metadata": {},
   "source": [
    "#### The mean is used for `predict_proba`"
   ]
  },
  {
   "cell_type": "code",
   "execution_count": 21,
   "id": "8e36d785",
   "metadata": {
    "scrolled": true
   },
   "outputs": [
    {
     "data": {
      "text/plain": [
       "array([[0. , 0. , 0. , 0. , 0.1, 0. , 0. , 0. , 0. , 0. , 0.9],\n",
       "       [0. , 0. , 0. , 0. , 0. , 0. , 0. , 0. , 0. , 0. , 0.9]],\n",
       "      dtype=float32)"
      ]
     },
     "execution_count": 21,
     "metadata": {},
     "output_type": "execute_result"
    }
   ],
   "source": [
    "probabilistic_model.predict_proba(X).round(1)[:2]"
   ]
  },
  {
   "cell_type": "markdown",
   "id": "999094d0",
   "metadata": {},
   "source": [
    "#### And prediction intervals are made by combining **mean** and **std** (gaussian hypothesis)\n",
    "We could also imagine to sample multiple times the distribution and use the samples to estimate uncertainty."
   ]
  },
  {
   "cell_type": "code",
   "execution_count": 22,
   "id": "1ab3d7d8",
   "metadata": {},
   "outputs": [],
   "source": [
    "score, inf, sup = probabilistic_model.predict_proba(X, prediction_interval=0.95)"
   ]
  },
  {
   "cell_type": "code",
   "execution_count": 23,
   "id": "b62838af",
   "metadata": {},
   "outputs": [
    {
     "data": {
      "text/plain": [
       "array([[0. , 0. , 0. , 0. , 0. , 0. , 0. , 0. , 0. , 0. , 0.5],\n",
       "       [0. , 0. , 0. , 0. , 0. , 0. , 0. , 0. , 0. , 0. , 0.9]],\n",
       "      dtype=float32)"
      ]
     },
     "execution_count": 23,
     "metadata": {},
     "output_type": "execute_result"
    }
   ],
   "source": [
    "inf.round(1)[-2:] # lower_boundary"
   ]
  },
  {
   "cell_type": "code",
   "execution_count": 24,
   "id": "80a0c8cb",
   "metadata": {},
   "outputs": [
    {
     "data": {
      "text/plain": [
       "array([[0. , 0. , 0. , 0.1, 0.5, 0. , 0.1, 0. , 0. , 0. , 1. ],\n",
       "       [0. , 0. , 0. , 0.1, 0.1, 0. , 0. , 0. , 0. , 0. , 1. ]],\n",
       "      dtype=float32)"
      ]
     },
     "execution_count": 24,
     "metadata": {},
     "output_type": "execute_result"
    }
   ],
   "source": [
    "sup.round(1)[-2:] # upper_boundary"
   ]
  },
  {
   "cell_type": "code",
   "execution_count": 25,
   "id": "8ad4f692",
   "metadata": {},
   "outputs": [],
   "source": [
    "import matplotlib.pyplot as plt\n",
    "ntargets = 11\n",
    "\n",
    "\n",
    "def analyse_and_plot_model_predictions(data, true_labels, nn_model, text_num, pi=0.95):\n",
    "    \"\"\"\n",
    "    Make plots of the probabilities that the model estimates for a given text\n",
    "    \"\"\"\n",
    "    true_label = true_labels[text_num]\n",
    "    true_label_decoded = le.inverse_transform([true_label])[0]\n",
    "    print('True label: \\033[1m \\033[92m {} \\033[0m'.format(str(true_label_decoded)))\n",
    "    print('Clean text: ', data.loc[text_num, \"clean_text\"])\n",
    "    model_prediction, pct_low, pct_up = nn_model.predict_proba(data.loc[text_num:text_num], prediction_interval=pi)\n",
    "    model_prediction, pct_low, pct_up = model_prediction[0], pct_low[0], pct_up[0]\n",
    "    x_pos = np.arange(ntargets)\n",
    "    bar = plt.bar(x_pos, pct_up, color='red')\n",
    "    all_categories_decoded = le.inverse_transform(np.arange(ntargets))\n",
    "    plt.xticks(x_pos, all_categories_decoded, color='black', rotation=45, fontweight='bold', fontsize='10', horizontalalignment='right')\n",
    "    ax = plt.gca()\n",
    "    labels = ax.get_xticklabels()\n",
    "    ticks = ax.get_xticks()\n",
    "    for label, tick in zip(labels, ticks):\n",
    "        if tick == true_label:\n",
    "            label.set_color('green')\n",
    "    bar[true_label].set_color('green')\n",
    "    plt.bar(np.arange(ntargets), pct_low-0.02, color='white', linewidth=1, edgecolor='white')\n",
    "    plt.ylim([0, 1])\n",
    "    plt.ylabel('Probability')\n",
    "    plt.title('Model estimated probabilities') \n",
    "    plt.show()"
   ]
  },
  {
   "cell_type": "code",
   "execution_count": 26,
   "id": "0d661dd3",
   "metadata": {},
   "outputs": [
    {
     "name": "stdout",
     "output_type": "stream",
     "text": [
      "True label: \u001b[1m \u001b[92m vehicule \u001b[0m\n",
      "Clean text:  immatriculation voiture je vous informe que la nouvelle immatriculation est enfin faite. je vous prie de trouver donc la carte grise ainsi que la nouvelle immatriculation. je vous demanderai de faire les changements necessaires concernant lassurance.\n"
     ]
    },
    {
     "data": {
      "image/png": "[encoded data removed]",
      "text/plain": [
       "<Figure size 432x288 with 1 Axes>"
      ]
     },
     "metadata": {
      "needs_background": "light"
     },
     "output_type": "display_data"
    }
   ],
   "source": [
    "i = 1\n",
    "analyse_and_plot_model_predictions(X, y, probabilistic_model, text_num=i, pi=0.95)"
   ]
  },
  {
   "cell_type": "markdown",
   "id": "cdcca613",
   "metadata": {},
   "source": [
    "So instead of just having a point estimation score of being a `vehicle` verbatim (score=0.8) we can have uncertainty estimation around a point estimation (the score of being `vehicle` verbatim is in the interval [0.5 ; 1] with a 95% prediction interval)."
   ]
  },
  {
   "cell_type": "markdown",
   "id": "e5f0e4cd",
   "metadata": {},
   "source": [
    "### Disclaimer\n",
    "The dataset of this melusine tutorial is so small (40 emails) the model is always drawing large intervals. On the previous example the prediction interval may be [0;1] (thank you captain obvious). We would rather consider small (more informative) intervals.\n",
    "\n",
    "\n",
    "But if we apply this method on a large public datasets (like the movies dataset : 100 000 movies plots) we can see predictions with less uncertainty as on the following image. With disjointed intervals.\n",
    "\n",
    "<img src=\"images/uncertainty-on-movies-dataset.png\" width=400 height=400 />\n",
    "\n",
    "To let us see small interval (as a sanity check) we also can choose a very small prediction interval (0.2 instead of 0.95, but obviously 0.2 is not a serious value for prediction intervals) as on the following."
   ]
  },
  {
   "cell_type": "code",
   "execution_count": 27,
   "id": "5c1399d7",
   "metadata": {},
   "outputs": [
    {
     "name": "stdout",
     "output_type": "stream",
     "text": [
      "True label: \u001b[1m \u001b[92m vehicule \u001b[0m\n",
      "Clean text:  assurance vehicules je me permets de venir vers vous car depuis le debut de lannee, nous avons des difficultes pour assurer nos vehicules. ces derniers jours, vous nous avez fait parvenir le detail des denominations et des niveau dassurance de chaque vehicule. merci deffectuer ces changements dans lattente de votre retour\n"
     ]
    },
    {
     "data": {
      "image/png": "[encoded data removed]",
      "text/plain": [
       "<Figure size 432x288 with 1 Axes>"
      ]
     },
     "metadata": {
      "needs_background": "light"
     },
     "output_type": "display_data"
    }
   ],
   "source": [
    "i = 7\n",
    "analyse_and_plot_model_predictions(X, y, probabilistic_model, text_num=i, pi=0.2) # warn : this prediction interval is too small !!!"
   ]
  },
  {
   "cell_type": "markdown",
   "id": "74397f38",
   "metadata": {},
   "source": [
    "# To go further : variational neural networks\n",
    "We can try a variational neural networks : [`Flipout`](https://www.tensorflow.org/probability/api_docs/python/tfp/layers/conv_variational)"
   ]
  },
  {
   "cell_type": "code",
   "execution_count": 28,
   "id": "bceb5fc7",
   "metadata": {},
   "outputs": [],
   "source": [
    "from melusine.models.probabilistic_neural_architectures import flipout_cnn_model\n",
    "flipout_nn_model = NeuralModel(architecture_function=flipout_cnn_model,\n",
    "                       pretrained_embedding=pretrained_embedding,\n",
    "                       text_input_column=\"clean_text\",\n",
    "                       batch_size=20,\n",
    "                       meta_input_list=['extension','attachment_type', 'dayofweek', 'hour', 'min'],\n",
    "                       n_epochs=40)"
   ]
  },
  {
   "cell_type": "code",
   "execution_count": 29,
   "id": "67cadd1c",
   "metadata": {},
   "outputs": [
    {
     "name": "stdout",
     "output_type": "stream",
     "text": [
      "Epoch 1/40\n",
      "2/2 [==============================] - 2s 23ms/step - loss: 18792.0059 - accuracy: 0.0500\n",
      "Epoch 2/40\n",
      "2/2 [==============================] - 0s 22ms/step - loss: 18776.3789 - accuracy: 0.0500\n",
      "Epoch 3/40\n",
      "2/2 [==============================] - 0s 22ms/step - loss: 18760.7812 - accuracy: 0.0500\n",
      "Epoch 4/40\n",
      "2/2 [==============================] - 0s 21ms/step - loss: 18745.2148 - accuracy: 0.0500\n",
      "Epoch 5/40\n",
      "2/2 [==============================] - 0s 21ms/step - loss: 18729.6836 - accuracy: 0.0500\n",
      "Epoch 6/40\n",
      "2/2 [==============================] - 0s 22ms/step - loss: 18714.1816 - accuracy: 0.0500\n",
      "Epoch 7/40\n",
      "2/2 [==============================] - 0s 22ms/step - loss: 18698.7129 - accuracy: 0.0500\n",
      "Epoch 8/40\n",
      "2/2 [==============================] - 0s 22ms/step - loss: 18683.2754 - accuracy: 0.0500\n",
      "Epoch 9/40\n",
      "2/2 [==============================] - 0s 23ms/step - loss: 18667.8652 - accuracy: 0.0500\n",
      "Epoch 10/40\n",
      "2/2 [==============================] - 0s 23ms/step - loss: 18652.4883 - accuracy: 0.0500\n",
      "Epoch 11/40\n",
      "2/2 [==============================] - 0s 21ms/step - loss: 18637.1445 - accuracy: 0.0500\n",
      "Epoch 12/40\n",
      "2/2 [==============================] - 0s 23ms/step - loss: 18621.8242 - accuracy: 0.0500\n",
      "Epoch 13/40\n",
      "2/2 [==============================] - 0s 24ms/step - loss: 18606.5352 - accuracy: 0.0500\n",
      "Epoch 14/40\n",
      "2/2 [==============================] - 0s 23ms/step - loss: 18591.2715 - accuracy: 0.0500\n",
      "Epoch 15/40\n",
      "2/2 [==============================] - 0s 24ms/step - loss: 18576.0391 - accuracy: 0.0500\n",
      "Epoch 16/40\n",
      "2/2 [==============================] - 0s 25ms/step - loss: 18560.8340 - accuracy: 0.0500\n",
      "Epoch 17/40\n",
      "2/2 [==============================] - 0s 23ms/step - loss: 18545.6562 - accuracy: 0.0500\n",
      "Epoch 18/40\n",
      "2/2 [==============================] - 0s 22ms/step - loss: 18530.5039 - accuracy: 0.0500\n",
      "Epoch 19/40\n",
      "2/2 [==============================] - 0s 23ms/step - loss: 18515.3770 - accuracy: 0.0500\n",
      "Epoch 20/40\n",
      "2/2 [==============================] - 0s 23ms/step - loss: 18500.2695 - accuracy: 0.0500\n",
      "Epoch 21/40\n",
      "2/2 [==============================] - 0s 23ms/step - loss: 18485.1875 - accuracy: 0.0500\n",
      "Epoch 22/40\n",
      "2/2 [==============================] - 0s 28ms/step - loss: 18470.1309 - accuracy: 0.0500\n",
      "Epoch 23/40\n",
      "2/2 [==============================] - 0s 31ms/step - loss: 18455.0938 - accuracy: 0.0750\n",
      "Epoch 24/40\n",
      "2/2 [==============================] - 0s 23ms/step - loss: 18440.0781 - accuracy: 0.0750\n",
      "Epoch 25/40\n",
      "2/2 [==============================] - 0s 26ms/step - loss: 18425.0820 - accuracy: 0.0500\n",
      "Epoch 26/40\n",
      "2/2 [==============================] - 0s 24ms/step - loss: 18410.1055 - accuracy: 0.1000\n",
      "Epoch 27/40\n",
      "2/2 [==============================] - 0s 23ms/step - loss: 18395.1523 - accuracy: 0.1250\n",
      "Epoch 28/40\n",
      "2/2 [==============================] - 0s 21ms/step - loss: 18380.2129 - accuracy: 0.1000\n",
      "Epoch 29/40\n",
      "2/2 [==============================] - 0s 22ms/step - loss: 18365.2930 - accuracy: 0.1500\n",
      "Epoch 30/40\n",
      "2/2 [==============================] - 0s 21ms/step - loss: 18350.3945 - accuracy: 0.1500\n",
      "Epoch 31/40\n",
      "2/2 [==============================] - 0s 21ms/step - loss: 18335.5059 - accuracy: 0.1750\n",
      "Epoch 32/40\n",
      "2/2 [==============================] - 0s 22ms/step - loss: 18320.6367 - accuracy: 0.1500\n",
      "Epoch 33/40\n",
      "2/2 [==============================] - 0s 21ms/step - loss: 18305.7871 - accuracy: 0.1500\n",
      "Epoch 34/40\n",
      "2/2 [==============================] - 0s 22ms/step - loss: 18290.9473 - accuracy: 0.1500\n",
      "Epoch 35/40\n",
      "2/2 [==============================] - 0s 22ms/step - loss: 18276.1250 - accuracy: 0.1500\n",
      "Epoch 36/40\n",
      "2/2 [==============================] - 0s 23ms/step - loss: 18261.3164 - accuracy: 0.1500\n",
      "Epoch 37/40\n",
      "2/2 [==============================] - 0s 21ms/step - loss: 18246.5195 - accuracy: 0.1500\n",
      "Epoch 38/40\n",
      "2/2 [==============================] - 0s 26ms/step - loss: 18231.7383 - accuracy: 0.1500\n",
      "Epoch 39/40\n",
      "2/2 [==============================] - 0s 23ms/step - loss: 18216.9688 - accuracy: 0.1500\n",
      "Epoch 40/40\n",
      "2/2 [==============================] - 0s 22ms/step - loss: 18202.2129 - accuracy: 0.1500\n"
     ]
    }
   ],
   "source": [
    "flipout_nn_model.fit(X,y,tensorboard_log_dir=\"tutorial/data\")\n",
    "accuracy_flipout= flipout_nn_model.score(X, y)"
   ]
  },
  {
   "cell_type": "code",
   "execution_count": 30,
   "id": "2b7a17e2",
   "metadata": {},
   "outputs": [
    {
     "name": "stdout",
     "output_type": "stream",
     "text": [
      "Model: \"model_2\"\n",
      "__________________________________________________________________________________________________\n",
      " Layer (type)                   Output Shape         Param #     Connected to                     \n",
      "==================================================================================================\n",
      " input_5 (InputLayer)           [(None, 100)]        0           []                               \n",
      "                                                                                                  \n",
      " embedding_2 (Embedding)        (None, 100, 300)     6900        ['input_5[0][0]']                \n",
      "                                                                                                  \n",
      " conv1d_flipout (Conv1DFlipout)  (None, 100, 128)    230528      ['embedding_2[0][0]']            \n",
      "                                                                                                  \n",
      " input_6 (InputLayer)           [(None, 66)]         0           []                               \n",
      "                                                                                                  \n",
      " global_max_pooling1d_2 (Global  (None, 128)         0           ['conv1d_flipout[0][0]']         \n",
      " MaxPooling1D)                                                                                    \n",
      "                                                                                                  \n",
      " dense_flipout (DenseFlipout)   (None, 64)           8512        ['input_6[0][0]']                \n",
      "                                                                                                  \n",
      " concatenate_2 (Concatenate)    (None, 192)          0           ['global_max_pooling1d_2[0][0]', \n",
      "                                                                  'dense_flipout[0][0]']          \n",
      "                                                                                                  \n",
      " dense_flipout_1 (DenseFlipout)  (None, 64)          24640       ['concatenate_2[0][0]']          \n",
      "                                                                                                  \n",
      " dense_flipout_2 (DenseFlipout)  (None, 11)          1419        ['dense_flipout_1[0][0]']        \n",
      "                                                                                                  \n",
      " one_hot_categorical_1 (OneHotC  ((None, 11),        0           ['dense_flipout_2[0][0]']        \n",
      " ategorical)                     (None, 11))                                                      \n",
      "                                                                                                  \n",
      "==================================================================================================\n",
      "Total params: 271,999\n",
      "Trainable params: 265,099\n",
      "Non-trainable params: 6,900\n",
      "__________________________________________________________________________________________________\n"
     ]
    }
   ],
   "source": [
    "flipout_nn_model.model.summary()"
   ]
  },
  {
   "cell_type": "markdown",
   "id": "b195258e",
   "metadata": {},
   "source": [
    "### Another disclaimer\n",
    "The tutorial dataset is too small (40 emails) for the flipout model.\n",
    "\n",
    "This kind of model needs a lot of data and is difficult to configure."
   ]
  },
  {
   "cell_type": "code",
   "execution_count": 31,
   "id": "6c418725",
   "metadata": {},
   "outputs": [
    {
     "name": "stdout",
     "output_type": "stream",
     "text": [
      "True label: \u001b[1m \u001b[92m vehicule \u001b[0m\n",
      "Clean text:  immatriculation voiture je vous informe que la nouvelle immatriculation est enfin faite. je vous prie de trouver donc la carte grise ainsi que la nouvelle immatriculation. je vous demanderai de faire les changements necessaires concernant lassurance.\n"
     ]
    },
    {
     "data": {
      "image/png": "[encoded data removed]",
      "text/plain": [
       "<Figure size 432x288 with 1 Axes>"
      ]
     },
     "metadata": {
      "needs_background": "light"
     },
     "output_type": "display_data"
    }
   ],
   "source": [
    "i = 1\n",
    "analyse_and_plot_model_predictions(X, y, flipout_nn_model, i)"
   ]
  },
  {
   "cell_type": "markdown",
   "id": "4ffe27d4",
   "metadata": {},
   "source": [
    "### Quick summary\n",
    "We show 2 probabilistic models :\n",
    "- **basic probabilistic** model with just a [OneHotCategorical](https://www.tensorflow.org/probability/api_docs/python/tfp/layers/OneHotCategorical) as last (prediction) layer\n",
    "\n",
    "- **flipout** model with [Convolution1DFlipout](https://www.tensorflow.org/probability/api_docs/python/tfp/layers/Convolution1DFlipout) layers\n",
    "\n",
    "We made simulations on a larger dataset (the movies plots dataset) to see if the probabilistic models had a good enough performance.\n",
    "\n",
    "The basic probabilistic model is an effective lowcost solution to have uncertainty estimation of the prediction without any performance loss.\n",
    "\n",
    "On our case, we did not manage to design a variational (flipout) neural architecture to get this level of performance."
   ]
  },
  {
   "cell_type": "markdown",
   "id": "2ae71f13",
   "metadata": {},
   "source": [
    "## Practical - *What is it for ?*\n",
    "\n",
    "If you are using Melusine in an automated task, you may need to estimate the **uncertainty** of your decisions. Especially if an error can have consequences for your end-users.\n",
    "\n",
    "Maybe have you planned to use a *threshold on the point estimation* to automate your decision :\n",
    "\n",
    "\n",
    "````python\n",
    "    if score>0.7:\n",
    "        we automate the decision\n",
    "    else:\n",
    "        the decision will be validated manually\n",
    "````\n",
    "\n",
    "\n",
    "\n",
    "**This is a good start. But is it enough ?**\n",
    "\n",
    "Indeed imagine your *point estimation* tells you this email has a `score=0.75 of beeing an adhesion email` but what is the **uncertainty around this point estimation** ? Maybe the uncertainty around this point estimation is so large that your estimation is in fact in the interval `[0.55;0.95]`, in this case are sure you can automate this decision ? \n",
    "\n",
    "Instead of using threshold on a **point estimation**, you could rely on a threshold on the **lower bound of the prediction interval** and better managing your **risk of error**. So you will automise the email your model categorize with a high **point estimation** AND a **low uncertainty**."
   ]
  },
  {
   "cell_type": "code",
   "execution_count": 32,
   "id": "dbb1c7c9",
   "metadata": {},
   "outputs": [
    {
     "name": "stdout",
     "output_type": "stream",
     "text": [
      "1/1 [==============================] - 0s 21ms/step\n"
     ]
    },
    {
     "data": {
      "text/plain": [
       "array([[0.01, 0.  , 0.04, 0.  , 0.  , 0.02, 0.02, 0.  , 0.  , 0.  , 0.91]],\n",
       "      dtype=float32)"
      ]
     },
     "execution_count": 32,
     "metadata": {},
     "output_type": "execute_result"
    }
   ],
   "source": [
    "email_to_predict = X.loc[1:1]\n",
    "deterministic_nn_model.predict_proba(email_to_predict).round(2)"
   ]
  },
  {
   "cell_type": "markdown",
   "id": "6f8cc727",
   "metadata": {},
   "source": [
    "The **point estimation** of the deterministic model is around `0.9` for beeing a `vehicle email`"
   ]
  },
  {
   "cell_type": "code",
   "execution_count": 36,
   "id": "562bf95b",
   "metadata": {},
   "outputs": [],
   "source": [
    "point_estimation, lower_bound, upper_bound = probabilistic_model.predict_proba(email_to_predict, prediction_interval=0.95)"
   ]
  },
  {
   "cell_type": "code",
   "execution_count": 35,
   "id": "9858e057",
   "metadata": {},
   "outputs": [
    {
     "data": {
      "text/plain": [
       "array([[0.  , 0.  , 0.01, 0.03, 0.01, 0.  , 0.01, 0.  , 0.  , 0.  , 0.94]],\n",
       "      dtype=float32)"
      ]
     },
     "execution_count": 35,
     "metadata": {},
     "output_type": "execute_result"
    }
   ],
   "source": [
    "point_estimation.round(2)"
   ]
  },
  {
   "cell_type": "markdown",
   "id": "72e7ae79",
   "metadata": {},
   "source": [
    "The probabilistic model also gives a **point estimation** near 0.9."
   ]
  },
  {
   "cell_type": "code",
   "execution_count": 37,
   "id": "5b006f6b",
   "metadata": {},
   "outputs": [
    {
     "data": {
      "text/plain": [
       "array([[0.  , 0.  , 0.  , 0.  , 0.  , 0.  , 0.  , 0.  , 0.  , 0.  , 0.46]],\n",
       "      dtype=float32)"
      ]
     },
     "execution_count": 37,
     "metadata": {},
     "output_type": "execute_result"
    }
   ],
   "source": [
    "lower_bound.round(2)"
   ]
  },
  {
   "cell_type": "markdown",
   "id": "e693aec3",
   "metadata": {},
   "source": [
    "But it also gives us a **lower bound** ! (and also **upper bound** but in this particular case we don't use it)\n",
    "\n",
    "Even if the point estimation is also high we could decide the lower bound is too low and so the uncertainty is too high to automate the decision. \n",
    "\n",
    "If we choose to apply a threshold on the **lower bound** of this prediction, we can conclude our model is **not confident enough to automate this decision**"
   ]
  }
 ],
 "metadata": {
  "environment": {
   "name": "tf2-gpu.2-5.m76",
   "type": "gcloud",
   "uri": "gcr.io/deeplearning-platform-release/tf2-gpu.2-5:m76"
  },
  "interpreter": {
   "hash": "31659fd95575785888a0925c53e16fda128af122d9bf30d053d8251d24200cc8"
  },
  "kernelspec": {
   "display_name": "Python 3",
   "language": "python",
   "name": "python3"
  },
  "language_info": {
   "codemirror_mode": {
    "name": "ipython",
    "version": 3
   },
   "file_extension": ".py",
   "mimetype": "text/x-python",
   "name": "python",
   "nbconvert_exporter": "python",
   "pygments_lexer": "ipython3",
   "version": "3.7.10"
  }
 },
 "nbformat": 4,
 "nbformat_minor": 5
}
