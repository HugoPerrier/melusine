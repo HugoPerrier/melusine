{
 "cells": [
  {
   "cell_type": "code",
   "execution_count": 13,
   "id": "c8fdf508",
   "metadata": {},
   "outputs": [
    {
     "name": "stdout",
     "output_type": "stream",
     "text": [
      "The autoreload extension is already loaded. To reload it, use:\n",
      "  %reload_ext autoreload\n"
     ]
    }
   ],
   "source": [
    "%load_ext autoreload\n",
    "%autoreload 2"
   ]
  },
  {
   "cell_type": "code",
   "execution_count": 1,
   "id": "334c43b5",
   "metadata": {},
   "outputs": [],
   "source": [
    "import warnings\n",
    "warnings.simplefilter(action='ignore')\n",
    "import numpy as np\n",
    "import pandas as pd\n",
    "from copy import deepcopy\n",
    "from sklearn.preprocessing import LabelEncoder\n",
    "\n",
    "from melusine import load_email_data\n",
    "\n",
    "# Text input \n",
    "df_emails_preprocessed = load_email_data(type=\"full\")\n",
    "df_emails_preprocessed['clean_text'] = df_emails_preprocessed['clean_header'] + \" \" + df_emails_preprocessed['clean_body']"
   ]
  },
  {
   "cell_type": "code",
   "execution_count": 2,
   "id": "94f743d9",
   "metadata": {},
   "outputs": [],
   "source": [
    "# Requirement : have a pretrained Embedding\n",
    "from melusine.nlp_tools.embedding import Embedding\n",
    "pretrained_embedding = Embedding(tokens_column=\"tokens\", workers=1, min_count=5)\n",
    "pretrained_embedding.train(df_emails_preprocessed)"
   ]
  },
  {
   "cell_type": "code",
   "execution_count": 3,
   "id": "69ffe693",
   "metadata": {},
   "outputs": [],
   "source": [
    "# Metadata input\n",
    "df_meta = pd.read_csv('/home/jupyter/melusine/melusine/data/metadata.csv', encoding='utf-8', sep=',')\n",
    "\n",
    "# Dataset\n",
    "X = pd.concat([df_emails_preprocessed['clean_text'],df_meta],axis=1)\n",
    "y = df_emails_preprocessed['label']\n",
    "le = LabelEncoder()\n",
    "y = le.fit_transform(y)"
   ]
  },
  {
   "cell_type": "code",
   "execution_count": 4,
   "id": "74be61de",
   "metadata": {},
   "outputs": [],
   "source": [
    "import ast\n",
    "import pandas as pd\n",
    "import numpy as np\n",
    "df_emails_preprocessed = pd.read_pickle('/home/jupyter/melusine/melusine/data/emails_preprocessed.pkl')\n",
    "\n",
    "df_emails_preprocessed['clean_header'] = df_emails_preprocessed['clean_header'].astype(str)\n",
    "df_emails_preprocessed['clean_body'] = df_emails_preprocessed['clean_body'].astype(str)\n",
    "df_emails_preprocessed['attachment'] = df_emails_preprocessed['attachment'].apply(ast.literal_eval)\n",
    "df_emails_preprocessed['clean_text'] = df_emails_preprocessed['clean_header'] + \" \" + df_emails_preprocessed['clean_body']"
   ]
  },
  {
   "cell_type": "code",
   "execution_count": 5,
   "id": "61ffae38",
   "metadata": {},
   "outputs": [],
   "source": [
    "X = pd.concat([df_emails_preprocessed['clean_text'],df_meta],axis=1)"
   ]
  },
  {
   "cell_type": "code",
   "execution_count": 6,
   "id": "4f0a8a55",
   "metadata": {},
   "outputs": [],
   "source": [
    "from sklearn.preprocessing import LabelEncoder\n",
    "y = df_emails_preprocessed['label']\n",
    "le = LabelEncoder()\n",
    "y = le.fit_transform(y)"
   ]
  },
  {
   "cell_type": "code",
   "execution_count": 7,
   "id": "58223d55",
   "metadata": {},
   "outputs": [],
   "source": [
    "from melusine.models.train import NeuralModel"
   ]
  },
  {
   "cell_type": "code",
   "execution_count": 8,
   "id": "83facc9e",
   "metadata": {},
   "outputs": [
    {
     "data": {
      "text/plain": [
       "11"
      ]
     },
     "execution_count": 8,
     "metadata": {},
     "output_type": "execute_result"
    }
   ],
   "source": [
    "len(np.unique(y))"
   ]
  },
  {
   "cell_type": "markdown",
   "id": "00eec5e9",
   "metadata": {},
   "source": [
    "# Deterministic model"
   ]
  },
  {
   "cell_type": "markdown",
   "id": "e024dc0c",
   "metadata": {},
   "source": [
    "#### The deterministic model is able to give us **point estimation**. "
   ]
  },
  {
   "cell_type": "code",
   "execution_count": 9,
   "id": "2270be76",
   "metadata": {},
   "outputs": [],
   "source": [
    "from melusine.models.neural_architectures import cnn_model\n",
    "deterministic_nn_model = NeuralModel(architecture_function=cnn_model,\n",
    "                       pretrained_embedding=pretrained_embedding,\n",
    "                       text_input_column=\"clean_text\",\n",
    "                       batch_size=20,\n",
    "                       meta_input_list=['extension','attachment_type', 'dayofweek', 'hour', 'min'],\n",
    "                       n_epochs=40)"
   ]
  },
  {
   "cell_type": "code",
   "execution_count": 10,
   "id": "8f0172a4",
   "metadata": {},
   "outputs": [
    {
     "name": "stdout",
     "output_type": "stream",
     "text": [
      "Epoch 1/40\n",
      "2/2 [==============================] - 2s 223ms/step - loss: 2.3748 - accuracy: 0.1750\n",
      "Epoch 2/40\n",
      "2/2 [==============================] - 0s 59ms/step - loss: 2.2858 - accuracy: 0.3000\n",
      "Epoch 3/40\n",
      "2/2 [==============================] - 0s 58ms/step - loss: 2.0559 - accuracy: 0.3250\n",
      "Epoch 4/40\n",
      "2/2 [==============================] - 0s 57ms/step - loss: 2.0926 - accuracy: 0.3250\n",
      "Epoch 5/40\n",
      "2/2 [==============================] - 0s 58ms/step - loss: 1.9305 - accuracy: 0.3750\n",
      "Epoch 6/40\n",
      "2/2 [==============================] - 0s 65ms/step - loss: 1.9289 - accuracy: 0.3750\n",
      "Epoch 7/40\n",
      "2/2 [==============================] - 0s 58ms/step - loss: 2.0176 - accuracy: 0.2500\n",
      "Epoch 8/40\n",
      "2/2 [==============================] - 0s 65ms/step - loss: 1.8580 - accuracy: 0.3500\n",
      "Epoch 9/40\n",
      "2/2 [==============================] - 0s 67ms/step - loss: 1.7907 - accuracy: 0.3500\n",
      "Epoch 10/40\n",
      "2/2 [==============================] - 0s 46ms/step - loss: 1.8914 - accuracy: 0.3000\n",
      "Epoch 11/40\n",
      "2/2 [==============================] - 0s 62ms/step - loss: 1.8205 - accuracy: 0.2750\n",
      "Epoch 12/40\n",
      "2/2 [==============================] - 0s 64ms/step - loss: 1.7724 - accuracy: 0.4000\n",
      "Epoch 13/40\n",
      "2/2 [==============================] - 0s 57ms/step - loss: 1.6880 - accuracy: 0.3750\n",
      "Epoch 14/40\n",
      "2/2 [==============================] - 0s 46ms/step - loss: 1.5898 - accuracy: 0.4250\n",
      "Epoch 15/40\n",
      "2/2 [==============================] - 0s 56ms/step - loss: 1.5108 - accuracy: 0.4750\n",
      "Epoch 16/40\n",
      "2/2 [==============================] - 0s 56ms/step - loss: 1.5715 - accuracy: 0.4750\n",
      "Epoch 17/40\n",
      "2/2 [==============================] - 0s 60ms/step - loss: 1.4322 - accuracy: 0.5000\n",
      "Epoch 18/40\n",
      "2/2 [==============================] - 0s 67ms/step - loss: 1.3312 - accuracy: 0.5500\n",
      "Epoch 19/40\n",
      "2/2 [==============================] - 0s 74ms/step - loss: 1.3393 - accuracy: 0.4750\n",
      "Epoch 20/40\n",
      "2/2 [==============================] - 0s 49ms/step - loss: 1.2138 - accuracy: 0.5500\n",
      "Epoch 21/40\n",
      "2/2 [==============================] - 0s 56ms/step - loss: 1.1764 - accuracy: 0.5500\n",
      "Epoch 22/40\n",
      "2/2 [==============================] - 0s 72ms/step - loss: 1.1394 - accuracy: 0.5750\n",
      "Epoch 23/40\n",
      "2/2 [==============================] - 0s 58ms/step - loss: 1.0618 - accuracy: 0.6000\n",
      "Epoch 24/40\n",
      "2/2 [==============================] - 0s 65ms/step - loss: 0.9969 - accuracy: 0.6500\n",
      "Epoch 25/40\n",
      "2/2 [==============================] - 0s 69ms/step - loss: 0.9101 - accuracy: 0.6750\n",
      "Epoch 26/40\n",
      "2/2 [==============================] - 0s 89ms/step - loss: 0.9691 - accuracy: 0.6000\n",
      "Epoch 27/40\n",
      "2/2 [==============================] - 0s 70ms/step - loss: 0.8066 - accuracy: 0.7000\n",
      "Epoch 28/40\n",
      "2/2 [==============================] - 0s 62ms/step - loss: 0.7804 - accuracy: 0.7250\n",
      "Epoch 29/40\n",
      "2/2 [==============================] - 0s 64ms/step - loss: 0.6540 - accuracy: 0.8000\n",
      "Epoch 30/40\n",
      "2/2 [==============================] - 0s 67ms/step - loss: 0.6093 - accuracy: 0.8000\n",
      "Epoch 31/40\n",
      "2/2 [==============================] - 0s 68ms/step - loss: 0.5209 - accuracy: 0.8500\n",
      "Epoch 32/40\n",
      "2/2 [==============================] - 0s 80ms/step - loss: 0.5074 - accuracy: 0.8750\n",
      "Epoch 33/40\n",
      "2/2 [==============================] - 0s 58ms/step - loss: 0.4737 - accuracy: 0.9000\n",
      "Epoch 34/40\n",
      "2/2 [==============================] - 0s 60ms/step - loss: 0.3951 - accuracy: 0.8500\n",
      "Epoch 35/40\n",
      "2/2 [==============================] - 0s 62ms/step - loss: 0.3698 - accuracy: 0.8500\n",
      "Epoch 36/40\n",
      "2/2 [==============================] - 0s 75ms/step - loss: 0.3667 - accuracy: 0.9250\n",
      "Epoch 37/40\n",
      "2/2 [==============================] - 0s 64ms/step - loss: 0.3293 - accuracy: 0.9000\n",
      "Epoch 38/40\n",
      "2/2 [==============================] - 0s 58ms/step - loss: 0.2048 - accuracy: 0.9750\n",
      "Epoch 39/40\n",
      "2/2 [==============================] - 0s 60ms/step - loss: 0.2263 - accuracy: 0.9500\n",
      "Epoch 40/40\n",
      "2/2 [==============================] - 0s 53ms/step - loss: 0.1908 - accuracy: 0.9750\n"
     ]
    }
   ],
   "source": [
    "deterministic_nn_model.fit(X,y,tensorboard_log_dir=\"tutorial/data\")\n",
    "accuracy_deterministic = deterministic_nn_model.score(X, y)"
   ]
  },
  {
   "cell_type": "code",
   "execution_count": 11,
   "id": "a812398d",
   "metadata": {},
   "outputs": [
    {
     "data": {
      "text/plain": [
       "array([[5.6272461e-03, 5.6129405e-03, 3.6340181e-03, 9.4159946e-02,\n",
       "        7.6462626e-02, 1.5297205e-03, 2.4778416e-02, 3.4313216e-03,\n",
       "        6.2838518e-03, 4.4276072e-03, 7.7405232e-01],\n",
       "       [5.4968743e-05, 8.0955775e-05, 3.1114527e-05, 2.1548890e-02,\n",
       "        1.8399856e-04, 7.6898268e-06, 8.2840741e-04, 5.0160184e-04,\n",
       "        1.6383738e-04, 9.8461976e-05, 9.7650015e-01]], dtype=float32)"
      ]
     },
     "execution_count": 11,
     "metadata": {},
     "output_type": "execute_result"
    }
   ],
   "source": [
    "deterministic_nn_model.predict_proba(X)[:2]"
   ]
  },
  {
   "cell_type": "code",
   "execution_count": 12,
   "id": "688705ad",
   "metadata": {},
   "outputs": [
    {
     "name": "stdout",
     "output_type": "stream",
     "text": [
      "Model: \"model\"\n",
      "__________________________________________________________________________________________________\n",
      "Layer (type)                    Output Shape         Param #     Connected to                     \n",
      "==================================================================================================\n",
      "input_1 (InputLayer)            [(None, 100)]        0                                            \n",
      "__________________________________________________________________________________________________\n",
      "embedding (Embedding)           (None, 100, 300)     5700        input_1[0][0]                    \n",
      "__________________________________________________________________________________________________\n",
      "conv1d (Conv1D)                 (None, 100, 200)     120200      embedding[0][0]                  \n",
      "__________________________________________________________________________________________________\n",
      "spatial_dropout1d (SpatialDropo (None, 100, 200)     0           conv1d[0][0]                     \n",
      "__________________________________________________________________________________________________\n",
      "batch_normalization (BatchNorma (None, 100, 200)     800         spatial_dropout1d[0][0]          \n",
      "__________________________________________________________________________________________________\n",
      "leaky_re_lu (LeakyReLU)         (None, 100, 200)     0           batch_normalization[0][0]        \n",
      "__________________________________________________________________________________________________\n",
      "conv1d_1 (Conv1D)               (None, 100, 250)     100250      leaky_re_lu[0][0]                \n",
      "__________________________________________________________________________________________________\n",
      "input_2 (InputLayer)            [(None, 66)]         0                                            \n",
      "__________________________________________________________________________________________________\n",
      "spatial_dropout1d_1 (SpatialDro (None, 100, 250)     0           conv1d_1[0][0]                   \n",
      "__________________________________________________________________________________________________\n",
      "dense_2 (Dense)                 (None, 150)          10050       input_2[0][0]                    \n",
      "__________________________________________________________________________________________________\n",
      "leaky_re_lu_1 (LeakyReLU)       (None, 100, 250)     0           spatial_dropout1d_1[0][0]        \n",
      "__________________________________________________________________________________________________\n",
      "dropout_2 (Dropout)             (None, 150)          0           dense_2[0][0]                    \n",
      "__________________________________________________________________________________________________\n",
      "dropout (Dropout)               (None, 100, 250)     0           leaky_re_lu_1[0][0]              \n",
      "__________________________________________________________________________________________________\n",
      "leaky_re_lu_4 (LeakyReLU)       (None, 150)          0           dropout_2[0][0]                  \n",
      "__________________________________________________________________________________________________\n",
      "global_max_pooling1d (GlobalMax (None, 250)          0           dropout[0][0]                    \n",
      "__________________________________________________________________________________________________\n",
      "dense_3 (Dense)                 (None, 100)          15100       leaky_re_lu_4[0][0]              \n",
      "__________________________________________________________________________________________________\n",
      "dense (Dense)                   (None, 250)          62750       global_max_pooling1d[0][0]       \n",
      "__________________________________________________________________________________________________\n",
      "dropout_3 (Dropout)             (None, 100)          0           dense_3[0][0]                    \n",
      "__________________________________________________________________________________________________\n",
      "leaky_re_lu_2 (LeakyReLU)       (None, 250)          0           dense[0][0]                      \n",
      "__________________________________________________________________________________________________\n",
      "leaky_re_lu_5 (LeakyReLU)       (None, 100)          0           dropout_3[0][0]                  \n",
      "__________________________________________________________________________________________________\n",
      "dense_1 (Dense)                 (None, 150)          37650       leaky_re_lu_2[0][0]              \n",
      "__________________________________________________________________________________________________\n",
      "dense_4 (Dense)                 (None, 80)           8080        leaky_re_lu_5[0][0]              \n",
      "__________________________________________________________________________________________________\n",
      "dropout_1 (Dropout)             (None, 150)          0           dense_1[0][0]                    \n",
      "__________________________________________________________________________________________________\n",
      "dropout_4 (Dropout)             (None, 80)           0           dense_4[0][0]                    \n",
      "__________________________________________________________________________________________________\n",
      "leaky_re_lu_3 (LeakyReLU)       (None, 150)          0           dropout_1[0][0]                  \n",
      "__________________________________________________________________________________________________\n",
      "leaky_re_lu_6 (LeakyReLU)       (None, 80)           0           dropout_4[0][0]                  \n",
      "__________________________________________________________________________________________________\n",
      "concatenate (Concatenate)       (None, 230)          0           leaky_re_lu_3[0][0]              \n",
      "                                                                 leaky_re_lu_6[0][0]              \n",
      "__________________________________________________________________________________________________\n",
      "dense_5 (Dense)                 (None, 200)          46200       concatenate[0][0]                \n",
      "__________________________________________________________________________________________________\n",
      "dropout_5 (Dropout)             (None, 200)          0           dense_5[0][0]                    \n",
      "__________________________________________________________________________________________________\n",
      "leaky_re_lu_7 (LeakyReLU)       (None, 200)          0           dropout_5[0][0]                  \n",
      "__________________________________________________________________________________________________\n",
      "dense_6 (Dense)                 (None, 100)          20100       leaky_re_lu_7[0][0]              \n",
      "__________________________________________________________________________________________________\n",
      "dropout_6 (Dropout)             (None, 100)          0           dense_6[0][0]                    \n",
      "__________________________________________________________________________________________________\n",
      "leaky_re_lu_8 (LeakyReLU)       (None, 100)          0           dropout_6[0][0]                  \n",
      "__________________________________________________________________________________________________\n",
      "dense_7 (Dense)                 (None, 11)           1111        leaky_re_lu_8[0][0]              \n",
      "==================================================================================================\n",
      "Total params: 427,991\n",
      "Trainable params: 427,591\n",
      "Non-trainable params: 400\n",
      "__________________________________________________________________________________________________\n"
     ]
    }
   ],
   "source": [
    "deterministic_nn_model.model.summary()"
   ]
  },
  {
   "cell_type": "markdown",
   "id": "5c43982f",
   "metadata": {},
   "source": [
    "#### We can propose a way to have **uncertainty estimation**"
   ]
  },
  {
   "cell_type": "markdown",
   "id": "30ced972",
   "metadata": {},
   "source": [
    "# The probabilitic model \n",
    "The probabilitic gives us not longer point estimation but distribution on predictions. It allows us to give prediction intervals."
   ]
  },
  {
   "cell_type": "code",
   "execution_count": 13,
   "id": "baf34180",
   "metadata": {},
   "outputs": [],
   "source": [
    "from melusine.models.probabilistic_neural_architectures import probabilistic_cnn_with_meta_model\n",
    "probabilistic_model = NeuralModel(architecture_function=probabilistic_cnn_with_meta_model,\n",
    "                       pretrained_embedding=pretrained_embedding,\n",
    "                       text_input_column=\"clean_text\",\n",
    "                       batch_size=20,\n",
    "                       meta_input_list=['extension','attachment_type', 'dayofweek', 'hour', 'min'],\n",
    "                       n_epochs=40)"
   ]
  },
  {
   "cell_type": "code",
   "execution_count": 14,
   "id": "ef78cbc7",
   "metadata": {},
   "outputs": [
    {
     "name": "stdout",
     "output_type": "stream",
     "text": [
      "Epoch 1/40\n",
      "2/2 [==============================] - 2s 317ms/step - loss: 2.3838 - accuracy: 0.1500\n",
      "Epoch 2/40\n",
      "2/2 [==============================] - 0s 53ms/step - loss: 2.2982 - accuracy: 0.3000\n",
      "Epoch 3/40\n",
      "2/2 [==============================] - 0s 71ms/step - loss: 2.1774 - accuracy: 0.3000\n",
      "Epoch 4/40\n",
      "2/2 [==============================] - 0s 55ms/step - loss: 2.1223 - accuracy: 0.3250\n",
      "Epoch 5/40\n",
      "2/2 [==============================] - 0s 54ms/step - loss: 2.1039 - accuracy: 0.3000\n",
      "Epoch 6/40\n",
      "2/2 [==============================] - 0s 53ms/step - loss: 1.9891 - accuracy: 0.2750\n",
      "Epoch 7/40\n",
      "2/2 [==============================] - 0s 48ms/step - loss: 1.8993 - accuracy: 0.3750\n",
      "Epoch 8/40\n",
      "2/2 [==============================] - 0s 57ms/step - loss: 1.9035 - accuracy: 0.3000\n",
      "Epoch 9/40\n",
      "2/2 [==============================] - 0s 56ms/step - loss: 1.7836 - accuracy: 0.3750\n",
      "Epoch 10/40\n",
      "2/2 [==============================] - 0s 62ms/step - loss: 1.8436 - accuracy: 0.3250\n",
      "Epoch 11/40\n",
      "2/2 [==============================] - 0s 56ms/step - loss: 1.6236 - accuracy: 0.4750\n",
      "Epoch 12/40\n",
      "2/2 [==============================] - 0s 56ms/step - loss: 1.6067 - accuracy: 0.4250\n",
      "Epoch 13/40\n",
      "2/2 [==============================] - 0s 55ms/step - loss: 1.6640 - accuracy: 0.3000\n",
      "Epoch 14/40\n",
      "2/2 [==============================] - 0s 66ms/step - loss: 1.7111 - accuracy: 0.4500\n",
      "Epoch 15/40\n",
      "2/2 [==============================] - 0s 58ms/step - loss: 1.4266 - accuracy: 0.5000\n",
      "Epoch 16/40\n",
      "2/2 [==============================] - 0s 53ms/step - loss: 1.4035 - accuracy: 0.6000\n",
      "Epoch 17/40\n",
      "2/2 [==============================] - 0s 59ms/step - loss: 1.4099 - accuracy: 0.5250\n",
      "Epoch 18/40\n",
      "2/2 [==============================] - 0s 54ms/step - loss: 1.2749 - accuracy: 0.5750\n",
      "Epoch 19/40\n",
      "2/2 [==============================] - 0s 91ms/step - loss: 1.2593 - accuracy: 0.6000\n",
      "Epoch 20/40\n",
      "2/2 [==============================] - 0s 83ms/step - loss: 1.1746 - accuracy: 0.6000\n",
      "Epoch 21/40\n",
      "2/2 [==============================] - 0s 62ms/step - loss: 1.2415 - accuracy: 0.6000\n",
      "Epoch 22/40\n",
      "2/2 [==============================] - 0s 55ms/step - loss: 0.9666 - accuracy: 0.7500\n",
      "Epoch 23/40\n",
      "2/2 [==============================] - 0s 49ms/step - loss: 0.9801 - accuracy: 0.7500\n",
      "Epoch 24/40\n",
      "2/2 [==============================] - 0s 58ms/step - loss: 0.8508 - accuracy: 0.7500\n",
      "Epoch 25/40\n",
      "2/2 [==============================] - 0s 69ms/step - loss: 0.7886 - accuracy: 0.7000\n",
      "Epoch 26/40\n",
      "2/2 [==============================] - 0s 59ms/step - loss: 0.8117 - accuracy: 0.7250\n",
      "Epoch 27/40\n",
      "2/2 [==============================] - 0s 55ms/step - loss: 0.6230 - accuracy: 0.7750\n",
      "Epoch 28/40\n",
      "2/2 [==============================] - 0s 54ms/step - loss: 0.7608 - accuracy: 0.7250\n",
      "Epoch 29/40\n",
      "2/2 [==============================] - 0s 55ms/step - loss: 0.6143 - accuracy: 0.8000\n",
      "Epoch 30/40\n",
      "2/2 [==============================] - 0s 55ms/step - loss: 0.5601 - accuracy: 0.7750\n",
      "Epoch 31/40\n",
      "2/2 [==============================] - 0s 56ms/step - loss: 0.5585 - accuracy: 0.8250\n",
      "Epoch 32/40\n",
      "2/2 [==============================] - 0s 52ms/step - loss: 0.5324 - accuracy: 0.8750\n",
      "Epoch 33/40\n",
      "2/2 [==============================] - 0s 54ms/step - loss: 0.4103 - accuracy: 0.8750\n",
      "Epoch 34/40\n",
      "2/2 [==============================] - 0s 58ms/step - loss: 0.3372 - accuracy: 0.9000\n",
      "Epoch 35/40\n",
      "2/2 [==============================] - 0s 58ms/step - loss: 0.3277 - accuracy: 0.9250\n",
      "Epoch 36/40\n",
      "2/2 [==============================] - 0s 52ms/step - loss: 0.2812 - accuracy: 0.9500\n",
      "Epoch 37/40\n",
      "2/2 [==============================] - 0s 49ms/step - loss: 0.1579 - accuracy: 0.9500\n",
      "Epoch 38/40\n",
      "2/2 [==============================] - 0s 50ms/step - loss: 0.1362 - accuracy: 0.9500\n",
      "Epoch 39/40\n",
      "2/2 [==============================] - 0s 62ms/step - loss: 0.1629 - accuracy: 0.9500\n",
      "Epoch 40/40\n",
      "2/2 [==============================] - 0s 64ms/step - loss: 0.2423 - accuracy: 0.9250\n"
     ]
    }
   ],
   "source": [
    "probabilistic_model.fit(X,y,tensorboard_log_dir=\"tutorial/data\")\n",
    "accuracy_probabilistic = probabilistic_model.score(X, y)"
   ]
  },
  {
   "cell_type": "markdown",
   "id": "1fd5396c",
   "metadata": {},
   "source": [
    "### The estimation of the probability is now the mean of the distribution of the prediction"
   ]
  },
  {
   "cell_type": "markdown",
   "id": "b9b5316b",
   "metadata": {},
   "source": [
    "The output of the model is not a **vector** but a **distribution** we can :\n",
    "- sample\n",
    "- compute mean\n",
    "- compute std"
   ]
  },
  {
   "cell_type": "code",
   "execution_count": 15,
   "id": "2affd246",
   "metadata": {},
   "outputs": [
    {
     "data": {
      "text/plain": [
       "<tfp.distributions.OneHotCategorical 'model_1_one_hot_categorical_OneHotCategorical_OneHotCategorical' batch_shape=[40] event_shape=[11] dtype=float32>"
      ]
     },
     "execution_count": 15,
     "metadata": {},
     "output_type": "execute_result"
    }
   ],
   "source": [
    "X_input = probabilistic_model.prepare_email_to_predict(X)\n",
    "output = probabilistic_model.model(X_input)\n",
    "output"
   ]
  },
  {
   "cell_type": "markdown",
   "id": "c7d3cbc1",
   "metadata": {},
   "source": [
    "#### We can have a **point estimation** using the **mode** or the **mean**"
   ]
  },
  {
   "cell_type": "code",
   "execution_count": 16,
   "id": "b4c4789d",
   "metadata": {},
   "outputs": [
    {
     "data": {
      "text/plain": [
       "array([[0. , 0. , 0. , 0.1, 0. , 0.1, 0.1, 0. , 0. , 0. , 0.7],\n",
       "       [0. , 0. , 0. , 0. , 0. , 0. , 0. , 0. , 0. , 0. , 0.9]],\n",
       "      dtype=float32)"
      ]
     },
     "execution_count": 16,
     "metadata": {},
     "output_type": "execute_result"
    }
   ],
   "source": [
    "output.mean().numpy().round(1)[:2]"
   ]
  },
  {
   "cell_type": "code",
   "execution_count": 17,
   "id": "695ee103",
   "metadata": {},
   "outputs": [
    {
     "data": {
      "text/plain": [
       "<tf.Tensor: shape=(2, 11), dtype=float32, numpy=\n",
       "array([[0., 0., 0., 0., 0., 0., 0., 0., 0., 0., 1.],\n",
       "       [0., 0., 0., 0., 0., 0., 0., 0., 0., 0., 1.]], dtype=float32)>"
      ]
     },
     "execution_count": 17,
     "metadata": {},
     "output_type": "execute_result"
    }
   ],
   "source": [
    "output.mode()[:2]"
   ]
  },
  {
   "cell_type": "markdown",
   "id": "1261f352",
   "metadata": {},
   "source": [
    "#### We can have the **standard deviation** of the distributions"
   ]
  },
  {
   "cell_type": "code",
   "execution_count": 18,
   "id": "a3fdfb1e",
   "metadata": {},
   "outputs": [
    {
     "data": {
      "text/plain": [
       "array([[0.2, 0.1, 0.2, 0.3, 0.2, 0.2, 0.2, 0.1, 0.1, 0.1, 0.5],\n",
       "       [0.1, 0.1, 0.1, 0.2, 0.1, 0.1, 0.2, 0.1, 0.1, 0.1, 0.3]],\n",
       "      dtype=float32)"
      ]
     },
     "execution_count": 18,
     "metadata": {},
     "output_type": "execute_result"
    }
   ],
   "source": [
    "output.stddev().numpy().round(1)[:2]"
   ]
  },
  {
   "cell_type": "markdown",
   "id": "81820d20",
   "metadata": {},
   "source": [
    "#### We can even **sample** the distributions"
   ]
  },
  {
   "cell_type": "code",
   "execution_count": 19,
   "id": "e7fbd330",
   "metadata": {},
   "outputs": [
    {
     "data": {
      "text/plain": [
       "<tf.Tensor: shape=(2, 11), dtype=float32, numpy=\n",
       "array([[0., 0., 0., 0., 0., 1., 0., 0., 0., 0., 0.],\n",
       "       [0., 0., 0., 0., 0., 0., 0., 0., 0., 0., 1.]], dtype=float32)>"
      ]
     },
     "execution_count": 19,
     "metadata": {},
     "output_type": "execute_result"
    }
   ],
   "source": [
    "output.sample()[:2]"
   ]
  },
  {
   "cell_type": "markdown",
   "id": "9a81d270",
   "metadata": {},
   "source": [
    "#### The mode is used for `predict`"
   ]
  },
  {
   "cell_type": "code",
   "execution_count": 20,
   "id": "e7e7d197",
   "metadata": {},
   "outputs": [
    {
     "data": {
      "text/plain": [
       "array([10, 10])"
      ]
     },
     "execution_count": 20,
     "metadata": {},
     "output_type": "execute_result"
    }
   ],
   "source": [
    "probabilistic_model.predict(X)[:2]"
   ]
  },
  {
   "cell_type": "markdown",
   "id": "ecd5e5a4",
   "metadata": {},
   "source": [
    "#### The mean is used for `predict_proba`"
   ]
  },
  {
   "cell_type": "code",
   "execution_count": 21,
   "id": "607192c0",
   "metadata": {
    "scrolled": true
   },
   "outputs": [
    {
     "data": {
      "text/plain": [
       "array([[0. , 0. , 0. , 0.1, 0. , 0.1, 0.1, 0. , 0. , 0. , 0.7],\n",
       "       [0. , 0. , 0. , 0. , 0. , 0. , 0. , 0. , 0. , 0. , 0.9]],\n",
       "      dtype=float32)"
      ]
     },
     "execution_count": 21,
     "metadata": {},
     "output_type": "execute_result"
    }
   ],
   "source": [
    "probabilistic_model.predict_proba(X).round(1)[:2]"
   ]
  },
  {
   "cell_type": "markdown",
   "id": "dae62cb7",
   "metadata": {},
   "source": [
    "#### And prediction intervals are made by combining **mean** and **std** (gaussian hypothesis)"
   ]
  },
  {
   "cell_type": "code",
   "execution_count": 22,
   "id": "cdefabd4",
   "metadata": {},
   "outputs": [],
   "source": [
    "score, inf, sup = probabilistic_model.predict_proba(X, prediction_interval=0.95)"
   ]
  },
  {
   "cell_type": "code",
   "execution_count": 23,
   "id": "f4ba2d30",
   "metadata": {},
   "outputs": [
    {
     "data": {
      "text/plain": [
       "array([[0.4, 0.2, 0.4, 0.5, 0.3, 0.5, 0.4, 0.2, 0.2, 0.3, 0.9],\n",
       "       [0.3, 0.1, 0.2, 0.4, 0.1, 0.3, 0.3, 0.2, 0.2, 0.2, 0.7]],\n",
       "      dtype=float32)"
      ]
     },
     "execution_count": 23,
     "metadata": {},
     "output_type": "execute_result"
    }
   ],
   "source": [
    "lower_boundary = (score - inf).round(1)[:2]\n",
    "lower_boundary"
   ]
  },
  {
   "cell_type": "code",
   "execution_count": 24,
   "id": "1bf2c952",
   "metadata": {},
   "outputs": [
    {
     "data": {
      "text/plain": [
       "array([[0.4, 0.3, 0.4, 0.7, 0.4, 0.6, 0.5, 0.2, 0.3, 0.3, 2.2],\n",
       "       [0.3, 0.1, 0.2, 0.5, 0.1, 0.3, 0.4, 0.2, 0.2, 0.2, 2.4]],\n",
       "      dtype=float32)"
      ]
     },
     "execution_count": 24,
     "metadata": {},
     "output_type": "execute_result"
    }
   ],
   "source": [
    "upper_boundary = (score + sup).round(1)[:2]\n",
    "upper_boundary"
   ]
  },
  {
   "cell_type": "code",
   "execution_count": 25,
   "id": "119aebb5",
   "metadata": {},
   "outputs": [],
   "source": [
    "import matplotlib.pyplot as plt\n",
    "ntargets = 11\n",
    "\n",
    "\n",
    "def analyse_and_plot_model_predictions(data, true_labels, nn_model, text_num, pi=0.95):\n",
    "    \"\"\"\n",
    "    Make plots of the probabilities that the model estimates for a given text\n",
    "    \"\"\"\n",
    "    true_label = true_labels[text_num]\n",
    "    true_label_decoded = le.inverse_transform([true_label])[0]\n",
    "    print('True label: \\033[1m \\033[92m {} \\033[0m'.format(str(true_label_decoded)))\n",
    "    print('Clean text: ', data.loc[text_num, \"clean_text\"])\n",
    "    model_prediction, pct_low, pct_up = nn_model.predict_proba(data.loc[text_num:text_num], prediction_interval=pi)\n",
    "    model_prediction, pct_low, pct_up = model_prediction[0], pct_low[0], pct_up[0]\n",
    "    x_pos = np.arange(ntargets)\n",
    "    bar = plt.bar(x_pos, pct_up, color='red')\n",
    "    all_categories_decoded = le.inverse_transform(np.arange(ntargets))\n",
    "    plt.xticks(x_pos, all_categories_decoded, color='black', rotation=45, fontweight='bold', fontsize='10', horizontalalignment='right')\n",
    "    ax = plt.gca()\n",
    "    labels = ax.get_xticklabels()\n",
    "    ticks = ax.get_xticks()\n",
    "    for label, tick in zip(labels, ticks):\n",
    "        if tick == true_label:\n",
    "            label.set_color('green')\n",
    "    bar[true_label].set_color('green')\n",
    "    plt.bar(np.arange(ntargets), pct_low-0.02, color='white', linewidth=1, edgecolor='white')\n",
    "    plt.ylim([0, 1])\n",
    "    plt.ylabel('Probability')\n",
    "    plt.title('Model estimated probabilities') \n",
    "    plt.show()"
   ]
  },
  {
   "cell_type": "code",
   "execution_count": 26,
   "id": "220cfe19",
   "metadata": {},
   "outputs": [
    {
     "name": "stdout",
     "output_type": "stream",
     "text": [
      "True label: \u001b[1m \u001b[92m vehicule \u001b[0m\n",
      "Clean text:  assurance vehicules je me permets de venir vers vous car depuis le debut de lannee, nous avons des difficultes pour assurer nos vehicules. ces derniers jours, vous nous avez fait parvenir le detail des denominations et des niveau dassurance de chaque vehicule. merci deffectuer ces changements dans lattente de votre retour\n"
     ]
    },
    {
     "data": {
      "image/png": "[encoded data removed]",
      "text/plain": [
       "<Figure size 432x288 with 1 Axes>"
      ]
     },
     "metadata": {
      "needs_background": "light"
     },
     "output_type": "display_data"
    }
   ],
   "source": [
    "i = 7\n",
    "analyse_and_plot_model_predictions(X, y, probabilistic_model, text_num=i, pi=0.95)"
   ]
  },
  {
   "cell_type": "markdown",
   "id": "eae9f431",
   "metadata": {},
   "source": [
    "### Disclaimer\n",
    "The dataset of this melusine tutorial is so small (40 emails) the model is always drawing large intervals. On the previous example the prediction interval may be [0;1] (thank you captain obvious). We would rather consider small (more informative) intervals.\n",
    "\n",
    "\n",
    "But if we apply this method on a large public datasets (like the movies dataset : 100 000 movies plots) we can see predictions with less uncertainty as on the following image. With disjointed intervals.\n",
    "\n",
    "<img src=\"images/uncertainty-on-movies-dataset.png\" width=400 height=400 />\n",
    "\n",
    "To let us see small interval (as a sanity check) we also can choose a very small prediction interval (0.2 instead of 0.95, but obviously 0.2 is not a serious value for prediction intervals) as on the following."
   ]
  },
  {
   "cell_type": "code",
   "execution_count": 27,
   "id": "914ca9ba",
   "metadata": {},
   "outputs": [
    {
     "name": "stdout",
     "output_type": "stream",
     "text": [
      "True label: \u001b[1m \u001b[92m vehicule \u001b[0m\n",
      "Clean text:  assurance vehicules je me permets de venir vers vous car depuis le debut de lannee, nous avons des difficultes pour assurer nos vehicules. ces derniers jours, vous nous avez fait parvenir le detail des denominations et des niveau dassurance de chaque vehicule. merci deffectuer ces changements dans lattente de votre retour\n"
     ]
    },
    {
     "data": {
      "image/png": "[encoded data removed]",
      "text/plain": [
       "<Figure size 432x288 with 1 Axes>"
      ]
     },
     "metadata": {
      "needs_background": "light"
     },
     "output_type": "display_data"
    }
   ],
   "source": [
    "i = 7\n",
    "analyse_and_plot_model_predictions(X, y, probabilistic_model, text_num=i, pi=0.2)"
   ]
  },
  {
   "cell_type": "markdown",
   "id": "dc0ba77e",
   "metadata": {},
   "source": [
    "So instead of just having a point estimation score of being a `vehicle` verbatim (score=0.2) we can have uncertainty estimation around a point estimation (the score of being `vehicle` verbatim is in the interval [0.1 ; 0.3] with a 95% prediction interval)."
   ]
  },
  {
   "cell_type": "markdown",
   "id": "c66df0a7",
   "metadata": {},
   "source": [
    "# To go further : variational neural networks\n",
    "We can try a variational neural networks : [`Flipout`](https://www.tensorflow.org/probability/api_docs/python/tfp/layers/conv_variational)"
   ]
  },
  {
   "cell_type": "code",
   "execution_count": 28,
   "id": "dfeac60c",
   "metadata": {},
   "outputs": [],
   "source": [
    "from melusine.models.probabilistic_neural_architectures import flipout_cnn_model\n",
    "flipout_nn_model = NeuralModel(architecture_function=flipout_cnn_model,\n",
    "                       pretrained_embedding=pretrained_embedding,\n",
    "                       text_input_column=\"clean_text\",\n",
    "                       batch_size=20,\n",
    "                       meta_input_list=['extension','attachment_type', 'dayofweek', 'hour', 'min'],\n",
    "                       n_epochs=40)"
   ]
  },
  {
   "cell_type": "code",
   "execution_count": 29,
   "id": "67fbd5ea",
   "metadata": {},
   "outputs": [
    {
     "name": "stdout",
     "output_type": "stream",
     "text": [
      "Epoch 1/40\n",
      "2/2 [==============================] - 3s 427ms/step - loss: 18802.0840 - accuracy: 0.2000\n",
      "Epoch 2/40\n",
      "2/2 [==============================] - 0s 31ms/step - loss: 18786.4531 - accuracy: 0.2000\n",
      "Epoch 3/40\n",
      "2/2 [==============================] - 0s 31ms/step - loss: 18770.8516 - accuracy: 0.2000\n",
      "Epoch 4/40\n",
      "2/2 [==============================] - 0s 31ms/step - loss: 18755.2812 - accuracy: 0.2000\n",
      "Epoch 5/40\n",
      "2/2 [==============================] - 0s 32ms/step - loss: 18739.7441 - accuracy: 0.2000\n",
      "Epoch 6/40\n",
      "2/2 [==============================] - 0s 33ms/step - loss: 18724.2383 - accuracy: 0.2000\n",
      "Epoch 7/40\n",
      "2/2 [==============================] - 0s 45ms/step - loss: 18708.7656 - accuracy: 0.2000\n",
      "Epoch 8/40\n",
      "2/2 [==============================] - 0s 44ms/step - loss: 18693.3223 - accuracy: 0.2000\n",
      "Epoch 9/40\n",
      "2/2 [==============================] - 0s 63ms/step - loss: 18677.9102 - accuracy: 0.2000\n",
      "Epoch 10/40\n",
      "2/2 [==============================] - 0s 64ms/step - loss: 18662.5273 - accuracy: 0.2000\n",
      "Epoch 11/40\n",
      "2/2 [==============================] - 0s 82ms/step - loss: 18647.1758 - accuracy: 0.2000\n",
      "Epoch 12/40\n",
      "2/2 [==============================] - 0s 62ms/step - loss: 18631.8535 - accuracy: 0.2000\n",
      "Epoch 13/40\n",
      "2/2 [==============================] - 0s 42ms/step - loss: 18616.5586 - accuracy: 0.2000\n",
      "Epoch 14/40\n",
      "2/2 [==============================] - 0s 41ms/step - loss: 18601.2949 - accuracy: 0.2000\n",
      "Epoch 15/40\n",
      "2/2 [==============================] - 0s 40ms/step - loss: 18586.0586 - accuracy: 0.2000\n",
      "Epoch 16/40\n",
      "2/2 [==============================] - 0s 35ms/step - loss: 18570.8477 - accuracy: 0.2000\n",
      "Epoch 17/40\n",
      "2/2 [==============================] - 0s 37ms/step - loss: 18555.6641 - accuracy: 0.2000\n",
      "Epoch 18/40\n",
      "2/2 [==============================] - 0s 40ms/step - loss: 18540.5059 - accuracy: 0.2000\n",
      "Epoch 19/40\n",
      "2/2 [==============================] - 0s 48ms/step - loss: 18525.3711 - accuracy: 0.2000\n",
      "Epoch 20/40\n",
      "2/2 [==============================] - 0s 42ms/step - loss: 18510.2617 - accuracy: 0.2000\n",
      "Epoch 21/40\n",
      "2/2 [==============================] - 0s 35ms/step - loss: 18495.1777 - accuracy: 0.2000\n",
      "Epoch 22/40\n",
      "2/2 [==============================] - 0s 40ms/step - loss: 18480.1113 - accuracy: 0.2000\n",
      "Epoch 23/40\n",
      "2/2 [==============================] - 0s 39ms/step - loss: 18465.0684 - accuracy: 0.2000\n",
      "Epoch 24/40\n",
      "2/2 [==============================] - 0s 33ms/step - loss: 18450.0488 - accuracy: 0.2000\n",
      "Epoch 25/40\n",
      "2/2 [==============================] - 0s 37ms/step - loss: 18435.0508 - accuracy: 0.2000\n",
      "Epoch 26/40\n",
      "2/2 [==============================] - 0s 33ms/step - loss: 18420.0684 - accuracy: 0.2000\n",
      "Epoch 27/40\n",
      "2/2 [==============================] - 0s 40ms/step - loss: 18405.1055 - accuracy: 0.2000\n",
      "Epoch 28/40\n",
      "2/2 [==============================] - 0s 36ms/step - loss: 18390.1660 - accuracy: 0.2000\n",
      "Epoch 29/40\n",
      "2/2 [==============================] - 0s 45ms/step - loss: 18375.2402 - accuracy: 0.2000\n",
      "Epoch 30/40\n",
      "2/2 [==============================] - 0s 45ms/step - loss: 18360.3340 - accuracy: 0.2000\n",
      "Epoch 31/40\n",
      "2/2 [==============================] - 0s 43ms/step - loss: 18345.4453 - accuracy: 0.2000\n",
      "Epoch 32/40\n",
      "2/2 [==============================] - 0s 46ms/step - loss: 18330.5684 - accuracy: 0.2000\n",
      "Epoch 33/40\n",
      "2/2 [==============================] - 0s 38ms/step - loss: 18315.7129 - accuracy: 0.2000\n",
      "Epoch 34/40\n",
      "2/2 [==============================] - 0s 48ms/step - loss: 18300.8711 - accuracy: 0.2000\n",
      "Epoch 35/40\n",
      "2/2 [==============================] - 0s 40ms/step - loss: 18286.0449 - accuracy: 0.2000\n",
      "Epoch 36/40\n",
      "2/2 [==============================] - 0s 69ms/step - loss: 18271.2285 - accuracy: 0.2000\n",
      "Epoch 37/40\n",
      "2/2 [==============================] - 0s 47ms/step - loss: 18256.4316 - accuracy: 0.2000\n",
      "Epoch 38/40\n",
      "2/2 [==============================] - 0s 37ms/step - loss: 18241.6445 - accuracy: 0.2000\n",
      "Epoch 39/40\n",
      "2/2 [==============================] - 0s 60ms/step - loss: 18226.8711 - accuracy: 0.2000\n",
      "Epoch 40/40\n",
      "2/2 [==============================] - 0s 43ms/step - loss: 18212.1133 - accuracy: 0.2000\n"
     ]
    }
   ],
   "source": [
    "flipout_nn_model.fit(X,y,tensorboard_log_dir=\"tutorial/data\")\n",
    "accuracy_flipout= flipout_nn_model.score(X, y)"
   ]
  },
  {
   "cell_type": "code",
   "execution_count": 30,
   "id": "fde06986",
   "metadata": {},
   "outputs": [
    {
     "name": "stdout",
     "output_type": "stream",
     "text": [
      "Model: \"model_2\"\n",
      "__________________________________________________________________________________________________\n",
      "Layer (type)                    Output Shape         Param #     Connected to                     \n",
      "==================================================================================================\n",
      "input_5 (InputLayer)            [(None, 100)]        0                                            \n",
      "__________________________________________________________________________________________________\n",
      "embedding_2 (Embedding)         (None, 100, 300)     6900        input_5[0][0]                    \n",
      "__________________________________________________________________________________________________\n",
      "conv1d_flipout (Conv1DFlipout)  (None, 100, 128)     230528      embedding_2[0][0]                \n",
      "__________________________________________________________________________________________________\n",
      "input_6 (InputLayer)            [(None, 66)]         0                                            \n",
      "__________________________________________________________________________________________________\n",
      "global_max_pooling1d_2 (GlobalM (None, 128)          0           conv1d_flipout[0][0]             \n",
      "__________________________________________________________________________________________________\n",
      "dense_flipout (DenseFlipout)    (None, 64)           8512        input_6[0][0]                    \n",
      "__________________________________________________________________________________________________\n",
      "concatenate_2 (Concatenate)     (None, 192)          0           global_max_pooling1d_2[0][0]     \n",
      "                                                                 dense_flipout[0][0]              \n",
      "__________________________________________________________________________________________________\n",
      "dense_flipout_1 (DenseFlipout)  (None, 64)           24640       concatenate_2[0][0]              \n",
      "__________________________________________________________________________________________________\n",
      "dense_flipout_2 (DenseFlipout)  (None, 11)           1419        dense_flipout_1[0][0]            \n",
      "__________________________________________________________________________________________________\n",
      "one_hot_categorical_1 (OneHotCa multiple             0           dense_flipout_2[0][0]            \n",
      "==================================================================================================\n",
      "Total params: 271,999\n",
      "Trainable params: 265,099\n",
      "Non-trainable params: 6,900\n",
      "__________________________________________________________________________________________________\n"
     ]
    }
   ],
   "source": [
    "flipout_nn_model.model.summary()"
   ]
  },
  {
   "cell_type": "markdown",
   "id": "00cdb9cc",
   "metadata": {},
   "source": [
    "### Another disclaimer\n",
    "The tutorial dataset is too small for our flipout model."
   ]
  },
  {
   "cell_type": "code",
   "execution_count": 31,
   "id": "f1f4fc37",
   "metadata": {},
   "outputs": [
    {
     "name": "stdout",
     "output_type": "stream",
     "text": [
      "True label: \u001b[1m \u001b[92m vehicule \u001b[0m\n",
      "Clean text:  pret vehicule ci-joint pret vehicule\n"
     ]
    },
    {
     "data": {
      "image/png": "[encoded data removed]",
      "text/plain": [
       "<Figure size 432x288 with 1 Axes>"
      ]
     },
     "metadata": {
      "needs_background": "light"
     },
     "output_type": "display_data"
    }
   ],
   "source": [
    "i = 9\n",
    "analyse_and_plot_model_predictions(X, y, flipout_nn_model, i)"
   ]
  },
  {
   "cell_type": "markdown",
   "id": "56ab3f8d",
   "metadata": {},
   "source": [
    "### Quick summary\n",
    "We show 2 probabilistic models :\n",
    "- **basic probabilistic** model with just a [OneHotCategorical](https://www.tensorflow.org/probability/api_docs/python/tfp/layers/OneHotCategorical) as last (prediction) layer\n",
    "\n",
    "- **flipout** model with [Convolution1DFlipout](https://www.tensorflow.org/probability/api_docs/python/tfp/layers/Convolution1DFlipout) layers\n",
    "\n",
    "We made simulations on a larger dataset (the movies plots dataset) to see if the probabilistic models had a good enough performance.\n",
    "\n",
    "The basic probabilistic model is an effective lowcost solution to have uncertainty estimation of the prediction without any performance loss.\n",
    "\n",
    "On our case, we did not manage to design a variational (flipout) neural architecture to get this level of performance."
   ]
  }
 ],
 "metadata": {
  "environment": {
   "name": "tf2-gpu.2-5.m76",
   "type": "gcloud",
   "uri": "gcr.io/deeplearning-platform-release/tf2-gpu.2-5:m76"
  },
  "interpreter": {
   "hash": "31659fd95575785888a0925c53e16fda128af122d9bf30d053d8251d24200cc8"
  },
  "kernelspec": {
   "display_name": "Python 3",
   "language": "python",
   "name": "python3"
  },
  "language_info": {
   "codemirror_mode": {
    "name": "ipython",
    "version": 3
   },
   "file_extension": ".py",
   "mimetype": "text/x-python",
   "name": "python",
   "nbconvert_exporter": "python",
   "pygments_lexer": "ipython3",
   "version": "3.7.10"
  }
 },
 "nbformat": 4,
 "nbformat_minor": 5
}
