{
 "cells": [
  {
   "cell_type": "markdown",
   "metadata": {},
   "source": [
    "# Emails dataset presentation"
   ]
  },
  {
   "cell_type": "markdown",
   "metadata": {},
   "source": [
    "#### Our dataset"
   ]
  },
  {
   "cell_type": "markdown",
   "metadata": {},
   "source": [
    "The emails dataset offered with the Melusine library as an example is composed of hypothetical emails inspired by day to day demands received by clients in an insurance context.\n",
    "\n",
    "It is composed of 40 emails with a large variety of formats. The number of emails is obviously not large enough to train a proper classification or summarization model but offers the opportunity to understand how to use the different subpackages offered."
   ]
  },
  {
   "cell_type": "code",
   "execution_count": 1,
   "metadata": {},
   "outputs": [],
   "source": [
    "from melusine.data.data_loader import load_email_data\n",
    "\n",
    "\n",
    "df_emails = load_email_data()"
   ]
  },
  {
   "cell_type": "markdown",
   "metadata": {},
   "source": [
    "#### Required format : Pandas Dataframe"
   ]
  },
  {
   "cell_type": "markdown",
   "metadata": {},
   "source": [
    "Because Melusine operates Pandas Dataframes by applying functions to certain columns to produce new columns, the name of the initial columns has to follow a strict naming.\n",
    "\n",
    "The basic requirement to use Melusine is to have an input e-mail DataFrame with the following columns :\n",
    "- body : Body of an email (single message or conversation historic)\n",
    "- header : Header of an email\n",
    "- date : Reception date of an email\n",
    "- from : Email address of the sender\n",
    "- to (optional): Email address of the recipient\n",
    "- attachment (optional): List of files attached to the email (examples: [\"image1.png\",\"document.pdf\"])\n",
    "- sexe (optional): Gender of the sender\n",
    "- age (optional): Age of the sender\n",
    "- attachment (optional): List of files attached to the email (examples: [\"image1.png\",\"document.pdf\"])\n",
    "- label (optional): Label of the email for a classification task (examples: Business, Spam, Finance or Family)\n",
    "\n",
    "Each row correspond to a unique email."
   ]
  },
  {
   "cell_type": "code",
   "execution_count": 2,
   "metadata": {},
   "outputs": [
    {
     "data": {
      "text/plain": [
       "Index(['body', 'header', 'date', 'from', 'to', 'attachment', 'sexe', 'age',\n",
       "       'label'],\n",
       "      dtype='object')"
      ]
     },
     "execution_count": 2,
     "metadata": {},
     "output_type": "execute_result"
    }
   ],
   "source": [
    "df_emails.columns"
   ]
  },
  {
   "cell_type": "markdown",
   "metadata": {},
   "source": [
    "#### Body column"
   ]
  },
  {
   "cell_type": "markdown",
   "metadata": {},
   "source": [
    "The body column can contain a single message as below :"
   ]
  },
  {
   "cell_type": "code",
   "execution_count": 3,
   "metadata": {},
   "outputs": [
    {
     "name": "stdout",
     "output_type": "stream",
     "text": [
      " Madame, Monsieur, \n",
      " \n",
      " Je vous avais contactés car j'avais pour \n",
      " projet d'agrandir ma maison. J'avais reçu un devis pour lequel je n'avais \n",
      " pas donné suite, les travaux n'étant pas encore réalisés. \n",
      "  \n",
      " Le projet a maintenant été porté à son terme et je voudrais donc revoir \n",
      " votre offre si possible. \n",
      "  \n",
      " Je désire garder le même type de contrat. \n",
      " Je suis à votre disposition pour tout renseignement complémentaires. \n",
      "  \n",
      " Sincères salutations \n",
      " Monsieur Dupont \n",
      "  \n"
     ]
    }
   ],
   "source": [
    "print(df_emails.body[5])"
   ]
  },
  {
   "cell_type": "markdown",
   "metadata": {},
   "source": [
    "The body column can contain a historic of conversations as below :"
   ]
  },
  {
   "cell_type": "code",
   "execution_count": 4,
   "metadata": {},
   "outputs": [
    {
     "name": "stdout",
     "output_type": "stream",
     "text": [
      " \n",
      "  \n",
      "  \n",
      " Bonjours, \n",
      "  \n",
      " Suite a notre conversation téléphonique de Mardi , pourriez vous me dire la \n",
      " somme que je vous dois afin d'être en régularisation . \n",
      "  \n",
      " Merci bonne journée \n",
      "  \n",
      " Le mar. 22 mai 2018 à 10:20,  <conseiller@Societeimaginaire.fr> a écrit : \n",
      " Bonjour. \n",
      "  \n",
      " Merci de bien vouloir prendre connaissance du document ci-joint : \n",
      " 1 - Relevé d'identité postal (contrats) \n",
      "  \n",
      " Cordialement. \n",
      "  \n",
      " La Mututelle Imaginaire \n",
      "  \n",
      " La visualisation des fichiers PDF nécessite Adobe Reader. \n",
      "  \n"
     ]
    }
   ],
   "source": [
    "print(df_emails.body[2])"
   ]
  },
  {
   "cell_type": "markdown",
   "metadata": {},
   "source": [
    "The body column can contain a transfered message as below :"
   ]
  },
  {
   "cell_type": "code",
   "execution_count": 5,
   "metadata": {},
   "outputs": [
    {
     "name": "stdout",
     "output_type": "stream",
     "text": [
      " \n",
      "  \n",
      "  \n",
      "  \n",
      " ----- Transféré par Conseiller le 24/05/2018 11:49 ----- \n",
      "  \n",
      " De :\tDupont <monsieurdupont@extensiona.com> \n",
      " A :\tconseiller@Societeimaginaire.fr \n",
      " Cc :\tSociete@www.Societe.fr \n",
      " Date :\t24/05/2018 11:36 \n",
      " Objet :\tDevis habitation \n",
      "  \n",
      "  \n",
      "  \n",
      " Bonjour \n",
      " Je suis client chez vous \n",
      " Pouvez vous m établir un devis pour mon fils qui souhaite \n",
      " louer l’appartement suivant : \n",
      " 25 rue du rueimaginaire 77000 \n",
      " Merci \n",
      " Envoyé de mon iPhone\n"
     ]
    }
   ],
   "source": [
    "print(df_emails.body[0])"
   ]
  },
  {
   "cell_type": "markdown",
   "metadata": {},
   "source": [
    "The body column can contain a mix of transfered messages and historic conversations as below :"
   ]
  },
  {
   "cell_type": "code",
   "execution_count": 6,
   "metadata": {},
   "outputs": [
    {
     "name": "stdout",
     "output_type": "stream",
     "text": [
      " \n",
      "  \n",
      "  \n",
      " (Embedded image moved to file: pic.jpg) Rejoignez-nous sur notre page \n",
      " Facebook \n",
      "  \n",
      " (Embedded image moved to file: pic.gif) \n",
      "  \n",
      "  \n",
      "  \n",
      " ----- Transféré par Conseiller/Societe Imaginaire le 07/06/2018 16:32 ----- \n",
      "  \n",
      " De :\tmonsieurdupont <monsieurdupont@extensionb.com> \n",
      " A :\tconseiller@Societeimaginaire.fr \n",
      " Date :\t07/06/2018 16:16 \n",
      " Objet :\tRe : Message de votre conseillère personnelle \n",
      "  \n",
      "  \n",
      "  \n",
      " Bonjour, \n",
      "  \n",
      " Merci de vos messages. La voiture est conduite par Monsieur Dupont. \n",
      " Nos deux voitures sont assurées à 100%. \n",
      "  \n",
      " Cordialement, \n",
      "  \n",
      " Monsieur Dupont \n",
      "  \n",
      " Le 07/06/18, \"conseiller@Societeimaginaire.fr\" <conseiller@Societeimaginaire.fr> a \n",
      " écrit : \n",
      "  \n",
      "  \n",
      " Chère client, \n",
      "  \n",
      " Suite à notre bilan du 01 mai dernier, je souhaitais savoir ce que vous \n",
      " avez décidé. \n",
      "  \n",
      "  \n",
      " Je devais vous établir un devis pour votre voiture donc si \n",
      " vous pouviez m'indiquer le conducteur principal, la date de permis de la voiture ainsi \n",
      " que le type de couverture que vous recherchez, je vous enverrai le devis rapidement. \n",
      "  \n",
      "  \n",
      " J'attend de vos nouvelles. \n",
      "  \n",
      " Bien Cordialement. \n",
      "  \n",
      " Conseiller \n",
      " Délégation Conseil \n",
      " conseillerh@Societeimaginaire.fr \n",
      "  \n",
      "  \n"
     ]
    }
   ],
   "source": [
    "print(df_emails.body[39])"
   ]
  },
  {
   "cell_type": "markdown",
   "metadata": {},
   "source": [
    "#### Header column"
   ]
  },
  {
   "cell_type": "markdown",
   "metadata": {},
   "source": [
    "The header contains the subject of the email :"
   ]
  },
  {
   "cell_type": "code",
   "execution_count": 7,
   "metadata": {},
   "outputs": [
    {
     "name": "stdout",
     "output_type": "stream",
     "text": [
      "Bulletin de salaire\n"
     ]
    }
   ],
   "source": [
    "print(df_emails.header[4])"
   ]
  },
  {
   "cell_type": "markdown",
   "metadata": {},
   "source": [
    "The header can also indicate if the message has been transfered if TR, Tr, FWD, Fwd are located at the start of the header"
   ]
  },
  {
   "cell_type": "code",
   "execution_count": 8,
   "metadata": {},
   "outputs": [
    {
     "name": "stdout",
     "output_type": "stream",
     "text": [
      "Tr : Immatriculation voiture\n"
     ]
    }
   ],
   "source": [
    "print(df_emails.header[1])"
   ]
  },
  {
   "cell_type": "markdown",
   "metadata": {},
   "source": [
    "The header can also indicate if the message is an historic of conversations if Re or RE are located at the start of the header."
   ]
  },
  {
   "cell_type": "code",
   "execution_count": 9,
   "metadata": {},
   "outputs": [
    {
     "name": "stdout",
     "output_type": "stream",
     "text": [
      "Re: Votre adhésion à la Société Imaginaire\n"
     ]
    }
   ],
   "source": [
    "print(df_emails.header[3])"
   ]
  },
  {
   "cell_type": "markdown",
   "metadata": {},
   "source": [
    "#### From column"
   ]
  },
  {
   "cell_type": "markdown",
   "metadata": {},
   "source": [
    "The from column contains the email address of the person who sent the email."
   ]
  },
  {
   "cell_type": "code",
   "execution_count": 10,
   "metadata": {},
   "outputs": [
    {
     "name": "stdout",
     "output_type": "stream",
     "text": [
      "Monsieur Dupont <monsieurdupont@extensiond.com>\n"
     ]
    }
   ],
   "source": [
    "print(df_emails.loc[3,\"from\"])"
   ]
  },
  {
   "cell_type": "markdown",
   "metadata": {},
   "source": [
    "#### To column"
   ]
  },
  {
   "cell_type": "markdown",
   "metadata": {},
   "source": [
    "The to column, which is optional, contains the email address of the person the email has been sent to."
   ]
  },
  {
   "cell_type": "code",
   "execution_count": 11,
   "metadata": {},
   "outputs": [
    {
     "name": "stdout",
     "output_type": "stream",
     "text": [
      "demandes@societeimaginaire.fr\n"
     ]
    }
   ],
   "source": [
    "print(df_emails.loc[3,\"to\"])"
   ]
  },
  {
   "cell_type": "markdown",
   "metadata": {},
   "source": [
    "#### Date column"
   ]
  },
  {
   "cell_type": "markdown",
   "metadata": {},
   "source": [
    "The date column contains the date at which the email has been sent."
   ]
  },
  {
   "cell_type": "code",
   "execution_count": 12,
   "metadata": {},
   "outputs": [
    {
     "name": "stdout",
     "output_type": "stream",
     "text": [
      "vendredi 25 mai 2018 10 h 15 CEST\n"
     ]
    }
   ],
   "source": [
    "print(df_emails.loc[3,\"date\"])"
   ]
  },
  {
   "cell_type": "markdown",
   "metadata": {},
   "source": [
    "#### Sexe column"
   ]
  },
  {
   "cell_type": "markdown",
   "metadata": {},
   "source": [
    "The sexe column contains the gender of the sender"
   ]
  },
  {
   "cell_type": "code",
   "execution_count": 13,
   "metadata": {},
   "outputs": [
    {
     "name": "stdout",
     "output_type": "stream",
     "text": [
      "M\n"
     ]
    }
   ],
   "source": [
    "print(df_emails.loc[3,\"sexe\"])"
   ]
  },
  {
   "cell_type": "markdown",
   "metadata": {},
   "source": [
    "#### Age column"
   ]
  },
  {
   "cell_type": "markdown",
   "metadata": {},
   "source": [
    "The age column contains the age of the sender"
   ]
  },
  {
   "cell_type": "code",
   "execution_count": 14,
   "metadata": {},
   "outputs": [
    {
     "name": "stdout",
     "output_type": "stream",
     "text": [
      "50\n"
     ]
    }
   ],
   "source": [
    "print(df_emails.loc[3,\"age\"])"
   ]
  },
  {
   "cell_type": "markdown",
   "metadata": {},
   "source": [
    "#### Label column"
   ]
  },
  {
   "cell_type": "markdown",
   "metadata": {},
   "source": [
    "The label column, which is optional, contains the labels of each emails for a classification problem"
   ]
  },
  {
   "cell_type": "code",
   "execution_count": 15,
   "metadata": {},
   "outputs": [
    {
     "data": {
      "text/plain": [
       "['habitation',\n",
       " 'vehicule',\n",
       " 'compte',\n",
       " 'adhesion',\n",
       " 'resiliation',\n",
       " 'autres',\n",
       " 'bilan',\n",
       " 'modification',\n",
       " 'succession',\n",
       " 'regularisation',\n",
       " 'sinistres']"
      ]
     },
     "execution_count": 15,
     "metadata": {},
     "output_type": "execute_result"
    }
   ],
   "source": [
    "list(df_emails.label.unique())"
   ]
  },
  {
   "cell_type": "code",
   "execution_count": null,
   "metadata": {},
   "outputs": [],
   "source": []
  }
 ],
 "metadata": {
  "kernelspec": {
   "display_name": "melusine",
   "language": "python",
   "name": "melusine"
  },
  "language_info": {
   "codemirror_mode": {
    "name": "ipython",
    "version": 3
   },
   "file_extension": ".py",
   "mimetype": "text/x-python",
   "name": "python",
   "nbconvert_exporter": "python",
   "pygments_lexer": "ipython3",
   "version": "3.6.10"
  }
 },
 "nbformat": 4,
 "nbformat_minor": 2
}
