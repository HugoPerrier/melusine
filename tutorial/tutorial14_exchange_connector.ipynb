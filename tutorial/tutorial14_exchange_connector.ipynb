{
 "cells": [
  {
   "cell_type": "code",
   "execution_count": null,
   "metadata": {
    "ExecuteTime": {
     "end_time": "2021-05-12T08:48:34.947102Z",
     "start_time": "2021-05-12T08:48:34.943309Z"
    }
   },
   "outputs": [],
   "source": [
    "import logging\n",
    "import sys\n",
    "\n",
    "logging.basicConfig(stream=sys.stdout, level=logging.INFO)\n",
    "logging.getLogger(\"exchangelib\").setLevel(logging.WARNING)"
   ]
  },
  {
   "cell_type": "markdown",
   "metadata": {},
   "source": [
    "# Connecting melusine to an Outlook Exchange mailbox"
   ]
  },
  {
   "cell_type": "markdown",
   "metadata": {},
   "source": [
    "The main use-case for Melusine is **email routing**. Melusine mostly focuses on the Machine Learning aspects of email routing, however, in order to make routing effective, ML models need to be connected to a mailbox.  \n",
    "To connect Melusine to a mailbox and process emails, possible options are:  \n",
    "\n",
    "**Option 1: (Online processing) - Exposing the ML models through an API**  \n",
    "With this option, Melusine is used solely to predict target folders, the action of moving emails from a folder to another (or from a mailbox to another) is taken care of by an email processing system. The email processing system is  typically run by the company's IT department.  \n",
    "\n",
    "> Example: An email processing system sends a request to the Melusine API. The request contains the email content and associated metadata while the API response contains the predicted target folder for the email. Based on the API response, the email processing system is responsible for effectively moving the email in the right folder.\n",
    "\n",
    "**Option 2: (Batch processing) - Connecting Melusine to a mailbox using a python email client**  \n",
    "With this option, a script is scheduled to regularly collect the emails in the inbox, predict the target folders and move the emails to the predicted folders. In this scenario, the emails are moved to the right folders directly from the python code, it is not necessary to interact with an email processing system. \n",
    "\n",
    "> Everyday at 8 a.m, a script is run. The script uses the `ExchangeConnector` to load the emails in an Exchange mailbox, then the Melusine ML functionalities are used to run prediction on each email and finally the `ExchangeConnector` is used again to move the emails to their predicted target folder.\n",
    "\n",
    "This tutorial demonstrates how the Melusine `ExchangeConnector` can help you with end-to-end email routing. The ExchangeConnector uses the `exchangelib` package behind the scene.  \n",
    "\n",
    "```\n",
    ">>> pip install exchangelib\n",
    "```"
   ]
  },
  {
   "cell_type": "markdown",
   "metadata": {},
   "source": [
    "# Routing process\n",
    "The process imagined for email routing using Melusine is the following:\n",
    "* Emails are received on the mailbox mymailbox@maif.fr\n",
    "* Melusine is used to predict the target folder for the incoming emails\n",
    "* The `ExchangeConnector` is used to move the emails to the predicted target folders\n",
    "\n",
    "Since ML models are not perfect, some emails might be misclassified. When that happens, consumers of the mailbox are  encouraged to move the emails to the appropriate \"correction folder\".  \n",
    "The emails in the correction folders will constitute training data for future model trainings and thus improve the model.  \n"
   ]
  },
  {
   "cell_type": "markdown",
   "metadata": {},
   "source": [
    "# The ExchangeConnector\n",
    "\n",
    "The Melusine `ExchangeConnector` is instanciated with the following arguments:\n",
    "* `mailbox_address`: Email address of the mailbox (ex: mymailbox@maif.fr). By default, the login address is used \n",
    "* `credentials`: ExchangeLib credentials\n",
    "* `config`: ExchangeLib configuration \n",
    "* `routing_folder_path`: Path to the folder that contains the routed emails\n",
    "* `correction_folder_path`: Path to the folder that contains the corrected emails\n",
    "* `done_folder_path`: Path to the folder that contains \"Done\" emails (emails that have already been processed)\n",
    "* `target_column`: When routing, name of the DataFrame column containing target folders\"target\" (Default: target)\n",
    "* `account_args`: Extra arguments to instantiate an ExchangeLib Account object\n",
    "* `sender_address`: Email address to be used to send emails"
   ]
  },
  {
   "cell_type": "markdown",
   "metadata": {},
   "source": [
    "## Exchange authentification\n",
    "\n",
    "Authentification methods may differ depending on the user context.  \n",
    "This tutorial uses a **Basic Authentification** which works for most personal Outlook Exchange Accounts.\n",
    "\n",
    "Other types of authentification methods are shown below but if it doesn't work for you, \n",
    "you should investigate the `exchangelib` [documentation](https://ecederstrand.github.io/exchangelib/#setup-and-connecting). \n"
   ]
  },
  {
   "cell_type": "code",
   "execution_count": null,
   "metadata": {},
   "outputs": [],
   "source": [
    "from exchangelib import Credentials, Configuration, FaultTolerance\n",
    "from melusine.connectors import ExchangeConnector"
   ]
  },
  {
   "cell_type": "code",
   "execution_count": null,
   "metadata": {},
   "outputs": [],
   "source": [
    "authentification_method = \"basic\""
   ]
  },
  {
   "cell_type": "markdown",
   "metadata": {},
   "source": [
    "### Basic Authentification\n",
    "Connect to an outlook mailbox using a login and a password"
   ]
  },
  {
   "cell_type": "code",
   "execution_count": null,
   "metadata": {
    "ExecuteTime": {
     "end_time": "2021-05-12T08:48:36.768143Z",
     "start_time": "2021-05-12T08:48:36.764900Z"
    }
   },
   "outputs": [],
   "source": [
    "if authentification_method == \"basic\":\n",
    "    # Parameters\n",
    "    my_mailbox_address = \"mymailbox@maif.fr\"\n",
    "    my_sender_address = my_mailbox_address\n",
    "    my_password = \"melusineisawesome\"\n",
    "    max_wait = 60\n",
    "    \n",
    "    # Exchangelib configurations\n",
    "    credentials = Credentials(my_mailbox_address, my_password)\n",
    "    config = Configuration(\n",
    "        retry_policy=FaultTolerance(max_wait=max_wait), \n",
    "        credentials=credentials,\n",
    "    )\n",
    "    \n",
    "    # Instantiate connector\n",
    "    connector = ExchangeConnector(\n",
    "        credentials=credentials, \n",
    "        config=config,\n",
    "        mailbox_address=my_mailbox_address,\n",
    "        sender_address=my_sender_address,\n",
    "    )"
   ]
  },
  {
   "cell_type": "markdown",
   "metadata": {},
   "source": [
    "### Basic Authentification by Delegation"
   ]
  },
  {
   "cell_type": "code",
   "execution_count": null,
   "metadata": {},
   "outputs": [],
   "source": [
    "from exchangelib import DELEGATE, NTLM\n",
    "\n",
    "if authentification_method == \"delegate\":\n",
    "    # Parameters\n",
    "    my_mailbox_address = \"mymailbox@maif.fr\"\n",
    "    my_sender_address = my_mailbox_address\n",
    "    my_password = \"melusineisawesome\"\n",
    "    max_wait = 60\n",
    "    account_args = {\n",
    "        autodiscover=False,\n",
    "        access_type=DELEGATE,\n",
    "\n",
    "    }\n",
    "\n",
    "    # Exchangelib configurations\n",
    "    credentials = Credentials(my_mailbox_address, my_password)\n",
    "    config = Configuration(\n",
    "        retry_policy=FaultTolerance(max_wait=max_wait), \n",
    "        credentials=credentials,\n",
    "        server=my_server,\n",
    "        auth_type=NTLM,\n",
    "    )\n",
    "\n",
    "    # Instantiate connector\n",
    "    connector = ExchangeConnector(\n",
    "        credentials=credentials, \n",
    "        config=config,\n",
    "        mailbox_address=my_mailbox_address,\n",
    "        sender_address=my_sender_address,\n",
    "        account_args=account_args\n",
    "    )"
   ]
  },
  {
   "cell_type": "markdown",
   "metadata": {},
   "source": [
    "### OAuth2 Authentification"
   ]
  },
  {
   "cell_type": "code",
   "execution_count": null,
   "metadata": {},
   "outputs": [],
   "source": [
    "from exchangelib import OAUTH2, OAuth2Credentials\n",
    "\n",
    "if authentification_method == \"oauth2\":\n",
    "    # Parameters\n",
    "    my_mailbox_address = \"mymailbox@maif.fr\"\n",
    "    my_sender_address = my_mailbox_address\n",
    "    my_client_id = \"my_client_id\"\n",
    "    my_client_secret = \"my_client_secret\"\n",
    "    my_tenant_id = \"my_tenant_id\"\n",
    "    max_wait = 60\n",
    "    account_args = {\n",
    "        autodiscover=False,\n",
    "        access_type=DELEGATE,\n",
    "\n",
    "    }\n",
    "\n",
    "    # Exchangelib configurations\n",
    "    credentials = OAuth2Credentials(\n",
    "      client_id=my_client_id, client_secret=my_client_secret, tenant_id=my_tenant_id\n",
    "    )\n",
    "    config = Configuration(\n",
    "        retry_policy=FaultTolerance(max_wait=max_wait),\n",
    "        credentials=credentials, \n",
    "        auth_type=OAUTH2,\n",
    "    )\n",
    "\n",
    "    # Instantiate connector\n",
    "    connector = ExchangeConnector(\n",
    "        credentials=credentials, \n",
    "        config=config,\n",
    "        mailbox_address=my_mailbox_address,\n",
    "        sender_address=my_sender_address,\n",
    "    )"
   ]
  },
  {
   "cell_type": "markdown",
   "metadata": {},
   "source": [
    "# Send fake emails\n",
    "In this section a set of fake emails are sent to the mailbox.  The fake emails have _\"[Melusine Test]\"_ as a header to make sure they are not confused with your real emails.  \n",
    "In the following sections, Melusine and the `ExchangeConnector` will be used to route these emails."
   ]
  },
  {
   "cell_type": "markdown",
   "metadata": {},
   "source": [
    "## Send emails\n",
    "The `send_email` method is used to send emails.  "
   ]
  },
  {
   "cell_type": "code",
   "execution_count": null,
   "metadata": {
    "ExecuteTime": {
     "end_time": "2021-05-12T08:42:12.689799Z",
     "start_time": "2021-05-12T08:42:12.686285Z"
    }
   },
   "outputs": [],
   "source": [
    "fake_emails = [\n",
    "    {\n",
    "        \"header\": \"[Melusine Test]\",\n",
    "        \"body\": \"This should go to folder Test1\"\n",
    "    },\n",
    "    {\n",
    "        \"header\": \"[Melusine Test]\",\n",
    "        \"body\": \"This should go to folder Test2\"\n",
    "    },\n",
    "    {\n",
    "        \"header\": \"[Melusine Test]\",\n",
    "        \"body\": \"This should go to folder Test3\"\n",
    "    }\n",
    "]"
   ]
  },
  {
   "cell_type": "code",
   "execution_count": null,
   "metadata": {
    "ExecuteTime": {
     "end_time": "2021-05-12T08:42:14.084874Z",
     "start_time": "2021-05-12T08:42:13.262233Z"
    }
   },
   "outputs": [],
   "source": [
    "for email_dict in fake_emails:\n",
    "    connector.send_email(\n",
    "        to=[my_mailbox_address], \n",
    "        header=email_dict[\"header\"], \n",
    "        body=email_dict[\"body\"], \n",
    "        attachments=None\n",
    ")"
   ]
  },
  {
   "cell_type": "markdown",
   "metadata": {},
   "source": [
    "**Expected output:**  \n",
    "You should receive 3 emails in your mailbox"
   ]
  },
  {
   "cell_type": "markdown",
   "metadata": {},
   "source": [
    "# Create folders\n",
    "In the email routing scenario considered, the following folders are needed:  \n",
    "\n",
    "**Target folders**  \n",
    "These are the folders where the routed emails will be stored.\n",
    "* `Inbox / ROUTING / Test1`\n",
    "* `Inbox / ROUTING / Test2`\n",
    "* `Inbox / ROUTING / Test3`\n",
    "\n",
    "**Correction folders**  \n",
    "When an email is erroneously routed to a target folder, mailbox consumers can move the email to the appropriate \"Correction folder\".  \n",
    "* `Inbox / CORRECTION / Test1`\n",
    "* `Inbox / CORRECTION / Test2`\n",
    "* `Inbox / CORRECTION / Test3`\n",
    "\n",
    "**Done folder**\n",
    "Once the emails in the correction folders have been processed (ex: for model re-training), the correction folders can be flushed by moving all the emails in the Done folder.  \n",
    "* `Inbox / DONE`"
   ]
  },
  {
   "cell_type": "markdown",
   "metadata": {},
   "source": [
    "## Setup ROUTING folder structure"
   ]
  },
  {
   "cell_type": "code",
   "execution_count": null,
   "metadata": {
    "ExecuteTime": {
     "end_time": "2021-05-12T08:27:31.459664Z",
     "start_time": "2021-05-12T08:27:31.453102Z"
    }
   },
   "outputs": [],
   "source": [
    "# Print path to the default routing folder (We will update it later)\n",
    "f\"Default ROUTING folder path : '{connector.routing_folder_path}'\""
   ]
  },
  {
   "cell_type": "code",
   "execution_count": null,
   "metadata": {
    "ExecuteTime": {
     "end_time": "2021-05-12T08:28:48.738948Z",
     "start_time": "2021-05-12T08:28:48.732645Z"
    }
   },
   "outputs": [],
   "source": [
    "# Create the base routing folder\n",
    "connector.create_folders([\"ROUTING\"], base_folder_path=None)"
   ]
  },
  {
   "cell_type": "code",
   "execution_count": null,
   "metadata": {
    "ExecuteTime": {
     "end_time": "2021-05-12T08:29:33.586549Z",
     "start_time": "2021-05-12T08:29:33.090879Z"
    }
   },
   "outputs": [],
   "source": [
    "# Create the routing subfolders\n",
    "connector.create_folders([\"Test1\", \"Test2\", \"Test3\"], base_folder_path=\"ROUTING\")"
   ]
  },
  {
   "cell_type": "code",
   "execution_count": null,
   "metadata": {
    "ExecuteTime": {
     "end_time": "2021-05-12T08:48:48.224829Z",
     "start_time": "2021-05-12T08:48:48.207399Z"
    }
   },
   "outputs": [],
   "source": [
    "# Setup the routing folder path\n",
    "connector.routing_folder_path = \"ROUTING\"\n",
    "f\"Updated ROUTING folder path :'{connector.routing_folder_path}'\""
   ]
  },
  {
   "cell_type": "code",
   "execution_count": null,
   "metadata": {
    "ExecuteTime": {
     "end_time": "2021-05-12T08:29:42.170469Z",
     "start_time": "2021-05-12T08:29:42.160155Z"
    }
   },
   "outputs": [],
   "source": [
    "# Print folder structure\n",
    "print(connector.routing_folder.tree())"
   ]
  },
  {
   "cell_type": "markdown",
   "metadata": {},
   "source": [
    "**Expected output:** \n",
    "<pre>\n",
    "ROUTING  \n",
    "├── Test1\n",
    "├── Test2\n",
    "└── Test3\n",
    "</pre>"
   ]
  },
  {
   "cell_type": "markdown",
   "metadata": {},
   "source": [
    "## Setup the CORRECTION folder structure"
   ]
  },
  {
   "cell_type": "code",
   "execution_count": null,
   "metadata": {
    "ExecuteTime": {
     "end_time": "2021-05-12T08:31:06.630052Z",
     "start_time": "2021-05-12T08:31:06.623670Z"
    }
   },
   "outputs": [],
   "source": [
    "f\"Default CORRECTION folder path :'{connector.correction_folder_path}'\""
   ]
  },
  {
   "cell_type": "code",
   "execution_count": null,
   "metadata": {
    "ExecuteTime": {
     "end_time": "2021-05-12T08:31:26.945231Z",
     "start_time": "2021-05-12T08:31:26.727024Z"
    }
   },
   "outputs": [],
   "source": [
    "# Create the base CORRECTION folder at the inbox root\n",
    "connector.create_folders([\"CORRECTION\"], base_folder_path=None)"
   ]
  },
  {
   "cell_type": "code",
   "execution_count": null,
   "metadata": {
    "ExecuteTime": {
     "end_time": "2021-05-12T08:31:37.037049Z",
     "start_time": "2021-05-12T08:31:36.648397Z"
    }
   },
   "outputs": [],
   "source": [
    "# Create the correction subfolders\n",
    "connector.create_folders([\"Test1\", \"Test2\", \"Test3\"], base_folder_path=\"CORRECTION\")"
   ]
  },
  {
   "cell_type": "code",
   "execution_count": null,
   "metadata": {
    "ExecuteTime": {
     "end_time": "2021-05-12T08:48:52.193656Z",
     "start_time": "2021-05-12T08:48:52.185457Z"
    }
   },
   "outputs": [],
   "source": [
    "# Setup the correction folder path\n",
    "connector.correction_folder_path = \"CORRECTION\"\n",
    "f\"Updated CORRECTION folder path :'{connector.correction_folder_path}'\""
   ]
  },
  {
   "cell_type": "code",
   "execution_count": null,
   "metadata": {
    "ExecuteTime": {
     "end_time": "2021-05-12T08:32:07.679383Z",
     "start_time": "2021-05-12T08:32:07.669073Z"
    }
   },
   "outputs": [],
   "source": [
    "# Print folder structure\n",
    "print(connector.correction_folder.tree())"
   ]
  },
  {
   "cell_type": "markdown",
   "metadata": {},
   "source": [
    "**Expected output:** \n",
    "<pre>\n",
    "CORRECTION  \n",
    "├── Test1\n",
    "├── Test2\n",
    "└── Test3\n",
    "</pre>"
   ]
  },
  {
   "cell_type": "markdown",
   "metadata": {},
   "source": [
    "## Setup the DONE folder"
   ]
  },
  {
   "cell_type": "code",
   "execution_count": null,
   "metadata": {
    "ExecuteTime": {
     "end_time": "2021-05-12T08:35:51.335556Z",
     "start_time": "2021-05-12T08:35:51.119689Z"
    }
   },
   "outputs": [],
   "source": [
    "# Create the DONE folder at the inbox root\n",
    "connector.create_folders([\"DONE\"], base_folder_path=None)"
   ]
  },
  {
   "cell_type": "code",
   "execution_count": null,
   "metadata": {
    "ExecuteTime": {
     "end_time": "2021-05-12T08:48:57.206255Z",
     "start_time": "2021-05-12T08:48:57.196663Z"
    }
   },
   "outputs": [],
   "source": [
    "# Setup the done folder path\n",
    "connector.done_folder_path = \"DONE\"\n",
    "f\"Updated DONE folder path :'{connector.done_folder_path}'\""
   ]
  },
  {
   "cell_type": "code",
   "execution_count": null,
   "metadata": {
    "ExecuteTime": {
     "end_time": "2021-05-12T08:36:47.957920Z",
     "start_time": "2021-05-12T08:36:47.936964Z"
    }
   },
   "outputs": [],
   "source": [
    "# Print folder structure\n",
    "print(connector.mailbox_account.inbox.tree())"
   ]
  },
  {
   "cell_type": "markdown",
   "metadata": {
    "ExecuteTime": {
     "end_time": "2021-05-12T08:38:08.919697Z",
     "start_time": "2021-05-12T08:38:08.913168Z"
    }
   },
   "source": [
    "**Expected output:** \n",
    "<pre>\n",
    "Boîte de réception\n",
    "├── ROUTING\n",
    "│   ├── Test1\n",
    "│   ├── Test2\n",
    "│   └── Test3\n",
    "├── CORRECTION\n",
    "│   ├── Test1\n",
    "│   ├── Test2\n",
    "│   └── Test3\n",
    "└── DONE\n",
    "</pre>"
   ]
  },
  {
   "cell_type": "markdown",
   "metadata": {},
   "source": [
    "# Load emails\n",
    "Before emails can be routed, we need to load the content of new emails.  \n",
    "The `get_emails` method loads the content of a mailbox folder (by default: the inbox folder)."
   ]
  },
  {
   "cell_type": "code",
   "execution_count": null,
   "metadata": {
    "ExecuteTime": {
     "end_time": "2021-05-12T08:49:14.601873Z",
     "start_time": "2021-05-12T08:49:13.272360Z"
    }
   },
   "outputs": [],
   "source": [
    "df_emails = connector.get_emails(max_emails=50, ascending=False)"
   ]
  },
  {
   "cell_type": "code",
   "execution_count": null,
   "metadata": {
    "ExecuteTime": {
     "end_time": "2021-05-12T08:53:24.385670Z",
     "start_time": "2021-05-12T08:53:24.367186Z"
    }
   },
   "outputs": [],
   "source": [
    "# Pick only test emails\n",
    "mask = df_emails[\"header\"] == \"[Melusine Test]\"\n",
    "df_emails = df_emails[mask].copy()\n",
    "\n",
    "# reverse order\n",
    "df_emails = df_emails.reindex(index=df_emails.index[::-1])\n",
    "\n",
    "df_emails.drop([\"message_id\"], axis=1)"
   ]
  },
  {
   "cell_type": "markdown",
   "metadata": {},
   "source": [
    "**Expected output:**"
   ]
  },
  {
   "cell_type": "markdown",
   "metadata": {},
   "source": [
    "|    | message_id                                                                      | body     | header          | date                      | from                         | to                               | attachment   |\n",
    "|---:|:--------------------------------------------------------------------------------|:---------|:----------------|:--------------------------|:-----------------------------|:---------------------------------|:-------------|\n",
    "| 61 | <1> | This should go to folder Test1 | [Melusine Test] | 2021-05-04T19:07:56+00:00 | mymailbox@maif.fr | ['mymailbox@maif.fr'] |              |\n",
    "| 62 | <2> | This should go to folder Test2 | [Melusine Test] | 2021-05-04T19:07:55+00:00 | mymailbox@maif.fr | ['mymailbox@maif.fr'] |              |\n",
    "| 63 | <3> | This should go to folder Test3 | [Melusine Test] | 2021-05-04T19:07:56+00:00 | mymailbox@maif.fr | ['mymailbox@maif.fr'] |              |"
   ]
  },
  {
   "cell_type": "markdown",
   "metadata": {},
   "source": [
    "# Predict target folders\n",
    "Melusine offers a variety of models (CNN, RNN, Transformers, etc) to predict the destination folder of an email.  However, this tutorial focuses on the exchange connector so the ML model prediction part is mocked. Feel free to check out the `tutorial08_full_pipeline_detailed.ipynb` to see how to use Melusine for ML predictions."
   ]
  },
  {
   "cell_type": "code",
   "execution_count": null,
   "metadata": {
    "ExecuteTime": {
     "end_time": "2021-05-12T08:53:26.737095Z",
     "start_time": "2021-05-12T08:53:26.723356Z"
    }
   },
   "outputs": [],
   "source": [
    "import re\n",
    "\n",
    "def mock_predictions(emails):\n",
    "    # Use a regex to find the target folder\n",
    "    emails[\"target\"] = \"Test\" + emails[\"body\"].str.extract(r\"Test(\\d)\")\n",
    "    \n",
    "    # Introduce a missclassification\n",
    "    emails.loc[0, \"target\"] = \"Test2\"\n",
    "    \n",
    "    return emails\n",
    "\n",
    "df_emails = mock_predictions(df_emails)\n",
    "df_emails[[\"header\", \"body\", \"target\"]]"
   ]
  },
  {
   "cell_type": "markdown",
   "metadata": {},
   "source": [
    "**Expected output:**"
   ]
  },
  {
   "cell_type": "markdown",
   "metadata": {
    "ExecuteTime": {
     "end_time": "2021-05-04T19:37:10.644719Z",
     "start_time": "2021-05-04T19:37:10.623305Z"
    }
   },
   "source": [
    "|    | header          | body                           | target   |\n",
    "|---:|:----------------|:-------------------------------|:---------|\n",
    "| 76 | [Melusine Test] | This should go to folder Test1 | Test1    |\n",
    "| 77 | [Melusine Test] | This should go to folder Test2 | Test2    |\n",
    "| 78 | [Melusine Test] | This should go to folder Test3 | Test2    |"
   ]
  },
  {
   "cell_type": "markdown",
   "metadata": {},
   "source": [
    "As you can see, there is a prediction error, an email was incorrectly classified as Test2"
   ]
  },
  {
   "cell_type": "markdown",
   "metadata": {},
   "source": [
    "# Route emails\n",
    "Now that we have predicted the target folders for each email, we use the `ExchangeConnector` to move the emails in the mailbox.  \n",
    "The `route_emails` does exactly that. Its argument are:  \n",
    "        classified_emails,\n",
    "        on_error=\"warning\",\n",
    "        id_column=\"message_id\",\n",
    "        target_column=\"target\",\n",
    "* `classified_emails`: The DataFrame containing the emails and their predicted target folder\n",
    "* `raise_missing_folder_error`: If activated, an error is raised when the target folder does not exist in the mailbox. Otherwise, a warning is printed and the emails are left in the inbox.\n",
    "* `id_column`: Name of the DataFrame column containing the message ID\n",
    "* `target_column`: Name of the DataFrame column containing the target folder"
   ]
  },
  {
   "cell_type": "code",
   "execution_count": null,
   "metadata": {
    "ExecuteTime": {
     "end_time": "2021-05-12T08:53:43.045774Z",
     "start_time": "2021-05-12T08:53:40.907886Z"
    }
   },
   "outputs": [],
   "source": [
    "connector.route_emails(df_emails)"
   ]
  },
  {
   "cell_type": "code",
   "execution_count": null,
   "metadata": {
    "ExecuteTime": {
     "end_time": "2021-05-12T08:54:00.574483Z",
     "start_time": "2021-05-12T08:54:00.321274Z"
    }
   },
   "outputs": [],
   "source": [
    "connector.get_emails(base_folder_path=\"ROUTING/Test2\")[[\"header\", \"body\"]]"
   ]
  },
  {
   "cell_type": "markdown",
   "metadata": {},
   "source": [
    "**Expected output:**"
   ]
  },
  {
   "cell_type": "markdown",
   "metadata": {},
   "source": [
    "|    | message_id                                                                      | body     | header          | date                      | from                         | to                               | attachment   |\n",
    "|---:|:--------------------------------------------------------------------------------|:---------|:----------------|:--------------------------|:-----------------------------|:---------------------------------|:-------------|\n",
    "| 61 | <1> | This should go to folder Test1 | [Melusine Test] | 2021-05-04T19:07:56+00:00 | mymailbox@maif.fr | ['mymailbox@maif.fr'] |              |\n",
    "| 62 | <2> | This should go to folder Test2 | [Melusine Test] | 2021-05-04T19:07:55+00:00 | mymailbox@maif.fr | ['mymailbox@maif.fr'] |              |"
   ]
  },
  {
   "cell_type": "markdown",
   "metadata": {},
   "source": [
    "Two emails have been routed to the folder `Test2` !"
   ]
  },
  {
   "cell_type": "markdown",
   "metadata": {},
   "source": [
    "# Make corrections\n",
    "## Move emails to correction folders\n",
    "Corrections should be made by the mailbox consumers directly in the mailbox.   \n",
    "\n",
    "\n",
    "Go to your mailbox and move the emails that says:  \n",
    "**\"This should go to folder Test1\"**  \n",
    "(currently in the Test2 folder)\n",
    "To the correction folder `CORRECTION/Test1`"
   ]
  },
  {
   "cell_type": "markdown",
   "metadata": {},
   "source": [
    "## Load corrected data"
   ]
  },
  {
   "cell_type": "code",
   "execution_count": null,
   "metadata": {
    "ExecuteTime": {
     "end_time": "2021-05-12T08:55:05.941670Z",
     "start_time": "2021-05-12T08:55:05.519776Z"
    }
   },
   "outputs": [],
   "source": [
    "df_corrections = connector.get_corrections()\n",
    "df_corrections"
   ]
  },
  {
   "cell_type": "markdown",
   "metadata": {},
   "source": [
    "**Expected output:**"
   ]
  },
  {
   "cell_type": "markdown",
   "metadata": {},
   "source": [
    "|    | message_id                                                                      | body     | header          | date                      | from                         | to                               | attachment   |\n",
    "|---:|:--------------------------------------------------------------------------------|:---------|:----------------|:--------------------------|:-----------------------------|:---------------------------------|:-------------|\n",
    "| 61 | <1> | This should go to folder Test1 | [Melusine Test] | 2021-05-04T19:07:56+00:00 | mymailbox@maif.fr | ['mymailbox@maif.fr'] |              |"
   ]
  },
  {
   "cell_type": "markdown",
   "metadata": {},
   "source": [
    "The emails loaded from the correction folder can now be used to train a new ML model !"
   ]
  },
  {
   "cell_type": "markdown",
   "metadata": {},
   "source": [
    "# Move corrected emails to the \"Done\" folder"
   ]
  },
  {
   "cell_type": "code",
   "execution_count": null,
   "metadata": {
    "ExecuteTime": {
     "end_time": "2021-05-12T08:55:41.975692Z",
     "start_time": "2021-05-12T08:55:41.590077Z"
    }
   },
   "outputs": [],
   "source": [
    "connector.move_to_done(df_corrections[\"message_id\"])"
   ]
  },
  {
   "cell_type": "markdown",
   "metadata": {},
   "source": [
    "# Conclusion\n",
    "With the `ExchangeConnector` you should be able to easily implement email routing for your mailbox using Melusine !   \n",
    "\n",
    "\n",
    "**Hint :** If you like Melusine, don't forget to add a star on [GitHub](https://github.com/MAIF/melusine)"
   ]
  }
 ],
 "metadata": {
  "kernelspec": {
   "display_name": "melusine_perso",
   "language": "python",
   "name": "melusine_perso"
  },
  "language_info": {
   "codemirror_mode": {
    "name": "ipython",
    "version": 3
   },
   "file_extension": ".py",
   "mimetype": "text/x-python",
   "name": "python",
   "nbconvert_exporter": "python",
   "pygments_lexer": "ipython3",
   "version": "3.9.5"
  },
  "pycharm": {
   "stem_cell": {
    "cell_type": "raw",
    "metadata": {
     "collapsed": false
    },
    "source": []
   }
  },
  "toc": {
   "base_numbering": 1,
   "nav_menu": {},
   "number_sections": true,
   "sideBar": true,
   "skip_h1_title": false,
   "title_cell": "Table of Contents",
   "title_sidebar": "Contents",
   "toc_cell": false,
   "toc_position": {},
   "toc_section_display": true,
   "toc_window_display": false
  },
  "varInspector": {
   "cols": {
    "lenName": 16,
    "lenType": 16,
    "lenVar": 40
   },
   "kernels_config": {
    "python": {
     "delete_cmd_postfix": "",
     "delete_cmd_prefix": "del ",
     "library": "var_list.py",
     "varRefreshCmd": "print(var_dic_list())"
    },
    "r": {
     "delete_cmd_postfix": ") ",
     "delete_cmd_prefix": "rm(",
     "library": "var_list.r",
     "varRefreshCmd": "cat(var_dic_list()) "
    }
   },
   "types_to_exclude": [
    "module",
    "function",
    "builtin_function_or_method",
    "instance",
    "_Feature"
   ],
   "window_display": false
  }
 },
 "nbformat": 4,
 "nbformat_minor": 4
}
