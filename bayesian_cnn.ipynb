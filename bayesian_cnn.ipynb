{
 "cells": [
  {
   "cell_type": "code",
   "execution_count": null,
   "id": "fdb14de1",
   "metadata": {},
   "outputs": [],
   "source": [
    "!pip install astunparse keras_preprocessing flatbuffers"
   ]
  },
  {
   "cell_type": "code",
   "execution_count": null,
   "id": "62003a6c",
   "metadata": {},
   "outputs": [],
   "source": [
    "!pip install matplotlib"
   ]
  },
  {
   "cell_type": "code",
   "execution_count": 19,
   "id": "0486abb1",
   "metadata": {
    "collapsed": true
   },
   "outputs": [
    {
     "name": "stdout",
     "output_type": "stream",
     "text": [
      "Collecting mlflow\n",
      "  Using cached mlflow-1.20.2-py3-none-any.whl (14.6 MB)\n",
      "Collecting pyyaml>=5.1\n",
      "  Using cached PyYAML-5.4.1-cp37-cp37m-macosx_10_9_x86_64.whl (249 kB)\n",
      "Requirement already satisfied: entrypoints in /Users/benoit/miniconda3/envs/melusinefork/lib/python3.7/site-packages (from mlflow) (0.3)\n",
      "Requirement already satisfied: requests>=2.17.3 in /Users/benoit/miniconda3/envs/melusinefork/lib/python3.7/site-packages (from mlflow) (2.26.0)\n",
      "Collecting docker>=4.0.0\n",
      "  Using cached docker-5.0.2-py2.py3-none-any.whl (145 kB)\n",
      "Requirement already satisfied: protobuf>=3.7.0 in /Users/benoit/miniconda3/envs/melusinefork/lib/python3.7/site-packages (from mlflow) (3.18.0)\n",
      "Collecting prometheus-flask-exporter\n",
      "  Using cached prometheus_flask_exporter-0.18.2-py3-none-any.whl\n",
      "Requirement already satisfied: packaging in /Users/benoit/miniconda3/envs/melusinefork/lib/python3.7/site-packages (from mlflow) (21.0)\n",
      "Collecting gitpython>=2.1.0\n",
      "  Using cached GitPython-3.1.24-py3-none-any.whl (180 kB)\n",
      "Requirement already satisfied: pytz in /Users/benoit/miniconda3/envs/melusinefork/lib/python3.7/site-packages (from mlflow) (2021.1)\n",
      "Collecting alembic<=1.4.1\n",
      "  Using cached alembic-1.4.1-py2.py3-none-any.whl\n",
      "Collecting Flask\n",
      "  Using cached Flask-2.0.1-py3-none-any.whl (94 kB)\n",
      "Collecting sqlparse>=0.3.1\n",
      "  Using cached sqlparse-0.4.2-py3-none-any.whl (42 kB)\n",
      "Collecting sqlalchemy\n",
      "  Using cached SQLAlchemy-1.4.23-cp37-cp37m-macosx_10_14_x86_64.whl (1.5 MB)\n",
      "Collecting querystring-parser\n",
      "  Using cached querystring_parser-1.2.4-py2.py3-none-any.whl (7.9 kB)\n",
      "Collecting databricks-cli>=0.8.7\n",
      "  Using cached databricks_cli-0.15.0-py3-none-any.whl\n",
      "Collecting click>=7.0\n",
      "  Using cached click-8.0.1-py3-none-any.whl (97 kB)\n",
      "Requirement already satisfied: numpy in /Users/benoit/miniconda3/envs/melusinefork/lib/python3.7/site-packages (from mlflow) (1.19.5)\n",
      "Requirement already satisfied: cloudpickle in /Users/benoit/miniconda3/envs/melusinefork/lib/python3.7/site-packages (from mlflow) (2.0.0)\n",
      "Collecting gunicorn\n",
      "  Using cached gunicorn-20.1.0-py3-none-any.whl (79 kB)\n",
      "Requirement already satisfied: importlib-metadata!=4.7.0,>=3.7.0 in /Users/benoit/miniconda3/envs/melusinefork/lib/python3.7/site-packages (from mlflow) (4.8.1)\n",
      "Requirement already satisfied: pandas in /Users/benoit/miniconda3/envs/melusinefork/lib/python3.7/site-packages (from mlflow) (1.3.3)\n",
      "Collecting python-editor>=0.3\n",
      "  Using cached python_editor-1.0.4-py3-none-any.whl (4.9 kB)\n",
      "Collecting Mako\n",
      "  Using cached Mako-1.1.5-py2.py3-none-any.whl (75 kB)\n",
      "Requirement already satisfied: python-dateutil in /Users/benoit/miniconda3/envs/melusinefork/lib/python3.7/site-packages (from alembic<=1.4.1->mlflow) (2.8.2)\n",
      "Requirement already satisfied: six>=1.10.0 in /Users/benoit/miniconda3/envs/melusinefork/lib/python3.7/site-packages (from databricks-cli>=0.8.7->mlflow) (1.15.0)\n",
      "Collecting tabulate>=0.7.7\n",
      "  Using cached tabulate-0.8.9-py3-none-any.whl (25 kB)\n",
      "Collecting websocket-client>=0.32.0\n",
      "  Using cached websocket_client-1.2.1-py2.py3-none-any.whl (52 kB)\n",
      "Requirement already satisfied: typing-extensions>=3.7.4.3 in /Users/benoit/miniconda3/envs/melusinefork/lib/python3.7/site-packages (from gitpython>=2.1.0->mlflow) (3.7.4.3)\n",
      "Collecting gitdb<5,>=4.0.1\n",
      "  Using cached gitdb-4.0.7-py3-none-any.whl (63 kB)\n",
      "Collecting smmap<5,>=3.0.1\n",
      "  Using cached smmap-4.0.0-py2.py3-none-any.whl (24 kB)\n",
      "Requirement already satisfied: zipp>=0.5 in /Users/benoit/miniconda3/envs/melusinefork/lib/python3.7/site-packages (from importlib-metadata!=4.7.0,>=3.7.0->mlflow) (3.5.0)\n",
      "Requirement already satisfied: charset-normalizer~=2.0.0 in /Users/benoit/miniconda3/envs/melusinefork/lib/python3.7/site-packages (from requests>=2.17.3->mlflow) (2.0.6)\n",
      "Requirement already satisfied: certifi>=2017.4.17 in /Users/benoit/miniconda3/envs/melusinefork/lib/python3.7/site-packages (from requests>=2.17.3->mlflow) (2021.5.30)\n",
      "Requirement already satisfied: urllib3<1.27,>=1.21.1 in /Users/benoit/miniconda3/envs/melusinefork/lib/python3.7/site-packages (from requests>=2.17.3->mlflow) (1.26.6)\n",
      "Requirement already satisfied: idna<4,>=2.5 in /Users/benoit/miniconda3/envs/melusinefork/lib/python3.7/site-packages (from requests>=2.17.3->mlflow) (3.2)\n",
      "Collecting greenlet!=0.4.17\n",
      "  Using cached greenlet-1.1.1-cp37-cp37m-macosx_10_14_x86_64.whl (87 kB)\n",
      "Requirement already satisfied: Werkzeug>=2.0 in /Users/benoit/miniconda3/envs/melusinefork/lib/python3.7/site-packages (from Flask->mlflow) (2.0.1)\n",
      "Collecting itsdangerous>=2.0\n",
      "  Using cached itsdangerous-2.0.1-py3-none-any.whl (18 kB)\n",
      "Requirement already satisfied: Jinja2>=3.0 in /Users/benoit/miniconda3/envs/melusinefork/lib/python3.7/site-packages (from Flask->mlflow) (3.0.1)\n",
      "Requirement already satisfied: MarkupSafe>=2.0 in /Users/benoit/miniconda3/envs/melusinefork/lib/python3.7/site-packages (from Jinja2>=3.0->Flask->mlflow) (2.0.1)\n",
      "Requirement already satisfied: setuptools>=3.0 in /Users/benoit/miniconda3/envs/melusinefork/lib/python3.7/site-packages (from gunicorn->mlflow) (58.0.4)\n",
      "Requirement already satisfied: pyparsing>=2.0.2 in /Users/benoit/miniconda3/envs/melusinefork/lib/python3.7/site-packages (from packaging->mlflow) (2.4.7)\n",
      "Requirement already satisfied: prometheus-client in /Users/benoit/miniconda3/envs/melusinefork/lib/python3.7/site-packages (from prometheus-flask-exporter->mlflow) (0.11.0)\n",
      "Installing collected packages: smmap, itsdangerous, greenlet, click, websocket-client, tabulate, sqlalchemy, python-editor, Mako, gitdb, Flask, sqlparse, querystring-parser, pyyaml, prometheus-flask-exporter, gunicorn, gitpython, docker, databricks-cli, alembic, mlflow\n",
      "Successfully installed Flask-2.0.1 Mako-1.1.5 alembic-1.4.1 click-8.0.1 databricks-cli-0.15.0 docker-5.0.2 gitdb-4.0.7 gitpython-3.1.24 greenlet-1.1.1 gunicorn-20.1.0 itsdangerous-2.0.1 mlflow-1.20.2 prometheus-flask-exporter-0.18.2 python-editor-1.0.4 pyyaml-5.4.1 querystring-parser-1.2.4 smmap-4.0.0 sqlalchemy-1.4.23 sqlparse-0.4.2 tabulate-0.8.9 websocket-client-1.2.1\n"
     ]
    }
   ],
   "source": [
    "!pip install mlflow"
   ]
  },
  {
   "cell_type": "code",
   "execution_count": 1,
   "id": "710a64fa",
   "metadata": {},
   "outputs": [],
   "source": [
    "%load_ext autoreload"
   ]
  },
  {
   "cell_type": "code",
   "execution_count": 2,
   "id": "3278fe9b",
   "metadata": {},
   "outputs": [],
   "source": [
    "%autoreload 2"
   ]
  },
  {
   "cell_type": "code",
   "execution_count": 3,
   "id": "0debf92d",
   "metadata": {},
   "outputs": [],
   "source": [
    "from time import time\n",
    "import mlflow\n",
    "mlflow.set_experiment(\"melusine_tf_probability\")"
   ]
  },
  {
   "cell_type": "code",
   "execution_count": 4,
   "id": "5a981feb",
   "metadata": {},
   "outputs": [],
   "source": [
    "import ast\n",
    "import pandas as pd\n",
    "import numpy as np\n",
    "\n",
    "df_emails_preprocessed = pd.read_csv('tutorial/data/emails_preprocessed.csv', encoding='utf-8', sep=';')\n",
    "df_emails_preprocessed['clean_header'] = df_emails_preprocessed['clean_header'].astype(str)\n",
    "df_emails_preprocessed['clean_body'] = df_emails_preprocessed['clean_body'].astype(str)\n",
    "df_emails_preprocessed['attachment'] = df_emails_preprocessed['attachment'].apply(ast.literal_eval)\n",
    "df_emails_preprocessed['clean_text'] = df_emails_preprocessed['clean_header'] + \" \" + df_emails_preprocessed['clean_body']"
   ]
  },
  {
   "cell_type": "code",
   "execution_count": 5,
   "id": "1209bdd7",
   "metadata": {},
   "outputs": [
    {
     "data": {
      "text/plain": [
       "'devis habitation je suis client chez vous pouvez vous m etablir un devis pour mon fils qui souhaite louer lappartement suivant : 25 rue du rueimaginaire  flag_cp_ '"
      ]
     },
     "execution_count": 5,
     "metadata": {},
     "output_type": "execute_result"
    }
   ],
   "source": [
    "df_emails_preprocessed.clean_text[0]"
   ]
  },
  {
   "cell_type": "code",
   "execution_count": 6,
   "id": "158e3b1e",
   "metadata": {},
   "outputs": [],
   "source": [
    "df_meta = pd.read_csv('tutorial/data/metadata.csv', encoding='utf-8', sep=';')"
   ]
  },
  {
   "cell_type": "code",
   "execution_count": 7,
   "id": "ec44416a",
   "metadata": {},
   "outputs": [],
   "source": [
    "X = pd.concat([df_emails_preprocessed['clean_text'],df_meta],axis=1)"
   ]
  },
  {
   "cell_type": "code",
   "execution_count": 8,
   "id": "747266e3",
   "metadata": {},
   "outputs": [],
   "source": [
    "from sklearn.preprocessing import LabelEncoder\n",
    "y = df_emails_preprocessed['label']\n",
    "le = LabelEncoder()\n",
    "y = le.fit_transform(y)"
   ]
  },
  {
   "cell_type": "code",
   "execution_count": 9,
   "id": "f49df567",
   "metadata": {},
   "outputs": [],
   "source": [
    "from melusine.models.train import NeuralModel"
   ]
  },
  {
   "cell_type": "code",
   "execution_count": 10,
   "id": "903a395c",
   "metadata": {},
   "outputs": [
    {
     "data": {
      "text/plain": [
       "11"
      ]
     },
     "execution_count": 10,
     "metadata": {},
     "output_type": "execute_result"
    }
   ],
   "source": [
    "len(np.unique(y))"
   ]
  },
  {
   "cell_type": "code",
   "execution_count": 11,
   "id": "e76f72c8",
   "metadata": {},
   "outputs": [],
   "source": [
    "from melusine.nlp_tools.embedding import Embedding"
   ]
  },
  {
   "cell_type": "code",
   "execution_count": 12,
   "id": "ea90643c",
   "metadata": {},
   "outputs": [],
   "source": [
    "pretrained_embedding = Embedding().load('tutorial/data/embedding.pickle') "
   ]
  },
  {
   "cell_type": "markdown",
   "id": "566a3aea",
   "metadata": {},
   "source": [
    "# Deterministic model"
   ]
  },
  {
   "cell_type": "code",
   "execution_count": 13,
   "id": "52ba20da",
   "metadata": {},
   "outputs": [],
   "source": [
    "from melusine.models.neural_architectures import cnn_model\n",
    "deterministic_nn_model = NeuralModel(architecture_function=cnn_model,\n",
    "                       pretrained_embedding=pretrained_embedding,\n",
    "                       text_input_column=\"clean_text\",\n",
    "                       batch_size=20,\n",
    "                       meta_input_list=['extension','attachment_type', 'dayofweek', 'hour', 'min'],\n",
    "                       n_epochs=20)"
   ]
  },
  {
   "cell_type": "code",
   "execution_count": 14,
   "id": "5d81d57a",
   "metadata": {},
   "outputs": [],
   "source": [
    "def fit_log_mlflow(tf_model, **additional_params):\n",
    "    with mlflow.start_run(run_name=\"train\"):\n",
    "        t0 = time()\n",
    "        tf_model.fit(X,y,tensorboard_log_dir=\"tutorial/data\")\n",
    "        t1 = time() - t0\n",
    "        accuracy = tf_model.score(X, y)\n",
    "        mlflow.log_metric(\"accuracy\", accuracy)\n",
    "        mlflow.log_metric(\"time\", t1)\n",
    "        mlflow.log_param(\"type\", tf_model.architecture_function.__name__)\n",
    "        mlflow.log_param(\"epochs\", tf_model.n_epochs)\n",
    "        mlflow.log_param(\"batch_size\", tf_model.batch_size)\n",
    "        mlflow.log_params(additional_params)\n",
    "    return tf_model"
   ]
  },
  {
   "cell_type": "code",
   "execution_count": 15,
   "id": "019f8903",
   "metadata": {
    "scrolled": true
   },
   "outputs": [
    {
     "name": "stderr",
     "output_type": "stream",
     "text": [
      "2021-09-21 17:49:45.743343: I tensorflow/core/platform/cpu_feature_guard.cc:142] This TensorFlow binary is optimized with oneAPI Deep Neural Network Library (oneDNN) to use the following CPU instructions in performance-critical operations:  AVX2 FMA\n",
      "To enable them in other operations, rebuild TensorFlow with the appropriate compiler flags.\n",
      "2021-09-21 17:49:45.971883: I tensorflow/core/profiler/lib/profiler_session.cc:131] Profiler session initializing.\n",
      "2021-09-21 17:49:45.971903: I tensorflow/core/profiler/lib/profiler_session.cc:146] Profiler session started.\n",
      "2021-09-21 17:49:45.971983: I tensorflow/core/profiler/lib/profiler_session.cc:164] Profiler session tear down.\n",
      "2021-09-21 17:49:46.041220: I tensorflow/compiler/mlir/mlir_graph_optimization_pass.cc:185] None of the MLIR Optimization Passes are enabled (registered 2)\n"
     ]
    },
    {
     "name": "stdout",
     "output_type": "stream",
     "text": [
      "Epoch 1/20\n",
      "2/2 [==============================] - 2s 150ms/step - loss: 2.3867 - accuracy: 0.2500\n",
      "Epoch 2/20\n",
      "2/2 [==============================] - 0s 44ms/step - loss: 2.2027 - accuracy: 0.3500\n"
     ]
    },
    {
     "name": "stderr",
     "output_type": "stream",
     "text": [
      "2021-09-21 17:49:47.738497: I tensorflow/core/profiler/lib/profiler_session.cc:131] Profiler session initializing.\n",
      "2021-09-21 17:49:47.738528: I tensorflow/core/profiler/lib/profiler_session.cc:146] Profiler session started.\n",
      "2021-09-21 17:49:47.796017: I tensorflow/core/profiler/lib/profiler_session.cc:66] Profiler session collecting data.\n",
      "2021-09-21 17:49:47.804520: I tensorflow/core/profiler/lib/profiler_session.cc:164] Profiler session tear down.\n",
      "2021-09-21 17:49:47.813987: I tensorflow/core/profiler/rpc/client/save_profile.cc:136] Creating directory: tutorial/data/train/plugins/profile/2021_09_21_17_49_47\n",
      "\n",
      "2021-09-21 17:49:47.815964: I tensorflow/core/profiler/rpc/client/save_profile.cc:142] Dumped gzipped tool data for trace.json.gz to tutorial/data/train/plugins/profile/2021_09_21_17_49_47/MacBookPro-benoit-FVFXG052HV29.trace.json.gz\n",
      "2021-09-21 17:49:47.822476: I tensorflow/core/profiler/rpc/client/save_profile.cc:136] Creating directory: tutorial/data/train/plugins/profile/2021_09_21_17_49_47\n",
      "\n",
      "2021-09-21 17:49:47.823054: I tensorflow/core/profiler/rpc/client/save_profile.cc:142] Dumped gzipped tool data for memory_profile.json.gz to tutorial/data/train/plugins/profile/2021_09_21_17_49_47/MacBookPro-benoit-FVFXG052HV29.memory_profile.json.gz\n",
      "2021-09-21 17:49:47.826662: I tensorflow/core/profiler/rpc/client/capture_profile.cc:251] Creating directory: tutorial/data/train/plugins/profile/2021_09_21_17_49_47\n",
      "Dumped tool data for xplane.pb to tutorial/data/train/plugins/profile/2021_09_21_17_49_47/MacBookPro-benoit-FVFXG052HV29.xplane.pb\n",
      "Dumped tool data for overview_page.pb to tutorial/data/train/plugins/profile/2021_09_21_17_49_47/MacBookPro-benoit-FVFXG052HV29.overview_page.pb\n",
      "Dumped tool data for input_pipeline.pb to tutorial/data/train/plugins/profile/2021_09_21_17_49_47/MacBookPro-benoit-FVFXG052HV29.input_pipeline.pb\n",
      "Dumped tool data for tensorflow_stats.pb to tutorial/data/train/plugins/profile/2021_09_21_17_49_47/MacBookPro-benoit-FVFXG052HV29.tensorflow_stats.pb\n",
      "Dumped tool data for kernel_stats.pb to tutorial/data/train/plugins/profile/2021_09_21_17_49_47/MacBookPro-benoit-FVFXG052HV29.kernel_stats.pb\n",
      "\n"
     ]
    },
    {
     "name": "stdout",
     "output_type": "stream",
     "text": [
      "Epoch 3/20\n",
      "2/2 [==============================] - 0s 37ms/step - loss: 2.0262 - accuracy: 0.3250\n",
      "Epoch 4/20\n",
      "2/2 [==============================] - 0s 54ms/step - loss: 2.0282 - accuracy: 0.3250\n",
      "Epoch 5/20\n",
      "2/2 [==============================] - 0s 74ms/step - loss: 1.9800 - accuracy: 0.3750\n",
      "Epoch 6/20\n",
      "2/2 [==============================] - 0s 71ms/step - loss: 1.8555 - accuracy: 0.2750\n",
      "Epoch 7/20\n",
      "2/2 [==============================] - 0s 125ms/step - loss: 1.9569 - accuracy: 0.2750\n",
      "Epoch 8/20\n",
      "2/2 [==============================] - 0s 46ms/step - loss: 1.8936 - accuracy: 0.3250\n",
      "Epoch 9/20\n",
      "2/2 [==============================] - 0s 61ms/step - loss: 1.6863 - accuracy: 0.4000\n",
      "Epoch 10/20\n",
      "2/2 [==============================] - 0s 60ms/step - loss: 1.6211 - accuracy: 0.3500\n",
      "Epoch 11/20\n",
      "2/2 [==============================] - 0s 44ms/step - loss: 1.4435 - accuracy: 0.5500\n",
      "Epoch 12/20\n",
      "2/2 [==============================] - 0s 39ms/step - loss: 1.4569 - accuracy: 0.4500\n",
      "Epoch 13/20\n",
      "2/2 [==============================] - 0s 53ms/step - loss: 1.3022 - accuracy: 0.5500\n",
      "Epoch 14/20\n",
      "2/2 [==============================] - 0s 76ms/step - loss: 1.2163 - accuracy: 0.5500\n",
      "Epoch 15/20\n",
      "2/2 [==============================] - 0s 60ms/step - loss: 1.2488 - accuracy: 0.6000\n",
      "Epoch 16/20\n",
      "2/2 [==============================] - 0s 92ms/step - loss: 1.0367 - accuracy: 0.6500\n",
      "Epoch 17/20\n",
      "2/2 [==============================] - 0s 38ms/step - loss: 0.9843 - accuracy: 0.7000\n",
      "Epoch 18/20\n",
      "2/2 [==============================] - 0s 80ms/step - loss: 1.0131 - accuracy: 0.6750\n",
      "Epoch 19/20\n",
      "2/2 [==============================] - 0s 53ms/step - loss: 0.7956 - accuracy: 0.7500\n",
      "Epoch 20/20\n",
      "2/2 [==============================] - 0s 60ms/step - loss: 0.7291 - accuracy: 0.7500\n"
     ]
    }
   ],
   "source": [
    "deterministic_model = fit_log_mlflow(deterministic_nn_model, perturbed=False)\n",
    "    # mlflow.tensorflow.log_model(tf_saved_model_dir, tf_meta_graph_tags, tf_signature_def_key, artifact_path, conda_env=None, signature: mlflow.models.signature.ModelSignature = None, input_example: Union[pandas.core.frame.DataFrame, numpy.ndarray, dict, list] = None, registered_model_name=None, await_registration_for=300, pip_requirements=None, extra_pip_requirements=None)"
   ]
  },
  {
   "cell_type": "markdown",
   "id": "395275d3",
   "metadata": {},
   "source": [
    "### The deterministic model is able to give us point estimation of probabilities. But we can do better..."
   ]
  },
  {
   "cell_type": "code",
   "execution_count": 16,
   "id": "29ec5bf3",
   "metadata": {},
   "outputs": [
    {
     "data": {
      "text/plain": [
       "array([[0.0951639 , 0.05939156, 0.07609528, 0.11999409, 0.12296791,\n",
       "        0.08800335, 0.07363405, 0.07013807, 0.06950563, 0.07599728,\n",
       "        0.1491089 ],\n",
       "       [0.07880303, 0.04688269, 0.06406377, 0.09359903, 0.06688718,\n",
       "        0.06697895, 0.0632794 , 0.0783072 , 0.07072824, 0.07438176,\n",
       "        0.29608876]], dtype=float32)"
      ]
     },
     "execution_count": 16,
     "metadata": {},
     "output_type": "execute_result"
    }
   ],
   "source": [
    "deterministic_nn_model.predict_proba(X)[:2]"
   ]
  },
  {
   "cell_type": "markdown",
   "id": "ebe5d944",
   "metadata": {},
   "source": [
    "# The probabilitic model \n",
    "The probabilitic gives us not longer point estimation but distribution on predictions. It allows us to give confidence intervals."
   ]
  },
  {
   "cell_type": "code",
   "execution_count": 19,
   "id": "f48f66bf",
   "metadata": {},
   "outputs": [],
   "source": [
    "from melusine.models.probabilistic_neural_architectures import bayesian_cnn_with_meta_model\n",
    "nn_model = NeuralModel(architecture_function=bayesian_cnn_with_meta_model,\n",
    "                       pretrained_embedding=pretrained_embedding,\n",
    "                       text_input_column=\"clean_text\",\n",
    "                       batch_size=20,\n",
    "                       meta_input_list=['extension','attachment_type', 'dayofweek', 'hour', 'min'],\n",
    "                       n_epochs=40)"
   ]
  },
  {
   "cell_type": "code",
   "execution_count": 20,
   "id": "23c12bf3",
   "metadata": {},
   "outputs": [
    {
     "name": "stderr",
     "output_type": "stream",
     "text": [
      "2021-09-21 17:51:02.936718: W tensorflow/python/util/util.cc:348] Sets are not currently considered sequences, but this may change in the future, so consider avoiding using them.\n",
      "2021-09-21 17:51:02.947619: I tensorflow/core/profiler/lib/profiler_session.cc:131] Profiler session initializing.\n",
      "2021-09-21 17:51:02.947636: I tensorflow/core/profiler/lib/profiler_session.cc:146] Profiler session started.\n",
      "2021-09-21 17:51:02.947661: I tensorflow/core/profiler/lib/profiler_session.cc:164] Profiler session tear down.\n"
     ]
    },
    {
     "name": "stdout",
     "output_type": "stream",
     "text": [
      "Epoch 1/40\n",
      "2/2 [==============================] - 2s 264ms/step - loss: 2.3927 - accuracy: 0.1250\n"
     ]
    },
    {
     "name": "stderr",
     "output_type": "stream",
     "text": [
      "2021-09-21 17:51:04.409260: I tensorflow/core/profiler/lib/profiler_session.cc:131] Profiler session initializing.\n",
      "2021-09-21 17:51:04.409279: I tensorflow/core/profiler/lib/profiler_session.cc:146] Profiler session started.\n",
      "2021-09-21 17:51:04.568709: I tensorflow/core/profiler/lib/profiler_session.cc:66] Profiler session collecting data.\n",
      "2021-09-21 17:51:04.572067: I tensorflow/core/profiler/lib/profiler_session.cc:164] Profiler session tear down.\n",
      "2021-09-21 17:51:04.582221: I tensorflow/core/profiler/rpc/client/save_profile.cc:136] Creating directory: tutorial/data/train/plugins/profile/2021_09_21_17_51_04\n",
      "\n",
      "2021-09-21 17:51:04.584831: I tensorflow/core/profiler/rpc/client/save_profile.cc:142] Dumped gzipped tool data for trace.json.gz to tutorial/data/train/plugins/profile/2021_09_21_17_51_04/MacBookPro-benoit-FVFXG052HV29.trace.json.gz\n",
      "2021-09-21 17:51:04.592903: I tensorflow/core/profiler/rpc/client/save_profile.cc:136] Creating directory: tutorial/data/train/plugins/profile/2021_09_21_17_51_04\n",
      "\n",
      "2021-09-21 17:51:04.593805: I tensorflow/core/profiler/rpc/client/save_profile.cc:142] Dumped gzipped tool data for memory_profile.json.gz to tutorial/data/train/plugins/profile/2021_09_21_17_51_04/MacBookPro-benoit-FVFXG052HV29.memory_profile.json.gz\n",
      "2021-09-21 17:51:04.597051: I tensorflow/core/profiler/rpc/client/capture_profile.cc:251] Creating directory: tutorial/data/train/plugins/profile/2021_09_21_17_51_04\n",
      "Dumped tool data for xplane.pb to tutorial/data/train/plugins/profile/2021_09_21_17_51_04/MacBookPro-benoit-FVFXG052HV29.xplane.pb\n",
      "Dumped tool data for overview_page.pb to tutorial/data/train/plugins/profile/2021_09_21_17_51_04/MacBookPro-benoit-FVFXG052HV29.overview_page.pb\n",
      "Dumped tool data for input_pipeline.pb to tutorial/data/train/plugins/profile/2021_09_21_17_51_04/MacBookPro-benoit-FVFXG052HV29.input_pipeline.pb\n",
      "Dumped tool data for tensorflow_stats.pb to tutorial/data/train/plugins/profile/2021_09_21_17_51_04/MacBookPro-benoit-FVFXG052HV29.tensorflow_stats.pb\n",
      "Dumped tool data for kernel_stats.pb to tutorial/data/train/plugins/profile/2021_09_21_17_51_04/MacBookPro-benoit-FVFXG052HV29.kernel_stats.pb\n",
      "\n"
     ]
    },
    {
     "name": "stdout",
     "output_type": "stream",
     "text": [
      "Epoch 2/40\n",
      "2/2 [==============================] - 0s 121ms/step - loss: 2.2531 - accuracy: 0.3250\n",
      "Epoch 3/40\n",
      "2/2 [==============================] - 0s 43ms/step - loss: 2.0318 - accuracy: 0.3000\n",
      "Epoch 4/40\n",
      "2/2 [==============================] - 0s 47ms/step - loss: 1.8651 - accuracy: 0.3000\n",
      "Epoch 5/40\n",
      "2/2 [==============================] - 0s 63ms/step - loss: 2.0610 - accuracy: 0.2500\n",
      "Epoch 6/40\n",
      "2/2 [==============================] - 0s 46ms/step - loss: 1.9704 - accuracy: 0.2250\n",
      "Epoch 7/40\n",
      "2/2 [==============================] - 0s 39ms/step - loss: 1.6532 - accuracy: 0.4750\n",
      "Epoch 8/40\n",
      "2/2 [==============================] - 0s 169ms/step - loss: 1.7658 - accuracy: 0.3500\n",
      "Epoch 9/40\n",
      "2/2 [==============================] - 0s 41ms/step - loss: 1.5578 - accuracy: 0.4500\n",
      "Epoch 10/40\n",
      "2/2 [==============================] - 0s 56ms/step - loss: 1.4967 - accuracy: 0.5000\n",
      "Epoch 11/40\n",
      "2/2 [==============================] - 0s 39ms/step - loss: 1.4627 - accuracy: 0.5250\n",
      "Epoch 12/40\n",
      "2/2 [==============================] - 0s 85ms/step - loss: 1.3517 - accuracy: 0.5250\n",
      "Epoch 13/40\n",
      "2/2 [==============================] - 0s 64ms/step - loss: 1.3933 - accuracy: 0.5000\n",
      "Epoch 14/40\n",
      "2/2 [==============================] - 0s 45ms/step - loss: 1.2297 - accuracy: 0.5750\n",
      "Epoch 15/40\n",
      "2/2 [==============================] - 0s 61ms/step - loss: 1.0921 - accuracy: 0.6750\n",
      "Epoch 16/40\n",
      "2/2 [==============================] - 0s 83ms/step - loss: 0.9685 - accuracy: 0.6000\n",
      "Epoch 17/40\n",
      "2/2 [==============================] - 0s 60ms/step - loss: 0.9345 - accuracy: 0.6750\n",
      "Epoch 18/40\n",
      "2/2 [==============================] - 0s 95ms/step - loss: 0.8833 - accuracy: 0.7000\n",
      "Epoch 19/40\n",
      "2/2 [==============================] - 0s 44ms/step - loss: 0.7705 - accuracy: 0.7000\n",
      "Epoch 20/40\n",
      "2/2 [==============================] - 0s 49ms/step - loss: 0.6116 - accuracy: 0.7750\n",
      "Epoch 21/40\n",
      "2/2 [==============================] - 0s 112ms/step - loss: 0.7110 - accuracy: 0.7500\n",
      "Epoch 22/40\n",
      "2/2 [==============================] - 0s 54ms/step - loss: 0.5815 - accuracy: 0.8250\n",
      "Epoch 23/40\n",
      "2/2 [==============================] - 0s 43ms/step - loss: 0.5239 - accuracy: 0.8000\n",
      "Epoch 24/40\n",
      "2/2 [==============================] - 0s 101ms/step - loss: 0.4441 - accuracy: 0.8750\n",
      "Epoch 25/40\n",
      "2/2 [==============================] - 0s 53ms/step - loss: 0.3973 - accuracy: 0.9000\n",
      "Epoch 26/40\n",
      "2/2 [==============================] - 0s 134ms/step - loss: 0.3574 - accuracy: 0.8500\n",
      "Epoch 27/40\n",
      "2/2 [==============================] - 0s 61ms/step - loss: 0.2959 - accuracy: 0.9250\n",
      "Epoch 28/40\n",
      "2/2 [==============================] - 0s 48ms/step - loss: 0.3850 - accuracy: 0.8750\n",
      "Epoch 29/40\n",
      "2/2 [==============================] - 0s 75ms/step - loss: 0.2776 - accuracy: 0.9000\n",
      "Epoch 30/40\n",
      "2/2 [==============================] - 0s 45ms/step - loss: 0.2148 - accuracy: 0.9500\n",
      "Epoch 31/40\n",
      "2/2 [==============================] - 0s 45ms/step - loss: 0.1387 - accuracy: 0.9750\n",
      "Epoch 32/40\n",
      "2/2 [==============================] - 0s 65ms/step - loss: 0.1600 - accuracy: 0.9750\n",
      "Epoch 33/40\n",
      "2/2 [==============================] - 0s 88ms/step - loss: 0.1374 - accuracy: 0.9750\n",
      "Epoch 34/40\n",
      "2/2 [==============================] - 0s 125ms/step - loss: 0.2004 - accuracy: 0.9750\n",
      "Epoch 35/40\n",
      "2/2 [==============================] - 0s 47ms/step - loss: 0.1964 - accuracy: 0.9500\n",
      "Epoch 36/40\n",
      "2/2 [==============================] - 0s 111ms/step - loss: 0.0654 - accuracy: 1.0000\n",
      "Epoch 37/40\n",
      "2/2 [==============================] - 0s 99ms/step - loss: 0.0610 - accuracy: 1.0000\n",
      "Epoch 38/40\n",
      "2/2 [==============================] - 0s 48ms/step - loss: 0.2141 - accuracy: 0.9500\n",
      "Epoch 39/40\n",
      "2/2 [==============================] - 0s 43ms/step - loss: 0.2047 - accuracy: 0.9500\n",
      "Epoch 40/40\n",
      "2/2 [==============================] - 0s 75ms/step - loss: 0.1157 - accuracy: 0.9500\n"
     ]
    }
   ],
   "source": [
    "nn_model = fit_log_mlflow(nn_model)"
   ]
  },
  {
   "cell_type": "markdown",
   "id": "cf77d06a",
   "metadata": {},
   "source": [
    "### The estimation of the probability is now the mean of the distribution of the prediction"
   ]
  },
  {
   "cell_type": "code",
   "execution_count": 21,
   "id": "1118d8be",
   "metadata": {},
   "outputs": [
    {
     "data": {
      "text/plain": [
       "<tfp.distributions._TensorCoercible 'model_1_one_hot_categorical_tensor_coercible' batch_shape=[40] event_shape=[11] dtype=float32>"
      ]
     },
     "execution_count": 21,
     "metadata": {},
     "output_type": "execute_result"
    }
   ],
   "source": [
    "X_input = nn_model.prepare_email_to_predict(X)\n",
    "nn_model.model(X_input) # the output of the model is not a vector but a distribution we can sample/compute mean/compute std/..."
   ]
  },
  {
   "cell_type": "code",
   "execution_count": 23,
   "id": "360ee0ce",
   "metadata": {
    "scrolled": true
   },
   "outputs": [],
   "source": [
    "better_estimation = nn_model.predict_proba(X)"
   ]
  },
  {
   "cell_type": "markdown",
   "id": "4e9d9689",
   "metadata": {},
   "source": [
    "### More important we now can have confidence intervals"
   ]
  },
  {
   "cell_type": "code",
   "execution_count": 24,
   "id": "844398bf",
   "metadata": {},
   "outputs": [],
   "source": [
    "score, inf, sup = nn_model.predict_proba(X, confidence_interval=0.95)"
   ]
  },
  {
   "cell_type": "code",
   "execution_count": 25,
   "id": "a9ed8846",
   "metadata": {},
   "outputs": [],
   "source": [
    "import matplotlib.pyplot as plt\n",
    "ntargets = 11\n",
    "\n",
    "\n",
    "def analyse_and_plot_model_predictions(data, true_labels, nn_model, text_num, ci=0.95):\n",
    "    \"\"\"\n",
    "    Make plots of the probabilities that the model estimates for a given text\n",
    "    \"\"\"\n",
    "    true_label = true_labels[text_num]\n",
    "    true_label_decoded = le.inverse_transform([true_label])[0]\n",
    "    print('True label: \\033[1m \\033[92m {} \\033[0m'.format(str(true_label_decoded)))\n",
    "    print('Clean text: ', data.loc[text_num, \"clean_text\"])\n",
    "    model_prediction, pct_low, pct_up = nn_model.predict_proba(data.loc[text_num:text_num], confidence_interval=ci)\n",
    "    model_prediction, pct_low, pct_up = model_prediction[0], pct_low[0], pct_up[0]\n",
    "    x_pos = np.arange(ntargets)\n",
    "    bar = plt.bar(x_pos, pct_up, color='red')\n",
    "    all_categories_decoded = le.inverse_transform(np.arange(ntargets))\n",
    "    plt.xticks(x_pos, all_categories_decoded, color='black', rotation=45, fontweight='bold', fontsize='10', horizontalalignment='right')\n",
    "    ax = plt.gca()\n",
    "    labels = ax.get_xticklabels()\n",
    "    ticks = ax.get_xticks()\n",
    "    for label, tick in zip(labels, ticks):\n",
    "        if tick == true_label:\n",
    "            label.set_color('green')\n",
    "    bar[true_label].set_color('green')\n",
    "    plt.bar(np.arange(ntargets), pct_low-0.02, color='white', linewidth=1, edgecolor='white')\n",
    "    plt.ylim([0, 1])\n",
    "    plt.ylabel('Probability')\n",
    "    plt.title('Model estimated probabilities') \n",
    "    plt.show()"
   ]
  },
  {
   "cell_type": "code",
   "execution_count": 26,
   "id": "24c80227",
   "metadata": {},
   "outputs": [
    {
     "name": "stdout",
     "output_type": "stream",
     "text": [
      "True label: \u001b[1m \u001b[92m vehicule \u001b[0m\n",
      "Clean text:  immatriculation voiture je vous informe que la nouvelle immatriculation est enfin faite. je vous prie de trouver donc la carte grise ainsi que la nouvelle immatriculation. je vous demanderai de faire les changements necessaires concernant lassurance.\n"
     ]
    },
    {
     "name": "stderr",
     "output_type": "stream",
     "text": [
      "/Users/benoit/Documents/melusine/melusine/nlp_tools/tokenizer.py:136: SettingWithCopyWarning: \n",
      "A value is trying to be set on a copy of a slice from a DataFrame.\n",
      "Try using .loc[row_indexer,col_indexer] = value instead\n",
      "\n",
      "See the caveats in the documentation: https://pandas.pydata.org/pandas-docs/stable/user_guide/indexing.html#returning-a-view-versus-a-copy\n",
      "  X[\"tokens\"] = apply_func(X, self.tokenize)\n",
      "/Users/benoit/Documents/melusine/melusine/nlp_tools/tokenizer.py:137: SettingWithCopyWarning: \n",
      "A value is trying to be set on a copy of a slice from a DataFrame.\n",
      "Try using .loc[row_indexer,col_indexer] = value instead\n",
      "\n",
      "See the caveats in the documentation: https://pandas.pydata.org/pandas-docs/stable/user_guide/indexing.html#returning-a-view-versus-a-copy\n",
      "  X[\"tokens\"] = apply_func(X, lambda x: x[\"tokens\"][0])\n"
     ]
    },
    {
     "data": {
      "image/png": "[encoded data removed]",
      "text/plain": [
       "<Figure size 432x288 with 1 Axes>"
      ]
     },
     "metadata": {
      "needs_background": "light"
     },
     "output_type": "display_data"
    }
   ],
   "source": [
    "i = 1\n",
    "analyse_and_plot_model_predictions(X, y, nn_model, text_num=i, ci=0.95)"
   ]
  },
  {
   "cell_type": "markdown",
   "id": "5a3906f6",
   "metadata": {},
   "source": [
    "# To go further : the bayesian neural network"
   ]
  },
  {
   "cell_type": "code",
   "execution_count": 33,
   "id": "b1413a0b",
   "metadata": {},
   "outputs": [],
   "source": [
    "from melusine.models.probabilistic_neural_architectures import variational_cnn_model\n",
    "variational_nn_model = NeuralModel(architecture_function=variational_cnn_model,\n",
    "                       pretrained_embedding=pretrained_embedding,\n",
    "                       text_input_column=\"clean_text\",\n",
    "                       batch_size=20,\n",
    "                       meta_input_list=[],\n",
    "                       n_epochs=40)"
   ]
  },
  {
   "cell_type": "code",
   "execution_count": 34,
   "id": "59d9c67d",
   "metadata": {},
   "outputs": [
    {
     "name": "stderr",
     "output_type": "stream",
     "text": [
      "/Users/benoit/miniconda3/envs/melusinefork/lib/python3.7/site-packages/keras/engine/base_layer.py:2223: UserWarning: `layer.add_variable` is deprecated and will be removed in a future version. Please use `layer.add_weight` method instead.\n",
      "  warnings.warn('`layer.add_variable` is deprecated and '\n"
     ]
    },
    {
     "name": "stdout",
     "output_type": "stream",
     "text": [
      "WARNING:tensorflow:Model failed to serialize as JSON. Ignoring... Layer DenseVariational has arguments in `__init__` and therefore must override `get_config`.\n"
     ]
    },
    {
     "name": "stderr",
     "output_type": "stream",
     "text": [
      "2021-09-21 17:57:02.162296: I tensorflow/core/profiler/lib/profiler_session.cc:131] Profiler session initializing.\n",
      "2021-09-21 17:57:02.162325: I tensorflow/core/profiler/lib/profiler_session.cc:146] Profiler session started.\n",
      "2021-09-21 17:57:02.162385: I tensorflow/core/profiler/lib/profiler_session.cc:164] Profiler session tear down.\n"
     ]
    },
    {
     "name": "stdout",
     "output_type": "stream",
     "text": [
      "Epoch 1/40\n",
      "2/2 [==============================] - 3s 237ms/step - loss: 7384.4033 - accuracy: 0.1000\n",
      "Epoch 2/40\n",
      "2/2 [==============================] - 0s 22ms/step - loss: 7384.0327 - accuracy: 0.0000e+00\n"
     ]
    },
    {
     "name": "stderr",
     "output_type": "stream",
     "text": [
      "2021-09-21 17:57:04.690255: I tensorflow/core/profiler/lib/profiler_session.cc:131] Profiler session initializing.\n",
      "2021-09-21 17:57:04.690856: I tensorflow/core/profiler/lib/profiler_session.cc:146] Profiler session started.\n",
      "2021-09-21 17:57:04.799361: I tensorflow/core/profiler/lib/profiler_session.cc:66] Profiler session collecting data.\n",
      "2021-09-21 17:57:04.802790: I tensorflow/core/profiler/lib/profiler_session.cc:164] Profiler session tear down.\n",
      "2021-09-21 17:57:04.806502: I tensorflow/core/profiler/rpc/client/save_profile.cc:136] Creating directory: tutorial/data/train/plugins/profile/2021_09_21_17_57_04\n",
      "\n",
      "2021-09-21 17:57:04.809766: I tensorflow/core/profiler/rpc/client/save_profile.cc:142] Dumped gzipped tool data for trace.json.gz to tutorial/data/train/plugins/profile/2021_09_21_17_57_04/MacBookPro-benoit-FVFXG052HV29.trace.json.gz\n",
      "2021-09-21 17:57:04.815675: I tensorflow/core/profiler/rpc/client/save_profile.cc:136] Creating directory: tutorial/data/train/plugins/profile/2021_09_21_17_57_04\n",
      "\n",
      "2021-09-21 17:57:04.816617: I tensorflow/core/profiler/rpc/client/save_profile.cc:142] Dumped gzipped tool data for memory_profile.json.gz to tutorial/data/train/plugins/profile/2021_09_21_17_57_04/MacBookPro-benoit-FVFXG052HV29.memory_profile.json.gz\n",
      "2021-09-21 17:57:04.820082: I tensorflow/core/profiler/rpc/client/capture_profile.cc:251] Creating directory: tutorial/data/train/plugins/profile/2021_09_21_17_57_04\n",
      "Dumped tool data for xplane.pb to tutorial/data/train/plugins/profile/2021_09_21_17_57_04/MacBookPro-benoit-FVFXG052HV29.xplane.pb\n",
      "Dumped tool data for overview_page.pb to tutorial/data/train/plugins/profile/2021_09_21_17_57_04/MacBookPro-benoit-FVFXG052HV29.overview_page.pb\n",
      "Dumped tool data for input_pipeline.pb to tutorial/data/train/plugins/profile/2021_09_21_17_57_04/MacBookPro-benoit-FVFXG052HV29.input_pipeline.pb\n",
      "Dumped tool data for tensorflow_stats.pb to tutorial/data/train/plugins/profile/2021_09_21_17_57_04/MacBookPro-benoit-FVFXG052HV29.tensorflow_stats.pb\n",
      "Dumped tool data for kernel_stats.pb to tutorial/data/train/plugins/profile/2021_09_21_17_57_04/MacBookPro-benoit-FVFXG052HV29.kernel_stats.pb\n",
      "\n"
     ]
    },
    {
     "name": "stdout",
     "output_type": "stream",
     "text": [
      "Epoch 3/40\n",
      "2/2 [==============================] - 0s 30ms/step - loss: 7375.5327 - accuracy: 0.0750\n",
      "Epoch 4/40\n",
      "2/2 [==============================] - 0s 27ms/step - loss: 7367.2920 - accuracy: 0.1500\n",
      "Epoch 5/40\n",
      "2/2 [==============================] - 0s 24ms/step - loss: 7364.4937 - accuracy: 0.0250\n",
      "Epoch 6/40\n",
      "2/2 [==============================] - 0s 21ms/step - loss: 7356.1577 - accuracy: 0.0750\n",
      "Epoch 7/40\n",
      "2/2 [==============================] - 0s 48ms/step - loss: 7353.1250 - accuracy: 0.2000\n",
      "Epoch 8/40\n",
      "2/2 [==============================] - 0s 41ms/step - loss: 7349.9990 - accuracy: 0.0500\n",
      "Epoch 9/40\n",
      "2/2 [==============================] - 0s 25ms/step - loss: 7335.4517 - accuracy: 0.0250\n",
      "Epoch 10/40\n",
      "2/2 [==============================] - 0s 27ms/step - loss: 7335.7617 - accuracy: 0.0250\n",
      "Epoch 11/40\n",
      "2/2 [==============================] - 0s 29ms/step - loss: 7326.6353 - accuracy: 0.2500\n",
      "Epoch 12/40\n",
      "2/2 [==============================] - 0s 30ms/step - loss: 7319.5234 - accuracy: 0.2750\n",
      "Epoch 13/40\n",
      "2/2 [==============================] - 0s 55ms/step - loss: 7314.6470 - accuracy: 0.0750\n",
      "Epoch 14/40\n",
      "2/2 [==============================] - 0s 23ms/step - loss: 7308.0444 - accuracy: 0.0500\n",
      "Epoch 15/40\n",
      "2/2 [==============================] - 0s 21ms/step - loss: 7302.4102 - accuracy: 0.0500\n",
      "Epoch 16/40\n",
      "2/2 [==============================] - 0s 29ms/step - loss: 7296.4658 - accuracy: 0.0500\n",
      "Epoch 17/40\n",
      "2/2 [==============================] - 0s 53ms/step - loss: 7288.9312 - accuracy: 0.0750\n",
      "Epoch 18/40\n",
      "2/2 [==============================] - 0s 20ms/step - loss: 7285.4531 - accuracy: 0.0000e+00\n",
      "Epoch 19/40\n",
      "2/2 [==============================] - 0s 29ms/step - loss: 7276.8389 - accuracy: 0.2000\n",
      "Epoch 20/40\n",
      "2/2 [==============================] - 0s 62ms/step - loss: 7275.3057 - accuracy: 0.2250\n",
      "Epoch 21/40\n",
      "2/2 [==============================] - 0s 25ms/step - loss: 7268.3335 - accuracy: 0.0250\n",
      "Epoch 22/40\n",
      "2/2 [==============================] - 0s 23ms/step - loss: 7264.5610 - accuracy: 0.1250\n",
      "Epoch 23/40\n",
      "2/2 [==============================] - 0s 28ms/step - loss: 7253.4961 - accuracy: 0.0750\n",
      "Epoch 24/40\n",
      "2/2 [==============================] - 0s 34ms/step - loss: 7246.4155 - accuracy: 0.1750\n",
      "Epoch 25/40\n",
      "2/2 [==============================] - 0s 39ms/step - loss: 7242.0029 - accuracy: 0.2000\n",
      "Epoch 26/40\n",
      "2/2 [==============================] - 0s 33ms/step - loss: 7237.0391 - accuracy: 0.2500\n",
      "Epoch 27/40\n",
      "2/2 [==============================] - 0s 29ms/step - loss: 7233.2686 - accuracy: 0.0250\n",
      "Epoch 28/40\n",
      "2/2 [==============================] - 0s 41ms/step - loss: 7223.5259 - accuracy: 0.1750\n",
      "Epoch 29/40\n",
      "2/2 [==============================] - 0s 38ms/step - loss: 7216.4580 - accuracy: 0.1750\n",
      "Epoch 30/40\n",
      "2/2 [==============================] - 0s 29ms/step - loss: 7213.4287 - accuracy: 0.0500\n",
      "Epoch 31/40\n",
      "2/2 [==============================] - 0s 45ms/step - loss: 7210.0439 - accuracy: 0.0250\n",
      "Epoch 32/40\n",
      "2/2 [==============================] - 0s 23ms/step - loss: 7198.8936 - accuracy: 0.2750\n",
      "Epoch 33/40\n",
      "2/2 [==============================] - 0s 26ms/step - loss: 7193.3242 - accuracy: 0.0500\n",
      "Epoch 34/40\n",
      "2/2 [==============================] - 0s 29ms/step - loss: 7187.3906 - accuracy: 0.0500\n",
      "Epoch 35/40\n",
      "2/2 [==============================] - 0s 88ms/step - loss: 7183.8047 - accuracy: 0.0750\n",
      "Epoch 36/40\n",
      "2/2 [==============================] - 0s 26ms/step - loss: 7181.7686 - accuracy: 0.1000\n",
      "Epoch 37/40\n",
      "2/2 [==============================] - 0s 22ms/step - loss: 7172.4922 - accuracy: 0.0500\n",
      "Epoch 38/40\n",
      "2/2 [==============================] - 0s 25ms/step - loss: 7169.9033 - accuracy: 0.0250\n",
      "Epoch 39/40\n",
      "2/2 [==============================] - 0s 32ms/step - loss: 7166.5405 - accuracy: 0.0750\n",
      "Epoch 40/40\n",
      "2/2 [==============================] - 0s 48ms/step - loss: 7154.2046 - accuracy: 0.0750\n"
     ]
    }
   ],
   "source": [
    "variational_cnn_model = fit_log_mlflow(variational_nn_model)"
   ]
  },
  {
   "cell_type": "code",
   "execution_count": 36,
   "id": "e85c489b",
   "metadata": {},
   "outputs": [
    {
     "name": "stdout",
     "output_type": "stream",
     "text": [
      "True label: \u001b[1m \u001b[92m vehicule \u001b[0m\n",
      "Clean text:  pret vehicule ci-joint pret vehicule\n"
     ]
    },
    {
     "name": "stderr",
     "output_type": "stream",
     "text": [
      "/Users/benoit/Documents/melusine/melusine/nlp_tools/tokenizer.py:136: SettingWithCopyWarning: \n",
      "A value is trying to be set on a copy of a slice from a DataFrame.\n",
      "Try using .loc[row_indexer,col_indexer] = value instead\n",
      "\n",
      "See the caveats in the documentation: https://pandas.pydata.org/pandas-docs/stable/user_guide/indexing.html#returning-a-view-versus-a-copy\n",
      "  X[\"tokens\"] = apply_func(X, self.tokenize)\n",
      "/Users/benoit/Documents/melusine/melusine/nlp_tools/tokenizer.py:137: SettingWithCopyWarning: \n",
      "A value is trying to be set on a copy of a slice from a DataFrame.\n",
      "Try using .loc[row_indexer,col_indexer] = value instead\n",
      "\n",
      "See the caveats in the documentation: https://pandas.pydata.org/pandas-docs/stable/user_guide/indexing.html#returning-a-view-versus-a-copy\n",
      "  X[\"tokens\"] = apply_func(X, lambda x: x[\"tokens\"][0])\n"
     ]
    },
    {
     "data": {
      "image/png": "[encoded data removed]",
      "text/plain": [
       "<Figure size 432x288 with 1 Axes>"
      ]
     },
     "metadata": {
      "needs_background": "light"
     },
     "output_type": "display_data"
    }
   ],
   "source": [
    "i = 9\n",
    "analyse_and_plot_model_predictions(X, y, variational_nn_model, i)"
   ]
  },
  {
   "cell_type": "code",
   "execution_count": 36,
   "id": "8ba2e6e7",
   "metadata": {},
   "outputs": [],
   "source": [
    "from melusine.models.probabilistic_neural_architectures import flipout_cnn_model\n",
    "flipout_nn_model = NeuralModel(architecture_function=flipout_cnn_model,\n",
    "                       pretrained_embedding=pretrained_embedding,\n",
    "                       text_input_column=\"clean_text\",\n",
    "                       batch_size=20,\n",
    "                       meta_input_list=[],\n",
    "                       n_epochs=40)"
   ]
  },
  {
   "cell_type": "code",
   "execution_count": 37,
   "id": "b46b1393",
   "metadata": {},
   "outputs": [
    {
     "name": "stderr",
     "output_type": "stream",
     "text": [
      "/Users/benoit/miniconda3/envs/melusinefork/lib/python3.7/site-packages/keras/engine/base_layer.py:2223: UserWarning: `layer.add_variable` is deprecated and will be removed in a future version. Please use `layer.add_weight` method instead.\n",
      "  warnings.warn('`layer.add_variable` is deprecated and '\n",
      "2021-09-21 17:59:10.038149: I tensorflow/core/profiler/lib/profiler_session.cc:131] Profiler session initializing.\n",
      "2021-09-21 17:59:10.038187: I tensorflow/core/profiler/lib/profiler_session.cc:146] Profiler session started.\n",
      "2021-09-21 17:59:10.039483: I tensorflow/core/profiler/lib/profiler_session.cc:164] Profiler session tear down.\n"
     ]
    },
    {
     "name": "stdout",
     "output_type": "stream",
     "text": [
      "Epoch 1/40\n",
      "2/2 [==============================] - 3s 210ms/step - loss: 7853.0439 - accuracy: 0.1500\n",
      "Epoch 2/40\n",
      "1/2 [==============>...............] - ETA: 0s - loss: 7848.1494 - accuracy: 0.1000"
     ]
    },
    {
     "name": "stderr",
     "output_type": "stream",
     "text": [
      "2021-09-21 17:59:12.636438: I tensorflow/core/profiler/lib/profiler_session.cc:131] Profiler session initializing.\n",
      "2021-09-21 17:59:12.636457: I tensorflow/core/profiler/lib/profiler_session.cc:146] Profiler session started.\n",
      "2021-09-21 17:59:12.735078: I tensorflow/core/profiler/lib/profiler_session.cc:66] Profiler session collecting data.\n",
      "2021-09-21 17:59:12.739663: I tensorflow/core/profiler/lib/profiler_session.cc:164] Profiler session tear down.\n",
      "2021-09-21 17:59:12.743977: I tensorflow/core/profiler/rpc/client/save_profile.cc:136] Creating directory: tutorial/data/train/plugins/profile/2021_09_21_17_59_12\n",
      "\n",
      "2021-09-21 17:59:12.746844: I tensorflow/core/profiler/rpc/client/save_profile.cc:142] Dumped gzipped tool data for trace.json.gz to tutorial/data/train/plugins/profile/2021_09_21_17_59_12/MacBookPro-benoit-FVFXG052HV29.trace.json.gz\n",
      "2021-09-21 17:59:12.752744: I tensorflow/core/profiler/rpc/client/save_profile.cc:136] Creating directory: tutorial/data/train/plugins/profile/2021_09_21_17_59_12\n",
      "\n",
      "2021-09-21 17:59:12.753496: I tensorflow/core/profiler/rpc/client/save_profile.cc:142] Dumped gzipped tool data for memory_profile.json.gz to tutorial/data/train/plugins/profile/2021_09_21_17_59_12/MacBookPro-benoit-FVFXG052HV29.memory_profile.json.gz\n",
      "2021-09-21 17:59:12.757842: I tensorflow/core/profiler/rpc/client/capture_profile.cc:251] Creating directory: tutorial/data/train/plugins/profile/2021_09_21_17_59_12\n",
      "Dumped tool data for xplane.pb to tutorial/data/train/plugins/profile/2021_09_21_17_59_12/MacBookPro-benoit-FVFXG052HV29.xplane.pb\n",
      "Dumped tool data for overview_page.pb to tutorial/data/train/plugins/profile/2021_09_21_17_59_12/MacBookPro-benoit-FVFXG052HV29.overview_page.pb\n",
      "Dumped tool data for input_pipeline.pb to tutorial/data/train/plugins/profile/2021_09_21_17_59_12/MacBookPro-benoit-FVFXG052HV29.input_pipeline.pb\n",
      "Dumped tool data for tensorflow_stats.pb to tutorial/data/train/plugins/profile/2021_09_21_17_59_12/MacBookPro-benoit-FVFXG052HV29.tensorflow_stats.pb\n",
      "Dumped tool data for kernel_stats.pb to tutorial/data/train/plugins/profile/2021_09_21_17_59_12/MacBookPro-benoit-FVFXG052HV29.kernel_stats.pb\n",
      "\n"
     ]
    },
    {
     "name": "stdout",
     "output_type": "stream",
     "text": [
      "2/2 [==============================] - 0s 37ms/step - loss: 7846.5186 - accuracy: 0.1500\n",
      "Epoch 3/40\n",
      "2/2 [==============================] - 0s 33ms/step - loss: 7840.0049 - accuracy: 0.1500\n",
      "Epoch 4/40\n",
      "2/2 [==============================] - 0s 48ms/step - loss: 7833.5054 - accuracy: 0.1250\n",
      "Epoch 5/40\n",
      "2/2 [==============================] - 0s 122ms/step - loss: 7827.0186 - accuracy: 0.1750\n",
      "Epoch 6/40\n",
      "2/2 [==============================] - 0s 33ms/step - loss: 7820.5439 - accuracy: 0.2000\n",
      "Epoch 7/40\n",
      "2/2 [==============================] - 0s 28ms/step - loss: 7814.0869 - accuracy: 0.1500\n",
      "Epoch 8/40\n",
      "2/2 [==============================] - 0s 56ms/step - loss: 7807.6396 - accuracy: 0.2000\n",
      "Epoch 9/40\n",
      "2/2 [==============================] - 0s 29ms/step - loss: 7801.2046 - accuracy: 0.2000\n",
      "Epoch 10/40\n",
      "2/2 [==============================] - 0s 29ms/step - loss: 7794.7842 - accuracy: 0.1250\n",
      "Epoch 11/40\n",
      "2/2 [==============================] - 0s 155ms/step - loss: 7788.3740 - accuracy: 0.2500\n",
      "Epoch 12/40\n",
      "2/2 [==============================] - 0s 36ms/step - loss: 7781.9795 - accuracy: 0.1500\n",
      "Epoch 13/40\n",
      "2/2 [==============================] - 0s 64ms/step - loss: 7775.5938 - accuracy: 0.2500\n",
      "Epoch 14/40\n",
      "2/2 [==============================] - 0s 44ms/step - loss: 7769.2202 - accuracy: 0.2750\n",
      "Epoch 15/40\n",
      "2/2 [==============================] - 0s 77ms/step - loss: 7762.8594 - accuracy: 0.3000\n",
      "Epoch 16/40\n",
      "2/2 [==============================] - 0s 41ms/step - loss: 7756.5093 - accuracy: 0.2750\n",
      "Epoch 17/40\n",
      "2/2 [==============================] - 0s 83ms/step - loss: 7750.1719 - accuracy: 0.1750\n",
      "Epoch 18/40\n",
      "2/2 [==============================] - 0s 49ms/step - loss: 7743.8438 - accuracy: 0.3000\n",
      "Epoch 19/40\n",
      "2/2 [==============================] - 0s 34ms/step - loss: 7737.5244 - accuracy: 0.2250\n",
      "Epoch 20/40\n",
      "2/2 [==============================] - 0s 142ms/step - loss: 7731.2173 - accuracy: 0.3000\n",
      "Epoch 21/40\n",
      "2/2 [==============================] - 0s 46ms/step - loss: 7724.9170 - accuracy: 0.3000\n",
      "Epoch 22/40\n",
      "2/2 [==============================] - 0s 39ms/step - loss: 7718.6265 - accuracy: 0.2750\n",
      "Epoch 23/40\n",
      "2/2 [==============================] - 0s 65ms/step - loss: 7712.3501 - accuracy: 0.3250\n",
      "Epoch 24/40\n",
      "2/2 [==============================] - 0s 90ms/step - loss: 7706.0796 - accuracy: 0.2750\n",
      "Epoch 25/40\n",
      "2/2 [==============================] - 0s 44ms/step - loss: 7699.8164 - accuracy: 0.2750\n",
      "Epoch 26/40\n",
      "2/2 [==============================] - 0s 109ms/step - loss: 7693.5649 - accuracy: 0.3250\n",
      "Epoch 27/40\n",
      "2/2 [==============================] - 0s 44ms/step - loss: 7687.3149 - accuracy: 0.3500\n",
      "Epoch 28/40\n",
      "2/2 [==============================] - 0s 27ms/step - loss: 7681.0771 - accuracy: 0.3000\n",
      "Epoch 29/40\n",
      "2/2 [==============================] - 0s 59ms/step - loss: 7674.8447 - accuracy: 0.3750\n",
      "Epoch 30/40\n",
      "2/2 [==============================] - 0s 48ms/step - loss: 7668.6211 - accuracy: 0.3250\n",
      "Epoch 31/40\n",
      "2/2 [==============================] - 0s 79ms/step - loss: 7662.4033 - accuracy: 0.3500\n",
      "Epoch 32/40\n",
      "2/2 [==============================] - 0s 47ms/step - loss: 7656.1943 - accuracy: 0.3500\n",
      "Epoch 33/40\n",
      "2/2 [==============================] - 0s 38ms/step - loss: 7649.9922 - accuracy: 0.3250\n",
      "Epoch 34/40\n",
      "2/2 [==============================] - 0s 55ms/step - loss: 7643.7954 - accuracy: 0.3000\n",
      "Epoch 35/40\n",
      "2/2 [==============================] - 0s 59ms/step - loss: 7637.6001 - accuracy: 0.3250\n",
      "Epoch 36/40\n",
      "2/2 [==============================] - 0s 100ms/step - loss: 7631.4116 - accuracy: 0.3250\n",
      "Epoch 37/40\n",
      "2/2 [==============================] - 0s 42ms/step - loss: 7625.2329 - accuracy: 0.3250\n",
      "Epoch 38/40\n",
      "2/2 [==============================] - 0s 37ms/step - loss: 7619.0576 - accuracy: 0.3250\n",
      "Epoch 39/40\n",
      "2/2 [==============================] - 0s 62ms/step - loss: 7612.8896 - accuracy: 0.3250\n",
      "Epoch 40/40\n",
      "2/2 [==============================] - 0s 35ms/step - loss: 7606.7251 - accuracy: 0.3250\n"
     ]
    }
   ],
   "source": [
    "flipout_nn_model = fit_log_mlflow(flipout_nn_model)"
   ]
  },
  {
   "cell_type": "code",
   "execution_count": 38,
   "id": "0aeb9e8b",
   "metadata": {},
   "outputs": [
    {
     "name": "stdout",
     "output_type": "stream",
     "text": [
      "True label: \u001b[1m \u001b[92m vehicule \u001b[0m\n",
      "Clean text:  pret vehicule ci-joint pret vehicule\n"
     ]
    },
    {
     "name": "stderr",
     "output_type": "stream",
     "text": [
      "/Users/benoit/Documents/melusine/melusine/nlp_tools/tokenizer.py:136: SettingWithCopyWarning: \n",
      "A value is trying to be set on a copy of a slice from a DataFrame.\n",
      "Try using .loc[row_indexer,col_indexer] = value instead\n",
      "\n",
      "See the caveats in the documentation: https://pandas.pydata.org/pandas-docs/stable/user_guide/indexing.html#returning-a-view-versus-a-copy\n",
      "  X[\"tokens\"] = apply_func(X, self.tokenize)\n",
      "/Users/benoit/Documents/melusine/melusine/nlp_tools/tokenizer.py:137: SettingWithCopyWarning: \n",
      "A value is trying to be set on a copy of a slice from a DataFrame.\n",
      "Try using .loc[row_indexer,col_indexer] = value instead\n",
      "\n",
      "See the caveats in the documentation: https://pandas.pydata.org/pandas-docs/stable/user_guide/indexing.html#returning-a-view-versus-a-copy\n",
      "  X[\"tokens\"] = apply_func(X, lambda x: x[\"tokens\"][0])\n"
     ]
    },
    {
     "data": {
      "image/png": "[encoded data removed]",
      "text/plain": [
       "<Figure size 432x288 with 1 Axes>"
      ]
     },
     "metadata": {
      "needs_background": "light"
     },
     "output_type": "display_data"
    }
   ],
   "source": [
    "i = 9\n",
    "analyse_and_plot_model_predictions(X, y, flipout_nn_model, i)"
   ]
  },
  {
   "cell_type": "markdown",
   "id": "a8a377a8",
   "metadata": {},
   "source": [
    "# Analysis"
   ]
  },
  {
   "cell_type": "markdown",
   "id": "90781519",
   "metadata": {},
   "source": [
    "**It would be interesting to identify the emails the model is the most uncertain about.**\n",
    "\n",
    "Example : \n",
    "\n",
    "If you have rush period and transfers are setup between entities to handle peak of emails then you may have errors in the labels. The consequence is the raise of the residual error due to data quality."
   ]
  },
  {
   "cell_type": "markdown",
   "id": "d689355e",
   "metadata": {},
   "source": [
    "## The perturbation in the label is : \n",
    "On a defined period, a portion of habitation emails are transfered to adhesion.\n",
    "\n",
    "We can imagine the `habitation` service had to face a peak of emails at a specific period and transfered an important part of its emails to `adhesion` service\n",
    "\n",
    "Now the dataset has false labels. A part of the `habitation` emails were indeed transfered to `adhesion` but this is not a behavior we want the model to reproduce."
   ]
  },
  {
   "cell_type": "code",
   "execution_count": 39,
   "id": "eea47d74",
   "metadata": {},
   "outputs": [],
   "source": [
    "from melusine.prepare_email.metadata_engineering import MetaDate\n",
    "meta = MetaDate()\n",
    "df_emails_preprocessed = meta.transform(df_emails_preprocessed)"
   ]
  },
  {
   "cell_type": "code",
   "execution_count": 40,
   "id": "5ad52f62",
   "metadata": {},
   "outputs": [],
   "source": [
    "import copy\n",
    "def swap_period(df, origin, destination, start_date, end_date, rate):\n",
    "    \"\"\"here we are simulating a period of swap between two services \n",
    "    (because of a rush period for instance)\n",
    "    between the 15 of august and the 1st of september, \n",
    "    half of the emails for vehicles are transfered randomly to the other services\"\"\"\n",
    "    \n",
    "    swapped_df = copy.deepcopy(df)\n",
    "    is_habitation = swapped_df.eval('label == @origin and date > @start_date and date < @end_date')\n",
    "    idx_habitation = is_habitation.index[is_habitation]\n",
    "\n",
    "    n_habitation = len(idx_habitation)\n",
    "    num_to_transfer = int(rate*n_habitation)\n",
    "    idx_to_transfer = np.random.choice(idx_habitation, replace=False, size=num_to_transfer)\n",
    "    swapped_df.loc[:,\"swapped_label\"] = swapped_df.loc[:,\"label\"]\n",
    "    swapped_df.loc[idx_to_transfer,\"swapped_label\"] = destination\n",
    "    return swapped_df"
   ]
  },
  {
   "cell_type": "code",
   "execution_count": 41,
   "id": "222ad802",
   "metadata": {},
   "outputs": [],
   "source": [
    "np.random.seed(1347)\n",
    "perturbed_df = swap_period(df_emails_preprocessed, \"habitation\", \"adhesion\", \"2017-06-05 00:00:00\", \"2018-06-07 00:00:00\", 0.5)"
   ]
  },
  {
   "cell_type": "code",
   "execution_count": 42,
   "id": "d9a222a5",
   "metadata": {},
   "outputs": [
    {
     "name": "stdout",
     "output_type": "stream",
     "text": [
      "                                           clean_text       label  \\\n",
      "14  correspondance de la societe imaginaire bonjou...  habitation   \n",
      "22  reclamations numero tel. :  flag_phone_  e-mai...  habitation   \n",
      "33  declarations de sinistre corporel et materiel ...  habitation   \n",
      "\n",
      "   swapped_label  \n",
      "14      adhesion  \n",
      "22      adhesion  \n",
      "33      adhesion  \n"
     ]
    }
   ],
   "source": [
    "swapped_emails = perturbed_df.query(\"label != swapped_label\")\n",
    "print(swapped_emails.filter([\"clean_text\", \"label\", \"swapped_label\"]))"
   ]
  },
  {
   "cell_type": "markdown",
   "id": "d0e4de59",
   "metadata": {},
   "source": [
    "## Let's train a model on this perturbed data"
   ]
  },
  {
   "cell_type": "code",
   "execution_count": 43,
   "id": "e2f1e106",
   "metadata": {},
   "outputs": [],
   "source": [
    "from sklearn.preprocessing import LabelEncoder\n",
    "perturbed_y = perturbed_df['swapped_label']\n",
    "le = LabelEncoder()\n",
    "perturbed_y = le.fit_transform(perturbed_y)"
   ]
  },
  {
   "cell_type": "code",
   "execution_count": 44,
   "id": "1a75fb2d",
   "metadata": {},
   "outputs": [],
   "source": [
    "from melusine.models.neural_architectures import cnn_model\n",
    "perturbed_nn_model = NeuralModel(architecture_function=cnn_model,\n",
    "                       pretrained_embedding=pretrained_embedding,\n",
    "                       text_input_column=\"clean_text\",\n",
    "                       batch_size=20,\n",
    "                       meta_input_list=['extension','attachment_type', 'dayofweek', 'hour', 'min'],\n",
    "                       n_epochs=40)"
   ]
  },
  {
   "cell_type": "code",
   "execution_count": 45,
   "id": "b8b49d00",
   "metadata": {},
   "outputs": [
    {
     "name": "stderr",
     "output_type": "stream",
     "text": [
      "2021-09-21 17:59:41.834672: I tensorflow/core/profiler/lib/profiler_session.cc:131] Profiler session initializing.\n",
      "2021-09-21 17:59:41.834691: I tensorflow/core/profiler/lib/profiler_session.cc:146] Profiler session started.\n",
      "2021-09-21 17:59:41.834713: I tensorflow/core/profiler/lib/profiler_session.cc:164] Profiler session tear down.\n"
     ]
    },
    {
     "name": "stdout",
     "output_type": "stream",
     "text": [
      "Epoch 1/40\n",
      "2/2 [==============================] - 2s 231ms/step - loss: 2.3685 - accuracy: 0.2250\n"
     ]
    },
    {
     "name": "stderr",
     "output_type": "stream",
     "text": [
      "2021-09-21 17:59:43.314382: I tensorflow/core/profiler/lib/profiler_session.cc:131] Profiler session initializing.\n",
      "2021-09-21 17:59:43.314405: I tensorflow/core/profiler/lib/profiler_session.cc:146] Profiler session started.\n",
      "2021-09-21 17:59:43.457818: I tensorflow/core/profiler/lib/profiler_session.cc:66] Profiler session collecting data.\n",
      "2021-09-21 17:59:43.461683: I tensorflow/core/profiler/lib/profiler_session.cc:164] Profiler session tear down.\n",
      "2021-09-21 17:59:43.465050: I tensorflow/core/profiler/rpc/client/save_profile.cc:136] Creating directory: tutorial/data/train/plugins/profile/2021_09_21_17_59_43\n",
      "\n",
      "2021-09-21 17:59:43.467913: I tensorflow/core/profiler/rpc/client/save_profile.cc:142] Dumped gzipped tool data for trace.json.gz to tutorial/data/train/plugins/profile/2021_09_21_17_59_43/MacBookPro-benoit-FVFXG052HV29.trace.json.gz\n",
      "2021-09-21 17:59:43.478011: I tensorflow/core/profiler/rpc/client/save_profile.cc:136] Creating directory: tutorial/data/train/plugins/profile/2021_09_21_17_59_43\n",
      "\n",
      "2021-09-21 17:59:43.478934: I tensorflow/core/profiler/rpc/client/save_profile.cc:142] Dumped gzipped tool data for memory_profile.json.gz to tutorial/data/train/plugins/profile/2021_09_21_17_59_43/MacBookPro-benoit-FVFXG052HV29.memory_profile.json.gz\n",
      "2021-09-21 17:59:43.483898: I tensorflow/core/profiler/rpc/client/capture_profile.cc:251] Creating directory: tutorial/data/train/plugins/profile/2021_09_21_17_59_43\n",
      "Dumped tool data for xplane.pb to tutorial/data/train/plugins/profile/2021_09_21_17_59_43/MacBookPro-benoit-FVFXG052HV29.xplane.pb\n",
      "Dumped tool data for overview_page.pb to tutorial/data/train/plugins/profile/2021_09_21_17_59_43/MacBookPro-benoit-FVFXG052HV29.overview_page.pb\n",
      "Dumped tool data for input_pipeline.pb to tutorial/data/train/plugins/profile/2021_09_21_17_59_43/MacBookPro-benoit-FVFXG052HV29.input_pipeline.pb\n",
      "Dumped tool data for tensorflow_stats.pb to tutorial/data/train/plugins/profile/2021_09_21_17_59_43/MacBookPro-benoit-FVFXG052HV29.tensorflow_stats.pb\n",
      "Dumped tool data for kernel_stats.pb to tutorial/data/train/plugins/profile/2021_09_21_17_59_43/MacBookPro-benoit-FVFXG052HV29.kernel_stats.pb\n",
      "\n"
     ]
    },
    {
     "name": "stdout",
     "output_type": "stream",
     "text": [
      "Epoch 2/40\n",
      "2/2 [==============================] - 0s 86ms/step - loss: 2.2020 - accuracy: 0.3500\n",
      "Epoch 3/40\n",
      "2/2 [==============================] - 0s 35ms/step - loss: 2.0494 - accuracy: 0.3250\n",
      "Epoch 4/40\n",
      "2/2 [==============================] - 0s 67ms/step - loss: 2.0506 - accuracy: 0.3250\n",
      "Epoch 5/40\n",
      "2/2 [==============================] - 0s 185ms/step - loss: 1.9643 - accuracy: 0.3750\n",
      "Epoch 6/40\n",
      "2/2 [==============================] - 0s 34ms/step - loss: 1.8380 - accuracy: 0.4250\n",
      "Epoch 7/40\n",
      "2/2 [==============================] - 0s 48ms/step - loss: 1.7102 - accuracy: 0.5000\n",
      "Epoch 8/40\n",
      "2/2 [==============================] - 0s 153ms/step - loss: 1.7958 - accuracy: 0.4250\n",
      "Epoch 9/40\n",
      "2/2 [==============================] - 0s 41ms/step - loss: 1.6525 - accuracy: 0.3250\n",
      "Epoch 10/40\n",
      "2/2 [==============================] - 0s 46ms/step - loss: 1.6549 - accuracy: 0.4000\n",
      "Epoch 11/40\n",
      "2/2 [==============================] - 0s 163ms/step - loss: 1.5238 - accuracy: 0.5500\n",
      "Epoch 12/40\n",
      "2/2 [==============================] - 0s 42ms/step - loss: 1.3644 - accuracy: 0.4750\n",
      "Epoch 13/40\n",
      "2/2 [==============================] - 0s 59ms/step - loss: 1.3187 - accuracy: 0.5250\n",
      "Epoch 14/40\n",
      "2/2 [==============================] - 0s 73ms/step - loss: 1.2765 - accuracy: 0.4750\n",
      "Epoch 15/40\n",
      "2/2 [==============================] - 0s 57ms/step - loss: 1.1760 - accuracy: 0.5500\n",
      "Epoch 16/40\n",
      "2/2 [==============================] - 0s 87ms/step - loss: 0.9738 - accuracy: 0.6000\n",
      "Epoch 17/40\n",
      "2/2 [==============================] - 0s 92ms/step - loss: 0.9005 - accuracy: 0.7250\n",
      "Epoch 18/40\n",
      "2/2 [==============================] - 0s 88ms/step - loss: 0.8310 - accuracy: 0.6500\n",
      "Epoch 19/40\n",
      "2/2 [==============================] - 0s 50ms/step - loss: 0.8506 - accuracy: 0.6750\n",
      "Epoch 20/40\n",
      "2/2 [==============================] - 0s 64ms/step - loss: 0.7883 - accuracy: 0.7250\n",
      "Epoch 21/40\n",
      "2/2 [==============================] - 0s 72ms/step - loss: 0.6097 - accuracy: 0.7750\n",
      "Epoch 22/40\n",
      "2/2 [==============================] - 0s 84ms/step - loss: 0.5768 - accuracy: 0.7750\n",
      "Epoch 23/40\n",
      "2/2 [==============================] - 0s 53ms/step - loss: 0.5219 - accuracy: 0.8500\n",
      "Epoch 24/40\n",
      "2/2 [==============================] - 0s 45ms/step - loss: 0.5163 - accuracy: 0.9250\n",
      "Epoch 25/40\n",
      "2/2 [==============================] - 0s 66ms/step - loss: 0.4855 - accuracy: 0.8000\n",
      "Epoch 26/40\n",
      "2/2 [==============================] - 0s 62ms/step - loss: 0.4476 - accuracy: 0.8500\n",
      "Epoch 27/40\n",
      "2/2 [==============================] - 0s 59ms/step - loss: 0.4691 - accuracy: 0.8000\n",
      "Epoch 28/40\n",
      "2/2 [==============================] - 0s 47ms/step - loss: 0.4092 - accuracy: 0.8500\n",
      "Epoch 29/40\n",
      "2/2 [==============================] - 0s 45ms/step - loss: 0.3519 - accuracy: 0.8750\n",
      "Epoch 30/40\n",
      "2/2 [==============================] - 0s 96ms/step - loss: 0.3879 - accuracy: 0.9000\n",
      "Epoch 31/40\n",
      "2/2 [==============================] - 0s 79ms/step - loss: 0.2776 - accuracy: 0.9250\n",
      "Epoch 32/40\n",
      "2/2 [==============================] - 0s 48ms/step - loss: 0.3017 - accuracy: 0.9000\n",
      "Epoch 33/40\n",
      "2/2 [==============================] - 0s 49ms/step - loss: 0.2620 - accuracy: 0.9250\n",
      "Epoch 34/40\n",
      "2/2 [==============================] - 0s 93ms/step - loss: 0.1833 - accuracy: 0.9750\n",
      "Epoch 35/40\n",
      "2/2 [==============================] - 0s 73ms/step - loss: 0.2032 - accuracy: 0.9500\n",
      "Epoch 36/40\n",
      "2/2 [==============================] - 0s 54ms/step - loss: 0.1406 - accuracy: 1.0000\n",
      "Epoch 37/40\n",
      "2/2 [==============================] - 0s 65ms/step - loss: 0.1688 - accuracy: 0.9750\n",
      "Epoch 38/40\n",
      "2/2 [==============================] - 0s 49ms/step - loss: 0.1707 - accuracy: 0.9250\n",
      "Epoch 39/40\n",
      "2/2 [==============================] - 0s 58ms/step - loss: 0.1561 - accuracy: 0.9250\n",
      "Epoch 40/40\n",
      "2/2 [==============================] - 0s 60ms/step - loss: 0.2191 - accuracy: 0.9000\n"
     ]
    }
   ],
   "source": [
    "perturbed_nn_model = fit_log_mlflow(perturbed_nn_model, perturbed=True)"
   ]
  },
  {
   "cell_type": "markdown",
   "id": "9472caa6",
   "metadata": {},
   "source": [
    "the date features are `dayofweek`, `hour`, `min` but no `month` nor `dayofyear` \n",
    "\n",
    "so for an email that appear during the period of swap, we would like the model to predict `habitation` (the **true** label)"
   ]
  },
  {
   "cell_type": "code",
   "execution_count": 46,
   "id": "a06d9659",
   "metadata": {},
   "outputs": [
    {
     "name": "stdout",
     "output_type": "stream",
     "text": [
      "['vehicule' 'vehicule' 'vehicule']\n"
     ]
    }
   ],
   "source": [
    "swapped_X = X.loc[swapped_emails.index]\n",
    "predict_swapped = perturbed_nn_model.predict(swapped_X)\n",
    "predicted_label_swapped = le.inverse_transform(predict_swapped)\n",
    "print(predicted_label_swapped)"
   ]
  },
  {
   "cell_type": "markdown",
   "id": "bfab1bce",
   "metadata": {},
   "source": [
    "a robust model should have predicted `habitation`"
   ]
  },
  {
   "cell_type": "markdown",
   "id": "f8a10c3d",
   "metadata": {},
   "source": [
    "Now look at the `habitation` emails that were not swapped."
   ]
  },
  {
   "cell_type": "code",
   "execution_count": 48,
   "id": "ed3dcccb",
   "metadata": {},
   "outputs": [
    {
     "name": "stdout",
     "output_type": "stream",
     "text": [
      "['vehicule' 'habitation' 'bilan' 'vehicule' 'habitation']\n"
     ]
    }
   ],
   "source": [
    "habitation_not_swapped = perturbed_df.query('label == swapped_label and label == \"habitation\"')\n",
    "habitation_not_swapped_features = X.loc[habitation_not_swapped.index]\n",
    "predict_habitation_not_swapped = perturbed_nn_model.predict(X.loc[habitation_not_swapped.index])\n",
    "predict_label_habitation_not_swapped = le.inverse_transform(predict_habitation_not_swapped)\n",
    "print(predict_label_habitation_not_swapped)"
   ]
  },
  {
   "cell_type": "markdown",
   "id": "8f56f358",
   "metadata": {},
   "source": [
    "the model is confused about the all `habitation` emails and not only with emails that were swapped"
   ]
  },
  {
   "cell_type": "code",
   "execution_count": 50,
   "id": "e82b7429",
   "metadata": {},
   "outputs": [],
   "source": [
    "perturbed_bayesian_cnn_model = NeuralModel(architecture_function=bayesian_cnn_with_meta_model,\n",
    "                       pretrained_embedding=pretrained_embedding,\n",
    "                       text_input_column=\"clean_text\",\n",
    "                       batch_size=20,\n",
    "                       meta_input_list=['extension','attachment_type', 'dayofweek', 'hour', 'min'],\n",
    "                       n_epochs=40)"
   ]
  },
  {
   "cell_type": "code",
   "execution_count": 51,
   "id": "d99732af",
   "metadata": {},
   "outputs": [
    {
     "name": "stderr",
     "output_type": "stream",
     "text": [
      "2021-09-21 18:01:50.833590: I tensorflow/core/profiler/lib/profiler_session.cc:131] Profiler session initializing.\n",
      "2021-09-21 18:01:50.833625: I tensorflow/core/profiler/lib/profiler_session.cc:146] Profiler session started.\n",
      "2021-09-21 18:01:50.833851: I tensorflow/core/profiler/lib/profiler_session.cc:164] Profiler session tear down.\n"
     ]
    },
    {
     "name": "stdout",
     "output_type": "stream",
     "text": [
      "Epoch 1/40\n",
      "2/2 [==============================] - ETA: 0s - loss: 2.3672 - accuracy: 0.1750"
     ]
    },
    {
     "name": "stderr",
     "output_type": "stream",
     "text": [
      "2021-09-21 18:01:52.675399: I tensorflow/core/profiler/lib/profiler_session.cc:131] Profiler session initializing.\n",
      "2021-09-21 18:01:52.677074: I tensorflow/core/profiler/lib/profiler_session.cc:146] Profiler session started.\n"
     ]
    },
    {
     "name": "stdout",
     "output_type": "stream",
     "text": [
      "\b\b\b\b\b\b\b\b\b\b\b\b\b\b\b\b\b\b\b\b\b\b\b\b\b\b\b\b\b\b\b\b\b\b\b\b\b\b\b\b\b\b\b\b\b\b\b\b\b\b\b\b\b\b\b\b\b\b\b\b\b\b\b\b\b\b\b\b\b\b\b\b\b\b\b\b\b\b\b\b\r",
      "2/2 [==============================] - 2s 613ms/step - loss: 2.3672 - accuracy: 0.1750\n"
     ]
    },
    {
     "name": "stderr",
     "output_type": "stream",
     "text": [
      "2021-09-21 18:01:53.014832: I tensorflow/core/profiler/lib/profiler_session.cc:66] Profiler session collecting data.\n",
      "2021-09-21 18:01:53.030037: I tensorflow/core/profiler/lib/profiler_session.cc:164] Profiler session tear down.\n",
      "2021-09-21 18:01:53.035359: I tensorflow/core/profiler/rpc/client/save_profile.cc:136] Creating directory: tutorial/data/train/plugins/profile/2021_09_21_18_01_53\n",
      "\n",
      "2021-09-21 18:01:53.052363: I tensorflow/core/profiler/rpc/client/save_profile.cc:142] Dumped gzipped tool data for trace.json.gz to tutorial/data/train/plugins/profile/2021_09_21_18_01_53/MacBookPro-benoit-FVFXG052HV29.trace.json.gz\n",
      "2021-09-21 18:01:53.105568: I tensorflow/core/profiler/rpc/client/save_profile.cc:136] Creating directory: tutorial/data/train/plugins/profile/2021_09_21_18_01_53\n",
      "\n",
      "2021-09-21 18:01:53.145471: I tensorflow/core/profiler/rpc/client/save_profile.cc:142] Dumped gzipped tool data for memory_profile.json.gz to tutorial/data/train/plugins/profile/2021_09_21_18_01_53/MacBookPro-benoit-FVFXG052HV29.memory_profile.json.gz\n",
      "2021-09-21 18:01:53.158369: I tensorflow/core/profiler/rpc/client/capture_profile.cc:251] Creating directory: tutorial/data/train/plugins/profile/2021_09_21_18_01_53\n",
      "Dumped tool data for xplane.pb to tutorial/data/train/plugins/profile/2021_09_21_18_01_53/MacBookPro-benoit-FVFXG052HV29.xplane.pb\n",
      "Dumped tool data for overview_page.pb to tutorial/data/train/plugins/profile/2021_09_21_18_01_53/MacBookPro-benoit-FVFXG052HV29.overview_page.pb\n",
      "Dumped tool data for input_pipeline.pb to tutorial/data/train/plugins/profile/2021_09_21_18_01_53/MacBookPro-benoit-FVFXG052HV29.input_pipeline.pb\n",
      "Dumped tool data for tensorflow_stats.pb to tutorial/data/train/plugins/profile/2021_09_21_18_01_53/MacBookPro-benoit-FVFXG052HV29.tensorflow_stats.pb\n",
      "Dumped tool data for kernel_stats.pb to tutorial/data/train/plugins/profile/2021_09_21_18_01_53/MacBookPro-benoit-FVFXG052HV29.kernel_stats.pb\n",
      "\n"
     ]
    },
    {
     "name": "stdout",
     "output_type": "stream",
     "text": [
      "Epoch 2/40\n",
      "2/2 [==============================] - 0s 50ms/step - loss: 2.2289 - accuracy: 0.3500\n",
      "Epoch 3/40\n",
      "2/2 [==============================] - 0s 46ms/step - loss: 2.0561 - accuracy: 0.2750\n",
      "Epoch 4/40\n",
      "2/2 [==============================] - 0s 178ms/step - loss: 2.1226 - accuracy: 0.3250\n",
      "Epoch 5/40\n",
      "2/2 [==============================] - 0s 87ms/step - loss: 1.8650 - accuracy: 0.3750\n",
      "Epoch 6/40\n",
      "2/2 [==============================] - 0s 81ms/step - loss: 1.8525 - accuracy: 0.2750\n",
      "Epoch 7/40\n",
      "2/2 [==============================] - 0s 69ms/step - loss: 1.8011 - accuracy: 0.4000\n",
      "Epoch 8/40\n",
      "2/2 [==============================] - 0s 74ms/step - loss: 1.6892 - accuracy: 0.4500\n",
      "Epoch 9/40\n",
      "2/2 [==============================] - 0s 56ms/step - loss: 1.6201 - accuracy: 0.4000\n",
      "Epoch 10/40\n",
      "2/2 [==============================] - 0s 81ms/step - loss: 1.6165 - accuracy: 0.3500\n",
      "Epoch 11/40\n",
      "2/2 [==============================] - 0s 55ms/step - loss: 1.3471 - accuracy: 0.5250\n",
      "Epoch 12/40\n",
      "2/2 [==============================] - 0s 146ms/step - loss: 1.5237 - accuracy: 0.5000\n",
      "Epoch 13/40\n",
      "2/2 [==============================] - 0s 46ms/step - loss: 1.1927 - accuracy: 0.6250\n",
      "Epoch 14/40\n",
      "2/2 [==============================] - 0s 41ms/step - loss: 1.1491 - accuracy: 0.6000\n",
      "Epoch 15/40\n",
      "2/2 [==============================] - 0s 140ms/step - loss: 1.1150 - accuracy: 0.5250\n",
      "Epoch 16/40\n",
      "2/2 [==============================] - 0s 47ms/step - loss: 0.9575 - accuracy: 0.6500\n",
      "Epoch 17/40\n",
      "2/2 [==============================] - 0s 52ms/step - loss: 0.9623 - accuracy: 0.6500\n",
      "Epoch 18/40\n",
      "2/2 [==============================] - 0s 49ms/step - loss: 0.9167 - accuracy: 0.6500\n",
      "Epoch 19/40\n",
      "2/2 [==============================] - 0s 70ms/step - loss: 0.7221 - accuracy: 0.7750\n",
      "Epoch 20/40\n",
      "2/2 [==============================] - 0s 66ms/step - loss: 0.8446 - accuracy: 0.7000\n",
      "Epoch 21/40\n",
      "2/2 [==============================] - 0s 70ms/step - loss: 0.6626 - accuracy: 0.7750\n",
      "Epoch 22/40\n",
      "2/2 [==============================] - 0s 80ms/step - loss: 0.6166 - accuracy: 0.8000\n",
      "Epoch 23/40\n",
      "2/2 [==============================] - 0s 58ms/step - loss: 0.5408 - accuracy: 0.8500\n",
      "Epoch 24/40\n",
      "2/2 [==============================] - 0s 95ms/step - loss: 0.4766 - accuracy: 0.8750\n",
      "Epoch 25/40\n",
      "2/2 [==============================] - 0s 66ms/step - loss: 0.5057 - accuracy: 0.8000\n",
      "Epoch 26/40\n",
      "2/2 [==============================] - 0s 58ms/step - loss: 0.4169 - accuracy: 0.8500\n",
      "Epoch 27/40\n",
      "2/2 [==============================] - 0s 63ms/step - loss: 0.3537 - accuracy: 0.9000\n",
      "Epoch 28/40\n",
      "2/2 [==============================] - 0s 50ms/step - loss: 0.3942 - accuracy: 0.8750\n",
      "Epoch 29/40\n",
      "2/2 [==============================] - 0s 54ms/step - loss: 0.2914 - accuracy: 0.9000\n",
      "Epoch 30/40\n",
      "2/2 [==============================] - 0s 54ms/step - loss: 0.3664 - accuracy: 0.8750\n",
      "Epoch 31/40\n",
      "2/2 [==============================] - 0s 49ms/step - loss: 0.2497 - accuracy: 0.9500\n",
      "Epoch 32/40\n",
      "2/2 [==============================] - 0s 45ms/step - loss: 0.3008 - accuracy: 0.9500\n",
      "Epoch 33/40\n",
      "2/2 [==============================] - 0s 45ms/step - loss: 0.3163 - accuracy: 0.9000\n",
      "Epoch 34/40\n",
      "2/2 [==============================] - 0s 63ms/step - loss: 0.2340 - accuracy: 0.9500\n",
      "Epoch 35/40\n",
      "2/2 [==============================] - 0s 53ms/step - loss: 0.3363 - accuracy: 0.8500\n",
      "Epoch 36/40\n",
      "2/2 [==============================] - 0s 54ms/step - loss: 0.1603 - accuracy: 0.9750\n",
      "Epoch 37/40\n",
      "2/2 [==============================] - 0s 63ms/step - loss: 0.1672 - accuracy: 0.9750\n",
      "Epoch 38/40\n",
      "2/2 [==============================] - 0s 41ms/step - loss: 0.1415 - accuracy: 0.9500\n",
      "Epoch 39/40\n",
      "2/2 [==============================] - 0s 95ms/step - loss: 0.1157 - accuracy: 1.0000\n",
      "Epoch 40/40\n",
      "2/2 [==============================] - 0s 61ms/step - loss: 0.2886 - accuracy: 0.8500\n"
     ]
    }
   ],
   "source": [
    "perturbed_bayesian_cnn_model = fit_log_mlflow(perturbed_bayesian_cnn_model, perturbed=True)"
   ]
  },
  {
   "cell_type": "code",
   "execution_count": 52,
   "id": "3880b907",
   "metadata": {},
   "outputs": [
    {
     "name": "stdout",
     "output_type": "stream",
     "text": [
      "['vehicule' 'vehicule' 'vehicule']\n"
     ]
    }
   ],
   "source": [
    "swapped_X = X.loc[swapped_emails.index]\n",
    "predict_swapped = perturbed_bayesian_cnn_model.predict(swapped_X)\n",
    "predicted_label_swapped = le.inverse_transform(predict_swapped)\n",
    "print(predicted_label_swapped)"
   ]
  },
  {
   "cell_type": "code",
   "execution_count": 54,
   "id": "5db0d10f",
   "metadata": {},
   "outputs": [
    {
     "name": "stdout",
     "output_type": "stream",
     "text": [
      "True label: \u001b[1m \u001b[92m habitation \u001b[0m\n",
      "Clean text:  correspondance de la societe imaginaire bonjour, merci de votre retour rapide. concernent l'attestation du 22 septembre, serait-il possible de faire apparaitre l'adresse complete de l'evenement. en effet, s'agissant d'un domaine prive, les proprietaires nous ont fait cette demande.\n"
     ]
    },
    {
     "data": {
      "image/png": "[encoded data removed]",
      "text/plain": [
       "<Figure size 432x288 with 1 Axes>"
      ]
     },
     "metadata": {
      "needs_background": "light"
     },
     "output_type": "display_data"
    }
   ],
   "source": [
    "idx_swapped = swapped_emails.index[0]\n",
    "analyse_and_plot_model_predictions(X, y, perturbed_bayesian_cnn_model, idx_swapped)"
   ]
  },
  {
   "cell_type": "code",
   "execution_count": 55,
   "id": "0f0dadb5",
   "metadata": {},
   "outputs": [
    {
     "name": "stdout",
     "output_type": "stream",
     "text": [
      "True label: \u001b[1m \u001b[92m habitation \u001b[0m\n",
      "Clean text:  changement d'adresse permettez-moi de vous signaler un changement d'adresse me concernant. voici ma nouvelle adresse : 00 rue du nomderue  flag_cp_  paris\n"
     ]
    },
    {
     "data": {
      "image/png": "[encoded data removed]",
      "text/plain": [
       "<Figure size 432x288 with 1 Axes>"
      ]
     },
     "metadata": {
      "needs_background": "light"
     },
     "output_type": "display_data"
    }
   ],
   "source": [
    "idx_habi_not_swapped = habitation_not_swapped.index[2]\n",
    "analyse_and_plot_model_predictions(X, y, perturbed_bayesian_cnn_model, idx_habi_not_swapped)"
   ]
  },
  {
   "cell_type": "markdown",
   "id": "9b75ff54",
   "metadata": {},
   "source": [
    "# TODO : define a condition to identify the email we need to check again\n",
    "Example : \n",
    "\n",
    "The emails where the top level of confidence is low\n",
    "The emails where the bottom level of confidence is low\n",
    "The emails where the mean of the score is low\n",
    "The email with the label : `adhesion` where the confidence of `habitation` is high"
   ]
  },
  {
   "cell_type": "markdown",
   "id": "7bfb7991",
   "metadata": {},
   "source": [
    "## Usecase : What if a mail has several categories ?"
   ]
  },
  {
   "cell_type": "markdown",
   "id": "eb999bf9",
   "metadata": {},
   "source": [
    "Let's concatenate 2 mails of differents categories"
   ]
  },
  {
   "cell_type": "code",
   "execution_count": 31,
   "id": "53482e46",
   "metadata": {},
   "outputs": [
    {
     "name": "stdout",
     "output_type": "stream",
     "text": [
      "True label: \u001b[1m \u001b[92m adhesion \u001b[0m\n",
      "bulletin de salaire voici ci joint mon bulletin de salaire comme demande.\n"
     ]
    }
   ],
   "source": [
    "i=4\n",
    "true_label_decoded = le.inverse_transform([y[i]])[0]\n",
    "print('True label: \\033[1m \\033[92m {} \\033[0m'.format(str(true_label_decoded)))\n",
    "print(X.loc[i,\"clean_text\"])"
   ]
  },
  {
   "cell_type": "code",
   "execution_count": 32,
   "id": "24c75e1f",
   "metadata": {},
   "outputs": [
    {
     "name": "stdout",
     "output_type": "stream",
     "text": [
      "True label: \u001b[1m \u001b[92m habitation \u001b[0m\n",
      "modification et extension de ma maison je vous avais contactes car j'avais pour projet d'agrandir ma maison. j'avais recu un devis pour lequel je n'avais pas donne suite, les travaux n'etant pas encore realises. le projet a maintenant ete porte a son terme et je voudrais donc revoir votre offre si possible. je desire garder le meme type de contrat.\n"
     ]
    }
   ],
   "source": [
    "i=5\n",
    "true_label_decoded = le.inverse_transform([y[i]])[0]\n",
    "print('True label: \\033[1m \\033[92m {} \\033[0m'.format(str(true_label_decoded)))\n",
    "print(X.loc[i,\"clean_text\"])"
   ]
  },
  {
   "cell_type": "code",
   "execution_count": 33,
   "id": "f108ae64",
   "metadata": {},
   "outputs": [
    {
     "name": "stderr",
     "output_type": "stream",
     "text": [
      "/Users/benoit/miniconda3/envs/melusinefork/lib/python3.7/site-packages/numpy/core/fromnumeric.py:87: VisibleDeprecationWarning: Creating an ndarray from ragged nested sequences (which is a list-or-tuple of lists-or-tuples-or ndarrays with different lengths or shapes) is deprecated. If you meant to do this, you must specify 'dtype=object' when creating the ndarray\n",
      "  return ufunc.reduce(obj, axis, dtype, out, **passkwargs)\n"
     ]
    }
   ],
   "source": [
    "def fusion_rows(df, indice_1, indice_2):\n",
    "    row_1 = df.loc[indice_1]\n",
    "    row_2 = df.loc[indice_2]\n",
    "    dict_agg = {}\n",
    "\n",
    "    for colname in df.columns:\n",
    "        if colname.startswith(('attachment_type', 'extension__', 'tokens')):\n",
    "            # sum of the values (attachments, extension) and concat the lists of tokens\n",
    "            agg_value = np.sum([row_1[colname], row_2[colname]])\n",
    "        elif colname == \"clean_text\":\n",
    "            # we concatenate with a dot as a separator\n",
    "            agg_value = \". \".join([row_1[colname], row_2[colname]])\n",
    "        else:\n",
    "            # we retain the value of the first email\n",
    "            agg_value = row_2[colname]\n",
    "        dict_agg[colname] = agg_value\n",
    "    row_agg = pd.Series(dict_agg)\n",
    "    df_agg = pd.DataFrame([row_agg])\n",
    "    return df_agg\n",
    "merged = fusion_rows(X, 4, 5)"
   ]
  },
  {
   "cell_type": "code",
   "execution_count": 34,
   "id": "065fc758",
   "metadata": {},
   "outputs": [
    {
     "data": {
      "text/plain": [
       "\"bulletin de salaire voici ci joint mon bulletin de salaire comme demande.. modification et extension de ma maison je vous avais contactes car j'avais pour projet d'agrandir ma maison. j'avais recu un devis pour lequel je n'avais pas donne suite, les travaux n'etant pas encore realises. le projet a maintenant ete porte a son terme et je voudrais donc revoir votre offre si possible. je desire garder le meme type de contrat.\""
      ]
     },
     "execution_count": 34,
     "metadata": {},
     "output_type": "execute_result"
    }
   ],
   "source": [
    "merged[\"clean_text\"].loc[0]"
   ]
  },
  {
   "cell_type": "code",
   "execution_count": 35,
   "id": "ba8e0bf8",
   "metadata": {},
   "outputs": [
    {
     "name": "stdout",
     "output_type": "stream",
     "text": [
      "True label: \u001b[1m \u001b[92m adhesion \u001b[0m\n",
      "Clean text:  bulletin de salaire voici ci joint mon bulletin de salaire comme demande.. modification et extension de ma maison je vous avais contactes car j'avais pour projet d'agrandir ma maison. j'avais recu un devis pour lequel je n'avais pas donne suite, les travaux n'etant pas encore realises. le projet a maintenant ete porte a son terme et je voudrais donc revoir votre offre si possible. je desire garder le meme type de contrat.\n"
     ]
    },
    {
     "data": {
      "image/png": "[encoded data removed]",
      "text/plain": [
       "<Figure size 432x288 with 1 Axes>"
      ]
     },
     "metadata": {
      "needs_background": "light"
     },
     "output_type": "display_data"
    }
   ],
   "source": [
    "analyse_and_plot_model_predictions(merged, [y[4]], nn_model, 0)"
   ]
  },
  {
   "cell_type": "code",
   "execution_count": 36,
   "id": "4d0558c4",
   "metadata": {},
   "outputs": [
    {
     "name": "stdout",
     "output_type": "stream",
     "text": [
      "True label: \u001b[1m \u001b[92m adhesion \u001b[0m\n",
      "Clean text:  bulletin de salaire voici ci joint mon bulletin de salaire comme demande.. modification et extension de ma maison je vous avais contactes car j'avais pour projet d'agrandir ma maison. j'avais recu un devis pour lequel je n'avais pas donne suite, les travaux n'etant pas encore realises. le projet a maintenant ete porte a son terme et je voudrais donc revoir votre offre si possible. je desire garder le meme type de contrat.\n"
     ]
    },
    {
     "data": {
      "image/png": "[encoded data removed]",
      "text/plain": [
       "<Figure size 432x288 with 1 Axes>"
      ]
     },
     "metadata": {
      "needs_background": "light"
     },
     "output_type": "display_data"
    }
   ],
   "source": [
    "analyse_and_plot_model_predictions(merged, [y[4]], variational_nn_model, 0)"
   ]
  },
  {
   "cell_type": "code",
   "execution_count": 37,
   "id": "61bc4e84",
   "metadata": {},
   "outputs": [
    {
     "name": "stdout",
     "output_type": "stream",
     "text": [
      "True label: \u001b[1m \u001b[92m adhesion \u001b[0m\n",
      "Clean text:  bulletin de salaire voici ci joint mon bulletin de salaire comme demande.. modification et extension de ma maison je vous avais contactes car j'avais pour projet d'agrandir ma maison. j'avais recu un devis pour lequel je n'avais pas donne suite, les travaux n'etant pas encore realises. le projet a maintenant ete porte a son terme et je voudrais donc revoir votre offre si possible. je desire garder le meme type de contrat.\n"
     ]
    },
    {
     "data": {
      "image/png": "[encoded data removed]",
      "text/plain": [
       "<Figure size 432x288 with 1 Axes>"
      ]
     },
     "metadata": {
      "needs_background": "light"
     },
     "output_type": "display_data"
    }
   ],
   "source": [
    "analyse_and_plot_model_predictions(merged, [y[4]], flipout_nn_model, 0)"
   ]
  },
  {
   "cell_type": "code",
   "execution_count": null,
   "id": "18aff89e",
   "metadata": {},
   "outputs": [],
   "source": [
    "epistemic : sur des data qui ont peu été vues.\n",
    "aleatoric : l'erreur du à la labellisation"
   ]
  },
  {
   "cell_type": "code",
   "execution_count": 74,
   "id": "8ed6913b",
   "metadata": {},
   "outputs": [
    {
     "data": {
      "text/plain": [
       "array([ 4, 10,  3,  0,  0,  4,  7, 10,  1, 10,  2,  5, 10, 10,  4,  7,  7,\n",
       "       10,  0,  9,  4, 10,  4,  7, 10, 10,  6,  7,  3,  8, 10, 10, 10,  4,\n",
       "        7,  3,  5,  4,  4, 10])"
      ]
     },
     "execution_count": 74,
     "metadata": {},
     "output_type": "execute_result"
    }
   ],
   "source": [
    "y"
   ]
  },
  {
   "cell_type": "code",
   "execution_count": 86,
   "id": "0139fb92",
   "metadata": {},
   "outputs": [],
   "source": [
    "from tensorflow_probability import distributions as tfd\n",
    "features = tfd.Normal(loc=0., scale=1.).sample(int(5))\n",
    "bernoulli = tfd.Bernoulli(logits=1.618 * features)"
   ]
  },
  {
   "cell_type": "code",
   "execution_count": 87,
   "id": "d3a750d1",
   "metadata": {},
   "outputs": [
    {
     "data": {
      "text/plain": [
       "<tf.Tensor: shape=(5,), dtype=float32, numpy=\n",
       "array([0.8882861 , 0.9331638 , 0.95070904, 0.15552284, 0.2400191 ],\n",
       "      dtype=float32)>"
      ]
     },
     "execution_count": 87,
     "metadata": {},
     "output_type": "execute_result"
    }
   ],
   "source": [
    "bernoulli.mean()"
   ]
  },
  {
   "cell_type": "code",
   "execution_count": 93,
   "id": "534cb47b",
   "metadata": {},
   "outputs": [
    {
     "data": {
      "text/plain": [
       "<tf.Tensor: shape=(5,), dtype=float32, numpy=\n",
       "array([0.11171389, 0.06683618, 0.04929096, 0.8444772 , 0.7599809 ],\n",
       "      dtype=float32)>"
      ]
     },
     "execution_count": 93,
     "metadata": {},
     "output_type": "execute_result"
    }
   ],
   "source": [
    "bernoulli.cdf(0.1)"
   ]
  },
  {
   "cell_type": "code",
   "execution_count": 92,
   "id": "b45a82f4",
   "metadata": {},
   "outputs": [
    {
     "data": {
      "text/plain": [
       "<tf.Tensor: shape=(5,), dtype=float32, numpy=\n",
       "array([0.11171389, 0.06683618, 0.04929096, 0.8444772 , 0.7599809 ],\n",
       "      dtype=float32)>"
      ]
     },
     "execution_count": 92,
     "metadata": {},
     "output_type": "execute_result"
    }
   ],
   "source": [
    "bernoulli.cdf(0.95)"
   ]
  },
  {
   "cell_type": "code",
   "execution_count": 91,
   "id": "a381e901",
   "metadata": {},
   "outputs": [
    {
     "data": {
      "text/plain": [
       "<tf.Tensor: shape=(5,), dtype=float32, numpy=\n",
       "array([0.11171389, 0.06683618, 0.04929096, 0.8444772 , 0.7599809 ],\n",
       "      dtype=float32)>"
      ]
     },
     "execution_count": 91,
     "metadata": {},
     "output_type": "execute_result"
    }
   ],
   "source": [
    "bernoulli.cdf(0.5)"
   ]
  },
  {
   "cell_type": "code",
   "execution_count": 94,
   "id": "175a97bb",
   "metadata": {},
   "outputs": [
    {
     "data": {
      "text/plain": [
       "<tf.Tensor: shape=(5,), dtype=float32, numpy=\n",
       "array([0.1239166 , 0.07625338, 0.05715193, 0.77597594, 0.71742225],\n",
       "      dtype=float32)>"
      ]
     },
     "execution_count": 94,
     "metadata": {},
     "output_type": "execute_result"
    }
   ],
   "source": [
    "bernoulli.prob(0.05)"
   ]
  },
  {
   "cell_type": "code",
   "execution_count": 100,
   "id": "e547ed01",
   "metadata": {},
   "outputs": [
    {
     "data": {
      "text/plain": [
       "\u001b[0;31mSignature:\u001b[0m \u001b[0mbernoulli\u001b[0m\u001b[0;34m.\u001b[0m\u001b[0mcdf\u001b[0m\u001b[0;34m(\u001b[0m\u001b[0mvalue\u001b[0m\u001b[0;34m,\u001b[0m \u001b[0mname\u001b[0m\u001b[0;34m=\u001b[0m\u001b[0;34m'cdf'\u001b[0m\u001b[0;34m,\u001b[0m \u001b[0;34m**\u001b[0m\u001b[0mkwargs\u001b[0m\u001b[0;34m)\u001b[0m\u001b[0;34m\u001b[0m\u001b[0;34m\u001b[0m\u001b[0m\n",
       "\u001b[0;31mDocstring:\u001b[0m\n",
       "Cumulative distribution function.\n",
       "\n",
       "Given random variable `X`, the cumulative distribution function `cdf` is:\n",
       "\n",
       "```none\n",
       "cdf(x) := P[X <= x]\n",
       "```\n",
       "\n",
       "Args:\n",
       "  value: `float` or `double` `Tensor`.\n",
       "  name: Python `str` prepended to names of ops created by this function.\n",
       "  **kwargs: Named arguments forwarded to subclass implementation.\n",
       "\n",
       "Returns:\n",
       "  cdf: a `Tensor` of shape `sample_shape(x) + self.batch_shape` with\n",
       "    values of type `self.dtype`.\n",
       "\u001b[0;31mFile:\u001b[0m      /opt/conda/lib/python3.7/site-packages/tensorflow_probability/python/distributions/distribution.py\n",
       "\u001b[0;31mType:\u001b[0m      method\n"
      ]
     },
     "metadata": {},
     "output_type": "display_data"
    }
   ],
   "source": [
    "bernoulli.cdf?"
   ]
  },
  {
   "cell_type": "code",
   "execution_count": 99,
   "id": "32d15445",
   "metadata": {},
   "outputs": [
    {
     "data": {
      "text/plain": [
       "\u001b[0;31mSignature:\u001b[0m \u001b[0mbernoulli\u001b[0m\u001b[0;34m.\u001b[0m\u001b[0mquantile\u001b[0m\u001b[0;34m(\u001b[0m\u001b[0mvalue\u001b[0m\u001b[0;34m,\u001b[0m \u001b[0mname\u001b[0m\u001b[0;34m=\u001b[0m\u001b[0;34m'quantile'\u001b[0m\u001b[0;34m,\u001b[0m \u001b[0;34m**\u001b[0m\u001b[0mkwargs\u001b[0m\u001b[0;34m)\u001b[0m\u001b[0;34m\u001b[0m\u001b[0;34m\u001b[0m\u001b[0m\n",
       "\u001b[0;31mDocstring:\u001b[0m\n",
       "Quantile function. Aka 'inverse cdf' or 'percent point function'.\n",
       "\n",
       "Given random variable `X` and `p in [0, 1]`, the `quantile` is:\n",
       "\n",
       "```none\n",
       "quantile(p) := x such that P[X <= x] == p\n",
       "```\n",
       "\n",
       "Args:\n",
       "  value: `float` or `double` `Tensor`.\n",
       "  name: Python `str` prepended to names of ops created by this function.\n",
       "  **kwargs: Named arguments forwarded to subclass implementation.\n",
       "\n",
       "Returns:\n",
       "  quantile: a `Tensor` of shape `sample_shape(x) + self.batch_shape` with\n",
       "    values of type `self.dtype`.\n",
       "\u001b[0;31mFile:\u001b[0m      /opt/conda/lib/python3.7/site-packages/tensorflow_probability/python/distributions/distribution.py\n",
       "\u001b[0;31mType:\u001b[0m      method\n"
      ]
     },
     "metadata": {},
     "output_type": "display_data"
    }
   ],
   "source": [
    "bernoulli.quantile?"
   ]
  },
  {
   "cell_type": "code",
   "execution_count": 80,
   "id": "de168985",
   "metadata": {},
   "outputs": [
    {
     "data": {
      "text/plain": [
       "\u001b[0;31mSignature:\u001b[0m \u001b[0mbernoulli\u001b[0m\u001b[0;34m.\u001b[0m\u001b[0mprob\u001b[0m\u001b[0;34m(\u001b[0m\u001b[0mvalue\u001b[0m\u001b[0;34m,\u001b[0m \u001b[0mname\u001b[0m\u001b[0;34m=\u001b[0m\u001b[0;34m'prob'\u001b[0m\u001b[0;34m,\u001b[0m \u001b[0;34m**\u001b[0m\u001b[0mkwargs\u001b[0m\u001b[0;34m)\u001b[0m\u001b[0;34m\u001b[0m\u001b[0;34m\u001b[0m\u001b[0m\n",
       "\u001b[0;31mDocstring:\u001b[0m\n",
       "Probability density/mass function.\n",
       "\n",
       "Args:\n",
       "  value: `float` or `double` `Tensor`.\n",
       "  name: Python `str` prepended to names of ops created by this function.\n",
       "  **kwargs: Named arguments forwarded to subclass implementation.\n",
       "\n",
       "Returns:\n",
       "  prob: a `Tensor` of shape `sample_shape(x) + self.batch_shape` with\n",
       "    values of type `self.dtype`.\n",
       "\u001b[0;31mFile:\u001b[0m      /opt/conda/lib/python3.7/site-packages/tensorflow_probability/python/distributions/distribution.py\n",
       "\u001b[0;31mType:\u001b[0m      method\n"
      ]
     },
     "metadata": {},
     "output_type": "display_data"
    }
   ],
   "source": [
    "bernoulli.prob?"
   ]
  },
  {
   "cell_type": "code",
   "execution_count": 78,
   "id": "01a21bdb",
   "metadata": {},
   "outputs": [
    {
     "data": {
      "text/plain": [
       "<tf.Tensor: shape=(5,), dtype=float32, numpy=\n",
       "array([0.14039457, 0.19465165, 0.25647277, 0.3696385 , 0.36143744],\n",
       "      dtype=float32)>"
      ]
     },
     "execution_count": 78,
     "metadata": {},
     "output_type": "execute_result"
    }
   ],
   "source": [
    "bernoulli.prob(0.95)"
   ]
  },
  {
   "cell_type": "code",
   "execution_count": 68,
   "id": "bec6863a",
   "metadata": {},
   "outputs": [
    {
     "name": "stdout",
     "output_type": "stream",
     "text": [
      "bernoulli.cdf(0.95) tf.Tensor([0.87247586 0.81953216 0.7577414  0.6409152  0.6495433 ], shape=(5,), dtype=float32)\n"
     ]
    },
    {
     "data": {
      "text/plain": [
       "\u001b[0;31mSignature:\u001b[0m \u001b[0mbernoulli\u001b[0m\u001b[0;34m.\u001b[0m\u001b[0mcdf\u001b[0m\u001b[0;34m(\u001b[0m\u001b[0mvalue\u001b[0m\u001b[0;34m,\u001b[0m \u001b[0mname\u001b[0m\u001b[0;34m=\u001b[0m\u001b[0;34m'cdf'\u001b[0m\u001b[0;34m,\u001b[0m \u001b[0;34m**\u001b[0m\u001b[0mkwargs\u001b[0m\u001b[0;34m)\u001b[0m\u001b[0;34m\u001b[0m\u001b[0;34m\u001b[0m\u001b[0m\n",
       "\u001b[0;31mDocstring:\u001b[0m\n",
       "Cumulative distribution function.\n",
       "\n",
       "Given random variable `X`, the cumulative distribution function `cdf` is:\n",
       "\n",
       "```none\n",
       "cdf(x) := P[X <= x]\n",
       "```\n",
       "\n",
       "Args:\n",
       "  value: `float` or `double` `Tensor`.\n",
       "  name: Python `str` prepended to names of ops created by this function.\n",
       "  **kwargs: Named arguments forwarded to subclass implementation.\n",
       "\n",
       "Returns:\n",
       "  cdf: a `Tensor` of shape `sample_shape(x) + self.batch_shape` with\n",
       "    values of type `self.dtype`.\n",
       "\u001b[0;31mFile:\u001b[0m      /opt/conda/lib/python3.7/site-packages/tensorflow_probability/python/distributions/distribution.py\n",
       "\u001b[0;31mType:\u001b[0m      method\n"
      ]
     },
     "metadata": {},
     "output_type": "display_data"
    }
   ],
   "source": [
    "features = tfd.Normal(loc=0., scale=1.).sample(int(5))\n",
    "bernoulli = tfd.Bernoulli(logits=1.618 * features)\n",
    "print(\"bernoulli.cdf(0.95)\", bernoulli.cdf(0.95))\n",
    "bernoulli.cdf?"
   ]
  },
  {
   "cell_type": "code",
   "execution_count": 65,
   "id": "6676a7d7",
   "metadata": {},
   "outputs": [
    {
     "data": {
      "text/plain": [
       "<tf.Tensor: shape=(100,), dtype=float32, numpy=\n",
       "array([0.43110496, 0.5567271 , 0.88557   , 0.05961686, 0.96272886,\n",
       "       0.3849101 , 0.84136146, 0.03067887, 0.8896462 , 0.20625603,\n",
       "       0.24786615, 0.60711765, 0.3435384 , 0.28218108, 0.10468102,\n",
       "       0.8444642 , 0.01992315, 0.22752297, 0.77935624, 0.24141413,\n",
       "       0.8758018 , 0.723384  , 0.23492748, 0.36119676, 0.7137803 ,\n",
       "       0.07756138, 0.5637373 , 0.7721677 , 0.88487196, 0.39660627,\n",
       "       0.5715605 , 0.7153101 , 0.70246327, 0.8458277 , 0.5728475 ,\n",
       "       0.5862157 , 0.65055484, 0.9102088 , 0.33827293, 0.08946258,\n",
       "       0.26819146, 0.09365308, 0.08825713, 0.9648313 , 0.58598834,\n",
       "       0.74852586, 0.04141301, 0.3953362 , 0.6056563 , 0.9789175 ,\n",
       "       0.49299073, 0.34908152, 0.15568525, 0.16918254, 0.46534127,\n",
       "       0.07172453, 0.40860653, 0.26030278, 0.35145527, 0.5460242 ,\n",
       "       0.4769727 , 0.5961213 , 0.39661366, 0.61699116, 0.6963072 ,\n",
       "       0.5307225 , 0.03820926, 0.71333754, 0.46681446, 0.23030603,\n",
       "       0.26619828, 0.15406209, 0.19059515, 0.7073561 , 0.5329232 ,\n",
       "       0.0926019 , 0.4741423 , 0.77748406, 0.748438  , 0.8824121 ,\n",
       "       0.5151585 , 0.5005674 , 0.65734476, 0.4622172 , 0.17224503,\n",
       "       0.95752805, 0.09307182, 0.19642657, 0.9211247 , 0.45038575,\n",
       "       0.65551865, 0.05551815, 0.19009393, 0.7307269 , 0.8138124 ,\n",
       "       0.5224296 , 0.8085096 , 0.9749627 , 0.24397641, 0.80108106],\n",
       "      dtype=float32)>"
      ]
     },
     "execution_count": 65,
     "metadata": {},
     "output_type": "execute_result"
    }
   ],
   "source": []
  },
  {
   "cell_type": "code",
   "execution_count": null,
   "id": "4d12437c",
   "metadata": {},
   "outputs": [],
   "source": [
    "tfd.Bernoulli(logits=1.618 * features).cdf"
   ]
  },
  {
   "cell_type": "code",
   "execution_count": null,
   "id": "db9e7624",
   "metadata": {},
   "outputs": [],
   "source": [
    "tfd.Bernoulli(logits=1.618 * features).cdf"
   ]
  },
  {
   "cell_type": "code",
   "execution_count": 53,
   "id": "9f33f814",
   "metadata": {},
   "outputs": [
    {
     "data": {
      "text/plain": [
       "\u001b[0;31mSignature:\u001b[0m \u001b[0mlabels\u001b[0m\u001b[0;34m.\u001b[0m\u001b[0mcdf\u001b[0m\u001b[0;34m(\u001b[0m\u001b[0mvalue\u001b[0m\u001b[0;34m,\u001b[0m \u001b[0mname\u001b[0m\u001b[0;34m=\u001b[0m\u001b[0;34m'cdf'\u001b[0m\u001b[0;34m,\u001b[0m \u001b[0;34m**\u001b[0m\u001b[0mkwargs\u001b[0m\u001b[0;34m)\u001b[0m\u001b[0;34m\u001b[0m\u001b[0;34m\u001b[0m\u001b[0m\n",
       "\u001b[0;31mDocstring:\u001b[0m\n",
       "Cumulative distribution function.\n",
       "\n",
       "Given random variable `X`, the cumulative distribution function `cdf` is:\n",
       "\n",
       "```none\n",
       "cdf(x) := P[X <= x]\n",
       "```\n",
       "\n",
       "Args:\n",
       "  value: `float` or `double` `Tensor`.\n",
       "  name: Python `str` prepended to names of ops created by this function.\n",
       "  **kwargs: Named arguments forwarded to subclass implementation.\n",
       "\n",
       "Returns:\n",
       "  cdf: a `Tensor` of shape `sample_shape(x) + self.batch_shape` with\n",
       "    values of type `self.dtype`.\n",
       "\u001b[0;31mFile:\u001b[0m      /opt/conda/lib/python3.7/site-packages/tensorflow_probability/python/distributions/distribution.py\n",
       "\u001b[0;31mType:\u001b[0m      method\n"
      ]
     },
     "metadata": {},
     "output_type": "display_data"
    }
   ],
   "source": [
    "labels.cdf?"
   ]
  },
  {
   "cell_type": "code",
   "execution_count": 42,
   "id": "4e683920",
   "metadata": {},
   "outputs": [
    {
     "data": {
      "text/plain": [
       "['_parameters',\n",
       " '_probs',\n",
       " '_logits',\n",
       " '_name',\n",
       " '_name_scope',\n",
       " '_dtype',\n",
       " '_reparameterization_type',\n",
       " '_allow_nan_stats',\n",
       " '_validate_args',\n",
       " '_parameters_sanitized',\n",
       " '_self_setattr_tracking',\n",
       " '_self_unconditional_checkpoint_dependencies',\n",
       " '_self_unconditional_dependency_names',\n",
       " '_self_unconditional_deferred_dependencies',\n",
       " '_self_update_uid',\n",
       " '_self_name_based_restores',\n",
       " '_self_saveable_object_factories',\n",
       " '_graph_parents',\n",
       " '_defer_all_assertions',\n",
       " '_initial_parameter_control_dependencies',\n",
       " '_Distribution__cached_batch_shape',\n",
       " '__module__',\n",
       " '__doc__',\n",
       " '__init__',\n",
       " '_parameter_properties',\n",
       " 'logits',\n",
       " 'probs',\n",
       " '_event_shape_tensor',\n",
       " '_event_shape',\n",
       " '_sample_n',\n",
       " '_log_prob',\n",
       " '_outcome_log_probs',\n",
       " '_cdf',\n",
       " '_entropy',\n",
       " '_mean',\n",
       " '_variance',\n",
       " '_mode',\n",
       " 'logits_parameter',\n",
       " '_logits_parameter_no_checks',\n",
       " 'probs_parameter',\n",
       " '_probs_parameter_no_checks',\n",
       " '_default_event_space_bijector',\n",
       " '_parameter_control_dependencies',\n",
       " '_sample_control_dependencies',\n",
       " 'cross_entropy',\n",
       " 'kl_divergence',\n",
       " 'mode',\n",
       " '__abstractmethods__',\n",
       " '_abc_impl',\n",
       " '_composite_tensor_params',\n",
       " '_composite_tensor_nonshape_params',\n",
       " '_composite_tensor_shape_params',\n",
       " 'parameter_properties',\n",
       " 'param_shapes',\n",
       " 'param_static_shapes',\n",
       " 'name',\n",
       " 'dtype',\n",
       " 'parameters',\n",
       " '_params_event_ndims',\n",
       " '__getitem__',\n",
       " '__iter__',\n",
       " 'reparameterization_type',\n",
       " 'allow_nan_stats',\n",
       " 'validate_args',\n",
       " 'experimental_shard_axis_names',\n",
       " 'copy',\n",
       " '_batch_shape_tensor',\n",
       " 'batch_shape_tensor',\n",
       " '_batch_shape',\n",
       " 'batch_shape',\n",
       " 'event_shape_tensor',\n",
       " 'event_shape',\n",
       " 'is_scalar_event',\n",
       " 'is_scalar_batch',\n",
       " '_call_sample_n',\n",
       " 'sample',\n",
       " '_call_log_prob',\n",
       " 'log_prob',\n",
       " '_call_prob',\n",
       " 'prob',\n",
       " '_call_unnormalized_log_prob',\n",
       " 'unnormalized_log_prob',\n",
       " '_call_log_cdf',\n",
       " 'log_cdf',\n",
       " '_call_cdf',\n",
       " 'cdf',\n",
       " '_log_survival_function',\n",
       " '_call_log_survival_function',\n",
       " 'log_survival_function',\n",
       " '_survival_function',\n",
       " '_call_survival_function',\n",
       " 'survival_function',\n",
       " 'entropy',\n",
       " 'mean',\n",
       " '_quantile',\n",
       " '_call_quantile',\n",
       " 'quantile',\n",
       " 'variance',\n",
       " '_stddev',\n",
       " 'stddev',\n",
       " '_covariance',\n",
       " 'covariance',\n",
       " '_cross_entropy',\n",
       " '_kl_divergence',\n",
       " '_experimental_default_event_space_bijector',\n",
       " 'experimental_default_event_space_bijector',\n",
       " '__str__',\n",
       " '__repr__',\n",
       " '_name_and_control_scope',\n",
       " '_expand_sample_shape_to_vector',\n",
       " '_set_sample_static_shape',\n",
       " '_is_scalar_helper',\n",
       " '_TF_MODULE_IGNORED_PROPERTIES',\n",
       " 'name_scope',\n",
       " 'variables',\n",
       " 'trainable_variables',\n",
       " 'non_trainable_variables',\n",
       " 'submodules',\n",
       " '_flatten',\n",
       " 'with_name_scope',\n",
       " '_tf_api_names',\n",
       " '_tf_api_names_v1',\n",
       " '__setattr__',\n",
       " '__delattr__',\n",
       " '_no_dependency',\n",
       " '_list_functions_for_serialization',\n",
       " '_delete_tracking',\n",
       " '_setattr_tracking',\n",
       " '_update_uid',\n",
       " '_unconditional_checkpoint_dependencies',\n",
       " '_unconditional_dependency_names',\n",
       " '_name_based_restores',\n",
       " '_maybe_initialize_trackable',\n",
       " '_object_identifier',\n",
       " '_tracking_metadata',\n",
       " '_name_based_attribute_restore',\n",
       " '_checkpoint_dependencies',\n",
       " '_deferred_dependencies',\n",
       " '_lookup_dependency',\n",
       " '_add_variable_with_custom_getter',\n",
       " '_preload_simple_restoration',\n",
       " '_track_trackable',\n",
       " '_handle_deferred_dependencies',\n",
       " '_restore_from_checkpoint_position',\n",
       " '_single_restoration_from_checkpoint_position',\n",
       " '_gather_saveables_for_checkpoint',\n",
       " '_list_extra_dependencies_for_serialization',\n",
       " '_map_resources',\n",
       " '__dict__',\n",
       " '__weakref__',\n",
       " '__hash__',\n",
       " '__getattribute__',\n",
       " '__lt__',\n",
       " '__le__',\n",
       " '__eq__',\n",
       " '__ne__',\n",
       " '__gt__',\n",
       " '__ge__',\n",
       " '__new__',\n",
       " '__reduce_ex__',\n",
       " '__reduce__',\n",
       " '__subclasshook__',\n",
       " '__init_subclass__',\n",
       " '__format__',\n",
       " '__sizeof__',\n",
       " '__dir__',\n",
       " '__class__']"
      ]
     },
     "execution_count": 42,
     "metadata": {},
     "output_type": "execute_result"
    }
   ],
   "source": [
    "labels.__dir__()"
   ]
  },
  {
   "cell_type": "code",
   "execution_count": 105,
   "id": "d8d15bc1",
   "metadata": {},
   "outputs": [
    {
     "data": {
      "text/plain": [
       "<tfp.distributions.OneHotCategorical 'model_one_hot_categorical_OneHotCategorical_OneHotCategorical' batch_shape=[40] event_shape=[11] dtype=float32>"
      ]
     },
     "execution_count": 105,
     "metadata": {},
     "output_type": "execute_result"
    }
   ],
   "source": [
    "X_input = nn_model.prepare_email_to_predict(X)\n",
    "nn_model.model(X_input)"
   ]
  },
  {
   "cell_type": "code",
   "execution_count": 108,
   "id": "298f74de",
   "metadata": {},
   "outputs": [
    {
     "data": {
      "text/plain": [
       "<tf.Tensor: shape=(40,), dtype=float32, numpy=\n",
       "array([4.52391596e-12, 1.81985340e-13, 1.07441206e-15, 9.66536712e-11,\n",
       "       2.03147943e-09, 6.21834528e-10, 3.88106214e-09, 2.56384269e-19,\n",
       "       2.84721313e-08, 2.50929665e-14, 2.54012904e-11, 5.91992318e-07,\n",
       "       3.27808744e-29, 7.57826148e-15, 3.34826680e-11, 2.24422947e-09,\n",
       "       1.22682486e-08, 2.38922898e-17, 2.11296604e-15, 6.83143776e-12,\n",
       "       8.53359883e-10, 1.00269220e-24, 2.46352526e-13, 2.92819796e-10,\n",
       "       4.23993590e-14, 1.47480293e-20, 3.42559581e-08, 2.31843540e-08,\n",
       "       7.61404777e-15, 5.46089666e-07, 4.07053762e-21, 1.02651084e-14,\n",
       "       1.00367065e-19, 1.88005629e-08, 3.99538962e-08, 1.73913348e-22,\n",
       "       2.86172259e-08, 4.49943238e-09, 8.31410808e-12, 4.58630572e-23],\n",
       "      dtype=float32)>"
      ]
     },
     "execution_count": 108,
     "metadata": {},
     "output_type": "execute_result"
    }
   ],
   "source": [
    "nn_model.model(X_input).prob(0.5)"
   ]
  },
  {
   "cell_type": "code",
   "execution_count": 109,
   "id": "f79831f3",
   "metadata": {},
   "outputs": [
    {
     "data": {
      "text/plain": [
       "<tf.Tensor: shape=(40,), dtype=float32, numpy=\n",
       "array([2.78918522e-22, 6.22402873e-25, 3.62430675e-29, 9.37377937e-20,\n",
       "       3.05381947e-17, 3.22094949e-18, 1.04473335e-16, 4.75219169e-36,\n",
       "       4.60678689e-15, 1.44261459e-26, 7.39989314e-21, 1.47028147e-12,\n",
       "       0.00000000e+00, 1.48314189e-27, 1.25071348e-20, 3.69000838e-17,\n",
       "       9.30436364e-16, 2.62235363e-32, 1.31008134e-28, 6.10342212e-22,\n",
       "       5.87696440e-18, 0.00000000e+00, 1.10651409e-24, 7.70090520e-19,\n",
       "       3.90826098e-26, 2.09213623e-38, 6.54634072e-15, 3.11795242e-15,\n",
       "       1.49646885e-27, 1.26125434e-12, 0.00000000e+00, 2.63991455e-27,\n",
       "       7.99880804e-37, 2.09374940e-15, 8.76926688e-15, 0.00000000e+00,\n",
       "       4.65149879e-15, 1.38356638e-16, 8.86441762e-22, 0.00000000e+00],\n",
       "      dtype=float32)>"
      ]
     },
     "execution_count": 109,
     "metadata": {},
     "output_type": "execute_result"
    }
   ],
   "source": [
    "nn_model.model(X_input).prob(0.95)"
   ]
  },
  {
   "cell_type": "code",
   "execution_count": 121,
   "id": "3bd04137",
   "metadata": {},
   "outputs": [
    {
     "data": {
      "text/plain": [
       "\u001b[0;31mSignature:\u001b[0m \u001b[0monehotcat\u001b[0m\u001b[0;34m.\u001b[0m\u001b[0mcdf\u001b[0m\u001b[0;34m(\u001b[0m\u001b[0mvalue\u001b[0m\u001b[0;34m,\u001b[0m \u001b[0mname\u001b[0m\u001b[0;34m=\u001b[0m\u001b[0;34m'cdf'\u001b[0m\u001b[0;34m,\u001b[0m \u001b[0;34m**\u001b[0m\u001b[0mkwargs\u001b[0m\u001b[0;34m)\u001b[0m\u001b[0;34m\u001b[0m\u001b[0;34m\u001b[0m\u001b[0m\n",
       "\u001b[0;31mDocstring:\u001b[0m\n",
       "Cumulative distribution function.\n",
       "\n",
       "Given random variable `X`, the cumulative distribution function `cdf` is:\n",
       "\n",
       "```none\n",
       "cdf(x) := P[X <= x]\n",
       "```\n",
       "\n",
       "Args:\n",
       "  value: `float` or `double` `Tensor`.\n",
       "  name: Python `str` prepended to names of ops created by this function.\n",
       "  **kwargs: Named arguments forwarded to subclass implementation.\n",
       "\n",
       "Returns:\n",
       "  cdf: a `Tensor` of shape `sample_shape(x) + self.batch_shape` with\n",
       "    values of type `self.dtype`.\n",
       "\u001b[0;31mFile:\u001b[0m      /opt/conda/lib/python3.7/site-packages/tensorflow_probability/python/distributions/distribution.py\n",
       "\u001b[0;31mType:\u001b[0m      method\n"
      ]
     },
     "metadata": {},
     "output_type": "display_data"
    }
   ],
   "source": [
    "onehotcat = nn_model.model(X_input)\n",
    "onehotcat.cdf?"
   ]
  },
  {
   "cell_type": "code",
   "execution_count": null,
   "id": "91d612e2",
   "metadata": {},
   "outputs": [],
   "source": [
    "onehotcat = nn_model.model(X_input).prob"
   ]
  },
  {
   "cell_type": "code",
   "execution_count": 119,
   "id": "76c082d7",
   "metadata": {},
   "outputs": [
    {
     "data": {
      "text/plain": [
       "<tf.Tensor: shape=(40,), dtype=float32, numpy=\n",
       "array([4.52391596e-12, 1.81985340e-13, 1.07441206e-15, 9.66536712e-11,\n",
       "       2.03147943e-09, 6.21834528e-10, 3.88106214e-09, 2.56384269e-19,\n",
       "       2.84721313e-08, 2.50929665e-14, 2.54012904e-11, 5.91992318e-07,\n",
       "       3.27808744e-29, 7.57826148e-15, 3.34826680e-11, 2.24422947e-09,\n",
       "       1.22682486e-08, 2.38922898e-17, 2.11296604e-15, 6.83143776e-12,\n",
       "       8.53359883e-10, 1.00269220e-24, 2.46352526e-13, 2.92819796e-10,\n",
       "       4.23993590e-14, 1.47480293e-20, 3.42559581e-08, 2.31843540e-08,\n",
       "       7.61404777e-15, 5.46089666e-07, 4.07053762e-21, 1.02651084e-14,\n",
       "       1.00367065e-19, 1.88005629e-08, 3.99538962e-08, 1.73913348e-22,\n",
       "       2.86172259e-08, 4.49943238e-09, 8.31410808e-12, 4.58630572e-23],\n",
       "      dtype=float32)>"
      ]
     },
     "execution_count": 119,
     "metadata": {},
     "output_type": "execute_result"
    }
   ],
   "source": [
    "nn_model.model(X_input).prob(0.5)"
   ]
  },
  {
   "cell_type": "code",
   "execution_count": 120,
   "id": "cf862ddd",
   "metadata": {},
   "outputs": [
    {
     "data": {
      "text/plain": [
       "<tf.Tensor: shape=(40,), dtype=float32, numpy=\n",
       "array([2.68303240e-12, 1.01213234e-13, 5.39255850e-16, 6.09428966e-11,\n",
       "       1.36134704e-09, 4.06958217e-10, 2.63469224e-09, 1.08910012e-19,\n",
       "       2.01145056e-08, 1.34135299e-14, 1.55938300e-11, 4.44387979e-07,\n",
       "       8.82945141e-30, 3.95513734e-15, 2.06688347e-11, 1.50691404e-09,\n",
       "       8.52231530e-09, 1.11128109e-17, 1.07495321e-15, 4.08509294e-12,\n",
       "       5.62023927e-10, 3.32043215e-25, 1.37844014e-13, 1.88770055e-10,\n",
       "       2.29036896e-14, 5.91708667e-21, 2.42902285e-08, 1.63116702e-08,\n",
       "       3.97417822e-15, 4.09270314e-07, 1.59163929e-21, 5.39001115e-15,\n",
       "       4.18432059e-20, 1.31721052e-08, 2.84178228e-08, 6.38472399e-23,\n",
       "       2.02190513e-08, 3.06352188e-09, 4.99128907e-12, 1.63942635e-23],\n",
       "      dtype=float32)>"
      ]
     },
     "execution_count": 120,
     "metadata": {},
     "output_type": "execute_result"
    }
   ],
   "source": [
    "nn_model.model(X_input).prob(0.51)"
   ]
  },
  {
   "cell_type": "code",
   "execution_count": 123,
   "id": "edc58115",
   "metadata": {},
   "outputs": [
    {
     "ename": "NotImplementedError",
     "evalue": "quantile is not implemented: OneHotCategorical",
     "output_type": "error",
     "traceback": [
      "\u001b[0;31m---------------------------------------------------------------------------\u001b[0m",
      "\u001b[0;31mNotImplementedError\u001b[0m                       Traceback (most recent call last)",
      "\u001b[0;32m<ipython-input-123-ae4dbe3dd28d>\u001b[0m in \u001b[0;36m<module>\u001b[0;34m\u001b[0m\n\u001b[0;32m----> 1\u001b[0;31m \u001b[0mnn_model\u001b[0m\u001b[0;34m.\u001b[0m\u001b[0mmodel\u001b[0m\u001b[0;34m(\u001b[0m\u001b[0mX_input\u001b[0m\u001b[0;34m)\u001b[0m\u001b[0;34m.\u001b[0m\u001b[0mquantile\u001b[0m\u001b[0;34m(\u001b[0m\u001b[0;36m0.9\u001b[0m\u001b[0;34m)\u001b[0m\u001b[0;34m\u001b[0m\u001b[0;34m\u001b[0m\u001b[0m\n\u001b[0m",
      "\u001b[0;32m/opt/conda/lib/python3.7/site-packages/tensorflow_probability/python/distributions/distribution.py\u001b[0m in \u001b[0;36mquantile\u001b[0;34m(self, value, name, **kwargs)\u001b[0m\n\u001b[1;32m   1580\u001b[0m         \u001b[0mvalues\u001b[0m \u001b[0mof\u001b[0m \u001b[0mtype\u001b[0m\u001b[0;31m \u001b[0m\u001b[0;31m`\u001b[0m\u001b[0mself\u001b[0m\u001b[0;34m.\u001b[0m\u001b[0mdtype\u001b[0m\u001b[0;31m`\u001b[0m\u001b[0;34m.\u001b[0m\u001b[0;34m\u001b[0m\u001b[0;34m\u001b[0m\u001b[0m\n\u001b[1;32m   1581\u001b[0m     \"\"\"\n\u001b[0;32m-> 1582\u001b[0;31m     \u001b[0;32mreturn\u001b[0m \u001b[0mself\u001b[0m\u001b[0;34m.\u001b[0m\u001b[0m_call_quantile\u001b[0m\u001b[0;34m(\u001b[0m\u001b[0mvalue\u001b[0m\u001b[0;34m,\u001b[0m \u001b[0mname\u001b[0m\u001b[0;34m,\u001b[0m \u001b[0;34m**\u001b[0m\u001b[0mkwargs\u001b[0m\u001b[0;34m)\u001b[0m\u001b[0;34m\u001b[0m\u001b[0;34m\u001b[0m\u001b[0m\n\u001b[0m\u001b[1;32m   1583\u001b[0m \u001b[0;34m\u001b[0m\u001b[0m\n\u001b[1;32m   1584\u001b[0m   \u001b[0;32mdef\u001b[0m \u001b[0m_variance\u001b[0m\u001b[0;34m(\u001b[0m\u001b[0mself\u001b[0m\u001b[0;34m,\u001b[0m \u001b[0;34m**\u001b[0m\u001b[0mkwargs\u001b[0m\u001b[0;34m)\u001b[0m\u001b[0;34m:\u001b[0m\u001b[0;34m\u001b[0m\u001b[0;34m\u001b[0m\u001b[0m\n",
      "\u001b[0;32m/opt/conda/lib/python3.7/site-packages/tensorflow_probability/python/distributions/distribution.py\u001b[0m in \u001b[0;36m_call_quantile\u001b[0;34m(self, value, name, **kwargs)\u001b[0m\n\u001b[1;32m   1560\u001b[0m                                              message='`value` must be >= 0')\n\u001b[1;32m   1561\u001b[0m         ], value)\n\u001b[0;32m-> 1562\u001b[0;31m       \u001b[0;32mreturn\u001b[0m \u001b[0mself\u001b[0m\u001b[0;34m.\u001b[0m\u001b[0m_quantile\u001b[0m\u001b[0;34m(\u001b[0m\u001b[0mvalue\u001b[0m\u001b[0;34m,\u001b[0m \u001b[0;34m**\u001b[0m\u001b[0mkwargs\u001b[0m\u001b[0;34m)\u001b[0m\u001b[0;34m\u001b[0m\u001b[0;34m\u001b[0m\u001b[0m\n\u001b[0m\u001b[1;32m   1563\u001b[0m \u001b[0;34m\u001b[0m\u001b[0m\n\u001b[1;32m   1564\u001b[0m   \u001b[0;32mdef\u001b[0m \u001b[0mquantile\u001b[0m\u001b[0;34m(\u001b[0m\u001b[0mself\u001b[0m\u001b[0;34m,\u001b[0m \u001b[0mvalue\u001b[0m\u001b[0;34m,\u001b[0m \u001b[0mname\u001b[0m\u001b[0;34m=\u001b[0m\u001b[0;34m'quantile'\u001b[0m\u001b[0;34m,\u001b[0m \u001b[0;34m**\u001b[0m\u001b[0mkwargs\u001b[0m\u001b[0;34m)\u001b[0m\u001b[0;34m:\u001b[0m\u001b[0;34m\u001b[0m\u001b[0;34m\u001b[0m\u001b[0m\n",
      "\u001b[0;32m/opt/conda/lib/python3.7/site-packages/tensorflow_probability/python/distributions/distribution.py\u001b[0m in \u001b[0;36m_quantile\u001b[0;34m(self, value, **kwargs)\u001b[0m\n\u001b[1;32m   1547\u001b[0m   \u001b[0;32mdef\u001b[0m \u001b[0m_quantile\u001b[0m\u001b[0;34m(\u001b[0m\u001b[0mself\u001b[0m\u001b[0;34m,\u001b[0m \u001b[0mvalue\u001b[0m\u001b[0;34m,\u001b[0m \u001b[0;34m**\u001b[0m\u001b[0mkwargs\u001b[0m\u001b[0;34m)\u001b[0m\u001b[0;34m:\u001b[0m\u001b[0;34m\u001b[0m\u001b[0;34m\u001b[0m\u001b[0m\n\u001b[1;32m   1548\u001b[0m     raise NotImplementedError('quantile is not implemented: {}'.format(\n\u001b[0;32m-> 1549\u001b[0;31m         type(self).__name__))\n\u001b[0m\u001b[1;32m   1550\u001b[0m \u001b[0;34m\u001b[0m\u001b[0m\n\u001b[1;32m   1551\u001b[0m   \u001b[0;32mdef\u001b[0m \u001b[0m_call_quantile\u001b[0m\u001b[0;34m(\u001b[0m\u001b[0mself\u001b[0m\u001b[0;34m,\u001b[0m \u001b[0mvalue\u001b[0m\u001b[0;34m,\u001b[0m \u001b[0mname\u001b[0m\u001b[0;34m,\u001b[0m \u001b[0;34m**\u001b[0m\u001b[0mkwargs\u001b[0m\u001b[0;34m)\u001b[0m\u001b[0;34m:\u001b[0m\u001b[0;34m\u001b[0m\u001b[0;34m\u001b[0m\u001b[0m\n",
      "\u001b[0;31mNotImplementedError\u001b[0m: quantile is not implemented: OneHotCategorical"
     ]
    }
   ],
   "source": [
    "nn_model.model(X_input).quantile(0.9)"
   ]
  },
  {
   "cell_type": "code",
   "execution_count": 124,
   "id": "0d91527b",
   "metadata": {},
   "outputs": [
    {
     "data": {
      "text/plain": [
       "['_TF_MODULE_IGNORED_PROPERTIES',\n",
       " '__abs__',\n",
       " '__abstractmethods__',\n",
       " '__add__',\n",
       " '__and__',\n",
       " '__array_priority__',\n",
       " '__bool__',\n",
       " '__class__',\n",
       " '__delattr__',\n",
       " '__dict__',\n",
       " '__dir__',\n",
       " '__div__',\n",
       " '__doc__',\n",
       " '__eq__',\n",
       " '__floordiv__',\n",
       " '__format__',\n",
       " '__ge__',\n",
       " '__getattribute__',\n",
       " '__getitem__',\n",
       " '__gt__',\n",
       " '__hash__',\n",
       " '__init__',\n",
       " '__init_subclass__',\n",
       " '__invert__',\n",
       " '__iter__',\n",
       " '__le__',\n",
       " '__lt__',\n",
       " '__matmul__',\n",
       " '__mod__',\n",
       " '__module__',\n",
       " '__mul__',\n",
       " '__ne__',\n",
       " '__neg__',\n",
       " '__new__',\n",
       " '__nonzero__',\n",
       " '__or__',\n",
       " '__pow__',\n",
       " '__radd__',\n",
       " '__rand__',\n",
       " '__rdiv__',\n",
       " '__reduce__',\n",
       " '__reduce_ex__',\n",
       " '__repr__',\n",
       " '__rfloordiv__',\n",
       " '__rmatmul__',\n",
       " '__rmod__',\n",
       " '__rmul__',\n",
       " '__ror__',\n",
       " '__rpow__',\n",
       " '__rsub__',\n",
       " '__rtruediv__',\n",
       " '__rxor__',\n",
       " '__setattr__',\n",
       " '__sizeof__',\n",
       " '__slotnames__',\n",
       " '__str__',\n",
       " '__sub__',\n",
       " '__subclasshook__',\n",
       " '__truediv__',\n",
       " '__weakref__',\n",
       " '__xor__',\n",
       " '_abc_impl',\n",
       " '_add_variable_with_custom_getter',\n",
       " '_allow_nan_stats',\n",
       " '_batch_shape',\n",
       " '_batch_shape_tensor',\n",
       " '_call_cdf',\n",
       " '_call_log_cdf',\n",
       " '_call_log_prob',\n",
       " '_call_log_survival_function',\n",
       " '_call_prob',\n",
       " '_call_quantile',\n",
       " '_call_sample_n',\n",
       " '_call_survival_function',\n",
       " '_call_unnormalized_log_prob',\n",
       " '_checkpoint_dependencies',\n",
       " '_composite_tensor_nonshape_params',\n",
       " '_composite_tensor_params',\n",
       " '_composite_tensor_shape_params',\n",
       " '_concrete_value',\n",
       " '_convert_to_tensor_fn',\n",
       " '_covariance',\n",
       " '_cross_entropy',\n",
       " '_default_event_space_bijector',\n",
       " '_defer_all_assertions',\n",
       " '_deferred_dependencies',\n",
       " '_delete_tracking',\n",
       " '_disallow_bool_casting',\n",
       " '_disallow_in_graph_mode',\n",
       " '_disallow_iteration',\n",
       " '_disallow_when_autograph_disabled',\n",
       " '_disallow_when_autograph_enabled',\n",
       " '_dtype',\n",
       " '_entropy',\n",
       " '_event_shape',\n",
       " '_event_shape_tensor',\n",
       " '_event_size',\n",
       " '_expand_sample_shape_to_vector',\n",
       " '_experimental_default_event_space_bijector',\n",
       " '_flatten',\n",
       " '_gather_saveables_for_checkpoint',\n",
       " '_graph_parents',\n",
       " '_handle_deferred_dependencies',\n",
       " '_initial_parameter_control_dependencies',\n",
       " '_is_scalar_helper',\n",
       " '_kl_divergence',\n",
       " '_list_extra_dependencies_for_serialization',\n",
       " '_list_functions_for_serialization',\n",
       " '_log_prob',\n",
       " '_log_survival_function',\n",
       " '_logits',\n",
       " '_logits_parameter_no_checks',\n",
       " '_lookup_dependency',\n",
       " '_map_resources',\n",
       " '_maybe_initialize_trackable',\n",
       " '_mean',\n",
       " '_mode',\n",
       " '_name',\n",
       " '_name_and_control_scope',\n",
       " '_name_based_attribute_restore',\n",
       " '_name_based_restores',\n",
       " '_name_scope',\n",
       " '_no_dependency',\n",
       " '_object_identifier',\n",
       " '_parameter_control_dependencies',\n",
       " '_parameter_properties',\n",
       " '_parameters',\n",
       " '_parameters_sanitized',\n",
       " '_params_event_ndims',\n",
       " '_preload_simple_restoration',\n",
       " '_probs',\n",
       " '_probs_parameter_no_checks',\n",
       " '_quantile',\n",
       " '_reparameterization_type',\n",
       " '_restore_from_checkpoint_position',\n",
       " '_sample_control_dependencies',\n",
       " '_sample_n',\n",
       " '_self_name_based_restores',\n",
       " '_self_saveable_object_factories',\n",
       " '_self_setattr_tracking',\n",
       " '_self_unconditional_checkpoint_dependencies',\n",
       " '_self_unconditional_deferred_dependencies',\n",
       " '_self_unconditional_dependency_names',\n",
       " '_self_update_uid',\n",
       " '_set_sample_static_shape',\n",
       " '_setattr_tracking',\n",
       " '_single_restoration_from_checkpoint_position',\n",
       " '_stddev',\n",
       " '_survival_function',\n",
       " '_tf_api_names',\n",
       " '_tf_api_names_v1',\n",
       " '_track_trackable',\n",
       " '_tracking_metadata',\n",
       " '_unconditional_checkpoint_dependencies',\n",
       " '_unconditional_dependency_names',\n",
       " '_update_uid',\n",
       " '_validate_args',\n",
       " '_value',\n",
       " '_variance',\n",
       " 'allow_nan_stats',\n",
       " 'batch_shape',\n",
       " 'batch_shape_tensor',\n",
       " 'cdf',\n",
       " 'copy',\n",
       " 'covariance',\n",
       " 'cross_entropy',\n",
       " 'dtype',\n",
       " 'entropy',\n",
       " 'event_shape',\n",
       " 'event_shape_tensor',\n",
       " 'experimental_default_event_space_bijector',\n",
       " 'experimental_shard_axis_names',\n",
       " 'get_shape',\n",
       " 'is_scalar_batch',\n",
       " 'is_scalar_event',\n",
       " 'kl_divergence',\n",
       " 'log_cdf',\n",
       " 'log_prob',\n",
       " 'log_survival_function',\n",
       " 'logits',\n",
       " 'logits_parameter',\n",
       " 'mean',\n",
       " 'mode',\n",
       " 'name',\n",
       " 'name_scope',\n",
       " 'non_trainable_variables',\n",
       " 'param_shapes',\n",
       " 'param_static_shapes',\n",
       " 'parameter_properties',\n",
       " 'parameters',\n",
       " 'prob',\n",
       " 'probs',\n",
       " 'probs_parameter',\n",
       " 'quantile',\n",
       " 'registered_class_list',\n",
       " 'reparameterization_type',\n",
       " 'sample',\n",
       " 'shape',\n",
       " 'stddev',\n",
       " 'submodules',\n",
       " 'survival_function',\n",
       " 'trainable_variables',\n",
       " 'unnormalized_log_prob',\n",
       " 'validate_args',\n",
       " 'variables',\n",
       " 'variance',\n",
       " 'with_name_scope']"
      ]
     },
     "execution_count": 124,
     "metadata": {},
     "output_type": "execute_result"
    }
   ],
   "source": [
    "dir(nn_model.model(X_input))"
   ]
  },
  {
   "cell_type": "code",
   "execution_count": 136,
   "id": "83fb0354",
   "metadata": {},
   "outputs": [
    {
     "data": {
      "text/plain": [
       "<tf.Tensor: shape=(40,), dtype=float32, numpy=\n",
       "array([4.52391596e-12, 1.81985340e-13, 1.07441206e-15, 9.66536712e-11,\n",
       "       2.03147943e-09, 6.21834528e-10, 3.88106214e-09, 2.56384269e-19,\n",
       "       2.84721313e-08, 2.50929665e-14, 2.54012904e-11, 5.91992318e-07,\n",
       "       3.27808744e-29, 7.57826148e-15, 3.34826680e-11, 2.24422947e-09,\n",
       "       1.22682486e-08, 2.38922898e-17, 2.11296604e-15, 6.83143776e-12,\n",
       "       8.53359883e-10, 1.00269220e-24, 2.46352526e-13, 2.92819796e-10,\n",
       "       4.23993590e-14, 1.47480293e-20, 3.42559581e-08, 2.31843540e-08,\n",
       "       7.61404777e-15, 5.46089666e-07, 4.07053762e-21, 1.02651084e-14,\n",
       "       1.00367065e-19, 1.88005629e-08, 3.99538962e-08, 1.73913348e-22,\n",
       "       2.86172259e-08, 4.49943238e-09, 8.31410808e-12, 4.58630572e-23],\n",
       "      dtype=float32)>"
      ]
     },
     "execution_count": 136,
     "metadata": {},
     "output_type": "execute_result"
    }
   ],
   "source": [
    "nn_model.model(X_input).prob(0.5)"
   ]
  },
  {
   "cell_type": "code",
   "execution_count": 138,
   "id": "5970b39d",
   "metadata": {},
   "outputs": [
    {
     "data": {
      "text/plain": [
       "<bound method Distribution.variance of <tfp.distributions.OneHotCategorical 'model_one_hot_categorical_OneHotCategorical_OneHotCategorical' batch_shape=[40] event_shape=[11] dtype=float32>>"
      ]
     },
     "execution_count": 138,
     "metadata": {},
     "output_type": "execute_result"
    }
   ],
   "source": [
    "nn_model.model(X_input).variance"
   ]
  },
  {
   "cell_type": "code",
   "execution_count": null,
   "id": "7829e644",
   "metadata": {},
   "outputs": [],
   "source": []
  },
  {
   "cell_type": "code",
   "execution_count": 128,
   "id": "4b05e777",
   "metadata": {},
   "outputs": [
    {
     "data": {
      "text/plain": [
       "<tf.Tensor: shape=(40, 11, 11), dtype=float32, numpy=\n",
       "array([[[ 3.89816146e-03, -1.17768313e-05, -3.67349385e-05, ...,\n",
       "         -1.19004517e-05, -1.56177921e-05, -1.76165358e-03],\n",
       "        [-1.17768313e-05,  3.00024566e-03, -2.82476485e-05, ...,\n",
       "         -9.15095552e-06, -1.20094355e-05, -1.35463872e-03],\n",
       "        [-3.67349385e-05, -2.82476485e-05,  9.29866731e-03, ...,\n",
       "         -2.85441620e-05, -3.74604897e-05, -4.22546314e-03],\n",
       "        ...,\n",
       "        [-1.19004517e-05, -9.15095552e-06, -2.85441620e-05, ...,\n",
       "          3.03164287e-03, -1.21354979e-05, -1.36885815e-03],\n",
       "        [-1.56177921e-05, -1.20094355e-05, -3.74604897e-05, ...,\n",
       "         -1.21354979e-05,  3.97484563e-03, -1.79644790e-03],\n",
       "        [-1.76165358e-03, -1.35463872e-03, -4.22546314e-03, ...,\n",
       "         -1.36885815e-03, -1.79644790e-03,  2.47515038e-01]],\n",
       "\n",
       "       [[ 2.99727097e-02, -4.81291718e-05, -4.52161075e-05, ...,\n",
       "         -2.34159979e-05, -3.91967740e-04, -2.79702414e-02],\n",
       "        [-4.81291718e-05,  1.55367982e-03, -2.27489045e-06, ...,\n",
       "         -1.17809407e-06, -1.97204863e-05, -1.40722492e-03],\n",
       "        [-4.52161075e-05, -2.27489045e-06,  1.45977957e-03, ...,\n",
       "         -1.10678877e-06, -1.85268855e-05, -1.32205128e-03],\n",
       "        ...,\n",
       "        [-2.34159979e-05, -1.17809407e-06, -1.10678877e-06, ...,\n",
       "          7.56507448e-04, -9.59449062e-06, -6.84648694e-04],\n",
       "        [-3.91967740e-04, -1.97204863e-05, -1.85268855e-05, ...,\n",
       "         -9.59449062e-06,  1.25124045e-02, -1.14605492e-02],\n",
       "        [-2.79702414e-02, -1.40722492e-03, -1.32205128e-03, ...,\n",
       "         -6.84648694e-04, -1.14605492e-02,  8.65194052e-02]],\n",
       "\n",
       "       [[ 9.72153444e-04, -9.18098692e-07, -2.10607232e-06, ...,\n",
       "         -6.20405842e-07, -7.26713733e-06, -1.48164872e-06],\n",
       "        [-9.18098692e-07,  9.42587736e-04, -2.04196067e-06, ...,\n",
       "         -6.01519844e-07, -7.04591594e-06, -1.43654529e-06],\n",
       "        [-2.10607232e-06, -2.04196067e-06,  2.15960690e-03, ...,\n",
       "         -1.37985637e-06, -1.61629778e-05, -3.29536306e-06],\n",
       "        ...,\n",
       "        [-6.20405842e-07, -6.01519844e-07, -1.37985637e-06, ...,\n",
       "          6.37149380e-04, -4.76128253e-06, -9.70746555e-07],\n",
       "        [-7.26713733e-06, -7.04591594e-06, -1.61629778e-05, ...,\n",
       "         -4.76128253e-06,  7.41225295e-03, -1.13708602e-05],\n",
       "        [-1.48164872e-06, -1.43654529e-06, -3.29536306e-06, ...,\n",
       "         -9.70746555e-07, -1.13708602e-05,  1.52028794e-03]],\n",
       "\n",
       "       ...,\n",
       "\n",
       "       [[ 2.43106093e-02, -5.96810365e-04, -4.77710943e-04, ...,\n",
       "         -4.12753288e-04, -5.53919817e-04, -4.56759986e-03],\n",
       "        [-5.96810365e-04,  2.33643148e-02, -4.58647992e-04, ...,\n",
       "         -3.96282470e-04, -5.31815749e-04, -4.38533071e-03],\n",
       "        [-4.77710943e-04, -4.58647992e-04,  1.87932625e-02, ...,\n",
       "         -3.17200378e-04, -4.25686681e-04, -3.51019460e-03],\n",
       "        ...,\n",
       "        [-4.12753288e-04, -3.96282470e-04, -3.17200378e-04, ...,\n",
       "          1.62809454e-02, -3.67803121e-04, -3.03288922e-03],\n",
       "        [-5.53919817e-04, -5.31815749e-04, -4.25686681e-04, ...,\n",
       "         -3.67803121e-04,  2.17234269e-02, -4.07017348e-03],\n",
       "        [-4.56759986e-03, -4.38533071e-03, -3.51019460e-03, ...,\n",
       "         -3.03288922e-03, -4.07017348e-03,  1.49638176e-01]],\n",
       "\n",
       "       [[ 4.70712548e-03, -3.23990971e-05, -3.99334385e-05, ...,\n",
       "         -2.17411380e-05, -1.87210517e-05, -2.14961503e-04],\n",
       "        [-3.23990971e-05,  6.80350838e-03, -5.78416038e-05, ...,\n",
       "         -3.14909594e-05, -2.71165154e-05, -3.11361073e-04],\n",
       "        [-3.99334385e-05, -5.78416038e-05,  8.37219879e-03, ...,\n",
       "         -3.88141161e-05, -3.34224060e-05, -3.83767445e-04],\n",
       "        ...,\n",
       "        [-2.17411380e-05, -3.14909594e-05, -3.88141161e-05, ...,\n",
       "          4.57579549e-03, -1.81963078e-05, -2.08936195e-04],\n",
       "        [-1.87210517e-05, -2.71165154e-05, -3.34224060e-05, ...,\n",
       "         -1.81963078e-05,  3.94269451e-03, -1.79912633e-04],\n",
       "        [-2.14961503e-04, -3.11361073e-04, -3.83767445e-04, ...,\n",
       "         -2.08936195e-04, -1.79912633e-04,  4.33854535e-02]],\n",
       "\n",
       "       [[ 5.01158356e-05, -4.79651763e-10, -1.45124854e-08, ...,\n",
       "         -8.02021560e-10, -4.33447678e-09, -5.00637761e-05],\n",
       "        [-4.79651763e-10,  9.57029079e-06, -2.77124124e-09, ...,\n",
       "         -1.53150562e-10, -8.27692859e-10, -9.55996165e-06],\n",
       "        [-1.45124854e-08, -2.77124124e-09,  2.89480464e-04, ...,\n",
       "         -4.63376848e-09, -2.50429188e-08, -2.89249030e-04],\n",
       "        ...,\n",
       "        [-8.02021560e-10, -1.53150562e-10, -4.63376848e-09, ...,\n",
       "          1.60022973e-05, -1.38397804e-09, -1.59851297e-05],\n",
       "        [-4.33447678e-09, -8.27692859e-10, -2.50429188e-08, ...,\n",
       "         -1.38397804e-09,  8.64773465e-05, -8.63906535e-05],\n",
       "        [-5.00637761e-05, -9.55996165e-06, -2.89249030e-04, ...,\n",
       "         -1.59851297e-05, -8.63906535e-05,  1.08767208e-03]]],\n",
       "      dtype=float32)>"
      ]
     },
     "execution_count": 128,
     "metadata": {},
     "output_type": "execute_result"
    }
   ],
   "source": [
    "nn_model.model(X_input).covariance()"
   ]
  },
  {
   "cell_type": "code",
   "execution_count": 140,
   "id": "8926f944",
   "metadata": {},
   "outputs": [
    {
     "data": {
      "text/plain": [
       "11"
      ]
     },
     "execution_count": 140,
     "metadata": {},
     "output_type": "execute_result"
    }
   ],
   "source": [
    "from tensorflow_probability import layers as tfpl\n",
    "tfpl.OneHotCategorical.params_size(ntargets)"
   ]
  },
  {
   "cell_type": "code",
   "execution_count": null,
   "id": "ea223544",
   "metadata": {},
   "outputs": [],
   "source": []
  }
 ],
 "metadata": {
  "environment": {
   "name": "tf2-gpu.2-5.m76",
   "type": "gcloud",
   "uri": "gcr.io/deeplearning-platform-release/tf2-gpu.2-5:m76"
  },
  "interpreter": {
   "hash": "31659fd95575785888a0925c53e16fda128af122d9bf30d053d8251d24200cc8"
  },
  "kernelspec": {
   "display_name": "Python 3 (ipykernel)",
   "language": "python",
   "name": "python3"
  },
  "language_info": {
   "codemirror_mode": {
    "name": "ipython",
    "version": 3
   },
   "file_extension": ".py",
   "mimetype": "text/x-python",
   "name": "python",
   "nbconvert_exporter": "python",
   "pygments_lexer": "ipython3",
   "version": "3.7.10"
  }
 },
 "nbformat": 4,
 "nbformat_minor": 5
}
