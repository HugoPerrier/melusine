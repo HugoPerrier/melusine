{
 "cells": [
  {
   "cell_type": "code",
   "execution_count": 2,
   "id": "58c00621",
   "metadata": {
    "collapsed": true,
    "jupyter": {
     "outputs_hidden": true
    }
   },
   "outputs": [
    {
     "name": "stdout",
     "output_type": "stream",
     "text": [
      "Collecting package metadata (repodata.json): failed\n",
      "\n",
      "NotWritableError: The current user does not have write permissions to a required path.\n",
      "  path: /opt/conda/pkgs/cache/2ce54b42.json\n",
      "  uid: 1002\n",
      "  gid: 1003\n",
      "\n",
      "If you feel that permissions on this path are set incorrectly, you can manually\n",
      "change them by executing\n",
      "\n",
      "  $ sudo chown 1002:1003 /opt/conda/pkgs/cache/2ce54b42.json\n",
      "\n",
      "In general, it's not advisable to use 'sudo conda'.\n",
      "\n",
      "\n"
     ]
    }
   ],
   "source": [
    "!conda env create -f py3_8.yml"
   ]
  },
  {
   "cell_type": "code",
   "execution_count": 150,
   "id": "da0c9679",
   "metadata": {},
   "outputs": [
    {
     "name": "stdout",
     "output_type": "stream",
     "text": [
      "bin  cuda  cuda-11.0  etc  games  include  lib\tman  nccl2  sbin  share  src\n"
     ]
    }
   ],
   "source": [
    "!ls /usr/local"
   ]
  },
  {
   "cell_type": "code",
   "execution_count": 3,
   "id": "cb1d8347",
   "metadata": {},
   "outputs": [
    {
     "data": {
      "text/plain": [
       "'/home/jupyter/melusine'"
      ]
     },
     "execution_count": 3,
     "metadata": {},
     "output_type": "execute_result"
    }
   ],
   "source": [
    "pwd"
   ]
  },
  {
   "cell_type": "code",
   "execution_count": 5,
   "id": "296a8544",
   "metadata": {},
   "outputs": [
    {
     "name": "stdout",
     "output_type": "stream",
     "text": [
      "Installed kernelspec melusine-fork in /home/jupyter/.local/share/jupyter/kernels/melusine-fork\n"
     ]
    }
   ],
   "source": [
    "!python -m ipykernel install --user --name=melusine-fork"
   ]
  },
  {
   "cell_type": "code",
   "execution_count": null,
   "id": "069fc577",
   "metadata": {},
   "outputs": [],
   "source": [
    "# choose kernel \"melusine-fork\""
   ]
  },
  {
   "cell_type": "code",
   "execution_count": 3,
   "id": "5dbc031d",
   "metadata": {
    "collapsed": true,
    "jupyter": {
     "outputs_hidden": true
    }
   },
   "outputs": [
    {
     "name": "stdout",
     "output_type": "stream",
     "text": [
      "running develop\n",
      "running egg_info\n",
      "creating melusine.egg-info\n",
      "writing melusine.egg-info/PKG-INFO\n",
      "writing dependency_links to melusine.egg-info/dependency_links.txt\n",
      "writing requirements to melusine.egg-info/requires.txt\n",
      "writing top-level names to melusine.egg-info/top_level.txt\n",
      "writing manifest file 'melusine.egg-info/SOURCES.txt'\n",
      "package init file 'melusine/data/__init__.py' not found (or not a regular file)\n",
      "reading manifest file 'melusine.egg-info/SOURCES.txt'\n",
      "reading manifest template 'MANIFEST.in'\n",
      "warning: no files found matching 'HISTORY.rst'\n",
      "warning: no files found matching 'README.rst'\n",
      "warning: no previously-included files matching '__pycache__' found under directory '*'\n",
      "warning: no previously-included files matching '*.py[co]' found under directory '*'\n",
      "warning: no files found matching '*.jpg' under directory 'docs'\n",
      "writing manifest file 'melusine.egg-info/SOURCES.txt'\n",
      "running build_ext\n",
      "Creating /opt/conda/lib/python3.7/site-packages/melusine.egg-link (link to .)\n",
      "Adding melusine 2.3.1 to easy-install.pth file\n",
      "\n",
      "Installed /home/jupyter/melusine\n",
      "Processing dependencies for melusine==2.3.1\n",
      "Searching for numpy<1.19.0,>=1.16.4\n",
      "Reading https://pypi.org/simple/numpy/\n",
      "Downloading https://files.pythonhosted.org/packages/d6/c6/58e517e8b1fb192725cfa23c01c2e60e4e6699314ee9684a1c5f5c9b27e1/numpy-1.18.5-cp37-cp37m-manylinux1_x86_64.whl#sha256=b39321f1a74d1f9183bf1638a745b4fd6fe80efbb1f6b32b932a588b4bc7695f\n",
      "Best match: numpy 1.18.5\n",
      "Processing numpy-1.18.5-cp37-cp37m-manylinux1_x86_64.whl\n",
      "Installing numpy-1.18.5-cp37-cp37m-manylinux1_x86_64.whl to /opt/conda/lib/python3.7/site-packages\n",
      "Adding numpy 1.18.5 to easy-install.pth file\n",
      "Installing f2py script to /opt/conda/bin\n",
      "Installing f2py3 script to /opt/conda/bin\n",
      "Installing f2py3.7 script to /opt/conda/bin\n",
      "\n",
      "Installed /opt/conda/lib/python3.7/site-packages/numpy-1.18.5-py3.7-linux-x86_64.egg\n",
      "Searching for h5py==2.10.0\n",
      "Reading https://pypi.org/simple/h5py/\n",
      "Downloading https://files.pythonhosted.org/packages/3f/c0/abde58b837e066bca19a3f7332d9d0493521d7dd6b48248451a9e3fe2214/h5py-2.10.0-cp37-cp37m-manylinux1_x86_64.whl#sha256=f0e25bb91e7a02efccb50aba6591d3fe2c725479e34769802fcdd4076abfa917\n",
      "Best match: h5py 2.10.0\n",
      "Processing h5py-2.10.0-cp37-cp37m-manylinux1_x86_64.whl\n",
      "Installing h5py-2.10.0-cp37-cp37m-manylinux1_x86_64.whl to /opt/conda/lib/python3.7/site-packages\n",
      "Adding h5py 2.10.0 to easy-install.pth file\n",
      "\n",
      "Installed /opt/conda/lib/python3.7/site-packages/h5py-2.10.0-py3.7-linux-x86_64.egg\n",
      "Searching for plotly\n",
      "Reading https://pypi.org/simple/plotly/\n",
      "Downloading https://files.pythonhosted.org/packages/68/b2/7c7d111affebb281b1085680db7358f6204920bb5574e9e84db05c530688/plotly-5.3.1-py2.py3-none-any.whl#sha256=c3da90d41cab36722048eaa5d0eee7a286a55982835980e5f183e5536b823f07\n",
      "Best match: plotly 5.3.1\n",
      "Processing plotly-5.3.1-py2.py3-none-any.whl\n",
      "Installing plotly-5.3.1-py2.py3-none-any.whl to /opt/conda/lib/python3.7/site-packages\n",
      "Adding plotly 5.3.1 to easy-install.pth file\n",
      "\n",
      "Installed /opt/conda/lib/python3.7/site-packages/plotly-5.3.1-py3.7.egg\n",
      "Searching for flashtext>=2.7\n",
      "Reading https://pypi.org/simple/flashtext/\n",
      "Downloading https://files.pythonhosted.org/packages/81/d8/2cd0656eae456d615c2f1efbcae8dfca2cb871a31f34ba8925aba47d5e09/flashtext-2.7.tar.gz#sha256=a1be2b93e09d4f0deee4aad72b91a7127b61fb8b8034ca9a9c78ea745d8b05cf\n",
      "Best match: flashtext 2.7\n",
      "Processing flashtext-2.7.tar.gz\n",
      "Writing /tmp/easy_install-l4l93iyi/flashtext-2.7/setup.cfg\n",
      "Running flashtext-2.7/setup.py -q bdist_egg --dist-dir /tmp/easy_install-l4l93iyi/flashtext-2.7/egg-dist-tmp-mj1eahi7\n",
      "WARNING: sphinx not available, not building docs\n",
      "zip_safe flag not set; analyzing archive contents...\n",
      "Moving flashtext-2.7-py3.7.egg to /opt/conda/lib/python3.7/site-packages\n",
      "Adding flashtext 2.7 to easy-install.pth file\n",
      "\n",
      "Installed /opt/conda/lib/python3.7/site-packages/flashtext-2.7-py3.7.egg\n",
      "Searching for transformers==3.4.0\n",
      "Reading https://pypi.org/simple/transformers/\n",
      "Downloading https://files.pythonhosted.org/packages/2c/4e/4f1ede0fd7a36278844a277f8d53c21f88f37f3754abf76a5d6224f76d4a/transformers-3.4.0-py3-none-any.whl#sha256=642bd28a50fa6faa8b867f420ff15207a6ce28e72a058e7b09a74f7a98e4e4e0\n",
      "Best match: transformers 3.4.0\n",
      "Processing transformers-3.4.0-py3-none-any.whl\n",
      "Installing transformers-3.4.0-py3-none-any.whl to /opt/conda/lib/python3.7/site-packages\n",
      "Adding transformers 3.4.0 to easy-install.pth file\n",
      "Installing transformers-cli script to /opt/conda/bin\n",
      "\n",
      "Installed /opt/conda/lib/python3.7/site-packages/transformers-3.4.0-py3.7.egg\n",
      "Searching for streamlit>=0.57.3\n",
      "Reading https://pypi.org/simple/streamlit/\n",
      "Downloading https://files.pythonhosted.org/packages/8d/7d/3b81bb455781eded9a9dec53043055ec985acdab6bb2f6ab5655702ce871/streamlit-0.87.0-py2.py3-none-any.whl#sha256=1dbe55774f1ebd46c6a77d1fda53167774074e6400f320cc44b13ab8a3900647\n",
      "Best match: streamlit 0.87.0\n",
      "Processing streamlit-0.87.0-py2.py3-none-any.whl\n",
      "Installing streamlit-0.87.0-py2.py3-none-any.whl to /opt/conda/lib/python3.7/site-packages\n",
      "Adding streamlit 0.87.0 to easy-install.pth file\n",
      "Installing streamlit.cmd script to /opt/conda/bin\n",
      "Installing streamlit script to /opt/conda/bin\n",
      "\n",
      "Installed /opt/conda/lib/python3.7/site-packages/streamlit-0.87.0-py3.7.egg\n",
      "Searching for gensim>=4.0.0\n",
      "Reading https://pypi.org/simple/gensim/\n",
      "Downloading https://files.pythonhosted.org/packages/2d/b3/655ea3d7c3c6601913ed8fb8d8a6db14fee2120681eb5175003f184a18d2/gensim-4.1.0-cp37-cp37m-manylinux_2_12_x86_64.manylinux2010_x86_64.whl#sha256=068a4bc698f3b2844609dcb8f693b033d81c9d03f82ffd56d80a62fecc9347e9\n",
      "Best match: gensim 4.1.0\n",
      "Processing gensim-4.1.0-cp37-cp37m-manylinux_2_12_x86_64.manylinux2010_x86_64.whl\n",
      "Installing gensim-4.1.0-cp37-cp37m-manylinux_2_12_x86_64.manylinux2010_x86_64.whl to /opt/conda/lib/python3.7/site-packages\n",
      "Adding gensim 4.1.0 to easy-install.pth file\n",
      "\n",
      "Installed /opt/conda/lib/python3.7/site-packages/gensim-4.1.0-py3.7-linux-x86_64.egg\n",
      "Searching for tokenizers==0.9.2\n",
      "Reading https://pypi.org/simple/tokenizers/\n",
      "Downloading https://files.pythonhosted.org/packages/35/e7/edf655ae34925aeaefb7b7fcc3dd0887d2a1203ee6b0df4d1170d1a19d4f/tokenizers-0.9.2-cp37-cp37m-manylinux1_x86_64.whl#sha256=d3602256170f97d245c2223f82e47863a50e077c4e4bfe3bf37bc9d70d099277\n",
      "Best match: tokenizers 0.9.2\n",
      "Processing tokenizers-0.9.2-cp37-cp37m-manylinux1_x86_64.whl\n",
      "Installing tokenizers-0.9.2-cp37-cp37m-manylinux1_x86_64.whl to /opt/conda/lib/python3.7/site-packages\n",
      "Adding tokenizers 0.9.2 to easy-install.pth file\n",
      "\n",
      "Installed /opt/conda/lib/python3.7/site-packages/tokenizers-0.9.2-py3.7-linux-x86_64.egg\n",
      "Searching for sentencepiece!=0.1.92\n",
      "Reading https://pypi.org/simple/sentencepiece/\n",
      "Downloading https://files.pythonhosted.org/packages/ac/aa/1437691b0c7c83086ebb79ce2da16e00bef024f24fec2a5161c35476f499/sentencepiece-0.1.96-cp37-cp37m-manylinux_2_17_x86_64.manylinux2014_x86_64.whl#sha256=d954d25a8705f972e8bfc1dea5464d7e697dd6f4ade092f1a487387e6d6c829a\n",
      "Best match: sentencepiece 0.1.96\n",
      "Processing sentencepiece-0.1.96-cp37-cp37m-manylinux_2_17_x86_64.manylinux2014_x86_64.whl\n",
      "Installing sentencepiece-0.1.96-cp37-cp37m-manylinux_2_17_x86_64.manylinux2014_x86_64.whl to /opt/conda/lib/python3.7/site-packages\n",
      "Adding sentencepiece 0.1.96 to easy-install.pth file\n",
      "\n",
      "Installed /opt/conda/lib/python3.7/site-packages/sentencepiece-0.1.96-py3.7-linux-x86_64.egg\n",
      "Searching for sacremoses\n",
      "Reading https://pypi.org/simple/sacremoses/\n",
      "Downloading https://files.pythonhosted.org/packages/75/ee/67241dc87f266093c533a2d4d3d69438e57d7a90abb216fa076e7d475d4a/sacremoses-0.0.45-py3-none-any.whl#sha256=fa93db44bc04542553ba6090818b892f603d02aa0d681e6c5c3023baf17e8564\n",
      "Best match: sacremoses 0.0.45\n",
      "Processing sacremoses-0.0.45-py3-none-any.whl\n",
      "Installing sacremoses-0.0.45-py3-none-any.whl to /opt/conda/lib/python3.7/site-packages\n",
      "Adding sacremoses 0.0.45 to easy-install.pth file\n",
      "Installing sacremoses script to /opt/conda/bin\n",
      "\n",
      "Installed /opt/conda/lib/python3.7/site-packages/sacremoses-0.0.45-py3.7.egg\n",
      "Searching for filelock\n",
      "Reading https://pypi.org/simple/filelock/\n",
      "Downloading https://files.pythonhosted.org/packages/93/83/71a2ee6158bb9f39a90c0dea1637f81d5eef866e188e1971a1b1ab01a35a/filelock-3.0.12-py3-none-any.whl#sha256=929b7d63ec5b7d6b71b0fa5ac14e030b3f70b75747cef1b10da9b879fef15836\n",
      "Best match: filelock 3.0.12\n",
      "Processing filelock-3.0.12-py3-none-any.whl\n",
      "Installing filelock-3.0.12-py3-none-any.whl to /opt/conda/lib/python3.7/site-packages\n",
      "Adding filelock 3.0.12 to easy-install.pth file\n",
      "\n",
      "Installed /opt/conda/lib/python3.7/site-packages/filelock-3.0.12-py3.7.egg\n",
      "error: numpy 1.18.5 is installed but numpy~=1.19.2 is required by {'tensorflow'}\n"
     ]
    }
   ],
   "source": [
    "!python setup.py develop"
   ]
  },
  {
   "cell_type": "code",
   "execution_count": 13,
   "id": "56fa0905",
   "metadata": {
    "collapsed": true,
    "jupyter": {
     "outputs_hidden": true
    }
   },
   "outputs": [
    {
     "name": "stdout",
     "output_type": "stream",
     "text": [
      "Collecting numpy==1.20.1\n",
      "  Using cached numpy-1.20.1-cp37-cp37m-manylinux2010_x86_64.whl (15.3 MB)\n",
      "Installing collected packages: numpy\n",
      "  Attempting uninstall: numpy\n",
      "    Found existing installation: numpy 1.19.5\n",
      "    Uninstalling numpy-1.19.5:\n",
      "      Successfully uninstalled numpy-1.19.5\n",
      "\u001b[31mERROR: pip's dependency resolver does not currently take into account all the packages that are installed. This behaviour is the source of the following dependency conflicts.\n",
      "tensorflow-io 0.18.0 requires tensorflow-io-gcs-filesystem==0.18.0, which is not installed.\n",
      "streamlit 0.87.0 requires altair>=3.2.0, which is not installed.\n",
      "streamlit 0.87.0 requires astor, which is not installed.\n",
      "streamlit 0.87.0 requires base58, which is not installed.\n",
      "streamlit 0.87.0 requires pydeck>=0.1.dev5, which is not installed.\n",
      "streamlit 0.87.0 requires toml, which is not installed.\n",
      "streamlit 0.87.0 requires tzlocal, which is not installed.\n",
      "streamlit 0.87.0 requires validators, which is not installed.\n",
      "streamlit 0.87.0 requires watchdog, which is not installed.\n",
      "tfx-bsl 1.2.0 requires absl-py<0.13,>=0.9, but you have absl-py 0.13.0 which is incompatible.\n",
      "tfx-bsl 1.2.0 requires google-api-python-client<2,>=1.7.11, but you have google-api-python-client 2.15.0 which is incompatible.\n",
      "tfx-bsl 1.2.0 requires google-cloud-bigquery<2.21,>=1.28.0, but you have google-cloud-bigquery 2.23.2 which is incompatible.\n",
      "tfx-bsl 1.2.0 requires numpy<1.20,>=1.16, but you have numpy 1.20.1 which is incompatible.\n",
      "tfx-bsl 1.2.0 requires pyarrow<3,>=1, but you have pyarrow 5.0.0 which is incompatible.\n",
      "tensorflow 2.5.0 requires grpcio~=1.34.0, but you have grpcio 1.38.1 which is incompatible.\n",
      "tensorflow 2.5.0 requires numpy~=1.19.2, but you have numpy 1.20.1 which is incompatible.\n",
      "tensorflow 2.5.0 requires six~=1.15.0, but you have six 1.16.0 which is incompatible.\n",
      "tensorflow 2.5.0 requires typing-extensions~=3.7.4, but you have typing-extensions 3.10.0.0 which is incompatible.\n",
      "tensorflow-transform 1.2.0 requires absl-py<0.13,>=0.9, but you have absl-py 0.13.0 which is incompatible.\n",
      "tensorflow-transform 1.2.0 requires google-cloud-bigquery<2.21,>=1.28.0, but you have google-cloud-bigquery 2.23.2 which is incompatible.\n",
      "tensorflow-transform 1.2.0 requires numpy<1.20,>=1.16, but you have numpy 1.20.1 which is incompatible.\n",
      "tensorflow-transform 1.2.0 requires pyarrow<3,>=1, but you have pyarrow 5.0.0 which is incompatible.\n",
      "apache-beam 2.31.0 requires dill<0.3.2,>=0.3.1.1, but you have dill 0.3.4 which is incompatible.\n",
      "apache-beam 2.31.0 requires pyarrow<5.0.0,>=0.15.1, but you have pyarrow 5.0.0 which is incompatible.\n",
      "apache-beam 2.31.0 requires typing-extensions<3.8.0,>=3.7.0, but you have typing-extensions 3.10.0.0 which is incompatible.\n",
      "melusine 2.3.1 requires h5py==2.10.0, but you have h5py 3.1.0 which is incompatible.\n",
      "melusine 2.3.1 requires numpy<1.19.0,>=1.16.4, but you have numpy 1.20.1 which is incompatible.\n",
      "streamlit 0.87.0 requires click<8.0,>=7.0, but you have click 8.0.1 which is incompatible.\u001b[0m\n",
      "Successfully installed numpy-1.20.1\n",
      "Note: you may need to restart the kernel to use updated packages.\n"
     ]
    }
   ],
   "source": [
    "pip install numpy==1.20.1"
   ]
  },
  {
   "cell_type": "code",
   "execution_count": null,
   "id": "e379064a",
   "metadata": {},
   "outputs": [],
   "source": [
    "# restart the kernel"
   ]
  },
  {
   "cell_type": "code",
   "execution_count": 1,
   "id": "8aa2de56",
   "metadata": {},
   "outputs": [],
   "source": [
    "%load_ext autoreload"
   ]
  },
  {
   "cell_type": "code",
   "execution_count": 2,
   "id": "b41b5003",
   "metadata": {},
   "outputs": [],
   "source": [
    "%autoreload 2"
   ]
  },
  {
   "cell_type": "code",
   "execution_count": 3,
   "id": "961db20a",
   "metadata": {},
   "outputs": [],
   "source": [
    "import ast\n",
    "import pandas as pd\n",
    "import numpy as np\n",
    "\n",
    "df_emails_preprocessed = pd.read_csv('tutorial/data/emails_preprocessed.csv', encoding='utf-8', sep=';')\n",
    "df_emails_preprocessed['clean_header'] = df_emails_preprocessed['clean_header'].astype(str)\n",
    "df_emails_preprocessed['clean_body'] = df_emails_preprocessed['clean_body'].astype(str)\n",
    "df_emails_preprocessed['attachment'] = df_emails_preprocessed['attachment'].apply(ast.literal_eval)"
   ]
  },
  {
   "cell_type": "code",
   "execution_count": 4,
   "id": "05ef215f",
   "metadata": {},
   "outputs": [],
   "source": [
    "df_emails_preprocessed['clean_text'] = df_emails_preprocessed['clean_header'] + \" \" + df_emails_preprocessed['clean_body']"
   ]
  },
  {
   "cell_type": "code",
   "execution_count": 5,
   "id": "f56813f1",
   "metadata": {},
   "outputs": [
    {
     "data": {
      "text/plain": [
       "'devis habitation je suis client chez vous pouvez vous m etablir un devis pour mon fils qui souhaite louer lappartement suivant : 25 rue du rueimaginaire  flag_cp_ '"
      ]
     },
     "execution_count": 5,
     "metadata": {},
     "output_type": "execute_result"
    }
   ],
   "source": [
    "df_emails_preprocessed.clean_text[0]"
   ]
  },
  {
   "cell_type": "code",
   "execution_count": 6,
   "id": "23c84fbd",
   "metadata": {},
   "outputs": [],
   "source": [
    "df_meta = pd.read_csv('tutorial/data/metadata.csv', encoding='utf-8', sep=';')"
   ]
  },
  {
   "cell_type": "code",
   "execution_count": 7,
   "id": "59e39c4e",
   "metadata": {},
   "outputs": [],
   "source": [
    "X = pd.concat([df_emails_preprocessed['clean_text'],df_meta],axis=1)"
   ]
  },
  {
   "cell_type": "code",
   "execution_count": 8,
   "id": "ade14a05",
   "metadata": {},
   "outputs": [],
   "source": [
    "from sklearn.preprocessing import LabelEncoder\n",
    "y = df_emails_preprocessed['label']\n",
    "le = LabelEncoder()\n",
    "y = le.fit_transform(y)"
   ]
  },
  {
   "cell_type": "code",
   "execution_count": 9,
   "id": "a31a40e6",
   "metadata": {},
   "outputs": [],
   "source": [
    "from melusine.models.train import NeuralModel"
   ]
  },
  {
   "cell_type": "code",
   "execution_count": 10,
   "id": "0704fb83",
   "metadata": {},
   "outputs": [
    {
     "data": {
      "text/plain": [
       "11"
      ]
     },
     "execution_count": 10,
     "metadata": {},
     "output_type": "execute_result"
    }
   ],
   "source": [
    "len(np.unique(y))"
   ]
  },
  {
   "cell_type": "code",
   "execution_count": 11,
   "id": "88fa364a",
   "metadata": {},
   "outputs": [],
   "source": [
    "from melusine.nlp_tools.embedding import Embedding"
   ]
  },
  {
   "cell_type": "code",
   "execution_count": 12,
   "id": "521fa6c5",
   "metadata": {},
   "outputs": [],
   "source": [
    "pretrained_embedding = Embedding().load('tutorial/data/embedding.pickle') "
   ]
  },
  {
   "cell_type": "markdown",
   "id": "b71972c3",
   "metadata": {},
   "source": [
    "# Deterministic model"
   ]
  },
  {
   "cell_type": "code",
   "execution_count": 23,
   "id": "c12e52b6",
   "metadata": {},
   "outputs": [],
   "source": [
    "from melusine.models.neural_architectures import bayesian_cnn_with_meta_model, cnn_model\n",
    "deterministic_nn_model = NeuralModel(architecture_function=cnn_model,\n",
    "                       pretrained_embedding=pretrained_embedding,\n",
    "                       text_input_column=\"clean_text\",\n",
    "                       batch_size=20,\n",
    "                       meta_input_list=['extension','attachment_type', 'dayofweek', 'hour', 'min'],\n",
    "                       n_epochs=100)"
   ]
  },
  {
   "cell_type": "code",
   "execution_count": 24,
   "id": "7f4689de",
   "metadata": {},
   "outputs": [
    {
     "name": "stdout",
     "output_type": "stream",
     "text": [
      "Epoch 1/100\n",
      "2/2 [==============================] - 2s 375ms/step - loss: 2.3847 - accuracy: 0.1750\n",
      "Epoch 2/100\n",
      "2/2 [==============================] - 0s 13ms/step - loss: 2.2402 - accuracy: 0.1250\n",
      "Epoch 3/100\n",
      "2/2 [==============================] - 0s 14ms/step - loss: 2.1073 - accuracy: 0.2750\n",
      "Epoch 4/100\n",
      "2/2 [==============================] - 0s 14ms/step - loss: 2.0896 - accuracy: 0.2500\n",
      "Epoch 5/100\n",
      "2/2 [==============================] - 0s 14ms/step - loss: 1.9319 - accuracy: 0.3500\n",
      "Epoch 6/100\n",
      "2/2 [==============================] - 0s 14ms/step - loss: 1.9987 - accuracy: 0.2750\n",
      "Epoch 7/100\n",
      "2/2 [==============================] - 0s 14ms/step - loss: 1.8672 - accuracy: 0.3000\n",
      "Epoch 8/100\n",
      "2/2 [==============================] - 0s 14ms/step - loss: 1.8373 - accuracy: 0.3500\n",
      "Epoch 9/100\n",
      "2/2 [==============================] - 0s 14ms/step - loss: 1.7546 - accuracy: 0.3500\n",
      "Epoch 10/100\n",
      "2/2 [==============================] - 0s 14ms/step - loss: 1.7139 - accuracy: 0.3750\n",
      "Epoch 11/100\n",
      "2/2 [==============================] - 0s 14ms/step - loss: 1.6449 - accuracy: 0.4500\n",
      "Epoch 12/100\n",
      "2/2 [==============================] - 0s 14ms/step - loss: 1.5208 - accuracy: 0.5000\n",
      "Epoch 13/100\n",
      "2/2 [==============================] - 0s 14ms/step - loss: 1.4061 - accuracy: 0.5500\n",
      "Epoch 14/100\n",
      "2/2 [==============================] - 0s 13ms/step - loss: 1.3937 - accuracy: 0.4750\n",
      "Epoch 15/100\n",
      "2/2 [==============================] - 0s 14ms/step - loss: 1.2470 - accuracy: 0.5500\n",
      "Epoch 16/100\n",
      "2/2 [==============================] - 0s 14ms/step - loss: 1.1447 - accuracy: 0.6250\n",
      "Epoch 17/100\n",
      "2/2 [==============================] - 0s 14ms/step - loss: 0.9637 - accuracy: 0.6750\n",
      "Epoch 18/100\n",
      "2/2 [==============================] - 0s 14ms/step - loss: 0.9254 - accuracy: 0.6750\n",
      "Epoch 19/100\n",
      "2/2 [==============================] - 0s 15ms/step - loss: 0.7704 - accuracy: 0.7250\n",
      "Epoch 20/100\n",
      "2/2 [==============================] - 0s 14ms/step - loss: 0.6857 - accuracy: 0.8000\n",
      "Epoch 21/100\n",
      "2/2 [==============================] - 0s 13ms/step - loss: 0.6727 - accuracy: 0.8000\n",
      "Epoch 22/100\n",
      "2/2 [==============================] - 0s 13ms/step - loss: 0.6441 - accuracy: 0.7750\n",
      "Epoch 23/100\n",
      "2/2 [==============================] - 0s 14ms/step - loss: 0.5292 - accuracy: 0.8000\n",
      "Epoch 24/100\n",
      "2/2 [==============================] - 0s 14ms/step - loss: 0.4847 - accuracy: 0.8750\n",
      "Epoch 25/100\n",
      "2/2 [==============================] - 0s 13ms/step - loss: 0.5133 - accuracy: 0.8000\n",
      "Epoch 26/100\n",
      "2/2 [==============================] - 0s 14ms/step - loss: 0.4582 - accuracy: 0.8000\n",
      "Epoch 27/100\n",
      "2/2 [==============================] - 0s 13ms/step - loss: 0.4045 - accuracy: 0.8500\n",
      "Epoch 28/100\n",
      "2/2 [==============================] - 0s 14ms/step - loss: 0.6145 - accuracy: 0.8500\n",
      "Epoch 29/100\n",
      "2/2 [==============================] - 0s 14ms/step - loss: 0.2925 - accuracy: 0.9250\n",
      "Epoch 30/100\n",
      "2/2 [==============================] - 0s 15ms/step - loss: 0.3294 - accuracy: 0.9000\n",
      "Epoch 31/100\n",
      "2/2 [==============================] - 0s 13ms/step - loss: 0.3889 - accuracy: 0.9000\n",
      "Epoch 32/100\n",
      "2/2 [==============================] - 0s 15ms/step - loss: 0.2591 - accuracy: 0.9000\n",
      "Epoch 33/100\n",
      "2/2 [==============================] - 0s 14ms/step - loss: 0.2434 - accuracy: 0.9250\n",
      "Epoch 34/100\n",
      "2/2 [==============================] - 0s 14ms/step - loss: 0.1998 - accuracy: 0.9750\n",
      "Epoch 35/100\n",
      "2/2 [==============================] - 0s 14ms/step - loss: 0.2088 - accuracy: 0.9250\n",
      "Epoch 36/100\n",
      "2/2 [==============================] - 0s 13ms/step - loss: 0.2314 - accuracy: 0.9500\n",
      "Epoch 37/100\n",
      "2/2 [==============================] - 0s 14ms/step - loss: 0.2561 - accuracy: 0.9500\n",
      "Epoch 38/100\n",
      "2/2 [==============================] - 0s 14ms/step - loss: 0.2695 - accuracy: 0.9500\n",
      "Epoch 39/100\n",
      "2/2 [==============================] - 0s 14ms/step - loss: 0.1440 - accuracy: 0.9750\n",
      "Epoch 40/100\n",
      "2/2 [==============================] - 0s 15ms/step - loss: 0.1286 - accuracy: 0.9750\n",
      "Epoch 41/100\n",
      "2/2 [==============================] - 0s 13ms/step - loss: 0.0770 - accuracy: 1.0000\n",
      "Epoch 42/100\n",
      "2/2 [==============================] - 0s 13ms/step - loss: 0.0678 - accuracy: 1.0000\n",
      "Epoch 43/100\n",
      "2/2 [==============================] - 0s 16ms/step - loss: 0.1077 - accuracy: 0.9750\n",
      "Epoch 44/100\n",
      "2/2 [==============================] - 0s 18ms/step - loss: 0.0480 - accuracy: 1.0000\n",
      "Epoch 45/100\n",
      "2/2 [==============================] - 0s 14ms/step - loss: 0.0643 - accuracy: 0.9750\n",
      "Epoch 46/100\n",
      "2/2 [==============================] - 0s 14ms/step - loss: 0.1289 - accuracy: 0.9500\n",
      "Epoch 47/100\n",
      "2/2 [==============================] - 0s 14ms/step - loss: 0.0125 - accuracy: 1.0000\n",
      "Epoch 48/100\n",
      "2/2 [==============================] - 0s 13ms/step - loss: 0.0915 - accuracy: 0.9750\n",
      "Epoch 49/100\n",
      "2/2 [==============================] - 0s 14ms/step - loss: 0.0460 - accuracy: 1.0000\n",
      "Epoch 50/100\n",
      "2/2 [==============================] - 0s 14ms/step - loss: 0.0424 - accuracy: 0.9750\n",
      "Epoch 51/100\n",
      "2/2 [==============================] - 0s 14ms/step - loss: 0.0327 - accuracy: 1.0000\n",
      "Epoch 52/100\n",
      "2/2 [==============================] - 0s 14ms/step - loss: 0.1919 - accuracy: 0.9750\n",
      "Epoch 53/100\n",
      "2/2 [==============================] - 0s 13ms/step - loss: 0.1283 - accuracy: 0.9750\n",
      "Epoch 54/100\n",
      "2/2 [==============================] - 0s 14ms/step - loss: 0.0520 - accuracy: 1.0000\n",
      "Epoch 55/100\n",
      "2/2 [==============================] - 0s 14ms/step - loss: 0.3901 - accuracy: 0.9250\n",
      "Epoch 56/100\n",
      "2/2 [==============================] - 0s 13ms/step - loss: 0.1074 - accuracy: 0.9750\n",
      "Epoch 57/100\n",
      "2/2 [==============================] - 0s 13ms/step - loss: 0.0755 - accuracy: 0.9500\n",
      "Epoch 58/100\n",
      "2/2 [==============================] - 0s 14ms/step - loss: 0.0903 - accuracy: 0.9500\n",
      "Epoch 59/100\n",
      "2/2 [==============================] - 0s 13ms/step - loss: 0.0369 - accuracy: 1.0000\n",
      "Epoch 60/100\n",
      "2/2 [==============================] - 0s 13ms/step - loss: 0.1070 - accuracy: 0.9500\n",
      "Epoch 61/100\n",
      "2/2 [==============================] - 0s 14ms/step - loss: 0.0268 - accuracy: 1.0000\n",
      "Epoch 62/100\n",
      "2/2 [==============================] - 0s 14ms/step - loss: 0.0074 - accuracy: 1.0000\n",
      "Epoch 63/100\n",
      "2/2 [==============================] - 0s 14ms/step - loss: 0.0495 - accuracy: 0.9750\n",
      "Epoch 64/100\n",
      "2/2 [==============================] - 0s 13ms/step - loss: 0.0492 - accuracy: 0.9750\n",
      "Epoch 65/100\n",
      "2/2 [==============================] - 0s 14ms/step - loss: 0.0417 - accuracy: 0.9750\n",
      "Epoch 66/100\n",
      "2/2 [==============================] - 0s 15ms/step - loss: 0.0948 - accuracy: 0.9750\n",
      "Epoch 67/100\n",
      "2/2 [==============================] - 0s 14ms/step - loss: 0.0601 - accuracy: 0.9750\n",
      "Epoch 68/100\n",
      "2/2 [==============================] - 0s 15ms/step - loss: 0.0165 - accuracy: 1.0000\n",
      "Epoch 69/100\n",
      "2/2 [==============================] - 0s 14ms/step - loss: 0.0304 - accuracy: 1.0000\n",
      "Epoch 70/100\n",
      "2/2 [==============================] - 0s 14ms/step - loss: 0.0819 - accuracy: 0.9750\n",
      "Epoch 71/100\n",
      "2/2 [==============================] - 0s 13ms/step - loss: 0.0471 - accuracy: 1.0000\n",
      "Epoch 72/100\n",
      "2/2 [==============================] - 0s 14ms/step - loss: 0.0146 - accuracy: 1.0000\n",
      "Epoch 73/100\n",
      "2/2 [==============================] - 0s 14ms/step - loss: 0.0748 - accuracy: 0.9500\n",
      "Epoch 74/100\n",
      "2/2 [==============================] - 0s 14ms/step - loss: 0.0305 - accuracy: 0.9750\n",
      "Epoch 75/100\n",
      "2/2 [==============================] - 0s 14ms/step - loss: 0.0049 - accuracy: 1.0000\n",
      "Epoch 76/100\n",
      "2/2 [==============================] - 0s 14ms/step - loss: 0.2129 - accuracy: 0.9500\n",
      "Epoch 77/100\n",
      "2/2 [==============================] - 0s 14ms/step - loss: 0.0098 - accuracy: 1.0000\n",
      "Epoch 78/100\n",
      "2/2 [==============================] - 0s 14ms/step - loss: 0.0917 - accuracy: 0.9500\n",
      "Epoch 79/100\n",
      "2/2 [==============================] - 0s 14ms/step - loss: 0.0118 - accuracy: 1.0000\n",
      "Epoch 80/100\n",
      "2/2 [==============================] - 0s 14ms/step - loss: 0.0172 - accuracy: 1.0000\n",
      "Epoch 81/100\n",
      "2/2 [==============================] - 0s 13ms/step - loss: 0.0626 - accuracy: 0.9750\n",
      "Epoch 82/100\n",
      "2/2 [==============================] - 0s 14ms/step - loss: 0.0017 - accuracy: 1.0000\n",
      "Epoch 83/100\n",
      "2/2 [==============================] - 0s 14ms/step - loss: 0.1710 - accuracy: 0.9500\n",
      "Epoch 84/100\n",
      "2/2 [==============================] - 0s 14ms/step - loss: 0.0156 - accuracy: 1.0000\n",
      "Epoch 85/100\n",
      "2/2 [==============================] - 0s 14ms/step - loss: 0.0024 - accuracy: 1.0000\n",
      "Epoch 86/100\n",
      "2/2 [==============================] - 0s 14ms/step - loss: 0.0073 - accuracy: 1.0000\n",
      "Epoch 87/100\n",
      "2/2 [==============================] - 0s 13ms/step - loss: 0.0076 - accuracy: 1.0000\n",
      "Epoch 88/100\n",
      "2/2 [==============================] - 0s 13ms/step - loss: 0.0472 - accuracy: 1.0000\n",
      "Epoch 89/100\n",
      "2/2 [==============================] - 0s 13ms/step - loss: 0.0666 - accuracy: 0.9750\n",
      "Epoch 90/100\n",
      "2/2 [==============================] - 0s 14ms/step - loss: 0.0011 - accuracy: 1.0000\n",
      "Epoch 91/100\n",
      "2/2 [==============================] - 0s 14ms/step - loss: 0.0033 - accuracy: 1.0000\n",
      "Epoch 92/100\n",
      "2/2 [==============================] - 0s 14ms/step - loss: 0.0072 - accuracy: 1.0000\n",
      "Epoch 93/100\n",
      "2/2 [==============================] - 0s 14ms/step - loss: 0.1061 - accuracy: 0.9750\n",
      "Epoch 94/100\n",
      "2/2 [==============================] - 0s 14ms/step - loss: 0.0825 - accuracy: 0.9750\n",
      "Epoch 95/100\n",
      "2/2 [==============================] - 0s 14ms/step - loss: 0.0361 - accuracy: 0.9750\n",
      "Epoch 96/100\n",
      "2/2 [==============================] - 0s 14ms/step - loss: 0.0026 - accuracy: 1.0000\n",
      "Epoch 97/100\n",
      "2/2 [==============================] - 0s 14ms/step - loss: 0.2087 - accuracy: 0.9250\n",
      "Epoch 98/100\n",
      "2/2 [==============================] - 0s 14ms/step - loss: 0.0071 - accuracy: 1.0000\n",
      "Epoch 99/100\n",
      "2/2 [==============================] - ETA: 0s - loss: 3.7528e-05 - accuracy: 1.00 - 0s 14ms/step - loss: 7.1351e-04 - accuracy: 1.0000\n",
      "Epoch 100/100\n",
      "2/2 [==============================] - 0s 14ms/step - loss: 0.1721 - accuracy: 0.9750\n",
      "CPU times: user 4.72 s, sys: 611 ms, total: 5.33 s\n",
      "Wall time: 5.42 s\n"
     ]
    }
   ],
   "source": [
    "%%time\n",
    "deterministic_nn_model.fit(X,y,tensorboard_log_dir=\"tutorial/data\")"
   ]
  },
  {
   "cell_type": "markdown",
   "id": "97daf99f",
   "metadata": {},
   "source": [
    "### The deterministic model is able to give us point estimation of probabilities. But we can do better..."
   ]
  },
  {
   "cell_type": "code",
   "execution_count": 15,
   "id": "a773f16d",
   "metadata": {},
   "outputs": [
    {
     "data": {
      "text/plain": [
       "array([[0.09265286, 0.08264095, 0.08558009, 0.09320477, 0.09810311,\n",
       "        0.08850773, 0.08135963, 0.10231458, 0.08211583, 0.07948947,\n",
       "        0.11403093],\n",
       "       [0.09605372, 0.08046731, 0.08194782, 0.09491058, 0.09741408,\n",
       "        0.07861298, 0.0797333 , 0.11016141, 0.07814865, 0.0747059 ,\n",
       "        0.12784429]], dtype=float32)"
      ]
     },
     "execution_count": 15,
     "metadata": {},
     "output_type": "execute_result"
    }
   ],
   "source": [
    "deterministic_nn_model.predict_proba(X)[:2]"
   ]
  },
  {
   "cell_type": "markdown",
   "id": "6c5d4ec1",
   "metadata": {},
   "source": [
    "# The probabilitic model \n",
    "The probabilitic gives us not longer point estimation but distribution on predictions. It allows us to give confidence intervals."
   ]
  },
  {
   "cell_type": "code",
   "execution_count": 21,
   "id": "76947a3f",
   "metadata": {},
   "outputs": [],
   "source": [
    "from melusine.models.neural_architectures import bayesian_cnn_with_meta_model\n",
    "nn_model = NeuralModel(architecture_function=bayesian_cnn_with_meta_model,\n",
    "                       pretrained_embedding=pretrained_embedding,\n",
    "                       text_input_column=\"clean_text\",\n",
    "                       batch_size=20,\n",
    "                       meta_input_list=['extension','attachment_type', 'dayofweek', 'hour', 'min'],\n",
    "                       n_epochs=100)"
   ]
  },
  {
   "cell_type": "code",
   "execution_count": 22,
   "id": "a3918862",
   "metadata": {},
   "outputs": [
    {
     "name": "stdout",
     "output_type": "stream",
     "text": [
      "Epoch 1/100\n",
      "2/2 [==============================] - 2s 404ms/step - loss: 2.3704 - accuracy: 0.0250\n",
      "Epoch 2/100\n",
      "2/2 [==============================] - 0s 15ms/step - loss: 2.2303 - accuracy: 0.1500\n",
      "Epoch 3/100\n",
      "2/2 [==============================] - 0s 15ms/step - loss: 2.0798 - accuracy: 0.2250\n",
      "Epoch 4/100\n",
      "2/2 [==============================] - 0s 14ms/step - loss: 2.1171 - accuracy: 0.3250\n",
      "Epoch 5/100\n",
      "2/2 [==============================] - 0s 14ms/step - loss: 1.9434 - accuracy: 0.2750\n",
      "Epoch 6/100\n",
      "2/2 [==============================] - 0s 15ms/step - loss: 1.8456 - accuracy: 0.3750\n",
      "Epoch 7/100\n",
      "2/2 [==============================] - 0s 14ms/step - loss: 1.7567 - accuracy: 0.3750\n",
      "Epoch 8/100\n",
      "2/2 [==============================] - 0s 15ms/step - loss: 1.7152 - accuracy: 0.4000\n",
      "Epoch 9/100\n",
      "2/2 [==============================] - 0s 14ms/step - loss: 1.6950 - accuracy: 0.4250\n",
      "Epoch 10/100\n",
      "2/2 [==============================] - 0s 14ms/step - loss: 1.6333 - accuracy: 0.4750\n",
      "Epoch 11/100\n",
      "2/2 [==============================] - 0s 14ms/step - loss: 1.4870 - accuracy: 0.4750\n",
      "Epoch 12/100\n",
      "2/2 [==============================] - 0s 14ms/step - loss: 1.4901 - accuracy: 0.4750\n",
      "Epoch 13/100\n",
      "2/2 [==============================] - 0s 14ms/step - loss: 1.4016 - accuracy: 0.4750\n",
      "Epoch 14/100\n",
      "2/2 [==============================] - 0s 14ms/step - loss: 1.2512 - accuracy: 0.5500\n",
      "Epoch 15/100\n",
      "2/2 [==============================] - 0s 15ms/step - loss: 1.1093 - accuracy: 0.6750\n",
      "Epoch 16/100\n",
      "2/2 [==============================] - 0s 14ms/step - loss: 1.0095 - accuracy: 0.7250\n",
      "Epoch 17/100\n",
      "2/2 [==============================] - 0s 14ms/step - loss: 0.9595 - accuracy: 0.7000\n",
      "Epoch 18/100\n",
      "2/2 [==============================] - 0s 14ms/step - loss: 0.9698 - accuracy: 0.7250\n",
      "Epoch 19/100\n",
      "2/2 [==============================] - 0s 14ms/step - loss: 0.6801 - accuracy: 0.7750\n",
      "Epoch 20/100\n",
      "2/2 [==============================] - 0s 14ms/step - loss: 0.7211 - accuracy: 0.8000\n",
      "Epoch 21/100\n",
      "2/2 [==============================] - 0s 14ms/step - loss: 0.5242 - accuracy: 0.8500\n",
      "Epoch 22/100\n",
      "2/2 [==============================] - 0s 14ms/step - loss: 0.5316 - accuracy: 0.8750\n",
      "Epoch 23/100\n",
      "2/2 [==============================] - 0s 14ms/step - loss: 0.4950 - accuracy: 0.8000\n",
      "Epoch 24/100\n",
      "2/2 [==============================] - 0s 14ms/step - loss: 0.4407 - accuracy: 0.9000\n",
      "Epoch 25/100\n",
      "2/2 [==============================] - 0s 14ms/step - loss: 0.4528 - accuracy: 0.8750\n",
      "Epoch 26/100\n",
      "2/2 [==============================] - 0s 14ms/step - loss: 0.4427 - accuracy: 0.8500\n",
      "Epoch 27/100\n",
      "2/2 [==============================] - 0s 14ms/step - loss: 0.4694 - accuracy: 0.8250\n",
      "Epoch 28/100\n",
      "2/2 [==============================] - 0s 14ms/step - loss: 0.5133 - accuracy: 0.7750\n",
      "Epoch 29/100\n",
      "2/2 [==============================] - 0s 14ms/step - loss: 0.4846 - accuracy: 0.8500\n",
      "Epoch 30/100\n",
      "2/2 [==============================] - 0s 14ms/step - loss: 0.3588 - accuracy: 0.8750\n",
      "Epoch 31/100\n",
      "2/2 [==============================] - 0s 14ms/step - loss: 0.3007 - accuracy: 0.9000\n",
      "Epoch 32/100\n",
      "2/2 [==============================] - 0s 14ms/step - loss: 0.2607 - accuracy: 0.9250\n",
      "Epoch 33/100\n",
      "2/2 [==============================] - 0s 14ms/step - loss: 0.1694 - accuracy: 0.9500\n",
      "Epoch 34/100\n",
      "2/2 [==============================] - 0s 14ms/step - loss: 0.3026 - accuracy: 0.9250\n",
      "Epoch 35/100\n",
      "2/2 [==============================] - 0s 13ms/step - loss: 0.3499 - accuracy: 0.9000\n",
      "Epoch 36/100\n",
      "2/2 [==============================] - 0s 14ms/step - loss: 0.1606 - accuracy: 0.9750\n",
      "Epoch 37/100\n",
      "2/2 [==============================] - 0s 14ms/step - loss: 0.1494 - accuracy: 0.9750\n",
      "Epoch 38/100\n",
      "2/2 [==============================] - 0s 14ms/step - loss: 0.1638 - accuracy: 0.9500\n",
      "Epoch 39/100\n",
      "2/2 [==============================] - 0s 14ms/step - loss: 0.1116 - accuracy: 0.9750\n",
      "Epoch 40/100\n",
      "2/2 [==============================] - 0s 14ms/step - loss: 0.1142 - accuracy: 0.9750\n",
      "Epoch 41/100\n",
      "2/2 [==============================] - 0s 13ms/step - loss: 0.1092 - accuracy: 0.9750\n",
      "Epoch 42/100\n",
      "2/2 [==============================] - 0s 14ms/step - loss: 0.0856 - accuracy: 1.0000\n",
      "Epoch 43/100\n",
      "2/2 [==============================] - 0s 14ms/step - loss: 0.0290 - accuracy: 1.0000\n",
      "Epoch 44/100\n",
      "2/2 [==============================] - 0s 14ms/step - loss: 0.1578 - accuracy: 0.9750\n",
      "Epoch 45/100\n",
      "2/2 [==============================] - 0s 14ms/step - loss: 0.0583 - accuracy: 1.0000\n",
      "Epoch 46/100\n",
      "2/2 [==============================] - 0s 13ms/step - loss: 0.0305 - accuracy: 1.0000\n",
      "Epoch 47/100\n",
      "2/2 [==============================] - 0s 14ms/step - loss: 0.0404 - accuracy: 1.0000\n",
      "Epoch 48/100\n",
      "2/2 [==============================] - 0s 14ms/step - loss: 0.1471 - accuracy: 0.9750\n",
      "Epoch 49/100\n",
      "2/2 [==============================] - 0s 13ms/step - loss: 0.0177 - accuracy: 1.0000\n",
      "Epoch 50/100\n",
      "2/2 [==============================] - 0s 14ms/step - loss: 0.0449 - accuracy: 0.9750\n",
      "Epoch 51/100\n",
      "2/2 [==============================] - 0s 14ms/step - loss: 0.0772 - accuracy: 0.9750\n",
      "Epoch 52/100\n",
      "2/2 [==============================] - 0s 14ms/step - loss: 0.0508 - accuracy: 0.9750\n",
      "Epoch 53/100\n",
      "2/2 [==============================] - 0s 14ms/step - loss: 0.0086 - accuracy: 1.0000\n",
      "Epoch 54/100\n",
      "2/2 [==============================] - 0s 13ms/step - loss: 0.0020 - accuracy: 1.0000\n",
      "Epoch 55/100\n",
      "2/2 [==============================] - 0s 13ms/step - loss: 0.0344 - accuracy: 1.0000\n",
      "Epoch 56/100\n",
      "2/2 [==============================] - 0s 14ms/step - loss: 0.0265 - accuracy: 1.0000\n",
      "Epoch 57/100\n",
      "2/2 [==============================] - 0s 14ms/step - loss: 0.0685 - accuracy: 0.9750\n",
      "Epoch 58/100\n",
      "2/2 [==============================] - 0s 14ms/step - loss: 0.0791 - accuracy: 0.9750\n",
      "Epoch 59/100\n",
      "2/2 [==============================] - 0s 13ms/step - loss: 0.1139 - accuracy: 0.9250\n",
      "Epoch 60/100\n",
      "2/2 [==============================] - 0s 14ms/step - loss: 0.0262 - accuracy: 1.0000\n",
      "Epoch 61/100\n",
      "2/2 [==============================] - 0s 14ms/step - loss: 0.0692 - accuracy: 0.9750\n",
      "Epoch 62/100\n",
      "2/2 [==============================] - 0s 13ms/step - loss: 0.0171 - accuracy: 1.0000\n",
      "Epoch 63/100\n",
      "2/2 [==============================] - 0s 14ms/step - loss: 0.1100 - accuracy: 0.9500\n",
      "Epoch 64/100\n",
      "2/2 [==============================] - 0s 14ms/step - loss: 0.0414 - accuracy: 0.9750\n",
      "Epoch 65/100\n",
      "2/2 [==============================] - 0s 14ms/step - loss: 0.0684 - accuracy: 0.9750\n",
      "Epoch 66/100\n",
      "2/2 [==============================] - 0s 14ms/step - loss: 0.0758 - accuracy: 0.9500\n",
      "Epoch 67/100\n",
      "2/2 [==============================] - 0s 14ms/step - loss: 0.0932 - accuracy: 0.9500\n",
      "Epoch 68/100\n",
      "2/2 [==============================] - 0s 14ms/step - loss: 0.0484 - accuracy: 0.9750\n",
      "Epoch 69/100\n",
      "2/2 [==============================] - 0s 14ms/step - loss: 0.0133 - accuracy: 1.0000\n",
      "Epoch 70/100\n",
      "2/2 [==============================] - 0s 14ms/step - loss: 0.0353 - accuracy: 1.0000\n",
      "Epoch 71/100\n",
      "2/2 [==============================] - 0s 14ms/step - loss: 0.1093 - accuracy: 0.9750\n",
      "Epoch 72/100\n",
      "2/2 [==============================] - 0s 15ms/step - loss: 0.1289 - accuracy: 0.9500\n",
      "Epoch 73/100\n",
      "2/2 [==============================] - 0s 14ms/step - loss: 0.1973 - accuracy: 0.9500\n",
      "Epoch 74/100\n",
      "2/2 [==============================] - 0s 14ms/step - loss: 0.0682 - accuracy: 0.9750\n",
      "Epoch 75/100\n",
      "2/2 [==============================] - 0s 14ms/step - loss: 0.0062 - accuracy: 1.0000\n",
      "Epoch 76/100\n",
      "2/2 [==============================] - 0s 14ms/step - loss: 0.0163 - accuracy: 1.0000\n",
      "Epoch 77/100\n",
      "2/2 [==============================] - 0s 14ms/step - loss: 0.1551 - accuracy: 0.9500\n",
      "Epoch 78/100\n",
      "2/2 [==============================] - 0s 14ms/step - loss: 0.0320 - accuracy: 1.0000\n",
      "Epoch 79/100\n",
      "2/2 [==============================] - 0s 14ms/step - loss: 0.0105 - accuracy: 1.0000\n",
      "Epoch 80/100\n",
      "2/2 [==============================] - 0s 14ms/step - loss: 0.0404 - accuracy: 0.9750\n",
      "Epoch 81/100\n",
      "2/2 [==============================] - 0s 13ms/step - loss: 0.0043 - accuracy: 1.0000\n",
      "Epoch 82/100\n",
      "2/2 [==============================] - 0s 13ms/step - loss: 0.0561 - accuracy: 0.9500\n",
      "Epoch 83/100\n",
      "2/2 [==============================] - 0s 14ms/step - loss: 0.0313 - accuracy: 0.9750\n",
      "Epoch 84/100\n",
      "2/2 [==============================] - 0s 14ms/step - loss: 5.9937e-04 - accuracy: 1.0000\n",
      "Epoch 85/100\n",
      "2/2 [==============================] - 0s 14ms/step - loss: 0.0020 - accuracy: 1.0000\n",
      "Epoch 86/100\n",
      "2/2 [==============================] - 0s 13ms/step - loss: 0.0061 - accuracy: 1.0000\n",
      "Epoch 87/100\n",
      "2/2 [==============================] - 0s 14ms/step - loss: 0.0339 - accuracy: 0.9750\n",
      "Epoch 88/100\n",
      "2/2 [==============================] - 0s 13ms/step - loss: 9.2130e-04 - accuracy: 1.0000\n",
      "Epoch 89/100\n",
      "2/2 [==============================] - 0s 14ms/step - loss: 0.0042 - accuracy: 1.0000\n",
      "Epoch 90/100\n",
      "2/2 [==============================] - 0s 13ms/step - loss: 0.0022 - accuracy: 1.0000\n",
      "Epoch 91/100\n",
      "2/2 [==============================] - 0s 14ms/step - loss: 0.1308 - accuracy: 0.9750\n",
      "Epoch 92/100\n",
      "2/2 [==============================] - 0s 13ms/step - loss: 0.0011 - accuracy: 1.0000\n",
      "Epoch 93/100\n",
      "2/2 [==============================] - 0s 15ms/step - loss: 0.0062 - accuracy: 1.0000\n",
      "Epoch 94/100\n",
      "2/2 [==============================] - 0s 14ms/step - loss: 0.0073 - accuracy: 1.0000\n",
      "Epoch 95/100\n",
      "2/2 [==============================] - 0s 14ms/step - loss: 0.1673 - accuracy: 0.9750\n",
      "Epoch 96/100\n",
      "2/2 [==============================] - 0s 13ms/step - loss: 0.0074 - accuracy: 1.0000\n",
      "Epoch 97/100\n",
      "2/2 [==============================] - 0s 14ms/step - loss: 0.0016 - accuracy: 1.0000\n",
      "Epoch 98/100\n",
      "2/2 [==============================] - 0s 13ms/step - loss: 0.1023 - accuracy: 0.9750\n",
      "Epoch 99/100\n",
      "2/2 [==============================] - 0s 16ms/step - loss: 0.0061 - accuracy: 1.0000\n",
      "Epoch 100/100\n",
      "2/2 [==============================] - 0s 13ms/step - loss: 7.9255e-04 - accuracy: 1.0000\n",
      "CPU times: user 4.51 s, sys: 519 ms, total: 5.02 s\n",
      "Wall time: 5.17 s\n"
     ]
    }
   ],
   "source": [
    "%%time\n",
    "nn_model.fit(X,y,tensorboard_log_dir=\"tutorial/data\")"
   ]
  },
  {
   "cell_type": "markdown",
   "id": "9efcf2a4",
   "metadata": {},
   "source": [
    "### The estimation of the probability is now the mean of the distribution of the prediction"
   ]
  },
  {
   "cell_type": "code",
   "execution_count": 25,
   "id": "7fb6c841",
   "metadata": {},
   "outputs": [],
   "source": [
    "better_estimation = nn_model.predict_proba(X)"
   ]
  },
  {
   "cell_type": "markdown",
   "id": "35651713",
   "metadata": {},
   "source": [
    "### More important we now can have confidence intervals"
   ]
  },
  {
   "cell_type": "code",
   "execution_count": 26,
   "id": "a7c006b9",
   "metadata": {},
   "outputs": [],
   "source": [
    "score, inf, sup = nn_model.predict_proba(X, confidence_interval=0.95)"
   ]
  },
  {
   "cell_type": "code",
   "execution_count": 27,
   "id": "332c75ec",
   "metadata": {},
   "outputs": [],
   "source": [
    "import matplotlib.pyplot as plt\n",
    "ntargets = 11\n",
    "\n",
    "\n",
    "def analyse_and_plot_model_predictions(data, true_labels, nn_model, text_num, ci=0.95):\n",
    "    \"\"\"\n",
    "    Make plots of the probabilities that the model estimates for a given text\n",
    "    \"\"\"\n",
    "    true_label = true_labels[text_num]\n",
    "    true_label_decoded = le.inverse_transform([true_label])[0]\n",
    "    print('True label: \\033[1m \\033[92m {} \\033[0m'.format(str(true_label_decoded)))\n",
    "    print('Clean text: ', data.loc[text_num, \"clean_text\"])\n",
    "    model_prediction, pct_low, pct_up = nn_model.predict_proba(data.loc[text_num:text_num], confidence_interval=ci)\n",
    "    model_prediction, pct_low, pct_up = model_prediction[0], pct_low[0], pct_up[0]\n",
    "    x_pos = np.arange(ntargets)\n",
    "    bar = plt.bar(x_pos, pct_up, color='red')\n",
    "    all_categories_decoded = le.inverse_transform(np.arange(ntargets))\n",
    "    plt.xticks(x_pos, all_categories_decoded, color='black', rotation=45, fontweight='bold', fontsize='10', horizontalalignment='right')\n",
    "    ax = plt.gca()\n",
    "    labels = ax.get_xticklabels()\n",
    "    ticks = ax.get_xticks()\n",
    "    for label, tick in zip(labels, ticks):\n",
    "        if tick == true_label:\n",
    "            label.set_color('green')\n",
    "    bar[true_label].set_color('green')\n",
    "    plt.bar(np.arange(ntargets), pct_low-0.02, color='white', linewidth=1, edgecolor='white')\n",
    "    plt.ylim([0, 1])\n",
    "    plt.ylabel('Probability')\n",
    "    plt.title('Model estimated probabilities') \n",
    "    plt.show()"
   ]
  },
  {
   "cell_type": "code",
   "execution_count": 28,
   "id": "23876294",
   "metadata": {},
   "outputs": [
    {
     "name": "stdout",
     "output_type": "stream",
     "text": [
      "True label: \u001b[1m \u001b[92m vehicule \u001b[0m\n",
      "Clean text:  immatriculation voiture je vous informe que la nouvelle immatriculation est enfin faite. je vous prie de trouver donc la carte grise ainsi que la nouvelle immatriculation. je vous demanderai de faire les changements necessaires concernant lassurance.\n"
     ]
    },
    {
     "name": "stderr",
     "output_type": "stream",
     "text": [
      "/home/jupyter/melusine/melusine/nlp_tools/tokenizer.py:136: SettingWithCopyWarning: \n",
      "A value is trying to be set on a copy of a slice from a DataFrame.\n",
      "Try using .loc[row_indexer,col_indexer] = value instead\n",
      "\n",
      "See the caveats in the documentation: https://pandas.pydata.org/pandas-docs/stable/user_guide/indexing.html#returning-a-view-versus-a-copy\n",
      "  X[\"tokens\"] = apply_func(X, self.tokenize)\n",
      "/home/jupyter/melusine/melusine/nlp_tools/tokenizer.py:137: SettingWithCopyWarning: \n",
      "A value is trying to be set on a copy of a slice from a DataFrame.\n",
      "Try using .loc[row_indexer,col_indexer] = value instead\n",
      "\n",
      "See the caveats in the documentation: https://pandas.pydata.org/pandas-docs/stable/user_guide/indexing.html#returning-a-view-versus-a-copy\n",
      "  X[\"tokens\"] = apply_func(X, lambda x: x[\"tokens\"][0])\n"
     ]
    },
    {
     "data": {
      "image/png": "[encoded data removed]",
      "text/plain": [
       "<Figure size 432x288 with 1 Axes>"
      ]
     },
     "metadata": {
      "needs_background": "light"
     },
     "output_type": "display_data"
    }
   ],
   "source": [
    "i = 1\n",
    "analyse_and_plot_model_predictions(X, y, nn_model, text_num=i, ci=0.95)"
   ]
  },
  {
   "cell_type": "code",
   "execution_count": 1,
   "id": "327d4aec",
   "metadata": {},
   "outputs": [
    {
     "name": "stdout",
     "output_type": "stream",
     "text": [
      "tensorflow @ file:///opt/conda/conda-bld/dlenv-tf-2-5-gpu_1627618644005/work/tensorflow-2.5.0-cp37-cp37m-linux_x86_64.whl\n",
      "tensorflow-cloud==0.1.14\n",
      "tensorflow-datasets==4.3.0\n",
      "tensorflow-estimator==2.5.0\n",
      "tensorflow-hub==0.12.0\n",
      "tensorflow-io==0.18.0\n",
      "tensorflow-metadata==1.2.0\n",
      "tensorflow-probability==0.13.0rc0\n",
      "tensorflow-serving-api==2.5.1\n",
      "tensorflow-transform==1.2.0\n"
     ]
    }
   ],
   "source": [
    "!pip freeze | grep tensorflow"
   ]
  },
  {
   "cell_type": "markdown",
   "id": "28493367",
   "metadata": {},
   "source": [
    "# To go further : the bayesian neural network"
   ]
  },
  {
   "cell_type": "code",
   "execution_count": 31,
   "id": "ecb106b6",
   "metadata": {},
   "outputs": [],
   "source": [
    "from melusine.models.neural_architectures import variational_cnn_model\n",
    "variational_nn_model = NeuralModel(architecture_function=variational_cnn_model,\n",
    "                       pretrained_embedding=pretrained_embedding,\n",
    "                       text_input_column=\"clean_text\",\n",
    "                       batch_size=20,\n",
    "                       meta_input_list=[],\n",
    "                       n_epochs=100)"
   ]
  },
  {
   "cell_type": "code",
   "execution_count": 32,
   "id": "2fc4c289",
   "metadata": {},
   "outputs": [
    {
     "name": "stdout",
     "output_type": "stream",
     "text": [
      "WARNING:tensorflow:Model failed to serialize as JSON. Ignoring... Layer DenseVariational has arguments in `__init__` and therefore must override `get_config`.\n",
      "Epoch 1/100\n",
      "2/2 [==============================] - 3s 391ms/step - loss: 7385.3374 - accuracy: 0.1750\n",
      "Epoch 2/100\n",
      "2/2 [==============================] - 0s 7ms/step - loss: 7382.9780 - accuracy: 0.1000\n",
      "Epoch 3/100\n",
      "2/2 [==============================] - 0s 7ms/step - loss: 7372.1611 - accuracy: 0.2250\n",
      "Epoch 4/100\n",
      "2/2 [==============================] - 0s 7ms/step - loss: 7366.8970 - accuracy: 0.1000\n",
      "Epoch 5/100\n",
      "2/2 [==============================] - 0s 7ms/step - loss: 7362.6235 - accuracy: 0.0250\n",
      "Epoch 6/100\n",
      "2/2 [==============================] - 0s 7ms/step - loss: 7355.2607 - accuracy: 0.1750\n",
      "Epoch 7/100\n",
      "2/2 [==============================] - 0s 7ms/step - loss: 7349.4385 - accuracy: 0.1500\n",
      "Epoch 8/100\n",
      "2/2 [==============================] - 0s 7ms/step - loss: 7344.0205 - accuracy: 0.0750\n",
      "Epoch 9/100\n",
      "2/2 [==============================] - 0s 7ms/step - loss: 7338.8828 - accuracy: 0.1500\n",
      "Epoch 10/100\n",
      "2/2 [==============================] - 0s 7ms/step - loss: 7329.8813 - accuracy: 0.1250\n",
      "Epoch 11/100\n",
      "2/2 [==============================] - 0s 7ms/step - loss: 7326.9727 - accuracy: 0.0000e+00\n",
      "Epoch 12/100\n",
      "2/2 [==============================] - 0s 7ms/step - loss: 7318.0127 - accuracy: 0.0500\n",
      "Epoch 13/100\n",
      "2/2 [==============================] - 0s 7ms/step - loss: 7311.0342 - accuracy: 0.2500\n",
      "Epoch 14/100\n",
      "2/2 [==============================] - 0s 7ms/step - loss: 7307.8813 - accuracy: 0.1750\n",
      "Epoch 15/100\n",
      "2/2 [==============================] - 0s 7ms/step - loss: 7299.8423 - accuracy: 0.1500\n",
      "Epoch 16/100\n",
      "2/2 [==============================] - 0s 7ms/step - loss: 7297.0796 - accuracy: 0.0750\n",
      "Epoch 17/100\n",
      "2/2 [==============================] - 0s 7ms/step - loss: 7293.3892 - accuracy: 0.0250\n",
      "Epoch 18/100\n",
      "2/2 [==============================] - 0s 7ms/step - loss: 7282.8423 - accuracy: 0.0000e+00\n",
      "Epoch 19/100\n",
      "2/2 [==============================] - 0s 7ms/step - loss: 7277.9570 - accuracy: 0.0250\n",
      "Epoch 20/100\n",
      "2/2 [==============================] - 0s 7ms/step - loss: 7268.2275 - accuracy: 0.1000\n",
      "Epoch 21/100\n",
      "2/2 [==============================] - 0s 7ms/step - loss: 7265.7812 - accuracy: 0.0250\n",
      "Epoch 22/100\n",
      "2/2 [==============================] - 0s 7ms/step - loss: 7259.4893 - accuracy: 0.0500\n",
      "Epoch 23/100\n",
      "2/2 [==============================] - 0s 7ms/step - loss: 7252.1377 - accuracy: 0.1250\n",
      "Epoch 24/100\n",
      "2/2 [==============================] - 0s 7ms/step - loss: 7249.3687 - accuracy: 0.0500\n",
      "Epoch 25/100\n",
      "2/2 [==============================] - 0s 7ms/step - loss: 7244.6851 - accuracy: 0.1500\n",
      "Epoch 26/100\n",
      "2/2 [==============================] - 0s 7ms/step - loss: 7235.0049 - accuracy: 0.0500\n",
      "Epoch 27/100\n",
      "2/2 [==============================] - 0s 7ms/step - loss: 7231.4170 - accuracy: 0.0500\n",
      "Epoch 28/100\n",
      "2/2 [==============================] - 0s 7ms/step - loss: 7225.1172 - accuracy: 0.1500\n",
      "Epoch 29/100\n",
      "2/2 [==============================] - 0s 7ms/step - loss: 7218.1108 - accuracy: 0.1750\n",
      "Epoch 30/100\n",
      "2/2 [==============================] - 0s 7ms/step - loss: 7210.4287 - accuracy: 0.0500\n",
      "Epoch 31/100\n",
      "2/2 [==============================] - 0s 7ms/step - loss: 7204.0845 - accuracy: 0.0500\n",
      "Epoch 32/100\n",
      "2/2 [==============================] - 0s 7ms/step - loss: 7198.1782 - accuracy: 0.0250\n",
      "Epoch 33/100\n",
      "2/2 [==============================] - 0s 7ms/step - loss: 7195.8438 - accuracy: 0.0750\n",
      "Epoch 34/100\n",
      "2/2 [==============================] - 0s 7ms/step - loss: 7187.1353 - accuracy: 0.0750\n",
      "Epoch 35/100\n",
      "2/2 [==============================] - 0s 7ms/step - loss: 7180.2905 - accuracy: 0.0750\n",
      "Epoch 36/100\n",
      "2/2 [==============================] - 0s 7ms/step - loss: 7173.6221 - accuracy: 0.2250\n",
      "Epoch 37/100\n",
      "2/2 [==============================] - 0s 7ms/step - loss: 7177.5015 - accuracy: 0.0000e+00\n",
      "Epoch 38/100\n",
      "2/2 [==============================] - 0s 7ms/step - loss: 7165.2593 - accuracy: 0.0000e+00\n",
      "Epoch 39/100\n",
      "2/2 [==============================] - 0s 7ms/step - loss: 7157.5908 - accuracy: 0.2500\n",
      "Epoch 40/100\n",
      "2/2 [==============================] - 0s 7ms/step - loss: 7153.1265 - accuracy: 0.1000\n",
      "Epoch 41/100\n",
      "2/2 [==============================] - 0s 7ms/step - loss: 7146.5576 - accuracy: 0.1000\n",
      "Epoch 42/100\n",
      "2/2 [==============================] - 0s 7ms/step - loss: 7142.0483 - accuracy: 0.0500\n",
      "Epoch 43/100\n",
      "2/2 [==============================] - 0s 7ms/step - loss: 7133.5532 - accuracy: 0.3000\n",
      "Epoch 44/100\n",
      "2/2 [==============================] - 0s 7ms/step - loss: 7127.7944 - accuracy: 0.0750\n",
      "Epoch 45/100\n",
      "2/2 [==============================] - 0s 7ms/step - loss: 7125.7251 - accuracy: 0.0000e+00\n",
      "Epoch 46/100\n",
      "2/2 [==============================] - 0s 8ms/step - loss: 7117.9048 - accuracy: 0.1250\n",
      "Epoch 47/100\n",
      "2/2 [==============================] - 0s 8ms/step - loss: 7108.4946 - accuracy: 0.1250\n",
      "Epoch 48/100\n",
      "2/2 [==============================] - 0s 9ms/step - loss: 7104.1577 - accuracy: 0.2000\n",
      "Epoch 49/100\n",
      "2/2 [==============================] - 0s 7ms/step - loss: 7103.9033 - accuracy: 0.0750\n",
      "Epoch 50/100\n",
      "2/2 [==============================] - 0s 6ms/step - loss: 7096.8970 - accuracy: 0.1000\n",
      "Epoch 51/100\n",
      "2/2 [==============================] - 0s 7ms/step - loss: 7094.4087 - accuracy: 0.0000e+00\n",
      "Epoch 52/100\n",
      "2/2 [==============================] - 0s 7ms/step - loss: 7080.2393 - accuracy: 0.0500\n",
      "Epoch 53/100\n",
      "2/2 [==============================] - 0s 7ms/step - loss: 7072.7812 - accuracy: 0.1000\n",
      "Epoch 54/100\n",
      "2/2 [==============================] - 0s 7ms/step - loss: 7073.8896 - accuracy: 0.0250\n",
      "Epoch 55/100\n",
      "2/2 [==============================] - 0s 8ms/step - loss: 7066.6475 - accuracy: 0.0750\n",
      "Epoch 56/100\n",
      "2/2 [==============================] - 0s 8ms/step - loss: 7058.1108 - accuracy: 0.1750\n",
      "Epoch 57/100\n",
      "2/2 [==============================] - 0s 7ms/step - loss: 7051.5830 - accuracy: 0.1500\n",
      "Epoch 58/100\n",
      "2/2 [==============================] - 0s 10ms/step - loss: 7047.5498 - accuracy: 0.0500\n",
      "Epoch 59/100\n",
      "2/2 [==============================] - 0s 8ms/step - loss: 7041.6992 - accuracy: 0.2750\n",
      "Epoch 60/100\n",
      "2/2 [==============================] - 0s 7ms/step - loss: 7035.8501 - accuracy: 0.1500\n",
      "Epoch 61/100\n",
      "2/2 [==============================] - 0s 7ms/step - loss: 7030.2007 - accuracy: 0.1500\n",
      "Epoch 62/100\n",
      "2/2 [==============================] - 0s 7ms/step - loss: 7023.8672 - accuracy: 0.0500\n",
      "Epoch 63/100\n",
      "2/2 [==============================] - 0s 7ms/step - loss: 7016.3813 - accuracy: 0.1750\n",
      "Epoch 64/100\n",
      "2/2 [==============================] - 0s 7ms/step - loss: 7012.4521 - accuracy: 0.0500\n",
      "Epoch 65/100\n",
      "2/2 [==============================] - 0s 7ms/step - loss: 7008.4189 - accuracy: 0.1000\n",
      "Epoch 66/100\n",
      "2/2 [==============================] - 0s 7ms/step - loss: 7004.3853 - accuracy: 0.0500\n",
      "Epoch 67/100\n",
      "2/2 [==============================] - 0s 7ms/step - loss: 6996.6064 - accuracy: 0.0250\n",
      "Epoch 68/100\n",
      "2/2 [==============================] - 0s 7ms/step - loss: 6990.9937 - accuracy: 0.2250\n",
      "Epoch 69/100\n",
      "2/2 [==============================] - 0s 7ms/step - loss: 6984.2358 - accuracy: 0.2250\n",
      "Epoch 70/100\n",
      "2/2 [==============================] - 0s 7ms/step - loss: 6977.4766 - accuracy: 0.2250\n",
      "Epoch 71/100\n",
      "2/2 [==============================] - 0s 7ms/step - loss: 6975.5884 - accuracy: 0.1500\n",
      "Epoch 72/100\n",
      "2/2 [==============================] - 0s 7ms/step - loss: 6966.8804 - accuracy: 0.2000\n",
      "Epoch 73/100\n",
      "2/2 [==============================] - 0s 7ms/step - loss: 6959.5703 - accuracy: 0.0250\n",
      "Epoch 74/100\n",
      "2/2 [==============================] - 0s 7ms/step - loss: 6954.4663 - accuracy: 0.0250\n",
      "Epoch 75/100\n",
      "2/2 [==============================] - 0s 7ms/step - loss: 6950.1821 - accuracy: 0.2000\n",
      "Epoch 76/100\n",
      "2/2 [==============================] - 0s 7ms/step - loss: 6946.4312 - accuracy: 0.0250\n",
      "Epoch 77/100\n",
      "2/2 [==============================] - 0s 8ms/step - loss: 6938.8032 - accuracy: 0.1500\n",
      "Epoch 78/100\n",
      "2/2 [==============================] - 0s 7ms/step - loss: 6934.5635 - accuracy: 0.1000\n",
      "Epoch 79/100\n",
      "2/2 [==============================] - 0s 7ms/step - loss: 6924.6064 - accuracy: 0.0750\n",
      "Epoch 80/100\n",
      "2/2 [==============================] - 0s 7ms/step - loss: 6926.3892 - accuracy: 0.0000e+00\n",
      "Epoch 81/100\n",
      "2/2 [==============================] - 0s 7ms/step - loss: 6917.1748 - accuracy: 0.0500\n",
      "Epoch 82/100\n",
      "2/2 [==============================] - 0s 7ms/step - loss: 6908.3799 - accuracy: 0.0000e+00\n",
      "Epoch 83/100\n",
      "2/2 [==============================] - 0s 7ms/step - loss: 6903.9326 - accuracy: 0.1750\n",
      "Epoch 84/100\n",
      "2/2 [==============================] - 0s 7ms/step - loss: 6901.1406 - accuracy: 0.0250\n",
      "Epoch 85/100\n",
      "2/2 [==============================] - 0s 7ms/step - loss: 6891.9624 - accuracy: 0.0250\n",
      "Epoch 86/100\n",
      "2/2 [==============================] - 0s 7ms/step - loss: 6885.9521 - accuracy: 0.0250\n",
      "Epoch 87/100\n",
      "2/2 [==============================] - 0s 7ms/step - loss: 6880.3892 - accuracy: 0.0000e+00\n",
      "Epoch 88/100\n",
      "2/2 [==============================] - 0s 7ms/step - loss: 6875.0820 - accuracy: 0.0750\n",
      "Epoch 89/100\n",
      "2/2 [==============================] - 0s 7ms/step - loss: 6867.3779 - accuracy: 0.1250\n",
      "Epoch 90/100\n",
      "2/2 [==============================] - 0s 7ms/step - loss: 6863.2944 - accuracy: 0.2250\n",
      "Epoch 91/100\n",
      "2/2 [==============================] - 0s 7ms/step - loss: 6856.4609 - accuracy: 0.3000\n",
      "Epoch 92/100\n",
      "2/2 [==============================] - 0s 7ms/step - loss: 6849.4531 - accuracy: 0.1000\n",
      "Epoch 93/100\n",
      "2/2 [==============================] - 0s 7ms/step - loss: 6845.3994 - accuracy: 0.1000\n",
      "Epoch 94/100\n",
      "2/2 [==============================] - 0s 7ms/step - loss: 6838.9204 - accuracy: 0.0250\n",
      "Epoch 95/100\n",
      "2/2 [==============================] - 0s 7ms/step - loss: 6838.7578 - accuracy: 0.1500\n",
      "Epoch 96/100\n",
      "2/2 [==============================] - 0s 7ms/step - loss: 6827.1982 - accuracy: 0.1000\n",
      "Epoch 97/100\n",
      "2/2 [==============================] - 0s 7ms/step - loss: 6824.6787 - accuracy: 0.1000\n",
      "Epoch 98/100\n",
      "2/2 [==============================] - 0s 7ms/step - loss: 6817.1392 - accuracy: 0.0750\n",
      "Epoch 99/100\n",
      "2/2 [==============================] - 0s 7ms/step - loss: 6810.2031 - accuracy: 0.0750\n",
      "Epoch 100/100\n",
      "2/2 [==============================] - 0s 7ms/step - loss: 6802.6045 - accuracy: 0.0250\n",
      "CPU times: user 5.27 s, sys: 458 ms, total: 5.73 s\n",
      "Wall time: 5.06 s\n"
     ]
    }
   ],
   "source": [
    "%%time\n",
    "variational_nn_model.fit(X,y,tensorboard_log_dir=\"tutorial/data\")"
   ]
  },
  {
   "cell_type": "code",
   "execution_count": 58,
   "id": "9957a7cc",
   "metadata": {},
   "outputs": [
    {
     "name": "stdout",
     "output_type": "stream",
     "text": [
      "True label: \u001b[1m \u001b[92m vehicule \u001b[0m\n",
      "pret vehicule ci-joint pret vehicule\n"
     ]
    },
    {
     "data": {
      "image/png": "[encoded data removed]",
      "text/plain": [
       "<Figure size 432x288 with 1 Axes>"
      ]
     },
     "metadata": {
      "needs_background": "light"
     },
     "output_type": "display_data"
    }
   ],
   "source": [
    "i = 9\n",
    "analyse_and_plot_model_predictions(X, y, variational_nn_model, i)"
   ]
  },
  {
   "cell_type": "code",
   "execution_count": 33,
   "id": "5c4e2f79",
   "metadata": {},
   "outputs": [],
   "source": [
    "from melusine.models.neural_architectures import flipout_cnn_model\n",
    "flipout_nn_model = NeuralModel(architecture_function=flipout_cnn_model,\n",
    "                       pretrained_embedding=pretrained_embedding,\n",
    "                       text_input_column=\"clean_text\",\n",
    "                       batch_size=20,\n",
    "                       meta_input_list=[],\n",
    "                       n_epochs=100)"
   ]
  },
  {
   "cell_type": "code",
   "execution_count": 34,
   "id": "c2c55b56",
   "metadata": {},
   "outputs": [
    {
     "name": "stdout",
     "output_type": "stream",
     "text": [
      "Epoch 1/100\n",
      "2/2 [==============================] - 2s 408ms/step - loss: 7850.7695 - accuracy: 0.0500\n",
      "Epoch 2/100\n",
      "2/2 [==============================] - 0s 10ms/step - loss: 7844.2422 - accuracy: 0.0750\n",
      "Epoch 3/100\n",
      "2/2 [==============================] - 0s 9ms/step - loss: 7837.7280 - accuracy: 0.1500\n",
      "Epoch 4/100\n",
      "2/2 [==============================] - 0s 9ms/step - loss: 7831.2280 - accuracy: 0.1250\n",
      "Epoch 5/100\n",
      "2/2 [==============================] - 0s 9ms/step - loss: 7824.7412 - accuracy: 0.1000\n",
      "Epoch 6/100\n",
      "2/2 [==============================] - 0s 9ms/step - loss: 7818.2671 - accuracy: 0.2500\n",
      "Epoch 7/100\n",
      "2/2 [==============================] - 0s 9ms/step - loss: 7811.8062 - accuracy: 0.2000\n",
      "Epoch 8/100\n",
      "2/2 [==============================] - 0s 9ms/step - loss: 7805.3594 - accuracy: 0.2250\n",
      "Epoch 9/100\n",
      "2/2 [==============================] - 0s 9ms/step - loss: 7798.9243 - accuracy: 0.1750\n",
      "Epoch 10/100\n",
      "2/2 [==============================] - 0s 9ms/step - loss: 7792.5015 - accuracy: 0.2250\n",
      "Epoch 11/100\n",
      "2/2 [==============================] - 0s 9ms/step - loss: 7786.0913 - accuracy: 0.3250\n",
      "Epoch 12/100\n",
      "2/2 [==============================] - 0s 9ms/step - loss: 7779.6953 - accuracy: 0.3250\n",
      "Epoch 13/100\n",
      "2/2 [==============================] - 0s 9ms/step - loss: 7773.3096 - accuracy: 0.2750\n",
      "Epoch 14/100\n",
      "2/2 [==============================] - 0s 9ms/step - loss: 7766.9360 - accuracy: 0.2750\n",
      "Epoch 15/100\n",
      "2/2 [==============================] - 0s 10ms/step - loss: 7760.5752 - accuracy: 0.3250\n",
      "Epoch 16/100\n",
      "2/2 [==============================] - 0s 9ms/step - loss: 7754.2251 - accuracy: 0.3250\n",
      "Epoch 17/100\n",
      "2/2 [==============================] - 0s 9ms/step - loss: 7747.8843 - accuracy: 0.3250\n",
      "Epoch 18/100\n",
      "2/2 [==============================] - 0s 9ms/step - loss: 7741.5571 - accuracy: 0.3250\n",
      "Epoch 19/100\n",
      "2/2 [==============================] - 0s 10ms/step - loss: 7735.2393 - accuracy: 0.3000\n",
      "Epoch 20/100\n",
      "2/2 [==============================] - 0s 10ms/step - loss: 7728.9282 - accuracy: 0.3500\n",
      "Epoch 21/100\n",
      "2/2 [==============================] - 0s 9ms/step - loss: 7722.6299 - accuracy: 0.3250\n",
      "Epoch 22/100\n",
      "2/2 [==============================] - 0s 10ms/step - loss: 7716.3389 - accuracy: 0.3250\n",
      "Epoch 23/100\n",
      "2/2 [==============================] - 0s 9ms/step - loss: 7710.0596 - accuracy: 0.3250\n",
      "Epoch 24/100\n",
      "2/2 [==============================] - 0s 9ms/step - loss: 7703.7866 - accuracy: 0.3250\n",
      "Epoch 25/100\n",
      "2/2 [==============================] - 0s 9ms/step - loss: 7697.5244 - accuracy: 0.3250\n",
      "Epoch 26/100\n",
      "2/2 [==============================] - 0s 9ms/step - loss: 7691.2710 - accuracy: 0.3250\n",
      "Epoch 27/100\n",
      "2/2 [==============================] - 0s 9ms/step - loss: 7685.0234 - accuracy: 0.3250\n",
      "Epoch 28/100\n",
      "2/2 [==============================] - 0s 10ms/step - loss: 7678.7822 - accuracy: 0.3250\n",
      "Epoch 29/100\n",
      "2/2 [==============================] - 0s 9ms/step - loss: 7672.5532 - accuracy: 0.3250\n",
      "Epoch 30/100\n",
      "2/2 [==============================] - 0s 12ms/step - loss: 7666.3296 - accuracy: 0.3250\n",
      "Epoch 31/100\n",
      "2/2 [==============================] - 0s 9ms/step - loss: 7660.1123 - accuracy: 0.3250\n",
      "Epoch 32/100\n",
      "2/2 [==============================] - 0s 10ms/step - loss: 7653.9033 - accuracy: 0.3250\n",
      "Epoch 33/100\n",
      "2/2 [==============================] - 0s 9ms/step - loss: 7647.6938 - accuracy: 0.3250\n",
      "Epoch 34/100\n",
      "2/2 [==============================] - 0s 9ms/step - loss: 7641.4951 - accuracy: 0.3250\n",
      "Epoch 35/100\n",
      "2/2 [==============================] - 0s 9ms/step - loss: 7635.3096 - accuracy: 0.3250\n",
      "Epoch 36/100\n",
      "2/2 [==============================] - 0s 10ms/step - loss: 7629.1196 - accuracy: 0.3250\n",
      "Epoch 37/100\n",
      "2/2 [==============================] - 0s 9ms/step - loss: 7622.9390 - accuracy: 0.3250\n",
      "Epoch 38/100\n",
      "2/2 [==============================] - 0s 9ms/step - loss: 7616.7656 - accuracy: 0.3250\n",
      "Epoch 39/100\n",
      "2/2 [==============================] - 0s 11ms/step - loss: 7610.5947 - accuracy: 0.3250\n",
      "Epoch 40/100\n",
      "2/2 [==============================] - 0s 12ms/step - loss: 7604.4312 - accuracy: 0.3250\n",
      "Epoch 41/100\n",
      "2/2 [==============================] - 0s 10ms/step - loss: 7598.2725 - accuracy: 0.3250\n",
      "Epoch 42/100\n",
      "2/2 [==============================] - 0s 9ms/step - loss: 7592.1172 - accuracy: 0.3250\n",
      "Epoch 43/100\n",
      "2/2 [==============================] - 0s 9ms/step - loss: 7585.9678 - accuracy: 0.3250\n",
      "Epoch 44/100\n",
      "2/2 [==============================] - 0s 10ms/step - loss: 7579.8164 - accuracy: 0.3250\n",
      "Epoch 45/100\n",
      "2/2 [==============================] - 0s 11ms/step - loss: 7573.6782 - accuracy: 0.3250\n",
      "Epoch 46/100\n",
      "2/2 [==============================] - 0s 11ms/step - loss: 7567.5405 - accuracy: 0.3250\n",
      "Epoch 47/100\n",
      "2/2 [==============================] - 0s 10ms/step - loss: 7561.4092 - accuracy: 0.3250\n",
      "Epoch 48/100\n",
      "2/2 [==============================] - 0s 10ms/step - loss: 7555.2764 - accuracy: 0.3250\n",
      "Epoch 49/100\n",
      "2/2 [==============================] - 0s 9ms/step - loss: 7549.1562 - accuracy: 0.3250\n",
      "Epoch 50/100\n",
      "2/2 [==============================] - 0s 9ms/step - loss: 7543.0391 - accuracy: 0.3250\n",
      "Epoch 51/100\n",
      "2/2 [==============================] - 0s 9ms/step - loss: 7536.9111 - accuracy: 0.3250\n",
      "Epoch 52/100\n",
      "2/2 [==============================] - 0s 9ms/step - loss: 7530.7954 - accuracy: 0.3250\n",
      "Epoch 53/100\n",
      "2/2 [==============================] - 0s 9ms/step - loss: 7524.6846 - accuracy: 0.3250\n",
      "Epoch 54/100\n",
      "2/2 [==============================] - 0s 9ms/step - loss: 7518.5830 - accuracy: 0.3250\n",
      "Epoch 55/100\n",
      "2/2 [==============================] - 0s 9ms/step - loss: 7512.4727 - accuracy: 0.3250\n",
      "Epoch 56/100\n",
      "2/2 [==============================] - 0s 9ms/step - loss: 7506.3701 - accuracy: 0.3250\n",
      "Epoch 57/100\n",
      "2/2 [==============================] - 0s 9ms/step - loss: 7500.2783 - accuracy: 0.3250\n",
      "Epoch 58/100\n",
      "2/2 [==============================] - 0s 9ms/step - loss: 7494.1875 - accuracy: 0.3250\n",
      "Epoch 59/100\n",
      "2/2 [==============================] - 0s 9ms/step - loss: 7488.0923 - accuracy: 0.3250\n",
      "Epoch 60/100\n",
      "2/2 [==============================] - 0s 9ms/step - loss: 7482.0063 - accuracy: 0.3250\n",
      "Epoch 61/100\n",
      "2/2 [==============================] - 0s 9ms/step - loss: 7475.9233 - accuracy: 0.3250\n",
      "Epoch 62/100\n",
      "2/2 [==============================] - 0s 9ms/step - loss: 7469.8389 - accuracy: 0.3250\n",
      "Epoch 63/100\n",
      "2/2 [==============================] - 0s 9ms/step - loss: 7463.7686 - accuracy: 0.3250\n",
      "Epoch 64/100\n",
      "2/2 [==============================] - 0s 10ms/step - loss: 7457.7007 - accuracy: 0.3250\n",
      "Epoch 65/100\n",
      "2/2 [==============================] - 0s 9ms/step - loss: 7451.6157 - accuracy: 0.3250\n",
      "Epoch 66/100\n",
      "2/2 [==============================] - 0s 9ms/step - loss: 7445.5493 - accuracy: 0.3250\n",
      "Epoch 67/100\n",
      "2/2 [==============================] - 0s 9ms/step - loss: 7439.4814 - accuracy: 0.3250\n",
      "Epoch 68/100\n",
      "2/2 [==============================] - 0s 9ms/step - loss: 7433.4204 - accuracy: 0.3250\n",
      "Epoch 69/100\n",
      "2/2 [==============================] - 0s 9ms/step - loss: 7427.3564 - accuracy: 0.3250\n",
      "Epoch 70/100\n",
      "2/2 [==============================] - 0s 10ms/step - loss: 7421.3032 - accuracy: 0.3250\n",
      "Epoch 71/100\n",
      "2/2 [==============================] - 0s 9ms/step - loss: 7415.2471 - accuracy: 0.3250\n",
      "Epoch 72/100\n",
      "2/2 [==============================] - 0s 9ms/step - loss: 7409.1860 - accuracy: 0.3250\n",
      "Epoch 73/100\n",
      "2/2 [==============================] - 0s 9ms/step - loss: 7403.1392 - accuracy: 0.3250\n",
      "Epoch 74/100\n",
      "2/2 [==============================] - 0s 10ms/step - loss: 7397.0889 - accuracy: 0.3250\n",
      "Epoch 75/100\n",
      "2/2 [==============================] - 0s 9ms/step - loss: 7391.0342 - accuracy: 0.3250\n",
      "Epoch 76/100\n",
      "2/2 [==============================] - 0s 10ms/step - loss: 7384.9907 - accuracy: 0.3250\n",
      "Epoch 77/100\n",
      "2/2 [==============================] - 0s 9ms/step - loss: 7378.9482 - accuracy: 0.3250\n",
      "Epoch 78/100\n",
      "2/2 [==============================] - 0s 10ms/step - loss: 7372.9062 - accuracy: 0.3250\n",
      "Epoch 79/100\n",
      "2/2 [==============================] - 0s 9ms/step - loss: 7366.8657 - accuracy: 0.3250\n",
      "Epoch 80/100\n",
      "2/2 [==============================] - 0s 10ms/step - loss: 7360.8218 - accuracy: 0.3250\n",
      "Epoch 81/100\n",
      "2/2 [==============================] - 0s 9ms/step - loss: 7354.7861 - accuracy: 0.3250\n",
      "Epoch 82/100\n",
      "2/2 [==============================] - 0s 9ms/step - loss: 7348.7529 - accuracy: 0.3250\n",
      "Epoch 83/100\n",
      "2/2 [==============================] - 0s 9ms/step - loss: 7342.7163 - accuracy: 0.3250\n",
      "Epoch 84/100\n",
      "2/2 [==============================] - 0s 10ms/step - loss: 7336.6899 - accuracy: 0.3250\n",
      "Epoch 85/100\n",
      "2/2 [==============================] - 0s 10ms/step - loss: 7330.6592 - accuracy: 0.3250\n",
      "Epoch 86/100\n",
      "2/2 [==============================] - 0s 9ms/step - loss: 7324.6299 - accuracy: 0.3250\n",
      "Epoch 87/100\n",
      "2/2 [==============================] - 0s 9ms/step - loss: 7318.6030 - accuracy: 0.3250\n",
      "Epoch 88/100\n",
      "2/2 [==============================] - 0s 9ms/step - loss: 7312.5796 - accuracy: 0.3250\n",
      "Epoch 89/100\n",
      "2/2 [==============================] - 0s 9ms/step - loss: 7306.5547 - accuracy: 0.3250\n",
      "Epoch 90/100\n",
      "2/2 [==============================] - 0s 9ms/step - loss: 7300.5327 - accuracy: 0.3250\n",
      "Epoch 91/100\n",
      "2/2 [==============================] - 0s 9ms/step - loss: 7294.5127 - accuracy: 0.3250\n",
      "Epoch 92/100\n",
      "2/2 [==============================] - 0s 9ms/step - loss: 7288.4922 - accuracy: 0.3250\n",
      "Epoch 93/100\n",
      "2/2 [==============================] - 0s 9ms/step - loss: 7282.4780 - accuracy: 0.3250\n",
      "Epoch 94/100\n",
      "2/2 [==============================] - 0s 9ms/step - loss: 7276.4600 - accuracy: 0.3250\n",
      "Epoch 95/100\n",
      "2/2 [==============================] - 0s 9ms/step - loss: 7270.4463 - accuracy: 0.3250\n",
      "Epoch 96/100\n",
      "2/2 [==============================] - 0s 9ms/step - loss: 7264.4297 - accuracy: 0.3250\n",
      "Epoch 97/100\n",
      "2/2 [==============================] - 0s 9ms/step - loss: 7258.4189 - accuracy: 0.3250\n",
      "Epoch 98/100\n",
      "2/2 [==============================] - 0s 9ms/step - loss: 7252.4126 - accuracy: 0.3250\n",
      "Epoch 99/100\n",
      "2/2 [==============================] - 0s 9ms/step - loss: 7246.3984 - accuracy: 0.3250\n",
      "Epoch 100/100\n",
      "2/2 [==============================] - 0s 9ms/step - loss: 7240.3906 - accuracy: 0.3250\n",
      "CPU times: user 5.16 s, sys: 775 ms, total: 5.94 s\n",
      "Wall time: 4.69 s\n"
     ]
    }
   ],
   "source": [
    "%%time\n",
    "flipout_nn_model.fit(X,y,tensorboard_log_dir=\"tutorial/data\")"
   ]
  },
  {
   "cell_type": "code",
   "execution_count": 65,
   "id": "6fc29258",
   "metadata": {},
   "outputs": [
    {
     "name": "stdout",
     "output_type": "stream",
     "text": [
      "True label: \u001b[1m \u001b[92m vehicule \u001b[0m\n",
      "pret vehicule ci-joint pret vehicule\n"
     ]
    },
    {
     "data": {
      "image/png": "[encoded data removed]",
      "text/plain": [
       "<Figure size 432x288 with 1 Axes>"
      ]
     },
     "metadata": {
      "needs_background": "light"
     },
     "output_type": "display_data"
    }
   ],
   "source": [
    "i = 9\n",
    "analyse_and_plot_model_predictions(X, y, flipout_nn_model, i)"
   ]
  },
  {
   "cell_type": "markdown",
   "id": "74baa345",
   "metadata": {},
   "source": [
    "## TODO Usecase : what if the labels are incorrects ?"
   ]
  },
  {
   "cell_type": "code",
   "execution_count": 50,
   "id": "af5c275f",
   "metadata": {},
   "outputs": [],
   "source": [
    "## si j'inverse des labels (cause de rush, organisation d'équipes). On augmente l'erreur résiduelle due à la qualité des données. \n",
    "## On peut revenir vers le client avec un diagnostique.\n",
    "## Repérer en particulier les mails qui ont une incertitude forte et les repasser en labellisation.\n",
    "## mettre l'accent dessus."
   ]
  },
  {
   "cell_type": "markdown",
   "id": "15ce7f22",
   "metadata": {},
   "source": [
    "## Usecase : What if a mail has several categories ?"
   ]
  },
  {
   "cell_type": "markdown",
   "id": "4f328762",
   "metadata": {},
   "source": [
    "Let's concatenate 2 mails of differents categories"
   ]
  },
  {
   "cell_type": "code",
   "execution_count": 35,
   "id": "1f1d345d",
   "metadata": {},
   "outputs": [
    {
     "name": "stdout",
     "output_type": "stream",
     "text": [
      "True label: \u001b[1m \u001b[92m adhesion \u001b[0m\n",
      "bulletin de salaire voici ci joint mon bulletin de salaire comme demande.\n"
     ]
    }
   ],
   "source": [
    "i=4\n",
    "true_label_decoded = le.inverse_transform([y[i]])[0]\n",
    "print('True label: \\033[1m \\033[92m {} \\033[0m'.format(str(true_label_decoded)))\n",
    "print(X.loc[i,\"clean_text\"])"
   ]
  },
  {
   "cell_type": "code",
   "execution_count": 36,
   "id": "859a399d",
   "metadata": {},
   "outputs": [
    {
     "name": "stdout",
     "output_type": "stream",
     "text": [
      "True label: \u001b[1m \u001b[92m habitation \u001b[0m\n",
      "modification et extension de ma maison je vous avais contactes car j'avais pour projet d'agrandir ma maison. j'avais recu un devis pour lequel je n'avais pas donne suite, les travaux n'etant pas encore realises. le projet a maintenant ete porte a son terme et je voudrais donc revoir votre offre si possible. je desire garder le meme type de contrat.\n"
     ]
    }
   ],
   "source": [
    "i=5\n",
    "true_label_decoded = le.inverse_transform([y[i]])[0]\n",
    "print('True label: \\033[1m \\033[92m {} \\033[0m'.format(str(true_label_decoded)))\n",
    "print(X.loc[i,\"clean_text\"])"
   ]
  },
  {
   "cell_type": "code",
   "execution_count": 37,
   "id": "8ab70846",
   "metadata": {},
   "outputs": [
    {
     "name": "stderr",
     "output_type": "stream",
     "text": [
      "/opt/conda/lib/python3.7/site-packages/numpy/core/fromnumeric.py:87: VisibleDeprecationWarning: Creating an ndarray from ragged nested sequences (which is a list-or-tuple of lists-or-tuples-or ndarrays with different lengths or shapes) is deprecated. If you meant to do this, you must specify 'dtype=object' when creating the ndarray.\n",
      "  return ufunc.reduce(obj, axis, dtype, out, **passkwargs)\n"
     ]
    }
   ],
   "source": [
    "def fusion_rows(df, indice_1, indice_2):\n",
    "    row_1 = df.loc[indice_1]\n",
    "    row_2 = df.loc[indice_2]\n",
    "    dict_agg = {}\n",
    "\n",
    "    for colname in df.columns:\n",
    "        if colname.startswith(('attachment_type', 'extension__', 'tokens')):\n",
    "            # sum of the values (attachments, extension) and concat the lists of tokens\n",
    "            agg_value = np.sum([row_1[colname], row_2[colname]])\n",
    "        elif colname == \"clean_text\":\n",
    "            # we concatenate with a dot as a separator\n",
    "            agg_value = \". \".join([row_1[colname], row_2[colname]])\n",
    "        else:\n",
    "            # we retain the value of the first email\n",
    "            agg_value = row_2[colname]\n",
    "        dict_agg[colname] = agg_value\n",
    "    row_agg = pd.Series(dict_agg)\n",
    "    df_agg = pd.DataFrame([row_agg])\n",
    "    return df_agg\n",
    "merged = fusion_rows(X, 4, 5)"
   ]
  },
  {
   "cell_type": "code",
   "execution_count": 38,
   "id": "ea1c2d6b",
   "metadata": {},
   "outputs": [
    {
     "data": {
      "text/plain": [
       "\"bulletin de salaire voici ci joint mon bulletin de salaire comme demande.. modification et extension de ma maison je vous avais contactes car j'avais pour projet d'agrandir ma maison. j'avais recu un devis pour lequel je n'avais pas donne suite, les travaux n'etant pas encore realises. le projet a maintenant ete porte a son terme et je voudrais donc revoir votre offre si possible. je desire garder le meme type de contrat.\""
      ]
     },
     "execution_count": 38,
     "metadata": {},
     "output_type": "execute_result"
    }
   ],
   "source": [
    "merged[\"clean_text\"].loc[0]"
   ]
  },
  {
   "cell_type": "code",
   "execution_count": 40,
   "id": "d2ce24e9",
   "metadata": {},
   "outputs": [
    {
     "name": "stdout",
     "output_type": "stream",
     "text": [
      "True label: \u001b[1m \u001b[92m adhesion \u001b[0m\n",
      "Clean text:  bulletin de salaire voici ci joint mon bulletin de salaire comme demande.. modification et extension de ma maison je vous avais contactes car j'avais pour projet d'agrandir ma maison. j'avais recu un devis pour lequel je n'avais pas donne suite, les travaux n'etant pas encore realises. le projet a maintenant ete porte a son terme et je voudrais donc revoir votre offre si possible. je desire garder le meme type de contrat.\n"
     ]
    },
    {
     "data": {
      "image/png": "[encoded data removed]",
      "text/plain": [
       "<Figure size 432x288 with 1 Axes>"
      ]
     },
     "metadata": {
      "needs_background": "light"
     },
     "output_type": "display_data"
    }
   ],
   "source": [
    "analyse_and_plot_model_predictions(merged, [y[4]], nn_model, 0)"
   ]
  },
  {
   "cell_type": "code",
   "execution_count": 42,
   "id": "cd5245c7",
   "metadata": {},
   "outputs": [
    {
     "name": "stdout",
     "output_type": "stream",
     "text": [
      "True label: \u001b[1m \u001b[92m adhesion \u001b[0m\n",
      "Clean text:  bulletin de salaire voici ci joint mon bulletin de salaire comme demande.. modification et extension de ma maison je vous avais contactes car j'avais pour projet d'agrandir ma maison. j'avais recu un devis pour lequel je n'avais pas donne suite, les travaux n'etant pas encore realises. le projet a maintenant ete porte a son terme et je voudrais donc revoir votre offre si possible. je desire garder le meme type de contrat.\n"
     ]
    },
    {
     "data": {
      "image/png": "[encoded data removed]",
      "text/plain": [
       "<Figure size 432x288 with 1 Axes>"
      ]
     },
     "metadata": {
      "needs_background": "light"
     },
     "output_type": "display_data"
    }
   ],
   "source": [
    "analyse_and_plot_model_predictions(merged, [y[4]], variational_nn_model, 0)"
   ]
  },
  {
   "cell_type": "code",
   "execution_count": 44,
   "id": "91162a84",
   "metadata": {},
   "outputs": [
    {
     "name": "stdout",
     "output_type": "stream",
     "text": [
      "True label: \u001b[1m \u001b[92m adhesion \u001b[0m\n",
      "Clean text:  bulletin de salaire voici ci joint mon bulletin de salaire comme demande.. modification et extension de ma maison je vous avais contactes car j'avais pour projet d'agrandir ma maison. j'avais recu un devis pour lequel je n'avais pas donne suite, les travaux n'etant pas encore realises. le projet a maintenant ete porte a son terme et je voudrais donc revoir votre offre si possible. je desire garder le meme type de contrat.\n"
     ]
    },
    {
     "data": {
      "image/png": "[encoded data removed]",
      "text/plain": [
       "<Figure size 432x288 with 1 Axes>"
      ]
     },
     "metadata": {
      "needs_background": "light"
     },
     "output_type": "display_data"
    }
   ],
   "source": [
    "analyse_and_plot_model_predictions(merged, [y[4]], flipout_nn_model, 0)"
   ]
  },
  {
   "cell_type": "markdown",
   "id": "2102cd12",
   "metadata": {},
   "source": [
    "# Train a model on corrupted data to see it we can find out after the examples corrupted.\n",
    "# Or find that we could do multi-label classif."
   ]
  },
  {
   "cell_type": "code",
   "execution_count": 47,
   "id": "da8d5fc6",
   "metadata": {},
   "outputs": [
    {
     "data": {
      "text/plain": [
       "vehicule          13\n",
       "habitation         8\n",
       "resiliation        6\n",
       "compte             3\n",
       "adhesion           3\n",
       "modification       2\n",
       "autres             1\n",
       "bilan              1\n",
       "succession         1\n",
       "regularisation     1\n",
       "sinistres          1\n",
       "Name: label, dtype: int64"
      ]
     },
     "execution_count": 47,
     "metadata": {},
     "output_type": "execute_result"
    }
   ],
   "source": [
    "df_emails_preprocessed['label'].value_counts()"
   ]
  },
  {
   "cell_type": "code",
   "execution_count": 79,
   "id": "46a131af",
   "metadata": {},
   "outputs": [
    {
     "data": {
      "text/plain": [
       "6"
      ]
     },
     "execution_count": 79,
     "metadata": {},
     "output_type": "execute_result"
    }
   ],
   "source": [
    "import random\n",
    "def random_transfer(categories, category_to_transfer):\n",
    "    other_categories = [c for c in categories if c != category_to_transfer]\n",
    "    return random.choice(other_categories)\n",
    "code_vehicule = le.transform([\"vehicule\"])[0]\n",
    "random_transfer(y, code_vehicule)"
   ]
  },
  {
   "cell_type": "code",
   "execution_count": 16,
   "id": "53b5568e",
   "metadata": {},
   "outputs": [
    {
     "data": {
      "text/plain": [
       "0    2018-05-24 11:36:00\n",
       "1    2018-05-24 19:37:00\n",
       "2    2018-05-25 06:45:00\n",
       "3    2018-05-25 10:15:00\n",
       "4    2018-05-25 17:30:00\n",
       "5    2018-05-31 10:28:00\n",
       "6    2018-05-30 15:56:00\n",
       "7    2018-05-31 14:02:00\n",
       "8    2018-05-31 17:10:00\n",
       "9    2018-05-31 08:54:00\n",
       "10   2018-05-30 10:12:00\n",
       "11   2018-05-31 12:44:00\n",
       "12   2018-06-04 09:56:00\n",
       "13   2018-06-04 14:09:00\n",
       "14   2018-01-06 16:03:00\n",
       "15   2018-06-04 10:22:00\n",
       "16   2018-06-04 15:39:00\n",
       "17   2018-06-04 15:49:00\n",
       "18   2018-06-04 18:04:00\n",
       "19   2018-06-04 20:45:00\n",
       "20   2018-06-04 22:28:00\n",
       "21   2018-02-06 11:07:00\n",
       "22   2018-03-06 16:52:00\n",
       "23   2018-06-04 11:19:00\n",
       "24   2018-06-04 10:58:00\n",
       "25   2018-06-04 15:37:00\n",
       "26   2018-06-05 09:04:00\n",
       "27   2018-06-05 10:56:00\n",
       "28   2018-06-05 11:12:00\n",
       "29   2018-06-05 17:37:00\n",
       "30   2018-06-05 10:06:00\n",
       "31   2018-06-05 12:33:00\n",
       "32   2018-06-05 14:11:00\n",
       "33   2018-06-05 16:06:00\n",
       "34   2018-06-07 12:38:00\n",
       "35   2018-06-07 18:22:00\n",
       "36   2018-06-07 15:16:00\n",
       "37   2018-06-07 10:45:00\n",
       "38   2018-06-07 11:40:00\n",
       "39   2018-06-07 16:32:00\n",
       "Name: date, dtype: datetime64[ns]"
      ]
     },
     "execution_count": 16,
     "metadata": {},
     "output_type": "execute_result"
    }
   ],
   "source": [
    "from melusine.prepare_email.metadata_engineering import MetaDate\n",
    "meta = MetaDate()\n",
    "df_date = meta.transform(df_emails_preprocessed)\n",
    "df_date.date"
   ]
  },
  {
   "cell_type": "code",
   "execution_count": 29,
   "id": "90f19e08",
   "metadata": {},
   "outputs": [],
   "source": [
    "import copy\n",
    "def swap_period(df, origin, destination, start_date, end_date, rate):\n",
    "    \"\"\"here we are simulating a period of swap between two services \n",
    "    (because of a rush period for instance)\n",
    "    between the 15 of august and the 1st of september, \n",
    "    half of the emails for vehicles are transfered randomly to the other services\"\"\"\n",
    "    \n",
    "    swapped_df = copy.deepcopy(df)\n",
    "    is_habitation = swapped_df.eval('label == @origin and date > @start_date and date < @end_date')\n",
    "    idx_habitation = is_habitation.index[is_habitation]\n",
    "\n",
    "    n_habitation = len(idx_habitation)\n",
    "    num_to_transfer = int(rate*n_habitation)\n",
    "    idx_to_transfer = np.random.choice(idx_habitation, replace=False, size=num_to_transfer)\n",
    "    swapped_df.loc[:,\"swapped_label\"] = swapped_df.loc[:,\"label\"]\n",
    "    swapped_df.loc[idx_to_transfer,\"swapped_label\"] = destination\n",
    "    #import pdb;pdb.set_trace()\n",
    "    return swapped_df"
   ]
  },
  {
   "cell_type": "code",
   "execution_count": 30,
   "id": "7068794b",
   "metadata": {},
   "outputs": [],
   "source": [
    "swapped_df = swap_period(df_date, \"habitation\", \"adhesion\", \"2017-06-05 00:00:00\", \"2018-06-07 00:00:00\", 0.3)"
   ]
  },
  {
   "cell_type": "code",
   "execution_count": 34,
   "id": "96aea5b4",
   "metadata": {},
   "outputs": [
    {
     "data": {
      "text/plain": [
       "vehicule          13\n",
       "habitation         8\n",
       "resiliation        6\n",
       "compte             3\n",
       "adhesion           3\n",
       "modification       2\n",
       "autres             1\n",
       "bilan              1\n",
       "succession         1\n",
       "regularisation     1\n",
       "sinistres          1\n",
       "Name: label, dtype: int64"
      ]
     },
     "execution_count": 34,
     "metadata": {},
     "output_type": "execute_result"
    }
   ],
   "source": [
    "df_emails_preprocessed.label.value_counts()"
   ]
  },
  {
   "cell_type": "code",
   "execution_count": 35,
   "id": "698ffffe",
   "metadata": {},
   "outputs": [
    {
     "data": {
      "text/html": [
       "<div>\n",
       "<style scoped>\n",
       "    .dataframe tbody tr th:only-of-type {\n",
       "        vertical-align: middle;\n",
       "    }\n",
       "\n",
       "    .dataframe tbody tr th {\n",
       "        vertical-align: top;\n",
       "    }\n",
       "\n",
       "    .dataframe thead th {\n",
       "        text-align: right;\n",
       "    }\n",
       "</style>\n",
       "<table border=\"1\" class=\"dataframe\">\n",
       "  <thead>\n",
       "    <tr style=\"text-align: right;\">\n",
       "      <th>swapped_label</th>\n",
       "      <th>adhesion</th>\n",
       "      <th>autres</th>\n",
       "      <th>bilan</th>\n",
       "      <th>compte</th>\n",
       "      <th>habitation</th>\n",
       "      <th>modification</th>\n",
       "      <th>regularisation</th>\n",
       "      <th>resiliation</th>\n",
       "      <th>sinistres</th>\n",
       "      <th>succession</th>\n",
       "      <th>vehicule</th>\n",
       "    </tr>\n",
       "    <tr>\n",
       "      <th>label</th>\n",
       "      <th></th>\n",
       "      <th></th>\n",
       "      <th></th>\n",
       "      <th></th>\n",
       "      <th></th>\n",
       "      <th></th>\n",
       "      <th></th>\n",
       "      <th></th>\n",
       "      <th></th>\n",
       "      <th></th>\n",
       "      <th></th>\n",
       "    </tr>\n",
       "  </thead>\n",
       "  <tbody>\n",
       "    <tr>\n",
       "      <th>adhesion</th>\n",
       "      <td>3</td>\n",
       "      <td>0</td>\n",
       "      <td>0</td>\n",
       "      <td>0</td>\n",
       "      <td>0</td>\n",
       "      <td>0</td>\n",
       "      <td>0</td>\n",
       "      <td>0</td>\n",
       "      <td>0</td>\n",
       "      <td>0</td>\n",
       "      <td>0</td>\n",
       "    </tr>\n",
       "    <tr>\n",
       "      <th>autres</th>\n",
       "      <td>0</td>\n",
       "      <td>1</td>\n",
       "      <td>0</td>\n",
       "      <td>0</td>\n",
       "      <td>0</td>\n",
       "      <td>0</td>\n",
       "      <td>0</td>\n",
       "      <td>0</td>\n",
       "      <td>0</td>\n",
       "      <td>0</td>\n",
       "      <td>0</td>\n",
       "    </tr>\n",
       "    <tr>\n",
       "      <th>bilan</th>\n",
       "      <td>0</td>\n",
       "      <td>0</td>\n",
       "      <td>1</td>\n",
       "      <td>0</td>\n",
       "      <td>0</td>\n",
       "      <td>0</td>\n",
       "      <td>0</td>\n",
       "      <td>0</td>\n",
       "      <td>0</td>\n",
       "      <td>0</td>\n",
       "      <td>0</td>\n",
       "    </tr>\n",
       "    <tr>\n",
       "      <th>compte</th>\n",
       "      <td>0</td>\n",
       "      <td>0</td>\n",
       "      <td>0</td>\n",
       "      <td>3</td>\n",
       "      <td>0</td>\n",
       "      <td>0</td>\n",
       "      <td>0</td>\n",
       "      <td>0</td>\n",
       "      <td>0</td>\n",
       "      <td>0</td>\n",
       "      <td>0</td>\n",
       "    </tr>\n",
       "    <tr>\n",
       "      <th>habitation</th>\n",
       "      <td>1</td>\n",
       "      <td>0</td>\n",
       "      <td>0</td>\n",
       "      <td>0</td>\n",
       "      <td>7</td>\n",
       "      <td>0</td>\n",
       "      <td>0</td>\n",
       "      <td>0</td>\n",
       "      <td>0</td>\n",
       "      <td>0</td>\n",
       "      <td>0</td>\n",
       "    </tr>\n",
       "    <tr>\n",
       "      <th>modification</th>\n",
       "      <td>0</td>\n",
       "      <td>0</td>\n",
       "      <td>0</td>\n",
       "      <td>0</td>\n",
       "      <td>0</td>\n",
       "      <td>2</td>\n",
       "      <td>0</td>\n",
       "      <td>0</td>\n",
       "      <td>0</td>\n",
       "      <td>0</td>\n",
       "      <td>0</td>\n",
       "    </tr>\n",
       "    <tr>\n",
       "      <th>regularisation</th>\n",
       "      <td>0</td>\n",
       "      <td>0</td>\n",
       "      <td>0</td>\n",
       "      <td>0</td>\n",
       "      <td>0</td>\n",
       "      <td>0</td>\n",
       "      <td>1</td>\n",
       "      <td>0</td>\n",
       "      <td>0</td>\n",
       "      <td>0</td>\n",
       "      <td>0</td>\n",
       "    </tr>\n",
       "    <tr>\n",
       "      <th>resiliation</th>\n",
       "      <td>0</td>\n",
       "      <td>0</td>\n",
       "      <td>0</td>\n",
       "      <td>0</td>\n",
       "      <td>0</td>\n",
       "      <td>0</td>\n",
       "      <td>0</td>\n",
       "      <td>6</td>\n",
       "      <td>0</td>\n",
       "      <td>0</td>\n",
       "      <td>0</td>\n",
       "    </tr>\n",
       "    <tr>\n",
       "      <th>sinistres</th>\n",
       "      <td>0</td>\n",
       "      <td>0</td>\n",
       "      <td>0</td>\n",
       "      <td>0</td>\n",
       "      <td>0</td>\n",
       "      <td>0</td>\n",
       "      <td>0</td>\n",
       "      <td>0</td>\n",
       "      <td>1</td>\n",
       "      <td>0</td>\n",
       "      <td>0</td>\n",
       "    </tr>\n",
       "    <tr>\n",
       "      <th>succession</th>\n",
       "      <td>0</td>\n",
       "      <td>0</td>\n",
       "      <td>0</td>\n",
       "      <td>0</td>\n",
       "      <td>0</td>\n",
       "      <td>0</td>\n",
       "      <td>0</td>\n",
       "      <td>0</td>\n",
       "      <td>0</td>\n",
       "      <td>1</td>\n",
       "      <td>0</td>\n",
       "    </tr>\n",
       "    <tr>\n",
       "      <th>vehicule</th>\n",
       "      <td>0</td>\n",
       "      <td>0</td>\n",
       "      <td>0</td>\n",
       "      <td>0</td>\n",
       "      <td>0</td>\n",
       "      <td>0</td>\n",
       "      <td>0</td>\n",
       "      <td>0</td>\n",
       "      <td>0</td>\n",
       "      <td>0</td>\n",
       "      <td>13</td>\n",
       "    </tr>\n",
       "  </tbody>\n",
       "</table>\n",
       "</div>"
      ],
      "text/plain": [
       "swapped_label   adhesion  autres  bilan  compte  habitation  modification  \\\n",
       "label                                                                       \n",
       "adhesion               3       0      0       0           0             0   \n",
       "autres                 0       1      0       0           0             0   \n",
       "bilan                  0       0      1       0           0             0   \n",
       "compte                 0       0      0       3           0             0   \n",
       "habitation             1       0      0       0           7             0   \n",
       "modification           0       0      0       0           0             2   \n",
       "regularisation         0       0      0       0           0             0   \n",
       "resiliation            0       0      0       0           0             0   \n",
       "sinistres              0       0      0       0           0             0   \n",
       "succession             0       0      0       0           0             0   \n",
       "vehicule               0       0      0       0           0             0   \n",
       "\n",
       "swapped_label   regularisation  resiliation  sinistres  succession  vehicule  \n",
       "label                                                                         \n",
       "adhesion                     0            0          0           0         0  \n",
       "autres                       0            0          0           0         0  \n",
       "bilan                        0            0          0           0         0  \n",
       "compte                       0            0          0           0         0  \n",
       "habitation                   0            0          0           0         0  \n",
       "modification                 0            0          0           0         0  \n",
       "regularisation               1            0          0           0         0  \n",
       "resiliation                  0            6          0           0         0  \n",
       "sinistres                    0            0          1           0         0  \n",
       "succession                   0            0          0           1         0  \n",
       "vehicule                     0            0          0           0        13  "
      ]
     },
     "execution_count": 35,
     "metadata": {},
     "output_type": "execute_result"
    }
   ],
   "source": [
    "pd.crosstab(swapped_df[\"label\"], swapped_df[\"swapped_label\"])"
   ]
  },
  {
   "cell_type": "markdown",
   "id": "8f5b023f",
   "metadata": {},
   "source": [
    "## Let's train a model on this swapped data"
   ]
  },
  {
   "cell_type": "code",
   "execution_count": 37,
   "id": "91ec7c7c",
   "metadata": {},
   "outputs": [],
   "source": [
    "X = pd.concat([swapped_df['clean_text'],df_meta],axis=1)"
   ]
  },
  {
   "cell_type": "code",
   "execution_count": null,
   "id": "75aaa7ae",
   "metadata": {},
   "outputs": [],
   "source": []
  },
  {
   "cell_type": "code",
   "execution_count": null,
   "id": "8cb98dae",
   "metadata": {},
   "outputs": [],
   "source": []
  },
  {
   "cell_type": "code",
   "execution_count": null,
   "id": "ea4cbc3e",
   "metadata": {},
   "outputs": [],
   "source": [
    "from sklearn.preprocessing import LabelEncoder\n",
    "y = df_emails_preprocessed['label']\n",
    "le = LabelEncoder()\n",
    "y = le.fit_transform(y)"
   ]
  },
  {
   "cell_type": "code",
   "execution_count": 39,
   "id": "f4a55607",
   "metadata": {},
   "outputs": [],
   "source": [
    "from melusine.models.neural_architectures import bayesian_cnn_with_meta_model\n",
    "nn_model = NeuralModel(architecture_function=bayesian_cnn_with_meta_model,\n",
    "                       pretrained_embedding=pretrained_embedding,\n",
    "                       text_input_column=\"clean_text\",\n",
    "                       batch_size=20,\n",
    "                       meta_input_list=['extension','attachment_type', 'dayofweek', 'hour', 'min'],\n",
    "                       n_epochs=100)"
   ]
  },
  {
   "cell_type": "code",
   "execution_count": 40,
   "id": "219c85d7",
   "metadata": {},
   "outputs": [
    {
     "name": "stdout",
     "output_type": "stream",
     "text": [
      "Epoch 1/100\n",
      "2/2 [==============================] - 3s 433ms/step - loss: 2.4141 - accuracy: 0.0000e+00\n",
      "Epoch 2/100\n",
      "2/2 [==============================] - 0s 14ms/step - loss: 2.2591 - accuracy: 0.2750\n",
      "Epoch 3/100\n",
      "2/2 [==============================] - 0s 14ms/step - loss: 2.0390 - accuracy: 0.3250\n",
      "Epoch 4/100\n",
      "2/2 [==============================] - 0s 14ms/step - loss: 2.0689 - accuracy: 0.2500\n",
      "Epoch 5/100\n",
      "2/2 [==============================] - 0s 14ms/step - loss: 2.0115 - accuracy: 0.3500\n",
      "Epoch 6/100\n",
      "2/2 [==============================] - 0s 14ms/step - loss: 1.9891 - accuracy: 0.3250\n",
      "Epoch 7/100\n",
      "2/2 [==============================] - 0s 14ms/step - loss: 1.9330 - accuracy: 0.2250\n",
      "Epoch 8/100\n",
      "2/2 [==============================] - 0s 14ms/step - loss: 1.8742 - accuracy: 0.3000\n",
      "Epoch 9/100\n",
      "2/2 [==============================] - 0s 14ms/step - loss: 1.7708 - accuracy: 0.4000\n",
      "Epoch 10/100\n",
      "2/2 [==============================] - 0s 14ms/step - loss: 1.6399 - accuracy: 0.4250\n",
      "Epoch 11/100\n",
      "2/2 [==============================] - 0s 14ms/step - loss: 1.5512 - accuracy: 0.5250\n",
      "Epoch 12/100\n",
      "2/2 [==============================] - 0s 14ms/step - loss: 1.6271 - accuracy: 0.4500\n",
      "Epoch 13/100\n",
      "2/2 [==============================] - 0s 14ms/step - loss: 1.4048 - accuracy: 0.4500\n",
      "Epoch 14/100\n",
      "2/2 [==============================] - 0s 14ms/step - loss: 1.4527 - accuracy: 0.4500\n",
      "Epoch 15/100\n",
      "2/2 [==============================] - 0s 14ms/step - loss: 1.2450 - accuracy: 0.5500\n",
      "Epoch 16/100\n",
      "2/2 [==============================] - 0s 14ms/step - loss: 1.1180 - accuracy: 0.7000\n",
      "Epoch 17/100\n",
      "2/2 [==============================] - 0s 14ms/step - loss: 0.9463 - accuracy: 0.7500\n",
      "Epoch 18/100\n",
      "2/2 [==============================] - 0s 14ms/step - loss: 0.8705 - accuracy: 0.6750\n",
      "Epoch 19/100\n",
      "2/2 [==============================] - 0s 14ms/step - loss: 0.8021 - accuracy: 0.7250\n",
      "Epoch 20/100\n",
      "2/2 [==============================] - 0s 14ms/step - loss: 0.7178 - accuracy: 0.7750\n",
      "Epoch 21/100\n",
      "2/2 [==============================] - 0s 13ms/step - loss: 0.7558 - accuracy: 0.6750\n",
      "Epoch 22/100\n",
      "2/2 [==============================] - 0s 14ms/step - loss: 0.5789 - accuracy: 0.8500\n",
      "Epoch 23/100\n",
      "2/2 [==============================] - 0s 14ms/step - loss: 0.6314 - accuracy: 0.7750\n",
      "Epoch 24/100\n",
      "2/2 [==============================] - 0s 14ms/step - loss: 0.4858 - accuracy: 0.8250\n",
      "Epoch 25/100\n",
      "2/2 [==============================] - 0s 14ms/step - loss: 0.6021 - accuracy: 0.7750\n",
      "Epoch 26/100\n",
      "2/2 [==============================] - 0s 13ms/step - loss: 0.4028 - accuracy: 0.8750\n",
      "Epoch 27/100\n",
      "2/2 [==============================] - 0s 13ms/step - loss: 0.3739 - accuracy: 0.8750\n",
      "Epoch 28/100\n",
      "2/2 [==============================] - 0s 13ms/step - loss: 0.3728 - accuracy: 0.8750\n",
      "Epoch 29/100\n",
      "2/2 [==============================] - 0s 13ms/step - loss: 0.3511 - accuracy: 0.9000\n",
      "Epoch 30/100\n",
      "2/2 [==============================] - 0s 14ms/step - loss: 0.3033 - accuracy: 0.9000\n",
      "Epoch 31/100\n",
      "2/2 [==============================] - 0s 14ms/step - loss: 0.3155 - accuracy: 0.9000\n",
      "Epoch 32/100\n",
      "2/2 [==============================] - 0s 13ms/step - loss: 0.2993 - accuracy: 0.9250\n",
      "Epoch 33/100\n",
      "2/2 [==============================] - 0s 14ms/step - loss: 0.2831 - accuracy: 0.9250\n",
      "Epoch 34/100\n",
      "2/2 [==============================] - 0s 13ms/step - loss: 0.1885 - accuracy: 0.9500\n",
      "Epoch 35/100\n",
      "2/2 [==============================] - 0s 13ms/step - loss: 0.2300 - accuracy: 0.9250\n",
      "Epoch 36/100\n",
      "2/2 [==============================] - 0s 13ms/step - loss: 0.1919 - accuracy: 0.9500\n",
      "Epoch 37/100\n",
      "2/2 [==============================] - 0s 13ms/step - loss: 0.1489 - accuracy: 0.9250\n",
      "Epoch 38/100\n",
      "2/2 [==============================] - 0s 14ms/step - loss: 0.1294 - accuracy: 0.9250\n",
      "Epoch 39/100\n",
      "2/2 [==============================] - 0s 13ms/step - loss: 0.1041 - accuracy: 1.0000\n",
      "Epoch 40/100\n",
      "2/2 [==============================] - 0s 13ms/step - loss: 0.1489 - accuracy: 0.9750\n",
      "Epoch 41/100\n",
      "2/2 [==============================] - 0s 13ms/step - loss: 0.0379 - accuracy: 1.0000\n",
      "Epoch 42/100\n",
      "2/2 [==============================] - 0s 14ms/step - loss: 0.0398 - accuracy: 1.0000\n",
      "Epoch 43/100\n",
      "2/2 [==============================] - 0s 13ms/step - loss: 0.0831 - accuracy: 0.9500\n",
      "Epoch 44/100\n",
      "2/2 [==============================] - 0s 13ms/step - loss: 0.1407 - accuracy: 0.9750\n",
      "Epoch 45/100\n",
      "2/2 [==============================] - 0s 13ms/step - loss: 0.0807 - accuracy: 1.0000\n",
      "Epoch 46/100\n",
      "2/2 [==============================] - 0s 13ms/step - loss: 0.0316 - accuracy: 1.0000\n",
      "Epoch 47/100\n",
      "2/2 [==============================] - 0s 13ms/step - loss: 0.0323 - accuracy: 1.0000\n",
      "Epoch 48/100\n",
      "2/2 [==============================] - 0s 13ms/step - loss: 0.0678 - accuracy: 0.9750\n",
      "Epoch 49/100\n",
      "2/2 [==============================] - 0s 13ms/step - loss: 0.0327 - accuracy: 1.0000\n",
      "Epoch 50/100\n",
      "2/2 [==============================] - 0s 13ms/step - loss: 0.0372 - accuracy: 1.0000\n",
      "Epoch 51/100\n",
      "2/2 [==============================] - 0s 13ms/step - loss: 0.0380 - accuracy: 0.9750\n",
      "Epoch 52/100\n",
      "2/2 [==============================] - 0s 14ms/step - loss: 0.0335 - accuracy: 1.0000\n",
      "Epoch 53/100\n",
      "2/2 [==============================] - 0s 14ms/step - loss: 0.0718 - accuracy: 0.9500\n",
      "Epoch 54/100\n",
      "2/2 [==============================] - 0s 13ms/step - loss: 0.0242 - accuracy: 1.0000\n",
      "Epoch 55/100\n",
      "2/2 [==============================] - 0s 13ms/step - loss: 0.0243 - accuracy: 1.0000\n",
      "Epoch 56/100\n",
      "2/2 [==============================] - 0s 14ms/step - loss: 0.0120 - accuracy: 1.0000\n",
      "Epoch 57/100\n",
      "2/2 [==============================] - 0s 13ms/step - loss: 0.0159 - accuracy: 1.0000\n",
      "Epoch 58/100\n",
      "2/2 [==============================] - 0s 14ms/step - loss: 0.0472 - accuracy: 1.0000\n",
      "Epoch 59/100\n",
      "2/2 [==============================] - 0s 14ms/step - loss: 0.0450 - accuracy: 1.0000\n",
      "Epoch 60/100\n",
      "2/2 [==============================] - 0s 13ms/step - loss: 0.3949 - accuracy: 0.9500\n",
      "Epoch 61/100\n",
      "2/2 [==============================] - 0s 14ms/step - loss: 0.0402 - accuracy: 0.9750\n",
      "Epoch 62/100\n",
      "2/2 [==============================] - 0s 14ms/step - loss: 0.0450 - accuracy: 0.9750\n",
      "Epoch 63/100\n",
      "2/2 [==============================] - 0s 13ms/step - loss: 0.1329 - accuracy: 0.9750\n",
      "Epoch 64/100\n",
      "2/2 [==============================] - 0s 14ms/step - loss: 0.0676 - accuracy: 0.9500\n",
      "Epoch 65/100\n",
      "2/2 [==============================] - 0s 14ms/step - loss: 0.0124 - accuracy: 1.0000\n",
      "Epoch 66/100\n",
      "2/2 [==============================] - 0s 14ms/step - loss: 0.0266 - accuracy: 1.0000\n",
      "Epoch 67/100\n",
      "2/2 [==============================] - 0s 13ms/step - loss: 0.2456 - accuracy: 0.9500\n",
      "Epoch 68/100\n",
      "2/2 [==============================] - 0s 14ms/step - loss: 0.1067 - accuracy: 0.9500\n",
      "Epoch 69/100\n",
      "2/2 [==============================] - 0s 14ms/step - loss: 0.0873 - accuracy: 0.9750\n",
      "Epoch 70/100\n",
      "2/2 [==============================] - 0s 14ms/step - loss: 0.1006 - accuracy: 0.9750\n",
      "Epoch 71/100\n",
      "2/2 [==============================] - 0s 14ms/step - loss: 0.0829 - accuracy: 0.9750\n",
      "Epoch 72/100\n",
      "2/2 [==============================] - 0s 14ms/step - loss: 0.0155 - accuracy: 1.0000\n",
      "Epoch 73/100\n",
      "2/2 [==============================] - 0s 14ms/step - loss: 0.0884 - accuracy: 0.9750\n",
      "Epoch 74/100\n",
      "2/2 [==============================] - 0s 14ms/step - loss: 0.4372 - accuracy: 0.9500\n",
      "Epoch 75/100\n",
      "2/2 [==============================] - 0s 14ms/step - loss: 0.0204 - accuracy: 1.0000\n",
      "Epoch 76/100\n",
      "2/2 [==============================] - 0s 13ms/step - loss: 0.8397 - accuracy: 0.8250\n",
      "Epoch 77/100\n",
      "2/2 [==============================] - 0s 13ms/step - loss: 0.0208 - accuracy: 1.0000\n",
      "Epoch 78/100\n",
      "2/2 [==============================] - 0s 14ms/step - loss: 0.4043 - accuracy: 0.9000\n",
      "Epoch 79/100\n",
      "2/2 [==============================] - 0s 14ms/step - loss: 0.1798 - accuracy: 0.9500\n",
      "Epoch 80/100\n",
      "2/2 [==============================] - 0s 14ms/step - loss: 0.0630 - accuracy: 0.9750\n",
      "Epoch 81/100\n",
      "2/2 [==============================] - 0s 14ms/step - loss: 0.0084 - accuracy: 1.0000\n",
      "Epoch 82/100\n",
      "2/2 [==============================] - 0s 13ms/step - loss: 0.0536 - accuracy: 1.0000\n",
      "Epoch 83/100\n",
      "2/2 [==============================] - 0s 13ms/step - loss: 0.0829 - accuracy: 0.9500\n",
      "Epoch 84/100\n",
      "2/2 [==============================] - 0s 13ms/step - loss: 0.0566 - accuracy: 0.9750\n",
      "Epoch 85/100\n",
      "2/2 [==============================] - 0s 14ms/step - loss: 0.0379 - accuracy: 0.9750\n",
      "Epoch 86/100\n",
      "2/2 [==============================] - 0s 14ms/step - loss: 0.0140 - accuracy: 1.0000\n",
      "Epoch 87/100\n",
      "2/2 [==============================] - 0s 14ms/step - loss: 0.0042 - accuracy: 1.0000\n",
      "Epoch 88/100\n",
      "2/2 [==============================] - 0s 14ms/step - loss: 0.0027 - accuracy: 1.0000\n",
      "Epoch 89/100\n",
      "2/2 [==============================] - 0s 14ms/step - loss: 0.0211 - accuracy: 1.0000\n",
      "Epoch 90/100\n",
      "2/2 [==============================] - 0s 13ms/step - loss: 0.0208 - accuracy: 1.0000\n",
      "Epoch 91/100\n",
      "2/2 [==============================] - 0s 14ms/step - loss: 0.0058 - accuracy: 1.0000\n",
      "Epoch 92/100\n",
      "2/2 [==============================] - 0s 14ms/step - loss: 0.0083 - accuracy: 1.0000\n",
      "Epoch 93/100\n",
      "2/2 [==============================] - 0s 14ms/step - loss: 0.0044 - accuracy: 1.0000\n",
      "Epoch 94/100\n",
      "2/2 [==============================] - 0s 14ms/step - loss: 0.0140 - accuracy: 1.0000\n",
      "Epoch 95/100\n",
      "2/2 [==============================] - 0s 13ms/step - loss: 0.0051 - accuracy: 1.0000\n",
      "Epoch 96/100\n",
      "2/2 [==============================] - 0s 14ms/step - loss: 0.0020 - accuracy: 1.0000\n",
      "Epoch 97/100\n",
      "2/2 [==============================] - 0s 14ms/step - loss: 0.0422 - accuracy: 0.9750\n",
      "Epoch 98/100\n",
      "2/2 [==============================] - 0s 13ms/step - loss: 0.0022 - accuracy: 1.0000\n",
      "Epoch 99/100\n",
      "2/2 [==============================] - 0s 13ms/step - loss: 0.0055 - accuracy: 1.0000\n",
      "Epoch 100/100\n",
      "2/2 [==============================] - 0s 13ms/step - loss: 0.0137 - accuracy: 1.0000\n"
     ]
    }
   ],
   "source": [
    "nn_model.fit(X,y,tensorboard_log_dir=\"tutorial/data\")"
   ]
  },
  {
   "cell_type": "code",
   "execution_count": null,
   "id": "e079cf63",
   "metadata": {},
   "outputs": [],
   "source": []
  },
  {
   "cell_type": "code",
   "execution_count": null,
   "id": "5fd0e351",
   "metadata": {},
   "outputs": [],
   "source": []
  },
  {
   "cell_type": "code",
   "execution_count": null,
   "id": "74cc5cb5",
   "metadata": {},
   "outputs": [],
   "source": []
  },
  {
   "cell_type": "code",
   "execution_count": null,
   "id": "94b4fd27",
   "metadata": {},
   "outputs": [],
   "source": [
    "epistemic : sur des data qui ont peu été vues.\n",
    "aleatoric : l'erreur du à la labellisation"
   ]
  },
  {
   "cell_type": "code",
   "execution_count": 74,
   "id": "0ab64663",
   "metadata": {},
   "outputs": [
    {
     "data": {
      "text/plain": [
       "array([ 4, 10,  3,  0,  0,  4,  7, 10,  1, 10,  2,  5, 10, 10,  4,  7,  7,\n",
       "       10,  0,  9,  4, 10,  4,  7, 10, 10,  6,  7,  3,  8, 10, 10, 10,  4,\n",
       "        7,  3,  5,  4,  4, 10])"
      ]
     },
     "execution_count": 74,
     "metadata": {},
     "output_type": "execute_result"
    }
   ],
   "source": [
    "y"
   ]
  },
  {
   "cell_type": "code",
   "execution_count": 86,
   "id": "dcdc6e65",
   "metadata": {},
   "outputs": [],
   "source": [
    "from tensorflow_probability import distributions as tfd\n",
    "features = tfd.Normal(loc=0., scale=1.).sample(int(5))\n",
    "bernoulli = tfd.Bernoulli(logits=1.618 * features)"
   ]
  },
  {
   "cell_type": "code",
   "execution_count": 87,
   "id": "6a864185",
   "metadata": {},
   "outputs": [
    {
     "data": {
      "text/plain": [
       "<tf.Tensor: shape=(5,), dtype=float32, numpy=\n",
       "array([0.8882861 , 0.9331638 , 0.95070904, 0.15552284, 0.2400191 ],\n",
       "      dtype=float32)>"
      ]
     },
     "execution_count": 87,
     "metadata": {},
     "output_type": "execute_result"
    }
   ],
   "source": [
    "bernoulli.mean()"
   ]
  },
  {
   "cell_type": "code",
   "execution_count": 93,
   "id": "4f028f0f",
   "metadata": {},
   "outputs": [
    {
     "data": {
      "text/plain": [
       "<tf.Tensor: shape=(5,), dtype=float32, numpy=\n",
       "array([0.11171389, 0.06683618, 0.04929096, 0.8444772 , 0.7599809 ],\n",
       "      dtype=float32)>"
      ]
     },
     "execution_count": 93,
     "metadata": {},
     "output_type": "execute_result"
    }
   ],
   "source": [
    "bernoulli.cdf(0.1)"
   ]
  },
  {
   "cell_type": "code",
   "execution_count": 92,
   "id": "21f66804",
   "metadata": {},
   "outputs": [
    {
     "data": {
      "text/plain": [
       "<tf.Tensor: shape=(5,), dtype=float32, numpy=\n",
       "array([0.11171389, 0.06683618, 0.04929096, 0.8444772 , 0.7599809 ],\n",
       "      dtype=float32)>"
      ]
     },
     "execution_count": 92,
     "metadata": {},
     "output_type": "execute_result"
    }
   ],
   "source": [
    "bernoulli.cdf(0.95)"
   ]
  },
  {
   "cell_type": "code",
   "execution_count": 91,
   "id": "0c4094d0",
   "metadata": {},
   "outputs": [
    {
     "data": {
      "text/plain": [
       "<tf.Tensor: shape=(5,), dtype=float32, numpy=\n",
       "array([0.11171389, 0.06683618, 0.04929096, 0.8444772 , 0.7599809 ],\n",
       "      dtype=float32)>"
      ]
     },
     "execution_count": 91,
     "metadata": {},
     "output_type": "execute_result"
    }
   ],
   "source": [
    "bernoulli.cdf(0.5)"
   ]
  },
  {
   "cell_type": "code",
   "execution_count": 94,
   "id": "c62ab304",
   "metadata": {},
   "outputs": [
    {
     "data": {
      "text/plain": [
       "<tf.Tensor: shape=(5,), dtype=float32, numpy=\n",
       "array([0.1239166 , 0.07625338, 0.05715193, 0.77597594, 0.71742225],\n",
       "      dtype=float32)>"
      ]
     },
     "execution_count": 94,
     "metadata": {},
     "output_type": "execute_result"
    }
   ],
   "source": [
    "bernoulli.prob(0.05)"
   ]
  },
  {
   "cell_type": "code",
   "execution_count": 100,
   "id": "11d24ce0",
   "metadata": {},
   "outputs": [
    {
     "data": {
      "text/plain": [
       "\u001b[0;31mSignature:\u001b[0m \u001b[0mbernoulli\u001b[0m\u001b[0;34m.\u001b[0m\u001b[0mcdf\u001b[0m\u001b[0;34m(\u001b[0m\u001b[0mvalue\u001b[0m\u001b[0;34m,\u001b[0m \u001b[0mname\u001b[0m\u001b[0;34m=\u001b[0m\u001b[0;34m'cdf'\u001b[0m\u001b[0;34m,\u001b[0m \u001b[0;34m**\u001b[0m\u001b[0mkwargs\u001b[0m\u001b[0;34m)\u001b[0m\u001b[0;34m\u001b[0m\u001b[0;34m\u001b[0m\u001b[0m\n",
       "\u001b[0;31mDocstring:\u001b[0m\n",
       "Cumulative distribution function.\n",
       "\n",
       "Given random variable `X`, the cumulative distribution function `cdf` is:\n",
       "\n",
       "```none\n",
       "cdf(x) := P[X <= x]\n",
       "```\n",
       "\n",
       "Args:\n",
       "  value: `float` or `double` `Tensor`.\n",
       "  name: Python `str` prepended to names of ops created by this function.\n",
       "  **kwargs: Named arguments forwarded to subclass implementation.\n",
       "\n",
       "Returns:\n",
       "  cdf: a `Tensor` of shape `sample_shape(x) + self.batch_shape` with\n",
       "    values of type `self.dtype`.\n",
       "\u001b[0;31mFile:\u001b[0m      /opt/conda/lib/python3.7/site-packages/tensorflow_probability/python/distributions/distribution.py\n",
       "\u001b[0;31mType:\u001b[0m      method\n"
      ]
     },
     "metadata": {},
     "output_type": "display_data"
    }
   ],
   "source": [
    "bernoulli.cdf?"
   ]
  },
  {
   "cell_type": "code",
   "execution_count": 99,
   "id": "01bb4130",
   "metadata": {},
   "outputs": [
    {
     "data": {
      "text/plain": [
       "\u001b[0;31mSignature:\u001b[0m \u001b[0mbernoulli\u001b[0m\u001b[0;34m.\u001b[0m\u001b[0mquantile\u001b[0m\u001b[0;34m(\u001b[0m\u001b[0mvalue\u001b[0m\u001b[0;34m,\u001b[0m \u001b[0mname\u001b[0m\u001b[0;34m=\u001b[0m\u001b[0;34m'quantile'\u001b[0m\u001b[0;34m,\u001b[0m \u001b[0;34m**\u001b[0m\u001b[0mkwargs\u001b[0m\u001b[0;34m)\u001b[0m\u001b[0;34m\u001b[0m\u001b[0;34m\u001b[0m\u001b[0m\n",
       "\u001b[0;31mDocstring:\u001b[0m\n",
       "Quantile function. Aka 'inverse cdf' or 'percent point function'.\n",
       "\n",
       "Given random variable `X` and `p in [0, 1]`, the `quantile` is:\n",
       "\n",
       "```none\n",
       "quantile(p) := x such that P[X <= x] == p\n",
       "```\n",
       "\n",
       "Args:\n",
       "  value: `float` or `double` `Tensor`.\n",
       "  name: Python `str` prepended to names of ops created by this function.\n",
       "  **kwargs: Named arguments forwarded to subclass implementation.\n",
       "\n",
       "Returns:\n",
       "  quantile: a `Tensor` of shape `sample_shape(x) + self.batch_shape` with\n",
       "    values of type `self.dtype`.\n",
       "\u001b[0;31mFile:\u001b[0m      /opt/conda/lib/python3.7/site-packages/tensorflow_probability/python/distributions/distribution.py\n",
       "\u001b[0;31mType:\u001b[0m      method\n"
      ]
     },
     "metadata": {},
     "output_type": "display_data"
    }
   ],
   "source": [
    "bernoulli.quantile?"
   ]
  },
  {
   "cell_type": "code",
   "execution_count": 80,
   "id": "216f138e",
   "metadata": {},
   "outputs": [
    {
     "data": {
      "text/plain": [
       "\u001b[0;31mSignature:\u001b[0m \u001b[0mbernoulli\u001b[0m\u001b[0;34m.\u001b[0m\u001b[0mprob\u001b[0m\u001b[0;34m(\u001b[0m\u001b[0mvalue\u001b[0m\u001b[0;34m,\u001b[0m \u001b[0mname\u001b[0m\u001b[0;34m=\u001b[0m\u001b[0;34m'prob'\u001b[0m\u001b[0;34m,\u001b[0m \u001b[0;34m**\u001b[0m\u001b[0mkwargs\u001b[0m\u001b[0;34m)\u001b[0m\u001b[0;34m\u001b[0m\u001b[0;34m\u001b[0m\u001b[0m\n",
       "\u001b[0;31mDocstring:\u001b[0m\n",
       "Probability density/mass function.\n",
       "\n",
       "Args:\n",
       "  value: `float` or `double` `Tensor`.\n",
       "  name: Python `str` prepended to names of ops created by this function.\n",
       "  **kwargs: Named arguments forwarded to subclass implementation.\n",
       "\n",
       "Returns:\n",
       "  prob: a `Tensor` of shape `sample_shape(x) + self.batch_shape` with\n",
       "    values of type `self.dtype`.\n",
       "\u001b[0;31mFile:\u001b[0m      /opt/conda/lib/python3.7/site-packages/tensorflow_probability/python/distributions/distribution.py\n",
       "\u001b[0;31mType:\u001b[0m      method\n"
      ]
     },
     "metadata": {},
     "output_type": "display_data"
    }
   ],
   "source": [
    "bernoulli.prob?"
   ]
  },
  {
   "cell_type": "code",
   "execution_count": 78,
   "id": "258d59f3",
   "metadata": {},
   "outputs": [
    {
     "data": {
      "text/plain": [
       "<tf.Tensor: shape=(5,), dtype=float32, numpy=\n",
       "array([0.14039457, 0.19465165, 0.25647277, 0.3696385 , 0.36143744],\n",
       "      dtype=float32)>"
      ]
     },
     "execution_count": 78,
     "metadata": {},
     "output_type": "execute_result"
    }
   ],
   "source": [
    "bernoulli.prob(0.95)"
   ]
  },
  {
   "cell_type": "code",
   "execution_count": 68,
   "id": "b80d92b6",
   "metadata": {},
   "outputs": [
    {
     "name": "stdout",
     "output_type": "stream",
     "text": [
      "bernoulli.cdf(0.95) tf.Tensor([0.87247586 0.81953216 0.7577414  0.6409152  0.6495433 ], shape=(5,), dtype=float32)\n"
     ]
    },
    {
     "data": {
      "text/plain": [
       "\u001b[0;31mSignature:\u001b[0m \u001b[0mbernoulli\u001b[0m\u001b[0;34m.\u001b[0m\u001b[0mcdf\u001b[0m\u001b[0;34m(\u001b[0m\u001b[0mvalue\u001b[0m\u001b[0;34m,\u001b[0m \u001b[0mname\u001b[0m\u001b[0;34m=\u001b[0m\u001b[0;34m'cdf'\u001b[0m\u001b[0;34m,\u001b[0m \u001b[0;34m**\u001b[0m\u001b[0mkwargs\u001b[0m\u001b[0;34m)\u001b[0m\u001b[0;34m\u001b[0m\u001b[0;34m\u001b[0m\u001b[0m\n",
       "\u001b[0;31mDocstring:\u001b[0m\n",
       "Cumulative distribution function.\n",
       "\n",
       "Given random variable `X`, the cumulative distribution function `cdf` is:\n",
       "\n",
       "```none\n",
       "cdf(x) := P[X <= x]\n",
       "```\n",
       "\n",
       "Args:\n",
       "  value: `float` or `double` `Tensor`.\n",
       "  name: Python `str` prepended to names of ops created by this function.\n",
       "  **kwargs: Named arguments forwarded to subclass implementation.\n",
       "\n",
       "Returns:\n",
       "  cdf: a `Tensor` of shape `sample_shape(x) + self.batch_shape` with\n",
       "    values of type `self.dtype`.\n",
       "\u001b[0;31mFile:\u001b[0m      /opt/conda/lib/python3.7/site-packages/tensorflow_probability/python/distributions/distribution.py\n",
       "\u001b[0;31mType:\u001b[0m      method\n"
      ]
     },
     "metadata": {},
     "output_type": "display_data"
    }
   ],
   "source": [
    "features = tfd.Normal(loc=0., scale=1.).sample(int(5))\n",
    "bernoulli = tfd.Bernoulli(logits=1.618 * features)\n",
    "print(\"bernoulli.cdf(0.95)\", bernoulli.cdf(0.95))\n",
    "bernoulli.cdf?"
   ]
  },
  {
   "cell_type": "code",
   "execution_count": 65,
   "id": "07ab9711",
   "metadata": {},
   "outputs": [
    {
     "data": {
      "text/plain": [
       "<tf.Tensor: shape=(100,), dtype=float32, numpy=\n",
       "array([0.43110496, 0.5567271 , 0.88557   , 0.05961686, 0.96272886,\n",
       "       0.3849101 , 0.84136146, 0.03067887, 0.8896462 , 0.20625603,\n",
       "       0.24786615, 0.60711765, 0.3435384 , 0.28218108, 0.10468102,\n",
       "       0.8444642 , 0.01992315, 0.22752297, 0.77935624, 0.24141413,\n",
       "       0.8758018 , 0.723384  , 0.23492748, 0.36119676, 0.7137803 ,\n",
       "       0.07756138, 0.5637373 , 0.7721677 , 0.88487196, 0.39660627,\n",
       "       0.5715605 , 0.7153101 , 0.70246327, 0.8458277 , 0.5728475 ,\n",
       "       0.5862157 , 0.65055484, 0.9102088 , 0.33827293, 0.08946258,\n",
       "       0.26819146, 0.09365308, 0.08825713, 0.9648313 , 0.58598834,\n",
       "       0.74852586, 0.04141301, 0.3953362 , 0.6056563 , 0.9789175 ,\n",
       "       0.49299073, 0.34908152, 0.15568525, 0.16918254, 0.46534127,\n",
       "       0.07172453, 0.40860653, 0.26030278, 0.35145527, 0.5460242 ,\n",
       "       0.4769727 , 0.5961213 , 0.39661366, 0.61699116, 0.6963072 ,\n",
       "       0.5307225 , 0.03820926, 0.71333754, 0.46681446, 0.23030603,\n",
       "       0.26619828, 0.15406209, 0.19059515, 0.7073561 , 0.5329232 ,\n",
       "       0.0926019 , 0.4741423 , 0.77748406, 0.748438  , 0.8824121 ,\n",
       "       0.5151585 , 0.5005674 , 0.65734476, 0.4622172 , 0.17224503,\n",
       "       0.95752805, 0.09307182, 0.19642657, 0.9211247 , 0.45038575,\n",
       "       0.65551865, 0.05551815, 0.19009393, 0.7307269 , 0.8138124 ,\n",
       "       0.5224296 , 0.8085096 , 0.9749627 , 0.24397641, 0.80108106],\n",
       "      dtype=float32)>"
      ]
     },
     "execution_count": 65,
     "metadata": {},
     "output_type": "execute_result"
    }
   ],
   "source": []
  },
  {
   "cell_type": "code",
   "execution_count": null,
   "id": "d0c72fd6",
   "metadata": {},
   "outputs": [],
   "source": [
    "tfd.Bernoulli(logits=1.618 * features).cdf"
   ]
  },
  {
   "cell_type": "code",
   "execution_count": null,
   "id": "fcc9facb",
   "metadata": {},
   "outputs": [],
   "source": [
    "tfd.Bernoulli(logits=1.618 * features).cdf"
   ]
  },
  {
   "cell_type": "code",
   "execution_count": 53,
   "id": "7d75cbaa",
   "metadata": {},
   "outputs": [
    {
     "data": {
      "text/plain": [
       "\u001b[0;31mSignature:\u001b[0m \u001b[0mlabels\u001b[0m\u001b[0;34m.\u001b[0m\u001b[0mcdf\u001b[0m\u001b[0;34m(\u001b[0m\u001b[0mvalue\u001b[0m\u001b[0;34m,\u001b[0m \u001b[0mname\u001b[0m\u001b[0;34m=\u001b[0m\u001b[0;34m'cdf'\u001b[0m\u001b[0;34m,\u001b[0m \u001b[0;34m**\u001b[0m\u001b[0mkwargs\u001b[0m\u001b[0;34m)\u001b[0m\u001b[0;34m\u001b[0m\u001b[0;34m\u001b[0m\u001b[0m\n",
       "\u001b[0;31mDocstring:\u001b[0m\n",
       "Cumulative distribution function.\n",
       "\n",
       "Given random variable `X`, the cumulative distribution function `cdf` is:\n",
       "\n",
       "```none\n",
       "cdf(x) := P[X <= x]\n",
       "```\n",
       "\n",
       "Args:\n",
       "  value: `float` or `double` `Tensor`.\n",
       "  name: Python `str` prepended to names of ops created by this function.\n",
       "  **kwargs: Named arguments forwarded to subclass implementation.\n",
       "\n",
       "Returns:\n",
       "  cdf: a `Tensor` of shape `sample_shape(x) + self.batch_shape` with\n",
       "    values of type `self.dtype`.\n",
       "\u001b[0;31mFile:\u001b[0m      /opt/conda/lib/python3.7/site-packages/tensorflow_probability/python/distributions/distribution.py\n",
       "\u001b[0;31mType:\u001b[0m      method\n"
      ]
     },
     "metadata": {},
     "output_type": "display_data"
    }
   ],
   "source": [
    "labels.cdf?"
   ]
  },
  {
   "cell_type": "code",
   "execution_count": 42,
   "id": "b3a81232",
   "metadata": {},
   "outputs": [
    {
     "data": {
      "text/plain": [
       "['_parameters',\n",
       " '_probs',\n",
       " '_logits',\n",
       " '_name',\n",
       " '_name_scope',\n",
       " '_dtype',\n",
       " '_reparameterization_type',\n",
       " '_allow_nan_stats',\n",
       " '_validate_args',\n",
       " '_parameters_sanitized',\n",
       " '_self_setattr_tracking',\n",
       " '_self_unconditional_checkpoint_dependencies',\n",
       " '_self_unconditional_dependency_names',\n",
       " '_self_unconditional_deferred_dependencies',\n",
       " '_self_update_uid',\n",
       " '_self_name_based_restores',\n",
       " '_self_saveable_object_factories',\n",
       " '_graph_parents',\n",
       " '_defer_all_assertions',\n",
       " '_initial_parameter_control_dependencies',\n",
       " '_Distribution__cached_batch_shape',\n",
       " '__module__',\n",
       " '__doc__',\n",
       " '__init__',\n",
       " '_parameter_properties',\n",
       " 'logits',\n",
       " 'probs',\n",
       " '_event_shape_tensor',\n",
       " '_event_shape',\n",
       " '_sample_n',\n",
       " '_log_prob',\n",
       " '_outcome_log_probs',\n",
       " '_cdf',\n",
       " '_entropy',\n",
       " '_mean',\n",
       " '_variance',\n",
       " '_mode',\n",
       " 'logits_parameter',\n",
       " '_logits_parameter_no_checks',\n",
       " 'probs_parameter',\n",
       " '_probs_parameter_no_checks',\n",
       " '_default_event_space_bijector',\n",
       " '_parameter_control_dependencies',\n",
       " '_sample_control_dependencies',\n",
       " 'cross_entropy',\n",
       " 'kl_divergence',\n",
       " 'mode',\n",
       " '__abstractmethods__',\n",
       " '_abc_impl',\n",
       " '_composite_tensor_params',\n",
       " '_composite_tensor_nonshape_params',\n",
       " '_composite_tensor_shape_params',\n",
       " 'parameter_properties',\n",
       " 'param_shapes',\n",
       " 'param_static_shapes',\n",
       " 'name',\n",
       " 'dtype',\n",
       " 'parameters',\n",
       " '_params_event_ndims',\n",
       " '__getitem__',\n",
       " '__iter__',\n",
       " 'reparameterization_type',\n",
       " 'allow_nan_stats',\n",
       " 'validate_args',\n",
       " 'experimental_shard_axis_names',\n",
       " 'copy',\n",
       " '_batch_shape_tensor',\n",
       " 'batch_shape_tensor',\n",
       " '_batch_shape',\n",
       " 'batch_shape',\n",
       " 'event_shape_tensor',\n",
       " 'event_shape',\n",
       " 'is_scalar_event',\n",
       " 'is_scalar_batch',\n",
       " '_call_sample_n',\n",
       " 'sample',\n",
       " '_call_log_prob',\n",
       " 'log_prob',\n",
       " '_call_prob',\n",
       " 'prob',\n",
       " '_call_unnormalized_log_prob',\n",
       " 'unnormalized_log_prob',\n",
       " '_call_log_cdf',\n",
       " 'log_cdf',\n",
       " '_call_cdf',\n",
       " 'cdf',\n",
       " '_log_survival_function',\n",
       " '_call_log_survival_function',\n",
       " 'log_survival_function',\n",
       " '_survival_function',\n",
       " '_call_survival_function',\n",
       " 'survival_function',\n",
       " 'entropy',\n",
       " 'mean',\n",
       " '_quantile',\n",
       " '_call_quantile',\n",
       " 'quantile',\n",
       " 'variance',\n",
       " '_stddev',\n",
       " 'stddev',\n",
       " '_covariance',\n",
       " 'covariance',\n",
       " '_cross_entropy',\n",
       " '_kl_divergence',\n",
       " '_experimental_default_event_space_bijector',\n",
       " 'experimental_default_event_space_bijector',\n",
       " '__str__',\n",
       " '__repr__',\n",
       " '_name_and_control_scope',\n",
       " '_expand_sample_shape_to_vector',\n",
       " '_set_sample_static_shape',\n",
       " '_is_scalar_helper',\n",
       " '_TF_MODULE_IGNORED_PROPERTIES',\n",
       " 'name_scope',\n",
       " 'variables',\n",
       " 'trainable_variables',\n",
       " 'non_trainable_variables',\n",
       " 'submodules',\n",
       " '_flatten',\n",
       " 'with_name_scope',\n",
       " '_tf_api_names',\n",
       " '_tf_api_names_v1',\n",
       " '__setattr__',\n",
       " '__delattr__',\n",
       " '_no_dependency',\n",
       " '_list_functions_for_serialization',\n",
       " '_delete_tracking',\n",
       " '_setattr_tracking',\n",
       " '_update_uid',\n",
       " '_unconditional_checkpoint_dependencies',\n",
       " '_unconditional_dependency_names',\n",
       " '_name_based_restores',\n",
       " '_maybe_initialize_trackable',\n",
       " '_object_identifier',\n",
       " '_tracking_metadata',\n",
       " '_name_based_attribute_restore',\n",
       " '_checkpoint_dependencies',\n",
       " '_deferred_dependencies',\n",
       " '_lookup_dependency',\n",
       " '_add_variable_with_custom_getter',\n",
       " '_preload_simple_restoration',\n",
       " '_track_trackable',\n",
       " '_handle_deferred_dependencies',\n",
       " '_restore_from_checkpoint_position',\n",
       " '_single_restoration_from_checkpoint_position',\n",
       " '_gather_saveables_for_checkpoint',\n",
       " '_list_extra_dependencies_for_serialization',\n",
       " '_map_resources',\n",
       " '__dict__',\n",
       " '__weakref__',\n",
       " '__hash__',\n",
       " '__getattribute__',\n",
       " '__lt__',\n",
       " '__le__',\n",
       " '__eq__',\n",
       " '__ne__',\n",
       " '__gt__',\n",
       " '__ge__',\n",
       " '__new__',\n",
       " '__reduce_ex__',\n",
       " '__reduce__',\n",
       " '__subclasshook__',\n",
       " '__init_subclass__',\n",
       " '__format__',\n",
       " '__sizeof__',\n",
       " '__dir__',\n",
       " '__class__']"
      ]
     },
     "execution_count": 42,
     "metadata": {},
     "output_type": "execute_result"
    }
   ],
   "source": [
    "labels.__dir__()"
   ]
  },
  {
   "cell_type": "code",
   "execution_count": 105,
   "id": "f8aa37b0",
   "metadata": {},
   "outputs": [
    {
     "data": {
      "text/plain": [
       "<tfp.distributions.OneHotCategorical 'model_one_hot_categorical_OneHotCategorical_OneHotCategorical' batch_shape=[40] event_shape=[11] dtype=float32>"
      ]
     },
     "execution_count": 105,
     "metadata": {},
     "output_type": "execute_result"
    }
   ],
   "source": [
    "X_input = nn_model.prepare_email_to_predict(X)\n",
    "nn_model.model(X_input)"
   ]
  },
  {
   "cell_type": "code",
   "execution_count": 108,
   "id": "bc479235",
   "metadata": {},
   "outputs": [
    {
     "data": {
      "text/plain": [
       "<tf.Tensor: shape=(40,), dtype=float32, numpy=\n",
       "array([4.52391596e-12, 1.81985340e-13, 1.07441206e-15, 9.66536712e-11,\n",
       "       2.03147943e-09, 6.21834528e-10, 3.88106214e-09, 2.56384269e-19,\n",
       "       2.84721313e-08, 2.50929665e-14, 2.54012904e-11, 5.91992318e-07,\n",
       "       3.27808744e-29, 7.57826148e-15, 3.34826680e-11, 2.24422947e-09,\n",
       "       1.22682486e-08, 2.38922898e-17, 2.11296604e-15, 6.83143776e-12,\n",
       "       8.53359883e-10, 1.00269220e-24, 2.46352526e-13, 2.92819796e-10,\n",
       "       4.23993590e-14, 1.47480293e-20, 3.42559581e-08, 2.31843540e-08,\n",
       "       7.61404777e-15, 5.46089666e-07, 4.07053762e-21, 1.02651084e-14,\n",
       "       1.00367065e-19, 1.88005629e-08, 3.99538962e-08, 1.73913348e-22,\n",
       "       2.86172259e-08, 4.49943238e-09, 8.31410808e-12, 4.58630572e-23],\n",
       "      dtype=float32)>"
      ]
     },
     "execution_count": 108,
     "metadata": {},
     "output_type": "execute_result"
    }
   ],
   "source": [
    "nn_model.model(X_input).prob(0.5)"
   ]
  },
  {
   "cell_type": "code",
   "execution_count": 109,
   "id": "9bb27877",
   "metadata": {},
   "outputs": [
    {
     "data": {
      "text/plain": [
       "<tf.Tensor: shape=(40,), dtype=float32, numpy=\n",
       "array([2.78918522e-22, 6.22402873e-25, 3.62430675e-29, 9.37377937e-20,\n",
       "       3.05381947e-17, 3.22094949e-18, 1.04473335e-16, 4.75219169e-36,\n",
       "       4.60678689e-15, 1.44261459e-26, 7.39989314e-21, 1.47028147e-12,\n",
       "       0.00000000e+00, 1.48314189e-27, 1.25071348e-20, 3.69000838e-17,\n",
       "       9.30436364e-16, 2.62235363e-32, 1.31008134e-28, 6.10342212e-22,\n",
       "       5.87696440e-18, 0.00000000e+00, 1.10651409e-24, 7.70090520e-19,\n",
       "       3.90826098e-26, 2.09213623e-38, 6.54634072e-15, 3.11795242e-15,\n",
       "       1.49646885e-27, 1.26125434e-12, 0.00000000e+00, 2.63991455e-27,\n",
       "       7.99880804e-37, 2.09374940e-15, 8.76926688e-15, 0.00000000e+00,\n",
       "       4.65149879e-15, 1.38356638e-16, 8.86441762e-22, 0.00000000e+00],\n",
       "      dtype=float32)>"
      ]
     },
     "execution_count": 109,
     "metadata": {},
     "output_type": "execute_result"
    }
   ],
   "source": [
    "nn_model.model(X_input).prob(0.95)"
   ]
  },
  {
   "cell_type": "code",
   "execution_count": 121,
   "id": "824793b5",
   "metadata": {},
   "outputs": [
    {
     "data": {
      "text/plain": [
       "\u001b[0;31mSignature:\u001b[0m \u001b[0monehotcat\u001b[0m\u001b[0;34m.\u001b[0m\u001b[0mcdf\u001b[0m\u001b[0;34m(\u001b[0m\u001b[0mvalue\u001b[0m\u001b[0;34m,\u001b[0m \u001b[0mname\u001b[0m\u001b[0;34m=\u001b[0m\u001b[0;34m'cdf'\u001b[0m\u001b[0;34m,\u001b[0m \u001b[0;34m**\u001b[0m\u001b[0mkwargs\u001b[0m\u001b[0;34m)\u001b[0m\u001b[0;34m\u001b[0m\u001b[0;34m\u001b[0m\u001b[0m\n",
       "\u001b[0;31mDocstring:\u001b[0m\n",
       "Cumulative distribution function.\n",
       "\n",
       "Given random variable `X`, the cumulative distribution function `cdf` is:\n",
       "\n",
       "```none\n",
       "cdf(x) := P[X <= x]\n",
       "```\n",
       "\n",
       "Args:\n",
       "  value: `float` or `double` `Tensor`.\n",
       "  name: Python `str` prepended to names of ops created by this function.\n",
       "  **kwargs: Named arguments forwarded to subclass implementation.\n",
       "\n",
       "Returns:\n",
       "  cdf: a `Tensor` of shape `sample_shape(x) + self.batch_shape` with\n",
       "    values of type `self.dtype`.\n",
       "\u001b[0;31mFile:\u001b[0m      /opt/conda/lib/python3.7/site-packages/tensorflow_probability/python/distributions/distribution.py\n",
       "\u001b[0;31mType:\u001b[0m      method\n"
      ]
     },
     "metadata": {},
     "output_type": "display_data"
    }
   ],
   "source": [
    "onehotcat = nn_model.model(X_input)\n",
    "onehotcat.cdf?"
   ]
  },
  {
   "cell_type": "code",
   "execution_count": null,
   "id": "2a441317",
   "metadata": {},
   "outputs": [],
   "source": [
    "onehotcat = nn_model.model(X_input).prob"
   ]
  },
  {
   "cell_type": "code",
   "execution_count": 119,
   "id": "dab8b6f6",
   "metadata": {},
   "outputs": [
    {
     "data": {
      "text/plain": [
       "<tf.Tensor: shape=(40,), dtype=float32, numpy=\n",
       "array([4.52391596e-12, 1.81985340e-13, 1.07441206e-15, 9.66536712e-11,\n",
       "       2.03147943e-09, 6.21834528e-10, 3.88106214e-09, 2.56384269e-19,\n",
       "       2.84721313e-08, 2.50929665e-14, 2.54012904e-11, 5.91992318e-07,\n",
       "       3.27808744e-29, 7.57826148e-15, 3.34826680e-11, 2.24422947e-09,\n",
       "       1.22682486e-08, 2.38922898e-17, 2.11296604e-15, 6.83143776e-12,\n",
       "       8.53359883e-10, 1.00269220e-24, 2.46352526e-13, 2.92819796e-10,\n",
       "       4.23993590e-14, 1.47480293e-20, 3.42559581e-08, 2.31843540e-08,\n",
       "       7.61404777e-15, 5.46089666e-07, 4.07053762e-21, 1.02651084e-14,\n",
       "       1.00367065e-19, 1.88005629e-08, 3.99538962e-08, 1.73913348e-22,\n",
       "       2.86172259e-08, 4.49943238e-09, 8.31410808e-12, 4.58630572e-23],\n",
       "      dtype=float32)>"
      ]
     },
     "execution_count": 119,
     "metadata": {},
     "output_type": "execute_result"
    }
   ],
   "source": [
    "nn_model.model(X_input).prob(0.5)"
   ]
  },
  {
   "cell_type": "code",
   "execution_count": 120,
   "id": "94b40a05",
   "metadata": {},
   "outputs": [
    {
     "data": {
      "text/plain": [
       "<tf.Tensor: shape=(40,), dtype=float32, numpy=\n",
       "array([2.68303240e-12, 1.01213234e-13, 5.39255850e-16, 6.09428966e-11,\n",
       "       1.36134704e-09, 4.06958217e-10, 2.63469224e-09, 1.08910012e-19,\n",
       "       2.01145056e-08, 1.34135299e-14, 1.55938300e-11, 4.44387979e-07,\n",
       "       8.82945141e-30, 3.95513734e-15, 2.06688347e-11, 1.50691404e-09,\n",
       "       8.52231530e-09, 1.11128109e-17, 1.07495321e-15, 4.08509294e-12,\n",
       "       5.62023927e-10, 3.32043215e-25, 1.37844014e-13, 1.88770055e-10,\n",
       "       2.29036896e-14, 5.91708667e-21, 2.42902285e-08, 1.63116702e-08,\n",
       "       3.97417822e-15, 4.09270314e-07, 1.59163929e-21, 5.39001115e-15,\n",
       "       4.18432059e-20, 1.31721052e-08, 2.84178228e-08, 6.38472399e-23,\n",
       "       2.02190513e-08, 3.06352188e-09, 4.99128907e-12, 1.63942635e-23],\n",
       "      dtype=float32)>"
      ]
     },
     "execution_count": 120,
     "metadata": {},
     "output_type": "execute_result"
    }
   ],
   "source": [
    "nn_model.model(X_input).prob(0.51)"
   ]
  },
  {
   "cell_type": "code",
   "execution_count": 123,
   "id": "deb766d6",
   "metadata": {},
   "outputs": [
    {
     "ename": "NotImplementedError",
     "evalue": "quantile is not implemented: OneHotCategorical",
     "output_type": "error",
     "traceback": [
      "\u001b[0;31m---------------------------------------------------------------------------\u001b[0m",
      "\u001b[0;31mNotImplementedError\u001b[0m                       Traceback (most recent call last)",
      "\u001b[0;32m<ipython-input-123-ae4dbe3dd28d>\u001b[0m in \u001b[0;36m<module>\u001b[0;34m\u001b[0m\n\u001b[0;32m----> 1\u001b[0;31m \u001b[0mnn_model\u001b[0m\u001b[0;34m.\u001b[0m\u001b[0mmodel\u001b[0m\u001b[0;34m(\u001b[0m\u001b[0mX_input\u001b[0m\u001b[0;34m)\u001b[0m\u001b[0;34m.\u001b[0m\u001b[0mquantile\u001b[0m\u001b[0;34m(\u001b[0m\u001b[0;36m0.9\u001b[0m\u001b[0;34m)\u001b[0m\u001b[0;34m\u001b[0m\u001b[0;34m\u001b[0m\u001b[0m\n\u001b[0m",
      "\u001b[0;32m/opt/conda/lib/python3.7/site-packages/tensorflow_probability/python/distributions/distribution.py\u001b[0m in \u001b[0;36mquantile\u001b[0;34m(self, value, name, **kwargs)\u001b[0m\n\u001b[1;32m   1580\u001b[0m         \u001b[0mvalues\u001b[0m \u001b[0mof\u001b[0m \u001b[0mtype\u001b[0m\u001b[0;31m \u001b[0m\u001b[0;31m`\u001b[0m\u001b[0mself\u001b[0m\u001b[0;34m.\u001b[0m\u001b[0mdtype\u001b[0m\u001b[0;31m`\u001b[0m\u001b[0;34m.\u001b[0m\u001b[0;34m\u001b[0m\u001b[0;34m\u001b[0m\u001b[0m\n\u001b[1;32m   1581\u001b[0m     \"\"\"\n\u001b[0;32m-> 1582\u001b[0;31m     \u001b[0;32mreturn\u001b[0m \u001b[0mself\u001b[0m\u001b[0;34m.\u001b[0m\u001b[0m_call_quantile\u001b[0m\u001b[0;34m(\u001b[0m\u001b[0mvalue\u001b[0m\u001b[0;34m,\u001b[0m \u001b[0mname\u001b[0m\u001b[0;34m,\u001b[0m \u001b[0;34m**\u001b[0m\u001b[0mkwargs\u001b[0m\u001b[0;34m)\u001b[0m\u001b[0;34m\u001b[0m\u001b[0;34m\u001b[0m\u001b[0m\n\u001b[0m\u001b[1;32m   1583\u001b[0m \u001b[0;34m\u001b[0m\u001b[0m\n\u001b[1;32m   1584\u001b[0m   \u001b[0;32mdef\u001b[0m \u001b[0m_variance\u001b[0m\u001b[0;34m(\u001b[0m\u001b[0mself\u001b[0m\u001b[0;34m,\u001b[0m \u001b[0;34m**\u001b[0m\u001b[0mkwargs\u001b[0m\u001b[0;34m)\u001b[0m\u001b[0;34m:\u001b[0m\u001b[0;34m\u001b[0m\u001b[0;34m\u001b[0m\u001b[0m\n",
      "\u001b[0;32m/opt/conda/lib/python3.7/site-packages/tensorflow_probability/python/distributions/distribution.py\u001b[0m in \u001b[0;36m_call_quantile\u001b[0;34m(self, value, name, **kwargs)\u001b[0m\n\u001b[1;32m   1560\u001b[0m                                              message='`value` must be >= 0')\n\u001b[1;32m   1561\u001b[0m         ], value)\n\u001b[0;32m-> 1562\u001b[0;31m       \u001b[0;32mreturn\u001b[0m \u001b[0mself\u001b[0m\u001b[0;34m.\u001b[0m\u001b[0m_quantile\u001b[0m\u001b[0;34m(\u001b[0m\u001b[0mvalue\u001b[0m\u001b[0;34m,\u001b[0m \u001b[0;34m**\u001b[0m\u001b[0mkwargs\u001b[0m\u001b[0;34m)\u001b[0m\u001b[0;34m\u001b[0m\u001b[0;34m\u001b[0m\u001b[0m\n\u001b[0m\u001b[1;32m   1563\u001b[0m \u001b[0;34m\u001b[0m\u001b[0m\n\u001b[1;32m   1564\u001b[0m   \u001b[0;32mdef\u001b[0m \u001b[0mquantile\u001b[0m\u001b[0;34m(\u001b[0m\u001b[0mself\u001b[0m\u001b[0;34m,\u001b[0m \u001b[0mvalue\u001b[0m\u001b[0;34m,\u001b[0m \u001b[0mname\u001b[0m\u001b[0;34m=\u001b[0m\u001b[0;34m'quantile'\u001b[0m\u001b[0;34m,\u001b[0m \u001b[0;34m**\u001b[0m\u001b[0mkwargs\u001b[0m\u001b[0;34m)\u001b[0m\u001b[0;34m:\u001b[0m\u001b[0;34m\u001b[0m\u001b[0;34m\u001b[0m\u001b[0m\n",
      "\u001b[0;32m/opt/conda/lib/python3.7/site-packages/tensorflow_probability/python/distributions/distribution.py\u001b[0m in \u001b[0;36m_quantile\u001b[0;34m(self, value, **kwargs)\u001b[0m\n\u001b[1;32m   1547\u001b[0m   \u001b[0;32mdef\u001b[0m \u001b[0m_quantile\u001b[0m\u001b[0;34m(\u001b[0m\u001b[0mself\u001b[0m\u001b[0;34m,\u001b[0m \u001b[0mvalue\u001b[0m\u001b[0;34m,\u001b[0m \u001b[0;34m**\u001b[0m\u001b[0mkwargs\u001b[0m\u001b[0;34m)\u001b[0m\u001b[0;34m:\u001b[0m\u001b[0;34m\u001b[0m\u001b[0;34m\u001b[0m\u001b[0m\n\u001b[1;32m   1548\u001b[0m     raise NotImplementedError('quantile is not implemented: {}'.format(\n\u001b[0;32m-> 1549\u001b[0;31m         type(self).__name__))\n\u001b[0m\u001b[1;32m   1550\u001b[0m \u001b[0;34m\u001b[0m\u001b[0m\n\u001b[1;32m   1551\u001b[0m   \u001b[0;32mdef\u001b[0m \u001b[0m_call_quantile\u001b[0m\u001b[0;34m(\u001b[0m\u001b[0mself\u001b[0m\u001b[0;34m,\u001b[0m \u001b[0mvalue\u001b[0m\u001b[0;34m,\u001b[0m \u001b[0mname\u001b[0m\u001b[0;34m,\u001b[0m \u001b[0;34m**\u001b[0m\u001b[0mkwargs\u001b[0m\u001b[0;34m)\u001b[0m\u001b[0;34m:\u001b[0m\u001b[0;34m\u001b[0m\u001b[0;34m\u001b[0m\u001b[0m\n",
      "\u001b[0;31mNotImplementedError\u001b[0m: quantile is not implemented: OneHotCategorical"
     ]
    }
   ],
   "source": [
    "nn_model.model(X_input).quantile(0.9)"
   ]
  },
  {
   "cell_type": "code",
   "execution_count": 124,
   "id": "f979b1c4",
   "metadata": {},
   "outputs": [
    {
     "data": {
      "text/plain": [
       "['_TF_MODULE_IGNORED_PROPERTIES',\n",
       " '__abs__',\n",
       " '__abstractmethods__',\n",
       " '__add__',\n",
       " '__and__',\n",
       " '__array_priority__',\n",
       " '__bool__',\n",
       " '__class__',\n",
       " '__delattr__',\n",
       " '__dict__',\n",
       " '__dir__',\n",
       " '__div__',\n",
       " '__doc__',\n",
       " '__eq__',\n",
       " '__floordiv__',\n",
       " '__format__',\n",
       " '__ge__',\n",
       " '__getattribute__',\n",
       " '__getitem__',\n",
       " '__gt__',\n",
       " '__hash__',\n",
       " '__init__',\n",
       " '__init_subclass__',\n",
       " '__invert__',\n",
       " '__iter__',\n",
       " '__le__',\n",
       " '__lt__',\n",
       " '__matmul__',\n",
       " '__mod__',\n",
       " '__module__',\n",
       " '__mul__',\n",
       " '__ne__',\n",
       " '__neg__',\n",
       " '__new__',\n",
       " '__nonzero__',\n",
       " '__or__',\n",
       " '__pow__',\n",
       " '__radd__',\n",
       " '__rand__',\n",
       " '__rdiv__',\n",
       " '__reduce__',\n",
       " '__reduce_ex__',\n",
       " '__repr__',\n",
       " '__rfloordiv__',\n",
       " '__rmatmul__',\n",
       " '__rmod__',\n",
       " '__rmul__',\n",
       " '__ror__',\n",
       " '__rpow__',\n",
       " '__rsub__',\n",
       " '__rtruediv__',\n",
       " '__rxor__',\n",
       " '__setattr__',\n",
       " '__sizeof__',\n",
       " '__slotnames__',\n",
       " '__str__',\n",
       " '__sub__',\n",
       " '__subclasshook__',\n",
       " '__truediv__',\n",
       " '__weakref__',\n",
       " '__xor__',\n",
       " '_abc_impl',\n",
       " '_add_variable_with_custom_getter',\n",
       " '_allow_nan_stats',\n",
       " '_batch_shape',\n",
       " '_batch_shape_tensor',\n",
       " '_call_cdf',\n",
       " '_call_log_cdf',\n",
       " '_call_log_prob',\n",
       " '_call_log_survival_function',\n",
       " '_call_prob',\n",
       " '_call_quantile',\n",
       " '_call_sample_n',\n",
       " '_call_survival_function',\n",
       " '_call_unnormalized_log_prob',\n",
       " '_checkpoint_dependencies',\n",
       " '_composite_tensor_nonshape_params',\n",
       " '_composite_tensor_params',\n",
       " '_composite_tensor_shape_params',\n",
       " '_concrete_value',\n",
       " '_convert_to_tensor_fn',\n",
       " '_covariance',\n",
       " '_cross_entropy',\n",
       " '_default_event_space_bijector',\n",
       " '_defer_all_assertions',\n",
       " '_deferred_dependencies',\n",
       " '_delete_tracking',\n",
       " '_disallow_bool_casting',\n",
       " '_disallow_in_graph_mode',\n",
       " '_disallow_iteration',\n",
       " '_disallow_when_autograph_disabled',\n",
       " '_disallow_when_autograph_enabled',\n",
       " '_dtype',\n",
       " '_entropy',\n",
       " '_event_shape',\n",
       " '_event_shape_tensor',\n",
       " '_event_size',\n",
       " '_expand_sample_shape_to_vector',\n",
       " '_experimental_default_event_space_bijector',\n",
       " '_flatten',\n",
       " '_gather_saveables_for_checkpoint',\n",
       " '_graph_parents',\n",
       " '_handle_deferred_dependencies',\n",
       " '_initial_parameter_control_dependencies',\n",
       " '_is_scalar_helper',\n",
       " '_kl_divergence',\n",
       " '_list_extra_dependencies_for_serialization',\n",
       " '_list_functions_for_serialization',\n",
       " '_log_prob',\n",
       " '_log_survival_function',\n",
       " '_logits',\n",
       " '_logits_parameter_no_checks',\n",
       " '_lookup_dependency',\n",
       " '_map_resources',\n",
       " '_maybe_initialize_trackable',\n",
       " '_mean',\n",
       " '_mode',\n",
       " '_name',\n",
       " '_name_and_control_scope',\n",
       " '_name_based_attribute_restore',\n",
       " '_name_based_restores',\n",
       " '_name_scope',\n",
       " '_no_dependency',\n",
       " '_object_identifier',\n",
       " '_parameter_control_dependencies',\n",
       " '_parameter_properties',\n",
       " '_parameters',\n",
       " '_parameters_sanitized',\n",
       " '_params_event_ndims',\n",
       " '_preload_simple_restoration',\n",
       " '_probs',\n",
       " '_probs_parameter_no_checks',\n",
       " '_quantile',\n",
       " '_reparameterization_type',\n",
       " '_restore_from_checkpoint_position',\n",
       " '_sample_control_dependencies',\n",
       " '_sample_n',\n",
       " '_self_name_based_restores',\n",
       " '_self_saveable_object_factories',\n",
       " '_self_setattr_tracking',\n",
       " '_self_unconditional_checkpoint_dependencies',\n",
       " '_self_unconditional_deferred_dependencies',\n",
       " '_self_unconditional_dependency_names',\n",
       " '_self_update_uid',\n",
       " '_set_sample_static_shape',\n",
       " '_setattr_tracking',\n",
       " '_single_restoration_from_checkpoint_position',\n",
       " '_stddev',\n",
       " '_survival_function',\n",
       " '_tf_api_names',\n",
       " '_tf_api_names_v1',\n",
       " '_track_trackable',\n",
       " '_tracking_metadata',\n",
       " '_unconditional_checkpoint_dependencies',\n",
       " '_unconditional_dependency_names',\n",
       " '_update_uid',\n",
       " '_validate_args',\n",
       " '_value',\n",
       " '_variance',\n",
       " 'allow_nan_stats',\n",
       " 'batch_shape',\n",
       " 'batch_shape_tensor',\n",
       " 'cdf',\n",
       " 'copy',\n",
       " 'covariance',\n",
       " 'cross_entropy',\n",
       " 'dtype',\n",
       " 'entropy',\n",
       " 'event_shape',\n",
       " 'event_shape_tensor',\n",
       " 'experimental_default_event_space_bijector',\n",
       " 'experimental_shard_axis_names',\n",
       " 'get_shape',\n",
       " 'is_scalar_batch',\n",
       " 'is_scalar_event',\n",
       " 'kl_divergence',\n",
       " 'log_cdf',\n",
       " 'log_prob',\n",
       " 'log_survival_function',\n",
       " 'logits',\n",
       " 'logits_parameter',\n",
       " 'mean',\n",
       " 'mode',\n",
       " 'name',\n",
       " 'name_scope',\n",
       " 'non_trainable_variables',\n",
       " 'param_shapes',\n",
       " 'param_static_shapes',\n",
       " 'parameter_properties',\n",
       " 'parameters',\n",
       " 'prob',\n",
       " 'probs',\n",
       " 'probs_parameter',\n",
       " 'quantile',\n",
       " 'registered_class_list',\n",
       " 'reparameterization_type',\n",
       " 'sample',\n",
       " 'shape',\n",
       " 'stddev',\n",
       " 'submodules',\n",
       " 'survival_function',\n",
       " 'trainable_variables',\n",
       " 'unnormalized_log_prob',\n",
       " 'validate_args',\n",
       " 'variables',\n",
       " 'variance',\n",
       " 'with_name_scope']"
      ]
     },
     "execution_count": 124,
     "metadata": {},
     "output_type": "execute_result"
    }
   ],
   "source": [
    "dir(nn_model.model(X_input))"
   ]
  },
  {
   "cell_type": "code",
   "execution_count": 136,
   "id": "77887349",
   "metadata": {},
   "outputs": [
    {
     "data": {
      "text/plain": [
       "<tf.Tensor: shape=(40,), dtype=float32, numpy=\n",
       "array([4.52391596e-12, 1.81985340e-13, 1.07441206e-15, 9.66536712e-11,\n",
       "       2.03147943e-09, 6.21834528e-10, 3.88106214e-09, 2.56384269e-19,\n",
       "       2.84721313e-08, 2.50929665e-14, 2.54012904e-11, 5.91992318e-07,\n",
       "       3.27808744e-29, 7.57826148e-15, 3.34826680e-11, 2.24422947e-09,\n",
       "       1.22682486e-08, 2.38922898e-17, 2.11296604e-15, 6.83143776e-12,\n",
       "       8.53359883e-10, 1.00269220e-24, 2.46352526e-13, 2.92819796e-10,\n",
       "       4.23993590e-14, 1.47480293e-20, 3.42559581e-08, 2.31843540e-08,\n",
       "       7.61404777e-15, 5.46089666e-07, 4.07053762e-21, 1.02651084e-14,\n",
       "       1.00367065e-19, 1.88005629e-08, 3.99538962e-08, 1.73913348e-22,\n",
       "       2.86172259e-08, 4.49943238e-09, 8.31410808e-12, 4.58630572e-23],\n",
       "      dtype=float32)>"
      ]
     },
     "execution_count": 136,
     "metadata": {},
     "output_type": "execute_result"
    }
   ],
   "source": [
    "nn_model.model(X_input).prob(0.5)"
   ]
  },
  {
   "cell_type": "code",
   "execution_count": 138,
   "id": "bb882536",
   "metadata": {},
   "outputs": [
    {
     "data": {
      "text/plain": [
       "<bound method Distribution.variance of <tfp.distributions.OneHotCategorical 'model_one_hot_categorical_OneHotCategorical_OneHotCategorical' batch_shape=[40] event_shape=[11] dtype=float32>>"
      ]
     },
     "execution_count": 138,
     "metadata": {},
     "output_type": "execute_result"
    }
   ],
   "source": [
    "nn_model.model(X_input).variance"
   ]
  },
  {
   "cell_type": "code",
   "execution_count": null,
   "id": "ad1863ca",
   "metadata": {},
   "outputs": [],
   "source": []
  },
  {
   "cell_type": "code",
   "execution_count": 128,
   "id": "d3a1d04c",
   "metadata": {},
   "outputs": [
    {
     "data": {
      "text/plain": [
       "<tf.Tensor: shape=(40, 11, 11), dtype=float32, numpy=\n",
       "array([[[ 3.89816146e-03, -1.17768313e-05, -3.67349385e-05, ...,\n",
       "         -1.19004517e-05, -1.56177921e-05, -1.76165358e-03],\n",
       "        [-1.17768313e-05,  3.00024566e-03, -2.82476485e-05, ...,\n",
       "         -9.15095552e-06, -1.20094355e-05, -1.35463872e-03],\n",
       "        [-3.67349385e-05, -2.82476485e-05,  9.29866731e-03, ...,\n",
       "         -2.85441620e-05, -3.74604897e-05, -4.22546314e-03],\n",
       "        ...,\n",
       "        [-1.19004517e-05, -9.15095552e-06, -2.85441620e-05, ...,\n",
       "          3.03164287e-03, -1.21354979e-05, -1.36885815e-03],\n",
       "        [-1.56177921e-05, -1.20094355e-05, -3.74604897e-05, ...,\n",
       "         -1.21354979e-05,  3.97484563e-03, -1.79644790e-03],\n",
       "        [-1.76165358e-03, -1.35463872e-03, -4.22546314e-03, ...,\n",
       "         -1.36885815e-03, -1.79644790e-03,  2.47515038e-01]],\n",
       "\n",
       "       [[ 2.99727097e-02, -4.81291718e-05, -4.52161075e-05, ...,\n",
       "         -2.34159979e-05, -3.91967740e-04, -2.79702414e-02],\n",
       "        [-4.81291718e-05,  1.55367982e-03, -2.27489045e-06, ...,\n",
       "         -1.17809407e-06, -1.97204863e-05, -1.40722492e-03],\n",
       "        [-4.52161075e-05, -2.27489045e-06,  1.45977957e-03, ...,\n",
       "         -1.10678877e-06, -1.85268855e-05, -1.32205128e-03],\n",
       "        ...,\n",
       "        [-2.34159979e-05, -1.17809407e-06, -1.10678877e-06, ...,\n",
       "          7.56507448e-04, -9.59449062e-06, -6.84648694e-04],\n",
       "        [-3.91967740e-04, -1.97204863e-05, -1.85268855e-05, ...,\n",
       "         -9.59449062e-06,  1.25124045e-02, -1.14605492e-02],\n",
       "        [-2.79702414e-02, -1.40722492e-03, -1.32205128e-03, ...,\n",
       "         -6.84648694e-04, -1.14605492e-02,  8.65194052e-02]],\n",
       "\n",
       "       [[ 9.72153444e-04, -9.18098692e-07, -2.10607232e-06, ...,\n",
       "         -6.20405842e-07, -7.26713733e-06, -1.48164872e-06],\n",
       "        [-9.18098692e-07,  9.42587736e-04, -2.04196067e-06, ...,\n",
       "         -6.01519844e-07, -7.04591594e-06, -1.43654529e-06],\n",
       "        [-2.10607232e-06, -2.04196067e-06,  2.15960690e-03, ...,\n",
       "         -1.37985637e-06, -1.61629778e-05, -3.29536306e-06],\n",
       "        ...,\n",
       "        [-6.20405842e-07, -6.01519844e-07, -1.37985637e-06, ...,\n",
       "          6.37149380e-04, -4.76128253e-06, -9.70746555e-07],\n",
       "        [-7.26713733e-06, -7.04591594e-06, -1.61629778e-05, ...,\n",
       "         -4.76128253e-06,  7.41225295e-03, -1.13708602e-05],\n",
       "        [-1.48164872e-06, -1.43654529e-06, -3.29536306e-06, ...,\n",
       "         -9.70746555e-07, -1.13708602e-05,  1.52028794e-03]],\n",
       "\n",
       "       ...,\n",
       "\n",
       "       [[ 2.43106093e-02, -5.96810365e-04, -4.77710943e-04, ...,\n",
       "         -4.12753288e-04, -5.53919817e-04, -4.56759986e-03],\n",
       "        [-5.96810365e-04,  2.33643148e-02, -4.58647992e-04, ...,\n",
       "         -3.96282470e-04, -5.31815749e-04, -4.38533071e-03],\n",
       "        [-4.77710943e-04, -4.58647992e-04,  1.87932625e-02, ...,\n",
       "         -3.17200378e-04, -4.25686681e-04, -3.51019460e-03],\n",
       "        ...,\n",
       "        [-4.12753288e-04, -3.96282470e-04, -3.17200378e-04, ...,\n",
       "          1.62809454e-02, -3.67803121e-04, -3.03288922e-03],\n",
       "        [-5.53919817e-04, -5.31815749e-04, -4.25686681e-04, ...,\n",
       "         -3.67803121e-04,  2.17234269e-02, -4.07017348e-03],\n",
       "        [-4.56759986e-03, -4.38533071e-03, -3.51019460e-03, ...,\n",
       "         -3.03288922e-03, -4.07017348e-03,  1.49638176e-01]],\n",
       "\n",
       "       [[ 4.70712548e-03, -3.23990971e-05, -3.99334385e-05, ...,\n",
       "         -2.17411380e-05, -1.87210517e-05, -2.14961503e-04],\n",
       "        [-3.23990971e-05,  6.80350838e-03, -5.78416038e-05, ...,\n",
       "         -3.14909594e-05, -2.71165154e-05, -3.11361073e-04],\n",
       "        [-3.99334385e-05, -5.78416038e-05,  8.37219879e-03, ...,\n",
       "         -3.88141161e-05, -3.34224060e-05, -3.83767445e-04],\n",
       "        ...,\n",
       "        [-2.17411380e-05, -3.14909594e-05, -3.88141161e-05, ...,\n",
       "          4.57579549e-03, -1.81963078e-05, -2.08936195e-04],\n",
       "        [-1.87210517e-05, -2.71165154e-05, -3.34224060e-05, ...,\n",
       "         -1.81963078e-05,  3.94269451e-03, -1.79912633e-04],\n",
       "        [-2.14961503e-04, -3.11361073e-04, -3.83767445e-04, ...,\n",
       "         -2.08936195e-04, -1.79912633e-04,  4.33854535e-02]],\n",
       "\n",
       "       [[ 5.01158356e-05, -4.79651763e-10, -1.45124854e-08, ...,\n",
       "         -8.02021560e-10, -4.33447678e-09, -5.00637761e-05],\n",
       "        [-4.79651763e-10,  9.57029079e-06, -2.77124124e-09, ...,\n",
       "         -1.53150562e-10, -8.27692859e-10, -9.55996165e-06],\n",
       "        [-1.45124854e-08, -2.77124124e-09,  2.89480464e-04, ...,\n",
       "         -4.63376848e-09, -2.50429188e-08, -2.89249030e-04],\n",
       "        ...,\n",
       "        [-8.02021560e-10, -1.53150562e-10, -4.63376848e-09, ...,\n",
       "          1.60022973e-05, -1.38397804e-09, -1.59851297e-05],\n",
       "        [-4.33447678e-09, -8.27692859e-10, -2.50429188e-08, ...,\n",
       "         -1.38397804e-09,  8.64773465e-05, -8.63906535e-05],\n",
       "        [-5.00637761e-05, -9.55996165e-06, -2.89249030e-04, ...,\n",
       "         -1.59851297e-05, -8.63906535e-05,  1.08767208e-03]]],\n",
       "      dtype=float32)>"
      ]
     },
     "execution_count": 128,
     "metadata": {},
     "output_type": "execute_result"
    }
   ],
   "source": [
    "nn_model.model(X_input).covariance()"
   ]
  },
  {
   "cell_type": "code",
   "execution_count": 140,
   "id": "d6e8017d",
   "metadata": {},
   "outputs": [
    {
     "data": {
      "text/plain": [
       "11"
      ]
     },
     "execution_count": 140,
     "metadata": {},
     "output_type": "execute_result"
    }
   ],
   "source": [
    "from tensorflow_probability import layers as tfpl\n",
    "tfpl.OneHotCategorical.params_size(ntargets)"
   ]
  },
  {
   "cell_type": "code",
   "execution_count": null,
   "id": "ff12b02a",
   "metadata": {},
   "outputs": [],
   "source": []
  }
 ],
 "metadata": {
  "environment": {
   "name": "tf2-gpu.2-5.m76",
   "type": "gcloud",
   "uri": "gcr.io/deeplearning-platform-release/tf2-gpu.2-5:m76"
  },
  "kernelspec": {
   "display_name": "melusine-fork",
   "language": "python",
   "name": "melusine-fork"
  },
  "language_info": {
   "codemirror_mode": {
    "name": "ipython",
    "version": 3
   },
   "file_extension": ".py",
   "mimetype": "text/x-python",
   "name": "python",
   "nbconvert_exporter": "python",
   "pygments_lexer": "ipython3",
   "version": "3.7.10"
  }
 },
 "nbformat": 4,
 "nbformat_minor": 5
}
